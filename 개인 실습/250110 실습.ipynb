{
 "cells": [
  {
   "cell_type": "code",
   "execution_count": 1,
   "id": "e174a59b-1097-4208-813b-e7bf288dc3f9",
   "metadata": {},
   "outputs": [
    {
     "name": "stdout",
     "output_type": "stream",
     "text": [
      "Overwriting my_first_module.py\n"
     ]
    }
   ],
   "source": [
    "%%writefile my_first_module.py\n",
    "\n",
    "def my_function():\n",
    "    print(\"This is my first module.\")"
   ]
  },
  {
   "cell_type": "code",
   "execution_count": 2,
   "id": "e3e3fcc6-057c-41a8-af81-181162a2ee82",
   "metadata": {},
   "outputs": [
    {
     "name": "stdout",
     "output_type": "stream",
     "text": [
      "\n",
      "def my_function():\n",
      "    print(\"This is my first module.\")\n"
     ]
    }
   ],
   "source": [
    "!type my_first_module.py"
   ]
  },
  {
   "cell_type": "code",
   "execution_count": 3,
   "id": "ad3988ce-618d-40ce-a4e5-5f6fe61a1d0b",
   "metadata": {},
   "outputs": [
    {
     "name": "stdout",
     "output_type": "stream",
     "text": [
      "This is my first module.\n"
     ]
    }
   ],
   "source": [
    "import my_first_module\n",
    "my_first_module.my_function()"
   ]
  },
  {
   "cell_type": "code",
   "execution_count": 4,
   "id": "6190257c-74ab-4778-836a-4877c686f0eb",
   "metadata": {},
   "outputs": [
    {
     "name": "stdout",
     "output_type": "stream",
     "text": [
      "Overwriting my_area.py\n"
     ]
    }
   ],
   "source": [
    "%%writefile my_area.py\n",
    "\n",
    "PI = 3.14\n",
    "def square_area(a):\n",
    "    return a ** 2\n",
    "\n",
    "def circle_area(r):\n",
    "    return PI * r ** 2"
   ]
  },
  {
   "cell_type": "code",
   "execution_count": 5,
   "id": "679361e2-97dd-4e9b-96be-e6b967fee241",
   "metadata": {},
   "outputs": [
    {
     "name": "stdout",
     "output_type": "stream",
     "text": [
      "pi =  3.14\n",
      "square area = 25\n",
      "circle area = 12.56\n"
     ]
    }
   ],
   "source": [
    "import my_area\n",
    "print('pi = ', my_area.PI)\n",
    "print('square area =', my_area.square_area(5))\n",
    "print('circle area =', my_area.circle_area(2))"
   ]
  },
  {
   "cell_type": "code",
   "execution_count": 6,
   "id": "e51be087-f3f9-4282-93ce-401d2aa06285",
   "metadata": {},
   "outputs": [
    {
     "data": {
      "text/plain": [
       "['PI',\n",
       " '__builtins__',\n",
       " '__cached__',\n",
       " '__doc__',\n",
       " '__file__',\n",
       " '__loader__',\n",
       " '__name__',\n",
       " '__package__',\n",
       " '__spec__',\n",
       " 'circle_area',\n",
       " 'square_area']"
      ]
     },
     "execution_count": 6,
     "metadata": {},
     "output_type": "execute_result"
    }
   ],
   "source": [
    "dir(my_area)"
   ]
  },
  {
   "cell_type": "code",
   "execution_count": 7,
   "id": "9306cec1-fd7b-4e44-a23a-cf2a82b0c83f",
   "metadata": {},
   "outputs": [
    {
     "name": "stdout",
     "output_type": "stream",
     "text": [
      "pi = 3.14\n"
     ]
    }
   ],
   "source": [
    "from my_area import PI\n",
    "print('pi =', PI)"
   ]
  },
  {
   "cell_type": "code",
   "execution_count": 8,
   "id": "1aedcfd4-5935-4633-b6c2-e3b7d6b531e7",
   "metadata": {},
   "outputs": [
    {
     "name": "stdout",
     "output_type": "stream",
     "text": [
      "square area = 25\n",
      "circle area = 12.56\n"
     ]
    }
   ],
   "source": [
    "from my_area import square_area\n",
    "from my_area import circle_area\n",
    "print('square area =', square_area(5))\n",
    "print('circle area =', circle_area(2))"
   ]
  },
  {
   "cell_type": "code",
   "execution_count": 9,
   "id": "a74cdd84-4715-4264-9337-ab746183fe7e",
   "metadata": {},
   "outputs": [
    {
     "name": "stdout",
     "output_type": "stream",
     "text": [
      "pi = 3.14\n",
      "square area = 25\n",
      "circle area = 12.56\n"
     ]
    }
   ],
   "source": [
    "from my_area import PI, square_area, circle_area\n",
    "print('pi =', PI)\n",
    "print('square area =', square_area(5))\n",
    "print('circle area =', circle_area(2))"
   ]
  },
  {
   "cell_type": "code",
   "execution_count": 10,
   "id": "197fe6a8-e14a-422c-a57b-f1ef3a9e5ef0",
   "metadata": {},
   "outputs": [
    {
     "name": "stdout",
     "output_type": "stream",
     "text": [
      "pi = 3.14\n",
      "square area = 25\n",
      "circle area = 12.56\n"
     ]
    }
   ],
   "source": [
    "from my_area import *\n",
    "print('pi =', PI)\n",
    "print('square area =', square_area(5))\n",
    "print('circle area =', circle_area(2))"
   ]
  },
  {
   "cell_type": "code",
   "execution_count": 11,
   "id": "7215c3b6-dfa6-4494-831e-750aa765c0c5",
   "metadata": {},
   "outputs": [
    {
     "name": "stdout",
     "output_type": "stream",
     "text": [
      "Overwriting my_module1.py\n"
     ]
    }
   ],
   "source": [
    "%%writefile my_module1.py\n",
    "# File name: my_module1.py\n",
    "def func1():\n",
    "    print(\"func1 in my_module1 \")\n",
    "def func2():\n",
    "    print(\"func2 in my_module1 \")"
   ]
  },
  {
   "cell_type": "code",
   "execution_count": 12,
   "id": "86762709-7e51-40b1-9e2c-20d5d77ba389",
   "metadata": {},
   "outputs": [
    {
     "name": "stdout",
     "output_type": "stream",
     "text": [
      "Overwriting my_module2.py\n"
     ]
    }
   ],
   "source": [
    "%%writefile my_module2.py\n",
    "# File name: my_module2.py\n",
    "def func2():\n",
    "    print(\"func2 in my_module2 \")\n",
    "def func3():\n",
    "    print(\"func3 in my_module2 \")\n"
   ]
  },
  {
   "cell_type": "code",
   "execution_count": 13,
   "id": "5424cec4-5ea2-4c66-a5a5-b15b048b21e4",
   "metadata": {},
   "outputs": [
    {
     "name": "stdout",
     "output_type": "stream",
     "text": [
      "func1 in my_module1 \n",
      "func2 in my_module2 \n",
      "func3 in my_module2 \n"
     ]
    }
   ],
   "source": [
    "from my_module1 import *\n",
    "from my_module2 import *\n",
    "func1()\n",
    "func2()\n",
    "func3()"
   ]
  },
  {
   "cell_type": "code",
   "execution_count": 14,
   "id": "67acff4f-a846-4fb9-8fdf-411f5382bd2f",
   "metadata": {},
   "outputs": [
    {
     "name": "stdout",
     "output_type": "stream",
     "text": [
      "func1 in my_module1 \n",
      "func2 in my_module1 \n",
      "func3 in my_module2 \n"
     ]
    }
   ],
   "source": [
    "from my_module2 import *\n",
    "from my_module1 import *\n",
    "func1()\n",
    "func2()\n",
    "func3()"
   ]
  },
  {
   "cell_type": "code",
   "execution_count": 15,
   "id": "0759e10e-6053-4ab0-b909-ae641e10a1d0",
   "metadata": {},
   "outputs": [
    {
     "name": "stdout",
     "output_type": "stream",
     "text": [
      "pi = 3.14\n",
      "square area = 25\n",
      "circle area = 12.56\n"
     ]
    }
   ],
   "source": [
    "import my_area as area # 모듈명(my_area)에 별명(area)을 붙임\n",
    "print('pi =', area.PI) # 모듈명 대신 별명 이용 \n",
    "print('square area =', area.square_area(5)) \n",
    "print('circle area =', area.circle_area(2))"
   ]
  },
  {
   "cell_type": "code",
   "execution_count": 16,
   "id": "a1303a7c-2e6c-46ea-b37f-919de5b848bb",
   "metadata": {},
   "outputs": [
    {
     "name": "stdout",
     "output_type": "stream",
     "text": [
      "pi = 3.14\n",
      "square area = 25\n",
      "circle area = 12.56\n"
     ]
    }
   ],
   "source": [
    "from my_area import PI as pi\n",
    "from my_area import square_area as square \n",
    "from my_area import circle_area as circle\n",
    "print('pi =', pi) # 모듈 변수의 별명 이용\n",
    "print('square area =', square(5)) # 모듈 함수의 별명 이용 \n",
    "print('circle area =', circle(2))\n"
   ]
  },
  {
   "cell_type": "code",
   "execution_count": 17,
   "id": "04e65778-1519-4986-b875-f48fbe419584",
   "metadata": {},
   "outputs": [
    {
     "name": "stdout",
     "output_type": "stream",
     "text": [
      "Overwriting my_module_test1.py\n"
     ]
    }
   ],
   "source": [
    "%%writefile my_module_test1.py \n",
    "# File name: my_module_test1.py\n",
    "def func(a):\n",
    "    print(\"입력 숫자:\", a)\n",
    "func(3)\n"
   ]
  },
  {
   "cell_type": "code",
   "execution_count": 18,
   "id": "47fede50-fefb-481d-bca4-41120d3d9d30",
   "metadata": {},
   "outputs": [
    {
     "name": "stdout",
     "output_type": "stream",
     "text": [
      "입력 숫자: 3\n"
     ]
    }
   ],
   "source": [
    "%run my_module_test1.py"
   ]
  },
  {
   "cell_type": "code",
   "execution_count": 19,
   "id": "d21ba13c-00fb-4f8f-8468-869518aa7570",
   "metadata": {},
   "outputs": [
    {
     "name": "stdout",
     "output_type": "stream",
     "text": [
      "입력 숫자: 3\n"
     ]
    }
   ],
   "source": [
    "import my_module_test1"
   ]
  },
  {
   "cell_type": "code",
   "execution_count": 20,
   "id": "738a20b4-27b5-47a3-97fb-d6b2190486e5",
   "metadata": {},
   "outputs": [
    {
     "name": "stdout",
     "output_type": "stream",
     "text": [
      "Overwriting my_module_test2.py\n"
     ]
    }
   ],
   "source": [
    "%%writefile my_module_test2.py \n",
    "# File name: my_module_test2.py\n",
    "def func(a):\n",
    "    print(\"입력 숫자:\",a)\n",
    "if __name__ == \"__main__\":\n",
    "    print(\"모듈을 직접 실행\") \n",
    "    func(3)\n",
    "    func(4)"
   ]
  },
  {
   "cell_type": "code",
   "execution_count": 21,
   "id": "d4ed10e8-aee5-4c48-bdfd-c211537622be",
   "metadata": {},
   "outputs": [
    {
     "name": "stdout",
     "output_type": "stream",
     "text": [
      "모듈을 직접 실행\n",
      "입력 숫자: 3\n",
      "입력 숫자: 4\n"
     ]
    }
   ],
   "source": [
    "%run my_module_test2.py"
   ]
  },
  {
   "cell_type": "code",
   "execution_count": 22,
   "id": "5290d1e0-3503-48c6-920f-556b122ba77c",
   "metadata": {},
   "outputs": [],
   "source": [
    "import my_module_test2"
   ]
  },
  {
   "cell_type": "code",
   "execution_count": 23,
   "id": "ebba4a8d-79f8-4f93-9fbd-293dd98ae8fb",
   "metadata": {},
   "outputs": [
    {
     "name": "stdout",
     "output_type": "stream",
     "text": [
      "Overwriting my_module_test3.py\n"
     ]
    }
   ],
   "source": [
    "%%writefile my_module_test3.py \n",
    "# File name: my_module_test3.py\n",
    "def func(a):\n",
    "    print(\"입력 숫자:\",a)\n",
    "if __name__ == \"__main__\": \n",
    "    print(\"모듈을 직접 실행\") \n",
    "    func(3)\n",
    "    func(4) \n",
    "else:\n",
    "    print(\"모듈을 임포트해서 실행\")"
   ]
  },
  {
   "cell_type": "code",
   "execution_count": 24,
   "id": "866da469-fbd6-4a2b-829c-7ac46f8319aa",
   "metadata": {},
   "outputs": [
    {
     "name": "stdout",
     "output_type": "stream",
     "text": [
      "모듈을 직접 실행\n",
      "입력 숫자: 3\n",
      "입력 숫자: 4\n"
     ]
    }
   ],
   "source": [
    "%run my_module_test3.py"
   ]
  },
  {
   "cell_type": "code",
   "execution_count": 25,
   "id": "ffaac071-99a6-4717-96f9-eae184727e4e",
   "metadata": {},
   "outputs": [
    {
     "name": "stdout",
     "output_type": "stream",
     "text": [
      "모듈을 임포트해서 실행\n"
     ]
    }
   ],
   "source": [
    "import my_module_test3"
   ]
  },
  {
   "cell_type": "code",
   "execution_count": 26,
   "id": "16e72d21-2c57-4827-9294-54dc417f68b3",
   "metadata": {},
   "outputs": [
    {
     "data": {
      "text/plain": [
       "0.6399363812578884"
      ]
     },
     "execution_count": 26,
     "metadata": {},
     "output_type": "execute_result"
    }
   ],
   "source": [
    "import random\n",
    "random.random()"
   ]
  },
  {
   "cell_type": "code",
   "execution_count": 27,
   "id": "808ee189-407e-483f-a587-f3288e744086",
   "metadata": {},
   "outputs": [
    {
     "name": "stdout",
     "output_type": "stream",
     "text": [
      "주사위 두 개의 숫자: 2, 6\n"
     ]
    }
   ],
   "source": [
    "import random\n",
    "dice1 = random.randint(1,6) # 임의의 정수가 생성됨 \n",
    "dice2 = random.randint(1,6) # 임의의 정수가 생성됨\n",
    "print('주사위 두 개의 숫자: {0}, {1}'.format(dice1, dice2))\n"
   ]
  },
  {
   "cell_type": "code",
   "execution_count": 28,
   "id": "b948e3de-28e7-4c5e-a96e-247fdf3a9558",
   "metadata": {},
   "outputs": [
    {
     "data": {
      "text/plain": [
       "8"
      ]
     },
     "execution_count": 28,
     "metadata": {},
     "output_type": "execute_result"
    }
   ],
   "source": [
    "import random\n",
    "random.randrange(0,11,2)"
   ]
  },
  {
   "cell_type": "code",
   "execution_count": 29,
   "id": "0d30c27b-1a6d-4fb0-a695-05736fe34fc0",
   "metadata": {},
   "outputs": [
    {
     "name": "stdout",
     "output_type": "stream",
     "text": [
      "num1: 9, num2: 10\n"
     ]
    }
   ],
   "source": [
    "import random\n",
    "num1 = random.randrange(1, 10, 2) # 1 ~ 9(10-1) 중 임의의 홀수 선택 \n",
    "num2 = random.randrange(0,100,10) # 0 ~ 99(100-1) 중 임의의10의 단위 \n",
    "print('num1: {0}, num2: {1}'.format(num1,num2))"
   ]
  },
  {
   "cell_type": "code",
   "execution_count": 30,
   "id": "2dce7526-5572-47d0-957f-131c10b9b739",
   "metadata": {},
   "outputs": [
    {
     "data": {
      "text/plain": [
       "'피자'"
      ]
     },
     "execution_count": 30,
     "metadata": {},
     "output_type": "execute_result"
    }
   ],
   "source": [
    "import random\n",
    "menu = ['비빔밥', '된장찌개', '볶음밥', '불고기', '스파게티', '피자']\n",
    "random.choice(menu)"
   ]
  },
  {
   "cell_type": "code",
   "execution_count": 31,
   "id": "0178c135-a287-4d8f-8e5a-02c6c86dd6c1",
   "metadata": {},
   "outputs": [
    {
     "data": {
      "text/plain": [
       "['L', 'O', 'H']"
      ]
     },
     "execution_count": 31,
     "metadata": {},
     "output_type": "execute_result"
    }
   ],
   "source": [
    "import random\n",
    "random.sample([1, 2, 3, 4, 5], 2) # 모집단에서 두 개의 인자 선택\n",
    "random.sample(\"HELLO\",3)"
   ]
  },
  {
   "cell_type": "code",
   "execution_count": 32,
   "id": "7760c9e3-db6c-4da4-b583-c4813817b150",
   "metadata": {},
   "outputs": [
    {
     "name": "stdout",
     "output_type": "stream",
     "text": [
      "2021-08-02\n"
     ]
    }
   ],
   "source": [
    "import datetime\n",
    "set_day = datetime.date(2021, 8, 2) \n",
    "print(set_day)\n"
   ]
  },
  {
   "cell_type": "code",
   "execution_count": 33,
   "id": "1f9c2254-fad6-4576-a7c3-40317599039b",
   "metadata": {},
   "outputs": [
    {
     "name": "stdout",
     "output_type": "stream",
     "text": [
      "2021/8/2\n"
     ]
    }
   ],
   "source": [
    "print('{0}/{1}/{2}'.format(set_day.year,set_day.month,set_day.day ))"
   ]
  },
  {
   "cell_type": "code",
   "execution_count": 34,
   "id": "cdf31571-d3c7-43a3-a04a-41c2b500b754",
   "metadata": {},
   "outputs": [
    {
     "name": "stdout",
     "output_type": "stream",
     "text": [
      "100 days, 0:00:00\n"
     ]
    }
   ],
   "source": [
    "import datetime\n",
    "day1 = datetime.date(2021, 4, 1)\n",
    "day2 = datetime.date(2021, 7, 10)\n",
    "diff_day = day2 - day1 \n",
    "print(diff_day)\n"
   ]
  },
  {
   "cell_type": "code",
   "execution_count": 35,
   "id": "bfb0b1f3-dddd-491e-8a0d-8acad8e91c42",
   "metadata": {},
   "outputs": [
    {
     "data": {
      "text/plain": [
       "datetime.date"
      ]
     },
     "execution_count": 35,
     "metadata": {},
     "output_type": "execute_result"
    }
   ],
   "source": [
    "type(day1)"
   ]
  },
  {
   "cell_type": "code",
   "execution_count": 36,
   "id": "d8950c8c-eabf-4f61-800f-9895a19a90e1",
   "metadata": {},
   "outputs": [
    {
     "data": {
      "text/plain": [
       "datetime.timedelta"
      ]
     },
     "execution_count": 36,
     "metadata": {},
     "output_type": "execute_result"
    }
   ],
   "source": [
    "type(diff_day)"
   ]
  },
  {
   "cell_type": "code",
   "execution_count": 37,
   "id": "55db655c-fecb-4027-82ee-5c85dcd47f8c",
   "metadata": {},
   "outputs": [
    {
     "name": "stdout",
     "output_type": "stream",
     "text": [
      "** 지정된 두 날짜의 차이는 100일입니다. **\n"
     ]
    }
   ],
   "source": [
    "print(\"** 지정된 두 날짜의 차이는 {}일입니다. **\".format(diff_day.days))"
   ]
  },
  {
   "cell_type": "code",
   "execution_count": 38,
   "id": "b97a81df-e13e-4c85-b2cb-c60d3779e398",
   "metadata": {},
   "outputs": [
    {
     "name": "stdout",
     "output_type": "stream",
     "text": [
      "2025-01-13\n"
     ]
    }
   ],
   "source": [
    "import datetime\n",
    "print(datetime.date.today())"
   ]
  },
  {
   "cell_type": "code",
   "execution_count": 39,
   "id": "3296c15f-47fe-42c7-917a-d2901f774149",
   "metadata": {},
   "outputs": [
    {
     "name": "stdout",
     "output_type": "stream",
     "text": [
      "-1474 days, 0:00:00\n"
     ]
    }
   ],
   "source": [
    "import datetime\n",
    "today = datetime.date.today()\n",
    "special_day = datetime.date(2020, 12, 31) \n",
    "print(special_day - today)"
   ]
  },
  {
   "cell_type": "code",
   "execution_count": 40,
   "id": "06afbc7f-5738-4a52-8429-4ad88e6cfeff",
   "metadata": {},
   "outputs": [
    {
     "name": "stdout",
     "output_type": "stream",
     "text": [
      "15:30:45\n"
     ]
    }
   ],
   "source": [
    "import datetime\n",
    "set_time = datetime.time(15, 30, 45) \n",
    "print(set_time)\n"
   ]
  },
  {
   "cell_type": "code",
   "execution_count": 41,
   "id": "0e03cc72-05f3-49e7-94f0-6cb72266ddc1",
   "metadata": {},
   "outputs": [
    {
     "name": "stdout",
     "output_type": "stream",
     "text": [
      "15:30:45\n"
     ]
    }
   ],
   "source": [
    "print('{0}:{1}:{2}'.format(set_time.hour,set_time.minute,set_time.second))"
   ]
  },
  {
   "cell_type": "code",
   "execution_count": 42,
   "id": "ecf3d789-4428-4a76-9e52-14fffff58bf8",
   "metadata": {},
   "outputs": [
    {
     "name": "stdout",
     "output_type": "stream",
     "text": [
      "2021-08-02 10:20:00\n"
     ]
    }
   ],
   "source": [
    "import datetime\n",
    "set_dt = datetime.datetime(2021, 8, 2, 10, 20, 0) \n",
    "print(set_dt)"
   ]
  },
  {
   "cell_type": "code",
   "execution_count": 43,
   "id": "6fa71379-58b5-444d-999f-70e2e23398cd",
   "metadata": {},
   "outputs": [
    {
     "name": "stdout",
     "output_type": "stream",
     "text": [
      "날짜 2021/8/2\n",
      "시각 10:20:0\n"
     ]
    }
   ],
   "source": [
    "print('날짜 {0}/{1}/{2}'.format(set_dt.year, set_dt.month, set_dt.day))\n",
    "print('시각 {0}:{1}:{2}'.format(set_dt.hour, set_dt.minute, set_dt.second))"
   ]
  },
  {
   "cell_type": "code",
   "execution_count": 44,
   "id": "f2ee2cf5-90f0-4cd4-ad03-e3ae4cdf9522",
   "metadata": {},
   "outputs": [
    {
     "name": "stdout",
     "output_type": "stream",
     "text": [
      "2025-01-13 12:08:12.202721\n"
     ]
    }
   ],
   "source": [
    "import datetime\n",
    "now = datetime.datetime.now() \n",
    "print(now)"
   ]
  },
  {
   "cell_type": "code",
   "execution_count": 45,
   "id": "9a0439ac-d251-44c2-b3b9-7fd8cfe09811",
   "metadata": {},
   "outputs": [
    {
     "name": "stdout",
     "output_type": "stream",
     "text": [
      "Date & Time: 2025-01-13, 12:08:12\n"
     ]
    }
   ],
   "source": [
    "print(\"Date & Time: {:%Y-%m-%d, %H:%M:%S}\".format(now))"
   ]
  },
  {
   "cell_type": "code",
   "execution_count": 46,
   "id": "872272ac-5bf6-42b9-a7a9-e585386ca0d8",
   "metadata": {},
   "outputs": [
    {
     "name": "stdout",
     "output_type": "stream",
     "text": [
      "Date: 2025, 01, 13\n",
      "Time: 12/08/12\n"
     ]
    }
   ],
   "source": [
    "print(\"Date: {:%Y, %m, %d}\".format(now)) \n",
    "print(\"Time: {:%H/%M/%S}\".format(now))"
   ]
  },
  {
   "cell_type": "code",
   "execution_count": 47,
   "id": "0e1bb143-e266-4b20-8d2a-f5ab575fcc80",
   "metadata": {},
   "outputs": [
    {
     "name": "stdout",
     "output_type": "stream",
     "text": [
      "현재 날짜 및 시각: 2025-01-13 12:08:12.213884\n",
      "차이: -1504 days, 0:22:32.786116\n"
     ]
    }
   ],
   "source": [
    "now = datetime.datetime.now()\n",
    "set_dt = datetime.datetime(2020, 12, 1, 12, 30, 45)\n",
    "print(\"현재 날짜 및 시각:\", now)\n",
    "print(\"차이:\", set_dt - now)\n"
   ]
  },
  {
   "cell_type": "code",
   "execution_count": 48,
   "id": "aed1373d-7d72-4a6f-951f-b67ecd3e1699",
   "metadata": {},
   "outputs": [
    {
     "name": "stdout",
     "output_type": "stream",
     "text": [
      "2021-07-01\n"
     ]
    }
   ],
   "source": [
    "from datetime import date, time, datetime\n",
    "print(date(2021, 7, 1))\n"
   ]
  },
  {
   "cell_type": "code",
   "execution_count": 49,
   "id": "fd413652-4edd-45de-a3f0-9d7e4918adb9",
   "metadata": {},
   "outputs": [
    {
     "name": "stdout",
     "output_type": "stream",
     "text": [
      "2025-01-13\n",
      "15:30:45\n",
      "2021-02-14 18:10:50\n",
      "2025-01-13 12:08:12.222156\n"
     ]
    }
   ],
   "source": [
    "print(date.today())\n",
    "print(time(15, 30, 45))\n",
    "print(datetime(2021, 2, 14, 18, 10, 50))\n",
    "print(datetime.now())"
   ]
  },
  {
   "cell_type": "code",
   "execution_count": 50,
   "id": "f5006d14-b86a-4a10-893e-3e32b1050467",
   "metadata": {},
   "outputs": [
    {
     "name": "stdout",
     "output_type": "stream",
     "text": [
      "                                  2021\n",
      "\n",
      "      January                   February                   March\n",
      "Mo Tu We Th Fr Sa Su      Mo Tu We Th Fr Sa Su      Mo Tu We Th Fr Sa Su\n",
      "             1  2  3       1  2  3  4  5  6  7       1  2  3  4  5  6  7\n",
      " 4  5  6  7  8  9 10       8  9 10 11 12 13 14       8  9 10 11 12 13 14\n",
      "11 12 13 14 15 16 17      15 16 17 18 19 20 21      15 16 17 18 19 20 21\n",
      "18 19 20 21 22 23 24      22 23 24 25 26 27 28      22 23 24 25 26 27 28\n",
      "25 26 27 28 29 30 31                                29 30 31\n",
      "\n",
      "       April                      May                       June\n",
      "Mo Tu We Th Fr Sa Su      Mo Tu We Th Fr Sa Su      Mo Tu We Th Fr Sa Su\n",
      "          1  2  3  4                      1  2          1  2  3  4  5  6\n",
      " 5  6  7  8  9 10 11       3  4  5  6  7  8  9       7  8  9 10 11 12 13\n",
      "12 13 14 15 16 17 18      10 11 12 13 14 15 16      14 15 16 17 18 19 20\n",
      "19 20 21 22 23 24 25      17 18 19 20 21 22 23      21 22 23 24 25 26 27\n",
      "26 27 28 29 30            24 25 26 27 28 29 30      28 29 30\n",
      "                          31\n",
      "\n",
      "        July                     August                  September\n",
      "Mo Tu We Th Fr Sa Su      Mo Tu We Th Fr Sa Su      Mo Tu We Th Fr Sa Su\n",
      "          1  2  3  4                         1             1  2  3  4  5\n",
      " 5  6  7  8  9 10 11       2  3  4  5  6  7  8       6  7  8  9 10 11 12\n",
      "12 13 14 15 16 17 18       9 10 11 12 13 14 15      13 14 15 16 17 18 19\n",
      "19 20 21 22 23 24 25      16 17 18 19 20 21 22      20 21 22 23 24 25 26\n",
      "26 27 28 29 30 31         23 24 25 26 27 28 29      27 28 29 30\n",
      "                          30 31\n",
      "\n",
      "      October                   November                  December\n",
      "Mo Tu We Th Fr Sa Su      Mo Tu We Th Fr Sa Su      Mo Tu We Th Fr Sa Su\n",
      "             1  2  3       1  2  3  4  5  6  7             1  2  3  4  5\n",
      " 4  5  6  7  8  9 10       8  9 10 11 12 13 14       6  7  8  9 10 11 12\n",
      "11 12 13 14 15 16 17      15 16 17 18 19 20 21      13 14 15 16 17 18 19\n",
      "18 19 20 21 22 23 24      22 23 24 25 26 27 28      20 21 22 23 24 25 26\n",
      "25 26 27 28 29 30 31      29 30                     27 28 29 30 31\n",
      "\n"
     ]
    }
   ],
   "source": [
    "import calendar\n",
    "print(calendar.calendar(2021))\n"
   ]
  },
  {
   "cell_type": "code",
   "execution_count": 51,
   "id": "b34e721c-20f7-4cf5-b626-a7570291abe2",
   "metadata": {},
   "outputs": [
    {
     "name": "stdout",
     "output_type": "stream",
     "text": [
      "                                               2021\n",
      "\n",
      "      January                   February                   March                     April\n",
      "Mo Tu We Th Fr Sa Su      Mo Tu We Th Fr Sa Su      Mo Tu We Th Fr Sa Su      Mo Tu We Th Fr Sa Su\n",
      "             1  2  3       1  2  3  4  5  6  7       1  2  3  4  5  6  7                1  2  3  4\n",
      " 4  5  6  7  8  9 10       8  9 10 11 12 13 14       8  9 10 11 12 13 14       5  6  7  8  9 10 11\n",
      "11 12 13 14 15 16 17      15 16 17 18 19 20 21      15 16 17 18 19 20 21      12 13 14 15 16 17 18\n",
      "18 19 20 21 22 23 24      22 23 24 25 26 27 28      22 23 24 25 26 27 28      19 20 21 22 23 24 25\n",
      "25 26 27 28 29 30 31                                29 30 31                  26 27 28 29 30\n",
      "\n",
      "        May                       June                      July                     August\n",
      "Mo Tu We Th Fr Sa Su      Mo Tu We Th Fr Sa Su      Mo Tu We Th Fr Sa Su      Mo Tu We Th Fr Sa Su\n",
      "                1  2          1  2  3  4  5  6                1  2  3  4                         1\n",
      " 3  4  5  6  7  8  9       7  8  9 10 11 12 13       5  6  7  8  9 10 11       2  3  4  5  6  7  8\n",
      "10 11 12 13 14 15 16      14 15 16 17 18 19 20      12 13 14 15 16 17 18       9 10 11 12 13 14 15\n",
      "17 18 19 20 21 22 23      21 22 23 24 25 26 27      19 20 21 22 23 24 25      16 17 18 19 20 21 22\n",
      "24 25 26 27 28 29 30      28 29 30                  26 27 28 29 30 31         23 24 25 26 27 28 29\n",
      "31                                                                            30 31\n",
      "\n",
      "     September                  October                   November                  December\n",
      "Mo Tu We Th Fr Sa Su      Mo Tu We Th Fr Sa Su      Mo Tu We Th Fr Sa Su      Mo Tu We Th Fr Sa Su\n",
      "       1  2  3  4  5                   1  2  3       1  2  3  4  5  6  7             1  2  3  4  5\n",
      " 6  7  8  9 10 11 12       4  5  6  7  8  9 10       8  9 10 11 12 13 14       6  7  8  9 10 11 12\n",
      "13 14 15 16 17 18 19      11 12 13 14 15 16 17      15 16 17 18 19 20 21      13 14 15 16 17 18 19\n",
      "20 21 22 23 24 25 26      18 19 20 21 22 23 24      22 23 24 25 26 27 28      20 21 22 23 24 25 26\n",
      "27 28 29 30               25 26 27 28 29 30 31      29 30                     27 28 29 30 31\n",
      "\n"
     ]
    }
   ],
   "source": [
    "print(calendar.calendar(2021, m=4))"
   ]
  },
  {
   "cell_type": "code",
   "execution_count": 52,
   "id": "49b92a42-882d-42f1-97b9-bb35493ac494",
   "metadata": {},
   "outputs": [
    {
     "name": "stdout",
     "output_type": "stream",
     "text": [
      "   September 2021\n",
      "Mo Tu We Th Fr Sa Su\n",
      "       1  2  3  4  5\n",
      " 6  7  8  9 10 11 12\n",
      "13 14 15 16 17 18 19\n",
      "20 21 22 23 24 25 26\n",
      "27 28 29 30\n",
      "\n"
     ]
    }
   ],
   "source": [
    "print(calendar.month(2021,9))"
   ]
  },
  {
   "cell_type": "code",
   "execution_count": 53,
   "id": "320991e7-d434-4a5b-bd6b-6c7ffecc027b",
   "metadata": {},
   "outputs": [
    {
     "data": {
      "text/plain": [
       "(calendar.MONDAY, 28)"
      ]
     },
     "execution_count": 53,
     "metadata": {},
     "output_type": "execute_result"
    }
   ],
   "source": [
    "calendar.monthrange(2021,2)"
   ]
  },
  {
   "cell_type": "code",
   "execution_count": 54,
   "id": "64aa500c-813e-44f3-b217-356471bd7b15",
   "metadata": {},
   "outputs": [
    {
     "data": {
      "text/plain": [
       "0"
      ]
     },
     "execution_count": 54,
     "metadata": {},
     "output_type": "execute_result"
    }
   ],
   "source": [
    "calendar.firstweekday()"
   ]
  },
  {
   "cell_type": "code",
   "execution_count": 55,
   "id": "b60fcbfe-e013-43cd-9492-8693ee762fd5",
   "metadata": {},
   "outputs": [
    {
     "name": "stdout",
     "output_type": "stream",
     "text": [
      "    August 2021\n",
      "Su Mo Tu We Th Fr Sa\n",
      " 1  2  3  4  5  6  7\n",
      " 8  9 10 11 12 13 14\n",
      "15 16 17 18 19 20 21\n",
      "22 23 24 25 26 27 28\n",
      "29 30 31\n",
      "\n"
     ]
    }
   ],
   "source": [
    "calendar.setfirstweekday(calendar.SUNDAY) \n",
    "print(calendar.month(2021,8))"
   ]
  },
  {
   "cell_type": "code",
   "execution_count": 56,
   "id": "a841f23d-7b4b-4405-9789-fbc7a1b1973f",
   "metadata": {},
   "outputs": [
    {
     "name": "stdout",
     "output_type": "stream",
     "text": [
      "6\n"
     ]
    }
   ],
   "source": [
    "print(calendar.weekday(2021, 8, 1))"
   ]
  },
  {
   "cell_type": "code",
   "execution_count": 57,
   "id": "f630bf19-5ce7-4645-a041-b605d19acc87",
   "metadata": {},
   "outputs": [
    {
     "name": "stdout",
     "output_type": "stream",
     "text": [
      "True\n",
      "False\n"
     ]
    }
   ],
   "source": [
    "print(calendar.isleap(2020)) \n",
    "print(calendar.isleap(2021))"
   ]
  },
  {
   "cell_type": "code",
   "execution_count": 58,
   "id": "800bdfe3-220e-4903-9c42-862b0690697f",
   "metadata": {},
   "outputs": [
    {
     "name": "stderr",
     "output_type": "stream",
     "text": [
      "하위 디렉터리 또는 파일 \\content\\packages\\image\\io_file이(가) 이미 있습니다.\n"
     ]
    }
   ],
   "source": [
    "mkdir \\content\\packages\\image\\io_file"
   ]
  },
  {
   "cell_type": "code",
   "execution_count": 59,
   "id": "5dda7545-fe6a-410c-816e-ed15df0bbaad",
   "metadata": {},
   "outputs": [
    {
     "name": "stdout",
     "output_type": "stream",
     "text": [
      "Overwriting \\content\\packages\\image\\__init__.py\n"
     ]
    }
   ],
   "source": [
    "%%writefile \\content\\packages\\image\\__init__.py\n",
    "# File name: __init__.py"
   ]
  },
  {
   "cell_type": "code",
   "execution_count": 60,
   "id": "088857c6-5764-4470-b3d6-7d0771483b1e",
   "metadata": {},
   "outputs": [
    {
     "name": "stdout",
     "output_type": "stream",
     "text": [
      "Overwriting \\content\\packages\\image\\io_file/__init__.py\n"
     ]
    }
   ],
   "source": [
    "%%writefile \\content\\packages\\image\\io_file/__init__.py\n",
    "# File name: __init__.py"
   ]
  },
  {
   "cell_type": "code",
   "execution_count": 61,
   "id": "923d9c2c-df20-4d3c-93e7-49543bd1f364",
   "metadata": {},
   "outputs": [
    {
     "name": "stdout",
     "output_type": "stream",
     "text": [
      "Overwriting /content/packages/image/io_file/imgread.py\n"
     ]
    }
   ],
   "source": [
    "%%writefile /content/packages/image/io_file/imgread.py\n",
    "# File name: imgread.py\n",
    "\n",
    "def pngread():\n",
    "    print(\"pngread in imgread module\")\n",
    "def jpgread():\n",
    "    print(\"jpgread in imgread module\")"
   ]
  },
  {
   "cell_type": "code",
   "execution_count": 63,
   "id": "53bcde40-e274-405f-a3b0-1beeae55ac6e",
   "metadata": {},
   "outputs": [
    {
     "data": {
      "text/plain": [
       "'C:\\\\Users\\\\user\\\\Desktop\\\\강의 교안\\\\개인 실습'"
      ]
     },
     "execution_count": 63,
     "metadata": {},
     "output_type": "execute_result"
    }
   ],
   "source": [
    "pwd"
   ]
  },
  {
   "cell_type": "code",
   "execution_count": 71,
   "id": "8f78542b-cb78-4d34-ba41-6e56f9bd720e",
   "metadata": {},
   "outputs": [
    {
     "ename": "ModuleNotFoundError",
     "evalue": "No module named 'image'",
     "output_type": "error",
     "traceback": [
      "\u001b[1;31m---------------------------------------------------------------------------\u001b[0m",
      "\u001b[1;31mModuleNotFoundError\u001b[0m                       Traceback (most recent call last)",
      "Cell \u001b[1;32mIn[71], line 1\u001b[0m\n\u001b[1;32m----> 1\u001b[0m \u001b[38;5;28;01mimport\u001b[39;00m \u001b[38;5;21;01mimage\u001b[39;00m\u001b[38;5;21;01m.\u001b[39;00m\u001b[38;5;21;01mio_file\u001b[39;00m\u001b[38;5;21;01m.\u001b[39;00m\u001b[38;5;21;01mimgread\u001b[39;00m\n\u001b[0;32m      2\u001b[0m image\u001b[38;5;241m.\u001b[39mio_file\u001b[38;5;241m.\u001b[39mimgread\u001b[38;5;241m.\u001b[39mpngread()\n\u001b[0;32m      3\u001b[0m image\u001b[38;5;241m.\u001b[39mio_file\u001b[38;5;241m.\u001b[39mimgread\u001b[38;5;241m.\u001b[39mjpgread()\n",
      "\u001b[1;31mModuleNotFoundError\u001b[0m: No module named 'image'"
     ]
    }
   ],
   "source": [
    "import image.io_file.imgread\n",
    "image.io_file.imgread.pngread()\n",
    "image.io_file.imgread.jpgread()"
   ]
  },
  {
   "cell_type": "code",
   "execution_count": null,
   "id": "24e34094-203c-4bfe-b32d-162ad7370799",
   "metadata": {},
   "outputs": [],
   "source": [
    "from image.io_file import imgread\n",
    "imgread.pngread()\n",
    "imgread.jpgread()"
   ]
  },
  {
   "cell_type": "code",
   "execution_count": null,
   "id": "95d96c63-0517-4e4b-b1a7-b59d36b4a361",
   "metadata": {},
   "outputs": [],
   "source": [
    "from image.io_file.imgread import pngread\n",
    "pngread()"
   ]
  },
  {
   "cell_type": "code",
   "execution_count": null,
   "id": "02b01940-bea3-499a-8a12-fd58cadfd915",
   "metadata": {},
   "outputs": [],
   "source": [
    "from image.io_file.imgread import *\n",
    "pngread()\n",
    "jpgread()"
   ]
  },
  {
   "cell_type": "code",
   "execution_count": null,
   "id": "960e39ba-0fbf-4370-a948-81086c251791",
   "metadata": {},
   "outputs": [],
   "source": [
    "from image.io_file.imgread import pngread, jpgread\n",
    "pngread()\n",
    "jpgread()"
   ]
  },
  {
   "cell_type": "code",
   "execution_count": null,
   "id": "244e4f79-d542-4c9b-89ef-a6c0bc496af4",
   "metadata": {},
   "outputs": [],
   "source": [
    "from image.io_file import imgread as img\n",
    "img.pngread()\n",
    "img.jpgread()"
   ]
  },
  {
   "cell_type": "code",
   "execution_count": null,
   "id": "a4742d41-5c8f-4b98-a16d-6704e8153819",
   "metadata": {},
   "outputs": [],
   "source": [
    "from image.io_file.imgread import pngread as pread\n",
    "from image.io_file.imgread import jpgread as jread\n",
    "pread()\n",
    "jread()"
   ]
  },
  {
   "cell_type": "code",
   "execution_count": null,
   "id": "9912c161-468d-408f-80d4-a7f327d7d119",
   "metadata": {},
   "outputs": [],
   "source": []
  }
 ],
 "metadata": {
  "kernelspec": {
   "display_name": "Python [conda env:base] *",
   "language": "python",
   "name": "conda-base-py"
  },
  "language_info": {
   "codemirror_mode": {
    "name": "ipython",
    "version": 3
   },
   "file_extension": ".py",
   "mimetype": "text/x-python",
   "name": "python",
   "nbconvert_exporter": "python",
   "pygments_lexer": "ipython3",
   "version": "3.12.7"
  }
 },
 "nbformat": 4,
 "nbformat_minor": 5
}
