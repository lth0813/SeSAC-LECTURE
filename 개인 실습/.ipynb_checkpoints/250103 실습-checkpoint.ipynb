{
 "cells": [
  {
   "cell_type": "markdown",
   "id": "c1d3e6c4-b297-4858-8ab1-b348dee35d4a",
   "metadata": {},
   "source": [
    "# 제어문"
   ]
  },
  {
   "cell_type": "markdown",
   "id": "558fe8e2-4086-4819-8ad9-fb525da1ea95",
   "metadata": {},
   "source": [
    "## 조건문"
   ]
  },
  {
   "cell_type": "markdown",
   "id": "951724a7-2293-46b8-903d-a0fe863e8e36",
   "metadata": {},
   "source": [
    "### 조건에 따라 분기하는 if 문\n",
    " - 조건에 따라 코드를 다르게 실행하려면 if 문을 이용한다.\n",
    " - if 문의 기본 구조를 파악한다. 콜론(:)의 유무와 실행 될 코드 블록의 들여쓰기를 유의하자.\n",
    " - if ~ elif ~ else의 형태이며 elif는 필요에 따라 여러개를 사용할 수도 있고, else와 같이 필요에따라 생략할 수도 있다."
   ]
  },
  {
   "cell_type": "markdown",
   "id": "6d9a2036-517d-4587-9dea-2a2036d822d1",
   "metadata": {},
   "source": [
    "## 반복문\n",
    " - 작업을 반복적으로 수행하는 구문을 반복문\n",
    " - 파이썬에서는 반복문을 for문과 while문을 이용해 구현\n",
    " - 똑같은 코드를 반복하는 것은 비효율적이므로 반복문을 사용하여 효율적으로 코드를 작성"
   ]
  },
  {
   "cell_type": "markdown",
   "id": "3db726de-d30c-4614-ba93-28dccdc631c2",
   "metadata": {},
   "source": [
    "### 지정된 범위만큼 반복하는 for 문\n",
    " - for <반복 변수> in <반복 범위> :\n",
    "   <코드 블록>\n",
    " - 반복 범위는 대체로 리스트와 range() 함수를 이용해 지정\n"
   ]
  },
  {
   "cell_type": "markdown",
   "id": "ef7997de-bfa7-4211-8c60-bc836f9fb3b2",
   "metadata": {},
   "source": [
    "## 과제기한\n",
    " - 프로세스 찾기 (밑쪽 참고) : 다음주 월요일까지\n",
    " - 실제 프로세스를 문장으로 적어보기 : 다음주 수요일까지\n",
    " - 순서도 + 실제 코딩 : 다음주 금요일까지\n",
    "## 과제내용\n",
    " 1. 주문하기\n",
    "    - 선택하기 (종류, 따뜻 등등)\n",
    "    - 결제하기 (카드, 현금)\n",
    "    - 매장 / 포장\n",
    " 2. 만들기\n",
    "    - 재료 준비 (물, 커피액(커피콩), 얼음, 우유, 오렌지, 사과, 딸기)\n",
    "    - 제조하기 (순서, 재료양)\n",
    "    - 데코레이션\n",
    " 3. 고객 서비스\n",
    "    - 진동벨\n",
    "    - 화면 출력\n",
    "    - 멘트"
   ]
  },
  {
   "cell_type": "code",
   "execution_count": 19,
   "id": "b6106d29-aa58-4096-bbae-b9e69521468e",
   "metadata": {},
   "outputs": [
    {
     "name": "stdout",
     "output_type": "stream",
     "text": [
      "****************************\n"
     ]
    },
    {
     "ename": "TypeError",
     "evalue": "'set' object is not subscriptable",
     "output_type": "error",
     "traceback": [
      "\u001b[1;31m---------------------------------------------------------------------------\u001b[0m",
      "\u001b[1;31mTypeError\u001b[0m                                 Traceback (most recent call last)",
      "Cell \u001b[1;32mIn[19], line 9\u001b[0m\n\u001b[0;32m      6\u001b[0m     \u001b[38;5;28mprint\u001b[39m(\u001b[38;5;124m\"\u001b[39m\u001b[38;5;124m****************************\u001b[39m\u001b[38;5;124m\"\u001b[39m)\n\u001b[0;32m      8\u001b[0m student1_info \u001b[38;5;241m=\u001b[39m {\u001b[38;5;124m\"\u001b[39m\u001b[38;5;124m현아\u001b[39m\u001b[38;5;124m\"\u001b[39m, \u001b[38;5;124m\"\u001b[39m\u001b[38;5;124m01\u001b[39m\u001b[38;5;124m\"\u001b[39m, \u001b[38;5;124m\"\u001b[39m\u001b[38;5;124m01-235-6789\u001b[39m\u001b[38;5;124m\"\u001b[39m}\n\u001b[1;32m----> 9\u001b[0m my_student_info_list(student1_info)\n",
      "Cell \u001b[1;32mIn[19], line 3\u001b[0m, in \u001b[0;36mmy_student_info_list\u001b[1;34m(student_info)\u001b[0m\n\u001b[0;32m      1\u001b[0m \u001b[38;5;28;01mdef\u001b[39;00m \u001b[38;5;21mmy_student_info_list\u001b[39m(student_info):\n\u001b[0;32m      2\u001b[0m     \u001b[38;5;28mprint\u001b[39m(\u001b[38;5;124m\"\u001b[39m\u001b[38;5;124m****************************\u001b[39m\u001b[38;5;124m\"\u001b[39m)\n\u001b[1;32m----> 3\u001b[0m     \u001b[38;5;28mprint\u001b[39m(\u001b[38;5;124m\"\u001b[39m\u001b[38;5;124m* 학생이름:\u001b[39m\u001b[38;5;124m\"\u001b[39m, student_info[\u001b[38;5;241m0\u001b[39m])\n\u001b[0;32m      4\u001b[0m     \u001b[38;5;28mprint\u001b[39m(\u001b[38;5;124m\"\u001b[39m\u001b[38;5;124m* 학급번호:\u001b[39m\u001b[38;5;124m\"\u001b[39m, student_info[\u001b[38;5;241m1\u001b[39m])\n\u001b[0;32m      5\u001b[0m     \u001b[38;5;28mprint\u001b[39m(\u001b[38;5;124m\"\u001b[39m\u001b[38;5;124m* 전화번호:\u001b[39m\u001b[38;5;124m\"\u001b[39m, student_info[\u001b[38;5;241m2\u001b[39m])\n",
      "\u001b[1;31mTypeError\u001b[0m: 'set' object is not subscriptable"
     ]
    }
   ],
   "source": [
    "def my_student_info_list(student_info):\n",
    "    print(\"****************************\")\n",
    "    print(\"* 학생이름:\", student_info[0])\n",
    "    print(\"* 학급번호:\", student_info[1])\n",
    "    print(\"* 전화번호:\", student_info[2])\n",
    "    print(\"****************************\")\n",
    "\n",
    "student1_info = {\"현아\", \"01\", \"01-235-6789\"}\n",
    "my_student_info_list(student1_info)"
   ]
  },
  {
   "cell_type": "code",
   "execution_count": null,
   "id": "e59c9e49-f525-4633-a39d-82b67e000294",
   "metadata": {},
   "outputs": [],
   "source": []
  }
 ],
 "metadata": {
  "kernelspec": {
   "display_name": "Python [conda env:base] *",
   "language": "python",
   "name": "conda-base-py"
  },
  "language_info": {
   "codemirror_mode": {
    "name": "ipython",
    "version": 3
   },
   "file_extension": ".py",
   "mimetype": "text/x-python",
   "name": "python",
   "nbconvert_exporter": "python",
   "pygments_lexer": "ipython3",
   "version": "3.12.7"
  }
 },
 "nbformat": 4,
 "nbformat_minor": 5
}
