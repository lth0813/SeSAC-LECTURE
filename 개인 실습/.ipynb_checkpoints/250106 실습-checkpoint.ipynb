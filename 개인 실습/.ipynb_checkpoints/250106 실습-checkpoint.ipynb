{
 "cells": [
  {
   "cell_type": "markdown",
   "id": "ab0922a9-702d-4462-b571-75600e22dc91",
   "metadata": {},
   "source": [
    "# 복습\n",
    " - 제어문\n",
    "   1. 조건문\n",
    "      - if / elif(if else) / else\n",
    "      - 조건문의 중첩\n",
    "   2. 반복문\n",
    "      - for\n",
    "      - 반복문의 중첩\n",
    "      - zip() 함수\n",
    "      - while\n",
    "      - break / continue\n",
    "   3. 리스트 컴프리헨션"
   ]
  },
  {
   "cell_type": "markdown",
   "id": "91024fa4-ba95-4d98-83a6-274f3ef7c09e",
   "metadata": {},
   "source": [
    "# 함수"
   ]
  },
  {
   "cell_type": "markdown",
   "id": "76e426fb-4253-4f73-989e-7e75fdd508e4",
   "metadata": {},
   "source": [
    "## 함수\n",
    " - 코딩할 때 실행한 결과를 화면이나 파일로 출력\n",
    " - 입력을 키보드로 받거나 파일을 읽어올 때\n",
    " - 내장 함수\n",
    " - 형식\n",
    "   def 함수명([인자1, 인자2... 인자n])  \n",
    "<blockquote>\n",
    "<코드 블록>    \n",
    "[return <반환 값>]\n",
    "</blockquote>\n",
    "   [ ] 구간은 생략 가능  "
   ]
  },
  {
   "cell_type": "markdown",
   "id": "aa3d3a49-92a3-48dc-97a2-218b2fa87b38",
   "metadata": {},
   "source": [
    "## 함수의 기본구조\n",
    " 1. 인자 O / 반환값 O\n",
    " 2. 인자 O / 반환값 X\n",
    " 3. 인자 X / 반환값 X"
   ]
  },
  {
   "cell_type": "code",
   "execution_count": null,
   "id": "4c89aba3-2eaf-40ae-aca3-a50c3d2f3a47",
   "metadata": {},
   "outputs": [],
   "source": []
  }
 ],
 "metadata": {
  "kernelspec": {
   "display_name": "Python [conda env:base] *",
   "language": "python",
   "name": "conda-base-py"
  },
  "language_info": {
   "codemirror_mode": {
    "name": "ipython",
    "version": 3
   },
   "file_extension": ".py",
   "mimetype": "text/x-python",
   "name": "python",
   "nbconvert_exporter": "python",
   "pygments_lexer": "ipython3",
   "version": "3.12.7"
  }
 },
 "nbformat": 4,
 "nbformat_minor": 5
}
