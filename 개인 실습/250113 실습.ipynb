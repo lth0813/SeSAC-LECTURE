{
 "cells": [
  {
   "cell_type": "markdown",
   "id": "e32d01ba-7974-4518-8714-f7451b33a98a",
   "metadata": {},
   "source": [
    "# 모듈\n",
    "## 모듈을 직접 실행하는 경우와 임포트한 후 실행하는 경우"
   ]
  },
  {
   "cell_type": "code",
   "execution_count": null,
   "id": "e5e25a05-616a-4cf3-87b6-ea15bf63d12e",
   "metadata": {},
   "outputs": [],
   "source": []
  }
 ],
 "metadata": {
  "kernelspec": {
   "display_name": "Python [conda env:base] *",
   "language": "python",
   "name": "conda-base-py"
  },
  "language_info": {
   "codemirror_mode": {
    "name": "ipython",
    "version": 3
   },
   "file_extension": ".py",
   "mimetype": "text/x-python",
   "name": "python",
   "nbconvert_exporter": "python",
   "pygments_lexer": "ipython3",
   "version": "3.12.7"
  }
 },
 "nbformat": 4,
 "nbformat_minor": 5
}
