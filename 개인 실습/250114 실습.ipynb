{
 "cells": [
  {
   "cell_type": "code",
   "execution_count": 1,
   "metadata": {},
   "outputs": [],
   "source": [
    "# numpy & pandas 설치\n",
    "# %pip install numpy\n",
    "# %pip install pandas"
   ]
  },
  {
   "cell_type": "code",
   "execution_count": 2,
   "metadata": {},
   "outputs": [],
   "source": [
    "# numpy & pandas 임포트\n",
    "import numpy as np\n",
    "import pandas as pd"
   ]
  },
  {
   "cell_type": "code",
   "execution_count": 3,
   "metadata": {},
   "outputs": [
    {
     "data": {
      "text/plain": [
       "array([1, 2, 3, 4, 5])"
      ]
     },
     "execution_count": 3,
     "metadata": {},
     "output_type": "execute_result"
    }
   ],
   "source": [
    "# 시퀀스 데이터로부터 배열을 생성\n",
    "# 리스트나 튜플 타입 모두 사용 가능하며 리스트 데이터를 주로 이용\n",
    "data1 = [1,2,3,4,5]\n",
    "a1 = np.array(data1)\n",
    "a1"
   ]
  },
  {
   "cell_type": "code",
   "execution_count": 4,
   "metadata": {},
   "outputs": [
    {
     "data": {
      "text/plain": [
       "array([1. , 2.2, 3. , 4.4, 5. ])"
      ]
     },
     "execution_count": 4,
     "metadata": {},
     "output_type": "execute_result"
    }
   ],
   "source": [
    "# 정수와 실수가 혼합된 데이터라면 모두 실수로 반환\n",
    "data2 = [1,2.2,3,4.4,5]\n",
    "a2 = np.array(data2)\n",
    "a2\n",
    "# 간결하게 표시하기 위해 끝에 불필요한 0은 생략\n",
    "# 데이터의 가독성을 높이기 위해 각 요소의 폭을 균일하게 맞춤"
   ]
  },
  {
   "cell_type": "code",
   "execution_count": 5,
   "metadata": {},
   "outputs": [
    {
     "name": "stdout",
     "output_type": "stream",
     "text": [
      "int32\n",
      "float64\n"
     ]
    }
   ],
   "source": [
    "# 배열의 속성을 확인하려면 ndarray.dtype으로 작성해서 확인\n",
    "print(a1.dtype)\n",
    "print(a2.dtype)\n",
    "# 배열을 생성할 떄 데이터 타입을 명시적으로 지정할 수 있으며 지정하지 않으면 numpy에서 적합한 기본 타입을 선택함\n",
    "# int32와 int64는 시스템 아키텍처에 따라 기본적으로 설정됨"
   ]
  },
  {
   "cell_type": "code",
   "execution_count": 6,
   "metadata": {},
   "outputs": [
    {
     "data": {
      "text/plain": [
       "array([[1, 2, 3],\n",
       "       [4, 5, 6],\n",
       "       [7, 8, 9]])"
      ]
     },
     "execution_count": 6,
     "metadata": {},
     "output_type": "execute_result"
    }
   ],
   "source": [
    "# np.array()에 리스트 데이터를 직접 넣어서 배열 객체를 생성 가능\n",
    "np.array([1,2,3,4,5])\n",
    "# 1차원 외에 다차원 배열도 생성 가능함\n",
    "np.array([[1,2,3],[4,5,6],[7,8,9]])"
   ]
  },
  {
   "cell_type": "code",
   "execution_count": 7,
   "metadata": {},
   "outputs": [
    {
     "data": {
      "text/plain": [
       "array([0, 1, 2, 3, 4])"
      ]
     },
     "execution_count": 7,
     "metadata": {},
     "output_type": "execute_result"
    }
   ],
   "source": [
    "# np.arange([start],stop,[step])으로 범위를 지정해 배열 생성 가능\n",
    "np.arange(1,20,3)\n",
    "# [step]이 1인 경우 생략 가능하며, [start]가 0인 경우에도 생략 가능\n",
    "np.arange(5)"
   ]
  },
  {
   "cell_type": "code",
   "execution_count": 8,
   "metadata": {},
   "outputs": [
    {
     "data": {
      "text/plain": [
       "array([[[ 1,  2,  3,  4,  5]],\n",
       "\n",
       "       [[ 6,  7,  8,  9, 10]],\n",
       "\n",
       "       [[11, 12, 13, 14, 15]],\n",
       "\n",
       "       [[16, 17, 18, 19, 20]]])"
      ]
     },
     "execution_count": 8,
     "metadata": {},
     "output_type": "execute_result"
    }
   ],
   "source": [
    "# 1차원 배열에 .reshape(m,n)을 추가하면 m x n 형태의 2차원 배열로 변경함\n",
    "# 여기서 배열의 원소 개수와 reshape의 m x n의 개수가 같아야함\n",
    "c1 = np.arange(1,21)\n",
    "c1.reshape(4,1,5)"
   ]
  },
  {
   "cell_type": "code",
   "execution_count": 9,
   "metadata": {},
   "outputs": [
    {
     "data": {
      "text/plain": [
       "(2, 2, 5)"
      ]
     },
     "execution_count": 9,
     "metadata": {},
     "output_type": "execute_result"
    }
   ],
   "source": [
    "# 이미 만들어진 배열의 형태를 알기 위해서는 .shape()을 실행\n",
    "c1.reshape(2,2,5).shape\n",
    "# 1차원 배열은 (n, )의 형식, 2차원 배열은 (n, m) 형식으로 출력력"
   ]
  },
  {
   "cell_type": "code",
   "execution_count": 10,
   "metadata": {},
   "outputs": [
    {
     "data": {
      "text/plain": [
       "array([  2.,   4.,   6.,   8.,  10.,  12.,  14.,  16.,  18.,  20.,  22.,\n",
       "        24.,  26.,  28.,  30.,  32.,  34.,  36.,  38.,  40.,  42.,  44.,\n",
       "        46.,  48.,  50.,  52.,  54.,  56.,  58.,  60.,  62.,  64.,  66.,\n",
       "        68.,  70.,  72.,  74.,  76.,  78.,  80.,  82.,  84.,  86.,  88.,\n",
       "        90.,  92.,  94.,  96.,  98., 100.])"
      ]
     },
     "execution_count": 10,
     "metadata": {},
     "output_type": "execute_result"
    }
   ],
   "source": [
    "# np.linspace(start, stop, [num])은 start부터 stop까지 num개의 Numpy 배열 생성\n",
    "# num을 지정하지 않으면 기본값은 50\n",
    "a4 = np.linspace(2,100)\n",
    "a4"
   ]
  },
  {
   "cell_type": "code",
   "execution_count": 11,
   "metadata": {},
   "outputs": [
    {
     "name": "stdout",
     "output_type": "stream",
     "text": [
      "[[0. 0. 0.]\n",
      " [0. 0. 0.]]\n",
      "[[1. 1. 1.]\n",
      " [1. 1. 1.]]\n"
     ]
    }
   ],
   "source": [
    "# np.zeros(n), np.ones(n) 으로 0과 1로만 구성된 배열 생성가능\n",
    "a5 = np.zeros((2,3))\n",
    "a6 = np.ones((2,3))\n",
    "print(a5)\n",
    "print(a6)"
   ]
  },
  {
   "cell_type": "code",
   "execution_count": 12,
   "metadata": {},
   "outputs": [
    {
     "data": {
      "text/plain": [
       "array([[1, 0, 0, 0, 0],\n",
       "       [0, 1, 0, 0, 0],\n",
       "       [0, 0, 1, 0, 0],\n",
       "       [0, 0, 0, 1, 0],\n",
       "       [0, 0, 0, 0, 1]])"
      ]
     },
     "execution_count": 12,
     "metadata": {},
     "output_type": "execute_result"
    }
   ],
   "source": [
    "# 정사각형 행렬에서 주 대각선이 모두 1이고 나머지는 0인 단위행렬을 생성하려면 np.eye(n)을 사용\n",
    "a7 = np.eye(5, dtype=int)\n",
    "a7"
   ]
  },
  {
   "cell_type": "code",
   "execution_count": 13,
   "metadata": {},
   "outputs": [
    {
     "data": {
      "text/plain": [
       "array(['10', '20', '30', '40', '5000'], dtype='<U4')"
      ]
     },
     "execution_count": 13,
     "metadata": {},
     "output_type": "execute_result"
    }
   ],
   "source": [
    "# 문자열도 데이터 타입으로 가질 수 있음\n",
    "a8 = np.array([\"10\",\"20\",\"30\",\"40\",\"5000\"])\n",
    "# <U1은 데이터 형식이 유니코드이며 문자의 수는 최대 1개라는 것\n",
    "a8"
   ]
  },
  {
   "cell_type": "code",
   "execution_count": 14,
   "metadata": {},
   "outputs": [
    {
     "name": "stdout",
     "output_type": "stream",
     "text": [
      "[  10   20   30   40 5000]\n",
      "[  10.   20.   30.   40. 5000.]\n",
      "float64\n",
      "[1 3 5 7 9]\n"
     ]
    }
   ],
   "source": [
    "# 배열의 형 변환은 astype()\n",
    "print(a8.astype(int))\n",
    "print(a8.astype(float))\n",
    "# 문자열(정수)를 실수로 변환할 수 있지만 문자열(실수)를 정수로 변환하는건 불가능\n",
    "# 하지만 실수를 정수로 변환하는 것은 가능\n",
    "a9 = np.array([1.2,3.4,5.6,7.8,9])\n",
    "print(a9.dtype)\n",
    "print(a9.astype(int))\n",
    "# 여기서 소수점 이하를 무조건 버림처리(truncate)"
   ]
  },
  {
   "cell_type": "code",
   "execution_count": 15,
   "metadata": {},
   "outputs": [
    {
     "data": {
      "text/plain": [
       "array([[0.22589313, 0.25290824, 0.61572356],\n",
       "       [0.39928859, 0.79445636, 0.63903885]])"
      ]
     },
     "execution_count": 15,
     "metadata": {},
     "output_type": "execute_result"
    }
   ],
   "source": [
    "# 실수로 난수 배열 생성은 rand()\n",
    "b1 = np.random.rand(2,3)\n",
    "b1"
   ]
  },
  {
   "cell_type": "code",
   "execution_count": 16,
   "metadata": {},
   "outputs": [
    {
     "data": {
      "text/plain": [
       "array([[14,  9, 18,  1],\n",
       "       [ 2,  5,  9,  4],\n",
       "       [10,  1, 13, 18]])"
      ]
     },
     "execution_count": 16,
     "metadata": {},
     "output_type": "execute_result"
    }
   ],
   "source": [
    "# 지정한 범위에 해당하는 정수로 난수 배열을 생성은 randint()\n",
    "b2 = np.random.randint(1, 20, size=(3,4))\n",
    "b2\n",
    "# randint는 시스템과 상관없이 int32를 기본으로 설정(범위 충분 및 메모리 절약)"
   ]
  },
  {
   "cell_type": "code",
   "execution_count": 17,
   "metadata": {},
   "outputs": [
    {
     "name": "stdout",
     "output_type": "stream",
     "text": [
      "[ 8 10 12]\n",
      "[-6 -6 -6]\n",
      "[2 4 6]\n",
      "[1 4 9]\n",
      "[ 7 16 27]\n",
      "[0.14285714 0.25       0.33333333]\n",
      "[0.02040816 0.03125    0.03703704]\n",
      "[False False False]\n"
     ]
    }
   ],
   "source": [
    "# np.shape의 결과가 같은 형태가 같은 두 배열의 연산\n",
    "b3 = np.array([1,2,3])\n",
    "b4 = np.array([7,8,9])\n",
    "print(b3 + b4)\n",
    "print(b3 - b4)\n",
    "print(b3 * 2)\n",
    "print(b3 ** 2)\n",
    "print(b3 * b4)\n",
    "print(b3 / b4)\n",
    "# 외에도 배열의 복합 연산 및 비교 연산도 가능\n",
    "print(b3 / (b4 ** 2))\n",
    "print(b3 > 20)"
   ]
  },
  {
   "cell_type": "code",
   "execution_count": 18,
   "metadata": {},
   "outputs": [
    {
     "name": "stdout",
     "output_type": "stream",
     "text": [
      "6\n",
      "2.0\n",
      "0.816496580927726\n",
      "0.6666666666666666\n",
      "1 3\n"
     ]
    }
   ],
   "source": [
    "# 통계를 위한 연산\n",
    "# 배열의 합 : sum()\n",
    "print(b3.sum())\n",
    "# 배열의 평균 : mean()\n",
    "print(b3.mean())\n",
    "# 배열의 표준편차 : std()\n",
    "# 데이터가 모두 동일하면 흩어져있지 않으므로 0\n",
    "# 데이터가 많이 흩어져있을 수록 커짐, 무한대까지도 가능\n",
    "print(b3.std())\n",
    "# 배열의 분산 : var()\n",
    "print(b3.var())\n",
    "# 배열의 최솟값 및 최댓값 : min(), max()\n",
    "print(b3.min(), b3.max())\n",
    "# 데이터를 요약할 때 평균에서 얼마나 벗어나 있는지 확인 가능\n",
    "# 분산은 수학적으로 더 분석하는데 쓰이는 중간과정 : 제품의 크기, 무게등이 얼마나 일관되게 만들어지는 확인할 때 사용\n",
    "# 둘 모두 얼마나 변동이 있는지를 파악하는 도구"
   ]
  },
  {
   "cell_type": "code",
   "execution_count": 19,
   "metadata": {},
   "outputs": [
    {
     "name": "stdout",
     "output_type": "stream",
     "text": [
      "[ 7 15 24]\n",
      "[  7  56 504]\n"
     ]
    }
   ],
   "source": [
    "# 누적 합 : cumsum()\n",
    "print(b4.cumsum())\n",
    "# 누적 곱 : cumprod()\n",
    "print(b4.cumprod())"
   ]
  },
  {
   "cell_type": "code",
   "execution_count": 20,
   "metadata": {},
   "outputs": [
    {
     "name": "stdout",
     "output_type": "stream",
     "text": [
      "50\n",
      "50\n",
      "[[0 1]\n",
      " [2 3]]\n",
      "[[3 2]\n",
      " [0 1]]\n",
      "[[0 1]\n",
      " [6 7]]\n"
     ]
    }
   ],
   "source": [
    "# 선형대수란 벡터와 행렬을 사용해 데이터를 표현하고 계산하는 수학의 한 분야\n",
    "# 그래픽(3D 모델), 머신러닝(신경망 학습), 물리학/공학 등에서 사용\n",
    "\n",
    "# 행렬 곱\n",
    "print(b3.dot(b4))\n",
    "print(np.dot(b3,b4))\n",
    "# 1 * 7 + 2 * 8 + 3 * 9 = 50\n",
    "A = np.array([0, 1, 2, 3]).reshape(2,2)\n",
    "B = np.array([3, 2, 0, 1]).reshape(2,2)\n",
    "print(A)\n",
    "print(B)\n",
    "C = A.dot(B)\n",
    "print(C)\n",
    "# 0 * 3 + 1 * 0 = 0\n",
    "# 0 * 2 + 1 * 1 = 1\n",
    "# 2 * 3 + 3 * 0 = 6\n",
    "# 2 * 2 + 3 * 1 = 7"
   ]
  },
  {
   "cell_type": "code",
   "execution_count": 21,
   "metadata": {},
   "outputs": [
    {
     "name": "stdout",
     "output_type": "stream",
     "text": [
      "[[0 1]\n",
      " [6 7]]\n",
      "[[0 6]\n",
      " [1 7]]\n",
      "[[0 6]\n",
      " [1 7]]\n",
      "[[0 6]\n",
      " [1 7]]\n"
     ]
    }
   ],
   "source": [
    "# 전치 행렬\n",
    "# 행과 열을 교환한 행렬\n",
    "# 기하학, 통계 등에서 사용\n",
    "print(C)\n",
    "print(np.transpose(C))\n",
    "print(C.transpose())\n",
    "print(C.T)"
   ]
  },
  {
   "cell_type": "code",
   "execution_count": 22,
   "metadata": {},
   "outputs": [
    {
     "name": "stdout",
     "output_type": "stream",
     "text": [
      "[[-1.16666667  0.16666667]\n",
      " [ 1.          0.        ]]\n"
     ]
    }
   ],
   "source": [
    "# 역행렬\n",
    "# 행렬 곱했을 때 단위 행렬이 되는 행렬\n",
    "# 원래의 행렬을 뒤집어 놓고, 그 결과를 다시 원래 상태로 돌려놓을 수 있는 행렬\n",
    "# 방정식 풀이, 제어 시스템\n",
    "print(np.linalg.inv(C))"
   ]
  },
  {
   "cell_type": "code",
   "execution_count": 23,
   "metadata": {},
   "outputs": [
    {
     "name": "stdout",
     "output_type": "stream",
     "text": [
      "[-2.  4.]\n"
     ]
    }
   ],
   "source": [
    "A1 = np.array([[2, 3], [4, 5]])\n",
    "B1 = np.array([8, 12])\n",
    "\n",
    "# 역행렬 계산\n",
    "A1_inv = np.linalg.inv(A1)\n",
    "\n",
    "# 방정식 풀기\n",
    "X = np.dot(A1_inv, B1)\n",
    "print(X)\n"
   ]
  },
  {
   "cell_type": "code",
   "execution_count": 24,
   "metadata": {},
   "outputs": [
    {
     "name": "stdout",
     "output_type": "stream",
     "text": [
      "-6.0\n"
     ]
    }
   ],
   "source": [
    "# 행렬식\n",
    "# 행렬의 크기(스칼라 값)\n",
    "# 행렬식은 행렬에 대해 하나의 숫자(스칼라 값)를 계산하는 방법\n",
    "# 이 숫자는 그 행렬이 \"얼마나\" 퍼져 있는지, 또는 그 행렬이 풀 수 있는 선형 방정식이 있는지 등을 알려줌\n",
    "# 선형 독립성, 공간의 면적/부피 계산\n",
    "print(np.linalg.det(C))"
   ]
  },
  {
   "cell_type": "code",
   "execution_count": 88,
   "metadata": {},
   "outputs": [
    {
     "name": "stdout",
     "output_type": "stream",
     "text": [
      "[[False False]\n",
      " [False  True]]\n",
      "[['작다' '작다']\n",
      " ['작다' '크다']]\n"
     ]
    }
   ],
   "source": [
    "import numpy as np\n",
    "\n",
    "a = np.array([[1, 2, 3], [4, 5, 6], [7, 8, 9]])\n",
    "b = a[0:2,0:2] >= 5\n",
    "c = np.where(a[0:2,0:2] >= 5, '크다', '작다')\n",
    "print(b)\n",
    "print(c)"
   ]
  },
  {
   "cell_type": "code",
   "execution_count": 98,
   "metadata": {},
   "outputs": [
    {
     "name": "stdout",
     "output_type": "stream",
     "text": [
      "[[[ 1  2]\n",
      "  [ 3  4]\n",
      "  [ 5  6]]\n",
      "\n",
      " [[ 7  8]\n",
      "  [ 9 10]\n",
      "  [11 12]]\n",
      "\n",
      " [[13 14]\n",
      "  [15 16]\n",
      "  [17 18]]]\n"
     ]
    }
   ],
   "source": [
    "import numpy as np\n",
    "\n",
    "# 3x3x2 배열 생성 (3개의 행, 3개의 열, 각 위치에 2개의 값)\n",
    "a = np.array([[[1, 2], [3, 4], [5, 6]],\n",
    "              [[7, 8], [9, 10], [11, 12]],\n",
    "              [[13, 14], [15, 16], [17, 18]]])\n",
    "\n",
    "print(a)\n"
   ]
  },
  {
   "cell_type": "code",
   "execution_count": 108,
   "metadata": {},
   "outputs": [
    {
     "data": {
      "text/plain": [
       "(4, 8, 18)"
      ]
     },
     "execution_count": 108,
     "metadata": {},
     "output_type": "execute_result"
    }
   ],
   "source": [
    "a[0,1,1],a[1,0,1],a[2,2,1]"
   ]
  },
  {
   "cell_type": "code",
   "execution_count": 110,
   "metadata": {},
   "outputs": [
    {
     "data": {
      "text/plain": [
       "array([ 4,  8, 18])"
      ]
     },
     "execution_count": 110,
     "metadata": {},
     "output_type": "execute_result"
    }
   ],
   "source": [
    "a[[0,1,2],[1,0,2],[1,1,1]]"
   ]
  },
  {
   "cell_type": "code",
   "execution_count": 128,
   "metadata": {},
   "outputs": [
    {
     "name": "stdout",
     "output_type": "stream",
     "text": [
      "0    10\n",
      "1    20\n",
      "2    30\n",
      "3    40\n",
      "4    50\n",
      "dtype: int64 \n",
      " RangeIndex(start=0, stop=5, step=1) \n",
      " [10 20 30 40 50]\n"
     ]
    }
   ],
   "source": [
    "import pandas as pd\n",
    "s1 = pd.Series([10,20,30,40,50])\n",
    "print(s1,\"\\n\",s1.index,\"\\n\",s1.values)"
   ]
  },
  {
   "cell_type": "code",
   "execution_count": 130,
   "metadata": {},
   "outputs": [
    {
     "data": {
      "text/plain": [
       "0    a\n",
       "1    b\n",
       "2    c\n",
       "3    1\n",
       "4    2\n",
       "5    3\n",
       "dtype: object"
      ]
     },
     "execution_count": 130,
     "metadata": {},
     "output_type": "execute_result"
    }
   ],
   "source": [
    "s2 = pd.Series(['a','b','c',1,2,3])\n",
    "s2"
   ]
  },
  {
   "cell_type": "code",
   "execution_count": 132,
   "metadata": {},
   "outputs": [
    {
     "data": {
      "text/plain": [
       "0     NaN\n",
       "1    10.0\n",
       "2    30.0\n",
       "dtype: float64"
      ]
     },
     "execution_count": 132,
     "metadata": {},
     "output_type": "execute_result"
    }
   ],
   "source": [
    "s3 = pd.Series([np.nan,10,30])\n",
    "s3"
   ]
  },
  {
   "cell_type": "code",
   "execution_count": 134,
   "metadata": {},
   "outputs": [
    {
     "data": {
      "text/plain": [
       "2018-08-07    200.0\n",
       "2018-10-08    195.0\n",
       "2018-10-09      NaN\n",
       "2018-10-10    205.0\n",
       "dtype: float64"
      ]
     },
     "execution_count": 134,
     "metadata": {},
     "output_type": "execute_result"
    }
   ],
   "source": [
    "index_date = ['2018-08-07','2018-10-08','2018-10-09','2018-10-10']\n",
    "s4 = pd.Series([200, 195, np.nan, 205], index = index_date)\n",
    "s4"
   ]
  },
  {
   "cell_type": "code",
   "execution_count": 136,
   "metadata": {},
   "outputs": [
    {
     "data": {
      "text/plain": [
       "국어    100\n",
       "영어     95\n",
       "수학     90\n",
       "dtype: int64"
      ]
     },
     "execution_count": 136,
     "metadata": {},
     "output_type": "execute_result"
    }
   ],
   "source": [
    "s5 = pd.Series({'국어': 100, '영어': 95, '수학': 90})\n",
    "s5"
   ]
  },
  {
   "cell_type": "code",
   "execution_count": 138,
   "metadata": {},
   "outputs": [
    {
     "data": {
      "text/plain": [
       "DatetimeIndex(['2019-01-01', '2019-01-02', '2019-01-03', '2019-01-04',\n",
       "               '2019-01-05', '2019-01-06', '2019-01-07'],\n",
       "              dtype='datetime64[ns]', freq='D')"
      ]
     },
     "execution_count": 138,
     "metadata": {},
     "output_type": "execute_result"
    }
   ],
   "source": [
    "pd.date_range(start='2019-01-01',end='2019-01-07')"
   ]
  },
  {
   "cell_type": "markdown",
   "metadata": {},
   "source": [
    "# 과제\n",
    "\n",
    "## 구글 드라이브 : 미니프로젝트 폴더 내 데이터 \n",
    " - 인풋 데이터 : notExercise.xls\n",
    " - 프로세스 전처리\n",
    " - 아웃풋 데이터\n",
    "    운동을 안하는 이유 (타이틀, 퍼센트, 레이블 포함)\n",
    "   1. 파이 그래프 성별별 4\n",
    "   2. 파이 그래프 연령별 3\n",
    "   3. 파이 그래프 학력별 2"
   ]
  }
 ],
 "metadata": {
  "kernelspec": {
   "display_name": "Python [conda env:base] *",
   "language": "python",
   "name": "conda-base-py"
  },
  "language_info": {
   "codemirror_mode": {
    "name": "ipython",
    "version": 3
   },
   "file_extension": ".py",
   "mimetype": "text/x-python",
   "name": "python",
   "nbconvert_exporter": "python",
   "pygments_lexer": "ipython3",
   "version": "3.12.7"
  }
 },
 "nbformat": 4,
 "nbformat_minor": 4
}
