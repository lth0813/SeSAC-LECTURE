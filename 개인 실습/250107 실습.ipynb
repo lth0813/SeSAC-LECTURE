{
 "cells": [
  {
   "cell_type": "markdown",
   "id": "ea8d0409-ae72-489e-b164-0edda5224f27",
   "metadata": {},
   "source": [
    "# 입력과 출력\n",
    " - 결과를 화면이나 파일로 출력\n",
    " - 입력을 키보드로 받거나 데이터를 읽어서 처리"
   ]
  },
  {
   "cell_type": "markdown",
   "id": "6433e458-8c4a-43ce-8912-ec26d5a14f9a",
   "metadata": {},
   "source": [
    "## 화면 출력\n",
    " - 가장 기본적인 방법\n",
    " - print() 함수와 기본적인 사용 방법\n",
    "     - sep 인자로 문자열 사이에 구분하는 값 설정\n",
    "     - 빈칸 없이 두 문자열을 연결하려면 콤마 대신 더하기 연산자를 이용\n",
    "     - 변수에 저장된 내용은 변수를 인자로 입력해서 출력\n",
    "     - \\n 과 같은 개행문자를 입력하여 줄 바꿈 표현 가능\n",
    "     - print() 함수에서 end 인자를 지정하지 않으면 기본적으로 라인 끝에 개행문자가 들어감\n",
    "     - end = 문자열 형태로 end 인자에 다른 값을 입력하면 다음 print() 함수에서도 줄 바꿈 없이 연결되어 출력\n",
    " - 나머지 연산자(%)를 이용한 형식 및 위치 지정\n",
    "   - %s를 이용해 문자열을 대입한 변수를 출력\n",
    "   - %d와 %f를 이용해 정수와 실수를 출력 (실수의 경우는 소수점 6자리까지만 출력)\n",
    " - string.format()을 이용하는 형식 지정 문자열\n",
    "   - print(\"{0},{1} ... {n}\".format(data_0, data_1, ..., data_n))의 형식"
   ]
  },
  {
   "cell_type": "code",
   "execution_count": 53,
   "id": "2ffd07d3-0568-43ad-8ad2-0e1780073d44",
   "metadata": {},
   "outputs": [
    {
     "name": "stdout",
     "output_type": "stream",
     "text": [
      "Welcome to !Black Parade\n"
     ]
    }
   ],
   "source": [
    "print(\"Welcome to \", end=\"!\")\n",
    "print(\"Black Parade\")"
   ]
  },
  {
   "cell_type": "code",
   "execution_count": 59,
   "id": "59ade72a-a106-4f68-ae8a-3756f317f23d",
   "metadata": {},
   "outputs": [
    {
     "name": "stdout",
     "output_type": "stream",
     "text": [
      "Animal: cat, dog, fox\n",
      "Animal: dog, fox, cat\n"
     ]
    }
   ],
   "source": [
    "animal_0 = \"cat\"\n",
    "animal_1 = \"dog\"\n",
    "animal_2 = \"fox\"\n",
    "\n",
    "print(\"Animal: {0}, {1}, {2}\".format(animal_0, animal_1, animal_2))\n",
    "print(\"Animal: {1}, {2}, {0}\".format(animal_0, animal_1, animal_2))"
   ]
  },
  {
   "cell_type": "code",
   "execution_count": null,
   "id": "85b5162b-a388-4085-a173-d05f4550c4ca",
   "metadata": {},
   "outputs": [],
   "source": []
  }
 ],
 "metadata": {
  "kernelspec": {
   "display_name": "Python [conda env:base] *",
   "language": "python",
   "name": "conda-base-py"
  },
  "language_info": {
   "codemirror_mode": {
    "name": "ipython",
    "version": 3
   },
   "file_extension": ".py",
   "mimetype": "text/x-python",
   "name": "python",
   "nbconvert_exporter": "python",
   "pygments_lexer": "ipython3",
   "version": "3.12.7"
  }
 },
 "nbformat": 4,
 "nbformat_minor": 5
}
