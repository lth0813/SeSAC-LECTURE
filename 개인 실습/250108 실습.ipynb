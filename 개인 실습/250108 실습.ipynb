{
 "cells": [
  {
   "cell_type": "markdown",
   "id": "09f52538-a1fe-49a7-8eb1-661254931f33",
   "metadata": {},
   "source": [
    "# 문자열과 텍스트 파일 데이터 다루기\n",
    " - 문자열 검색, 분리, 삭제, 연결, 찾기, 바꾸기"
   ]
  },
  {
   "cell_type": "markdown",
   "id": "26704aa8-7f27-428f-9170-3d57785eaa8f",
   "metadata": {},
   "source": [
    " - input : 커피 판매량 (4일), 데이터 분석\n",
    " - process : 전체 판매량(sum), 하루 평균 판매량(avg)\n",
    " - output : print(), 화면출력, 전체 판매량, 하루 평균 판매량 "
   ]
  },
  {
   "cell_type": "markdown",
   "id": "4cd0594e-006e-489a-8c56-d1fd0b24f10e",
   "metadata": {},
   "source": [
    " - 커피 종류가 몇개 있는가?\n",
    " - 날짜(월/일 표현방식)\n",
    " - 판매량 : 날짜별, 커피 종류별"
   ]
  },
  {
   "cell_type": "code",
   "execution_count": null,
   "id": "215ad474-de13-4bc2-ae7d-c4c888e3e7ed",
   "metadata": {},
   "outputs": [],
   "source": []
  }
 ],
 "metadata": {
  "kernelspec": {
   "display_name": "Python [conda env:base] *",
   "language": "python",
   "name": "conda-base-py"
  },
  "language_info": {
   "codemirror_mode": {
    "name": "ipython",
    "version": 3
   },
   "file_extension": ".py",
   "mimetype": "text/x-python",
   "name": "python",
   "nbconvert_exporter": "python",
   "pygments_lexer": "ipython3",
   "version": "3.12.7"
  }
 },
 "nbformat": 4,
 "nbformat_minor": 5
}
