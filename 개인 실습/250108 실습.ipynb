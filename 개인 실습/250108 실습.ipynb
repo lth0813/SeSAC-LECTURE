{
 "cells": [
  {
   "cell_type": "markdown",
   "id": "09f52538-a1fe-49a7-8eb1-661254931f33",
   "metadata": {},
   "source": [
    "# 문자열과 텍스트 파일 데이터 다루기\n",
    " - 문자열 검색, 분리, 삭제, 연결, 찾기, 바꾸기"
   ]
  },
  {
   "cell_type": "markdown",
   "id": "3963277a-a570-4dea-8972-ef4059d8d550",
   "metadata": {},
   "source": [
    "## 문자열 분리하기\n",
    " - split([sep, maxsplit=숫자]) 메서드 : spearator(sep)을 기준으로 문자열을 분리해 리스트로 반환\n",
    " - sep을 생략시 모든 공백과 개행문자(\\n)를 없애고 분리\n",
    " - maxsplit 인자 추가 시 원하는 횟수만큼 문자열 분리"
   ]
  },
  {
   "cell_type": "markdown",
   "id": "f6fce423-360a-4577-901c-e1b7597dccc0",
   "metadata": {},
   "source": [
    "## 필요 없는 문자열 삭제하기\n",
    " - strip([chars]) 메서드 : 앞과 뒤에서 시작해서 지정한 문자(chars) 외에 다른 문자를 만날 때까지 지정한 문자를 모두 삭제한 문자열 반환\n",
    " - chars를 생략시 문자열 앞과 뒤의 모든 공백과 개행문자를 삭제\n",
    " - 지우고자 하는 문자를 모두 지정해서 한 번에 제거할 수도 있음(순서 상관X)\n",
    " - 앞이랑 뒤 중에서 한쪽만 삭제하고 싶으면 lstrip(), rstrip() 메서드 사용"
   ]
  },
  {
   "cell_type": "markdown",
   "id": "90863dae-5f3a-4b81-bd2e-01c7fe2f54dd",
   "metadata": {},
   "source": [
    "## 문자열 연결하기\n",
    " - 더하기 연산자(+)로 두 문자열을 연결\n",
    " - join([seq]) 메서드 : 리스트의 모든 항목을 하나의 문자열로 연결"
   ]
  },
  {
   "cell_type": "markdown",
   "id": "538aefc4-86f5-4024-bc25-3243b7d93f6d",
   "metadata": {},
   "source": [
    "## 문자열 찾기\n",
    " - find(search_str,[start],[end]) 메서드 : 문자열에서 원하는 단어를 찾을 때 사용\n",
    " - 검색 문자열(search_str)과 첫 번째로 일치하는 문자열(str)의 위치를 반환\n",
    " - 검색 문자열을 찾을 수 없다면 -1을 반환\n",
    " - 시작 위치(start)와 끝 위치(end)를 추가로 지정해서 검색 범위 설정 가능\n",
    " - count(search_str,[start],[end]) 메서드 : 검색 문자열(search_str)과 일치하는 횟수를 반환 (없으면 0)\n",
    " - startswith(prefix,[start],[end]), endswith(prefix,[start],[end]) 메서드 : 각각 문자열이 지정된 문자 열로 시작/끝 인지 검사할 때 사용, 결과는 Bool 형태"
   ]
  },
  {
   "cell_type": "markdown",
   "id": "460c253d-d4ef-499c-8c43-7dd0dfb88356",
   "metadata": {},
   "source": [
    "## 문자열 바꾸기\n",
    " - replace(old, new, [count]) 메서드 : 지정한 문자열(old)를 찾아서 새로운 문자열(new)로 바꿈\n",
    " - count로 바꾸는 횟수 지정 가능(지정하지 않으면 문자열 전체가 대상)"
   ]
  },
  {
   "cell_type": "markdown",
   "id": "45a89b9f-ca79-4a74-a2ba-408f76e1df9a",
   "metadata": {},
   "source": [
    "## 문자열의 구성 확인하기\n",
    " - isalpha() : 문자 O / 숫자, 특수 문자, 공백 X\n",
    " - isdigit() : 숫자 O / 문자, 특수 문자, 공백 X\n",
    " - isalnum() : 문자, 숫자 O / 특수 문자, 공백 X\n",
    " - isspace() : 공백 O / 문자, 숫자, 특수 문자 X\n",
    " - isupper() : 대문자 O\n",
    " - islower() : 소문자 O\n",
    " - lower(), upper() 메서드 : 문자열에서 로마자 알파벳을 모두 대문자나 소문자로 변경"
   ]
  },
  {
   "cell_type": "markdown",
   "id": "7cab783f-f23a-430b-88d8-83abd3ea050c",
   "metadata": {},
   "source": [
    "## 텍스트 파일의 데이터를 읽고 처리하기\n",
    " - 파일의 내용을 한 줄씩 읽어서 처리하기\n",
    " - 실습"
   ]
  },
  {
   "cell_type": "markdown",
   "id": "26704aa8-7f27-428f-9170-3d57785eaa8f",
   "metadata": {},
   "source": [
    " - input : 커피 판매량 (4일), 데이터 분석\n",
    " - process : 전체 판매량(sum), 하루 평균 판매량(avg)\n",
    " - output : print(), 화면출력, 전체 판매량, 하루 평균 판매량 "
   ]
  },
  {
   "cell_type": "markdown",
   "id": "4cd0594e-006e-489a-8c56-d1fd0b24f10e",
   "metadata": {},
   "source": [
    " - 커피 종류가 몇개 있는가?\n",
    " - 날짜(월/일 표현방식)\n",
    " - 판매량 : 날짜별, 커피 종류별"
   ]
  },
  {
   "cell_type": "code",
   "execution_count": 11,
   "id": "ba0c8daf-b432-453e-87cf-920a946abb7c",
   "metadata": {},
   "outputs": [
    {
     "data": {
      "text/plain": [
       "'C:\\\\Users\\\\user\\\\Desktop\\\\강의 교안\\\\개인 실습'"
      ]
     },
     "execution_count": 11,
     "metadata": {},
     "output_type": "execute_result"
    }
   ],
   "source": [
    "pwd"
   ]
  },
  {
   "cell_type": "code",
   "execution_count": 30,
   "id": "4f25d937-0c5a-4d84-8825-e997b2369f4c",
   "metadata": {},
   "outputs": [
    {
     "name": "stdin",
     "output_type": "stream",
     "text": [
      "번호를 선택해주세요. \n",
      " 1. 메뉴 당 전체 판매량 확인하기 \n",
      " 2. 메뉴 당 하루 평균 판매량 \n",
      " 3. 모든 메뉴 확인하기 \n",
      " 4. 종료하기 \n",
      " 3\n"
     ]
    },
    {
     "name": "stdout",
     "output_type": "stream",
     "text": [
      "4일간의 에스프레소의 전체 판매량은 48잔이고, 평균 판매량은 12.0잔 입니다.\n",
      "4일간의 아메리카노의 전체 판매량은 197잔이고, 평균 판매량은 49.25잔 입니다.\n",
      "4일간의 카페라테의 전체 판매량은 156잔이고, 평균 판매량은 39.0잔 입니다.\n",
      "4일간의 카푸치노의 전체 판매량은 85잔이고, 평균 판매량은 21.25잔 입니다.\n"
     ]
    },
    {
     "name": "stdin",
     "output_type": "stream",
     "text": [
      "번호를 선택해주세요. \n",
      " 1. 메뉴 당 전체 판매량 확인하기 \n",
      " 2. 메뉴 당 하루 평균 판매량 \n",
      " 3. 모든 메뉴 확인하기 \n",
      " 4. 종료하기 \n",
      " 1\n",
      "번호를 선택해주세요. \n",
      " 1. 에스프레소 \n",
      " 2. 아메리카노 \n",
      " 3. 카페라테 \n",
      " 4. 카푸치노 \n",
      " 5. 이전 메뉴로 돌아가기 \n",
      " 1\n"
     ]
    },
    {
     "name": "stdout",
     "output_type": "stream",
     "text": [
      "4일간의 에스프레소의 전체 판매량은 48잔 입니다.\n"
     ]
    },
    {
     "name": "stdin",
     "output_type": "stream",
     "text": [
      "번호를 선택해주세요. \n",
      " 1. 에스프레소 \n",
      " 2. 아메리카노 \n",
      " 3. 카페라테 \n",
      " 4. 카푸치노 \n",
      " 5. 이전 메뉴로 돌아가기 \n",
      " 4\n"
     ]
    },
    {
     "name": "stdout",
     "output_type": "stream",
     "text": [
      "4일간의 카푸치노의 전체 판매량은 85잔 입니다.\n"
     ]
    },
    {
     "name": "stdin",
     "output_type": "stream",
     "text": [
      "번호를 선택해주세요. \n",
      " 1. 에스프레소 \n",
      " 2. 아메리카노 \n",
      " 3. 카페라테 \n",
      " 4. 카푸치노 \n",
      " 5. 이전 메뉴로 돌아가기 \n",
      " 5\n",
      "번호를 선택해주세요. \n",
      " 1. 메뉴 당 전체 판매량 확인하기 \n",
      " 2. 메뉴 당 하루 평균 판매량 \n",
      " 3. 모든 메뉴 확인하기 \n",
      " 4. 종료하기 \n",
      " 4\n"
     ]
    }
   ],
   "source": [
    "class CoffeeSales():\n",
    "    \n",
    "    # 데이터 불러오기\n",
    "    def __init__(self):\n",
    "        self.file_name = \"coffeeShopSales.txt\"\n",
    "        with open(self.file_name, encoding=\"utf-8\") as f:\n",
    "            self.header = f.readline().split()\n",
    "            self.data = []\n",
    "            for line in f:\n",
    "                self.data.append(line.split())\n",
    "        \n",
    "    # 시작\n",
    "    def start(self):\n",
    "        while True:\n",
    "            choice = input(\"번호를 선택해주세요. \\n 1. 메뉴 당 전체 판매량 확인하기 \\n 2. 메뉴 당 하루 평균 판매량 \\n 3. 모든 메뉴 확인하기 \\n 4. 종료하기 \\n\")\n",
    "            if choice == \"1\":\n",
    "                self.sales_by_menu()\n",
    "            elif choice == \"2\":\n",
    "                self.avg_by_menu()\n",
    "            elif choice == \"3\":\n",
    "                self.show_all()\n",
    "            elif choice == \"4\":\n",
    "                break\n",
    "            else:\n",
    "                print(\"올바른 번호를 선택해주세요.\")\n",
    "\n",
    "    def sales_by_menu(self):        \n",
    "        while True:\n",
    "            menu = int(input(\"번호를 선택해주세요. \\n 1. 에스프레소 \\n 2. 아메리카노 \\n 3. 카페라테 \\n 4. 카푸치노 \\n 5. 이전 메뉴로 돌아가기 \\n\"))\n",
    "            if menu == 5:\n",
    "                break\n",
    "            elif menu == 1 or 2 or 3 or 4:\n",
    "                self.sales_sum = 0\n",
    "                for i in range(len(self.data)):\n",
    "                    self.sales_sum += int(self.data[i][menu])\n",
    "                print(f'{len(self.data)}일간의 {self.header[menu]}의 전체 판매량은 {self.sales_sum}잔 입니다.')\n",
    "            else:\n",
    "                print(\"올바른 번호를 선택해주세요.\")\n",
    "    def avg_by_menu(self):\n",
    "        while True:\n",
    "            menu = int(input(\"번호를 선택해주세요. \\n 1. 에스프레소 \\n 2. 아메리카노 \\n 3. 카페라테 \\n 4. 카푸치노 \\n 5. 이전 메뉴로 돌아가기 \\n\"))\n",
    "            if menu == 5:\n",
    "                break\n",
    "            elif menu == 1 or 2 or 3 or 4:\n",
    "                self.avg_sum = 0\n",
    "                for i in range(len(self.data)):\n",
    "                    self.avg_sum += int(self.data[i][menu])\n",
    "                self.avg_sum = self.avg_sum/len(self.data)\n",
    "                print(f'{len(self.data)}일간의 {self.header[menu]}의 평균 판매량은 {self.avg}잔 입니다.')\n",
    "            else:\n",
    "                print(\"올바른 번호를 선택해주세요.\")\n",
    "    def show_all(self):\n",
    "        while True:\n",
    "            for i in range(1,len(self.header)):\n",
    "                all_sales = 0\n",
    "                for j in range(len(self.data)):\n",
    "                    all_sales += int(self.data[j][i])\n",
    "                    avg_sales = all_sales/len(self.data)\n",
    "                print(f'{len(self.data)}일간의 {self.header[i]}의 전체 판매량은 {all_sales}잔이고, 평균 판매량은 {avg_sales}잔 입니다.')\n",
    "            break\n",
    "coffee = CoffeeSales()\n",
    "coffee.start()"
   ]
  },
  {
   "cell_type": "code",
   "execution_count": null,
   "id": "5ae00f17-5151-4833-8ef2-c116b88a9ad5",
   "metadata": {},
   "outputs": [],
   "source": []
  }
 ],
 "metadata": {
  "kernelspec": {
   "display_name": "Python [conda env:base] *",
   "language": "python",
   "name": "conda-base-py"
  },
  "language_info": {
   "codemirror_mode": {
    "name": "ipython",
    "version": 3
   },
   "file_extension": ".py",
   "mimetype": "text/x-python",
   "name": "python",
   "nbconvert_exporter": "python",
   "pygments_lexer": "ipython3",
   "version": "3.12.7"
  }
 },
 "nbformat": 4,
 "nbformat_minor": 5
}
