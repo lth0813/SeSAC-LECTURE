{
 "cells": [
  {
   "cell_type": "markdown",
   "id": "ab0922a9-702d-4462-b571-75600e22dc91",
   "metadata": {},
   "source": [
    "# 복습\n",
    " - 제어문\n",
    "   1. 조건문\n",
    "      - if / elif(if else) / else\n",
    "      - 조건문의 중첩\n",
    "   2. 반복문\n",
    "      - for\n",
    "      - 반복문의 중첩\n",
    "      - zip() 함수\n",
    "      - while\n",
    "      - break / continue\n",
    "   3. 리스트 컴프리헨션"
   ]
  },
  {
   "cell_type": "markdown",
   "id": "91024fa4-ba95-4d98-83a6-274f3ef7c09e",
   "metadata": {},
   "source": [
    "# 함수"
   ]
  },
  {
   "cell_type": "markdown",
   "id": "76e426fb-4253-4f73-989e-7e75fdd508e4",
   "metadata": {},
   "source": [
    "## 함수\n",
    " - 코딩할 때 실행한 결과를 화면이나 파일로 출력\n",
    " - 입력을 키보드로 받거나 파일을 읽어올 때\n",
    " - 내장 함수\n",
    " - 형식\n",
    "   def 함수명([인자1, 인자2... 인자n])  \n",
    "<blockquote>\n",
    "<코드 블록>    \n",
    "[return <반환 값>]\n",
    "</blockquote>\n",
    "   [ ] 구간은 생략 가능  "
   ]
  },
  {
   "cell_type": "markdown",
   "id": "aa3d3a49-92a3-48dc-97a2-218b2fa87b38",
   "metadata": {},
   "source": [
    "## 함수의 기본구조\n",
    " 1. 인자 O / 반환값 O\n",
    " 2. 인자 O / 반환값 X\n",
    " 3. 인자 X / 반환값 X\n",
    " - 함수를 호출할 때는 지정했던 인자도 함께써야 하며 개수와 순서는 같아야함"
   ]
  },
  {
   "cell_type": "markdown",
   "id": "8f8b74ac-1315-4f00-bddc-8f723f48c65d",
   "metadata": {},
   "source": [
    "## 변수의 유효범위\n",
    " 1. 지역변수 : 함수 안에서 정의(생성)한 변수는 함수 안에서만 사용\n",
    " 2. 전역변수 : 함수 밖에서 생성한 변수 - 코드 내 어디서나 사용 가능\n",
    " - 만약 동일한 변수명을 지역 변수와 전역 변수에 모두 이용했다면 스코핑 룰에 따라 변수가 선택됨"
   ]
  },
  {
   "cell_type": "markdown",
   "id": "b273a429-2cae-47ca-b080-3f3bec0c00e7",
   "metadata": {},
   "source": [
    "## 람다(lambda) 함수\n",
    " 1. 람다 함수 : 한 줄로 함수를 표현함\n",
    " 2. 구성이 단순해 간단한 연산을 하는데 종종 사용"
   ]
  },
  {
   "cell_type": "markdown",
   "id": "410c9e47-b216-4191-b0cb-b378945c4016",
   "metadata": {},
   "source": [
    "## 유용한 내장 함수\n",
    " 1. 형 변환 함수 : 정수형 - 실수형 - 문자형 변환 / 리스트 - 튜플 - 세트 변환\n",
    " 2. bool 함수 : 숫자, 문자열을 인자로 bool 함수 호출\n",
    " 3. 최소값(min), 최대값(max) 함수 : 리스트, 튜플, 세트, 문자열\n",
    " 4. 절대값(abs), 전체 합(sum) 함수\n",
    " 5. 항목의 개수(len) 함수"
   ]
  },
  {
   "cell_type": "code",
   "execution_count": null,
   "id": "78de082f-d6b0-418e-8350-3f1969ef930d",
   "metadata": {},
   "outputs": [],
   "source": []
  }
 ],
 "metadata": {
  "kernelspec": {
   "display_name": "Python [conda env:base] *",
   "language": "python",
   "name": "conda-base-py"
  },
  "language_info": {
   "codemirror_mode": {
    "name": "ipython",
    "version": 3
   },
   "file_extension": ".py",
   "mimetype": "text/x-python",
   "name": "python",
   "nbconvert_exporter": "python",
   "pygments_lexer": "ipython3",
   "version": "3.12.7"
  }
 },
 "nbformat": 4,
 "nbformat_minor": 5
}
