{
 "cells": [
  {
   "cell_type": "code",
   "execution_count": null,
   "id": "9194b716-9979-4e07-8fcb-faf1600683ec",
   "metadata": {},
   "outputs": [],
   "source": [
    "# 함수 앞에서 Shift + Tab을 누르면 내장함수에 관한 내용을 볼 수 있다."
   ]
  },
  {
   "cell_type": "code",
   "execution_count": 7,
   "id": "4017da06-90e5-4199-baac-ad964f8edef8",
   "metadata": {},
   "outputs": [
    {
     "name": "stdout",
     "output_type": "stream",
     "text": [
      "2\n",
      "3\n",
      "30\n",
      "5.0\n"
     ]
    }
   ],
   "source": [
    "# 간단한 사칙연산\n",
    "# 기호를 이용하며, 숫자와 연산자 사이의 공백은 무시\n",
    "# 파이썬에서 나눗셈 연산은 실수로 처리하기 때문에 마지막의 값은 실수 형태의 5.0이 된다.\n",
    "print(1 + 1)\n",
    "print(5 - 2)\n",
    "print(15 * 2)\n",
    "print(10 / 2)"
   ]
  },
  {
   "cell_type": "code",
   "execution_count": 9,
   "id": "bee13df8-e57f-466f-b57e-a5c27ed2e700",
   "metadata": {},
   "outputs": [
    {
     "name": "stdout",
     "output_type": "stream",
     "text": [
      "6.5\n",
      "-1.5\n",
      "2.8\n",
      "2.5\n"
     ]
    }
   ],
   "source": [
    "# 정수와 실수\n",
    "# 정수 : 자연수(1,2,3...)와 자연수의 음수, 그리고 0으로 이루어진 수의 집합\n",
    "# 실수 : 유리수와 무리수로 이루어진 집합\n",
    "# 프로그램에서는 숫자에 소수점이 없으면 정수(int), 소수점이 있으면 실수(float)\n",
    "print(1.2 + 5.3)\n",
    "print(3.5 - 5.0)\n",
    "print(1.4 * 2)\n",
    "print(5 / 2)"
   ]
  },
  {
   "cell_type": "code",
   "execution_count": 15,
   "id": "eec48732-9c52-4303-a8e7-fa4042b0f9d0",
   "metadata": {},
   "outputs": [
    {
     "name": "stdout",
     "output_type": "stream",
     "text": [
      "14\n",
      "3.5\n",
      "16.0\n",
      "11\n"
     ]
    }
   ],
   "source": [
    "# 복합 연산\n",
    "# 연산 기호가 두 개 이상일 경우 일반적인 연산 규칙을 따른다.\n",
    "# 괄호 -> 지수 -> 곱셉 or 나눗셈 -> 덧셈 or 뺄셈 순서\n",
    "# 같은 순위의 연산일 경우 왼쪽에서 오른쪽 순서로 계산\n",
    "print(2 + 3 * 4)\n",
    "print(3 / 2 * 4 - 5 / 2)\n",
    "print(10 / 5 + (5 + 2) * 2)\n",
    "print((5 * 4 - 15) + ((5 - 2) * (9 - 7)))"
   ]
  },
  {
   "cell_type": "code",
   "execution_count": 17,
   "id": "0b21a1f7-3910-4701-af09-fbdd589116f6",
   "metadata": {},
   "outputs": [
    {
     "name": "stdout",
     "output_type": "stream",
     "text": [
      "<class 'int'>\n",
      "<class 'float'>\n"
     ]
    }
   ],
   "source": [
    "# type() 함수\n",
    "# 자료의 형식(데이터 타입)을 알려주는 함수\n",
    "# 예를 들어, 인자를 정수로 입력하면 int를 실수를 입력하면 float을 결과로 돌려줌\n",
    "print(type(3))\n",
    "print(type(1.2))"
   ]
  },
  {
   "cell_type": "code",
   "execution_count": 21,
   "id": "d5d93a94-5795-4821-bc18-b511c4ff9361",
   "metadata": {},
   "outputs": [
    {
     "name": "stdout",
     "output_type": "stream",
     "text": [
      "32\n",
      "2.25\n"
     ]
    }
   ],
   "source": [
    "# 거듭제곱\n",
    "# 숫자 A를 n번 곱하는 거듭제곱\n",
    "# 파이썬에서 거듭제곱의 연산자는 **(공백 없이)\n",
    "print(2 ** 5)\n",
    "# 정수뿐만 아니라 실수도 거듭제곱이 가능\n",
    "print(1.5 ** 2)\n",
    "# 거듭제곱의 지수도 정수일 필요는 없으며, 파이썬에서 제공하는 math 라이브러리를 이용하면 거듭제곱 외에 다양한 수학 함수를 입력 가능"
   ]
  },
  {
   "cell_type": "code",
   "execution_count": 25,
   "id": "624daf68-793c-44cb-9fd9-c378a9530c23",
   "metadata": {},
   "outputs": [
    {
     "name": "stdout",
     "output_type": "stream",
     "text": [
      "3\n",
      "2\n"
     ]
    }
   ],
   "source": [
    "# 나머지\n",
    "# 나머지를 구하기 위해서 파이썬에서는 퍼센트 기호(%)를 이용\n",
    "# 퍼센트 기호를 나머지 연산자라고 함\n",
    "print(13 % 5)\n",
    "# 몫은 정수 나누기 연산자(//)로 구할 수 있음\n",
    "print(13 // 5)"
   ]
  },
  {
   "cell_type": "code",
   "execution_count": 29,
   "id": "0e2a34fc-c5bb-4ba7-980a-04f7c59287ad",
   "metadata": {},
   "outputs": [
    {
     "name": "stdout",
     "output_type": "stream",
     "text": [
      "300000000.0\n",
      "1000000000000000.0\n",
      "1e+16\n",
      "0.0001\n",
      "1e-05\n"
     ]
    }
   ],
   "source": [
    "# 과학적 표기법\n",
    "# 연산할 때 아주 큰 수나 작은 수를 다루어야 할 때\n",
    "# 거듭 제곱 연산자로 큰 수를 입력할 수 있지만 10의 거듭제곱의 경우 en으로 편하게 입력가능\n",
    "print(3e8)\n",
    "# 파이썬에서 과학적 표기법으로 출력할 때는 e 다음에 오는 지수의 양수 음수 여부에 따라 바뀜\n",
    "print(1e15)\n",
    "print(1e16)\n",
    "print(1e-4)\n",
    "print(1e-5)"
   ]
  },
  {
   "cell_type": "code",
   "execution_count": 55,
   "id": "8a347a3b-2d02-4186-aeea-c89f0764d4e7",
   "metadata": {},
   "outputs": [
    {
     "name": "stdout",
     "output_type": "stream",
     "text": [
      "17\n",
      "17\n",
      "17\n",
      "17\n",
      "0b10001\n",
      "0o21\n",
      "0x11\n",
      "<class 'str'>\n",
      "22\n",
      "0b10110\n",
      "0o26\n",
      "0x16\n",
      "0b1010\n",
      "0o12\n",
      "0b10100o12\n"
     ]
    },
    {
     "ename": "TypeError",
     "evalue": "'str' object cannot be interpreted as an integer",
     "output_type": "error",
     "traceback": [
      "\u001b[1;31m---------------------------------------------------------------------------\u001b[0m",
      "\u001b[1;31mTypeError\u001b[0m                                 Traceback (most recent call last)",
      "Cell \u001b[1;32mIn[55], line 24\u001b[0m\n\u001b[0;32m     22\u001b[0m \u001b[38;5;28mprint\u001b[39m(\u001b[38;5;28moct\u001b[39m(\u001b[38;5;241m10\u001b[39m))\n\u001b[0;32m     23\u001b[0m \u001b[38;5;28mprint\u001b[39m(\u001b[38;5;28mbin\u001b[39m(\u001b[38;5;241m10\u001b[39m) \u001b[38;5;241m+\u001b[39m \u001b[38;5;28moct\u001b[39m(\u001b[38;5;241m10\u001b[39m))\n\u001b[1;32m---> 24\u001b[0m \u001b[38;5;28mprint\u001b[39m(\u001b[38;5;28mbin\u001b[39m(\u001b[38;5;28mbin\u001b[39m(\u001b[38;5;241m10\u001b[39m) \u001b[38;5;241m+\u001b[39m \u001b[38;5;28moct\u001b[39m(\u001b[38;5;241m10\u001b[39m)))\n",
      "\u001b[1;31mTypeError\u001b[0m: 'str' object cannot be interpreted as an integer"
     ]
    }
   ],
   "source": [
    "# 진수 표현과 변환\n",
    "# 파이썬은 10진법 외에 2진법, 8진법, 16진법으로 숫자를 입출력하며 변환\n",
    "print(17)\n",
    "print(0b10001)\n",
    "print(0o21)\n",
    "print(0x11)\n",
    "# 파이썬에서는 2진수, 8진수, 116진수 형태로 숫자를 입력해도 기본적으로 10진수로 출력\n",
    "# 각각 변환하는 함수가 있음\n",
    "print(bin(17))\n",
    "print(oct(17))\n",
    "print(hex(17))\n",
    "# 출력 결과는 숫자가 아니라 문자열임\n",
    "print(type(bin(17))) \n",
    "oct(17) # ''안에 출력되는 것 확인 (문자열)\n",
    "# 문자열이기 때문에 산술 연산에 이용할 수 없기 때문에, 진수 변환은 연산이 모두 끝난 후에 해야 함\n",
    "print(0b10 * 0o10 + 0x10 - 10)\n",
    "print(bin(0b10 * 0o10 + 0x10 - 10))\n",
    "print(oct(0b10 * 0o10 + 0x10 - 10))\n",
    "print(hex(0b10 * 0o10 + 0x10 - 10))\n",
    "# 아래와 같은 경우는 두 가지 모두 문자열이기 때문에 문자열의 합으로 바뀐다.\n",
    "print(bin(10))\n",
    "print(oct(10))\n",
    "print(bin(10) + oct(10))\n",
    "print(bin(bin(10) + oct(10)))"
   ]
  },
  {
   "cell_type": "code",
   "execution_count": 71,
   "id": "5a71661c-4abd-4e3f-b814-3ecf5b7ee3ea",
   "metadata": {},
   "outputs": [
    {
     "name": "stdout",
     "output_type": "stream",
     "text": [
      "<class 'int'>\n",
      "<class 'str'>\n",
      "6Hello World\n",
      "<class 'str'>\n"
     ]
    }
   ],
   "source": [
    "x = 6\n",
    "print(type(x))\n",
    "y = \"Hello World\"\n",
    "print(type(y))\n",
    "z = x + y\n",
    "print(z)\n",
    "print(type(z))"
   ]
  },
  {
   "cell_type": "code",
   "execution_count": 75,
   "id": "748acd81-df85-48c6-a6c9-7c2698fa09b1",
   "metadata": {},
   "outputs": [
    {
     "data": {
      "text/plain": [
       "'0b100010'"
      ]
     },
     "execution_count": 75,
     "metadata": {},
     "output_type": "execute_result"
    }
   ],
   "source": [
    "bin(34)"
   ]
  },
  {
   "cell_type": "code",
   "execution_count": 83,
   "id": "e399e1cb-de15-455f-86a2-42e4accea1e6",
   "metadata": {},
   "outputs": [
    {
     "name": "stdout",
     "output_type": "stream",
     "text": [
      "True\n",
      "False\n",
      "False\n",
      "True\n",
      "False\n"
     ]
    }
   ],
   "source": [
    "# 논리연산\n",
    "# 논리 연산자\n",
    "# and - 논리곱\n",
    "# or - 논리합\n",
    "# not - 논리부정\n",
    "print(True)\n",
    "print(False)\n",
    "type(True)\n",
    "print(True and False)\n",
    "print(True or False)\n",
    "print(not True)"
   ]
  },
  {
   "cell_type": "code",
   "execution_count": 85,
   "id": "703fcd08-303f-4ac7-9e07-3e9521b4842d",
   "metadata": {},
   "outputs": [
    {
     "name": "stdout",
     "output_type": "stream",
     "text": [
      "False\n",
      "True\n",
      "False\n",
      "True\n",
      "False\n",
      "True\n"
     ]
    }
   ],
   "source": [
    "# 비교 연산자\n",
    "# 비교 연산의 결과는 불(bool)데이터 형식으로 나옴\n",
    "print(5 == 3)\n",
    "print(5 != 3)\n",
    "print(5 < 3)\n",
    "print(5 > 3)\n",
    "print(5 <= 3)\n",
    "print(5 >= 3)"
   ]
  },
  {
   "cell_type": "code",
   "execution_count": 95,
   "id": "8f6c7ce2-1a57-4020-a828-85cc4532dabc",
   "metadata": {},
   "outputs": [
    {
     "name": "stdout",
     "output_type": "stream",
     "text": [
      "True\n",
      "False\n",
      "False\n",
      "False\n"
     ]
    }
   ],
   "source": [
    "# 논리 연산과 비교 연산의 혼합\n",
    "# 비교 연산자가 논리 연산자보다 우선순위 높음\n",
    "print(1 > 0 and -2 < 0)\n",
    "# 괄호와 연산이 함께 있으면 괄호의 우선순위가 높음\n",
    "print((3 < 0) and ((-5 > 0) and (1 > 5)))\n",
    "print((3 < 0) or ((-5 > 0) and (1 > 5)))\n",
    "print((3 < 0) and ((-5 > 0) and (4 > 8) or (3 < 0)))"
   ]
  },
  {
   "cell_type": "code",
   "execution_count": null,
   "id": "573315c1-9f0c-42f4-9f70-1c817e50113b",
   "metadata": {},
   "outputs": [],
   "source": []
  }
 ],
 "metadata": {
  "kernelspec": {
   "display_name": "Python [conda env:base] *",
   "language": "python",
   "name": "conda-base-py"
  },
  "language_info": {
   "codemirror_mode": {
    "name": "ipython",
    "version": 3
   },
   "file_extension": ".py",
   "mimetype": "text/x-python",
   "name": "python",
   "nbconvert_exporter": "python",
   "pygments_lexer": "ipython3",
   "version": "3.12.7"
  }
 },
 "nbformat": 4,
 "nbformat_minor": 5
}
