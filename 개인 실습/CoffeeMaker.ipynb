{
 "cells": [
  {
   "cell_type": "markdown",
   "metadata": {},
   "source": [
    "# 과제\n",
    " "
   ]
  },
  {
   "cell_type": "markdown",
   "metadata": {},
   "source": [
    "## 사전 준비\n",
    "1. 재료의 재고 파악 (기본 300개로 잡음)\n",
    "2. 대기 번호 0으로 초기화 \n",
    "3. 메뉴 목록\n",
    "    - 아메리카노\n",
    "    - 카페라떼\n",
    "    - 카푸치노\n",
    "    - 오렌지에이드\n",
    "    - 딸기에이드\n",
    "    - 자몽에이드\n",
    "\n",
    "## 프로세스\n",
    "- 주문 받기\n",
    "    1. 매장 / 포장 여부 선택\n",
    "        - 담긴 메뉴가 1개 이상일 시 결제 버튼 활성화\n",
    "    2. 메뉴 선택\n",
    "        1. 커피\n",
    "        2. 음료\n",
    "    3. 1번일 경우\n",
    "        - 카페인 / 디카페인 여부 선택\n",
    "        - HOT / ICED 선택\n",
    "    4. 1, 2번 공통\n",
    "        - 사이즈 선택\n",
    "    5. 주문 담기 - 2번으로 돌아가기\n",
    "    6. 결제 버튼 눌렀을 시, 결제하기\n",
    "    7. 현재 대기 번호 출력 및 대기 번호 + 1\n",
    "    8. 영수증 출력 확인\n",
    "    - 주문의 모든 프로세스는 번호를 선택하는 식이며, 번호가 아닌 문자열, 특수문자 혹은 초과되는 번호를 입력했을 시의 예외 준비\n",
    "- 만들기\n",
    "    1. 주문 확인\n",
    "    2. 재료 재고 확인\n",
    "    3. 제조하기 - 순서 확인 및 사용한 재고 - 1\n",
    "    4. 모든 주문 제조 완료 했다면 호출\n",
    "    5. 오늘 재료 다 소진했다면 메뉴 출력시 Sold Out 표시 및 선택 불가로 변경경\n",
    "- 고객 서비스\n",
    "    1. 번호에 맞는 진동벨\n",
    "    2. 화면에 대기 번호 출력\n",
    "    3. 멘트 5개 정도 준비 후에, 랜덤으로 하나 출력\n",
    "    \n"
   ]
  },
  {
   "cell_type": "code",
   "execution_count": null,
   "metadata": {},
   "outputs": [],
   "source": []
  }
 ],
 "metadata": {
  "kernelspec": {
   "display_name": "base",
   "language": "python",
   "name": "python3"
  },
  "language_info": {
   "codemirror_mode": {
    "name": "ipython",
    "version": 3
   },
   "file_extension": ".py",
   "mimetype": "text/x-python",
   "name": "python",
   "nbconvert_exporter": "python",
   "pygments_lexer": "ipython3",
   "version": "3.12.7"
  }
 },
 "nbformat": 4,
 "nbformat_minor": 2
}
