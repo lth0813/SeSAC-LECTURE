{
 "cells": [
  {
   "cell_type": "code",
   "execution_count": 204,
   "metadata": {},
   "outputs": [],
   "source": [
    "# !pip install squarify"
   ]
  },
  {
   "cell_type": "code",
   "execution_count": 205,
   "metadata": {},
   "outputs": [],
   "source": [
    "import numpy as np\n",
    "import pandas as pd\n",
    "import matplotlib as mpl\n",
    "import matplotlib.pyplot as plt\n",
    "import seaborn as sns\n",
    "import squarify"
   ]
  },
  {
   "cell_type": "code",
   "execution_count": 206,
   "metadata": {},
   "outputs": [],
   "source": [
    "mpl.rcParams['axes.unicode_minus'] = False\n",
    "plt.rc('font', family='Malgun Gothic')"
   ]
  },
  {
   "cell_type": "code",
   "execution_count": 207,
   "metadata": {},
   "outputs": [
    {
     "name": "stderr",
     "output_type": "stream",
     "text": [
      "C:\\Users\\lth08\\AppData\\Local\\Temp\\ipykernel_10444\\2358779018.py:1: DtypeWarning: Columns (22,27,39,41,44,45) have mixed types. Specify dtype option on import or set low_memory=False.\n",
      "  df = pd.read_csv(\"../../../서울특별시_일반음식점.csv\", encoding=\"cp949\")\n"
     ]
    }
   ],
   "source": [
    "df = pd.read_csv(\"../../../서울특별시_일반음식점.csv\", encoding=\"cp949\")"
   ]
  },
  {
   "cell_type": "code",
   "execution_count": 208,
   "metadata": {},
   "outputs": [
    {
     "data": {
      "text/plain": [
       "Index(['번호', '개방서비스명', '개방서비스아이디', '개방자치단체코드', '관리번호', '인허가일자', '인허가취소일자',\n",
       "       '영업상태구분코드', '영업상태명', '상세영업상태코드', '상세영업상태명', '폐업일자', '휴업시작일자', '휴업종료일자',\n",
       "       '재개업일자', '소재지전화', '소재지면적', '소재지우편번호', '소재지전체주소', '도로명전체주소', '도로명우편번호',\n",
       "       '사업장명', '최종수정시점', '데이터갱신구분', '데이터갱신일자', '업태구분명', '좌표정보(x)', '좌표정보(y)',\n",
       "       '위생업태명', '남성종사자수', '여성종사자수', '영업장주변구분명', '등급구분명', '급수시설구분명', '총종업원수',\n",
       "       '본사종업원수', '공장사무직종업원수', '공장판매직종업원수', '공장생산직종업원수', '건물소유구분명', '보증액',\n",
       "       '월세액', '다중이용업소여부', '시설총규모', '전통업소지정번호', '전통업소주된음식', '홈페이지',\n",
       "       'Unnamed: 47'],\n",
       "      dtype='object')"
      ]
     },
     "execution_count": 208,
     "metadata": {},
     "output_type": "execute_result"
    }
   ],
   "source": [
    "df.columns"
   ]
  },
  {
   "cell_type": "code",
   "execution_count": 209,
   "metadata": {},
   "outputs": [],
   "source": [
    "# 현재 필요 없는 컬럼 삭제\n",
    "df.drop(columns=[\"Unnamed: 47\",\n",
    "                 \"개방서비스아이디\",\n",
    "                 \"개방자치단체코드\",\n",
    "                 \"관리번호\",\n",
    "                 \"인허가일자\",\n",
    "                 \"인허가취소일자\",\n",
    "                 \"상세영업상태코드\",\n",
    "                 \"소재지전화\",\n",
    "                 \"공장판매직종업원수\",\n",
    "                 \"공장생산직종업원수\",\n",
    "                 \"건물소유구분명\",\n",
    "                 \"보증액\",\n",
    "                 \"월세액\",\n",
    "                 \"다중이용업소여부\",\n",
    "                 \"시설총규모\",\n",
    "                 \"전통업소지정번호\",\n",
    "                 \"전통업소주된음식\",\n",
    "                 \"홈페이지\",\n",
    "                 \"남성종사자수\",\n",
    "                 \"여성종사자수\",\n",
    "                 \"영업장주변구분명\",\n",
    "                 \"등급구분명\",\n",
    "                 \"급수시설구분명\",\n",
    "                 \"총종업원수\",\n",
    "                 \"본사종업원수\",\n",
    "                 \"공장사무직종업원수\",\n",
    "                 \"소재지면적\",\n",
    "                 \"최종수정시점\",\n",
    "                 \"데이터갱신구분\",\n",
    "                 \"데이터갱신일자\",\n",
    "                 \"번호\",\n",
    "                 \"도로명우편번호\",\n",
    "                 \"소재지우편번호\",\n",
    "                 \"개방서비스명\"\n",
    "                 ],inplace=True)"
   ]
  },
  {
   "cell_type": "code",
   "execution_count": 210,
   "metadata": {},
   "outputs": [
    {
     "data": {
      "text/html": [
       "<div>\n",
       "<style scoped>\n",
       "    .dataframe tbody tr th:only-of-type {\n",
       "        vertical-align: middle;\n",
       "    }\n",
       "\n",
       "    .dataframe tbody tr th {\n",
       "        vertical-align: top;\n",
       "    }\n",
       "\n",
       "    .dataframe thead th {\n",
       "        text-align: right;\n",
       "    }\n",
       "</style>\n",
       "<table border=\"1\" class=\"dataframe\">\n",
       "  <thead>\n",
       "    <tr style=\"text-align: right;\">\n",
       "      <th></th>\n",
       "      <th>영업상태구분코드</th>\n",
       "      <th>영업상태명</th>\n",
       "      <th>상세영업상태명</th>\n",
       "      <th>폐업일자</th>\n",
       "      <th>휴업시작일자</th>\n",
       "      <th>휴업종료일자</th>\n",
       "      <th>재개업일자</th>\n",
       "      <th>소재지전체주소</th>\n",
       "      <th>도로명전체주소</th>\n",
       "      <th>사업장명</th>\n",
       "      <th>업태구분명</th>\n",
       "      <th>좌표정보(x)</th>\n",
       "      <th>좌표정보(y)</th>\n",
       "      <th>위생업태명</th>\n",
       "    </tr>\n",
       "  </thead>\n",
       "  <tbody>\n",
       "    <tr>\n",
       "      <th>0</th>\n",
       "      <td>1</td>\n",
       "      <td>영업/정상</td>\n",
       "      <td>영업</td>\n",
       "      <td>NaN</td>\n",
       "      <td>NaN</td>\n",
       "      <td>NaN</td>\n",
       "      <td>NaN</td>\n",
       "      <td>서울특별시 강서구 마곡동 757 두산더랜드파크 B동 207호</td>\n",
       "      <td>서울특별시 강서구 마곡중앙로 161-8, 두산더랜드파크 B동 2층 207호 (마곡동)</td>\n",
       "      <td>혼밥대왕 마곡점</td>\n",
       "      <td>한식</td>\n",
       "      <td>NaN</td>\n",
       "      <td>NaN</td>\n",
       "      <td>한식</td>\n",
       "    </tr>\n",
       "    <tr>\n",
       "      <th>1</th>\n",
       "      <td>1</td>\n",
       "      <td>영업/정상</td>\n",
       "      <td>영업</td>\n",
       "      <td>NaN</td>\n",
       "      <td>NaN</td>\n",
       "      <td>NaN</td>\n",
       "      <td>NaN</td>\n",
       "      <td>서울특별시 강서구 화곡동 827-2 1층</td>\n",
       "      <td>서울특별시 강서구 등촌로13다길 35, 1층 (화곡동)</td>\n",
       "      <td>꾸어가게생선구이화곡점</td>\n",
       "      <td>한식</td>\n",
       "      <td>187499.286366</td>\n",
       "      <td>448069.583478</td>\n",
       "      <td>한식</td>\n",
       "    </tr>\n",
       "    <tr>\n",
       "      <th>2</th>\n",
       "      <td>1</td>\n",
       "      <td>영업/정상</td>\n",
       "      <td>영업</td>\n",
       "      <td>NaN</td>\n",
       "      <td>NaN</td>\n",
       "      <td>NaN</td>\n",
       "      <td>NaN</td>\n",
       "      <td>서울특별시 강남구 역삼동 707-34 한신인터밸리24빌딩</td>\n",
       "      <td>서울특별시 강남구 테헤란로 322, 한신인터밸리24빌딩 지하2층 B130호 (역삼동)</td>\n",
       "      <td>인생갈비탕</td>\n",
       "      <td>한식</td>\n",
       "      <td>204044.789949</td>\n",
       "      <td>444529.840427</td>\n",
       "      <td>한식</td>\n",
       "    </tr>\n",
       "    <tr>\n",
       "      <th>3</th>\n",
       "      <td>1</td>\n",
       "      <td>영업/정상</td>\n",
       "      <td>영업</td>\n",
       "      <td>NaN</td>\n",
       "      <td>NaN</td>\n",
       "      <td>NaN</td>\n",
       "      <td>NaN</td>\n",
       "      <td>서울특별시 강남구 대치동 896-28</td>\n",
       "      <td>서울특별시 강남구 테헤란로68길 25, 지하1층 지하1호 (대치동)</td>\n",
       "      <td>놀부 공유주방 선릉역</td>\n",
       "      <td>한식</td>\n",
       "      <td>204603.136055</td>\n",
       "      <td>444606.621961</td>\n",
       "      <td>한식</td>\n",
       "    </tr>\n",
       "    <tr>\n",
       "      <th>4</th>\n",
       "      <td>1</td>\n",
       "      <td>영업/정상</td>\n",
       "      <td>영업</td>\n",
       "      <td>NaN</td>\n",
       "      <td>NaN</td>\n",
       "      <td>NaN</td>\n",
       "      <td>NaN</td>\n",
       "      <td>서울특별시 강남구 삼성동 159-7 현대백화점</td>\n",
       "      <td>서울특별시 강남구 테헤란로 517, 현대백화점 지하1층 (삼성동)</td>\n",
       "      <td>온기정</td>\n",
       "      <td>일식</td>\n",
       "      <td>205210.358779</td>\n",
       "      <td>445154.422252</td>\n",
       "      <td>일식</td>\n",
       "    </tr>\n",
       "  </tbody>\n",
       "</table>\n",
       "</div>"
      ],
      "text/plain": [
       "   영업상태구분코드  영업상태명 상세영업상태명  폐업일자  휴업시작일자  휴업종료일자  재개업일자  \\\n",
       "0         1  영업/정상      영업   NaN     NaN     NaN    NaN   \n",
       "1         1  영업/정상      영업   NaN     NaN     NaN    NaN   \n",
       "2         1  영업/정상      영업   NaN     NaN     NaN    NaN   \n",
       "3         1  영업/정상      영업   NaN     NaN     NaN    NaN   \n",
       "4         1  영업/정상      영업   NaN     NaN     NaN    NaN   \n",
       "\n",
       "                             소재지전체주소  \\\n",
       "0  서울특별시 강서구 마곡동 757 두산더랜드파크 B동 207호   \n",
       "1             서울특별시 강서구 화곡동 827-2 1층   \n",
       "2    서울특별시 강남구 역삼동 707-34 한신인터밸리24빌딩   \n",
       "3               서울특별시 강남구 대치동 896-28   \n",
       "4          서울특별시 강남구 삼성동 159-7 현대백화점   \n",
       "\n",
       "                                           도로명전체주소         사업장명 업태구분명  \\\n",
       "0  서울특별시 강서구 마곡중앙로 161-8, 두산더랜드파크 B동 2층 207호 (마곡동)     혼밥대왕 마곡점    한식   \n",
       "1                   서울특별시 강서구 등촌로13다길 35, 1층 (화곡동)  꾸어가게생선구이화곡점    한식   \n",
       "2  서울특별시 강남구 테헤란로 322, 한신인터밸리24빌딩 지하2층 B130호 (역삼동)        인생갈비탕    한식   \n",
       "3            서울특별시 강남구 테헤란로68길 25, 지하1층 지하1호 (대치동)  놀부 공유주방 선릉역    한식   \n",
       "4             서울특별시 강남구 테헤란로 517, 현대백화점 지하1층 (삼성동)          온기정    일식   \n",
       "\n",
       "         좌표정보(x)        좌표정보(y) 위생업태명  \n",
       "0            NaN            NaN    한식  \n",
       "1  187499.286366  448069.583478    한식  \n",
       "2  204044.789949  444529.840427    한식  \n",
       "3  204603.136055  444606.621961    한식  \n",
       "4  205210.358779  445154.422252    일식  "
      ]
     },
     "execution_count": 210,
     "metadata": {},
     "output_type": "execute_result"
    }
   ],
   "source": [
    "df.head()"
   ]
  },
  {
   "cell_type": "code",
   "execution_count": 211,
   "metadata": {},
   "outputs": [],
   "source": [
    "# 폐업 후 재개업 하지 않은 음식점 삭제\n",
    "df.drop(index=(df[(df[\"폐업일자\"].notna()) & (df[\"재개업일자\"].isnull())].index),inplace=True)"
   ]
  },
  {
   "cell_type": "code",
   "execution_count": 212,
   "metadata": {},
   "outputs": [
    {
     "name": "stdout",
     "output_type": "stream",
     "text": [
      "0\n",
      "0\n",
      "0\n",
      "0\n",
      "0\n",
      "0\n"
     ]
    }
   ],
   "source": [
    "# 정상 영업하는 가게의 해당 컬럼들은 의미 없으므로 삭제\n",
    "print(df[\"폐업일자\"].notna().sum())\n",
    "print(df[\"휴업시작일자\"].notna().sum())\n",
    "print(df[\"휴업종료일자\"].notna().sum())\n",
    "print(df[\"재개업일자\"].notna().sum())\n",
    "print(df[df[\"상세영업상태명\"] != \"영업\"].shape[0])\n",
    "print(df[df[\"영업상태명\"] != \"영업/정상\"].shape[0])\n",
    "df.drop(columns=[\"폐업일자\",\"휴업시작일자\",\"휴업종료일자\",\"재개업일자\",\"상세영업상태명\",\"영업상태구분코드\",\"영업상태명\"],inplace=True)\n"
   ]
  },
  {
   "cell_type": "code",
   "execution_count": 213,
   "metadata": {},
   "outputs": [],
   "source": [
    "# 사업자명이 null값이 아니면서 치킨이 포함되는 음식점이거나 업태구분명, 위생업태명에 통닭이 포함되는 업체만 출력\n",
    "df = df[(df[\"사업장명\"].notna()) & (df[\"사업장명\"].str.contains(\"치킨\")) | (df[\"업태구분명\"].str.contains(\"통닭\")) | (df[\"위생업태명\"].str.contains(\"통닭\"))].reset_index(drop=True)"
   ]
  },
  {
   "cell_type": "code",
   "execution_count": 214,
   "metadata": {},
   "outputs": [],
   "source": [
    "# 도로명전체주소 컬럼에서 구를 추출\n",
    "def find_address_gu(address):\n",
    "    words = address.split()  # 공백 기준으로 나누기\n",
    "    for word in words:\n",
    "        if word.endswith('구'):  # \"구\"로 끝나면 전체 반환\n",
    "            return word\n",
    "\n",
    "def find_address_dong(address):\n",
    "    words = address.split()  # 공백 기준으로 나누기\n",
    "    for word in words:\n",
    "        if word.endswith('가'):\n",
    "            if word[-2].isdigit():\n",
    "                return word\n",
    "                \n",
    "        elif word.endswith('동'): \n",
    "            return word\n",
    "        \n",
    "        elif '동' in word: \n",
    "                index = word.find('동')\n",
    "                return word[:index + 1] \n"
   ]
  },
  {
   "cell_type": "code",
   "execution_count": 215,
   "metadata": {},
   "outputs": [],
   "source": [
    "# \"구\" 값 초기화\n",
    "df[\"구\"] = None\n",
    "\n",
    "# 도로명전체주소에서 구 추출\n",
    "df.loc[df['도로명전체주소'].notna(), \"구\"] = df.loc[df['도로명전체주소'].notna(), \"도로명전체주소\"].apply(find_address_gu)\n",
    "\n",
    "# 소재지전체주소에서 구 추출 (도로명전체주소가 NaN인 경우만 업데이트)\n",
    "df.loc[df['소재지전체주소'].notna() & df[\"구\"].isna(), \"구\"] = df.loc[df['소재지전체주소'].notna(), \"소재지전체주소\"].apply(find_address_gu)\n"
   ]
  },
  {
   "cell_type": "code",
   "execution_count": 216,
   "metadata": {},
   "outputs": [
    {
     "data": {
      "text/plain": [
       "array(['은평구', '영등포구', '중구', '종로구', '서초구', '성북구', '서대문구', '송파구', '양천구',\n",
       "       '관악구', '광진구', '마포구', '강서구', '구로구', '금천구', '강북구', '강동구', '노원구',\n",
       "       '성동구', '동작구', '중랑구', '강남구', '용산구', '도봉구', '동대문구'], dtype=object)"
      ]
     },
     "execution_count": 216,
     "metadata": {},
     "output_type": "execute_result"
    }
   ],
   "source": [
    "df[df[\"구\"].notna()][\"구\"].unique()"
   ]
  },
  {
   "cell_type": "code",
   "execution_count": 217,
   "metadata": {},
   "outputs": [
    {
     "data": {
      "text/html": [
       "<div>\n",
       "<style scoped>\n",
       "    .dataframe tbody tr th:only-of-type {\n",
       "        vertical-align: middle;\n",
       "    }\n",
       "\n",
       "    .dataframe tbody tr th {\n",
       "        vertical-align: top;\n",
       "    }\n",
       "\n",
       "    .dataframe thead th {\n",
       "        text-align: right;\n",
       "    }\n",
       "</style>\n",
       "<table border=\"1\" class=\"dataframe\">\n",
       "  <thead>\n",
       "    <tr style=\"text-align: right;\">\n",
       "      <th></th>\n",
       "      <th>소재지전체주소</th>\n",
       "      <th>도로명전체주소</th>\n",
       "      <th>사업장명</th>\n",
       "      <th>업태구분명</th>\n",
       "      <th>좌표정보(x)</th>\n",
       "      <th>좌표정보(y)</th>\n",
       "      <th>위생업태명</th>\n",
       "      <th>구</th>\n",
       "    </tr>\n",
       "  </thead>\n",
       "  <tbody>\n",
       "  </tbody>\n",
       "</table>\n",
       "</div>"
      ],
      "text/plain": [
       "Empty DataFrame\n",
       "Columns: [소재지전체주소, 도로명전체주소, 사업장명, 업태구분명, 좌표정보(x), 좌표정보(y), 위생업태명, 구]\n",
       "Index: []"
      ]
     },
     "execution_count": 217,
     "metadata": {},
     "output_type": "execute_result"
    }
   ],
   "source": [
    "df[df[\"구\"].isna()]"
   ]
  },
  {
   "cell_type": "code",
   "execution_count": 218,
   "metadata": {},
   "outputs": [],
   "source": [
    "df[\"동\"] = df[(df[\"구\"] == (\"서대문구\")) & (df[\"소재지전체주소\"].notna())][\"소재지전체주소\"].apply(find_address_dong)"
   ]
  },
  {
   "cell_type": "code",
   "execution_count": 219,
   "metadata": {},
   "outputs": [],
   "source": [
    "df.loc[(df[\"구\"] == \"서대문구\") & (df[\"동\"].str.contains(\"충정로\")), \"동\"] = \"충정로가\""
   ]
  },
  {
   "cell_type": "code",
   "execution_count": 220,
   "metadata": {},
   "outputs": [
    {
     "data": {
      "text/plain": [
       "array(['창천동', '홍제동', '남가좌동', '연희동', '북가좌동', '북아현동', '충정로가', '홍은동', '냉천동',\n",
       "       '옥천동', '대현동', '미근동', '대신동', '천연동', '영천동', '합동'], dtype=object)"
      ]
     },
     "execution_count": 220,
     "metadata": {},
     "output_type": "execute_result"
    }
   ],
   "source": [
    "df[(df[\"구\"] == \"서대문구\") & (df[\"동\"].notna())][\"동\"].unique()"
   ]
  },
  {
   "cell_type": "code",
   "execution_count": 221,
   "metadata": {},
   "outputs": [
    {
     "data": {
      "text/html": [
       "<div>\n",
       "<style scoped>\n",
       "    .dataframe tbody tr th:only-of-type {\n",
       "        vertical-align: middle;\n",
       "    }\n",
       "\n",
       "    .dataframe tbody tr th {\n",
       "        vertical-align: top;\n",
       "    }\n",
       "\n",
       "    .dataframe thead th {\n",
       "        text-align: right;\n",
       "    }\n",
       "</style>\n",
       "<table border=\"1\" class=\"dataframe\">\n",
       "  <thead>\n",
       "    <tr style=\"text-align: right;\">\n",
       "      <th></th>\n",
       "      <th>소재지전체주소</th>\n",
       "      <th>도로명전체주소</th>\n",
       "      <th>사업장명</th>\n",
       "      <th>업태구분명</th>\n",
       "      <th>좌표정보(x)</th>\n",
       "      <th>좌표정보(y)</th>\n",
       "      <th>위생업태명</th>\n",
       "      <th>구</th>\n",
       "      <th>동</th>\n",
       "    </tr>\n",
       "  </thead>\n",
       "  <tbody>\n",
       "  </tbody>\n",
       "</table>\n",
       "</div>"
      ],
      "text/plain": [
       "Empty DataFrame\n",
       "Columns: [소재지전체주소, 도로명전체주소, 사업장명, 업태구분명, 좌표정보(x), 좌표정보(y), 위생업태명, 구, 동]\n",
       "Index: []"
      ]
     },
     "execution_count": 221,
     "metadata": {},
     "output_type": "execute_result"
    }
   ],
   "source": [
    "df[(df[\"구\"] == \"서대문구\") & (df[\"동\"].isna())]"
   ]
  },
  {
   "cell_type": "code",
   "execution_count": 222,
   "metadata": {},
   "outputs": [
    {
     "data": {
      "text/html": [
       "<div>\n",
       "<style scoped>\n",
       "    .dataframe tbody tr th:only-of-type {\n",
       "        vertical-align: middle;\n",
       "    }\n",
       "\n",
       "    .dataframe tbody tr th {\n",
       "        vertical-align: top;\n",
       "    }\n",
       "\n",
       "    .dataframe thead th {\n",
       "        text-align: right;\n",
       "    }\n",
       "</style>\n",
       "<table border=\"1\" class=\"dataframe\">\n",
       "  <thead>\n",
       "    <tr style=\"text-align: right;\">\n",
       "      <th></th>\n",
       "      <th>동</th>\n",
       "      <th>count</th>\n",
       "    </tr>\n",
       "  </thead>\n",
       "  <tbody>\n",
       "    <tr>\n",
       "      <th>0</th>\n",
       "      <td>창천동</td>\n",
       "      <td>99</td>\n",
       "    </tr>\n",
       "    <tr>\n",
       "      <th>1</th>\n",
       "      <td>홍제동</td>\n",
       "      <td>61</td>\n",
       "    </tr>\n",
       "    <tr>\n",
       "      <th>2</th>\n",
       "      <td>북가좌동</td>\n",
       "      <td>53</td>\n",
       "    </tr>\n",
       "    <tr>\n",
       "      <th>3</th>\n",
       "      <td>남가좌동</td>\n",
       "      <td>52</td>\n",
       "    </tr>\n",
       "    <tr>\n",
       "      <th>4</th>\n",
       "      <td>홍은동</td>\n",
       "      <td>51</td>\n",
       "    </tr>\n",
       "    <tr>\n",
       "      <th>5</th>\n",
       "      <td>연희동</td>\n",
       "      <td>45</td>\n",
       "    </tr>\n",
       "    <tr>\n",
       "      <th>6</th>\n",
       "      <td>북아현동</td>\n",
       "      <td>24</td>\n",
       "    </tr>\n",
       "    <tr>\n",
       "      <th>7</th>\n",
       "      <td>충정로가</td>\n",
       "      <td>22</td>\n",
       "    </tr>\n",
       "    <tr>\n",
       "      <th>8</th>\n",
       "      <td>대현동</td>\n",
       "      <td>19</td>\n",
       "    </tr>\n",
       "    <tr>\n",
       "      <th>9</th>\n",
       "      <td>냉천동</td>\n",
       "      <td>12</td>\n",
       "    </tr>\n",
       "    <tr>\n",
       "      <th>10</th>\n",
       "      <td>미근동</td>\n",
       "      <td>6</td>\n",
       "    </tr>\n",
       "    <tr>\n",
       "      <th>11</th>\n",
       "      <td>옥천동</td>\n",
       "      <td>3</td>\n",
       "    </tr>\n",
       "    <tr>\n",
       "      <th>12</th>\n",
       "      <td>천연동</td>\n",
       "      <td>3</td>\n",
       "    </tr>\n",
       "    <tr>\n",
       "      <th>13</th>\n",
       "      <td>대신동</td>\n",
       "      <td>2</td>\n",
       "    </tr>\n",
       "    <tr>\n",
       "      <th>14</th>\n",
       "      <td>영천동</td>\n",
       "      <td>2</td>\n",
       "    </tr>\n",
       "    <tr>\n",
       "      <th>15</th>\n",
       "      <td>합동</td>\n",
       "      <td>2</td>\n",
       "    </tr>\n",
       "  </tbody>\n",
       "</table>\n",
       "</div>"
      ],
      "text/plain": [
       "       동  count\n",
       "0    창천동     99\n",
       "1    홍제동     61\n",
       "2   북가좌동     53\n",
       "3   남가좌동     52\n",
       "4    홍은동     51\n",
       "5    연희동     45\n",
       "6   북아현동     24\n",
       "7   충정로가     22\n",
       "8    대현동     19\n",
       "9    냉천동     12\n",
       "10   미근동      6\n",
       "11   옥천동      3\n",
       "12   천연동      3\n",
       "13   대신동      2\n",
       "14   영천동      2\n",
       "15    합동      2"
      ]
     },
     "execution_count": 222,
     "metadata": {},
     "output_type": "execute_result"
    }
   ],
   "source": [
    "graph_data = df[df[\"구\"] == \"서대문구\"][\"동\"].value_counts().reset_index()\n",
    "graph_data"
   ]
  },
  {
   "cell_type": "code",
   "execution_count": 223,
   "metadata": {},
   "outputs": [
    {
     "data": {
      "image/png": "[encoded data removed]",
      "text/plain": [
       "<Figure size 640x480 with 1 Axes>"
      ]
     },
     "metadata": {},
     "output_type": "display_data"
    }
   ],
   "source": [
    "plt.figure()\n",
    "squarify.plot(sizes=graph_data[\"count\"], label=graph_data[\"동\"])\n",
    "plt.show()"
   ]
  },
  {
   "cell_type": "code",
   "execution_count": null,
   "metadata": {},
   "outputs": [],
   "source": []
  }
 ],
 "metadata": {
  "kernelspec": {
   "display_name": "base",
   "language": "python",
   "name": "python3"
  },
  "language_info": {
   "codemirror_mode": {
    "name": "ipython",
    "version": 3
   },
   "file_extension": ".py",
   "mimetype": "text/x-python",
   "name": "python",
   "nbconvert_exporter": "python",
   "pygments_lexer": "ipython3",
   "version": "3.12.7"
  }
 },
 "nbformat": 4,
 "nbformat_minor": 2
}
