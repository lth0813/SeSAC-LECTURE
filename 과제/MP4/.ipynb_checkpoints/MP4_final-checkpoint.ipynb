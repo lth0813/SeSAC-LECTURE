{
 "cells": [
  {
   "cell_type": "code",
   "execution_count": 16,
   "metadata": {},
   "outputs": [],
   "source": [
    "from urllib.request import urlopen\n",
    "import requests\n",
    "import bs4\n",
    "from selenium import webdriver\n",
    "from selenium.webdriver.chrome.service import Service as ChromeService\n",
    "from webdriver_manager.chrome import ChromeDriverManager\n",
    "from selenium.webdriver.common.by import By\n",
    "import pandas as pd"
   ]
  },
  {
   "cell_type": "code",
   "execution_count": 17,
   "metadata": {},
   "outputs": [],
   "source": [
    "class Chart():\n",
    "    def __init__(self):\n",
    "        self.df = pd.DataFrame(columns=[\"서비스\", \"순위\", \"타이틀\", \"가수\"])\n",
    "        self.services = {\n",
    "            \"Bugs\": {\n",
    "                \"url\": \"https://music.bugs.co.kr/chart\",\n",
    "                \"titles\": 'p.title a',\n",
    "                \"artists\": 'p.artist',\n",
    "                \"pages\": 1\n",
    "            },\n",
    "            \"Melon\": {\n",
    "                \"url\": \"https://www.melon.com/chart/index.htm\",\n",
    "                \"titles\": 'div.ellipsis.rank01 a',\n",
    "                \"artists\": 'div.ellipsis.rank02',\n",
    "                \"pages\": 1\n",
    "            },\n",
    "            \"Genie\": {\n",
    "                \"url_template\": \"https://www.genie.co.kr/chart/top200?ditc=D&ymd=20250123&hh=14&rtm=Y&pg={page}\",\n",
    "                \"titles\": 'td.info .title.ellipsis',\n",
    "                \"artists\": 'td.info .artist.ellipsis',\n",
    "                \"pages\": 2\n",
    "            }\n",
    "        }\n",
    "    \n",
    "    def fetch_chart(self, platform, service):\n",
    "        rank = 1\n",
    "        for page in range(1, service[\"pages\"] + 1):\n",
    "            if \"url_template\" in service:\n",
    "                url = service[\"url_template\"].format(page=page)\n",
    "            else:\n",
    "                url = service[\"url\"]\n",
    "            header = {'User-Agent' : 'Mozilla/5.0 (Windows NT 10.0; Win64; x64) AppleWebKit/537.36 (KHTML, like Gecko) Chrome/132.0.0.0 Safari/537.36'}\n",
    "            res = requests.get(url, stream=True, headers=header)\n",
    "            html = res.content\n",
    "            bs = bs4.BeautifulSoup(html,'html.parser')\n",
    "            titles = bs.select(service[\"titles\"])\n",
    "            artists = bs.select(service[\"artists\"])\n",
    "            for title, artist in zip(titles[:100],artists[:100]):\n",
    "                if platform == \"Genie\":\n",
    "                    singer = artist.text.strip()\n",
    "                else:\n",
    "                    singer = artist.find_all('a')[0].text.strip()\n",
    "                self.df.loc[len(self.df)] = {\n",
    "                    \"서비스\" : platform,\n",
    "                    \"순위\" : rank,\n",
    "                    \"타이틀\" : title.text.strip(),\n",
    "                    \"가수\" : singer,\n",
    "                }\n",
    "                rank += 1\n",
    "    \n",
    "    def get_chart(self):\n",
    "        for platform, service in self.services.items():\n",
    "            self.fetch_chart(platform, service)\n",
    "        return self.df"
   ]
  },
  {
   "cell_type": "code",
   "execution_count": 18,
   "metadata": {},
   "outputs": [],
   "source": [
    "chart = Chart()\n",
    "final_df = chart.get_chart()\n",
    "final_df.to_excel(\"MP4.xlsx\", index=False)"
   ]
  }
 ],
 "metadata": {
  "kernelspec": {
   "display_name": "base",
   "language": "python",
   "name": "python3"
  },
  "language_info": {
   "codemirror_mode": {
    "name": "ipython",
    "version": 3
   },
   "file_extension": ".py",
   "mimetype": "text/x-python",
   "name": "python",
   "nbconvert_exporter": "python",
   "pygments_lexer": "ipython3",
   "version": "3.12.7"
  }
 },
 "nbformat": 4,
 "nbformat_minor": 2
}
