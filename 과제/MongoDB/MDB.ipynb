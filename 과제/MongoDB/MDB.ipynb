{
 "cells": [
  {
   "cell_type": "markdown",
   "metadata": {},
   "source": [
    "### Mongo DB에 연결하여 이미지 파일 저장/수정/삭제 및 출력하는 파이썬 프로그램 작성"
   ]
  },
  {
   "cell_type": "code",
   "execution_count": 3,
   "metadata": {},
   "outputs": [],
   "source": [
    "from pymongo import MongoClient\n",
    "import gridfs"
   ]
  },
  {
   "cell_type": "code",
   "execution_count": 4,
   "metadata": {},
   "outputs": [],
   "source": [
    "client = MongoClient(\"mongodb://localhost:27017/\")\n",
    "db = client[\"image_db\"]"
   ]
  },
  {
   "cell_type": "code",
   "execution_count": 5,
   "metadata": {},
   "outputs": [],
   "source": [
    "fs = gridfs.GridFS(db)"
   ]
  },
  {
   "cell_type": "code",
   "execution_count": 6,
   "metadata": {},
   "outputs": [],
   "source": [
    "def save_image(image_path):\n",
    "    with open(image_path, \"rb\") as file:\n",
    "        # 이미지 저장\n",
    "        file_id = fs.put(file, filename = image_path)\n",
    "        print(f\"{file_id} 이미지가 저장되었습니다.\" )\n",
    "        return file_id"
   ]
  },
  {
   "cell_type": "code",
   "execution_count": null,
   "metadata": {},
   "outputs": [],
   "source": [
    "def update_image(file_id, new_image_path):\n",
    "    # 기존 이미지 삭제\n",
    "    fs.delete(file_id)\n",
    "    # 새 이미지 저장\n",
    "    with open(new_image_path, \"rb\") as file:\n",
    "        new_file_id = fs.put(file, filename = new_image_path)\n",
    "        print(f'{new_file_id} 이미지로 업데이트 되었습니다.')\n",
    "        return new_file_id"
   ]
  },
  {
   "cell_type": "code",
   "execution_count": 8,
   "metadata": {},
   "outputs": [],
   "source": [
    "def delete_image(file_id):\n",
    "    # 파일 삭제\n",
    "    fs.delete(file_id)\n",
    "    print(f\"{file_id} 이미지가 삭제되었습니다.\")"
   ]
  },
  {
   "cell_type": "code",
   "execution_count": 9,
   "metadata": {},
   "outputs": [],
   "source": [
    "from PIL import Image\n",
    "from io import BytesIO"
   ]
  },
  {
   "cell_type": "code",
   "execution_count": 10,
   "metadata": {},
   "outputs": [],
   "source": [
    "def display_image(file_id):\n",
    "    stored_file = fs.get(file_id)\n",
    "    image_data = stored_file.read()\n",
    "\n",
    "    image = Image.open(BytesIO(image_data))\n",
    "    image.show()"
   ]
  },
  {
   "cell_type": "code",
   "execution_count": 20,
   "metadata": {},
   "outputs": [
    {
     "name": "stdout",
     "output_type": "stream",
     "text": [
      "67ac3a1e5261ccfa095097a9 이미지가 저장되었습니다.\n"
     ]
    }
   ],
   "source": [
    "image_id = save_image(\"dog.jpg\")"
   ]
  },
  {
   "cell_type": "code",
   "execution_count": 21,
   "metadata": {},
   "outputs": [],
   "source": [
    "display_image(image_id)"
   ]
  },
  {
   "cell_type": "code",
   "execution_count": 22,
   "metadata": {},
   "outputs": [
    {
     "name": "stdout",
     "output_type": "stream",
     "text": [
      "67ac3a245261ccfa095097ab 이미지로 업데이트 되었습니다.\n"
     ]
    }
   ],
   "source": [
    "image_id = update_image(image_id, \"cat.jpg\")"
   ]
  },
  {
   "cell_type": "code",
   "execution_count": 23,
   "metadata": {},
   "outputs": [],
   "source": [
    "display_image(image_id)"
   ]
  },
  {
   "cell_type": "code",
   "execution_count": null,
   "metadata": {},
   "outputs": [
    {
     "name": "stdout",
     "output_type": "stream",
     "text": [
      "67ac39f45261ccfa095097a7 이미지가 삭제되었습니다.\n"
     ]
    }
   ],
   "source": [
    "delete_image(image_id)"
   ]
  },
  {
   "cell_type": "code",
   "execution_count": null,
   "metadata": {},
   "outputs": [],
   "source": []
  }
 ],
 "metadata": {
  "kernelspec": {
   "display_name": "base",
   "language": "python",
   "name": "python3"
  },
  "language_info": {
   "codemirror_mode": {
    "name": "ipython",
    "version": 3
   },
   "file_extension": ".py",
   "mimetype": "text/x-python",
   "name": "python",
   "nbconvert_exporter": "python",
   "pygments_lexer": "ipython3",
   "version": "3.12.7"
  }
 },
 "nbformat": 4,
 "nbformat_minor": 2
}
