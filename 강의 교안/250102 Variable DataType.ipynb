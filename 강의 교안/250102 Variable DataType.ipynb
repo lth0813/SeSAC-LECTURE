{
 "cells": [
  {
   "cell_type": "markdown",
   "metadata": {
    "id": "QZA6oUTsxztl"
   },
   "source": [
    "# 4장 변수와 자료형"
   ]
  },
  {
   "cell_type": "markdown",
   "metadata": {
    "id": "c4UUj24Dxztp"
   },
   "source": [
    "## 4.1 변수"
   ]
  },
  {
   "cell_type": "markdown",
   "metadata": {
    "id": "adyrktM3xztr"
   },
   "source": [
    "- 자료를 넣을 수 있는 상자인 변수와 파이썬에서 지원하는 자료형(데이터 타입)"
   ]
  },
  {
   "cell_type": "code",
   "execution_count": 4,
   "metadata": {
    "id": "sxeg6oK4xztr"
   },
   "outputs": [
    {
     "data": {
      "text/plain": [
       "6170.0"
      ]
     },
     "execution_count": 4,
     "metadata": {},
     "output_type": "execute_result"
    }
   ],
   "source": [
    "12340 * 1/2"
   ]
  },
  {
   "cell_type": "code",
   "execution_count": 5,
   "metadata": {
    "id": "a0QxONzyxzts"
   },
   "outputs": [
    {
     "data": {
      "text/plain": [
       "3085.0"
      ]
     },
     "execution_count": 5,
     "metadata": {},
     "output_type": "execute_result"
    }
   ],
   "source": [
    "12340 * 1/4"
   ]
  },
  {
   "cell_type": "code",
   "execution_count": 6,
   "metadata": {
    "id": "AF9SKENLxzts"
   },
   "outputs": [
    {
     "data": {
      "text/plain": [
       "2468.0"
      ]
     },
     "execution_count": 6,
     "metadata": {},
     "output_type": "execute_result"
    }
   ],
   "source": [
    "12340 * 1/5"
   ]
  },
  {
   "cell_type": "markdown",
   "metadata": {
    "id": "EJ2urItMxztt"
   },
   "source": [
    "- 매번 연산할 때마다 12340을 반복적으로 썼음\n",
    "- 간단한 연산에서도 숫자를 반복해 서 입력해야 할 경우 매번 같은 숫자를 입력하는 것\n",
    "- 숫자 12340 을 어떤 상자에 넣고 이름을 붙인 후 이 이름을 부를 때마다 상자에 넣은 숫자가 나온다면 편리"
   ]
  },
  {
   "cell_type": "markdown",
   "metadata": {
    "id": "oZ4eVoZFxztt"
   },
   "source": [
    "**# 숫자와 같은 자료(data)를 넣을 수 있는 상자를 변수(variable)라 하고 상자에 붙인 이름을 변수명(혹은 변수 이름)**\n",
    " - 실제로 변수는 컴퓨터의 임시 저장 공간(메모리)에 저장\n",
    " - 파이썬에서는 등호(=)를 이용해 변수에 자료를 넣음(할당)\n",
    " - '변수명 = data' 같은 형태로 사용 \n",
    " - 자료가 숫자라면 data에 숫자를 쓰면 되고 문자열이라면 문자열을 쓰면 됨\n",
    " - 변수명과 등호, 등호와 data 사이의 공백은 무시(즉, 공백은 있든 없든 상관없음)"
   ]
  },
  {
   "cell_type": "code",
   "execution_count": 9,
   "metadata": {
    "id": "Bu4aV-ZLxztu"
   },
   "outputs": [
    {
     "name": "stdout",
     "output_type": "stream",
     "text": [
      "12340\n"
     ]
    }
   ],
   "source": [
    "abc = 12340\n",
    "print(abc)"
   ]
  },
  {
   "cell_type": "markdown",
   "metadata": {
    "id": "GWxaMwtPxztu"
   },
   "source": [
    "- 변수에 자료를 할당한 경우 print(변수명)으로 변수명에 할당한 값을 출력할 수 있음\n",
    "- print(변수명)을 이용하지 않더라도 변수명을 실행해 변수에 할당된 값을 출력할 수도 있음"
   ]
  },
  {
   "cell_type": "code",
   "execution_count": 11,
   "metadata": {
    "id": "CKdl-TVzxztv"
   },
   "outputs": [
    {
     "data": {
      "text/plain": [
       "12340"
      ]
     },
     "execution_count": 11,
     "metadata": {},
     "output_type": "execute_result"
    }
   ],
   "source": [
    "abc"
   ]
  },
  {
   "cell_type": "markdown",
   "metadata": {
    "id": "HeG6gWlTxztv"
   },
   "source": [
    "- 숫자 12340을 쓰는 대신 변수 abc를 이용해 연산하고 출력"
   ]
  },
  {
   "cell_type": "code",
   "execution_count": 13,
   "metadata": {
    "id": "6PD1BTI3xztv"
   },
   "outputs": [
    {
     "name": "stdout",
     "output_type": "stream",
     "text": [
      "6170.0\n",
      "3085.0\n",
      "2468.0\n"
     ]
    }
   ],
   "source": [
    "print(abc * 1/2)\n",
    "print(abc * 1/4)\n",
    "print(abc * 1/5)"
   ]
  },
  {
   "cell_type": "markdown",
   "metadata": {
    "id": "666V-FX6xztw"
   },
   "source": [
    "**# 규칙을 지키면서 변수명 작성**\n",
    "- 변수명을 문자, 숫자, 밑줄 기호(_)를 이용해 만듬\n",
    "- 숫자로 시작하는 변수명을 만들수 없음\n",
    "- 대소문자를 구분\n",
    "- 공백을 포함할 수 없음\n",
    "- 밑줄 이외의 기호는 변수로 시용할 수 없음\n",
    "- 예약어(Reserved word)는 변수명으로 이용할 수 없음"
   ]
  },
  {
   "cell_type": "markdown",
   "metadata": {
    "id": "Zsulfll_xztw"
   },
   "source": [
    "**# 상수**\n",
    "- 프로그래밍 언어에서 어떤 숫자를 변수에 할당한 후에 프로그램이 끝날 때까지 그 변수의 값을 변경하지 않고 사용하는 경우\n",
    "- 한 번 지정한 후 그 값이 변하지 않는 변수를 상수(constant variable)라고 함"
   ]
  },
  {
   "cell_type": "markdown",
   "metadata": {
    "id": "RG0c40SPxztw"
   },
   "source": [
    "## 4.2 문자열"
   ]
  },
  {
   "cell_type": "markdown",
   "metadata": {
    "id": "ftpp-Gzvxztx"
   },
   "source": [
    "### 문자열 만들기"
   ]
  },
  {
   "cell_type": "markdown",
   "metadata": {
    "id": "5bbS-Oxsxztx"
   },
   "source": [
    "- 문자열은 문자의 나열을 의미하는데, 파이씬에서는 따옴표로 둘러싸인 문자의 집합\n",
    "- 문자열을 표시하기 위해 문자열 시작과 끝에 큰따옴표(\")나 작은따옴표(')를 지정\n",
    "- 둘 중 어떤 것을 사용해도 되지만 양쪽에는 같은 기호를 이용"
   ]
  },
  {
   "cell_type": "code",
   "execution_count": 19,
   "metadata": {
    "id": "ZS6_tEx_xztx"
   },
   "outputs": [
    {
     "name": "stdout",
     "output_type": "stream",
     "text": [
      "String Test\n"
     ]
    }
   ],
   "source": [
    "print(\"String Test\")"
   ]
  },
  {
   "cell_type": "code",
   "execution_count": 20,
   "metadata": {
    "id": "3-keCgcixztz"
   },
   "outputs": [
    {
     "name": "stdout",
     "output_type": "stream",
     "text": [
      "String Test\n"
     ]
    }
   ],
   "source": [
    "print('String Test')"
   ]
  },
  {
   "cell_type": "markdown",
   "metadata": {
    "id": "tmPtHaylxztz"
   },
   "source": [
    "- 문자열을 변수에 저장한 후 print() 함수로 출력"
   ]
  },
  {
   "cell_type": "code",
   "execution_count": 22,
   "metadata": {
    "id": "M--cK_e8xzt0"
   },
   "outputs": [
    {
     "name": "stdout",
     "output_type": "stream",
     "text": [
      "String Test 1\n",
      "String Test 2\n"
     ]
    }
   ],
   "source": [
    "string1 = \"String Test 1\"\n",
    "string2 = 'String Test 2'\n",
    "print(string1)\n",
    "print(string2)"
   ]
  },
  {
   "cell_type": "markdown",
   "metadata": {
    "id": "nXAYN26wxzt0"
   },
   "source": [
    "- 변수에 할당한 문자열의 타입(type)은?"
   ]
  },
  {
   "cell_type": "code",
   "execution_count": 24,
   "metadata": {
    "id": "WyHlfnZJxzt0"
   },
   "outputs": [
    {
     "data": {
      "text/plain": [
       "str"
      ]
     },
     "execution_count": 24,
     "metadata": {},
     "output_type": "execute_result"
    }
   ],
   "source": [
    "type(string1)"
   ]
  },
  {
   "cell_type": "code",
   "execution_count": 25,
   "metadata": {
    "id": "6iIDPPLsxzt0"
   },
   "outputs": [
    {
     "data": {
      "text/plain": [
       "str"
      ]
     },
     "execution_count": 25,
     "metadata": {},
     "output_type": "execute_result"
    }
   ],
   "source": [
    "type(string2)"
   ]
  },
  {
   "cell_type": "markdown",
   "metadata": {
    "id": "H3-3bT4Vxzt1"
   },
   "source": [
    "- 출력 결과는 str\n",
    "- 변수 string과 string2에 할당한 데이터의 타입이 문자열(string)인 것을 의미 "
   ]
  },
  {
   "cell_type": "markdown",
   "metadata": {
    "id": "raLbNNh5xzt1"
   },
   "source": [
    "- 문자열 안에 큰따옴표나 작은따옴표도 포함하려면 어떻게 해야 할까요?"
   ]
  },
  {
   "cell_type": "code",
   "execution_count": 28,
   "metadata": {
    "id": "-FwGU5Afxzt1"
   },
   "outputs": [
    {
     "name": "stdout",
     "output_type": "stream",
     "text": [
      "This is a \"double\" quotation test\n",
      "This is a 'single' quotation test\n"
     ]
    }
   ],
   "source": [
    "string3 = 'This is a \"double\" quotation test'\n",
    "string4 = \"This is a 'single' quotation test\"\n",
    "print(string3)\n",
    "print(string4)"
   ]
  },
  {
   "cell_type": "markdown",
   "metadata": {
    "id": "qheHgfL8xzt1"
   },
   "source": [
    "- 문자열에 큰따옴표를 포함하려면 문자열을 작은따옴표로 감싸고 작은따옴표를 포함하려면 큰따옴표로 감싸면 됨"
   ]
  },
  {
   "cell_type": "markdown",
   "metadata": {
    "id": "mpgfCLBoxzt1"
   },
   "source": [
    "- 문자열에 큰따옴표와 작은따음표를 모두 포함하고 싶거나 문장을 여러 행 넣고 싶거나 입력한 그 대로 출력하고 싶을 때는?"
   ]
  },
  {
   "cell_type": "code",
   "execution_count": 31,
   "metadata": {
    "id": "u2Gmf-6Kxzt2"
   },
   "outputs": [
    {
     "name": "stdout",
     "output_type": "stream",
     "text": [
      "[삼중 작은따옴표를 사용한 예]\n",
      "파이썬에는 삼중 따옴표로 여러 행의 문자열을 입력할 수 있습니다.\n",
      "큰따옴표(\")와 작은따옴표(')도 입력할 수 있습니다.\n",
      "[삼중 큰따옴표를 사용한 예]\n",
      "파이썬에는 삼중 따옴표로 여러 행의 문자열을 입력할 수 있습니다.\n",
      "큰따옴표(\")와 작은따옴표(')도 입력할 수 있습니다.\n"
     ]
    }
   ],
   "source": [
    "long_string1 = '''[삼중 작은따옴표를 사용한 예]\n",
    "파이썬에는 삼중 따옴표로 여러 행의 문자열을 입력할 수 있습니다.\n",
    "큰따옴표(\")와 작은따옴표(')도 입력할 수 있습니다.''' \n",
    "\n",
    "long_string2 = \"\"\"[삼중 큰따옴표를 사용한 예]\n",
    "파이썬에는 삼중 따옴표로 여러 행의 문자열을 입력할 수 있습니다.\n",
    "큰따옴표(\")와 작은따옴표(')도 입력할 수 있습니다.\"\"\" \n",
    "\n",
    "print(long_string1)\n",
    "print(long_string2)"
   ]
  },
  {
   "cell_type": "markdown",
   "metadata": {
    "id": "7mBmqVVzxzt2"
   },
   "source": [
    "- 문자열 전체를 삼중 큰따옴표 (\"\"\") 나 삼중 작은따옴표 (\"\"\")로 감싸면 됨"
   ]
  },
  {
   "cell_type": "markdown",
   "metadata": {
    "id": "9xNYVKnbxzt2"
   },
   "source": [
    " - 파이씬 3.x에서는 한글도 문자열에 이용할 수 있음\n",
    " - 파이썬 3.x이 유니코드(Unicode)를 지원해 기본적으로 문자열이 유니코드로 처리되기 때문"
   ]
  },
  {
   "cell_type": "markdown",
   "metadata": {
    "id": "tmgUqbjgxzt2"
   },
   "source": [
    "### 문자열 다루기"
   ]
  },
  {
   "cell_type": "markdown",
   "metadata": {
    "id": "VnNhbJ9bxzt3"
   },
   "source": [
    "**문자열에는 더하기 연산자(+)와 곱하기 연산자(*)를 이용할 수 있음**\n",
    "- 더하기 연산자(+)는 문자열 끼리 연결(concatenation)해 문자열을 하나로 만듬\n",
    "- 곱하기 연산자(*)는 곱한 만큼 문자열을 반복함"
   ]
  },
  {
   "cell_type": "code",
   "execution_count": 36,
   "metadata": {
    "id": "nwGptQgKxzt3"
   },
   "outputs": [
    {
     "name": "stdout",
     "output_type": "stream",
     "text": [
      "Enjoy python!\n"
     ]
    }
   ],
   "source": [
    "a = 'Enjoy '\n",
    "b = 'python!'\n",
    "c = a + b\n",
    "print(c)"
   ]
  },
  {
   "cell_type": "code",
   "execution_count": 37,
   "metadata": {
    "id": "SurEslnNxzt3"
   },
   "outputs": [
    {
     "name": "stdout",
     "output_type": "stream",
     "text": [
      "Enjoy Enjoy Enjoy \n"
     ]
    }
   ],
   "source": [
    "print(a * 3)"
   ]
  },
  {
   "cell_type": "markdown",
   "metadata": {
    "id": "8Fr9WYNXxzt3"
   },
   "source": [
    "## 4.3 리스트"
   ]
  },
  {
   "cell_type": "markdown",
   "metadata": {
    "id": "2oOOrwV0xzt4"
   },
   "source": [
    "- 숫자, 문자열, 불 데이터 타입 (이런 데이터 타입은 데이터를 하나씩만 처리할 수 있음)"
   ]
  },
  {
   "cell_type": "markdown",
   "metadata": {
    "id": "i4XXSfFcxzt4"
   },
   "source": [
    "- 데이터를 묶어 놓으면 처리하기가 필요할때가 있음\n",
    "- 예를 들면, 학교에서 학생의 과목별(국어，영어, 수학, 과학 등) 시험 점수를 처리한다거나 학급별로 학생의 이름 을 지정할 때 데이터를 묶어서 관리하면 편리함"
   ]
  },
  {
   "cell_type": "markdown",
   "metadata": {
    "id": "OAk5W9f-xzt4"
   },
   "source": [
    "- 이렇게 할 수 있는 것이 바로 리스트(List)"
   ]
  },
  {
   "cell_type": "markdown",
   "metadata": {
    "id": "SXo0w7Hyxzt4"
   },
   "source": [
    "### 리스트 만들기"
   ]
  },
  {
   "cell_type": "markdown",
   "metadata": {
    "id": "jsKEPNVbxzt5"
   },
   "source": [
    "- 리스트는 대괄호([ ])를 이용해 만듬\n",
    "- 대괄호 안에 올 수 있는 항목{혹은 요소)의 데이터 타입은 다양함 \n",
    "- 숫자, 문자열, 불, 리스트 등을 넣을 수 있음, 또한 튜플, 세트, 딕셔너리 도 넣을 수 있음"
   ]
  },
  {
   "cell_type": "markdown",
   "metadata": {
    "id": "vcuwlfjKxzt5"
   },
   "source": [
    "- 리스트를 만들 때 각 항목의 데이터 타입은 같지 않아도 됨\n",
    "- 데이터는 입력한 순서대로 지정되며 항목은 콤마(,)로 구분\n",
    "- 대괄호 안에 아무것도 쓰지 않으면 빈 리스트가 만들어짐 \n",
    "- 빈 리스트에는 데이터는 없지만 데이터 형태는 리스트임"
   ]
  },
  {
   "cell_type": "code",
   "execution_count": 45,
   "metadata": {
    "id": "R3HAQznZxzt5"
   },
   "outputs": [
    {
     "data": {
      "text/plain": [
       "[90, 95, 85, 80]"
      ]
     },
     "execution_count": 45,
     "metadata": {},
     "output_type": "execute_result"
    }
   ],
   "source": [
    "# 1번 학생의 국어, 영어, 수학, 과학 점수가 각각 90,95,85,80\n",
    "student1 = [90,95,85,80] \n",
    "student1"
   ]
  },
  {
   "cell_type": "markdown",
   "metadata": {
    "id": "5deOaBKixzt5"
   },
   "source": [
    "- type() 함수를 이용 해 변수 student1 의 데이터 타입을 확인"
   ]
  },
  {
   "cell_type": "code",
   "execution_count": 47,
   "metadata": {
    "id": "i5dezEU_xzt5"
   },
   "outputs": [
    {
     "data": {
      "text/plain": [
       "list"
      ]
     },
     "execution_count": 47,
     "metadata": {},
     "output_type": "execute_result"
    }
   ],
   "source": [
    "type(student1)"
   ]
  },
  {
   "cell_type": "markdown",
   "metadata": {
    "id": "DBScXP-Yxzt6"
   },
   "source": [
    "**리스트 타입의 데이터가 할당된 변수(리스트 변수)의 구조**\n",
    "- 리스트에서 각 항목은，변수명[i]로 지정 할 수 있음\n",
    "- 여기서 i를 리스트 변수의 인덱스(index)라고 함\n",
    "- 만약 N개의 항목이 있는 리스트 타입의 데이터가 있다면 인덱스 i의 범위는 0부터 'N - 1'까지 임\n",
    "- 첫 번째 요소는 '변수명[0]',두 번째 요소는 '변수명[1],세 번째 요소는 변수명[2], \n",
    "- 인덱스의 숫자가 증가하다가 마지막 요소는 '변수명[N-1]'이 됨\n",
    "- 마지막 항목은 '변수명 [-1]'로도 지정할 수도 있음"
   ]
  },
  {
   "cell_type": "code",
   "execution_count": 49,
   "metadata": {
    "id": "iB6UXZkdxzt6"
   },
   "outputs": [
    {
     "data": {
      "text/plain": [
       "90"
      ]
     },
     "execution_count": 49,
     "metadata": {},
     "output_type": "execute_result"
    }
   ],
   "source": [
    "student1[0]"
   ]
  },
  {
   "cell_type": "code",
   "execution_count": 50,
   "metadata": {
    "id": "Y0si_gmmxzt6"
   },
   "outputs": [
    {
     "data": {
      "text/plain": [
       "95"
      ]
     },
     "execution_count": 50,
     "metadata": {},
     "output_type": "execute_result"
    }
   ],
   "source": [
    "student1[1]"
   ]
  },
  {
   "cell_type": "code",
   "execution_count": 51,
   "metadata": {
    "id": "je212Yawxzt6"
   },
   "outputs": [
    {
     "data": {
      "text/plain": [
       "80"
      ]
     },
     "execution_count": 51,
     "metadata": {},
     "output_type": "execute_result"
    }
   ],
   "source": [
    "student1[-1]"
   ]
  },
  {
   "cell_type": "markdown",
   "metadata": {
    "id": "MVHMvxr0xzt7"
   },
   "source": [
    "**리스트의 특정 항목을 변경하려면 '변수명[i] = new_data'를 이용해 리스트 변수에서 인덱스 i 항목을 new_data로 변경할 수 있음**"
   ]
  },
  {
   "cell_type": "markdown",
   "metadata": {
    "id": "UJ21riqWxzt7"
   },
   "source": [
    "- 리스트 변수 student1 에서 두 번째 항목을 새로운 데이터로 할당하고 리스트 변수를 출력"
   ]
  },
  {
   "cell_type": "code",
   "execution_count": 54,
   "metadata": {
    "id": "UJw45y0rxzt7"
   },
   "outputs": [
    {
     "data": {
      "text/plain": [
       "[90, 100, 85, 80]"
      ]
     },
     "execution_count": 54,
     "metadata": {},
     "output_type": "execute_result"
    }
   ],
   "source": [
    "student1[1] = 100 # 두 번째 항목에 새로운 데이터 할당\n",
    "student1"
   ]
  },
  {
   "cell_type": "markdown",
   "metadata": {
    "id": "tM2jLJrkxzt7"
   },
   "source": [
    "**리스트에 문자열을 입력**"
   ]
  },
  {
   "cell_type": "code",
   "execution_count": 56,
   "metadata": {
    "id": "C5F93xCvxzt7"
   },
   "outputs": [
    {
     "data": {
      "text/plain": [
       "['James', 'Robert', 'Lisa', 'Mary']"
      ]
     },
     "execution_count": 56,
     "metadata": {},
     "output_type": "execute_result"
    }
   ],
   "source": [
    "myFriends = ['James', 'Robert', 'Lisa', 'Mary']\n",
    "myFriends"
   ]
  },
  {
   "cell_type": "markdown",
   "metadata": {
    "id": "K_jzCEHJxzt8"
   },
   "source": [
    "**리스트 변수 myFriends에서 세 번째, 네 번째, 마지막 항목을 지정**"
   ]
  },
  {
   "cell_type": "code",
   "execution_count": 58,
   "metadata": {
    "id": "Ylt07oukxzt8"
   },
   "outputs": [
    {
     "data": {
      "text/plain": [
       "'Lisa'"
      ]
     },
     "execution_count": 58,
     "metadata": {},
     "output_type": "execute_result"
    }
   ],
   "source": [
    "myFriends[2]"
   ]
  },
  {
   "cell_type": "code",
   "execution_count": 59,
   "metadata": {
    "id": "8SvWYojvxzt8"
   },
   "outputs": [
    {
     "data": {
      "text/plain": [
       "'Mary'"
      ]
     },
     "execution_count": 59,
     "metadata": {},
     "output_type": "execute_result"
    }
   ],
   "source": [
    "myFriends[3]"
   ]
  },
  {
   "cell_type": "code",
   "execution_count": 60,
   "metadata": {
    "id": "TLZQfv5Sxzt8"
   },
   "outputs": [
    {
     "data": {
      "text/plain": [
       "'Mary'"
      ]
     },
     "execution_count": 60,
     "metadata": {},
     "output_type": "execute_result"
    }
   ],
   "source": [
    "myFriends[-1]"
   ]
  },
  {
   "cell_type": "markdown",
   "metadata": {
    "id": "1fcoY2Btxzt8"
   },
   "source": [
    "- 리스트 변수 myFriends의 네 번째 항목이 마지막 항목이므로 myFriends[3]과 myFriends[-1]은 줄력 결과가 같음"
   ]
  },
  {
   "cell_type": "markdown",
   "metadata": {
    "id": "ZlvxsGA1xzt9"
   },
   "source": [
    "**숫자, 문자열，불，리스트를 혼합한 형태의 리스트**"
   ]
  },
  {
   "cell_type": "code",
   "execution_count": 63,
   "metadata": {
    "id": "iss3T8r8xzt9"
   },
   "outputs": [
    {
     "data": {
      "text/plain": [
       "[0, 2, 3.14, 'python', 'program', True, ['James', 'Robert', 'Lisa', 'Mary']]"
      ]
     },
     "execution_count": 63,
     "metadata": {},
     "output_type": "execute_result"
    }
   ],
   "source": [
    "mixedList = [0, 2, 3.14, 'python', 'program', True, myFriends]\n",
    "mixedList"
   ]
  },
  {
   "cell_type": "markdown",
   "metadata": {
    "id": "er7B60chxzt9"
   },
   "source": [
    "### 리스트 다루기"
   ]
  },
  {
   "cell_type": "markdown",
   "metadata": {
    "id": "i_pBK5atxzt9"
   },
   "source": [
    "#### 리스트 더하기와 곱하기"
   ]
  },
  {
   "cell_type": "markdown",
   "metadata": {
    "id": "BqpckxsYxzt-"
   },
   "source": [
    "- 문자열과 마찬가지로 리스트도 더하기와 곱하기를 할 수 있음\n",
    "- 더하기는 두 리스트를 연결하고 곱하기는 리스트를 곱한 수만큼 반복함"
   ]
  },
  {
   "cell_type": "code",
   "execution_count": 67,
   "metadata": {
    "id": "rsBdMFXtxzt-"
   },
   "outputs": [
    {
     "name": "stdout",
     "output_type": "stream",
     "text": [
      "[1, 2, 3, 4, 5, 6, 7, 8]\n"
     ]
    }
   ],
   "source": [
    "list_con1= [1,2,3,4]\n",
    "list_con2 = [5,6,7,8]\n",
    "list_con = list_con1 + list_con2 # 리스트 연결\n",
    "\n",
    "print(list_con)"
   ]
  },
  {
   "cell_type": "markdown",
   "metadata": {
    "id": "hnbBHEZWxzt-"
   },
   "source": [
    "**곱하기**"
   ]
  },
  {
   "cell_type": "code",
   "execution_count": 69,
   "metadata": {
    "id": "A4vTcr5dxzt-"
   },
   "outputs": [
    {
     "name": "stdout",
     "output_type": "stream",
     "text": [
      "[1, 2, 3, 4, 1, 2, 3, 4, 1, 2, 3, 4]\n"
     ]
    }
   ],
   "source": [
    "list_con1= [1,2,3,4]\n",
    "list_con = list_con1 * 3 # 리스트 반복\n",
    "\n",
    "print(list_con)"
   ]
  },
  {
   "cell_type": "markdown",
   "metadata": {
    "id": "byoZrV_dxzt-"
   },
   "source": [
    "#### 리스트 중 일부 항목 가져오기"
   ]
  },
  {
   "cell_type": "markdown",
   "metadata": {
    "id": "uJxVCWHbxzt_"
   },
   "source": [
    "- 인덱스의 범위를 지정 해 리스트 중 일부 항목을 가져올수 있음"
   ]
  },
  {
   "cell_type": "markdown",
   "metadata": {
    "id": "26DPl89lxzt_"
   },
   "source": [
    "- 리스트 [ i_start ： i_end ]\n",
    "- 리스트 [ i_start ： i_end ： i_step ]"
   ]
  },
  {
   "cell_type": "markdown",
   "metadata": {
    "id": "qpYaH_Obxzt_"
   },
   "source": [
    "- i_start, i_end, i_step은 각각 인덱스의 시작, 끝，스템(증가 단계)\n",
    "- 인텍스의 범위를 지정하면 ’i_start'에서 ’i_end - 1'까지의 리스트를 반환\n",
    "- i_start를 생략하면 인덱스는 0 으로 간주하고 i_end를 생략하면 인덱스는 마지막이라고 간주"
   ]
  },
  {
   "cell_type": "code",
   "execution_count": 74,
   "metadata": {
    "id": "c9MqCVjrxzuA"
   },
   "outputs": [
    {
     "name": "stdout",
     "output_type": "stream",
     "text": [
      "[0, 1, 2, 3, 4, 5, 6, 7, 8, 9]\n",
      "[0, 1, 2]\n",
      "[4, 5, 6, 7]\n",
      "[0, 1, 2]\n",
      "[7, 8, 9]\n",
      "[0, 2, 4, 6, 8]\n"
     ]
    }
   ],
   "source": [
    "list_data = [0, 1, 2, 3, 4, 5, 6, 7, 8, 9]\n",
    "print(list_data)\n",
    "print(list_data[0:3])\n",
    "print(list_data[4:8])\n",
    "print(list_data[:3])\n",
    "print(list_data[7:])\n",
    "print(list_data[::2])"
   ]
  },
  {
   "cell_type": "markdown",
   "metadata": {
    "id": "u_j5pwlYxzuA"
   },
   "source": [
    "####  리스트에서 항목 삭제하기"
   ]
  },
  {
   "cell_type": "markdown",
   "metadata": {
    "id": "ITRCB6eFxzuA"
   },
   "source": [
    "- 리스트에서 인덱스가 i인 항목을 삭제하려면 ‘del 리스트[i]’를 이용"
   ]
  },
  {
   "cell_type": "code",
   "execution_count": 77,
   "metadata": {
    "id": "gJ9aptNnxzuA"
   },
   "outputs": [
    {
     "name": "stdout",
     "output_type": "stream",
     "text": [
      "[0, 1, 2, 3, 4, 5, 6, 7, 8, 9]\n",
      "[0, 1, 2, 3, 4, 5, 7, 8, 9]\n"
     ]
    }
   ],
   "source": [
    "print(list_data)\n",
    "del list_data[6]\n",
    "print(list_data)"
   ]
  },
  {
   "cell_type": "markdown",
   "metadata": {
    "id": "g4cYDFe9xzuB"
   },
   "source": [
    "- 'del list_data[6]’을 실행해 인덱스 6의 위치에 있는 항목(여기서는 6)이 삭제"
   ]
  },
  {
   "cell_type": "markdown",
   "metadata": {
    "id": "95qq9_PPxzuB"
   },
   "source": [
    "#### 리스트에서 항목의 존재 여부 확인하기"
   ]
  },
  {
   "cell_type": "markdown",
   "metadata": {
    "id": "nEP1pyZ9xzuB"
   },
   "source": [
    "- 리스트에 어떤 항목이 있는지 확인하려면 '항목 in 리스트'를 이용\n",
    "- 리스트에 항목이 있으면 True를, 없으면 False를 반환"
   ]
  },
  {
   "cell_type": "code",
   "execution_count": 81,
   "metadata": {
    "id": "PMlFCXtxxzuC"
   },
   "outputs": [
    {
     "name": "stdout",
     "output_type": "stream",
     "text": [
      "True\n",
      "False\n"
     ]
    }
   ],
   "source": [
    "list_data1 = [1, 2, 3, 4, 5]\n",
    "print(5 in list_data1)\n",
    "print(6 in list_data1)"
   ]
  },
  {
   "cell_type": "markdown",
   "metadata": {
    "id": "MNIixuJaxzuC"
   },
   "source": [
    "- 결과에서 5는 리스트 list_data1 의 요소이므로 True를 반환했고 6은 리스트의 요소가 아니므로 False 를 반환"
   ]
  },
  {
   "cell_type": "markdown",
   "metadata": {
    "id": "olMqWz2mxzuC"
   },
   "source": [
    "#### 리스트 메서드 활용하기"
   ]
  },
  {
   "cell_type": "markdown",
   "metadata": {
    "id": "QJ2qdt9gxzuC"
   },
   "source": [
    "- 파이썬에서는 데이터 타입(자료형)별로 이용할 수 있는 다양한 함수를 제공하는데 이를 메서드라고 함"
   ]
  },
  {
   "cell_type": "markdown",
   "metadata": {
    "id": "6aJU_VaKxzuC"
   },
   "source": [
    "- 메서드는 다음과 같은 형식으로 사용 할 수 있음\n",
    "- 자료형.매서드이름()"
   ]
  },
  {
   "cell_type": "markdown",
   "metadata": {
    "id": "mFRbIlQnxzuD"
   },
   "source": [
    "- 데이터를 변수에 할당했다면 다음과 같이 변수명을 이용할 수도 있음\n",
    "- 변수명.매서드이름()"
   ]
  },
  {
   "cell_type": "markdown",
   "metadata": {
    "id": "zmZNK5YWxzuD"
   },
   "source": [
    "- 리스트에서는 데이터의 추가，삽입, 삭제 등의 작업을 메서드로 수행"
   ]
  },
  {
   "cell_type": "markdown",
   "metadata": {
    "id": "qtF_qPpdxzuD"
   },
   "source": [
    "**append()는 리스트의 맨 끝에 새로운 항목을 추가**"
   ]
  },
  {
   "cell_type": "code",
   "execution_count": 89,
   "metadata": {
    "id": "EYcgwQ57xzuD"
   },
   "outputs": [
    {
     "name": "stdout",
     "output_type": "stream",
     "text": [
      "['James', 'Robert', 'Lisa', 'Mary']\n",
      "['James', 'Robert', 'Lisa', 'Mary', 'Thomas']\n"
     ]
    }
   ],
   "source": [
    "myFriends = ['James', 'Robert', 'Lisa', 'Mary']\n",
    "print(myFriends)\n",
    "myFriends.append('Thomas')\n",
    "print(myFriends)"
   ]
  },
  {
   "cell_type": "markdown",
   "metadata": {
    "id": "AscFAfv_xzuD"
   },
   "source": [
    "**insert()**\n",
    "- insert() 메서드는 리스트의 원하는 위치에 데이터를 삽입 하는데 이용\n",
    "- 자료형.insert(i,data)\n",
    "- 항목의 위치를 나타내는 인덱스 i에 data가 삽입\n",
    "- 이때 기존의 인덱스가 i 이상인 항목은 인덱스가 1씩 증가하면서 이동"
   ]
  },
  {
   "cell_type": "code",
   "execution_count": 91,
   "metadata": {
    "id": "UcoPGhQuxzuE"
   },
   "outputs": [
    {
     "name": "stdout",
     "output_type": "stream",
     "text": [
      "['James', 'Robert', 'Lisa', 'Mary']\n",
      "['James', 'Paul', 'Robert', 'Lisa', 'Mary']\n"
     ]
    }
   ],
   "source": [
    "myFriends = ['James', 'Robert', 'Lisa', 'Mary']\n",
    "print(myFriends)\n",
    "myFriends.insert(1,'Paul')\n",
    "print(myFriends)"
   ]
  },
  {
   "cell_type": "markdown",
   "metadata": {
    "id": "SwykPprCxzuE"
   },
   "source": [
    "**extend()**\n",
    "- extend()메서드는 리스트의 맨 끝에 여러 개의 항목을 추가하는데 이용"
   ]
  },
  {
   "cell_type": "code",
   "execution_count": 93,
   "metadata": {
    "id": "EQjUSsNbxzuE"
   },
   "outputs": [
    {
     "name": "stdout",
     "output_type": "stream",
     "text": [
      "['James', 'Robert', 'Lisa', 'Mary']\n",
      "['James', 'Robert', 'Lisa', 'Mary', 'Laura', 'Betty']\n"
     ]
    }
   ],
   "source": [
    "myFriends = ['James', 'Robert', 'Lisa', 'Mary']\n",
    "print(myFriends)\n",
    "myFriends.extend(['Laura', 'Betty'])\n",
    "print(myFriends)"
   ]
  },
  {
   "cell_type": "markdown",
   "metadata": {
    "id": "yQCjJ6sAxzuF"
   },
   "source": [
    "## 4.4 튜플"
   ]
  },
  {
   "cell_type": "markdown",
   "metadata": {
    "id": "4WY1_MKExzuF"
   },
   "source": [
    "- 튜플(Tuple)은 리스트와 유사하게 데이터 여러 개를 하나로 묶는 데 이용\n",
    "- 튜플의 항목은 숫자, 문자열, 불，리스트, 튜플, 세트, 딕셔너리 등으로 만들 수 있음\n",
    "- 튜플의 속성은 리스트와 유사\n",
    "- 튜플 데이터는 한 번 입력(흑은 생성)하면 그 이후에는 항목을 변경할 수가 없음"
   ]
  },
  {
   "cell_type": "markdown",
   "metadata": {
    "id": "CTw9FC20xzuF"
   },
   "source": [
    "### 튜플 만들기"
   ]
  },
  {
   "cell_type": "markdown",
   "metadata": {
    "id": "zf_b8rMBxzuF"
   },
   "source": [
    "- 튜플은 대괄호 대신 소괄호(( ))를 사용하거나 괄호를 사용하지 않고 데이터를 입력\n",
    "- 항목은 리스트와 마찬가지로 콤마(,)로 구분"
   ]
  },
  {
   "cell_type": "code",
   "execution_count": 98,
   "metadata": {
    "id": "gFK0-8yMxzuG"
   },
   "outputs": [
    {
     "data": {
      "text/plain": [
       "(1, 2, 3, 4)"
      ]
     },
     "execution_count": 98,
     "metadata": {},
     "output_type": "execute_result"
    }
   ],
   "source": [
    "tuple1 = (1,2,3,4)\n",
    "tuple1"
   ]
  },
  {
   "cell_type": "markdown",
   "metadata": {
    "id": "eu5qMOtexzuG"
   },
   "source": [
    "- type()을 이용해 앞에서 생성한 데이터의 타입을 확인"
   ]
  },
  {
   "cell_type": "code",
   "execution_count": 100,
   "metadata": {
    "id": "Vm9XlcuvxzuG"
   },
   "outputs": [
    {
     "data": {
      "text/plain": [
       "tuple"
      ]
     },
     "execution_count": 100,
     "metadata": {},
     "output_type": "execute_result"
    }
   ],
   "source": [
    "type(tuple1)"
   ]
  },
  {
   "cell_type": "markdown",
   "metadata": {
    "id": "2kBbwfHcxzuG"
   },
   "source": [
    "- 리스트처럼 튜플도 ’변수명[i]'로 튜플의 각 요소를 지정"
   ]
  },
  {
   "cell_type": "code",
   "execution_count": 102,
   "metadata": {
    "id": "u4nEmmlIxzuH"
   },
   "outputs": [
    {
     "data": {
      "text/plain": [
       "2"
      ]
     },
     "execution_count": 102,
     "metadata": {},
     "output_type": "execute_result"
    }
   ],
   "source": [
    "tuple1[1]"
   ]
  },
  {
   "cell_type": "markdown",
   "metadata": {
    "id": "7L2yHO5ixzuH"
   },
   "source": [
    "- 소괄호를 사용하지 않고 튜플을 생성"
   ]
  },
  {
   "cell_type": "code",
   "execution_count": 104,
   "metadata": {
    "id": "sRdeP2b1xzuH"
   },
   "outputs": [
    {
     "name": "stdout",
     "output_type": "stream",
     "text": [
      "(5, 6, 7, 8)\n"
     ]
    }
   ],
   "source": [
    "tuple2 = 5,6,7,8\n",
    "print(tuple2)"
   ]
  },
  {
   "cell_type": "code",
   "execution_count": 105,
   "metadata": {
    "id": "AAe7jukpxzuH"
   },
   "outputs": [
    {
     "data": {
      "text/plain": [
       "tuple"
      ]
     },
     "execution_count": 105,
     "metadata": {},
     "output_type": "execute_result"
    }
   ],
   "source": [
    "type(tuple2)"
   ]
  },
  {
   "cell_type": "markdown",
   "metadata": {
    "id": "0SQWiwafxzuH"
   },
   "source": [
    "- 항목을 하나만 갖는 튜플을 생성할 때는 항목을 입력한 후에 반드시 콤마(,)를 입력\n",
    "- 소괄호가 있거나 없거나 모두 콤마를 반드시 입력"
   ]
  },
  {
   "cell_type": "code",
   "execution_count": 107,
   "metadata": {
    "id": "hbQFQeyxxzuI"
   },
   "outputs": [
    {
     "name": "stdout",
     "output_type": "stream",
     "text": [
      "(9,)\n",
      "(10,)\n"
     ]
    }
   ],
   "source": [
    "tuple3 = (9,) # 반드시 쉼표(',') 필요\n",
    "tuple4 = 10,  # 반드시 쉼표(',') 필요\n",
    "print(tuple3)\n",
    "print(tuple4)"
   ]
  },
  {
   "cell_type": "markdown",
   "metadata": {
    "id": "HzdF0mkBxzuI"
   },
   "source": [
    "### 튜플 다루기"
   ]
  },
  {
   "cell_type": "markdown",
   "metadata": {
    "id": "6Ki3OXZFxzuI"
   },
   "source": [
    "- 한번 생성된 튜플은 요소를 변경하거나 삭제할 수 없음\n",
    "- 튜플의 이런 특성으로 튜플은 한 번 생성한 후에 요소를 변경할 필요가 없거나 변경할 수 없도록 하고 싶을 때 주로 이용"
   ]
  },
  {
   "cell_type": "code",
   "execution_count": 110,
   "metadata": {
    "id": "N-ijR-lFxzuI"
   },
   "outputs": [
    {
     "ename": "TypeError",
     "evalue": "'tuple' object does not support item assignment",
     "output_type": "error",
     "traceback": [
      "\u001b[1;31m---------------------------------------------------------------------------\u001b[0m",
      "\u001b[1;31mTypeError\u001b[0m                                 Traceback (most recent call last)",
      "Cell \u001b[1;32mIn[110], line 2\u001b[0m\n\u001b[0;32m      1\u001b[0m tuple5 \u001b[38;5;241m=\u001b[39m (\u001b[38;5;241m1\u001b[39m,\u001b[38;5;241m2\u001b[39m,\u001b[38;5;241m3\u001b[39m,\u001b[38;5;241m4\u001b[39m)\n\u001b[1;32m----> 2\u001b[0m tuple5[\u001b[38;5;241m1\u001b[39m] \u001b[38;5;241m=\u001b[39m \u001b[38;5;241m5\u001b[39m\n",
      "\u001b[1;31mTypeError\u001b[0m: 'tuple' object does not support item assignment"
     ]
    }
   ],
   "source": [
    "tuple5 = (1,2,3,4)\n",
    "tuple5[1] = 5 # 한번 생성된 튜플의 요소는 변경되지 않음"
   ]
  },
  {
   "cell_type": "code",
   "execution_count": 126,
   "metadata": {
    "id": "UbriG_vmxzuI"
   },
   "outputs": [
    {
     "ename": "TypeError",
     "evalue": "'tuple' object doesn't support item deletion",
     "output_type": "error",
     "traceback": [
      "\u001b[1;31m---------------------------------------------------------------------------\u001b[0m",
      "\u001b[1;31mTypeError\u001b[0m                                 Traceback (most recent call last)",
      "Cell \u001b[1;32mIn[126], line 1\u001b[0m\n\u001b[1;32m----> 1\u001b[0m \u001b[38;5;28;01mdel\u001b[39;00m tuple5[\u001b[38;5;241m1\u001b[39m]\n",
      "\u001b[1;31mTypeError\u001b[0m: 'tuple' object doesn't support item deletion"
     ]
    }
   ],
   "source": [
    "del tuple5[1] # 한번 생성된 튜플 요소는 삭제되지 않음"
   ]
  },
  {
   "cell_type": "markdown",
   "metadata": {
    "id": "MZGn0VDdxzuJ"
   },
   "source": [
    "- 튜플의 요소를 변경하거나 삭제하는 메서드는 튜플에서 이용할 수 없지만 \n",
    "- index() 메서드나 count() 메서드처럼 요소를 변경하지 않는 메서드는 튜플에서도 사용할 수 있음"
   ]
  },
  {
   "cell_type": "markdown",
   "metadata": {
    "id": "69KgrehLxzuJ"
   },
   "source": [
    "- index() 메서드는 인자와 일치하는 첫 번째 항목의 위치를 반환하고 \n",
    "- count() 메서드는 인자와 일치하는 항목의 개수를 반환"
   ]
  },
  {
   "cell_type": "code",
   "execution_count": 128,
   "metadata": {
    "id": "a0Z6LbkkxzuJ"
   },
   "outputs": [
    {
     "data": {
      "text/plain": [
       "2"
      ]
     },
     "execution_count": 128,
     "metadata": {},
     "output_type": "execute_result"
    }
   ],
   "source": [
    "tuple6 = ('a', 'b', 'c', 'd', 'e', 'f')\n",
    "tuple6.index('c')"
   ]
  },
  {
   "cell_type": "markdown",
   "metadata": {
    "id": "b1HLn1w6xzuJ"
   },
   "source": [
    "- index() 메서드의 인자 c 와 일치하는 튜플의 위치는 세번째이므로 2를 반환했음"
   ]
  },
  {
   "cell_type": "markdown",
   "metadata": {
    "id": "UsNjA4SlxzuK"
   },
   "source": [
    "- 특정 인자와 일치하는 항목의 개수를 알고 싶을 때는 count() 메서드를 이용"
   ]
  },
  {
   "cell_type": "code",
   "execution_count": 132,
   "metadata": {
    "id": "ioCKuJMJxzuK"
   },
   "outputs": [
    {
     "data": {
      "text/plain": [
       "3"
      ]
     },
     "execution_count": 132,
     "metadata": {},
     "output_type": "execute_result"
    }
   ],
   "source": [
    "tuple7 = ('a', 'a', 'a', 'b', 'b', 'c', 'd')\n",
    "tuple7.count('a')"
   ]
  },
  {
   "cell_type": "markdown",
   "metadata": {
    "id": "teVHSNqpxzuK"
   },
   "source": [
    "- count() 메서드의 인자 'a'와 일치하는 튜플 항목의 개수는 세개이므로 3을 반환"
   ]
  },
  {
   "cell_type": "markdown",
   "metadata": {
    "id": "IV9lo12LxzuK"
   },
   "source": [
    "## 4.5 세트"
   ]
  },
  {
   "cell_type": "markdown",
   "metadata": {
    "id": "qN67mUWYxzuK"
   },
   "source": [
    "- 세트는 수학의 집합 개념을 파이썬에서 이용할 수 있도록 만든 데이터 타입\n",
    "- 세트가 리스트와 튜플과 다른 점은 데이터의 순서가 없고 데이터를 중복해서 쓸 수 없다는 것\n",
    "- 세트는 리스트에서 사용했던 메서드 외에 집합의 기본이 되는 교집합，합집합, 차집합을 구하는 메서드를 사용할 수 있음"
   ]
  },
  {
   "cell_type": "markdown",
   "metadata": {
    "id": "ByGDprv6xzuL"
   },
   "source": [
    "### 세트 만들기"
   ]
  },
  {
   "cell_type": "markdown",
   "metadata": {
    "id": "a3ldwLnWxzuL"
   },
   "source": [
    "- 세트를 생성할 때는 중괄호({})로 데이터를 감싸면 됨\n",
    "- 항목과 항목 사이에는 리스트나 튜플과 마찬가지로 콤마(,)가 들어감"
   ]
  },
  {
   "cell_type": "code",
   "execution_count": 139,
   "metadata": {
    "id": "jBRuLGJDxzuL"
   },
   "outputs": [
    {
     "name": "stdout",
     "output_type": "stream",
     "text": [
      "{1, 2, 3}\n",
      "{1, 2, 3}\n"
     ]
    }
   ],
   "source": [
    "set1 = {1, 2, 3}\n",
    "set1a = {1, 2, 3, 3}\n",
    "print(set1)\n",
    "print(set1a)"
   ]
  },
  {
   "cell_type": "markdown",
   "metadata": {
    "id": "r7Q0n4GixzuL"
   },
   "source": [
    "- 두개의 변수(set1, set1a)에 각각 세트를 생성해 대입\n",
    "- 변수 set1a에는 3을 중복해서 대입했지만 출력된 결과를 보면 set1a에는 중복된 데이터는 하나만 입력된 것을 볼 수 있음"
   ]
  },
  {
   "cell_type": "markdown",
   "metadata": {
    "id": "CEeIgCa9xzuL"
   },
   "source": [
    "- 세트의 데이터 타입을 확인하기 위해서는 type() 함수를 이용"
   ]
  },
  {
   "cell_type": "code",
   "execution_count": 143,
   "metadata": {
    "id": "T2j504P2xzuM"
   },
   "outputs": [
    {
     "data": {
      "text/plain": [
       "set"
      ]
     },
     "execution_count": 143,
     "metadata": {},
     "output_type": "execute_result"
    }
   ],
   "source": [
    "type(set1)"
   ]
  },
  {
   "cell_type": "markdown",
   "metadata": {
    "id": "jRIppqVfxzuM"
   },
   "source": [
    "### 세트의 교집합, 합집합, 차집합 구하기"
   ]
  },
  {
   "cell_type": "markdown",
   "metadata": {
    "id": "dFrrqhpxxzuM"
   },
   "source": [
    "- 세트에서 사용할 수 있는 교집합, 합집합, 차집합 메서드를 이용"
   ]
  },
  {
   "cell_type": "markdown",
   "metadata": {
    "id": "OWa4xWntxzuM"
   },
   "source": [
    "- 교집합(intersection): 두 집합 A와 B가 았을 때 집합 A에도 속하고 집합 B에도 속하는 원소로 이뤄진 집합. \n",
    "- 합집합(union): 두 집합 A와 때 있을 때 집합 A에 속하거나 집합 답에 속하는 원소로 이뤄진 집합. \n",
    "- 차집합(difference): 두 집합 A와 B가 있을 때 집합 A에는 속하고 집합 B에는 속하지 않는 원소로 이뤄진 집합"
   ]
  },
  {
   "cell_type": "markdown",
   "metadata": {
    "id": "BT2rCDdMxzuM"
   },
   "source": [
    "- 교집합，합집합，차집합을 위한 메서드는 각각 intersection(), union(), difference()"
   ]
  },
  {
   "cell_type": "code",
   "execution_count": 149,
   "metadata": {
    "id": "-BtvwxICxzuN"
   },
   "outputs": [
    {
     "data": {
      "text/plain": [
       "{4, 5}"
      ]
     },
     "execution_count": 149,
     "metadata": {},
     "output_type": "execute_result"
    }
   ],
   "source": [
    "A = {1, 2, 3, 4, 5}         # Set A\n",
    "B = {4, 5, 6, 7, 8, 9, 10}  # Set B\n",
    "A.intersection(B)  # 집합 A에 대한 집합 B의 교집합(A∩B)"
   ]
  },
  {
   "cell_type": "code",
   "execution_count": 151,
   "metadata": {
    "id": "DnOxaP4axzuN"
   },
   "outputs": [
    {
     "data": {
      "text/plain": [
       "{1, 2, 3, 4, 5, 6, 7, 8, 9, 10}"
      ]
     },
     "execution_count": 151,
     "metadata": {},
     "output_type": "execute_result"
    }
   ],
   "source": [
    "A.union(B) # 집합 A에 대한 집합 B의 합집합(A∪B)"
   ]
  },
  {
   "cell_type": "code",
   "execution_count": 153,
   "metadata": {
    "id": "N2LEEi8bxzuN"
   },
   "outputs": [
    {
     "data": {
      "text/plain": [
       "{1, 2, 3}"
      ]
     },
     "execution_count": 153,
     "metadata": {},
     "output_type": "execute_result"
    }
   ],
   "source": [
    "A.difference(B) # 집합 A에 대한 집합 B의 차집합(A-B)"
   ]
  },
  {
   "cell_type": "markdown",
   "metadata": {
    "id": "lGuhXIQUxzuN"
   },
   "source": [
    "- 집합의 교집합, 합집합, 차집합을 구하기 위해 메서드를 이용했지만 연산자를 이용할 수도 있음\n",
    "- 세트가 두 개 있다고 할 때 두 집합의 교집합，합집합, 차집합을 위한 세트 연산자는 각각 '&', '|', '-'임"
   ]
  },
  {
   "cell_type": "code",
   "execution_count": 156,
   "metadata": {
    "id": "My2liF97xzuO",
    "scrolled": true
   },
   "outputs": [
    {
     "data": {
      "text/plain": [
       "{4, 5}"
      ]
     },
     "execution_count": 156,
     "metadata": {},
     "output_type": "execute_result"
    }
   ],
   "source": [
    "A = {1, 2, 3, 4, 5}         # Set A\n",
    "B = {4, 5, 6, 7, 8, 9, 10}  # Set B\n",
    "A & B  # 집합 A에 대한 집합 B의 교집합(A∩B)"
   ]
  },
  {
   "cell_type": "code",
   "execution_count": 158,
   "metadata": {
    "id": "1sSjZq9qxzuO"
   },
   "outputs": [
    {
     "data": {
      "text/plain": [
       "{1, 2, 3, 4, 5, 6, 7, 8, 9, 10}"
      ]
     },
     "execution_count": 158,
     "metadata": {},
     "output_type": "execute_result"
    }
   ],
   "source": [
    "A | B  # 집합 A에 대한 집합 B의 합집합(A∪B)"
   ]
  },
  {
   "cell_type": "code",
   "execution_count": 160,
   "metadata": {
    "id": "brcJhQxHxzuO"
   },
   "outputs": [
    {
     "data": {
      "text/plain": [
       "{1, 2, 3}"
      ]
     },
     "execution_count": 160,
     "metadata": {},
     "output_type": "execute_result"
    }
   ],
   "source": [
    "A - B  # 집합 A에 대한 집합 B의 차집합(A-B)"
   ]
  },
  {
   "cell_type": "markdown",
   "metadata": {
    "id": "fdf7Pv7yxzuO"
   },
   "source": [
    "### 리스트, 튜플, 세트 간 타입 변환"
   ]
  },
  {
   "cell_type": "markdown",
   "metadata": {
    "id": "-tIsQT0oxzuO"
   },
   "source": [
    "- 여러 데이터를 다루다 보면 연산이나 처리를 할 때 데이터의 타입을 변환해야 할 필요\n",
    "- 데이터 타입은 list(), tuple(), set()을 이용해 서로 변환"
   ]
  },
  {
   "cell_type": "code",
   "execution_count": 164,
   "metadata": {
    "id": "gkk1yJGdxzuP"
   },
   "outputs": [],
   "source": [
    "a = [1,2,3,4,5]"
   ]
  },
  {
   "cell_type": "code",
   "execution_count": 166,
   "metadata": {
    "id": "3OBva58TxzuP"
   },
   "outputs": [
    {
     "data": {
      "text/plain": [
       "list"
      ]
     },
     "execution_count": 166,
     "metadata": {},
     "output_type": "execute_result"
    }
   ],
   "source": [
    "type(a)"
   ]
  },
  {
   "cell_type": "markdown",
   "metadata": {
    "id": "SZWO06KuxzuP"
   },
   "source": [
    "- 리스트를 튜플로 변환"
   ]
  },
  {
   "cell_type": "code",
   "execution_count": 169,
   "metadata": {
    "id": "-aM2CPTlxzuP"
   },
   "outputs": [
    {
     "data": {
      "text/plain": [
       "(1, 2, 3, 4, 5)"
      ]
     },
     "execution_count": 169,
     "metadata": {},
     "output_type": "execute_result"
    }
   ],
   "source": [
    "b = tuple(a)\n",
    "b"
   ]
  },
  {
   "cell_type": "code",
   "execution_count": 171,
   "metadata": {
    "id": "IrVyt-rmxzuP"
   },
   "outputs": [
    {
     "data": {
      "text/plain": [
       "tuple"
      ]
     },
     "execution_count": 171,
     "metadata": {},
     "output_type": "execute_result"
    }
   ],
   "source": [
    "type(b)"
   ]
  },
  {
   "cell_type": "markdown",
   "metadata": {
    "id": "mrOEME3pxzuQ"
   },
   "source": [
    "- 리스트 a를 세트로 변환"
   ]
  },
  {
   "cell_type": "code",
   "execution_count": 174,
   "metadata": {
    "id": "1FaGqehAxzuQ"
   },
   "outputs": [
    {
     "data": {
      "text/plain": [
       "{1, 2, 3, 4, 5}"
      ]
     },
     "execution_count": 174,
     "metadata": {},
     "output_type": "execute_result"
    }
   ],
   "source": [
    "c = set(a)\n",
    "c"
   ]
  },
  {
   "cell_type": "code",
   "execution_count": 176,
   "metadata": {
    "id": "QhqzffsbxzuQ"
   },
   "outputs": [
    {
     "data": {
      "text/plain": [
       "set"
      ]
     },
     "execution_count": 176,
     "metadata": {},
     "output_type": "execute_result"
    }
   ],
   "source": [
    "type(c)"
   ]
  },
  {
   "cell_type": "markdown",
   "metadata": {
    "id": "p14ZCxFWxzuR"
   },
   "source": [
    "- 튜플과 세트로 변환된 데이터를 다시 리스트로 변환"
   ]
  },
  {
   "cell_type": "code",
   "execution_count": 179,
   "metadata": {
    "id": "ORBPmansxzuR"
   },
   "outputs": [
    {
     "data": {
      "text/plain": [
       "[1, 2, 3, 4, 5]"
      ]
     },
     "execution_count": 179,
     "metadata": {},
     "output_type": "execute_result"
    }
   ],
   "source": [
    "list(b)"
   ]
  },
  {
   "cell_type": "code",
   "execution_count": 181,
   "metadata": {
    "id": "nK_PCMzRxzuR"
   },
   "outputs": [
    {
     "data": {
      "text/plain": [
       "[1, 2, 3, 4, 5]"
      ]
     },
     "execution_count": 181,
     "metadata": {},
     "output_type": "execute_result"
    }
   ],
   "source": [
    "list(c)"
   ]
  },
  {
   "cell_type": "markdown",
   "metadata": {
    "id": "PuEBjGZ8xzuR"
   },
   "source": [
    "## 4.6 딕셔너리"
   ]
  },
  {
   "cell_type": "markdown",
   "metadata": {
    "id": "dymozNBDxzuS"
   },
   "source": [
    "- 파이썬의 딕셔너리도 사전과 유사하게 구성\n",
    "- 사전의 표제어와 설명은 파이썬에서 각각 키(key)와 값(value)\n",
    "- 딕셔너리는 키와 값이 항상 쌍으로 구성\n",
    "- 리스트나 튜플은 인덱스를 이용해 항목을 다뤘지만 딕셔너리는 인덱스 대신 키를 이용해 값을 다룸"
   ]
  },
  {
   "cell_type": "markdown",
   "metadata": {
    "id": "rf-qAPq9xzuS"
   },
   "source": [
    "- 리스트나 튜플에서 인덱스는 0부터 시작하는 숫자였지만 딕셔너리의 키는 임의로 지정한 숫자나 문자열이 될 수 있음\n",
    "- 값으로는 어떤 데이터 타입도 사용할 수 있음"
   ]
  },
  {
   "cell_type": "markdown",
   "metadata": {
    "collapsed": true,
    "id": "iX8xzPjVxzuS",
    "jupyter": {
     "outputs_hidden": true
    }
   },
   "source": [
    "### 딕셔너리 만들기"
   ]
  },
  {
   "cell_type": "markdown",
   "metadata": {
    "id": "EzRR2-sOxzuT"
   },
   "source": [
    "- 딕셔너리를 만들려면 딕셔너리 데이터 전체를 중괄호({})로 감싸면 됨\n",
    "- 키와 값의 구분은 콜론(:)으로 함\n",
    "- 키와 값으로 이뤄진 각 쌍은 콤마(,)로 구분"
   ]
  },
  {
   "cell_type": "code",
   "execution_count": 188,
   "metadata": {
    "id": "5b-HUdCgxzuT"
   },
   "outputs": [
    {
     "data": {
      "text/plain": [
       "{'영국': '런던', '프랑스': '파리', '스위스': '베른', '호주': '멜버른', '덴마크': '코펜하겐'}"
      ]
     },
     "execution_count": 188,
     "metadata": {},
     "output_type": "execute_result"
    }
   ],
   "source": [
    "country_capital = {\"영국\":\"런던\", \"프랑스\":\"파리\", \"스위스\": \"베른\", \"호주\":\"멜버른\", \"덴마크\": \"코펜하겐\"}\n",
    "country_capital"
   ]
  },
  {
   "cell_type": "markdown",
   "metadata": {
    "id": "br4LKc6gxzuT"
   },
   "source": [
    "- 코드와 출력된 결과를 비교해 보면 딕셔너리의 경우 입력한 순서대로 출력되지 않는 것을 알 수 있음\n",
    "- 딕셔너리는 순서 보다 키와 값의 쌍으로 데이터를 입력해야할 때 주로 이용"
   ]
  },
  {
   "cell_type": "markdown",
   "metadata": {
    "id": "dERoheNPxzuT"
   },
   "source": [
    "- 생성한 변수 country_capital의 타입"
   ]
  },
  {
   "cell_type": "code",
   "execution_count": 192,
   "metadata": {
    "id": "5x-kndTnxzuU"
   },
   "outputs": [
    {
     "data": {
      "text/plain": [
       "dict"
      ]
     },
     "execution_count": 192,
     "metadata": {},
     "output_type": "execute_result"
    }
   ],
   "source": [
    "type(country_capital)"
   ]
  },
  {
   "cell_type": "markdown",
   "metadata": {
    "id": "A_aZuuXsxzuU"
   },
   "source": [
    "- 지정한 키의 값만 얻고 싶으면 딕셔너리 변수에 원하는 키를 넣으면 됨"
   ]
  },
  {
   "cell_type": "code",
   "execution_count": 195,
   "metadata": {
    "id": "83zIL-rAxzuU"
   },
   "outputs": [
    {
     "data": {
      "text/plain": [
       "'런던'"
      ]
     },
     "execution_count": 195,
     "metadata": {},
     "output_type": "execute_result"
    }
   ],
   "source": [
    "country_capital[\"영국\"]"
   ]
  },
  {
   "cell_type": "markdown",
   "metadata": {
    "id": "-tmPjVcrxzuU"
   },
   "source": [
    "- 딕셔너리의 키는 숫자와 문자열이 될 수 있고 값은 어떤 데이터 형태도 올 수 있음\n",
    "- 우선 키는 숫자로, 값은 문자열로 입력"
   ]
  },
  {
   "cell_type": "code",
   "execution_count": 198,
   "metadata": {
    "id": "KUYPSw4cxzuV"
   },
   "outputs": [
    {
     "data": {
      "text/plain": [
       "{1: '버스', 3: '비행기', 4: '택시', 5: '자전거'}"
      ]
     },
     "execution_count": 198,
     "metadata": {},
     "output_type": "execute_result"
    }
   ],
   "source": [
    "dict_data1 = {1:\"버스\", 3: \"비행기\", 4:\"택시\", 5: \"자전거\"}\n",
    "dict_data1"
   ]
  },
  {
   "cell_type": "markdown",
   "metadata": {
    "id": "BPzD-SCaxzuV"
   },
   "source": [
    "- 딕셔너리에서 키를 3으로 지정해 출력"
   ]
  },
  {
   "cell_type": "code",
   "execution_count": 201,
   "metadata": {
    "id": "JVantrBVxzuV"
   },
   "outputs": [
    {
     "data": {
      "text/plain": [
       "'비행기'"
      ]
     },
     "execution_count": 201,
     "metadata": {},
     "output_type": "execute_result"
    }
   ],
   "source": [
    "dict_data1[3]"
   ]
  },
  {
   "cell_type": "markdown",
   "metadata": {
    "id": "bNu85s0CxzuV"
   },
   "source": [
    "- dict_data1[3]에서 입력된 3은 딕셔너리 키이지, 리스트의 인덱스처럼 위치를 뜻하는 3이 아님"
   ]
  },
  {
   "cell_type": "markdown",
   "metadata": {
    "id": "cD4peN7txzuW"
   },
   "source": [
    "- 키와 값이 모두 숫자인 딕셔너리"
   ]
  },
  {
   "cell_type": "code",
   "execution_count": 205,
   "metadata": {
    "id": "6JHkzCiJxzuW"
   },
   "outputs": [
    {
     "name": "stdout",
     "output_type": "stream",
     "text": [
      "{1: 10, 2: 20, 3: 30, 4: 40, 5: 50}\n",
      "40\n"
     ]
    }
   ],
   "source": [
    "dict_data2 = {1:10, 2: 20, 3:30, 4: 40, 5:50}\n",
    "print(dict_data2)\n",
    "print(dict_data2[4])"
   ]
  },
  {
   "cell_type": "markdown",
   "metadata": {
    "id": "pVx8UbWmxzuW"
   },
   "source": [
    "- 키가 문자열이고 값은 리스트인 딕셔너리"
   ]
  },
  {
   "cell_type": "code",
   "execution_count": 208,
   "metadata": {
    "id": "dYNB556sxzuW"
   },
   "outputs": [
    {
     "name": "stdout",
     "output_type": "stream",
     "text": [
      "{'list_data1': [11, 12, 13], 'list_data2': [21, 22, 23]}\n",
      "[21, 22, 23]\n"
     ]
    }
   ],
   "source": [
    "dict_data3 = {\"list_data1\":[11,12,13], \"list_data2\": [21,22,23]}\n",
    "print(dict_data3)\n",
    "print(dict_data3[\"list_data2\"])"
   ]
  },
  {
   "cell_type": "markdown",
   "metadata": {
    "id": "DKOfKhaKxzuW"
   },
   "source": [
    "- 다양한 형태의 키와 값을 갖는 딕셔너리"
   ]
  },
  {
   "cell_type": "code",
   "execution_count": 211,
   "metadata": {
    "id": "vhnIhltaxzuW"
   },
   "outputs": [
    {
     "data": {
      "text/plain": [
       "{1: 10,\n",
       " 'dict_num': {1: 10, 2: 20},\n",
       " 'dict_list_tuple': {'A': [11, 12, 13], 'B': (21, 22, 23)},\n",
       " 'dict_string': '이것은 책입니다.'}"
      ]
     },
     "execution_count": 211,
     "metadata": {},
     "output_type": "execute_result"
    }
   ],
   "source": [
    "mixed_dict = {1:10, 'dict_num': {1:10, 2:20}, \"dict_list_tuple\": {\"A\":[11,12,13], \"B\":(21,22,23)}, \"dict_string\": \"이것은 책입니다.\"}\n",
    "mixed_dict"
   ]
  },
  {
   "cell_type": "markdown",
   "metadata": {
    "id": "NS-d--qPxzuX"
   },
   "source": [
    "- 키에 사용할 수 있는 데이터 타입은 숫자나 문자열이지만 값에는 숫자, 문자열，튜플, 리스트, 딕셔너리 등 다양한 데이터를 사용할 수 있음"
   ]
  },
  {
   "cell_type": "markdown",
   "metadata": {
    "id": "Gy9QNzj-xzuX"
   },
   "source": [
    "### 딕셔너리 다루기"
   ]
  },
  {
   "cell_type": "markdown",
   "metadata": {
    "id": "RKEUZpZ9xzuX"
   },
   "source": [
    "#### 딕셔너리에 데이터 추가하고 변경하기"
   ]
  },
  {
   "cell_type": "markdown",
   "metadata": {
    "id": "Hd7lIEe7xzuX"
   },
   "source": [
    "- 생성된 딕셔너리에 새로운 키와 값을 추가하거나 기존의 값을수정하려면 ’dict_variable[key] = value' 형태로 입력"
   ]
  },
  {
   "cell_type": "code",
   "execution_count": 217,
   "metadata": {
    "id": "oioxY163xzuX"
   },
   "outputs": [
    {
     "data": {
      "text/plain": [
       "{'영국': '런던', '프랑스': '파리', '스위스': '베른', '호주': '멜버른', '덴마크': '코펜하겐', '독일': '베를린'}"
      ]
     },
     "execution_count": 217,
     "metadata": {},
     "output_type": "execute_result"
    }
   ],
   "source": [
    "country_capital[\"독일\"]= \"베를린\"\n",
    "country_capital"
   ]
  },
  {
   "cell_type": "markdown",
   "metadata": {
    "id": "SE5kJ4JMxzuY"
   },
   "source": [
    "- 기존 키의 값을 다른 값으로 변경하려면 기존 키를 지정하고 새로운 값을 할당"
   ]
  },
  {
   "cell_type": "code",
   "execution_count": 220,
   "metadata": {
    "id": "cSqEnttdxzuY"
   },
   "outputs": [
    {
     "data": {
      "text/plain": [
       "{'영국': '런던', '프랑스': '파리', '스위스': '베른', '호주': '캔버라', '덴마크': '코펜하겐', '독일': '베를린'}"
      ]
     },
     "execution_count": 220,
     "metadata": {},
     "output_type": "execute_result"
    }
   ],
   "source": [
    "country_capital[\"호주\"]= \"캔버라\"\n",
    "country_capital"
   ]
  },
  {
   "cell_type": "markdown",
   "metadata": {
    "id": "YSbdrGTHxzuY"
   },
   "source": [
    "#### 딕셔너리에서 데이터 삭제하기"
   ]
  },
  {
   "cell_type": "markdown",
   "metadata": {
    "id": "2Fzw9oR5xzuZ"
   },
   "source": [
    "- 딕셔너리의 특정 키와 값을 삭제하려면 'del 딕셔너리데이터[key]’를 입력해 딕셔너리에서 키와 이와 쌍을 이루는 값을 삭제할 수 있음"
   ]
  },
  {
   "cell_type": "code",
   "execution_count": 224,
   "metadata": {
    "id": "mie9FvDAxzuZ"
   },
   "outputs": [
    {
     "data": {
      "text/plain": [
       "{'영국': '런던', '프랑스': '파리', '스위스': '베른', '호주': '캔버라', '독일': '베를린'}"
      ]
     },
     "execution_count": 224,
     "metadata": {},
     "output_type": "execute_result"
    }
   ],
   "source": [
    "del country_capital[\"덴마크\"]\n",
    "country_capital"
   ]
  },
  {
   "cell_type": "markdown",
   "metadata": {
    "id": "xde8TMuIxzuZ"
   },
   "source": [
    "#### 딕셔너리 메서드 활용하기"
   ]
  },
  {
   "cell_type": "markdown",
   "metadata": {
    "id": "7ZncW89OxzuZ"
   },
   "source": [
    "- 딕셔너리의 경우도 딕셔너리 데이터를 처리하기 위한딕셔너리 메서드\n",
    "- 딕셔너리 메서드는 '딕셔너리데이터.메서드이름()'과 같은 형태로 사용할 수 있음"
   ]
  },
  {
   "cell_type": "markdown",
   "metadata": {
    "id": "djRO3i5wxzua"
   },
   "source": [
    "- 과일 이름을 키로 하고 숫자를 값으로 하는 딕셔너리를 생성"
   ]
  },
  {
   "cell_type": "code",
   "execution_count": 229,
   "metadata": {
    "id": "SuCMFeyFxzua"
   },
   "outputs": [],
   "source": [
    "fruit_code = {\"사과\":101, \"배\":102, \"딸기\":103, \"포도\":104, \"바나나\":105}"
   ]
  },
  {
   "cell_type": "markdown",
   "metadata": {
    "id": "k3ZIBqBPxzua"
   },
   "source": [
    "- 딕셔너리 메서드 keys()를 이용해 딕셔너리에서 키만출력"
   ]
  },
  {
   "cell_type": "code",
   "execution_count": 232,
   "metadata": {
    "id": "Mbe9ap_dxzub",
    "scrolled": true
   },
   "outputs": [
    {
     "name": "stdout",
     "output_type": "stream",
     "text": [
      "dict_keys(['사과', '배', '딸기', '포도', '바나나'])\n"
     ]
    }
   ],
   "source": [
    "print(fruit_code.keys())"
   ]
  },
  {
   "cell_type": "markdown",
   "metadata": {
    "id": "ueWZghZ3xzub"
   },
   "source": [
    "- values()로 딕셔너리의 값을 출력"
   ]
  },
  {
   "cell_type": "code",
   "execution_count": 235,
   "metadata": {
    "id": "7nigNNCnxzub"
   },
   "outputs": [
    {
     "name": "stdout",
     "output_type": "stream",
     "text": [
      "dict_values([101, 102, 103, 104, 105])\n"
     ]
    }
   ],
   "source": [
    "print(fruit_code.values())"
   ]
  },
  {
   "cell_type": "markdown",
   "metadata": {
    "id": "MvZV0fLbxzub"
   },
   "source": [
    "- items()로 키와 값의 쌍을 출력"
   ]
  },
  {
   "cell_type": "code",
   "execution_count": 238,
   "metadata": {
    "id": "qFtlHhkexzuc"
   },
   "outputs": [
    {
     "name": "stdout",
     "output_type": "stream",
     "text": [
      "dict_items([('사과', 101), ('배', 102), ('딸기', 103), ('포도', 104), ('바나나', 105)])\n"
     ]
    }
   ],
   "source": [
    "print(fruit_code.items())"
   ]
  },
  {
   "cell_type": "markdown",
   "metadata": {
    "id": "G_Osub0jxzuc"
   },
   "source": [
    "- 딕셔너리 메서드인 keys(), values(), items()는 각각 dict_keys, dict_values, dict_iterns 라는 데이터 형태로 값을 반환\n",
    "- 딕셔너리는 리스트로 변환해서 데이터를 처리하면 편리한 경우가 있음"
   ]
  },
  {
   "cell_type": "markdown",
   "metadata": {
    "id": "jZMZFwIuxzuc"
   },
   "source": [
    "- list() 함수를 이용해 리스트로 변환"
   ]
  },
  {
   "cell_type": "code",
   "execution_count": 242,
   "metadata": {
    "id": "bJt6Mmw3xzuc"
   },
   "outputs": [
    {
     "data": {
      "text/plain": [
       "['사과', '배', '딸기', '포도', '바나나']"
      ]
     },
     "execution_count": 242,
     "metadata": {},
     "output_type": "execute_result"
    }
   ],
   "source": [
    "list(fruit_code.keys())"
   ]
  },
  {
   "cell_type": "code",
   "execution_count": 244,
   "metadata": {
    "id": "wRzzEXZkxzud"
   },
   "outputs": [
    {
     "data": {
      "text/plain": [
       "[101, 102, 103, 104, 105]"
      ]
     },
     "execution_count": 244,
     "metadata": {},
     "output_type": "execute_result"
    }
   ],
   "source": [
    "list(fruit_code.values())"
   ]
  },
  {
   "cell_type": "code",
   "execution_count": 246,
   "metadata": {
    "id": "cEcGT5w7xzud"
   },
   "outputs": [
    {
     "data": {
      "text/plain": [
       "[('사과', 101), ('배', 102), ('딸기', 103), ('포도', 104), ('바나나', 105)]"
      ]
     },
     "execution_count": 246,
     "metadata": {},
     "output_type": "execute_result"
    }
   ],
   "source": [
    "list(fruit_code.items())"
   ]
  },
  {
   "cell_type": "markdown",
   "metadata": {
    "id": "x-46ZG_Vxzud"
   },
   "source": [
    "- update()를 이용해 기존의 딕셔너리 데이터에 새로운 딕셔너리 데이터를 추가"
   ]
  },
  {
   "cell_type": "code",
   "execution_count": 249,
   "metadata": {
    "id": "sBjxx9sTxzue"
   },
   "outputs": [],
   "source": [
    "fruit_code2 = {\"오렌지\":106, \"수박\":107}"
   ]
  },
  {
   "cell_type": "markdown",
   "metadata": {
    "id": "zcad4s_Ixzue"
   },
   "source": [
    "- update() 메서드를 이용해 딕셔너리 fruit_code에 fruit_code2를 추가"
   ]
  },
  {
   "cell_type": "code",
   "execution_count": 252,
   "metadata": {
    "id": "XC12YXX3xzue"
   },
   "outputs": [
    {
     "data": {
      "text/plain": [
       "{'사과': 101, '배': 102, '딸기': 103, '포도': 104, '바나나': 105, '오렌지': 106, '수박': 107}"
      ]
     },
     "execution_count": 252,
     "metadata": {},
     "output_type": "execute_result"
    }
   ],
   "source": [
    "fruit_code.update(fruit_code2)\n",
    "fruit_code"
   ]
  },
  {
   "cell_type": "markdown",
   "metadata": {
    "id": "UhWvh7WYxzuf"
   },
   "source": [
    "- clear() 메서드는 딕셔너리의 모든 항목을 삭제"
   ]
  },
  {
   "cell_type": "code",
   "execution_count": 255,
   "metadata": {
    "id": "VTU-vx0exzuf"
   },
   "outputs": [
    {
     "name": "stdout",
     "output_type": "stream",
     "text": [
      "{}\n"
     ]
    },
    {
     "data": {
      "text/plain": [
       "dict"
      ]
     },
     "execution_count": 255,
     "metadata": {},
     "output_type": "execute_result"
    }
   ],
   "source": [
    "fruit_code2.clear()\n",
    "print(fruit_code2)\n",
    "type(fruit_code2)"
   ]
  },
  {
   "cell_type": "markdown",
   "metadata": {
    "id": "f22ERJG1xzuf"
   },
   "source": [
    "- 딕셔너리 fruit_code2의 모든 항목을  clear()메서드로 삭제해 빈 딕셔너리({})가 됐지만 데이터 타입은 여전히 딕셔너리(dict)임을 알수 있음"
   ]
  },
  {
   "cell_type": "markdown",
   "metadata": {
    "id": "TE9fHgmRxzuf"
   },
   "source": [
    "# 4.7 정리"
   ]
  },
  {
   "cell_type": "markdown",
   "metadata": {
    "id": "D8WLgTWmxzug"
   },
   "source": [
    "- 데이터 타입은 문자열, 리스트, 튜플, 세트, 딕셔너리"
   ]
  }
 ],
 "metadata": {
  "anaconda-cloud": {},
  "colab": {
   "collapsed_sections": [],
   "name": "004_Variable_DataType.ipynb",
   "provenance": []
  },
  "kernelspec": {
   "display_name": "Python [conda env:base] *",
   "language": "python",
   "name": "conda-base-py"
  },
  "language_info": {
   "codemirror_mode": {
    "name": "ipython",
    "version": 3
   },
   "file_extension": ".py",
   "mimetype": "text/x-python",
   "name": "python",
   "nbconvert_exporter": "python",
   "pygments_lexer": "ipython3",
   "version": "3.12.7"
  },
  "latex_envs": {
   "LaTeX_envs_menu_present": true,
   "autoclose": false,
   "autocomplete": true,
   "bibliofile": "biblio.bib",
   "cite_by": "apalike",
   "current_citInitial": 1,
   "eqLabelWithNumbers": true,
   "eqNumInitial": 1,
   "hotkeys": {
    "equation": "Ctrl-E",
    "itemize": "Ctrl-I"
   },
   "labels_anchors": false,
   "latex_user_defs": false,
   "report_style_numbering": false,
   "user_envs_cfg": false
  },
  "nav_menu": {},
  "toc": {
   "nav_menu": {
    "height": "161px",
    "width": "252px"
   },
   "number_sections": false,
   "sideBar": true,
   "skip_h1_title": false,
   "toc_cell": false,
   "toc_position": {
    "height": "582px",
    "left": "0px",
    "right": "1154px",
    "top": "111px",
    "width": "212px"
   },
   "toc_section_display": "block",
   "toc_window_display": false
  }
 },
 "nbformat": 4,
 "nbformat_minor": 4
}
