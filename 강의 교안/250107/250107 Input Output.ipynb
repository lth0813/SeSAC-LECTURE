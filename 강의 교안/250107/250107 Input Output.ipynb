{
 "cells": [
  {
   "cell_type": "markdown",
   "metadata": {
    "id": "UotidiR10x0C"
   },
   "source": [
    "# 6장 입력과 출력"
   ]
  },
  {
   "cell_type": "markdown",
   "metadata": {
    "id": "so3hLPTt0x0N"
   },
   "source": [
    "- 코딩할 때 실행한 결과를 화면이나 파일로 출력해야 할 때\n",
    "- 입력을 키보드로 받거나 파일에 있는 데이터를 읽어서 처리해야 할 때\n",
    "- 파이썬으로 코드를 작성할 때 키보드와 화면으로 입출력하는 방법과 파일로 입출력하는 방법"
   ]
  },
  {
   "cell_type": "markdown",
   "metadata": {
    "id": "3Zq-NqjP0x0P"
   },
   "source": [
    "## 6.1 화면 출력"
   ]
  },
  {
   "cell_type": "markdown",
   "metadata": {
    "id": "reylsvzN0x0R"
   },
   "source": [
    "- 작성한 코드의 결과를 확인하는 가장 기본적인 방법은 결과를 화면으로 출력하는 것\n",
    "- 파이썬에 서는 print() 함수를 이용해 원하는 내용을 화면으로 출력\n",
    "- print() 함수에는 출력 형식을 지정하지 않는 기본 출력 방법\n",
    "- 다양한 형식으로 출력할 수 있는 형식 지정 출력 방법"
   ]
  },
  {
   "cell_type": "markdown",
   "metadata": {
    "id": "Jc-r8Pla0x0S"
   },
   "source": [
    "### 기본 출력"
   ]
  },
  {
   "cell_type": "markdown",
   "metadata": {
    "id": "2E3E0fGe0x0T"
   },
   "source": [
    "- print() 함수의 기본 출력 방법을 이용해 문자열과 숫자를 출력하는 방법"
   ]
  },
  {
   "cell_type": "markdown",
   "metadata": {
    "id": "JGMO4h3N0x0V"
   },
   "source": [
    "- 문자 열을 출력하려면 문자열을 pint() 함수 안에 넣으면 됨"
   ]
  },
  {
   "cell_type": "code",
   "execution_count": 158,
   "metadata": {
    "colab": {
     "base_uri": "https://localhost:8080/"
    },
    "executionInfo": {
     "elapsed": 54,
     "status": "ok",
     "timestamp": 1659349041108,
     "user": {
      "displayName": "junhwa lee",
      "userId": "11332889748979012167"
     },
     "user_tz": -540
    },
    "id": "wlmzOwSt0x0X",
    "outputId": "8549b0e6-4ccc-4772-a9d1-3a697cec3860"
   },
   "outputs": [
    {
     "name": "stdout",
     "output_type": "stream",
     "text": [
      "Hello Python!!\n"
     ]
    }
   ],
   "source": [
    "print(\"Hello Python!!\")"
   ]
  },
  {
   "cell_type": "markdown",
   "metadata": {
    "id": "tXIXmT2S0x0a"
   },
   "source": [
    "- 문자열 여러 개를 연결해 출력하려면 문자열을 콤마(,)로 구분하고 연속해서 입력\n",
    "- 콤마로 구분 하면 출력에서 자동으로 빈칸(공백)이 하나씩 들어감"
   ]
  },
  {
   "cell_type": "code",
   "execution_count": 159,
   "metadata": {
    "colab": {
     "base_uri": "https://localhost:8080/"
    },
    "executionInfo": {
     "elapsed": 42,
     "status": "ok",
     "timestamp": 1659349041108,
     "user": {
      "displayName": "junhwa lee",
      "userId": "11332889748979012167"
     },
     "user_tz": -540
    },
    "id": "Ph_yF-_70x0c",
    "outputId": "9b136833-7cfe-4bf6-b104-4c8c837a35f7",
    "scrolled": true
   },
   "outputs": [
    {
     "name": "stdout",
     "output_type": "stream",
     "text": [
      "Best python book\n"
     ]
    }
   ],
   "source": [
    "print(\"Best\", \"python\", \"book\")"
   ]
  },
  {
   "cell_type": "markdown",
   "metadata": {
    "id": "m1tV9cRU0x0d"
   },
   "source": [
    "- 빈칸 대신 다른 문자열을 넣으려면 print() 함수 안에 두 문자열 사이의 구분하는 값을 설정하는 sep 인자를 이용\n",
    "- print()함수에서 sep 인자를 지정하지 않으면 기본적으로 빈칸이 들어감"
   ]
  },
  {
   "cell_type": "markdown",
   "metadata": {
    "id": "BfFYTrf30x0e"
   },
   "source": [
    "- 빈칸을 다른 문자열로 바꾸려면 ‘sep = 문자열'을 추가"
   ]
  },
  {
   "cell_type": "code",
   "execution_count": 160,
   "metadata": {
    "colab": {
     "base_uri": "https://localhost:8080/"
    },
    "executionInfo": {
     "elapsed": 36,
     "status": "ok",
     "timestamp": 1659349041108,
     "user": {
      "displayName": "junhwa lee",
      "userId": "11332889748979012167"
     },
     "user_tz": -540
    },
    "id": "690j3Rea0x0f",
    "outputId": "8411ed48-3392-4b8f-b54e-f56481a19bc5"
   },
   "outputs": [
    {
     "name": "stdout",
     "output_type": "stream",
     "text": [
      "Best-:*:-python-:*:-book\n"
     ]
    }
   ],
   "source": [
    "print(\"Best\", \"python\", \"book\", sep = \"-:*:-\")"
   ]
  },
  {
   "cell_type": "markdown",
   "metadata": {
    "id": "ypVLA4Q40x0g"
   },
   "source": [
    "- sep 인자에 지정한 문자열로 입력한 세 개의 문자열이 연결돼 출력"
   ]
  },
  {
   "cell_type": "markdown",
   "metadata": {
    "id": "4TuY6OvR0x0h"
   },
   "source": [
    "- 빈칸 없이 두 문자열을 연결하려면 콤마 대신 더하기 연산자를 이용"
   ]
  },
  {
   "cell_type": "code",
   "execution_count": 161,
   "metadata": {
    "colab": {
     "base_uri": "https://localhost:8080/"
    },
    "executionInfo": {
     "elapsed": 25,
     "status": "ok",
     "timestamp": 1659349041109,
     "user": {
      "displayName": "junhwa lee",
      "userId": "11332889748979012167"
     },
     "user_tz": -540
    },
    "id": "Xd-vKvbr0x0i",
    "outputId": "28282049-2377-49f0-8244-b5affde678f3"
   },
   "outputs": [
    {
     "name": "stdout",
     "output_type": "stream",
     "text": [
      "abcdefg\n"
     ]
    }
   ],
   "source": [
    "print(\"abcd\" + \"efg\")"
   ]
  },
  {
   "cell_type": "markdown",
   "metadata": {
    "id": "ZqqrMwCP0x0j"
   },
   "source": [
    "- 문자열을 연결할 때 콤마와 더하기 연산자를 동시에 사용할 수 있음"
   ]
  },
  {
   "cell_type": "code",
   "execution_count": 162,
   "metadata": {
    "colab": {
     "base_uri": "https://localhost:8080/"
    },
    "executionInfo": {
     "elapsed": 23,
     "status": "ok",
     "timestamp": 1659349041109,
     "user": {
      "displayName": "junhwa lee",
      "userId": "11332889748979012167"
     },
     "user_tz": -540
    },
    "id": "orexMOuA0x0k",
    "outputId": "8bb9774f-a884-4155-bfad-4799e06abc0e"
   },
   "outputs": [
    {
     "name": "stdout",
     "output_type": "stream",
     "text": [
      "Best python book: This book\n"
     ]
    }
   ],
   "source": [
    "print(\"Best\", \"python\", \"book\" + \":\", \"This book\")"
   ]
  },
  {
   "cell_type": "markdown",
   "metadata": {
    "id": "tD-anbST0x0l"
   },
   "source": [
    "- 변수에 저장된 내용을 출력하려면 print() 함수에 변수를 인자로 입력\n",
    "- 변수 이름을 이용해 출력할 때는 따옴표가 없어야 함"
   ]
  },
  {
   "cell_type": "code",
   "execution_count": 163,
   "metadata": {
    "colab": {
     "base_uri": "https://localhost:8080/"
    },
    "executionInfo": {
     "elapsed": 20,
     "status": "ok",
     "timestamp": 1659349041109,
     "user": {
      "displayName": "junhwa lee",
      "userId": "11332889748979012167"
     },
     "user_tz": -540
    },
    "id": "LH0E56wO0x0m",
    "outputId": "203e06c4-c901-44c2-9695-668c461f5817"
   },
   "outputs": [
    {
     "name": "stdout",
     "output_type": "stream",
     "text": [
      "10\n"
     ]
    }
   ],
   "source": [
    "x = 10\n",
    "print(x)"
   ]
  },
  {
   "cell_type": "markdown",
   "metadata": {
    "id": "Bwys1oVS0x0n"
   },
   "source": [
    "- 문자열과 숫자를 함께 출력하려면 둘을 콤마로 구분해서 print() 함수의 인자로 입력\n",
    "- 문자열과 문자열은 더하기 연산자로 공백 없이 연결해서 출력할 수 있지만 \n",
    "- 문자열과 숫자는 더하기 연산자로 연결 할 수 없음"
   ]
  },
  {
   "cell_type": "code",
   "execution_count": 164,
   "metadata": {
    "colab": {
     "base_uri": "https://localhost:8080/"
    },
    "executionInfo": {
     "elapsed": 17,
     "status": "ok",
     "timestamp": 1659349041109,
     "user": {
      "displayName": "junhwa lee",
      "userId": "11332889748979012167"
     },
     "user_tz": -540
    },
    "id": "TOPnqioY0x0o",
    "outputId": "0cc96d68-7eab-4a49-bc13-20f66dfab197"
   },
   "outputs": [
    {
     "name": "stdout",
     "output_type": "stream",
     "text": [
      "Name: James, ID Number: 789\n"
     ]
    }
   ],
   "source": [
    "name = \"James\"\n",
    "ID_num = 789\n",
    "print(\"Name:\", name + \",\", \"ID Number:\", ID_num )"
   ]
  },
  {
   "cell_type": "markdown",
   "metadata": {
    "id": "Wrs5-puo0x0p"
   },
   "source": [
    "- print() 함수를 이용해 문자열을 출력할 때 결과가 한 줄씩 출력"
   ]
  },
  {
   "cell_type": "markdown",
   "metadata": {
    "id": "gEg_06NC0x0q"
   },
   "source": [
    "- print()함수를 하나만 이용해서 문자열을 여러 줄로 출력하려면?\n",
    "- 문자열 안에 줄 바꿈 표시인 개행 문자(\\n)를 입력하면 출력할 때 줄이 바뀜"
   ]
  },
  {
   "cell_type": "code",
   "execution_count": 165,
   "metadata": {
    "colab": {
     "base_uri": "https://localhost:8080/"
    },
    "executionInfo": {
     "elapsed": 15,
     "status": "ok",
     "timestamp": 1659349041110,
     "user": {
      "displayName": "junhwa lee",
      "userId": "11332889748979012167"
     },
     "user_tz": -540
    },
    "id": "oS_R12FC0x0r",
    "outputId": "af109b61-e60d-4885-8da2-6e2297f558dc"
   },
   "outputs": [
    {
     "name": "stdout",
     "output_type": "stream",
     "text": [
      "James is my friend.\n",
      "He is Korean.\n"
     ]
    }
   ],
   "source": [
    "print(\"James is my friend.\\nHe is Korean.\")"
   ]
  },
  {
   "cell_type": "markdown",
   "metadata": {
    "id": "xI4wAg0w0x0s"
   },
   "source": [
    "- 개행문자(\\n)를 하나 더 추하면 다시 줄 바꿈을 함\n",
    "- 개행문자(\\n)를 두 개 입력하면 줄 바꿈이 두 번 발생해 한 줄을 띄우게 됨"
   ]
  },
  {
   "cell_type": "code",
   "execution_count": 166,
   "metadata": {
    "colab": {
     "base_uri": "https://localhost:8080/"
    },
    "executionInfo": {
     "elapsed": 12,
     "status": "ok",
     "timestamp": 1659349041110,
     "user": {
      "displayName": "junhwa lee",
      "userId": "11332889748979012167"
     },
     "user_tz": -540
    },
    "id": "f6nT-5GJ0x0t",
    "outputId": "47e6ecf1-cb59-4b86-c742-2b153fcc39f3",
    "scrolled": true
   },
   "outputs": [
    {
     "name": "stdout",
     "output_type": "stream",
     "text": [
      "James is my friend.\n",
      "\n",
      "He is Korean.\n"
     ]
    }
   ],
   "source": [
    "print(\"James is my friend.\\n\\nHe is Korean.\")"
   ]
  },
  {
   "cell_type": "markdown",
   "metadata": {
    "id": "o8QSog6U0x0u"
   },
   "source": [
    "- 줄을 바꿔서 출력해야 할 때도 있지만 줄을 바꾸지 않고 출력해야 할 때도 있음"
   ]
  },
  {
   "cell_type": "markdown",
   "metadata": {
    "id": "nDiaYO8J0x0v"
   },
   "source": [
    "- 파이썬 print() 함수는 기본적으로 출력을 위해서 줄을 바꿔 놓으므로  print() 함수를 두 개 사용해 문자 열을 출력하면 두 줄로 출력"
   ]
  },
  {
   "cell_type": "code",
   "execution_count": 167,
   "metadata": {
    "colab": {
     "base_uri": "https://localhost:8080/"
    },
    "executionInfo": {
     "elapsed": 9,
     "status": "ok",
     "timestamp": 1659349041110,
     "user": {
      "displayName": "junhwa lee",
      "userId": "11332889748979012167"
     },
     "user_tz": -540
    },
    "id": "RdlDeH6w0x0v",
    "outputId": "6599d753-25af-41b8-a540-36d60b0a0a06"
   },
   "outputs": [
    {
     "name": "stdout",
     "output_type": "stream",
     "text": [
      "Welcome to \n",
      "python!\n"
     ]
    }
   ],
   "source": [
    "print(\"Welcome to \")\n",
    "print(\"python!\")"
   ]
  },
  {
   "cell_type": "markdown",
   "metadata": {
    "id": "yPKjCnyA0x0w"
   },
   "source": [
    "- 두 줄로 출력된 결과를 한 줄로 출력하려면 print() 함수 안에 라인 끝의 값을 지정할 수 있는 end 인자를 추가\n",
    "- print() 함수에서 end 인자를 지정하지 않으면 기본적으로 라인 끝에 개행문자(\\n)가 들어감\n",
    "- 개행문자(\\n) 대신 다른 문자열을 입력하려면 'end = 문자열’ 형태로 end 인자에 다른 값을 입력"
   ]
  },
  {
   "cell_type": "markdown",
   "metadata": {
    "id": "tXwLZ0Y00x0x"
   },
   "source": [
    "- print() 함수 안에 [end=\"\"] 를 추가하면 라인 끝에 어떤 문자도 넣지 않았으므로 \n",
    "- 그 다음 print() 함수를 실행하면 줄 바꿈 없이 연결되어 출력"
   ]
  },
  {
   "cell_type": "code",
   "execution_count": 168,
   "metadata": {
    "colab": {
     "base_uri": "https://localhost:8080/"
    },
    "executionInfo": {
     "elapsed": 613,
     "status": "ok",
     "timestamp": 1659349041715,
     "user": {
      "displayName": "junhwa lee",
      "userId": "11332889748979012167"
     },
     "user_tz": -540
    },
    "id": "YDeJCQ_g0x0y",
    "outputId": "b5cc53ab-35eb-450e-8ccc-0274a8c574a4"
   },
   "outputs": [
    {
     "name": "stdout",
     "output_type": "stream",
     "text": [
      "Welcome to python!\n"
     ]
    }
   ],
   "source": [
    "print(\"Welcome to \", end=\"\")\n",
    "print(\"python!\")"
   ]
  },
  {
   "cell_type": "markdown",
   "metadata": {
    "id": "8jExJa7V0x0z"
   },
   "source": [
    "### 형식 지정 출력"
   ]
  },
  {
   "cell_type": "markdown",
   "metadata": {
    "id": "9W9dGjpA0x00"
   },
   "source": [
    "- print() 함수 안에 [end=\"\"] 를 추가하면 라인 끝에 어떤 문자도 넣지 않았으므로 그 다음 print() 함수를 실행하면 줄 바꿈 없이 연결되어 출력"
   ]
  },
  {
   "cell_type": "markdown",
   "metadata": {
    "id": "Ue_9H7v70x01"
   },
   "source": [
    "- 파이썬의 print() 함수에서 문자열에 데이터가 출력될 위치와 형식을 지정하는 방식으로도 데이터를 출력"
   ]
  },
  {
   "cell_type": "markdown",
   "metadata": {
    "id": "VjYBOY840x01"
   },
   "source": [
    "#### 나머지 연산자(%)를 이용한 형식 및 위치 지정"
   ]
  },
  {
   "cell_type": "markdown",
   "metadata": {
    "id": "IKKXXPz20x02"
   },
   "source": [
    "- 나머지 연산자는 print() 함수에서 데이터의 출력 형식과 위치를 지정할 때도 사용"
   ]
  },
  {
   "cell_type": "markdown",
   "metadata": {
    "id": "rA2dLBLs0x03"
   },
   "source": [
    "- print() 함수에서 나머지 연산자를 이용해 데이터의 출력 형식과 위치를 지정하는 기본 구조\n",
    "- print(\"%type\"  % data)\n",
    "- print() 함수의 인자에는 두 개의 %가 있음\n",
    "- 첫 번째는 따옴표로 둘러싼 문자열 '%type’에서 사용했고 두 번째는 '%data'에서 사용\n",
    "- 따옴표와 '%data' 사이에 콤마가 없고 공백이 있다는 점에 유의\n",
    "- '%type'은 data 형식에 따라 다른 값을 지정\n",
    "- data가 문자열이면 %s를, 정수이면 %d(혹은 %i)룰, 실수이면 %f(혹은 %F)룰 지정\n",
    "- 실수의 경우 %f로 표시 하면 기본적으로 소수점 6자리까지 출력"
   ]
  },
  {
   "cell_type": "markdown",
   "metadata": {
    "id": "lWMYuNPF0x04"
   },
   "source": [
    "- data가 두 개 이상이면 따옴표로 둘러싼 문자열 안에 data의 개수에 맞게 '%type'를 순서대로 입력하고 튜플 형식으로 data를 묶어서 이용\n",
    "- print() 함수에서 data가 두 개일 때 나머지 연산자를 이용해 data를 출력하는 형식과 위치를 지정하는 구조\n",
    "- print(\"%type %type\" % (datal, data2))"
   ]
  },
  {
   "cell_type": "markdown",
   "metadata": {
    "id": "55KOX6qt0x05"
   },
   "source": [
    "- %s를 이용해 문자열을 대입한 변수를 출력"
   ]
  },
  {
   "cell_type": "code",
   "execution_count": 169,
   "metadata": {
    "colab": {
     "base_uri": "https://localhost:8080/"
    },
    "executionInfo": {
     "elapsed": 42,
     "status": "ok",
     "timestamp": 1659349041716,
     "user": {
      "displayName": "junhwa lee",
      "userId": "11332889748979012167"
     },
     "user_tz": -540
    },
    "id": "WO5YqcF60x06",
    "outputId": "f9e39c04-4405-4b87-bf65-a1c405b121e2"
   },
   "outputs": [
    {
     "name": "stdout",
     "output_type": "stream",
     "text": [
      "광재는 나의 친구입니다.\n"
     ]
    }
   ],
   "source": [
    "name = \"광재\"\n",
    "print(\"%s는 나의 친구입니다.\" % name)"
   ]
  },
  {
   "cell_type": "markdown",
   "metadata": {
    "id": "2ss9-uUc0x07"
   },
   "source": [
    "- %s 자리에 변수 name에 할당된 문자열이 출력"
   ]
  },
  {
   "cell_type": "markdown",
   "metadata": {
    "id": "91CPSsPn0x08"
   },
   "source": [
    "- %d와 %f를 이용해 정수와 실수를 출력"
   ]
  },
  {
   "cell_type": "code",
   "execution_count": 170,
   "metadata": {
    "colab": {
     "base_uri": "https://localhost:8080/"
    },
    "executionInfo": {
     "elapsed": 34,
     "status": "ok",
     "timestamp": 1659349041716,
     "user": {
      "displayName": "junhwa lee",
      "userId": "11332889748979012167"
     },
     "user_tz": -540
    },
    "id": "VMOGhusp0x08",
    "outputId": "7cdd4410-4ffe-46e4-c03a-aca792d1f243",
    "scrolled": true
   },
   "outputs": [
    {
     "name": "stdout",
     "output_type": "stream",
     "text": [
      "반지름: 3, 원주율: 3.141593\n"
     ]
    }
   ],
   "source": [
    "r = 3  # 변수 r에 정수 데이터 할당\n",
    "PI = 3.14159265358979 # 변수 PI에 실수 데이터 할당\n",
    "print(\"반지름: %d, 원주율: %f\" % (r, PI)) # 지정된 위치에 데이터 출력"
   ]
  },
  {
   "cell_type": "markdown",
   "metadata": {
    "id": "BqXalqvS0x09"
   },
   "source": [
    "- 출력 결과에서 %d 자리에 변수 r에 할당된 정수가，%f 자리에 변수 PI에 할당된 실수가 각 형식에 맞게 출력\n",
    "- 실수의 경우는 소수점 6자리까지만 출력"
   ]
  },
  {
   "cell_type": "markdown",
   "metadata": {
    "id": "xbDCV6XM0x0-"
   },
   "source": [
    "#### 형식 지정 문자열에서 출력 위치 지정\n"
   ]
  },
  {
   "cell_type": "markdown",
   "metadata": {
    "id": "zofQ1Ur40x0_"
   },
   "source": [
    "- 출력 양식을 좀 더 자유롭게 표현할 수 있는 형식 지정 문자열을 이용하는 방법"
   ]
  },
  {
   "cell_type": "markdown",
   "metadata": {
    "id": "7cfRLQ4K0x0_"
   },
   "source": [
    "- print() 함수에서 'string.format()'을 이용하는 형식 지정 문자열의 기본 구조\n",
    "- print(\"{0} {1} {2} ••• {n}\".format(data_0, data_1, data_2, •••, data_n))\n",
    "- {N}의 N은 0부터 시작하는 숫자로 format()에서 데이터의 위치(0부터 시작)를 의미\n",
    "- {N}에는 format()에서 N에 해당하는 위치의 데이터가 들어가서 출력\n",
    "- {0}에는 data_0가 출력되고 {1}에는 data_1이 출력하고 {n}에는 data_n이 출력"
   ]
  },
  {
   "cell_type": "markdown",
   "metadata": {
    "id": "flyIt0DE0x1A"
   },
   "source": [
    "- 형식 지정 문자열의 구조인 'string.format()'으로 데이터를 출력"
   ]
  },
  {
   "cell_type": "code",
   "execution_count": 171,
   "metadata": {
    "colab": {
     "base_uri": "https://localhost:8080/"
    },
    "executionInfo": {
     "elapsed": 26,
     "status": "ok",
     "timestamp": 1659349041717,
     "user": {
      "displayName": "junhwa lee",
      "userId": "11332889748979012167"
     },
     "user_tz": -540
    },
    "id": "kgTAP1tq0x1B",
    "outputId": "c97e2628-d797-486a-ec26-c82784467d64"
   },
   "outputs": [
    {
     "name": "stdout",
     "output_type": "stream",
     "text": [
      "Animal: cat\n",
      "Animal: cat,dog,fox\n"
     ]
    }
   ],
   "source": [
    "animal_0 = \"cat\"\n",
    "animal_1 = \"dog\"\n",
    "animal_2 = \"fox\"\n",
    "\n",
    "print(\"Animal: {0}\".format(animal_0))\n",
    "print(\"Animal: {0},{1},{2}\".format(animal_0, animal_1, animal_2))"
   ]
  },
  {
   "cell_type": "markdown",
   "metadata": {
    "id": "eDP6fzQe0x1C"
   },
   "source": [
    "- {N}의 위치를 변경하면 데이터의 출력 위치를 변경할 수 있음"
   ]
  },
  {
   "cell_type": "code",
   "execution_count": 172,
   "metadata": {
    "colab": {
     "base_uri": "https://localhost:8080/"
    },
    "executionInfo": {
     "elapsed": 20,
     "status": "ok",
     "timestamp": 1659349041717,
     "user": {
      "displayName": "junhwa lee",
      "userId": "11332889748979012167"
     },
     "user_tz": -540
    },
    "id": "9BGJ0yLt0x1D",
    "outputId": "d6844d98-4f04-428a-8078-a33e5d2ab300"
   },
   "outputs": [
    {
     "name": "stdout",
     "output_type": "stream",
     "text": [
      "Animal: dog,fox,cat\n"
     ]
    }
   ],
   "source": [
    "print(\"Animal: {1},{2},{0}\".format(animal_0, animal_1, animal_2))"
   ]
  },
  {
   "cell_type": "markdown",
   "metadata": {
    "id": "ob1QDJC10x1E"
   },
   "source": [
    "- '{1}, {2}, {0}’는 format()안의 변수를 ‘두 번째, 세 번째, 첫 번째’ 순서로 출력하라는 의미\n",
    "- 결과를 보면 지정한 순서대로 출력된 것을 볼 수 있음"
   ]
  },
  {
   "cell_type": "markdown",
   "metadata": {
    "id": "atXazMhd0x1F"
   },
   "source": [
    "- format() 안에 데이터의 내용 중 일부만 출력할 수도 있음"
   ]
  },
  {
   "cell_type": "code",
   "execution_count": 173,
   "metadata": {
    "colab": {
     "base_uri": "https://localhost:8080/"
    },
    "executionInfo": {
     "elapsed": 16,
     "status": "ok",
     "timestamp": 1659349041717,
     "user": {
      "displayName": "junhwa lee",
      "userId": "11332889748979012167"
     },
     "user_tz": -540
    },
    "id": "9eY8WynD0x1F",
    "outputId": "99b85027-5ef3-4665-de10-7c0aba2f0ac0"
   },
   "outputs": [
    {
     "name": "stdout",
     "output_type": "stream",
     "text": [
      "Animal: cat,fox\n"
     ]
    }
   ],
   "source": [
    "print(\"Animal: {0},{2}\".format(animal_0, animal_1, animal_2))"
   ]
  },
  {
   "cell_type": "markdown",
   "metadata": {
    "id": "z9bMNe6J0x1G"
   },
   "source": [
    "- 출력된 결과를 보면 첫 번째와 세 번째 데이터만 출력"
   ]
  },
  {
   "cell_type": "markdown",
   "metadata": {
    "id": "gpWGYItR0x1H"
   },
   "source": [
    "- {N}으로 format()안의 데이터 순서를 지정\n",
    "- 만약 format()안의 데이터를 순차적으로 지정하려면 {N}에 N 없이 {}만 써도 됨"
   ]
  },
  {
   "cell_type": "markdown",
   "metadata": {
    "id": "tZP9UpK40x1H"
   },
   "source": [
    "- 세 개의 {}를 이용해 데이터를 순서대로 출력"
   ]
  },
  {
   "cell_type": "code",
   "execution_count": 174,
   "metadata": {
    "colab": {
     "base_uri": "https://localhost:8080/"
    },
    "executionInfo": {
     "elapsed": 13,
     "status": "ok",
     "timestamp": 1659349041717,
     "user": {
      "displayName": "junhwa lee",
      "userId": "11332889748979012167"
     },
     "user_tz": -540
    },
    "id": "4j5PoFOQ0x1I",
    "outputId": "c07f2ebf-0efd-4e14-c4a4-8c8514fc2e2b"
   },
   "outputs": [
    {
     "name": "stdout",
     "output_type": "stream",
     "text": [
      "Animal: cat, dog, fox\n"
     ]
    }
   ],
   "source": [
    "print(\"Animal: {}, {}, {}\".format(animal_0, animal_1, animal_2))"
   ]
  },
  {
   "cell_type": "markdown",
   "metadata": {
    "id": "hMbX9MSF0x1J"
   },
   "source": [
    "- 문자열뿐만 아니라 정수나 실수도 'string.format()' 방식을 이용해 출력할 수 있음\n",
    "- 기본 출력 양식을 그대로 이용 하면 출력 형식을 별도로 지정하지 않아도 됨\n",
    "- 단지 {N}를 이용해 변수를 출력할 위치만 지정하면 됨"
   ]
  },
  {
   "cell_type": "markdown",
   "metadata": {
    "id": "_1nLHzvn0x1K"
   },
   "source": [
    "- print() 함수에서 이용할 문자열을 fmt_string 변수에 대입한 후 이를 이용\n",
    "- {N}으로 데이터의 출력 위치만 지정하면 변수의 데이터 타입을 지정하지 않아도 데이터의 타입에 따라 자동으로 알아서 출력\n",
    "- 실수의 경우 기본적으로 소수 점 17자리까지 표시\n",
    "- 그 이상의 소수점 숫자는 반올림되어 출력"
   ]
  },
  {
   "cell_type": "code",
   "execution_count": 175,
   "metadata": {
    "colab": {
     "base_uri": "https://localhost:8080/"
    },
    "executionInfo": {
     "elapsed": 11,
     "status": "ok",
     "timestamp": 1659349041718,
     "user": {
      "displayName": "junhwa lee",
      "userId": "11332889748979012167"
     },
     "user_tz": -540
    },
    "id": "1CA5vO9q0x1M",
    "outputId": "512ad58c-4a45-489d-ae75-49186a4ad7e2"
   },
   "outputs": [
    {
     "name": "stdout",
     "output_type": "stream",
     "text": [
      "String: Tomas. Integer Number: 10. Floating Number: 0.12345678901234568\n"
     ]
    }
   ],
   "source": [
    "name = \"Tomas\"\n",
    "age = 10\n",
    "a = 0.1234567890123456789\n",
    "fmt_string = \"String: {0}. Integer Number: {1}. Floating Number: {2}\"\n",
    "print(fmt_string.format(name, age, a))"
   ]
  },
  {
   "cell_type": "markdown",
   "metadata": {
    "id": "GainMBNS0x1N"
   },
   "source": [
    "#### 형식 지정 문자열에서 숫자 출력 형식 지정"
   ]
  },
  {
   "cell_type": "markdown",
   "metadata": {
    "id": "RoRFXZRt0x1O"
   },
   "source": [
    "- 'string.format()'을 이용해 형식 지정 문자열을 이용하는 방법으로\n",
    "- 데이터를 출력할 경우 출력 형식을 지정하지 않아도 데이터의 타입에 맞게 출력\n",
    "- 데이터가 문자열이 아니라 숫자인 경우 {N: ’출력 형식 ’} 형태로 좀 더 다양하게 출력 형식을 지정할수 있음\n",
    "- N은 앞에서와 마찬가지로 fonnat()에서 N번째 데이터의 위치"
   ]
  },
  {
   "cell_type": "markdown",
   "metadata": {
    "id": "d5SmXIH00x1O"
   },
   "source": [
    "'.2f ’와 '.5f는 모두 ‘출력 형식’을 지정한 것으로서 각각 실수를 소수점 둘째 자리와 다섯째 자리까지 표시하라는 뜻"
   ]
  },
  {
   "cell_type": "code",
   "execution_count": 176,
   "metadata": {
    "colab": {
     "base_uri": "https://localhost:8080/"
    },
    "executionInfo": {
     "elapsed": 9,
     "status": "ok",
     "timestamp": 1659349041718,
     "user": {
      "displayName": "junhwa lee",
      "userId": "11332889748979012167"
     },
     "user_tz": -540
    },
    "id": "3Xz6zCOj0x1P",
    "outputId": "57d52eb1-5d4a-4346-d7e4-0b8e7c3c9299"
   },
   "outputs": [
    {
     "name": "stdout",
     "output_type": "stream",
     "text": [
      "0.12, 0.12346\n"
     ]
    }
   ],
   "source": [
    "a = 0.1234567890123456789\n",
    "print(\"{0:.2f}, {0:.5f}\".format(a))"
   ]
  },
  {
   "cell_type": "markdown",
   "metadata": {
    "id": "qbxxBJPS0x1Q"
   },
   "source": [
    "## 6.1 키보드 입력"
   ]
  },
  {
   "cell_type": "markdown",
   "metadata": {
    "id": "5WK6e8CL0x1R"
   },
   "source": [
    "- 키보드로 데이터를 입력하기 위해서는 input() 함수를 이용\n",
    "- input() 함수를 이용해 데이터를 입력하고 그 값을 받아서 처리하는 방법\n",
    "- input() 함수로 데이터를 입력하기 위한 기본 구조"
   ]
  },
  {
   "cell_type": "markdown",
   "metadata": {
    "id": "aL3KSya00x1R"
   },
   "source": [
    "- data = input (\"문자열\")\n",
    "- input() 함수 안의 ‘문자열’은 화면에 표시되고 키보드로 데이터를 입력한 후 Enter를 누르면\n",
    "- 입력된 데이터는 문자열 형태로 data 변수에 대입"
   ]
  },
  {
   "cell_type": "markdown",
   "metadata": {
    "id": "0lWoYdtn0x1S"
   },
   "source": [
    "- input()함수로부터 입력받은 데이터를 print() 함수로 출력"
   ]
  },
  {
   "cell_type": "code",
   "execution_count": 177,
   "metadata": {
    "colab": {
     "base_uri": "https://localhost:8080/"
    },
    "executionInfo": {
     "elapsed": 11243,
     "status": "ok",
     "timestamp": 1659349052955,
     "user": {
      "displayName": "junhwa lee",
      "userId": "11332889748979012167"
     },
     "user_tz": -540
    },
    "id": "3Yqw6ciI0x1S",
    "outputId": "5574ca8e-a572-4bb8-8b53-0b8c4e32f0d3"
   },
   "outputs": [
    {
     "name": "stdout",
     "output_type": "stream",
     "text": [
      "당신은 태환이군요.\n"
     ]
    }
   ],
   "source": [
    "yourName = input(\"당신의 이름은? \")\n",
    "print(\"당신은 {}이군요.\".format(yourName))"
   ]
  },
  {
   "cell_type": "markdown",
   "metadata": {
    "id": "l5YcRDGO0x1T"
   },
   "source": [
    "- 숫자를 입력"
   ]
  },
  {
   "cell_type": "code",
   "execution_count": 178,
   "metadata": {
    "colab": {
     "base_uri": "https://localhost:8080/"
    },
    "executionInfo": {
     "elapsed": 6760,
     "status": "ok",
     "timestamp": 1659349059705,
     "user": {
      "displayName": "junhwa lee",
      "userId": "11332889748979012167"
     },
     "user_tz": -540
    },
    "id": "-Md4aQAH0x1T",
    "outputId": "71230bdb-eca7-47ca-a7a9-a7bf329ee98b"
   },
   "outputs": [
    {
     "name": "stdout",
     "output_type": "stream",
     "text": [
      "당신이 입력한 숫자는 1입니다.\n"
     ]
    }
   ],
   "source": [
    "num = input(\"숫자를 입력하세요: \")\n",
    "print(\"당신이 입력한 숫자는 {}입니다.\".format(num))"
   ]
  },
  {
   "cell_type": "markdown",
   "metadata": {
    "id": "inLgWn_Z0x1U"
   },
   "source": [
    " - input() 함수로부터 입력 받은 숫자를 그대로 출력해서 문제가 없었지만 \n",
    " - 숫자를 연산에 이용 한다면 연산 전에 입력받은 숫자를 정수 혹은 실수로 변환\n",
    " - input() 함수로부터 입력 받은 데이터는 모두 문자열로 처리되기 때문"
   ]
  },
  {
   "cell_type": "markdown",
   "metadata": {
    "id": "mxEYEY6o0x1U"
   },
   "source": [
    "- 정사각형의 변의 길이를 입력받아 넓이를 구하기"
   ]
  },
  {
   "cell_type": "code",
   "execution_count": 179,
   "metadata": {
    "colab": {
     "base_uri": "https://localhost:8080/"
    },
    "executionInfo": {
     "elapsed": 4409,
     "status": "ok",
     "timestamp": 1659349064083,
     "user": {
      "displayName": "junhwa lee",
      "userId": "11332889748979012167"
     },
     "user_tz": -540
    },
    "id": "87IbxaGq0x1V",
    "outputId": "b55824c0-d3ed-4f9b-c559-51b5fca8c030"
   },
   "outputs": [
    {
     "name": "stdout",
     "output_type": "stream",
     "text": [
      "정사각형의 넓이: 4\n"
     ]
    }
   ],
   "source": [
    "a = input(\"정사각형 한 변의 길이는?: \")\n",
    "area = int(a) ** 2\n",
    "print(\"정사각형의 넓이: {}\".format(area))"
   ]
  },
  {
   "cell_type": "markdown",
   "metadata": {
    "id": "YC_kcOII0x1V"
   },
   "source": [
    "- 정수가 입력될 것이라는 가정하에 int() 함수를 이용해 문자열을 정수로 변환한후에 제곱 연산으로 넓이를 구했음"
   ]
  },
  {
   "cell_type": "markdown",
   "metadata": {
    "id": "RoH9xMER0x1W"
   },
   "source": [
    "- 입력하려고 하는 숫자가 실수면 어떻게 할까요?"
   ]
  },
  {
   "cell_type": "code",
   "execution_count": 180,
   "metadata": {
    "colab": {
     "base_uri": "https://localhost:8080/"
    },
    "executionInfo": {
     "elapsed": 9021,
     "status": "ok",
     "timestamp": 1659349073085,
     "user": {
      "displayName": "junhwa lee",
      "userId": "11332889748979012167"
     },
     "user_tz": -540
    },
    "id": "t0Zz7KeV0x1W",
    "outputId": "86b51974-6e3b-484f-81c3-6a496c6f7dc3"
   },
   "outputs": [
    {
     "name": "stdout",
     "output_type": "stream",
     "text": [
      "정사각형의 넓이: 4.0\n"
     ]
    }
   ],
   "source": [
    "b = input(\"정사각형 한 변의 길이는?:\")\n",
    "area = float(b) ** 2\n",
    "print(\"정사각형의 넓이: {}\".format(area))"
   ]
  },
  {
   "cell_type": "markdown",
   "metadata": {
    "id": "Z07Hc20G0x1X"
   },
   "source": [
    "- 입력 숫자를 실수로 가정해 float()함수로 문자열을 실수로 변환해 연산을 수행\n",
    "- 입력하려는 숫자가 정수인지 실수인지 모를 때는 무조건 float() 함수를 쓰면 됨"
   ]
  },
  {
   "cell_type": "markdown",
   "metadata": {
    "id": "Ta_stLoM0x1X"
   },
   "source": [
    "- 정수를 입력해도 float() 함수를 이용해 실수로 변환한 후에 연산을 수행\n",
    "- 실수로 변환했으므로 결과는 실수로 출력"
   ]
  },
  {
   "cell_type": "code",
   "execution_count": 181,
   "metadata": {
    "colab": {
     "base_uri": "https://localhost:8080/"
    },
    "executionInfo": {
     "elapsed": 8943,
     "status": "ok",
     "timestamp": 1659349082010,
     "user": {
      "displayName": "junhwa lee",
      "userId": "11332889748979012167"
     },
     "user_tz": -540
    },
    "id": "tNwI65PN0x1X",
    "outputId": "d88e28b9-c10b-4da8-f84c-4d999cea18ff"
   },
   "outputs": [
    {
     "name": "stdout",
     "output_type": "stream",
     "text": [
      "정사각형의 넓이: 4.0\n"
     ]
    }
   ],
   "source": [
    "c = input(\"정사각형 한 변의 길이는?: \")\n",
    "area = float(c) ** 2\n",
    "print(\"정사각형의 넓이: {}\".format(area))"
   ]
  },
  {
   "cell_type": "markdown",
   "metadata": {
    "id": "Wbf_Na5o0x1Y"
   },
   "source": [
    "## 6.3 파일 읽고 쓰기"
   ]
  },
  {
   "cell_type": "markdown",
   "metadata": {
    "id": "NGhf4mty0x1Y"
   },
   "source": [
    "- 출력 결과를 화면이 아니라 파일로 출력하거나 키보드가 아닌 파일에서 데이터를 읽어야 할 때\n",
    "- 데이터를 파일로 출력(즉，파일로 저장)하는 방법과 데이 터가 저장된 파일에서 데이터를 읽는 방법"
   ]
  },
  {
   "cell_type": "markdown",
   "metadata": {
    "collapsed": true,
    "id": "VhyEVOCV0x1Z",
    "jupyter": {
     "outputs_hidden": true
    }
   },
   "source": [
    "### 파일 열기\n"
   ]
  },
  {
   "cell_type": "markdown",
   "metadata": {
    "id": "SM61p2RD0x1Z"
   },
   "source": [
    "- 파일에서 데이터를 읽거나 파일에 데이터를 쓰려면 우선 파이썬 내장 함수인 open()을 이용해 파일을 열어야 함\n",
    "- f = open ('filename', 'mode')\n",
    "- open() 함수는 file_name과 mode를 입력 인자로 받아서 파일을 열고 파일 객체인 f를 반환\n",
    "- 반환된 파일 객체를 이용해 파일을 읽고 쓰고 닫음\n",
    "- 두 번째 인자인 모드(mode)"
   ]
  },
  {
   "cell_type": "markdown",
   "metadata": {
    "id": "dhC5KHyf0x1Z"
   },
   "source": [
    "- mode는 혼합해서 사용할 수도 있음\n",
    "- 바이너리 파일을 읽기 모드로 열고 싶으면 mode에 'bw' 혹은 ‘wb’를 입력\n",
    "- mode에 아무것도 쓰지 않으면 ‘rt’와 같은 기능(읽기 모드이면서 텍스트 모드로 파일을 염)\n",
    "- mode에 'w’만 입력하면 ‘wt’ 모드로 파일을 염"
   ]
  },
  {
   "cell_type": "markdown",
   "metadata": {
    "id": "qJMRTh5u0x1a"
   },
   "source": [
    "### 파일 쓰기"
   ]
  },
  {
   "cell_type": "markdown",
   "metadata": {
    "id": "DXwaviMK0x1a"
   },
   "source": [
    "- 파일 쓰기를 하려면 우선 파일을 쓰기 모드로 열어야 함\n",
    "- 파일이 텍스트 파일인지 바이너리 파일인지도 지정할 수 있는데 특별히 지정하지 않으면 기본적으로 텍스트 파일 모드로 파일을 오픈\n",
    "- 파일을 열고 지정한 내용을 쓴 후에는 파일을 닫아야 함"
   ]
  },
  {
   "cell_type": "markdown",
   "metadata": {
    "id": "lf9IxyxY0x1a"
   },
   "source": [
    "- 파일 쓰기를 위한 코드의 구조\n",
    "- f = open('file_name', 'w') f.write(str) f.close()\n",
    "- open()에서  쓰기 모드(‘w')로 파일을 열면 지정된 이름으로 파일을 생성한 후에 파일을 오픈\n",
    "- 같은 이름의 파일이 있다면 기존 파일의 내용을 모두 삭제하고 파일을 오픈\n",
    "- 파일을 열 때 파일 객체인 f를 반환하는데, 이를 이용해 열린 파일을 구분\n",
    "- write(str)에서 str은 문자열을 의미\n",
    "- write()에서는 print() 함수에서 사용하는 출력 방식을 그대로 이용할수 있음\n",
    "- 따옴표를 이용해 문자열을 파일로 출력할 수도 있고  형식 지정 출력 방식을 이용해 문자열을 파일로 출력할 수도 있음\n",
    "- 파일에 원하는 내용을 다 썼다면 close()를 이용해 파일을 닫음\n",
    "- 이 닫히면 파일 객체인 f도 사라짐"
   ]
  },
  {
   "cell_type": "markdown",
   "metadata": {
    "id": "TZm2VjrJ0x1b"
   },
   "source": [
    "- C:\\myPyCode’ 폴더로 이동"
   ]
  },
  {
   "cell_type": "code",
   "execution_count": 182,
   "metadata": {
    "colab": {
     "base_uri": "https://localhost:8080/"
    },
    "executionInfo": {
     "elapsed": 25,
     "status": "ok",
     "timestamp": 1659349082010,
     "user": {
      "displayName": "junhwa lee",
      "userId": "11332889748979012167"
     },
     "user_tz": -540
    },
    "id": "I5vteOq90x1b",
    "outputId": "1fde30b1-6a63-48ab-eb89-54af8731b7b0"
   },
   "outputs": [],
   "source": [
    "# cd C:\\myPyCode"
   ]
  },
  {
   "cell_type": "markdown",
   "metadata": {
    "id": "sfYw2sH00x1b"
   },
   "source": [
    "- 파일을 쓰기 모드로 연 후 문자열을 쓰고 파일을 닫는 코드를 작성"
   ]
  },
  {
   "cell_type": "code",
   "execution_count": 183,
   "metadata": {
    "executionInfo": {
     "elapsed": 19,
     "status": "ok",
     "timestamp": 1659349082011,
     "user": {
      "displayName": "junhwa lee",
      "userId": "11332889748979012167"
     },
     "user_tz": -540
    },
    "id": "tWShNdNM0x1c"
   },
   "outputs": [],
   "source": [
    "f = open('myFile.txt', 'w', encoding=\"utf-8\")           # (1)'myFile.txt' 파일 쓰기 모드로 열기\n",
    "f.write('This is my first file. 이것은 제 첫번째 파일입니다.')     # (2) 연 파일에 문자열 쓰기\n",
    "f.close()                             # (3) 파일 닫기"
   ]
  },
  {
   "cell_type": "markdown",
   "metadata": {
    "id": "dFAV9x6J0x1c"
   },
   "source": [
    "- 문자열이 저장된 파일 하나가 만들어짐\n",
    "- '!cat 파일 이름’을 이용해 파일이 있는지 확인"
   ]
  },
  {
   "cell_type": "markdown",
   "metadata": {
    "id": "PDI24s8v0x1d"
   },
   "source": [
    "파일이 있으면 내용을 화면에 출력하고 없으면 오류 메시지를 출력"
   ]
  },
  {
   "cell_type": "code",
   "execution_count": 184,
   "metadata": {
    "colab": {
     "base_uri": "https://localhost:8080/"
    },
    "executionInfo": {
     "elapsed": 18,
     "status": "ok",
     "timestamp": 1659349082011,
     "user": {
      "displayName": "junhwa lee",
      "userId": "11332889748979012167"
     },
     "user_tz": -540
    },
    "id": "OaHfcKsU0x1d",
    "outputId": "0ce76f47-b384-43b5-d51b-b3eaa2558f12"
   },
   "outputs": [
    {
     "name": "stdout",
     "output_type": "stream",
     "text": [
      "This is my first file. 이것은 제 첫번째 파일입니다.\n"
     ]
    }
   ],
   "source": [
    "#!cat myFile.txt\n",
    "!type myFile.txt"
   ]
  },
  {
   "cell_type": "markdown",
   "metadata": {
    "id": "afvcbBup0x1d"
   },
   "source": [
    "- 파일 쓰기로 쓴 문자열이 파일 내용으로 출력\n",
    "- 지정된 파일 이름으로 파일이 잘 만들어졌고 파일에 문자열 쓰기도 잘 수행됐음"
   ]
  },
  {
   "cell_type": "markdown",
   "metadata": {
    "id": "hH7S43VZ0x1e"
   },
   "source": [
    "### 파일 읽기"
   ]
  },
  {
   "cell_type": "markdown",
   "metadata": {
    "id": "Hvzxv5300x1e"
   },
   "source": [
    "- 파일을 읽으려면 우선 파일을 읽기 모드로 열어야 함\n",
    "- 그 후에 파일의 내용을 읽고 마지막으로 파일을 닫음"
   ]
  },
  {
   "cell_type": "markdown",
   "metadata": {
    "id": "64iyrJtO0x1e"
   },
   "source": [
    "- 파일을 읽기 모드이면서 텍스트 모드로 연 후에 파일 내용을 읽고 파일을 닫는 구조\n",
    "- f = open(’file_name’, 'r') # f = open ('filename') 도가능 data = f.read() f.close()\n",
    "- read()로 읽은 파일의 내용은 모두 data 변수에 할당"
   ]
  },
  {
   "cell_type": "markdown",
   "metadata": {
    "id": "d1p2Uy0i0x1f"
   },
   "source": [
    "- 생성한 ‘myFile.txt’ 파일을 열고 파일 내의 문자열을 읽은 후에 파일을 닫음\n",
    "- 파일의 문자열을 잘 읽었는지 확인하기 위해 파일에서 읽은 데이터를 print() 함수로 화면에 출력"
   ]
  },
  {
   "cell_type": "code",
   "execution_count": 185,
   "metadata": {
    "colab": {
     "base_uri": "https://localhost:8080/"
    },
    "executionInfo": {
     "elapsed": 10,
     "status": "ok",
     "timestamp": 1659349082012,
     "user": {
      "displayName": "junhwa lee",
      "userId": "11332889748979012167"
     },
     "user_tz": -540
    },
    "id": "5a3sUgLq0x1f",
    "outputId": "81ddf667-fdc7-4f5c-dcf8-3153152dc78b"
   },
   "outputs": [
    {
     "name": "stdout",
     "output_type": "stream",
     "text": [
      "This is my first file. 이것은 제 첫번째 파일입니다.\n"
     ]
    }
   ],
   "source": [
    "f = open('myFile.txt', 'r', encoding=\"utf-8\") # (1)'myFile.txt' 파일 읽기 모드로 열기\n",
    "file_text = f.read()        # (2) 파일 내용 읽은 후에 변수에 저장\n",
    "f.close()                   # (3) 파일 닫기\n",
    "\n",
    "print(file_text)            # 변수에 저장된 내용 출력          "
   ]
  },
  {
   "cell_type": "code",
   "execution_count": 186,
   "metadata": {},
   "outputs": [
    {
     "name": "stdout",
     "output_type": "stream",
     "text": [
      "cp949\n"
     ]
    }
   ],
   "source": [
    "import locale\n",
    "print(locale.getpreferredencoding())"
   ]
  },
  {
   "cell_type": "markdown",
   "metadata": {
    "id": "dBCBPT1N0x1g"
   },
   "source": [
    "## 6.4 반복문을 이용해 파일 읽고 쓰기"
   ]
  },
  {
   "cell_type": "markdown",
   "metadata": {
    "id": "kiwcT0bV0x1g"
   },
   "source": [
    "- 텍스트 파일의 데이터를 읽거나 데이터를 텍스트 파일로 쓸 때 반복문을 이용해 파일의 내용을 한 줄씩 처리해야 할 때"
   ]
  },
  {
   "cell_type": "markdown",
   "metadata": {
    "id": "8lWOwPZB0x1g"
   },
   "source": [
    "### 파일에 문자열 한 줄씩 쓰기"
   ]
  },
  {
   "cell_type": "markdown",
   "metadata": {
    "id": "AfgWBoQe0x1h"
   },
   "source": [
    "- 반복문을 이용해 파일을 읽고 쓰는 방법 중에서 우선 for 문을 이용해 문자열을 한 줄씩 파일에 쓰는 방법\n",
    "- 파일을 연 후에 for 문에서 지정된 범위만큼 반복해서 문자열을 한 줄씩 파 일에 쓰고 마지막으로 파일을 닫음"
   ]
  },
  {
   "cell_type": "markdown",
   "metadata": {
    "id": "TcTxpwAk0x1h"
   },
   "source": [
    "- 구구단 2단의 일부를 파일로 저장"
   ]
  },
  {
   "cell_type": "code",
   "execution_count": 187,
   "metadata": {
    "executionInfo": {
     "elapsed": 7,
     "status": "ok",
     "timestamp": 1659349082012,
     "user": {
      "displayName": "junhwa lee",
      "userId": "11332889748979012167"
     },
     "user_tz": -540
    },
    "id": "K06HaR230x1i"
   },
   "outputs": [],
   "source": [
    "f = open('two_times_table.txt','w') # (1)파일을 쓰기 모드로 열기\n",
    "for num in range(1,6):              # (2) for문: num이 1~5까지 반복\n",
    "    format_string = \"2 x {0} = {1}\\n\".format(num,2*num) # 저장할 문자열 생성\n",
    "    f.write(format_string)          # (3) 파일에 문자열 저장\n",
    "f.close()                           # (4) 파일 닫기"
   ]
  },
  {
   "cell_type": "markdown",
   "metadata": {
    "id": "LHmbL0oT0x1i"
   },
   "source": [
    "- open()함수를 이용해 쓰기 모드로 파일을 연 후(1) \n",
    "- for 문으로 반복할 범위를 지정하고(2) \n",
    "- for 문에서〈반복 범위〉만큼 반복해서 파일에 쓰기를 수행(3)한 후 \n",
    "- 파일을 닫음(4)"
   ]
  },
  {
   "cell_type": "markdown",
   "metadata": {
    "id": "uDz422B70x1i"
   },
   "source": [
    "- write() 함수를 이용해 데이터를 파일로 쓸 때 print() 함수에서 사용한 출력 양식을 거의 그대로 이용\n",
    "- write() 함수는 자동으로 줄 바꿈이 되지 않으므로 파일에서 줄을 바꾸기 위해서는 문자열 끝에 개행문자(\\n)를 추가"
   ]
  },
  {
   "cell_type": "markdown",
   "metadata": {
    "id": "Yezo6bRi0x1j"
   },
   "source": [
    "- 파일이 잘 생성됐는지 확인하기 위해 ‘!type 파일 이름’을 실행해 파일에 저장된 내용을 출력"
   ]
  },
  {
   "cell_type": "code",
   "execution_count": 188,
   "metadata": {
    "colab": {
     "base_uri": "https://localhost:8080/"
    },
    "executionInfo": {
     "elapsed": 493,
     "status": "ok",
     "timestamp": 1659349082498,
     "user": {
      "displayName": "junhwa lee",
      "userId": "11332889748979012167"
     },
     "user_tz": -540
    },
    "id": "eMSc0k8F0x1j",
    "outputId": "4d488e0f-7247-4260-ac05-a67d538a2619"
   },
   "outputs": [
    {
     "name": "stdout",
     "output_type": "stream",
     "text": [
      "2 x 1 = 2\n",
      "2 x 2 = 4\n",
      "2 x 3 = 6\n",
      "2 x 4 = 8\n",
      "2 x 5 = 10\n"
     ]
    }
   ],
   "source": [
    "#!cat two_times_table.txt\n",
    "!type two_times_table.txt"
   ]
  },
  {
   "cell_type": "markdown",
   "metadata": {
    "id": "xWw6j3Pt0x1k"
   },
   "source": [
    "### 파일에서 문자열 한 줄씩 읽기"
   ]
  },
  {
   "cell_type": "markdown",
   "metadata": {
    "id": "PnH8R9dd0x1k"
   },
   "source": [
    "- 반복문을 이용해 파일 내용을 한 줄씩 읽는 방법"
   ]
  },
  {
   "cell_type": "markdown",
   "metadata": {
    "id": "34Q2BGff0x1k"
   },
   "source": [
    "- 'f = open('file_name')’으로 파일을 연 후 'read()’를 이용해 파일 내용을 읽었음\n",
    "- 파일 내용 전체를 반환하므로 내용을 한 줄씩 읽어서 처리해야 할 때 사용하기 어려움\n",
    "- 파일 내용을 한 줄 씩 읽고 처리하려면 readline()나 readlines()를 이용"
   ]
  },
  {
   "cell_type": "markdown",
   "metadata": {
    "id": "gLyFGYEg0x1k"
   },
   "source": [
    "#### readline()"
   ]
  },
  {
   "cell_type": "markdown",
   "metadata": {
    "id": "hArYqBQO0x1l"
   },
   "source": [
    "- 파일을 연 후 readline()을 수행하면 파일로부터 문자열 한 줄을 읽음\n",
    "- readline()을 사용하면 바로 그 다음 문자열 한 줄을 읽음\n",
    "- readline()은 실행한 횟수만큼 문자열을 한 줄씩 읽음\n",
    "- 파일의 마지막 한 줄을 읽고 나서 다시 readline()을 수행하면 빈 문자열을 반환"
   ]
  },
  {
   "cell_type": "markdown",
   "metadata": {
    "id": "hXc2AsA00x1l"
   },
   "source": [
    "- readline()을 이용해 파일에서 문자열을 한 줄씩 읽어옴"
   ]
  },
  {
   "cell_type": "code",
   "execution_count": 189,
   "metadata": {
    "colab": {
     "base_uri": "https://localhost:8080/"
    },
    "executionInfo": {
     "elapsed": 35,
     "status": "ok",
     "timestamp": 1659349082499,
     "user": {
      "displayName": "junhwa lee",
      "userId": "11332889748979012167"
     },
     "user_tz": -540
    },
    "id": "Qfz8kBW30x1l",
    "outputId": "c39c0a35-5705-4c57-f259-a0c0ee76ae06",
    "scrolled": true
   },
   "outputs": [
    {
     "name": "stdout",
     "output_type": "stream",
     "text": [
      "2 x 1 = 2\n",
      "2 x 2 = 4\n"
     ]
    }
   ],
   "source": [
    "f = open(\"two_times_table.txt\")   # 파일을 읽기 모드로 열기\n",
    "line1 = f.readline()              # 한 줄씩 문자열을 읽기\n",
    "line2 = f.readline()\n",
    "f.close()                         # 파일 닫기\n",
    "print(line1, end=\"\")              # 한 줄씩 문자열 출력(줄 바꿈 안 함)\n",
    "print(line2, end=\"\") "
   ]
  },
  {
   "cell_type": "markdown",
   "metadata": {
    "id": "74g8JQ0a0x1m"
   },
   "source": [
    "- 파일을 연 후 readline()을 이용해 문자열을 한 줄씩 두 번 읽고 print()로 출력\n",
    "- readline()으로 읽은 문자열에는 이미 개행문자(\\n)가 포함됐으므로 print()에서는 줄 바꿈이 중복되지 않게 [end=\"\"] 처럼 end 인자를 빈 문자열(\"\")로 설정\n",
    "- 출력 결과에서 readline()으로 한 줄씩 읽은 문자열이 잘 출력"
   ]
  },
  {
   "cell_type": "markdown",
   "metadata": {
    "id": "6lcgg-4R0x1m"
   },
   "source": [
    "- readline()은 파일의 맨 끝 줄을 읽고 난 후 다시 실행하면 빈 문자열을 반환\n",
    "- while 문과 readline()으로 파일 전체에서 문자열을 한 줄씩 읽어 올수 있음"
   ]
  },
  {
   "cell_type": "markdown",
   "metadata": {
    "id": "HKnKv91O0x1m"
   },
   "source": [
    "- line에는 readline()의 수행 결과로 가져온 한 줄 문자열이 대입되고 'while line:‘에서 line이 빈 문자열인지를 검사해서\n",
    "- 빈 문자열이 아니면 while 문을 계속 수행하고 빈 문자열이면 while 문을 빠져나옴"
   ]
  },
  {
   "cell_type": "code",
   "execution_count": 190,
   "metadata": {
    "colab": {
     "base_uri": "https://localhost:8080/"
    },
    "executionInfo": {
     "elapsed": 31,
     "status": "ok",
     "timestamp": 1659349082499,
     "user": {
      "displayName": "junhwa lee",
      "userId": "11332889748979012167"
     },
     "user_tz": -540
    },
    "id": "6W46YVuY0x1n",
    "outputId": "5d6241fa-a925-4d52-d9b9-cf5aadef666d"
   },
   "outputs": [
    {
     "name": "stdout",
     "output_type": "stream",
     "text": [
      "2 x 1 = 2\n",
      "2 x 2 = 4\n",
      "2 x 3 = 6\n",
      "2 x 4 = 8\n",
      "2 x 5 = 10\n"
     ]
    }
   ],
   "source": [
    "f = open(\"two_times_table.txt\")  # 파일을 읽기 모드로 열기\n",
    "line = f.readline()              # 문자열 한 줄 읽기\n",
    "while line:                     # line이 공백인지 검사해서 반복 여부 결정\n",
    "    print(line, end = \"\")        # 문자열 한 줄 출력(줄 바꿈 안 함)\n",
    "    line = f.readline()          # 문자열 한 줄 읽기\n",
    "f.close() # 파일 닫기"
   ]
  },
  {
   "cell_type": "markdown",
   "metadata": {
    "id": "f60T9YED0x1n"
   },
   "source": [
    "#### readlines()"
   ]
  },
  {
   "cell_type": "markdown",
   "metadata": {
    "id": "NvvHxreV0x1n"
   },
   "source": [
    "- readline()은 파일에서 문자열을 한 줄씩 읽었지만 readlines()는 파일 전체의 모든 줄을 읽어서 한 줄 씩을 요소로 갖는 리스트 타입으로 반환"
   ]
  },
  {
   "cell_type": "markdown",
   "metadata": {
    "id": "nVdXrhXv0x1o"
   },
   "source": [
    "readlines()를 이용해 파일의 전체 내용을 읽어옴"
   ]
  },
  {
   "cell_type": "code",
   "execution_count": 191,
   "metadata": {
    "colab": {
     "base_uri": "https://localhost:8080/"
    },
    "executionInfo": {
     "elapsed": 28,
     "status": "ok",
     "timestamp": 1659349082499,
     "user": {
      "displayName": "junhwa lee",
      "userId": "11332889748979012167"
     },
     "user_tz": -540
    },
    "id": "g8dlkz_00x1o",
    "outputId": "122eaca3-6ae5-452f-fe70-f6dee3d3b57c"
   },
   "outputs": [
    {
     "name": "stdout",
     "output_type": "stream",
     "text": [
      "['2 x 1 = 2\\n', '2 x 2 = 4\\n', '2 x 3 = 6\\n', '2 x 4 = 8\\n', '2 x 5 = 10\\n']\n"
     ]
    }
   ],
   "source": [
    "f = open(\"two_times_table.txt\") # (1) 파일을 읽기 모드로 열기\n",
    "lines = f.readlines()           # (2) 파일 전체 읽기(리스트로 반환)\n",
    "f.close()                       # (3) 파일 닫기\n",
    "\n",
    "print(lines)                    # 리스트 변수 내용 출력"
   ]
  },
  {
   "cell_type": "markdown",
   "metadata": {
    "id": "jHiVv50_0x1o"
   },
   "source": [
    "- 지정된 파일을 열고(1)\n",
    "- readlines()를 이용해 파일의 전체 문자열을 읽어서 변수 lines에 할 당한 후(2) \n",
    "- 파일을 닫는(3)\n",
    "- 변수 lines의 출력 결과에서 readlines()의 반환 값이 리스트인 것을 확인할 수 있음"
   ]
  },
  {
   "cell_type": "markdown",
   "metadata": {
    "id": "PMArCLsn0x1o"
   },
   "source": [
    "- 리스트 항목에는 파일에서 한 줄씩 읽은 문자열이 들어가 있음\n",
    "- 개행문자(\\n)도 포함됨"
   ]
  },
  {
   "cell_type": "markdown",
   "metadata": {
    "id": "Ng5tintp0x1p"
   },
   "source": [
    "- lines 리스트에 할당된 문자열은  for 문을 이용해 항목을 하나씩 처리할 수 있음"
   ]
  },
  {
   "cell_type": "code",
   "execution_count": 192,
   "metadata": {
    "colab": {
     "base_uri": "https://localhost:8080/"
    },
    "executionInfo": {
     "elapsed": 25,
     "status": "ok",
     "timestamp": 1659349082500,
     "user": {
      "displayName": "junhwa lee",
      "userId": "11332889748979012167"
     },
     "user_tz": -540
    },
    "id": "4BD0Ktrk0x1p",
    "outputId": "4f6eaaeb-285c-47bb-d6f3-a63e6d8b865b",
    "scrolled": true
   },
   "outputs": [
    {
     "name": "stdout",
     "output_type": "stream",
     "text": [
      "2 x 1 = 2\n",
      "2 x 2 = 4\n",
      "2 x 3 = 6\n",
      "2 x 4 = 8\n",
      "2 x 5 = 10\n"
     ]
    }
   ],
   "source": [
    "f = open(\"two_times_table.txt\")  # 파일을 읽기 모드로 열기\n",
    "lines = f.readlines()            # 파일 전체 읽기(리스트로 반환)\n",
    "f.close()                        # 파일 닫기\n",
    "for line in lines:              # 리스트를 <반복 범위>로 지정\n",
    "    print(line, end=\"\")          # 리스트 항목을 출력(줄 바꿈 안 함)"
   ]
  },
  {
   "cell_type": "markdown",
   "metadata": {
    "id": "zXCMFgYg0x1p"
   },
   "source": [
    "- for 문의〈반복 범위〉에 lines 변수 대신 바로 f.readlines()를 쓰면 코드가 더 간단해 짐"
   ]
  },
  {
   "cell_type": "code",
   "execution_count": 193,
   "metadata": {
    "colab": {
     "base_uri": "https://localhost:8080/"
    },
    "executionInfo": {
     "elapsed": 22,
     "status": "ok",
     "timestamp": 1659349082500,
     "user": {
      "displayName": "junhwa lee",
      "userId": "11332889748979012167"
     },
     "user_tz": -540
    },
    "id": "D6tLRO9X0x1q",
    "outputId": "f1d9815f-a435-46b3-b987-4c95beaad370"
   },
   "outputs": [
    {
     "name": "stdout",
     "output_type": "stream",
     "text": [
      "2 x 1 = 2\n",
      "2 x 2 = 4\n",
      "2 x 3 = 6\n",
      "2 x 4 = 8\n",
      "2 x 5 = 10\n"
     ]
    }
   ],
   "source": [
    "f = open(\"two_times_table.txt\")  # 파일을 읽기 모드로 열기\n",
    "for line in f.readlines():      # 파일 전체를 읽고, 리스트 항목을 line에 할당\n",
    "    print(line, end=\"\")          # 리스트 항목을 출력(줄 바꿈 안 함)\n",
    "f.close()   "
   ]
  },
  {
   "cell_type": "markdown",
   "metadata": {
    "id": "8i4oB4IY0x1q"
   },
   "source": [
    "- for 문의 <반복 범위>에 있는 f.readlines() 대신 f만 입력\n",
    "\n",
    "> 들여쓴 블록\n",
    "\n"
   ]
  },
  {
   "cell_type": "code",
   "execution_count": 194,
   "metadata": {
    "colab": {
     "base_uri": "https://localhost:8080/"
    },
    "executionInfo": {
     "elapsed": 19,
     "status": "ok",
     "timestamp": 1659349082500,
     "user": {
      "displayName": "junhwa lee",
      "userId": "11332889748979012167"
     },
     "user_tz": -540
    },
    "id": "5aOrVtTy0x1q",
    "outputId": "272a91fe-0cc5-44f3-9cba-096454c2bce4"
   },
   "outputs": [
    {
     "name": "stdout",
     "output_type": "stream",
     "text": [
      "2 x 1 = 2\n",
      "2 x 2 = 4\n",
      "2 x 3 = 6\n",
      "2 x 4 = 8\n",
      "2 x 5 = 10\n"
     ]
    }
   ],
   "source": [
    "f = open(\"two_times_table.txt\") # 파일을 읽기 모드로 열기\n",
    "for line in f:                 # 파일 전체를 읽고, 리스트 항목을 line에 할당\n",
    "    print(line, end=\"\")         # line의 내용 출력(줄 바꿈 안 함)\n",
    "f.close()                       # 파일 닫기"
   ]
  },
  {
   "cell_type": "markdown",
   "metadata": {
    "id": "HWryhCk90x1r"
   },
   "source": [
    "## 6.5 with 문을 활용해 파일 읽고 쓰기"
   ]
  },
  {
   "cell_type": "markdown",
   "metadata": {
    "id": "yLsehweB0x1r"
   },
   "source": [
    "- open() 함수를 이용해 파일을 연 후에는 읽기나 쓰기가 끝난 후 close()로 파일을 닫음\n",
    "- with 문을 이용한다면 수행이 끝난 후에 자동으로 파일을 닫기 때문에 Close()를 수행하지 않아도 됨"
   ]
  },
  {
   "cell_type": "markdown",
   "metadata": {
    "id": "bgfPwbVJ0x1r"
   },
   "source": [
    "### with 문의 구조"
   ]
  },
  {
   "cell_type": "markdown",
   "metadata": {
    "id": "G4zvX9n40x1r"
   },
   "source": [
    "- 파일을 읽고 쓰려면\n",
    "1. 파일 열기\n",
    "2. 파일 읽고/쓰기\n",
    "3. 파일 닫기"
   ]
  },
  {
   "cell_type": "markdown",
   "metadata": {
    "id": "9z-l_mb_0x1s"
   },
   "source": [
    "- 텍스트 파일에 쓰는 코드"
   ]
  },
  {
   "cell_type": "code",
   "execution_count": 195,
   "metadata": {
    "executionInfo": {
     "elapsed": 17,
     "status": "ok",
     "timestamp": 1659349082501,
     "user": {
      "displayName": "junhwa lee",
      "userId": "11332889748979012167"
     },
     "user_tz": -540
    },
    "id": "YvqZ7nws0x1s"
   },
   "outputs": [],
   "source": [
    "f = open('myTextFile.txt', 'w')   # (1) 파일 열기\n",
    "f.write('File write/read test.')  # (2) 파일 쓰기\n",
    "f.close()                         # (3) 파일 닫기"
   ]
  },
  {
   "cell_type": "markdown",
   "metadata": {
    "id": "dznJqCBl0x1t"
   },
   "source": [
    "- 텍스트 파일을 읽는 코드"
   ]
  },
  {
   "cell_type": "code",
   "execution_count": 196,
   "metadata": {
    "colab": {
     "base_uri": "https://localhost:8080/"
    },
    "executionInfo": {
     "elapsed": 17,
     "status": "ok",
     "timestamp": 1659349082501,
     "user": {
      "displayName": "junhwa lee",
      "userId": "11332889748979012167"
     },
     "user_tz": -540
    },
    "id": "5HJVDXJl0x1t",
    "outputId": "c4308574-550e-4f6e-8f98-2521a8202d0a"
   },
   "outputs": [
    {
     "name": "stdout",
     "output_type": "stream",
     "text": [
      "File write/read test.\n"
     ]
    }
   ],
   "source": [
    "f = open('myTextFile.txt', 'r')  # (1) 파일 열기\n",
    "test = f.read()                  # (2) 파일 읽기\n",
    "f.close()                        # (3) 파일 닫기 \n",
    "print(test)"
   ]
  },
  {
   "cell_type": "markdown",
   "metadata": {
    "id": "AgIZB2Iq0x1t"
   },
   "source": [
    "- with 문을 이용해 파일 열기를 할 경우 코드 구조\n",
    "- with open('file_name’, 'mode') as f： 〈코드 블록〉\n",
    "- file_name은 파일 이름이고，mode는 파일의 속성 지정을 위한 옵션\n",
    "- f는 open() 함수의 반환 결과인 파일 객체로〈코드 블록〉에서 파일을 읽거나 쓸 때 이용\n",
    "- <코드 블록>의 코드가 모두 끝나면 open()으로 열린 파일 객체는 자동으로 닫힘"
   ]
  },
  {
   "cell_type": "markdown",
   "metadata": {
    "id": "zelaFkZN0x1u"
   },
   "source": [
    "- 텍스트 파일 쓰기를 위해서 작성\n",
    "- with open(’file_name’, 'w') as f： f.write(str)"
   ]
  },
  {
   "cell_type": "markdown",
   "metadata": {
    "id": "gdplQtiQ0x1u"
   },
   "source": [
    " - 텍스트 파일을 읽기\n",
    " - with open(’file_name'、'r') as f： data = f.read()\n",
    " - 읽기 모드를 표시한 ’r’은 써도 되고, 안 써도 됨"
   ]
  },
  {
   "cell_type": "markdown",
   "metadata": {
    "id": "VwttcvHT0x1v"
   },
   "source": [
    "### with문의 활용"
   ]
  },
  {
   "cell_type": "markdown",
   "metadata": {
    "id": "2EmVI7rx0x1v"
   },
   "source": [
    " - with 문을 이용해 파일에 문자열"
   ]
  },
  {
   "cell_type": "code",
   "execution_count": 197,
   "metadata": {
    "executionInfo": {
     "elapsed": 15,
     "status": "ok",
     "timestamp": 1659349082501,
     "user": {
      "displayName": "junhwa lee",
      "userId": "11332889748979012167"
     },
     "user_tz": -540
    },
    "id": "h9em9pKw0x1w"
   },
   "outputs": [],
   "source": [
    "with open('myTextFile2.txt', 'w') as f:              # (1) 파일 열기\n",
    "    f.write('File read/write test2: line1\\n')        # (2) 파일 쓰기\n",
    "    f.write('File read/write test2: line2\\n')\n",
    "    f.write('File read/write test2: line3\\n')"
   ]
  },
  {
   "cell_type": "markdown",
   "metadata": {
    "id": "rVuye_QV0x1w"
   },
   "source": [
    "- ‘myTextFile2.txt’ 파일을 생성해서 문자열을 사용\n",
    "- 파일명뿐만 아니라 폴더의 위치까지 포함해서 파일명을 쓰는 경우 코드의 실행 위치와 상관 없이 파일을 열 수 있어서 유용"
   ]
  },
  {
   "cell_type": "markdown",
   "metadata": {
    "id": "iJkSme1R0x1w"
   },
   "source": [
    "- 윈도우 명령어에서는 경로 구분을 위해 \\를 이용하지만 파이썬에서는 \\ 대신 /를 사용해도 됨"
   ]
  },
  {
   "cell_type": "code",
   "execution_count": 198,
   "metadata": {
    "code_folding": [],
    "colab": {
     "base_uri": "https://localhost:8080/"
    },
    "executionInfo": {
     "elapsed": 14,
     "status": "ok",
     "timestamp": 1659349082501,
     "user": {
      "displayName": "junhwa lee",
      "userId": "11332889748979012167"
     },
     "user_tz": -540
    },
    "id": "F0sr2muu0x1w",
    "outputId": "203779d4-9c55-4824-b93f-7c2659a03078"
   },
   "outputs": [
    {
     "name": "stdout",
     "output_type": "stream",
     "text": [
      "File read/write test2: line1\n",
      "File read/write test2: line2\n",
      "File read/write test2: line3\n",
      "\n"
     ]
    }
   ],
   "source": [
    "with open('myTextFile2.txt') as f:              # (1) 파일 열기\n",
    "    file_string = f.read()                      # (2) 파일 읽기\n",
    "    print(file_string)"
   ]
  },
  {
   "cell_type": "markdown",
   "metadata": {
    "id": "94rB3Hfn0x1x"
   },
   "source": [
    "- with 문을 반복문과 함께 이용하면 한 줄씩 문자열을 읽고 쓸 수 있음"
   ]
  },
  {
   "cell_type": "markdown",
   "metadata": {
    "id": "dzL5679r0x1x"
   },
   "source": [
    "- 구구단 3단의 일부가 저장된 텍스트 파일인 myTextFile3.txt’를 만들기 위해\n",
    "- with 문에 for 문을 적용해〈반복 범위〉만큼 문자열을 생성하고 파일에 쓰는 코드"
   ]
  },
  {
   "cell_type": "code",
   "execution_count": 199,
   "metadata": {
    "executionInfo": {
     "elapsed": 13,
     "status": "ok",
     "timestamp": 1659349082502,
     "user": {
      "displayName": "junhwa lee",
      "userId": "11332889748979012167"
     },
     "user_tz": -540
    },
    "id": "kEPLNDd30x1x"
   },
   "outputs": [],
   "source": [
    "with open('myTextFile3.txt', 'w') as f: # 파일을 쓰기 모드로 열기\n",
    "    for num in range(1,6):             # for문에서 num이 1~5까지 반복\n",
    "        format_string = \"3 x {0} = {1}\\n\".format(num,3*num) # 문자열 생성\n",
    "        f.write(format_string)         # 파일에 문자열 쓰기"
   ]
  },
  {
   "cell_type": "markdown",
   "metadata": {
    "id": "WD-nhWVG0x1y"
   },
   "source": [
    "- with 문과 for 문을 이용해 앞에서 만든 파일 ‘myTextFile3.txt’의 문자열을 한 줄씩 읽어서 출력하는 코드를 작성\n",
    "- for 문의〈반복 범위〉에는 f.readlines() 대신 f만 입력"
   ]
  },
  {
   "cell_type": "code",
   "execution_count": 200,
   "metadata": {
    "colab": {
     "base_uri": "https://localhost:8080/"
    },
    "executionInfo": {
     "elapsed": 13,
     "status": "ok",
     "timestamp": 1659349082502,
     "user": {
      "displayName": "junhwa lee",
      "userId": "11332889748979012167"
     },
     "user_tz": -540
    },
    "id": "Ey1F_DwR0x1y",
    "outputId": "d48180c5-0704-41d2-f5fc-2ed6d8188dcf"
   },
   "outputs": [
    {
     "name": "stdout",
     "output_type": "stream",
     "text": [
      "3 x 1 = 3\n",
      "3 x 2 = 6\n",
      "3 x 3 = 9\n",
      "3 x 4 = 12\n",
      "3 x 5 = 15\n"
     ]
    }
   ],
   "source": [
    "with open('myTextFile3.txt', 'r') as f: # 파일을 읽기 모드로 열기\n",
    "    for line in f:           # 파일 전체를 읽고 리스트 항목을 line에 할당\n",
    "        print(line, end=\"\")  # line에 할당된 문자열 출력(줄 바꿈 안 함)"
   ]
  },
  {
   "cell_type": "markdown",
   "metadata": {
    "id": "GfMOSa_I0x1y"
   },
   "source": [
    "# 6.6 정리"
   ]
  },
  {
   "cell_type": "markdown",
   "metadata": {
    "id": "0JgkCVsQ0x1z"
   },
   "source": [
    " - 파이썬의 입출력 방법"
   ]
  },
  {
   "cell_type": "markdown",
   "metadata": {
    "id": "j7XqmEYt0x1z"
   },
   "source": [
    "- print()를 이용해 화면에 다양한 형태의 데이터를 출력하는 방법\n",
    "- 화면으로 출력하는 방법에서 기본 출력 방법과 형식을 지정해서 출력하는 방법\n",
    "- 키보드로 데이터를 입력받는 방법\n",
    "- 파일을 열어서 읽고 쓰는 방법\n",
    "- 문자열로 된 텍스트 파일의 경우 줄 단위로 처리하는 방법\n",
    "- 입출력 방법은 원하는 형식으로 화면이나 파일로 결과를 출력하거나 데이터가 있는 파일을 읽고 처리할 때 이용"
   ]
  }
 ],
 "metadata": {
  "anaconda-cloud": {},
  "colab": {
   "collapsed_sections": [],
   "name": "006_Input_Output.ipynb",
   "provenance": []
  },
  "kernelspec": {
   "display_name": "Python 3",
   "language": "python",
   "name": "python3"
  },
  "language_info": {
   "codemirror_mode": {
    "name": "ipython",
    "version": 3
   },
   "file_extension": ".py",
   "mimetype": "text/x-python",
   "name": "python",
   "nbconvert_exporter": "python",
   "pygments_lexer": "ipython3",
   "version": "3.13.1"
  },
  "latex_envs": {
   "LaTeX_envs_menu_present": false,
   "autoclose": false,
   "autocomplete": false,
   "bibliofile": "biblio.bib",
   "cite_by": "apalike",
   "current_citInitial": 1,
   "eqLabelWithNumbers": false,
   "eqNumInitial": 1,
   "hotkeys": {
    "equation": "Ctrl-E",
    "itemize": "Ctrl-I"
   },
   "labels_anchors": false,
   "latex_user_defs": false,
   "report_style_numbering": false,
   "user_envs_cfg": false
  },
  "nav_menu": {},
  "toc": {
   "nav_menu": {
    "height": "252px",
    "width": "252px"
   },
   "number_sections": false,
   "sideBar": true,
   "skip_h1_title": false,
   "toc_cell": false,
   "toc_position": {
    "height": "545px",
    "left": "0px",
    "right": "984px",
    "top": "111px",
    "width": "382px"
   },
   "toc_section_display": "block",
   "toc_window_display": false
  },
  "toc_position": {
   "height": "533px",
   "left": "0px",
   "right": "1045.17px",
   "top": "107px",
   "width": "207px"
  }
 },
 "nbformat": 4,
 "nbformat_minor": 4
}
