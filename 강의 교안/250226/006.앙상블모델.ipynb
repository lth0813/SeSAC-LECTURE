{
 "cells": [
  {
   "cell_type": "markdown",
   "metadata": {
    "colab_type": "text",
    "id": "4w25biB_5-G4"
   },
   "source": [
    "## 앙상블(Ensemble)"
   ]
  },
  {
   "cell_type": "markdown",
   "metadata": {
    "colab_type": "text",
    "id": "5Y_f-BWX6CCA"
   },
   "source": [
    "머신러닝 앙상블이란 **여러개의 머신러닝 모델을 이용해 최적의 답을 찾아내는 기법**이다.\n",
    "\n",
    "- 여러 모델을 이용하여 데이터를 학습하고, 모든 모델의 예측결과를 평균하여 예측\n",
    "\n",
    "**앙상블 기법의 종류**\n",
    "- 보팅 (Voting): 투표를 통해 결과 도출\n",
    "- 배깅 (Bagging): 샘플 중복 생성을 통해 결과 도출\n",
    "- 부스팅 (Boosting): 이전 오차를 보완하면서 가중치 부여\n",
    "- 스태킹 (Stacking): 여러 모델을 기반으로 예측된 결과를 통해 meta 모델이 다시 한번 예측"
   ]
  },
  {
   "cell_type": "markdown",
   "metadata": {
    "colab_type": "text",
    "id": "TGSoxHd8RLNc"
   },
   "source": [
    "**참고자료 (블로그)**\n",
    "\n",
    "* [보팅(Voting)](https://teddylee777.github.io/machine-learning/ensemble%EA%B8%B0%EB%B2%95%EC%97%90-%EB%8C%80%ED%95%9C-%EC%9D%B4%ED%95%B4%EC%99%80-%EC%A2%85%EB%A5%98-1)\n",
    "* [배깅(Bagging)](https://teddylee777.github.io/machine-learning/ensemble%EA%B8%B0%EB%B2%95%EC%97%90-%EB%8C%80%ED%95%9C-%EC%9D%B4%ED%95%B4%EC%99%80-%EC%A2%85%EB%A5%98-2)\n",
    "* [부스팅(Boosting)](https://teddylee777.github.io/machine-learning/ensemble%EA%B8%B0%EB%B2%95%EC%97%90-%EB%8C%80%ED%95%9C-%EC%9D%B4%ED%95%B4%EC%99%80-%EC%A2%85%EB%A5%98-3)"
   ]
  },
  {
   "cell_type": "markdown",
   "metadata": {
    "colab_type": "text",
    "id": "jnqYDATsRdyk"
   },
   "source": [
    "## 실습을 위한 데이터셋 로드"
   ]
  },
  {
   "cell_type": "code",
   "execution_count": 5,
   "metadata": {
    "colab": {},
    "colab_type": "code",
    "id": "4ozZxnwpv7Dg"
   },
   "outputs": [],
   "source": [
    "import pandas as pd\n",
    "import numpy as np\n",
    "from IPython.display import Image\n",
    "\n",
    "np.set_printoptions(suppress=True)"
   ]
  },
  {
   "cell_type": "code",
   "execution_count": 6,
   "metadata": {
    "colab": {},
    "colab_type": "code",
    "id": "Og6aM-_7wIEG"
   },
   "outputs": [
    {
     "ename": "ImportError",
     "evalue": "\n`load_boston` has been removed from scikit-learn since version 1.2.\n\nThe Boston housing prices dataset has an ethical problem: as\ninvestigated in [1], the authors of this dataset engineered a\nnon-invertible variable \"B\" assuming that racial self-segregation had a\npositive impact on house prices [2]. Furthermore the goal of the\nresearch that led to the creation of this dataset was to study the\nimpact of air quality but it did not give adequate demonstration of the\nvalidity of this assumption.\n\nThe scikit-learn maintainers therefore strongly discourage the use of\nthis dataset unless the purpose of the code is to study and educate\nabout ethical issues in data science and machine learning.\n\nIn this special case, you can fetch the dataset from the original\nsource::\n\n    import pandas as pd\n    import numpy as np\n\n    data_url = \"http://lib.stat.cmu.edu/datasets/boston\"\n    raw_df = pd.read_csv(data_url, sep=\"\\s+\", skiprows=22, header=None)\n    data = np.hstack([raw_df.values[::2, :], raw_df.values[1::2, :2]])\n    target = raw_df.values[1::2, 2]\n\nAlternative datasets include the California housing dataset and the\nAmes housing dataset. You can load the datasets as follows::\n\n    from sklearn.datasets import fetch_california_housing\n    housing = fetch_california_housing()\n\nfor the California housing dataset and::\n\n    from sklearn.datasets import fetch_openml\n    housing = fetch_openml(name=\"house_prices\", as_frame=True)\n\nfor the Ames housing dataset.\n\n[1] M Carlisle.\n\"Racist data destruction?\"\n<https://medium.com/@docintangible/racist-data-destruction-113e3eff54a8>\n\n[2] Harrison Jr, David, and Daniel L. Rubinfeld.\n\"Hedonic housing prices and the demand for clean air.\"\nJournal of environmental economics and management 5.1 (1978): 81-102.\n<https://www.researchgate.net/publication/4974606_Hedonic_housing_prices_and_the_demand_for_clean_air>\n",
     "output_type": "error",
     "traceback": [
      "\u001b[1;31m---------------------------------------------------------------------------\u001b[0m",
      "\u001b[1;31mImportError\u001b[0m                               Traceback (most recent call last)",
      "Cell \u001b[1;32mIn[6], line 1\u001b[0m\n\u001b[1;32m----> 1\u001b[0m \u001b[38;5;28;01mfrom\u001b[39;00m \u001b[38;5;21;01msklearn\u001b[39;00m\u001b[38;5;21;01m.\u001b[39;00m\u001b[38;5;21;01mdatasets\u001b[39;00m \u001b[38;5;28;01mimport\u001b[39;00m load_boston\n",
      "File \u001b[1;32mC:\\ProgramData\\anaconda3\\Lib\\site-packages\\sklearn\\datasets\\__init__.py:156\u001b[0m, in \u001b[0;36m__getattr__\u001b[1;34m(name)\u001b[0m\n\u001b[0;32m    105\u001b[0m \u001b[38;5;28;01mif\u001b[39;00m name \u001b[38;5;241m==\u001b[39m \u001b[38;5;124m\"\u001b[39m\u001b[38;5;124mload_boston\u001b[39m\u001b[38;5;124m\"\u001b[39m:\n\u001b[0;32m    106\u001b[0m     msg \u001b[38;5;241m=\u001b[39m textwrap\u001b[38;5;241m.\u001b[39mdedent(\n\u001b[0;32m    107\u001b[0m \u001b[38;5;250m        \u001b[39m\u001b[38;5;124;03m\"\"\"\u001b[39;00m\n\u001b[0;32m    108\u001b[0m \u001b[38;5;124;03m        `load_boston` has been removed from scikit-learn since version 1.2.\u001b[39;00m\n\u001b[1;32m   (...)\u001b[0m\n\u001b[0;32m    154\u001b[0m \u001b[38;5;124;03m        \"\"\"\u001b[39;00m\n\u001b[0;32m    155\u001b[0m     )\n\u001b[1;32m--> 156\u001b[0m     \u001b[38;5;28;01mraise\u001b[39;00m \u001b[38;5;167;01mImportError\u001b[39;00m(msg)\n\u001b[0;32m    157\u001b[0m \u001b[38;5;28;01mtry\u001b[39;00m:\n\u001b[0;32m    158\u001b[0m     \u001b[38;5;28;01mreturn\u001b[39;00m \u001b[38;5;28mglobals\u001b[39m()[name]\n",
      "\u001b[1;31mImportError\u001b[0m: \n`load_boston` has been removed from scikit-learn since version 1.2.\n\nThe Boston housing prices dataset has an ethical problem: as\ninvestigated in [1], the authors of this dataset engineered a\nnon-invertible variable \"B\" assuming that racial self-segregation had a\npositive impact on house prices [2]. Furthermore the goal of the\nresearch that led to the creation of this dataset was to study the\nimpact of air quality but it did not give adequate demonstration of the\nvalidity of this assumption.\n\nThe scikit-learn maintainers therefore strongly discourage the use of\nthis dataset unless the purpose of the code is to study and educate\nabout ethical issues in data science and machine learning.\n\nIn this special case, you can fetch the dataset from the original\nsource::\n\n    import pandas as pd\n    import numpy as np\n\n    data_url = \"http://lib.stat.cmu.edu/datasets/boston\"\n    raw_df = pd.read_csv(data_url, sep=\"\\s+\", skiprows=22, header=None)\n    data = np.hstack([raw_df.values[::2, :], raw_df.values[1::2, :2]])\n    target = raw_df.values[1::2, 2]\n\nAlternative datasets include the California housing dataset and the\nAmes housing dataset. You can load the datasets as follows::\n\n    from sklearn.datasets import fetch_california_housing\n    housing = fetch_california_housing()\n\nfor the California housing dataset and::\n\n    from sklearn.datasets import fetch_openml\n    housing = fetch_openml(name=\"house_prices\", as_frame=True)\n\nfor the Ames housing dataset.\n\n[1] M Carlisle.\n\"Racist data destruction?\"\n<https://medium.com/@docintangible/racist-data-destruction-113e3eff54a8>\n\n[2] Harrison Jr, David, and Daniel L. Rubinfeld.\n\"Hedonic housing prices and the demand for clean air.\"\nJournal of environmental economics and management 5.1 (1978): 81-102.\n<https://www.researchgate.net/publication/4974606_Hedonic_housing_prices_and_the_demand_for_clean_air>\n"
     ]
    }
   ],
   "source": [
    "from sklearn.datasets import load_boston"
   ]
  },
  {
   "cell_type": "markdown",
   "metadata": {
    "colab_type": "text",
    "id": "sIqBLdbnu-7_"
   },
   "source": [
    "데이터 로드"
   ]
  },
  {
   "cell_type": "code",
   "execution_count": null,
   "metadata": {
    "colab": {},
    "colab_type": "code",
    "id": "DHjz2_orwMHe"
   },
   "outputs": [],
   "source": [
    "data = load_boston()"
   ]
  },
  {
   "cell_type": "markdown",
   "metadata": {
    "colab_type": "text",
    "id": "2OJKxGHGQyra"
   },
   "source": [
    "**컬럼 소개**\n",
    "\n",
    "속성 수 : 13\n",
    "\n",
    "* **CRIM**: 범죄율\n",
    "* **ZN**: 25,000 평방 피트 당 주거용 토지의 비율\n",
    "* **INDUS**: 비소매(non-retail) 비즈니스 면적 비율\n",
    "* **CHAS**: 찰스 강 더미 변수 (통로가 하천을 향하면 1; 그렇지 않으면 0)\n",
    "* **NOX**: 산화 질소 농도 (천만 분의 1)\n",
    "* **RM**:주거 당 평균 객실 수\n",
    "* **AGE**: 1940 년 이전에 건축된 자가 소유 점유 비율\n",
    "* **DIS**: 5 개의 보스턴 고용 센터까지의 가중 거리     \n",
    "* **RAD**: 고속도로 접근성 지수\n",
    "* **TAX**: 10,000 달러 당 전체 가치 재산 세율\n",
    "* **PTRATIO**  도시 별 학생-교사 비율\n",
    "* **B**: 1000 (Bk-0.63) ^ 2 여기서 Bk는 도시 별 검정 비율입니다.\n",
    "* **LSTAT**: 인구의 낮은 지위\n",
    "* **MEDV**: 자가 주택의 중앙값 (1,000 달러 단위)"
   ]
  },
  {
   "cell_type": "code",
   "execution_count": null,
   "metadata": {
    "colab": {},
    "colab_type": "code",
    "id": "vsDHNC7fNpwW"
   },
   "outputs": [],
   "source": [
    "df = pd.DataFrame(data['data'], columns=data['feature_names'])"
   ]
  },
  {
   "cell_type": "code",
   "execution_count": null,
   "metadata": {
    "colab": {},
    "colab_type": "code",
    "id": "0f-AYU4rNxvG"
   },
   "outputs": [],
   "source": [
    "df['MEDV'] = data['target']"
   ]
  },
  {
   "cell_type": "code",
   "execution_count": null,
   "metadata": {
    "colab": {
     "base_uri": "https://localhost:8080/",
     "height": 203
    },
    "colab_type": "code",
    "id": "r-7GqptmN3n8",
    "outputId": "319af5f2-67f7-4914-e880-0a413b07e472"
   },
   "outputs": [],
   "source": [
    "df.head()"
   ]
  },
  {
   "cell_type": "markdown",
   "metadata": {
    "colab_type": "text",
    "id": "2sMNMyyjEGD2"
   },
   "source": [
    "train / test 데이터를 분할 합니다."
   ]
  },
  {
   "cell_type": "code",
   "execution_count": null,
   "metadata": {
    "colab": {},
    "colab_type": "code",
    "id": "Jt8fMUFYELEQ"
   },
   "outputs": [],
   "source": [
    "from sklearn.model_selection import train_test_split"
   ]
  },
  {
   "cell_type": "code",
   "execution_count": null,
   "metadata": {
    "colab": {},
    "colab_type": "code",
    "id": "CiT58Hq3EK-l"
   },
   "outputs": [],
   "source": [
    "x_train, x_test, y_train, y_test = train_test_split(df.drop('MEDV', 1), df['MEDV'], random_state=42)"
   ]
  },
  {
   "cell_type": "code",
   "execution_count": null,
   "metadata": {
    "colab": {
     "base_uri": "https://localhost:8080/",
     "height": 35
    },
    "colab_type": "code",
    "id": "vCfOM_LDviy6",
    "outputId": "aaf4d705-8d0b-4e52-ded1-4f0b582c63dd"
   },
   "outputs": [],
   "source": [
    "x_train.shape, x_test.shape"
   ]
  },
  {
   "cell_type": "code",
   "execution_count": null,
   "metadata": {
    "colab": {
     "base_uri": "https://localhost:8080/",
     "height": 203
    },
    "colab_type": "code",
    "id": "FKXrkYuSvqWk",
    "outputId": "e6d0893c-8ba1-447b-986e-88e002aa465e"
   },
   "outputs": [],
   "source": [
    "x_train.head()"
   ]
  },
  {
   "cell_type": "code",
   "execution_count": null,
   "metadata": {
    "colab": {
     "base_uri": "https://localhost:8080/",
     "height": 123
    },
    "colab_type": "code",
    "id": "NmdGmCH_Mw1x",
    "outputId": "b8c43c46-2b47-456e-f74f-1860f5c35b53"
   },
   "outputs": [],
   "source": [
    "y_train.head()"
   ]
  },
  {
   "cell_type": "markdown",
   "metadata": {
    "colab_type": "text",
    "id": "IXUBcFNLv-hN"
   },
   "source": [
    "## 평가 지표 만들기"
   ]
  },
  {
   "cell_type": "markdown",
   "metadata": {
    "colab_type": "text",
    "id": "EoG4CEm4v-aJ"
   },
   "source": [
    "### MSE(Mean Squared Error)"
   ]
  },
  {
   "cell_type": "markdown",
   "metadata": {
    "colab_type": "text",
    "id": "z16-Js-UwKTh"
   },
   "source": [
    "${(\\frac{1}{n})\\sum_{i=1}^{n}(y_{i} - x_{i})^{2}}$"
   ]
  },
  {
   "cell_type": "markdown",
   "metadata": {
    "colab_type": "text",
    "id": "P0TUHffBzCly"
   },
   "source": [
    "예측값과 실제값의 차이에 대한 **제곱**에 대하여 평균을 낸 값"
   ]
  },
  {
   "cell_type": "markdown",
   "metadata": {
    "colab_type": "text",
    "id": "yvGjUcuxwFFi"
   },
   "source": [
    "### MAE (Mean Absolute Error)"
   ]
  },
  {
   "cell_type": "markdown",
   "metadata": {
    "colab_type": "text",
    "id": "-lBQ3qQAwJzo"
   },
   "source": [
    "$(\\frac{1}{n})\\sum_{i=1}^{n}\\left | y_{i} - x_{i} \\right |$"
   ]
  },
  {
   "cell_type": "markdown",
   "metadata": {
    "colab_type": "text",
    "id": "-3DxRUnNzLLX"
   },
   "source": [
    "예측값과 실제값의 차이에 대한 **절대값**에 대하여 평균을 낸 값"
   ]
  },
  {
   "cell_type": "markdown",
   "metadata": {
    "colab_type": "text",
    "id": "XW5K9yLWwimQ"
   },
   "source": [
    "### RMSE (Root Mean Squared Error)"
   ]
  },
  {
   "cell_type": "markdown",
   "metadata": {
    "colab_type": "text",
    "id": "mf-wIEm-wnwn"
   },
   "source": [
    "$\\sqrt{(\\frac{1}{n})\\sum_{i=1}^{n}(y_{i} - x_{i})^{2}}$\n"
   ]
  },
  {
   "cell_type": "markdown",
   "metadata": {
    "colab_type": "text",
    "id": "zd1Bouq5zBqC"
   },
   "source": [
    "예측값과 실제값의 차이에 대한 **제곱**에 대하여 평균을 낸 뒤 **루트**를 씌운 값"
   ]
  },
  {
   "cell_type": "markdown",
   "metadata": {
    "colab_type": "text",
    "id": "uszYWzqjFreV"
   },
   "source": [
    "### sklearn의 평가지표 활용하기"
   ]
  },
  {
   "cell_type": "code",
   "execution_count": null,
   "metadata": {
    "colab": {},
    "colab_type": "code",
    "id": "PG7G6dB_FrWT"
   },
   "outputs": [],
   "source": [
    "from sklearn.metrics import mean_absolute_error, mean_squared_error"
   ]
  },
  {
   "cell_type": "markdown",
   "metadata": {
    "colab_type": "text",
    "id": "Yt9pqvyOGW0N"
   },
   "source": [
    "### 모델별 성능 확인을 위한 함수"
   ]
  },
  {
   "cell_type": "code",
   "execution_count": null,
   "metadata": {
    "colab": {
     "base_uri": "https://localhost:8080/",
     "height": 72
    },
    "colab_type": "code",
    "id": "gwA1iqfDGWkw",
    "outputId": "3419eb6c-8b9b-4d27-8384-80dbb28b113e"
   },
   "outputs": [],
   "source": [
    "import matplotlib.pyplot as plt\n",
    "import seaborn as sns\n",
    "\n",
    "my_predictions = {}\n",
    "\n",
    "colors = ['r', 'c', 'm', 'y', 'k', 'khaki', 'teal', 'orchid', 'sandybrown',\n",
    "          'greenyellow', 'dodgerblue', 'deepskyblue', 'rosybrown', 'firebrick',\n",
    "          'deeppink', 'crimson', 'salmon', 'darkred', 'olivedrab', 'olive', \n",
    "          'forestgreen', 'royalblue', 'indigo', 'navy', 'mediumpurple', 'chocolate',\n",
    "          'gold', 'darkorange', 'seagreen', 'turquoise', 'steelblue', 'slategray', \n",
    "          'peru', 'midnightblue', 'slateblue', 'dimgray', 'cadetblue', 'tomato'\n",
    "         ]\n",
    "\n",
    "def plot_predictions(name_, pred, actual):\n",
    "    df = pd.DataFrame({'prediction': pred, 'actual': y_test})\n",
    "    df = df.sort_values(by='actual').reset_index(drop=True)\n",
    "\n",
    "    plt.figure(figsize=(12, 9))\n",
    "    plt.scatter(df.index, df['prediction'], marker='x', color='r')\n",
    "    plt.scatter(df.index, df['actual'], alpha=0.7, marker='o', color='black')\n",
    "    plt.title(name_, fontsize=15)\n",
    "    plt.legend(['prediction', 'actual'], fontsize=12)\n",
    "    plt.show()\n",
    "\n",
    "def mse_eval(name_, pred, actual):\n",
    "    global predictions\n",
    "    global colors\n",
    "\n",
    "    plot_predictions(name_, pred, actual)\n",
    "\n",
    "    mse = mean_squared_error(pred, actual)\n",
    "    my_predictions[name_] = mse\n",
    "\n",
    "    y_value = sorted(my_predictions.items(), key=lambda x: x[1], reverse=True)\n",
    "    \n",
    "    df = pd.DataFrame(y_value, columns=['model', 'mse'])\n",
    "    print(df)\n",
    "    min_ = df['mse'].min() - 10\n",
    "    max_ = df['mse'].max() + 10\n",
    "    \n",
    "    length = len(df)\n",
    "    \n",
    "    plt.figure(figsize=(10, length))\n",
    "    ax = plt.subplot()\n",
    "    ax.set_yticks(np.arange(len(df)))\n",
    "    ax.set_yticklabels(df['model'], fontsize=15)\n",
    "    bars = ax.barh(np.arange(len(df)), df['mse'])\n",
    "    \n",
    "    for i, v in enumerate(df['mse']):\n",
    "        idx = np.random.choice(len(colors))\n",
    "        bars[i].set_color(colors[idx])\n",
    "        ax.text(v + 2, i, str(round(v, 3)), color='k', fontsize=15, fontweight='bold')\n",
    "        \n",
    "    plt.title('MSE Error', fontsize=18)\n",
    "    plt.xlim(min_, max_)\n",
    "    \n",
    "    plt.show()\n",
    "\n",
    "def remove_model(name_):\n",
    "    global my_predictions\n",
    "    try:\n",
    "        del my_predictions[name_]\n",
    "    except KeyError:\n",
    "        return False\n",
    "    return True\n",
    "\n",
    "def plot_coef(columns, coef):\n",
    "    coef_df = pd.DataFrame(list(zip(columns, coef)))\n",
    "    coef_df.columns=['feature', 'coef']\n",
    "    coef_df = coef_df.sort_values('coef', ascending=False).reset_index(drop=True)\n",
    "    \n",
    "    fig, ax = plt.subplots(figsize=(9, 7))\n",
    "    ax.barh(np.arange(len(coef_df)), coef_df['coef'])\n",
    "    idx = np.arange(len(coef_df))\n",
    "    ax.set_yticks(idx)\n",
    "    ax.set_yticklabels(coef_df['feature'])\n",
    "    fig.tight_layout()\n",
    "    plt.show()"
   ]
  },
  {
   "cell_type": "markdown",
   "metadata": {
    "colab_type": "text",
    "id": "qJmSsQ2yv0oV"
   },
   "source": [
    "## 단일 회귀예측 모델 (지난 시간)"
   ]
  },
  {
   "cell_type": "code",
   "execution_count": null,
   "metadata": {
    "colab": {},
    "colab_type": "code",
    "id": "y2cYsPENv_q0"
   },
   "outputs": [],
   "source": [
    "from sklearn.linear_model import LinearRegression\n",
    "from sklearn.linear_model import Ridge\n",
    "from sklearn.linear_model import Lasso\n",
    "from sklearn.linear_model import ElasticNet\n",
    "from sklearn.preprocessing import StandardScaler, MinMaxScaler, RobustScaler\n",
    "from sklearn.pipeline import make_pipeline\n",
    "from sklearn.preprocessing import PolynomialFeatures"
   ]
  },
  {
   "cell_type": "code",
   "execution_count": null,
   "metadata": {
    "colab": {
     "base_uri": "https://localhost:8080/",
     "height": 695
    },
    "colab_type": "code",
    "id": "1nBUN6VWwFB7",
    "outputId": "6596b91c-5964-4e79-a5be-d408ca6f1db2"
   },
   "outputs": [],
   "source": [
    "linear_reg = LinearRegression(n_jobs=-1)\n",
    "linear_reg.fit(x_train, y_train)\n",
    "pred = linear_reg.predict(x_test)\n",
    "mse_eval('LinearRegression', pred, y_test)"
   ]
  },
  {
   "cell_type": "code",
   "execution_count": null,
   "metadata": {
    "colab": {
     "base_uri": "https://localhost:8080/",
     "height": 768
    },
    "colab_type": "code",
    "id": "gyNqasVUPpoV",
    "outputId": "c1f9fa96-c358-43e7-9c19-bbc4dab546f4"
   },
   "outputs": [],
   "source": [
    "ridge = Ridge(alpha=1)\n",
    "ridge.fit(x_train, y_train)\n",
    "pred = ridge.predict(x_test)\n",
    "mse_eval('Ridge(alpha=1)', pred, y_test)"
   ]
  },
  {
   "cell_type": "code",
   "execution_count": null,
   "metadata": {
    "colab": {
     "base_uri": "https://localhost:8080/",
     "height": 840
    },
    "colab_type": "code",
    "id": "_oCb4WP2BFHH",
    "outputId": "7e39bc3e-0f69-4872-87d0-5360e2f88065"
   },
   "outputs": [],
   "source": [
    "lasso = Lasso(alpha=0.01)\n",
    "lasso.fit(x_train, y_train)\n",
    "pred = lasso.predict(x_test)\n",
    "mse_eval('Lasso(alpha=0.01)', pred, y_test)"
   ]
  },
  {
   "cell_type": "code",
   "execution_count": null,
   "metadata": {
    "colab": {
     "base_uri": "https://localhost:8080/",
     "height": 911
    },
    "colab_type": "code",
    "id": "O4qZl2fgPwL-",
    "outputId": "d98b0fa2-6d28-43d7-e7e0-cffeb02b671d"
   },
   "outputs": [],
   "source": [
    "elasticnet = ElasticNet(alpha=0.5, l1_ratio=0.8)\n",
    "elasticnet.fit(x_train, y_train)\n",
    "pred = elasticnet.predict(x_test)\n",
    "mse_eval('ElasticNet(l1_ratio=0.8)', pred, y_test)    "
   ]
  },
  {
   "cell_type": "code",
   "execution_count": null,
   "metadata": {
    "colab": {
     "base_uri": "https://localhost:8080/",
     "height": 984
    },
    "colab_type": "code",
    "id": "3WdFqaM2D0d4",
    "outputId": "71f127f1-d392-425f-f5b4-ed38bf1b5cf6"
   },
   "outputs": [],
   "source": [
    "elasticnet_pipeline = make_pipeline(\n",
    "    StandardScaler(),\n",
    "    ElasticNet(alpha=0.1, l1_ratio=0.2)\n",
    ")\n",
    "elasticnet_pred = elasticnet_pipeline.fit(x_train, y_train).predict(x_test)\n",
    "mse_eval('Standard ElasticNet', elasticnet_pred, y_test)"
   ]
  },
  {
   "cell_type": "code",
   "execution_count": null,
   "metadata": {
    "colab": {
     "base_uri": "https://localhost:8080/",
     "height": 1000
    },
    "colab_type": "code",
    "id": "ri2oXSKuKVA9",
    "outputId": "a773402c-d80e-4a15-9392-1c1619617e50"
   },
   "outputs": [],
   "source": [
    "poly_pipeline = make_pipeline(\n",
    "    PolynomialFeatures(degree=2, include_bias=False),\n",
    "    StandardScaler(),\n",
    "    ElasticNet(alpha=0.1, l1_ratio=0.2)\n",
    ")\n",
    "poly_pred = poly_pipeline.fit(x_train, y_train).predict(x_test)\n",
    "mse_eval('Poly ElasticNet', poly_pred, y_test)"
   ]
  },
  {
   "cell_type": "markdown",
   "metadata": {
    "colab_type": "text",
    "id": "5xVeRf0IS6MP"
   },
   "source": [
    "## 앙상블 (Ensemble)"
   ]
  },
  {
   "cell_type": "markdown",
   "metadata": {
    "colab_type": "text",
    "id": "BkWgJGuZhG-L"
   },
   "source": [
    "[scikit-learn 도큐먼트](https://scikit-learn.org/stable/modules/classes.html?highlight=ensemble#module-sklearn.ensemble)"
   ]
  },
  {
   "cell_type": "markdown",
   "metadata": {
    "colab_type": "text",
    "id": "vpV5jaDcZCEi"
   },
   "source": [
    "### 보팅 (Voting) - 회귀 (Regression)"
   ]
  },
  {
   "cell_type": "markdown",
   "metadata": {
    "colab_type": "text",
    "id": "Q9Tuw8KGZRfo"
   },
   "source": [
    "Voting은 단어 뜻 그대로 **투표를 통해 결정하는 방식**입니다. Voting은 Bagging과 투표방식이라는 점에서 유사하지만, 다음과 같은 큰 차이점이 있습니다.\n",
    "\n",
    "- Voting은 다른 알고리즘 model을 조합해서 사용합니다.\n",
    "- Bagging은 같은 알고리즘 내에서 다른 sample 조합을 사용합니다.\n"
   ]
  },
  {
   "cell_type": "code",
   "execution_count": null,
   "metadata": {
    "colab": {},
    "colab_type": "code",
    "id": "-NR8xnx8S6gz"
   },
   "outputs": [],
   "source": [
    "from sklearn.ensemble import VotingRegressor, VotingClassifier"
   ]
  },
  {
   "cell_type": "markdown",
   "metadata": {
    "colab_type": "text",
    "id": "z_N3DLOObIGo"
   },
   "source": [
    "반드시, **Tuple 형태로 모델**을 정의해야 합니다."
   ]
  },
  {
   "cell_type": "code",
   "execution_count": null,
   "metadata": {
    "colab": {},
    "colab_type": "code",
    "id": "s05Z0nP_Ze2g"
   },
   "outputs": [],
   "source": [
    "single_models = [\n",
    "    ('linear_reg', linear_reg), \n",
    "    ('ridge', ridge), \n",
    "    ('lasso', lasso), \n",
    "    ('elasticnet_pipeline', elasticnet_pipeline), \n",
    "    ('poly_pipeline', poly_pipeline)\n",
    "]"
   ]
  },
  {
   "cell_type": "code",
   "execution_count": null,
   "metadata": {
    "colab": {},
    "colab_type": "code",
    "id": "mVuVfdIvZHgZ"
   },
   "outputs": [],
   "source": [
    "voting_regressor = VotingRegressor(single_models, n_jobs=-1)"
   ]
  },
  {
   "cell_type": "code",
   "execution_count": null,
   "metadata": {
    "colab": {
     "base_uri": "https://localhost:8080/",
     "height": 584
    },
    "colab_type": "code",
    "id": "f2cSAQafZHWZ",
    "outputId": "1d86d3c2-eec0-488c-e1b1-fc9bc36f6460"
   },
   "outputs": [],
   "source": [
    "voting_regressor.fit(x_train, y_train)"
   ]
  },
  {
   "cell_type": "code",
   "execution_count": null,
   "metadata": {
    "colab": {},
    "colab_type": "code",
    "id": "yd3AA9mFa_0n"
   },
   "outputs": [],
   "source": [
    "voting_pred = voting_regressor.predict(x_test)"
   ]
  },
  {
   "cell_type": "code",
   "execution_count": null,
   "metadata": {
    "colab": {
     "base_uri": "https://localhost:8080/",
     "height": 1000
    },
    "colab_type": "code",
    "id": "-RkzXSShS6ks",
    "outputId": "0b03fb05-a96f-40b5-aba6-7389964e1307"
   },
   "outputs": [],
   "source": [
    "mse_eval('Voting Ensemble', voting_pred, y_test)"
   ]
  },
  {
   "cell_type": "markdown",
   "metadata": {
    "colab_type": "text",
    "id": "JmU82aB0bCvw"
   },
   "source": [
    "### 보팅 (Voting) - 분류 (Classification)"
   ]
  },
  {
   "cell_type": "markdown",
   "metadata": {
    "colab_type": "text",
    "id": "CfP4UDYN9zqk"
   },
   "source": [
    "[자세한 내용 보기](https://teddylee777.github.io/machine-learning/ensemble%EA%B8%B0%EB%B2%95%EC%97%90-%EB%8C%80%ED%95%9C-%EC%9D%B4%ED%95%B4%EC%99%80-%EC%A2%85%EB%A5%98-1)"
   ]
  },
  {
   "cell_type": "markdown",
   "metadata": {
    "colab_type": "text",
    "id": "VhunbeIPbCrQ"
   },
   "source": [
    "분류기 모델을 만들때, Voting 앙상블은 1가지의 **중요한 parameter**가 있습니다."
   ]
  },
  {
   "cell_type": "markdown",
   "metadata": {
    "colab_type": "text",
    "id": "UWrjow00bClw"
   },
   "source": [
    "`voting` = {'hard', 'soft'}"
   ]
  },
  {
   "cell_type": "markdown",
   "metadata": {
    "colab_type": "text",
    "id": "qB802mMYbpCY"
   },
   "source": [
    "**hard**로 설정한 경우"
   ]
  },
  {
   "cell_type": "markdown",
   "metadata": {
    "colab_type": "text",
    "id": "BXeb62smggbW"
   },
   "source": [
    "class를 0, 1로 분류 예측을 하는 이진 분류를 예로 들어 보겠습니다."
   ]
  },
  {
   "cell_type": "markdown",
   "metadata": {
    "colab_type": "text",
    "id": "7XFdvrIObo-Y"
   },
   "source": [
    "Hard Voting 방식에서는 결과 값에 대한 다수 class를 차용합니다.\n",
    "\n",
    "classification을 예로 들어 보자면, 분류를 예측한 값이 1, 0, 0, 1, 1 이었다고 가정한다면 1이 3표, 0이 2표를 받았기 때문에 Hard Voting 방식에서는 1이 최종 값으로 예측을 하게 됩니다."
   ]
  },
  {
   "cell_type": "markdown",
   "metadata": {
    "colab_type": "text",
    "id": "GayHuZTIbo5I"
   },
   "source": [
    "**soft**"
   ]
  },
  {
   "cell_type": "markdown",
   "metadata": {
    "colab_type": "text",
    "id": "Cy7MIfW2S6qr"
   },
   "source": [
    "soft vote 방식은 각각의 확률의 평균 값을 계산한다음에 가장 확률이 높은 값으로 확정짓게 됩니다.\n",
    "\n",
    "가령 class 0이 나올 확률이 (0.4, 0.9, 0.9, 0.4, 0.4)이었고, class 1이 나올 확률이 (0.6, 0.1, 0.1, 0.6, 0.6) 이었다면, \n",
    "\n",
    "- class 0이 나올 최종 확률은 (0.4+0.9+0.9+0.4+0.4) / 5 = 0.44, \n",
    "- class 1이 나올 최종 확률은 (0.6+0.1+0.1+0.6+0.6) / 5 = 0.4 \n",
    "\n",
    "가 되기 때문에 앞선 Hard Vote의 결과와는 다른 결과 값이 최종 으로 선출되게 됩니다."
   ]
  },
  {
   "cell_type": "code",
   "execution_count": null,
   "metadata": {
    "colab": {},
    "colab_type": "code",
    "id": "iTIf6PEH_YFU"
   },
   "outputs": [],
   "source": [
    "from sklearn.ensemble import VotingClassifier\n",
    "from sklearn.linear_model import LogisticRegression, RidgeClassifier"
   ]
  },
  {
   "cell_type": "code",
   "execution_count": null,
   "metadata": {
    "colab": {},
    "colab_type": "code",
    "id": "FKdhe8s3_eOc"
   },
   "outputs": [],
   "source": [
    "models = [\n",
    "    ('Logi', LogisticRegression()), \n",
    "    ('ridge', RidgeClassifier())\n",
    "]"
   ]
  },
  {
   "cell_type": "markdown",
   "metadata": {
    "colab_type": "text",
    "id": "l9XRV1Xq_6gd"
   },
   "source": [
    "voting 옵션에 대하여 지정합니다."
   ]
  },
  {
   "cell_type": "code",
   "execution_count": null,
   "metadata": {
    "colab": {},
    "colab_type": "code",
    "id": "kO8ZIGMW_a9t"
   },
   "outputs": [],
   "source": [
    "vc = VotingClassifier(models, voting='hard')"
   ]
  },
  {
   "cell_type": "markdown",
   "metadata": {
    "colab_type": "text",
    "id": "neXmpfuGhBSK"
   },
   "source": [
    "### 배깅(Bagging)"
   ]
  },
  {
   "cell_type": "markdown",
   "metadata": {
    "colab_type": "text",
    "id": "0zYEl6fb9vPk"
   },
   "source": [
    "[자세한 내용 보기](https://teddylee777.github.io/machine-learning/ensemble%EA%B8%B0%EB%B2%95%EC%97%90-%EB%8C%80%ED%95%9C-%EC%9D%B4%ED%95%B4%EC%99%80-%EC%A2%85%EB%A5%98-2)"
   ]
  },
  {
   "cell_type": "markdown",
   "metadata": {
    "colab_type": "text",
    "id": "hZDwj-E3hBOT"
   },
   "source": [
    "Bagging은 **Bootstrap Aggregating의 줄임말**입니다.\n",
    "\n",
    "- Bootstrap = Sample(샘플) + Aggregating = 합산\n",
    "\n",
    "Bootstrap은 여러 개의 dataset을 중첩을 허용하게 하여 샘플링하여 분할하는 방식"
   ]
  },
  {
   "cell_type": "markdown",
   "metadata": {
    "colab_type": "text",
    "id": "rpkuyQke7TGV"
   },
   "source": [
    "데이터 셋의 구성이 [1, 2, 3, 4, 5 ]로 되어 있다면,\n",
    "\n",
    "1. group 1 = [1, 2, 3]\n",
    "2. group 2 = [1, 3, 4]\n",
    "3. group 3 = [2, 3, 5]"
   ]
  },
  {
   "cell_type": "code",
   "execution_count": null,
   "metadata": {
    "colab": {
     "base_uri": "https://localhost:8080/",
     "height": 457
    },
    "colab_type": "code",
    "id": "Q3AD85907S99",
    "outputId": "e1466773-27e1-4d40-8367-34fda320148d"
   },
   "outputs": [],
   "source": [
    "Image('https://teddylee777.github.io/images/2019-12-17/image-20191217015537872.png')"
   ]
  },
  {
   "cell_type": "markdown",
   "metadata": {
    "colab_type": "text",
    "id": "zGl5_Eph7S5e"
   },
   "source": [
    "**Voting VS Bagging**"
   ]
  },
  {
   "cell_type": "markdown",
   "metadata": {
    "colab_type": "text",
    "id": "M8UmURTm7Szq"
   },
   "source": [
    "* **Voting**은 여러 알고리즘의 조합에 대한 앙상블\n",
    "* **Bagging**은 하나의 단일 알고리즘에 대하여 여러 개의 샘플 조합으로 앙상블"
   ]
  },
  {
   "cell_type": "markdown",
   "metadata": {
    "colab_type": "text",
    "id": "9rofSS_2hBIJ"
   },
   "source": [
    "**대표적인 Bagging 앙상블**\n",
    "1. RandomForest\n",
    "2. Bagging"
   ]
  },
  {
   "cell_type": "markdown",
   "metadata": {
    "colab_type": "text",
    "id": "q3Q1Qhb9AlH7"
   },
   "source": [
    "### RandomForest"
   ]
  },
  {
   "cell_type": "markdown",
   "metadata": {
    "colab_type": "text",
    "id": "SiR_kf5rAm9U"
   },
   "source": [
    "- DecisionTree(트리)기반 Bagging 앙상블\n",
    "- 굉장히 인기있는 앙상블 모델\n",
    "- 사용성이 쉽고, 성능도 우수함"
   ]
  },
  {
   "cell_type": "code",
   "execution_count": null,
   "metadata": {
    "colab": {},
    "colab_type": "code",
    "id": "9V08tFfRgW2Q"
   },
   "outputs": [],
   "source": [
    "from sklearn.ensemble import RandomForestRegressor, RandomForestClassifier"
   ]
  },
  {
   "cell_type": "code",
   "execution_count": null,
   "metadata": {
    "colab": {
     "base_uri": "https://localhost:8080/",
     "height": 141
    },
    "colab_type": "code",
    "id": "oAXkfx9eAE78",
    "outputId": "40428f71-1ebf-4f71-f8a5-86c107968b7e"
   },
   "outputs": [],
   "source": [
    "rfr = RandomForestRegressor()\n",
    "rfr.fit(x_train, y_train)"
   ]
  },
  {
   "cell_type": "code",
   "execution_count": null,
   "metadata": {
    "colab": {
     "base_uri": "https://localhost:8080/",
     "height": 1000
    },
    "colab_type": "code",
    "id": "yuBcSJrTAMHs",
    "outputId": "7871eaa7-2cd0-484c-b56d-f4b35cad4746"
   },
   "outputs": [],
   "source": [
    "rfr_pred = rfr.predict(x_test)\n",
    "mse_eval('RandomForest Ensemble', rfr_pred, y_test)"
   ]
  },
  {
   "cell_type": "markdown",
   "metadata": {
    "colab_type": "text",
    "id": "LpGfq0mLAdNv"
   },
   "source": [
    "**주요 Hyperparameter**"
   ]
  },
  {
   "cell_type": "markdown",
   "metadata": {
    "colab_type": "text",
    "id": "NpOEkIoCAdFd"
   },
   "source": [
    "- random_state: 랜덤 시드 고정 값. 고정해두고 튜닝할 것!\n",
    "- n_jobs: CPU 사용 갯수\n",
    "- max_depth: 깊어질 수 있는 최대 깊이. 과대적합 방지용\n",
    "- n_estimators: 앙상블하는 트리의 갯수\n",
    "- max_features: 최대로 사용할 feature의 갯수. 과대적합 방지용\n",
    "- min_samples_split: 트리가 분할할 때 최소 샘플의 갯수. default=2. 과대적합 방지용"
   ]
  },
  {
   "cell_type": "code",
   "execution_count": null,
   "metadata": {
    "colab": {
     "base_uri": "https://localhost:8080/",
     "height": 827
    },
    "colab_type": "code",
    "id": "d2OWki3NCwsL",
    "outputId": "32420781-02b8-4f01-9729-431779ca2134"
   },
   "outputs": [],
   "source": [
    "Image('https://teddylee777.github.io/images/2020-01-09/decistion-tree.png', width=600)"
   ]
  },
  {
   "cell_type": "markdown",
   "metadata": {
    "colab_type": "text",
    "id": "VWQR6dv-Dbd0"
   },
   "source": [
    "튜닝을 할 땐 반드시 `random_state` 값을 **고정**시킵니다!"
   ]
  },
  {
   "cell_type": "code",
   "execution_count": null,
   "metadata": {
    "colab": {
     "base_uri": "https://localhost:8080/",
     "height": 1000
    },
    "colab_type": "code",
    "id": "voL-FLzZC_Cu",
    "outputId": "645a25eb-82dd-4551-e747-a35d70a7ac4e"
   },
   "outputs": [],
   "source": [
    "rfr = RandomForestRegressor(random_state=42, n_estimators=1000, max_depth=7, max_features=0.9)\n",
    "rfr.fit(x_train, y_train)\n",
    "rfr_pred = rfr.predict(x_test)\n",
    "mse_eval('RandomForest Ensemble w/ Tuning', rfr_pred, y_test)"
   ]
  },
  {
   "cell_type": "markdown",
   "metadata": {
    "colab_type": "text",
    "id": "xVppGjbCS6uy"
   },
   "source": [
    "### 부스팅 (Boosting)"
   ]
  },
  {
   "cell_type": "markdown",
   "metadata": {
    "colab_type": "text",
    "id": "jcR9D5Yt9r50"
   },
   "source": [
    "[자세한 내용 보기]('https://teddylee777.github.io/machine-learning/ensemble%EA%B8%B0%EB%B2%95%EC%97%90-%EB%8C%80%ED%95%9C-%EC%9D%B4%ED%95%B4%EC%99%80-%EC%A2%85%EB%A5%98-3')"
   ]
  },
  {
   "cell_type": "markdown",
   "metadata": {
    "colab_type": "text",
    "id": "0oz62PWG85fH"
   },
   "source": [
    "약한 학습기를 순차적으로 학습을 하되, 이전 학습에 대하여 잘못 예측된 데이터에 **가중치를 부여해 오차를 보완**해 나가는 방식입니다.\n",
    "\n",
    "**장점** \n",
    "- 성능이 매우 우수하다 (Lgbm, XGBoost)\n",
    "\n",
    "**단점**\n",
    "- 부스팅 알고리즘의 특성상 계속 약점(오분류/잔차)을 보완하려고 하기 때문에 **잘못된 레이블링이나 아웃라이어에 필요 이상으로 민감**할 수 있다\n",
    "- 다른 앙상블 대비 **학습 시간이 오래걸린다는 단점**이 존재"
   ]
  },
  {
   "cell_type": "code",
   "execution_count": null,
   "metadata": {
    "colab": {
     "base_uri": "https://localhost:8080/",
     "height": 666
    },
    "colab_type": "code",
    "id": "DynTo85sE7FM",
    "outputId": "850a37fa-8a49-4b91-aed9-8435608be3e1"
   },
   "outputs": [],
   "source": [
    "Image('https://keras.io/img/graph-kaggle-1.jpeg', width=800)"
   ]
  },
  {
   "cell_type": "markdown",
   "metadata": {
    "colab_type": "text",
    "id": "sSsGQutH85bx"
   },
   "source": [
    "**대표적인 Boosting 앙상블**\n",
    "1. AdaBoost\n",
    "2. GradientBoost\n",
    "3. LightGBM (LGBM)\n",
    "4. XGBoost"
   ]
  },
  {
   "cell_type": "markdown",
   "metadata": {
    "colab_type": "text",
    "id": "thFh1dR1EDyq"
   },
   "source": [
    "### GradientBoost"
   ]
  },
  {
   "cell_type": "markdown",
   "metadata": {
    "colab_type": "text",
    "id": "u7jfQpkEIFBp"
   },
   "source": [
    "- 성능이 우수함\n",
    "- 학습시간이 해도해도 너무 느리다"
   ]
  },
  {
   "cell_type": "markdown",
   "metadata": {
    "colab_type": "text",
    "id": "FzS1EdpKFCfa"
   },
   "source": [
    "[사이킷런 공식문서](https://scikit-learn.org/stable/modules/generated/sklearn.ensemble.GradientBoostingRegressor.html?highlight=gradient%20boost#sklearn.ensemble.GradientBoostingRegressor)"
   ]
  },
  {
   "cell_type": "code",
   "execution_count": null,
   "metadata": {
    "colab": {},
    "colab_type": "code",
    "id": "r7PTKmzI85Xe"
   },
   "outputs": [],
   "source": [
    "from sklearn.ensemble import GradientBoostingRegressor, GradientBoostingClassifier"
   ]
  },
  {
   "cell_type": "code",
   "execution_count": null,
   "metadata": {
    "colab": {
     "base_uri": "https://localhost:8080/",
     "height": 1000
    },
    "colab_type": "code",
    "id": "9Jt2hOXd85TL",
    "outputId": "c0078173-7911-43ac-d428-babce00e0d04"
   },
   "outputs": [],
   "source": [
    "gbr = GradientBoostingRegressor(random_state=42)\n",
    "gbr.fit(x_train, y_train)\n",
    "gbr_pred = gbr.predict(x_test)\n",
    "mse_eval('GradientBoost Ensemble', gbr_pred, y_test)"
   ]
  },
  {
   "cell_type": "markdown",
   "metadata": {
    "colab_type": "text",
    "id": "eKLeIxLeEB7z"
   },
   "source": [
    "**주요 Hyperparameter**\n",
    "- random_state: 랜덤 시드 고정 값. 고정해두고 튜닝할 것!\n",
    "- n_jobs: CPU 사용 갯수\n",
    "- learning_rate: 학습율. 너무 큰 학습율은 성능을 떨어뜨리고, 너무 작은 학습율은 학습이 느리다. 적절한 값을 찾아야함. n_estimators와 같이 튜닝. default=0.1\n",
    "- n_estimators: 부스팅 스테이지 수. (랜덤포레스트 트리의 갯수 설정과 비슷한 개념). default=100\n",
    "- subsample: 샘플 사용 비율 (max_features와 비슷한 개념). 과대적합 방지용\n",
    "- min_samples_split: 노드 분할시 최소 샘플의 갯수. default=2. 과대적합 방지용"
   ]
  },
  {
   "cell_type": "code",
   "execution_count": null,
   "metadata": {
    "colab": {
     "base_uri": "https://localhost:8080/",
     "height": 1000
    },
    "colab_type": "code",
    "id": "4BsjUYhTGaiz",
    "outputId": "04fc8db6-7206-413f-9cda-d668314b7c7d"
   },
   "outputs": [],
   "source": [
    "gbr = GradientBoostingRegressor(random_state=42, learning_rate=0.01)\n",
    "gbr.fit(x_train, y_train)\n",
    "gbr_pred = gbr.predict(x_test)\n",
    "mse_eval('GradientBoost Ensemble (lr=0.01)', gbr_pred, y_test)"
   ]
  },
  {
   "cell_type": "code",
   "execution_count": null,
   "metadata": {
    "colab": {
     "base_uri": "https://localhost:8080/",
     "height": 1000
    },
    "colab_type": "code",
    "id": "uo90CMeiEB39",
    "outputId": "f9bd7cb9-d9ba-4bdb-cfd2-d0cb6e756beb"
   },
   "outputs": [],
   "source": [
    "gbr = GradientBoostingRegressor(random_state=42, learning_rate=0.01, n_estimators=1000)\n",
    "gbr.fit(x_train, y_train)\n",
    "gbr_pred = gbr.predict(x_test)\n",
    "mse_eval('GradientBoost Ensemble (lr=0.01, est=1000)', gbr_pred, y_test)"
   ]
  },
  {
   "cell_type": "code",
   "execution_count": null,
   "metadata": {
    "colab": {
     "base_uri": "https://localhost:8080/",
     "height": 1000
    },
    "colab_type": "code",
    "id": "pBuXQevyEB0i",
    "outputId": "0f8c7128-3e97-4527-eb79-53ec2eed29e6"
   },
   "outputs": [],
   "source": [
    "gbr = GradientBoostingRegressor(random_state=42, learning_rate=0.01, n_estimators=1000, subsample=0.8)\n",
    "gbr.fit(x_train, y_train)\n",
    "gbr_pred = gbr.predict(x_test)\n",
    "mse_eval('GradientBoost Ensemble (lr=0.01, est=1000, subsample=0.8)', gbr_pred, y_test)"
   ]
  },
  {
   "cell_type": "markdown",
   "metadata": {
    "colab_type": "text",
    "id": "ShE0LWV5EBv7"
   },
   "source": [
    "### XGBoost\n",
    "e**X**treme **G**radient **B**oosting"
   ]
  },
  {
   "cell_type": "markdown",
   "metadata": {
    "colab_type": "text",
    "id": "ymU1xA39Iw5j"
   },
   "source": [
    "[공식 도큐먼트](https://xgboost.readthedocs.io/en/latest/)"
   ]
  },
  {
   "cell_type": "markdown",
   "metadata": {
    "colab_type": "text",
    "id": "xw17wJya85Ms"
   },
   "source": [
    "**주요 특징**\n",
    "- scikit-learn 패키지가 아닙니다.\n",
    "- 성능이 우수함\n",
    "- GBM보다는 빠르고 성능도 향상되었습니다.\n",
    "- 여전히 학습시간이 매우 느리다"
   ]
  },
  {
   "cell_type": "code",
   "execution_count": null,
   "metadata": {},
   "outputs": [],
   "source": [
    "!pip install xgboost"
   ]
  },
  {
   "cell_type": "code",
   "execution_count": null,
   "metadata": {
    "colab": {},
    "colab_type": "code",
    "id": "mmJY3TqKHwYD"
   },
   "outputs": [],
   "source": [
    "from xgboost import XGBRegressor, XGBClassifier"
   ]
  },
  {
   "cell_type": "code",
   "execution_count": null,
   "metadata": {
    "colab": {
     "base_uri": "https://localhost:8080/",
     "height": 1000
    },
    "colab_type": "code",
    "id": "ao8hrHY4IQi6",
    "outputId": "14faadfb-17b3-45fc-b152-4d6a4ed1cb70"
   },
   "outputs": [],
   "source": [
    "xgb = XGBRegressor(random_state=42)\n",
    "xgb.fit(x_train, y_train)\n",
    "xgb_pred = xgb.predict(x_test)\n",
    "mse_eval('XGBoost', xgb_pred, y_test)"
   ]
  },
  {
   "cell_type": "markdown",
   "metadata": {
    "colab_type": "text",
    "id": "-fAjfIX9Jpcx"
   },
   "source": [
    "**주요 Hyperparameter**\n",
    "- random_state: 랜덤 시드 고정 값. 고정해두고 튜닝할 것!\n",
    "- n_jobs: CPU 사용 갯수\n",
    "- learning_rate: 학습율. 너무 큰 학습율은 성능을 떨어뜨리고, 너무 작은 학습율은 학습이 느리다. 적절한 값을 찾아야함. n_estimators와 같이 튜닝. default=0.1\n",
    "- n_estimators: 부스팅 스테이지 수. (랜덤포레스트 트리의 갯수 설정과 비슷한 개념). default=100\n",
    "- max_depth: 트리의 깊이. 과대적합 방지용. default=3. \n",
    "- subsample: 샘플 사용 비율. 과대적합 방지용. default=1.0\n",
    "- max_features: 최대로 사용할 feature의 비율. 과대적합 방지용. default=1.0"
   ]
  },
  {
   "cell_type": "code",
   "execution_count": null,
   "metadata": {
    "colab": {
     "base_uri": "https://localhost:8080/",
     "height": 1000
    },
    "colab_type": "code",
    "id": "FzCfIg1nHwcA",
    "outputId": "56ea586a-ab9b-469f-96ab-a2142935a3ac"
   },
   "outputs": [],
   "source": [
    "xgb = XGBRegressor(random_state=42, learning_rate=0.01, n_estimators=1000, subsample=0.8, max_features=0.8, max_depth=7)\n",
    "xgb.fit(x_train, y_train)\n",
    "xgb_pred = xgb.predict(x_test)\n",
    "mse_eval('XGBoost w/ Tuning', xgb_pred, y_test)"
   ]
  },
  {
   "cell_type": "markdown",
   "metadata": {
    "colab_type": "text",
    "id": "HmwWVhJsHwgE"
   },
   "source": [
    "### LightGBM"
   ]
  },
  {
   "cell_type": "markdown",
   "metadata": {
    "colab_type": "text",
    "id": "X8_XnN6wLeBw"
   },
   "source": [
    "[공식 도큐먼트](https://lightgbm.readthedocs.io/en/latest/)"
   ]
  },
  {
   "cell_type": "markdown",
   "metadata": {
    "colab_type": "text",
    "id": "Unk2_LocLD_I"
   },
   "source": [
    "**주요 특징**\n",
    "- scikit-learn 패키지가 아닙니다.\n",
    "- 성능이 우수함\n",
    "- 속도도 매우 빠릅니다."
   ]
  },
  {
   "cell_type": "code",
   "execution_count": null,
   "metadata": {},
   "outputs": [],
   "source": [
    "!pip install lightgbm"
   ]
  },
  {
   "cell_type": "code",
   "execution_count": null,
   "metadata": {
    "colab": {},
    "colab_type": "code",
    "id": "q3G6knUJK7uP"
   },
   "outputs": [],
   "source": [
    "from lightgbm import LGBMRegressor, LGBMClassifier"
   ]
  },
  {
   "cell_type": "code",
   "execution_count": null,
   "metadata": {
    "colab": {
     "base_uri": "https://localhost:8080/",
     "height": 1000
    },
    "colab_type": "code",
    "id": "r1yjuwwwK7n4",
    "outputId": "3daf08f4-9521-4aaa-a855-27465c53a0b7"
   },
   "outputs": [],
   "source": [
    "lgbm = LGBMRegressor(random_state=42)\n",
    "lgbm.fit(x_train, y_train)\n",
    "lgbm_pred = lgbm.predict(x_test)\n",
    "mse_eval('LGBM', lgbm_pred, y_test)"
   ]
  },
  {
   "cell_type": "markdown",
   "metadata": {
    "colab_type": "text",
    "id": "GaKdEHJpLrm4"
   },
   "source": [
    "**주요 Hyperparameter**\n",
    "- random_state: 랜덤 시드 고정 값. 고정해두고 튜닝할 것!\n",
    "- n_jobs: CPU 사용 갯수\n",
    "- learning_rate: 학습율. 너무 큰 학습율은 성능을 떨어뜨리고, 너무 작은 학습율은 학습이 느리다. 적절한 값을 찾아야함. n_estimators와 같이 튜닝. default=0.1\n",
    "- n_estimators: 부스팅 스테이지 수. (랜덤포레스트 트리의 갯수 설정과 비슷한 개념). default=100\n",
    "- max_depth: 트리의 깊이. 과대적합 방지용. default=3. \n",
    "- colsample_bytree: 샘플 사용 비율 (max_features와 비슷한 개념). 과대적합 방지용. default=1.0"
   ]
  },
  {
   "cell_type": "code",
   "execution_count": null,
   "metadata": {
    "colab": {
     "base_uri": "https://localhost:8080/",
     "height": 1000
    },
    "colab_type": "code",
    "id": "yhTVSKbkLssQ",
    "outputId": "71e108f3-aa4e-4c18-8514-f4aa022cb31a"
   },
   "outputs": [],
   "source": [
    "lgbm = LGBMRegressor(random_state=42, learning_rate=0.01, n_estimators=2000, colsample_bytree=0.9, subsample=0.9, max_depth=7)\n",
    "lgbm.fit(x_train, y_train)\n",
    "lgbm_pred = lgbm.predict(x_test)\n",
    "mse_eval('LGBM w/ Tuning', lgbm_pred, y_test)"
   ]
  },
  {
   "cell_type": "markdown",
   "metadata": {
    "colab_type": "text",
    "id": "fCQyRaTsNYbX"
   },
   "source": [
    "### Stacking"
   ]
  },
  {
   "cell_type": "markdown",
   "metadata": {
    "colab_type": "text",
    "id": "euN4uVNxQ6-J"
   },
   "source": [
    "개별 모델이 예측한 데이터를 기반으로 **final_estimator** 종합하여 예측을 수행합니다."
   ]
  },
  {
   "cell_type": "markdown",
   "metadata": {
    "colab_type": "text",
    "id": "F-kKF3g9Qw95"
   },
   "source": [
    "- 성능을 극으로 끌어올릴 때 활용하기도 합니다.\n",
    "- 과대적합을 유발할 수 있습니다. (특히, 데이터셋이 적은 경우)"
   ]
  },
  {
   "cell_type": "markdown",
   "metadata": {
    "colab_type": "text",
    "id": "RXlOzNHBNWGX"
   },
   "source": [
    "[공식문서](https://scikit-learn.org/stable/modules/generated/sklearn.ensemble.StackingRegressor.html)"
   ]
  },
  {
   "cell_type": "code",
   "execution_count": null,
   "metadata": {
    "colab": {},
    "colab_type": "code",
    "id": "DA0HqTLSK7fZ"
   },
   "outputs": [],
   "source": [
    "from sklearn.ensemble import StackingRegressor"
   ]
  },
  {
   "cell_type": "code",
   "execution_count": null,
   "metadata": {
    "colab": {},
    "colab_type": "code",
    "id": "hW_QeDoyNViP"
   },
   "outputs": [],
   "source": [
    "stack_models = [\n",
    "    ('elasticnet', poly_pipeline), \n",
    "    ('randomforest', rfr), \n",
    "    ('gbr', gbr),\n",
    "    ('lgbm', lgbm),\n",
    "]"
   ]
  },
  {
   "cell_type": "code",
   "execution_count": null,
   "metadata": {
    "colab": {},
    "colab_type": "code",
    "id": "UFD0xCsyNN9M"
   },
   "outputs": [],
   "source": [
    "stack_reg = StackingRegressor(stack_models, final_estimator=xgb, n_jobs=-1)"
   ]
  },
  {
   "cell_type": "code",
   "execution_count": null,
   "metadata": {
    "colab": {
     "base_uri": "https://localhost:8080/",
     "height": 1000
    },
    "colab_type": "code",
    "id": "wGI-q5hcOome",
    "outputId": "c6cf3a27-4b0b-44f2-ce78-955c93210305"
   },
   "outputs": [],
   "source": [
    "stack_reg.fit(x_train, y_train)\n",
    "stack_pred = stack_reg.predict(x_test)\n",
    "mse_eval('Stacking Ensemble', stack_pred, y_test)"
   ]
  },
  {
   "cell_type": "markdown",
   "metadata": {
    "colab_type": "text",
    "id": "X284iz5vRa7A"
   },
   "source": [
    "### Weighted Blending"
   ]
  },
  {
   "cell_type": "markdown",
   "metadata": {
    "colab_type": "text",
    "id": "wMB3W6tXRdl2"
   },
   "source": [
    "각 모델의 예측값에 대하여 weight를 곱하여 최종 output 계산\n",
    "- 모델에 대한 가중치를 조절하여, 최종 output을 산출합니다.\n",
    "- **가중치의 합은 1.0**이 되도록 합니다."
   ]
  },
  {
   "cell_type": "code",
   "execution_count": null,
   "metadata": {
    "colab": {},
    "colab_type": "code",
    "id": "M6ayGpgWRhu1"
   },
   "outputs": [],
   "source": [
    "final_outputs = {\n",
    "    'elasticnet': poly_pred, \n",
    "    'randomforest': rfr_pred, \n",
    "    'gbr': gbr_pred,\n",
    "    'xgb': xgb_pred, \n",
    "    'lgbm': lgbm_pred,\n",
    "    'stacking': stack_pred,\n",
    "}"
   ]
  },
  {
   "cell_type": "code",
   "execution_count": null,
   "metadata": {
    "colab": {},
    "colab_type": "code",
    "id": "qinsFfubSHad"
   },
   "outputs": [],
   "source": [
    "final_prediction=\\\n",
    "final_outputs['elasticnet'] * 0.1\\\n",
    "+final_outputs['randomforest'] * 0.1\\\n",
    "+final_outputs['gbr'] * 0.2\\\n",
    "+final_outputs['xgb'] * 0.25\\\n",
    "+final_outputs['lgbm'] * 0.15\\\n",
    "+final_outputs['stacking'] * 0.2"
   ]
  },
  {
   "cell_type": "code",
   "execution_count": null,
   "metadata": {
    "colab": {
     "base_uri": "https://localhost:8080/",
     "height": 1000
    },
    "colab_type": "code",
    "id": "_CcJWidqSHQI",
    "outputId": "ca198a82-6cea-4ffd-c214-2b040410dee9"
   },
   "outputs": [],
   "source": [
    "mse_eval('Weighted Blending', final_prediction, y_test)"
   ]
  },
  {
   "cell_type": "markdown",
   "metadata": {
    "colab_type": "text",
    "id": "pkNLFd8TOy8s"
   },
   "source": [
    "## 앙상블 모델을 정리하며"
   ]
  },
  {
   "cell_type": "markdown",
   "metadata": {
    "colab_type": "text",
    "id": "uxT9uRv5RPJX"
   },
   "source": [
    "1. 앙상블은 대체적으로 단일 모델 대비 성능이 좋습니다.\n",
    "2. 앙상블을 앙상블하는 기법인 Stacking과 Weighted Blending도 참고해 볼만 합니다.\n",
    "3. 앙상블 모델은 적절한 **Hyperparameter 튜닝**이 중요합니다.\n",
    "4. 앙상블 모델은 대체적으로 학습시간이 더 오래 걸립니다.\n",
    "5. 따라서, 모델 튜닝을 하는 데에 걸리는 시간이 오래 소요됩니다."
   ]
  },
  {
   "cell_type": "code",
   "execution_count": null,
   "metadata": {
    "colab": {},
    "colab_type": "code",
    "id": "V6-kZpRFTvjy"
   },
   "outputs": [],
   "source": []
  },
  {
   "cell_type": "markdown",
   "metadata": {
    "colab_type": "text",
    "id": "ZqIkk2FzTw_W"
   },
   "source": [
    "## Cross Validation"
   ]
  },
  {
   "cell_type": "markdown",
   "metadata": {
    "colab_type": "text",
    "id": "2jp_QgHnT5q3"
   },
   "source": [
    "- Cross Validation이란 모델을 평가하는 하나의 방법입니다.\n",
    "- K-겹 교차검증(K-fold Cross Validation)을 많이 활용합니다.\n",
    "\n",
    "**K-겹 교차검증**\n",
    "- K-겹 교차 검증은 모든 데이터가 최소 한 번은 테스트셋으로 쓰이도록 합니다. 아래의 그림을 보면, 데이터를 5개로 쪼개 매번 테스트셋을 바꿔나가는 것을 볼 수 있습니다.\n",
    "\n",
    "[예시]\n",
    "- Estimation 1일때,\n",
    "\n",
    "학습데이터: [B, C, D, E] / 검증데이터: [A]\n",
    "\n",
    "- Estimation 2일때,\n",
    "\n",
    "학습데이터: [A, C, D, E] / 검증데이터: [B]"
   ]
  },
  {
   "cell_type": "code",
   "execution_count": null,
   "metadata": {
    "colab": {
     "base_uri": "https://localhost:8080/",
     "height": 325
    },
    "colab_type": "code",
    "id": "IuteEQXdUEfl",
    "outputId": "c6dd02ad-61fd-4dc7-ac68-a7487319d298"
   },
   "outputs": [],
   "source": [
    "Image('b04c27c5-7e3f-428a-9aa6-bb3ebcd3584c.png', width=800)"
   ]
  },
  {
   "cell_type": "markdown",
   "metadata": {
    "colab_type": "text",
    "id": "QBBogie7UHbu"
   },
   "source": [
    "**K-Fold Cross Validation Set 만들기**"
   ]
  },
  {
   "cell_type": "code",
   "execution_count": null,
   "metadata": {
    "colab": {},
    "colab_type": "code",
    "id": "8l0-Z9ZkVRVM"
   },
   "outputs": [],
   "source": [
    "from sklearn.model_selection import KFold"
   ]
  },
  {
   "cell_type": "code",
   "execution_count": null,
   "metadata": {
    "colab": {
     "base_uri": "https://localhost:8080/",
     "height": 72
    },
    "colab_type": "code",
    "id": "OH-PDjTMVWIF",
    "outputId": "7d203275-fe1b-4d9e-c765-2e210dab8a38"
   },
   "outputs": [],
   "source": [
    "n_splits = 5\n",
    "kfold = KFold(n_splits=n_splits, random_state=42,  shuffle=True)"
   ]
  },
  {
   "cell_type": "code",
   "execution_count": null,
   "metadata": {
    "colab": {
     "base_uri": "https://localhost:8080/",
     "height": 203
    },
    "colab_type": "code",
    "id": "qvMVPwylXGd5",
    "outputId": "8a623975-71d7-4d53-81ea-3bf3daafbcf1"
   },
   "outputs": [],
   "source": [
    "df.head()"
   ]
  },
  {
   "cell_type": "code",
   "execution_count": null,
   "metadata": {
    "colab": {},
    "colab_type": "code",
    "id": "W9tDQP_VXFTj"
   },
   "outputs": [],
   "source": [
    "X = np.array(df.drop('MEDV', 1))\n",
    "Y = np.array(df['MEDV'])"
   ]
  },
  {
   "cell_type": "code",
   "execution_count": null,
   "metadata": {
    "colab": {},
    "colab_type": "code",
    "id": "ewUGA4sCXXfc"
   },
   "outputs": [],
   "source": [
    "lgbm_fold = LGBMRegressor(random_state=42)"
   ]
  },
  {
   "cell_type": "code",
   "execution_count": null,
   "metadata": {
    "colab": {
     "base_uri": "https://localhost:8080/",
     "height": 141
    },
    "colab_type": "code",
    "id": "Qp603RJxVceP",
    "outputId": "db679a5a-df8b-4f07-96b9-305f4fff5986"
   },
   "outputs": [],
   "source": [
    "i = 1\n",
    "total_error = 0\n",
    "for train_index, test_index in kfold.split(X):\n",
    "    x_train_fold, x_test_fold = X[train_index], X[test_index]\n",
    "    y_train_fold, y_test_fold = Y[train_index], Y[test_index]\n",
    "    lgbm_pred_fold = lgbm_fold.fit(x_train_fold, y_train_fold).predict(x_test_fold)\n",
    "    error = mean_squared_error(lgbm_pred_fold, y_test_fold)\n",
    "    print('Fold = {}, prediction score = {:.2f}'.format(i, error))\n",
    "    total_error += error\n",
    "    i+=1\n",
    "print('---'*10)\n",
    "print('Average Error: %s' % (total_error / n_splits))"
   ]
  },
  {
   "cell_type": "code",
   "execution_count": null,
   "metadata": {
    "colab": {},
    "colab_type": "code",
    "id": "5LeV5LvHWzHR"
   },
   "outputs": [],
   "source": []
  },
  {
   "cell_type": "markdown",
   "metadata": {
    "colab_type": "text",
    "id": "prdlZqbQaXyy"
   },
   "source": [
    "## Hyperparameter 튜닝"
   ]
  },
  {
   "cell_type": "markdown",
   "metadata": {
    "colab_type": "text",
    "id": "u0VB9liTaXWW"
   },
   "source": [
    "- hypterparameter 튜닝시 경우의 수가 너무 많습니다.\n",
    "- 따라서, 우리는 자동화할 필요가 있습니다."
   ]
  },
  {
   "cell_type": "markdown",
   "metadata": {
    "colab_type": "text",
    "id": "B0VI3JW2ahBD"
   },
   "source": [
    "sklearn 패키지에서 자주 사용되는 hyperparameter 튜닝을 돕는 클래스는 다음 2가지가 있습니다.\n",
    "\n",
    "1. **RandomizedSearchCV**\n",
    "2. **GridSearchCV**"
   ]
  },
  {
   "cell_type": "markdown",
   "metadata": {
    "colab_type": "text",
    "id": "sFAWoVa0av2S"
   },
   "source": [
    "**적용하는 방법**\n",
    "\n",
    "1. 사용할 Search 방법을 선택합니다.\n",
    "2. hyperparameter 도메인을 설정합니다. (`max_depth`, `n_estimators`..등등)\n",
    "3. 학습을 시킨 후, 기다립니다.\n",
    "4. 도출된 결과 값을 모델에 적용하고 성능을 비교합니다."
   ]
  },
  {
   "cell_type": "markdown",
   "metadata": {
    "colab_type": "text",
    "id": "jp-7UyjSYjUk"
   },
   "source": [
    "## RandomizedSearchCV"
   ]
  },
  {
   "cell_type": "markdown",
   "metadata": {
    "colab_type": "text",
    "id": "_D52qKFjZ3j-"
   },
   "source": [
    "- 모든 매개 변수 값이 시도되는 것이 아니라 지정된 분포에서 고정 된 수의 매개 변수 설정이 샘플링됩니다. \n",
    "- 시도 된 매개 변수 설정의 수는 `n_iter`에 의해 제공됩니다."
   ]
  },
  {
   "cell_type": "markdown",
   "metadata": {
    "colab_type": "text",
    "id": "ekAFZRRJcAz6"
   },
   "source": [
    "**주요 Hyperparameter (LGBM)**\n",
    "- random_state: 랜덤 시드 고정 값. 고정해두고 튜닝할 것!\n",
    "- n_jobs: CPU 사용 갯수\n",
    "- learning_rate: 학습율. 너무 큰 학습율은 성능을 떨어뜨리고, 너무 작은 학습율은 학습이 느리다. 적절한 값을 찾아야함. n_estimators와 같이 튜닝. default=0.1\n",
    "- n_estimators: 부스팅 스테이지 수. (랜덤포레스트 트리의 갯수 설정과 비슷한 개념). default=100\n",
    "- max_depth: 트리의 깊이. 과대적합 방지용. default=3. \n",
    "- colsample_bytree: 샘플 사용 비율 (max_features와 비슷한 개념). 과대적합 방지용. default=1.0"
   ]
  },
  {
   "cell_type": "code",
   "execution_count": null,
   "metadata": {
    "colab": {},
    "colab_type": "code",
    "id": "Pi_wgJaHbrw6"
   },
   "outputs": [],
   "source": [
    "params = {\n",
    "    'n_estimators': [200, 500, 1000, 2000], \n",
    "    'learning_rate': [0.1, 0.05, 0.01], \n",
    "    'max_depth': [6, 7, 8], \n",
    "    'colsample_bytree': [0.8, 0.9, 1.0], \n",
    "    'subsample': [0.8, 0.9, 1.0],\n",
    "}"
   ]
  },
  {
   "cell_type": "code",
   "execution_count": null,
   "metadata": {
    "colab": {},
    "colab_type": "code",
    "id": "ALRyixkCcin6"
   },
   "outputs": [],
   "source": [
    "from sklearn.model_selection import RandomizedSearchCV"
   ]
  },
  {
   "cell_type": "markdown",
   "metadata": {
    "colab_type": "text",
    "id": "H0j3oii8e0fy"
   },
   "source": [
    "`n_iter` 값을 조절하여, 총 몇 회의 시도를 진행할 것인지 정의합니다.\n",
    "\n",
    "(회수가 늘어나면, 더 좋은 parameter를 찾을 확률은 올라가지만, 그만큼 시간이 오래걸립니다.)"
   ]
  },
  {
   "cell_type": "code",
   "execution_count": null,
   "metadata": {
    "colab": {},
    "colab_type": "code",
    "id": "kJn9Y8_tZ_5e"
   },
   "outputs": [],
   "source": [
    "clf = RandomizedSearchCV(LGBMRegressor(), params, random_state=42, cv=3, n_iter=25, scoring='neg_mean_squared_error')"
   ]
  },
  {
   "cell_type": "code",
   "execution_count": null,
   "metadata": {
    "colab": {
     "base_uri": "https://localhost:8080/",
     "height": 442
    },
    "colab_type": "code",
    "id": "PCh0f0MCcesj",
    "outputId": "e1d63794-3237-41f6-a411-cf488d8f7883"
   },
   "outputs": [],
   "source": [
    "clf.fit(x_train, y_train)"
   ]
  },
  {
   "cell_type": "code",
   "execution_count": null,
   "metadata": {
    "colab": {
     "base_uri": "https://localhost:8080/",
     "height": 35
    },
    "colab_type": "code",
    "id": "Rv-aJZqrgBZy",
    "outputId": "4acd16f2-d3c0-432b-a958-0d19a0ab4030"
   },
   "outputs": [],
   "source": [
    "clf.best_score_"
   ]
  },
  {
   "cell_type": "code",
   "execution_count": null,
   "metadata": {
    "colab": {
     "base_uri": "https://localhost:8080/",
     "height": 106
    },
    "colab_type": "code",
    "id": "5vQgWcFRcscp",
    "outputId": "65dc971f-43d8-4381-8d6c-41927111fded"
   },
   "outputs": [],
   "source": [
    "clf.best_params_"
   ]
  },
  {
   "cell_type": "code",
   "execution_count": null,
   "metadata": {
    "colab": {
     "base_uri": "https://localhost:8080/",
     "height": 1000
    },
    "colab_type": "code",
    "id": "2Y14xKCpcyfS",
    "outputId": "76e6dbf6-f144-4799-d9cd-af8cb0a70cdc"
   },
   "outputs": [],
   "source": [
    "lgbm_best = LGBMRegressor(n_estimators=2000, subsample=0.8, max_depth=7, learning_rate=0.01, colsample_bytree=0.8)\n",
    "lgbm_best_pred = lgbm_best.fit(x_train, y_train).predict(x_test)\n",
    "mse_eval('RandomSearch LGBM', lgbm_best_pred, y_test)"
   ]
  },
  {
   "cell_type": "markdown",
   "metadata": {
    "colab_type": "text",
    "id": "dsedlyvUdABi"
   },
   "source": [
    "## GridSearchCV"
   ]
  },
  {
   "cell_type": "markdown",
   "metadata": {
    "colab_type": "text",
    "id": "MIzdNsr3fGYq"
   },
   "source": [
    "- 모든 매개 변수 값에 대하여 **완전 탐색**을 시도합니다.\n",
    "- 따라서, 최적화할 parameter가 많다면, **시간이 매우 오래**걸립니다."
   ]
  },
  {
   "cell_type": "code",
   "execution_count": null,
   "metadata": {
    "colab": {},
    "colab_type": "code",
    "id": "nVEnzODkfdeR"
   },
   "outputs": [],
   "source": [
    "params = {\n",
    "    'n_estimators': [500, 1000], \n",
    "    'learning_rate': [0.1, 0.05, 0.01], \n",
    "    'max_depth': [7, 8], \n",
    "    'colsample_bytree': [0.8, 0.9], \n",
    "    'subsample': [0.8, 0.9,],\n",
    "}"
   ]
  },
  {
   "cell_type": "code",
   "execution_count": null,
   "metadata": {
    "colab": {},
    "colab_type": "code",
    "id": "6fhfMnY8fkqS"
   },
   "outputs": [],
   "source": [
    "from sklearn.model_selection import GridSearchCV"
   ]
  },
  {
   "cell_type": "code",
   "execution_count": null,
   "metadata": {
    "colab": {},
    "colab_type": "code",
    "id": "hXZOUgb_flIL"
   },
   "outputs": [],
   "source": [
    "grid_search = GridSearchCV(LGBMRegressor(), params, cv=3, n_jobs=-1, scoring='neg_mean_squared_error')"
   ]
  },
  {
   "cell_type": "code",
   "execution_count": null,
   "metadata": {
    "colab": {
     "base_uri": "https://localhost:8080/",
     "height": 336
    },
    "colab_type": "code",
    "id": "Yxt8je_HgXg7",
    "outputId": "b99814d9-dff1-4b8a-bf15-e680f6eabc6b"
   },
   "outputs": [],
   "source": [
    "grid_search.fit(x_train, y_train)"
   ]
  },
  {
   "cell_type": "code",
   "execution_count": null,
   "metadata": {
    "colab": {
     "base_uri": "https://localhost:8080/",
     "height": 35
    },
    "colab_type": "code",
    "id": "7nqhFsWEgzsi",
    "outputId": "fecdfa1b-d74e-443b-bb95-f00cf3fc3278"
   },
   "outputs": [],
   "source": [
    "grid_search.best_score_"
   ]
  },
  {
   "cell_type": "code",
   "execution_count": null,
   "metadata": {
    "colab": {
     "base_uri": "https://localhost:8080/",
     "height": 106
    },
    "colab_type": "code",
    "id": "-srEKMrBgaNo",
    "outputId": "86560d38-1b8b-4f8a-edd3-c76e082d6afe"
   },
   "outputs": [],
   "source": [
    "grid_search.best_params_"
   ]
  },
  {
   "cell_type": "code",
   "execution_count": null,
   "metadata": {
    "colab": {
     "base_uri": "https://localhost:8080/",
     "height": 1000
    },
    "colab_type": "code",
    "id": "IIQdXnNgg1Np",
    "outputId": "263c3ad2-6133-46c8-9988-c41fb001589f"
   },
   "outputs": [],
   "source": [
    "lgbm_best = LGBMRegressor(n_estimators=500, subsample=0.8, max_depth=7, learning_rate=0.05, colsample_bytree=0.8)\n",
    "lgbm_best_pred = lgbm_best.fit(x_train, y_train).predict(x_test)\n",
    "mse_eval('GridSearch LGBM', lgbm_best_pred, y_test)"
   ]
  },
  {
   "cell_type": "code",
   "execution_count": null,
   "metadata": {
    "colab": {},
    "colab_type": "code",
    "id": "CqlFTF_16icT"
   },
   "outputs": [],
   "source": []
  },
  {
   "cell_type": "code",
   "execution_count": null,
   "metadata": {},
   "outputs": [],
   "source": []
  },
  {
   "cell_type": "code",
   "execution_count": null,
   "metadata": {},
   "outputs": [],
   "source": []
  }
 ],
 "metadata": {
  "colab": {
   "collapsed_sections": [],
   "name": "ch06-앙상블모델 (ensemble)-해설",
   "provenance": []
  },
  "kernelspec": {
   "display_name": "Python [conda env:base] *",
   "language": "python",
   "name": "conda-base-py"
  },
  "language_info": {
   "codemirror_mode": {
    "name": "ipython",
    "version": 3
   },
   "file_extension": ".py",
   "mimetype": "text/x-python",
   "name": "python",
   "nbconvert_exporter": "python",
   "pygments_lexer": "ipython3",
   "version": "3.12.7"
  }
 },
 "nbformat": 4,
 "nbformat_minor": 4
}
