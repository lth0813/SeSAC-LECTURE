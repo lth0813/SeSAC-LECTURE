{
 "cells": [
  {
   "cell_type": "code",
   "execution_count": 1,
   "metadata": {},
   "outputs": [
    {
     "name": "stdout",
     "output_type": "stream",
     "text": [
      "Defaulting to user installation because normal site-packages is not writeable\n",
      "Requirement already satisfied: opencv-python in c:\\programdata\\anaconda3\\lib\\site-packages (4.11.0.86)\n",
      "Requirement already satisfied: numpy>=1.21.2 in c:\\programdata\\anaconda3\\lib\\site-packages (from opencv-python) (1.26.4)\n"
     ]
    }
   ],
   "source": [
    "!pip install opencv-python"
   ]
  },
  {
   "cell_type": "code",
   "execution_count": 2,
   "metadata": {},
   "outputs": [],
   "source": [
    "import cv2 as cv"
   ]
  },
  {
   "cell_type": "code",
   "execution_count": 3,
   "metadata": {},
   "outputs": [],
   "source": [
    "import sys"
   ]
  },
  {
   "cell_type": "code",
   "execution_count": 4,
   "metadata": {},
   "outputs": [],
   "source": [
    "img=cv.imread('./image/soccer.jpg')"
   ]
  },
  {
   "cell_type": "code",
   "execution_count": 5,
   "metadata": {},
   "outputs": [],
   "source": [
    "if img is None:\n",
    "    sys.exit('파일을 찾을 수 없습니다.')"
   ]
  },
  {
   "cell_type": "code",
   "execution_count": 6,
   "metadata": {},
   "outputs": [],
   "source": [
    "cv.imshow('Image Display', img)"
   ]
  },
  {
   "cell_type": "code",
   "execution_count": 7,
   "metadata": {},
   "outputs": [
    {
     "data": {
      "text/plain": [
       "113"
      ]
     },
     "execution_count": 7,
     "metadata": {},
     "output_type": "execute_result"
    }
   ],
   "source": [
    "cv.waitKey()"
   ]
  },
  {
   "cell_type": "code",
   "execution_count": 8,
   "metadata": {},
   "outputs": [],
   "source": [
    "cv.destroyAllWindows()"
   ]
  },
  {
   "cell_type": "code",
   "execution_count": 9,
   "metadata": {},
   "outputs": [],
   "source": [
    "img=cv.imread('./image/soccer.jpg')\n",
    "\n",
    "if img is None:\n",
    "    sys.exit('파일을 찾을 수 없습니다.')\n",
    "\n",
    "gray=cv.cvtColor(img, cv.COLOR_BGR2GRAY)\n",
    "gray_small=cv.resize(gray, dsize=(0,0), fx=0.5, fy=0.5)\n",
    "\n",
    "cv.imwrite('soccer_gray.jpg', gray)\n",
    "cv.imwrite('soccer_gray_small.jpg', gray_small)\n",
    "\n",
    "cv.imshow('Color Image', img)\n",
    "cv.imshow('Gray Image', gray)\n",
    "cv.imshow('Gray Image Small', gray_small)\n",
    "\n",
    "cv.waitKey()\n",
    "cv.destroyAllWindows()"
   ]
  },
  {
   "cell_type": "markdown",
   "metadata": {},
   "source": [
    "카메라 연결"
   ]
  },
  {
   "cell_type": "code",
   "execution_count": 11,
   "metadata": {},
   "outputs": [],
   "source": [
    "import cv2 as cv\n",
    "import sys"
   ]
  },
  {
   "cell_type": "code",
   "execution_count": 12,
   "metadata": {},
   "outputs": [],
   "source": [
    "cap=cv.VideoCapture(0, cv.CAP_DSHOW) # 카메라와 연결 시도"
   ]
  },
  {
   "cell_type": "code",
   "execution_count": 13,
   "metadata": {},
   "outputs": [],
   "source": [
    "if not cap.isOpened():\n",
    "    sys.exit('카메라 연결 실패')"
   ]
  },
  {
   "cell_type": "code",
   "execution_count": 14,
   "metadata": {},
   "outputs": [],
   "source": [
    "while True:\n",
    "    ret, frame=cap.read() # 비디오를 구성하는 프레임 획득\n",
    "    if not ret:\n",
    "        print('프레임 획득에 실패하여 루프를 나갑니다.')\n",
    "        break\n",
    "\n",
    "    cv.imshow('Video Display', frame)\n",
    "    \n",
    "    key=cv.waitKey(1) # 1밀리초 동안 키보드 입력 기다림\n",
    "    if key==ord('q'): # 'q' 키가 들어오면 루프를 빠져나감\n",
    "        break\n",
    "\n",
    "cap.release() # 카메라와 연결을 끊음"
   ]
  },
  {
   "cell_type": "code",
   "execution_count": 15,
   "metadata": {},
   "outputs": [],
   "source": [
    "cv.destroyAllWindows()"
   ]
  },
  {
   "cell_type": "markdown",
   "metadata": {},
   "source": [
    "비디오를 구성하는 프레임 획득"
   ]
  },
  {
   "cell_type": "code",
   "execution_count": 17,
   "metadata": {},
   "outputs": [],
   "source": [
    "import cv2 as cv\n",
    "import numpy as np\n",
    "import sys"
   ]
  },
  {
   "cell_type": "code",
   "execution_count": 18,
   "metadata": {},
   "outputs": [],
   "source": [
    "cap=cv.VideoCapture(0, cv.CAP_DSHOW) # 카메라와 연결 시도"
   ]
  },
  {
   "cell_type": "code",
   "execution_count": 19,
   "metadata": {},
   "outputs": [],
   "source": [
    "if not cap.isOpened():\n",
    "    sys.exit('카메라 연결 실패')"
   ]
  },
  {
   "cell_type": "code",
   "execution_count": 20,
   "metadata": {},
   "outputs": [],
   "source": [
    "frames = []\n",
    "while True:\n",
    "    ret, frame=cap.read() # 비디오를 구성하는 프레임 획득\n",
    "    \n",
    "    if not ret:\n",
    "        print('프레임 획득에 실패하여 루프를 나갑니다.')\n",
    "        break\n",
    "        \n",
    "    cv.imshow('Video Display', frame)\n",
    "    \n",
    "    key=cv.waitKey(1) # 1밀리초 동안 키보드 입력 기다림\n",
    "    if key==ord('c'): # 'c' 키가 들어오면 프레임을 리스트에 추가\n",
    "        frames.append(frame)\n",
    "    elif key==ord('q'): # 'q' 키가 들어오면 루프를 빠져나감\n",
    "        break\n",
    "\n",
    "cap.release() # 카메라와 연결을 끊음"
   ]
  },
  {
   "cell_type": "code",
   "execution_count": 21,
   "metadata": {},
   "outputs": [],
   "source": [
    "cv.destroyAllWindows()"
   ]
  },
  {
   "cell_type": "code",
   "execution_count": 22,
   "metadata": {},
   "outputs": [],
   "source": [
    "if len(frames) > 0:\n",
    "    imgs=frames[0]\n",
    "    for i in range(1, min(3, len(frames))):\n",
    "        imgs=np.hstack((imgs, frames[i]))\n",
    "    \n",
    "    cv.imshow('collected Frames', imgs)\n",
    "    \n",
    "    cv.waitKey()\n",
    "    cv.destroyAllWindows()"
   ]
  },
  {
   "cell_type": "markdown",
   "metadata": {},
   "source": [
    "직사각형 그리기"
   ]
  },
  {
   "cell_type": "code",
   "execution_count": 24,
   "metadata": {},
   "outputs": [],
   "source": [
    "import cv2 as cv\n",
    "import sys"
   ]
  },
  {
   "cell_type": "code",
   "execution_count": 25,
   "metadata": {},
   "outputs": [],
   "source": [
    "img=cv.imread('./image/girl_laughing.jpg')"
   ]
  },
  {
   "cell_type": "code",
   "execution_count": 26,
   "metadata": {},
   "outputs": [],
   "source": [
    "if img is None:\n",
    "    sys.exit('파일을 찾을 수 없습니다.')"
   ]
  },
  {
   "cell_type": "code",
   "execution_count": 27,
   "metadata": {},
   "outputs": [
    {
     "data": {
      "text/plain": [
       "array([[[171, 169, 169],\n",
       "        [167, 165, 165],\n",
       "        [169, 167, 166],\n",
       "        ...,\n",
       "        [106, 113, 130],\n",
       "        [107, 114, 131],\n",
       "        [107, 114, 131]],\n",
       "\n",
       "       [[171, 169, 169],\n",
       "        [170, 168, 168],\n",
       "        [173, 171, 170],\n",
       "        ...,\n",
       "        [109, 116, 133],\n",
       "        [111, 118, 135],\n",
       "        [113, 120, 137]],\n",
       "\n",
       "       [[168, 164, 163],\n",
       "        [174, 170, 169],\n",
       "        [179, 175, 174],\n",
       "        ...,\n",
       "        [113, 120, 139],\n",
       "        [116, 123, 142],\n",
       "        [120, 127, 146]],\n",
       "\n",
       "       ...,\n",
       "\n",
       "       [[168, 161, 158],\n",
       "        [159, 152, 149],\n",
       "        [184, 177, 174],\n",
       "        ...,\n",
       "        [180, 183, 187],\n",
       "        [181, 184, 189],\n",
       "        [189, 192, 196]],\n",
       "\n",
       "       [[157, 150, 147],\n",
       "        [140, 133, 130],\n",
       "        [178, 171, 168],\n",
       "        ...,\n",
       "        [183, 187, 188],\n",
       "        [182, 185, 189],\n",
       "        [182, 186, 187]],\n",
       "\n",
       "       [[175, 168, 165],\n",
       "        [189, 182, 179],\n",
       "        [177, 170, 167],\n",
       "        ...,\n",
       "        [222, 226, 227],\n",
       "        [205, 209, 210],\n",
       "        [193, 197, 198]]], dtype=uint8)"
      ]
     },
     "execution_count": 27,
     "metadata": {},
     "output_type": "execute_result"
    }
   ],
   "source": [
    "cv.rectangle(img, (830,30),(1000,200),(0,0,255),2) # 직사각형 그리기\n",
    "cv.putText(img, 'laugh', (830,24), cv.FONT_HERSHEY_SIMPLEX, 1, (255,0,0), 2) # 글씨 쓰기"
   ]
  },
  {
   "cell_type": "code",
   "execution_count": 28,
   "metadata": {},
   "outputs": [],
   "source": [
    "cv.imshow('Draw', img)"
   ]
  },
  {
   "cell_type": "code",
   "execution_count": 29,
   "metadata": {},
   "outputs": [
    {
     "data": {
      "text/plain": [
       "113"
      ]
     },
     "execution_count": 29,
     "metadata": {},
     "output_type": "execute_result"
    }
   ],
   "source": [
    "cv.waitKey()"
   ]
  },
  {
   "cell_type": "code",
   "execution_count": 30,
   "metadata": {},
   "outputs": [],
   "source": [
    "cv.destroyAllWindows()"
   ]
  }
 ],
 "metadata": {
  "kernelspec": {
   "display_name": "Python [conda env:base] *",
   "language": "python",
   "name": "conda-base-py"
  },
  "language_info": {
   "codemirror_mode": {
    "name": "ipython",
    "version": 3
   },
   "file_extension": ".py",
   "mimetype": "text/x-python",
   "name": "python",
   "nbconvert_exporter": "python",
   "pygments_lexer": "ipython3",
   "version": "3.12.7"
  }
 },
 "nbformat": 4,
 "nbformat_minor": 4
}
