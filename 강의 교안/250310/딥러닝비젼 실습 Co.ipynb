{
 "cells": [
  {
   "cell_type": "code",
   "execution_count": 1,
   "metadata": {},
   "outputs": [
    {
     "name": "stdout",
     "output_type": "stream",
     "text": [
      "Defaulting to user installation because normal site-packages is not writeable\n",
      "Requirement already satisfied: opencv-python in c:\\programdata\\anaconda3\\lib\\site-packages (4.11.0.86)\n",
      "Requirement already satisfied: numpy>=1.21.2 in c:\\programdata\\anaconda3\\lib\\site-packages (from opencv-python) (1.26.4)\n"
     ]
    }
   ],
   "source": [
    "!pip install opencv-python"
   ]
  },
  {
   "cell_type": "code",
   "execution_count": 2,
   "metadata": {},
   "outputs": [],
   "source": [
    "import cv2 as cv"
   ]
  },
  {
   "cell_type": "code",
   "execution_count": 3,
   "metadata": {},
   "outputs": [],
   "source": [
    "import sys"
   ]
  },
  {
   "cell_type": "code",
   "execution_count": 4,
   "metadata": {},
   "outputs": [],
   "source": [
    "img=cv.imread('./image/soccer.jpg')"
   ]
  },
  {
   "cell_type": "code",
   "execution_count": 5,
   "metadata": {},
   "outputs": [],
   "source": [
    "if img is None:\n",
    "    sys.exit('파일을 찾을 수 없습니다.')"
   ]
  },
  {
   "cell_type": "code",
   "execution_count": 6,
   "metadata": {},
   "outputs": [],
   "source": [
    "import matplotlib.pyplot as plt\n",
    "plt.figure(figsize=(10,8))\n",
    "plt.imshow(cv.cvtColor(img, cv.COLOR_BGR2RGB))\n",
    "plt.axis('off')\n",
    "plt.show()"
   ]
  },
  {
   "cell_type": "code",
   "execution_count": 9,
   "metadata": {},
   "outputs": [],
   "source": [
    "img=cv.imread('./image/soccer.jpg')\n",
    "\n",
    "if img is None:\n",
    "    sys.exit('파일을 찾을 수 없습니다.')\n",
    "\n",
    "gray=cv.cvtColor(img, cv.COLOR_BGR2GRAY)\n",
    "gray_small=cv.resize(gray, dsize=(0,0), fx=0.5, fy=0.5)\n",
    "\n",
    "cv.imwrite('soccer_gray.jpg', gray)\n",
    "cv.imwrite('soccer_gray_small.jpg', gray_small)\n",
    "\n",
    "plt.figure(figsize=(15,5))\n",
    "plt.subplot(131)\n",
    "plt.imshow(cv.cvtColor(img, cv.COLOR_BGR2RGB))\n",
    "plt.title('Color Image')\n",
    "plt.axis('off')\n",
    "\n",
    "plt.subplot(132)\n",
    "plt.imshow(gray, cmap='gray')\n",
    "plt.title('Gray Image')\n",
    "plt.axis('off')\n",
    "\n",
    "plt.subplot(133)\n",
    "plt.imshow(gray_small, cmap='gray')\n",
    "plt.title('Gray Image Small')\n",
    "plt.axis('off')\n",
    "plt.show()"
   ]
  },
  {
   "cell_type": "markdown",
   "metadata": {},
   "source": [
    "카메라 연결"
   ]
  },
  {
   "cell_type": "code",
   "execution_count": 11,
   "metadata": {},
   "outputs": [],
   "source": [
    "import cv2 as cv\n",
    "import sys\n",
    "from IPython.display import HTML\n",
    "from base64 import b64encode\n",
    "import ipywidgets as widgets"
   ]
  },
  {
   "cell_type": "code",
   "execution_count": null,
   "metadata": {},
   "outputs": [],
   "source": [
    "from IPython.display import HTML, Javascript, display\n",
    "import base64\n",
    "import cv2\n",
    "import numpy as np\n",
    "from google.colab.output import eval_js\n",
    "\n",
    "def capture_camera():\n",
    "    js = Javascript('''\n",
    "        async function takePhoto() {\n",
    "            const div = document.createElement('div');\n",
    "            const capture = document.createElement('button');\n",
    "            const video = document.createElement('video');\n",
    "            \n",
    "            video.style.display = 'block';\n",
    "            video.style.width = '640px';\n",
    "            video.style.height = '480px';\n",
    "            \n",
    "            capture.textContent = \"캡처\";\n",
    "            capture.style.marginBottom = '10px';\n",
    "            \n",
    "            div.appendChild(video);\n",
    "            div.appendChild(capture);\n",
    "            \n",
    "            document.body.appendChild(div);\n",
    "            \n",
    "            const stream = await navigator.mediaDevices.getUserMedia({video: true});\n",
    "            video.srcObject = stream;\n",
    "            await video.play();\n",
    "\n",
    "            // 캔버스 생성 및 설정\n",
    "            const canvas = document.createElement('canvas');\n",
    "            canvas.width = video.videoWidth;\n",
    "            canvas.height = video.videoHeight;\n",
    "            \n",
    "            return new Promise((resolve) => {\n",
    "                capture.onclick = () => {\n",
    "                    canvas.getContext('2d').drawImage(video, 0, 0);\n",
    "                    stream.getVideoTracks()[0].stop();\n",
    "                    div.remove();\n",
    "                    resolve(canvas.toDataURL('image/jpeg', 0.8));\n",
    "                };\n",
    "            });\n",
    "        }\n",
    "        ''')\n",
    "    display(js)\n",
    "    return eval_js('takePhoto()')\n",
    "\n",
    "# 캡처 및 표시 함수\n",
    "def capture_and_show():\n",
    "    print(\"카메라가 시작됩니다. '캡처' 버튼을 클릭하세요.\")\n",
    "    data = capture_camera()\n",
    "    \n",
    "    # base64 디코딩 및 이미지로 변환\n",
    "    encoded = data.split(',')[1]\n",
    "    nparr = np.frombuffer(base64.b64decode(encoded), np.uint8)\n",
    "    img = cv2.imdecode(nparr, cv2.IMREAD_COLOR)\n",
    "    \n",
    "    # 결과 표시\n",
    "    plt.figure(figsize=(10,8))\n",
    "    plt.imshow(cv2.cvtColor(img, cv2.COLOR_BGR2RGB))\n",
    "    plt.axis('off')\n",
    "    plt.show()\n",
    "    \n",
    "    return img\n",
    "\n",
    "# 실행\n",
    "captured_img = capture_and_show()"
   ]
  },
  {
   "cell_type": "markdown",
   "metadata": {},
   "source": [
    "직사각형 그리기"
   ]
  },
  {
   "cell_type": "code",
   "execution_count": 24,
   "metadata": {},
   "outputs": [],
   "source": [
    "import cv2 as cv\n",
    "import sys"
   ]
  },
  {
   "cell_type": "code",
   "execution_count": 25,
   "metadata": {},
   "outputs": [],
   "source": [
    "img=cv.imread('./image/girl_laughing.jpg')"
   ]
  },
  {
   "cell_type": "code",
   "execution_count": 26,
   "metadata": {},
   "outputs": [],
   "source": [
    "if img is None:\n",
    "    sys.exit('파일을 찾을 수 없습니다.')"
   ]
  },
  {
   "cell_type": "code",
   "execution_count": 27,
   "metadata": {},
   "outputs": [
    {
     "data": {
      "text/plain": [
       "array([[[171, 169, 169],\n",
       "        [167, 165, 165],\n",
       "        [169, 167, 166],\n",
       "        ...,\n",
       "        [106, 113, 130],\n",
       "        [107, 114, 131],\n",
       "        [107, 114, 131]],\n",
       "\n",
       "       [[171, 169, 169],\n",
       "        [170, 168, 168],\n",
       "        [173, 171, 170],\n",
       "        ...,\n",
       "        [109, 116, 133],\n",
       "        [111, 118, 135],\n",
       "        [113, 120, 137]],\n",
       "\n",
       "       [[168, 164, 163],\n",
       "        [174, 170, 169],\n",
       "        [179, 175, 174],\n",
       "        ...,\n",
       "        [113, 120, 139],\n",
       "        [116, 123, 142],\n",
       "        [120, 127, 146]],\n",
       "\n",
       "       ...,\n",
       "\n",
       "       [[168, 161, 158],\n",
       "        [159, 152, 149],\n",
       "        [184, 177, 174],\n",
       "        ...,\n",
       "        [180, 183, 187],\n",
       "        [181, 184, 189],\n",
       "        [189, 192, 196]],\n",
       "\n",
       "       [[157, 150, 147],\n",
       "        [140, 133, 130],\n",
       "        [178, 171, 168],\n",
       "        ...,\n",
       "        [183, 187, 188],\n",
       "        [182, 185, 189],\n",
       "        [182, 186, 187]],\n",
       "\n",
       "       [[175, 168, 165],\n",
       "        [189, 182, 179],\n",
       "        [177, 170, 167],\n",
       "        ...,\n",
       "        [222, 226, 227],\n",
       "        [205, 209, 210],\n",
       "        [193, 197, 198]]], dtype=uint8)"
      ]
     },
     "execution_count": 27,
     "metadata": {},
     "output_type": "execute_result"
    }
   ],
   "source": [
    "cv.rectangle(img, (830,30),(1000,200),(0,0,255),2) # 직사각형 그리기\n",
    "cv.putText(img, 'laugh', (830,24), cv.FONT_HERSHEY_SIMPLEX, 1, (255,0,0), 2) # 글씨 쓰기"
   ]
  },
  {
   "cell_type": "code",
   "execution_count": null,
   "metadata": {},
   "outputs": [],
   "source": [
    "plt.figure(figsize=(12,8))\n",
    "plt.imshow(cv.cvtColor(img, cv.COLOR_BGR2RGB))\n",
    "plt.axis('off')\n",
    "plt.show()"
   ]
  }
 ],
 "metadata": {
  "kernelspec": {
   "display_name": "Python [conda env:base] *",
   "language": "python",
   "name": "conda-base-py"
  },
  "language_info": {
   "codemirror_mode": {
    "name": "ipython",
    "version": 3
   },
   "file_extension": ".py",
   "mimetype": "text/x-python",
   "name": "python",
   "nbconvert_exporter": "python",
   "pygments_lexer": "ipython3",
   "version": "3.12.7"
  }
 },
 "nbformat": 4,
 "nbformat_minor": 4
}
