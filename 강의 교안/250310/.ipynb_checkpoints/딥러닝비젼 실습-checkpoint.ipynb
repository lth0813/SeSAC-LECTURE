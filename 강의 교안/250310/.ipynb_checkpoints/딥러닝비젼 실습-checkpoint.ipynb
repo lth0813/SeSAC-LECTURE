{
 "cells": [
  {
   "cell_type": "code",
   "execution_count": 1,
   "metadata": {},
   "outputs": [
    {
     "name": "stdout",
     "output_type": "stream",
     "text": [
      "Collecting opencv-python\n",
      "  Downloading opencv_python-4.11.0.86-cp37-abi3-win_amd64.whl.metadata (20 kB)\n",
      "Requirement already satisfied: numpy>=1.21.2 in c:\\programdata\\anaconda3\\lib\\site-packages (from opencv-python) (1.26.4)\n",
      "Downloading opencv_python-4.11.0.86-cp37-abi3-win_amd64.whl (39.5 MB)\n",
      "   ---------------------------------------- 0.0/39.5 MB ? eta -:--:--\n",
      "   -- ------------------------------------- 2.1/39.5 MB 23.5 MB/s eta 0:00:02\n",
      "   ----- ---------------------------------- 5.2/39.5 MB 21.3 MB/s eta 0:00:02\n",
      "   --------- ------------------------------ 9.7/39.5 MB 18.3 MB/s eta 0:00:02\n",
      "   -------------- ------------------------- 14.2/39.5 MB 18.9 MB/s eta 0:00:02\n",
      "   ---------------- ----------------------- 16.3/39.5 MB 19.3 MB/s eta 0:00:02\n",
      "   -------------------- ------------------- 20.4/39.5 MB 18.2 MB/s eta 0:00:02\n",
      "   ---------------------- ----------------- 22.0/39.5 MB 16.2 MB/s eta 0:00:02\n",
      "   ------------------------ --------------- 24.1/39.5 MB 15.4 MB/s eta 0:00:01\n",
      "   --------------------------- ------------ 27.3/39.5 MB 15.6 MB/s eta 0:00:01\n",
      "   -------------------------------- ------- 31.7/39.5 MB 15.7 MB/s eta 0:00:01\n",
      "   ----------------------------------- ---- 34.9/39.5 MB 15.7 MB/s eta 0:00:01\n",
      "   -------------------------------------- - 38.0/39.5 MB 15.9 MB/s eta 0:00:01\n",
      "   ---------------------------------------- 39.5/39.5 MB 15.2 MB/s eta 0:00:00\n",
      "Installing collected packages: opencv-python\n",
      "Successfully installed opencv-python-4.11.0.86\n"
     ]
    }
   ],
   "source": [
    "!pip install opencv-python"
   ]
  },
  {
   "cell_type": "code",
   "execution_count": 8,
   "metadata": {},
   "outputs": [],
   "source": [
    "import cv2 as cv"
   ]
  },
  {
   "cell_type": "code",
   "execution_count": 9,
   "metadata": {},
   "outputs": [],
   "source": [
    "import sys"
   ]
  },
  {
   "cell_type": "code",
   "execution_count": 10,
   "metadata": {},
   "outputs": [],
   "source": [
    "img=cv.imread('./image/soccer.jpg')"
   ]
  },
  {
   "cell_type": "code",
   "execution_count": 11,
   "metadata": {},
   "outputs": [],
   "source": [
    "if img is None:\n",
    "    sys.exit('파일을 찾을 수 없습니다.')"
   ]
  },
  {
   "cell_type": "code",
   "execution_count": 12,
   "metadata": {},
   "outputs": [],
   "source": [
    "cv.imshow('Image Display', img)"
   ]
  },
  {
   "cell_type": "code",
   "execution_count": 13,
   "metadata": {},
   "outputs": [
    {
     "data": {
      "text/plain": [
       "-1"
      ]
     },
     "execution_count": 13,
     "metadata": {},
     "output_type": "execute_result"
    }
   ],
   "source": [
    "cv.waitKey()"
   ]
  },
  {
   "cell_type": "code",
   "execution_count": 14,
   "metadata": {},
   "outputs": [],
   "source": [
    "cv.destroyAllWindows()"
   ]
  },
  {
   "cell_type": "code",
   "execution_count": 15,
   "metadata": {},
   "outputs": [],
   "source": [
    "img=cv.imread('./image/soccer.jpg')\n",
    "\n",
    "if img is None:\n",
    "    sys.exit('파일을 찾을 수 없습니다.')\n",
    "\n",
    "gray=cv.cvtColor(img, cv.COLOR_BGR2GRAY)\n",
    "gray_small=cv.resize(gray, dsize=(0,0), fx=0.5, fy=0.5)\n",
    "\n",
    "cv.imwrite('soccer_gray.jpg', gray)\n",
    "cv.imwrite('soccer_gray_small.jpg', gray_small)\n",
    "\n",
    "cv.imshow('Color Image', img)\n",
    "cv.imshow('Gray Image', gray)\n",
    "cv.imshow('Gray Image Small', gray_small)\n",
    "\n",
    "cv.waitKey()\n",
    "cv.destroyAllWindows()"
   ]
  },
  {
   "cell_type": "markdown",
   "metadata": {},
   "source": [
    "카메라 연결"
   ]
  },
  {
   "cell_type": "code",
   "execution_count": 16,
   "metadata": {},
   "outputs": [],
   "source": [
    "import cv2 as cv\n",
    "import sys"
   ]
  },
  {
   "cell_type": "code",
   "execution_count": 17,
   "metadata": {},
   "outputs": [],
   "source": [
    "cap=cv.VideoCapture(0, cv.CAP_DSHOW) # 카메라와 연결 시도"
   ]
  },
  {
   "cell_type": "code",
   "execution_count": 18,
   "metadata": {},
   "outputs": [],
   "source": [
    "if not cap.isOpened():\n",
    "    sys.exit('카메라 연결 실패')"
   ]
  },
  {
   "cell_type": "code",
   "execution_count": 19,
   "metadata": {},
   "outputs": [],
   "source": [
    "while True:\n",
    "    ret, frame=cap.read() # 비디오를 구성하는 프레임 획득\n",
    "    if not ret:\n",
    "        print('프레임 획득에 실패하여 루프를 나갑니다.')\n",
    "        break\n",
    "\n",
    "    cv.imshow('Video Display', frame)\n",
    "    \n",
    "    key=cv.waitKey(1) # 1밀리초 동안 키보드 입력 기다림\n",
    "    if key==ord('q'): # 'q' 키가 들어오면 루프를 빠져나감\n",
    "        break\n",
    "\n",
    "cap.release() # 카메라와 연결을 끊음"
   ]
  },
  {
   "cell_type": "code",
   "execution_count": 20,
   "metadata": {},
   "outputs": [],
   "source": [
    "cv.destroyAllWindows()"
   ]
  },
  {
   "cell_type": "markdown",
   "metadata": {},
   "source": [
    "비디오를 구성하는 프레임 획득"
   ]
  },
  {
   "cell_type": "code",
   "execution_count": 27,
   "metadata": {},
   "outputs": [],
   "source": [
    "import cv2 as cv\n",
    "import numpy as np\n",
    "import sys"
   ]
  },
  {
   "cell_type": "code",
   "execution_count": 28,
   "metadata": {},
   "outputs": [],
   "source": [
    "cap=cv.VideoCapture(0, cv.CAP_DSHOW) # 카메라와 연결 시도"
   ]
  },
  {
   "cell_type": "code",
   "execution_count": 29,
   "metadata": {},
   "outputs": [],
   "source": [
    "if not cap.isOpened():\n",
    "    sys.exit('카메라 연결 실패')"
   ]
  },
  {
   "cell_type": "code",
   "execution_count": 30,
   "metadata": {},
   "outputs": [],
   "source": [
    "frames = []\n",
    "while True:\n",
    "    ret, frame=cap.read() # 비디오를 구성하는 프레임 획득\n",
    "    \n",
    "    if not ret:\n",
    "        print('프레임 획득에 실패하여 루프를 나갑니다.')\n",
    "        break\n",
    "        \n",
    "    cv.imshow('Video Display', frame)\n",
    "    \n",
    "    key=cv.waitKey(1) # 1밀리초 동안 키보드 입력 기다림\n",
    "    if key==ord('c'): # 'c' 키가 들어오면 프레임을 리스트에 추가\n",
    "        frames.append(frame)\n",
    "    elif key==ord('q'): # 'q' 키가 들어오면 루프를 빠져나감\n",
    "        break\n",
    "\n",
    "cap.release() # 카메라와 연결을 끊음"
   ]
  },
  {
   "cell_type": "code",
   "execution_count": 31,
   "metadata": {},
   "outputs": [],
   "source": [
    "cv.destroyAllWindows()"
   ]
  },
  {
   "cell_type": "code",
   "execution_count": 33,
   "metadata": {},
   "outputs": [],
   "source": [
    "if len(frames) > 0:\n",
    "    imgs=frames[0]\n",
    "    for i in range(1, min(3, len(frames))):\n",
    "        imgs=np.hstack((imgs, frames[i]))\n",
    "    \n",
    "    cv.imshow('collected Frames', imgs)\n",
    "    \n",
    "    cv.waitKey()\n",
    "    cv.destroyAllWindows()"
   ]
  },
  {
   "cell_type": "markdown",
   "metadata": {},
   "source": [
    "직사각형 그리기"
   ]
  },
  {
   "cell_type": "code",
   "execution_count": 51,
   "metadata": {},
   "outputs": [],
   "source": [
    "import cv2 as cv\n",
    "import sys"
   ]
  },
  {
   "cell_type": "code",
   "execution_count": 79,
   "metadata": {},
   "outputs": [],
   "source": [
    "img=cv.imread('./image/girl_laughing.jpg')"
   ]
  },
  {
   "cell_type": "code",
   "execution_count": 80,
   "metadata": {},
   "outputs": [],
   "source": [
    "if img is None:\n",
    "    sys.exit('파일을 찾을 수 없습니다.')"
   ]
  },
  {
   "cell_type": "code",
   "execution_count": 81,
   "metadata": {},
   "outputs": [
    {
     "data": {
      "text/plain": [
       "array([[[ 53,  70, 109],\n",
       "        [ 53,  70, 109],\n",
       "        [ 52,  69, 108],\n",
       "        ...,\n",
       "        [ 44,  42,  54],\n",
       "        [ 50,  48,  60],\n",
       "        [ 57,  55,  67]],\n",
       "\n",
       "       [[ 56,  73, 112],\n",
       "        [ 55,  72, 111],\n",
       "        [ 51,  68, 107],\n",
       "        ...,\n",
       "        [ 42,  40,  52],\n",
       "        [ 45,  43,  55],\n",
       "        [ 51,  49,  61]],\n",
       "\n",
       "       [[ 55,  72, 111],\n",
       "        [ 54,  71, 110],\n",
       "        [ 51,  68, 107],\n",
       "        ...,\n",
       "        [ 41,  39,  51],\n",
       "        [ 44,  42,  54],\n",
       "        [ 50,  48,  60]],\n",
       "\n",
       "       ...,\n",
       "\n",
       "       [[ 54,  75, 130],\n",
       "        [ 50,  73, 129],\n",
       "        [ 54,  77, 133],\n",
       "        ...,\n",
       "        [ 63,  76, 122],\n",
       "        [ 62,  75, 119],\n",
       "        [ 68,  81, 125]],\n",
       "\n",
       "       [[ 50,  74, 128],\n",
       "        [ 48,  71, 127],\n",
       "        [ 53,  76, 132],\n",
       "        ...,\n",
       "        [ 66,  79, 125],\n",
       "        [ 62,  75, 119],\n",
       "        [ 66,  79, 123]],\n",
       "\n",
       "       [[ 51,  72, 133],\n",
       "        [ 50,  72, 130],\n",
       "        [ 51,  70, 127],\n",
       "        ...,\n",
       "        [ 72,  86, 139],\n",
       "        [ 64,  80, 133],\n",
       "        [ 69,  84, 140]]], dtype=uint8)"
      ]
     },
     "execution_count": 81,
     "metadata": {},
     "output_type": "execute_result"
    }
   ],
   "source": [
    "cv.rectangle(img, (120,13),(262,175),(0,0,255),2) # 직사각형 그리기\n",
    "cv.putText(img, 'laugh', (150,200), cv.FONT_HERSHEY_SIMPLEX, 1, (255,0,0), 2) # 글씨 쓰기"
   ]
  },
  {
   "cell_type": "code",
   "execution_count": 82,
   "metadata": {},
   "outputs": [],
   "source": [
    "cv.imshow('Draw', img)"
   ]
  },
  {
   "cell_type": "code",
   "execution_count": 83,
   "metadata": {},
   "outputs": [
    {
     "data": {
      "text/plain": [
       "100"
      ]
     },
     "execution_count": 83,
     "metadata": {},
     "output_type": "execute_result"
    }
   ],
   "source": [
    "cv.waitKey()"
   ]
  },
  {
   "cell_type": "code",
   "execution_count": 84,
   "metadata": {},
   "outputs": [],
   "source": [
    "cv.destroyAllWindows()"
   ]
  }
 ],
 "metadata": {
  "kernelspec": {
   "display_name": "base",
   "language": "python",
   "name": "python3"
  },
  "language_info": {
   "codemirror_mode": {
    "name": "ipython",
    "version": 3
   },
   "file_extension": ".py",
   "mimetype": "text/x-python",
   "name": "python",
   "nbconvert_exporter": "python",
   "pygments_lexer": "ipython3",
   "version": "3.12.7"
  }
 },
 "nbformat": 4,
 "nbformat_minor": 2
}
