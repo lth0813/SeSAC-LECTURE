{
 "cells": [
  {
   "cell_type": "markdown",
   "metadata": {
    "id": "l1q5e2likonf",
    "nbpresent": {
     "id": "a00a5059-101b-4f62-bac3-0c6049620deb"
    }
   },
   "source": [
    "# 11장 데이터 분석을 위한 패키지"
   ]
  },
  {
   "cell_type": "markdown",
   "metadata": {
    "id": "vzLh3bJ4konh"
   },
   "source": [
    "## 11.1 배열 데이터를 효과적으로 다루는 NumPy"
   ]
  },
  {
   "cell_type": "markdown",
   "metadata": {
    "id": "9DHTFTyfkoni"
   },
   "source": [
    "- NumPy는 파이썬으로 과학 연산을 쉽고 빠르게 할 수 있게 만든 패키지\n",
    "- NumPy를 이용하 면 파이썬의 기본 데이터 형식과 내장 함수를 이용하는 것보다 다차원 배열 데이터를 효과적으로 처리\n",
    "- NumPy 홈페이지 (http://www.numpy.org)"
   ]
  },
  {
   "cell_type": "markdown",
   "metadata": {
    "id": "svRGDDI4konj",
    "nbpresent": {
     "id": "18fa478a-80cb-47a5-ae5e-d861a083f7cd"
    }
   },
   "source": [
    "### 배열 생성하기"
   ]
  },
  {
   "cell_type": "markdown",
   "metadata": {
    "id": "fd-c9J6_konk",
    "nbpresent": {
     "id": "053a878b-45b6-4880-8c45-d95f0ab23dc3"
    }
   },
   "source": [
    "- 설치된 NumPy를 이용하려면 먼저 NumPy 패키지를 불러 와야 함\n",
    "- NumPy 패키지를 불러올 때 'import numpy'라고 작성해도 되지만 ‘import ~ as ~ ' 형식을 이용해 NumPy를 불러옴"
   ]
  },
  {
   "cell_type": "code",
   "execution_count": 184,
   "metadata": {
    "id": "Vt6L5_UUkonk",
    "nbpresent": {
     "id": "9e8ce122-b1df-430b-b94c-2511fe66389f"
    }
   },
   "outputs": [],
   "source": [
    "import numpy as np"
   ]
  },
  {
   "cell_type": "markdown",
   "metadata": {
    "id": "MPNJEsV-konl"
   },
   "source": [
    " - 배열(Array)이란 순서가 있는 같은 종류의 데이터가 저장된 집합을 말함\n",
    " - NumPy를 이용해 배열을 처리하기 위해서는 우선 NumPy로 배열을 생성"
   ]
  },
  {
   "cell_type": "markdown",
   "metadata": {
    "id": "C7LZTBcTkonm"
   },
   "source": [
    "#### 시퀀스 데이터로부터 배열 생성"
   ]
  },
  {
   "cell_type": "markdown",
   "metadata": {
    "id": "2mGTxyXbkonn"
   },
   "source": [
    "- 시퀀스 데이터(seqdata)로 NumPy의 배열을 생성하는 방법\n",
    "- arr_obj = np.array(seq_data)\n",
    "- 시퀀스 데이터(seq_data)를 인자로 받아 NumPy의 배열 객체(array object)를 생성\n",
    "- 시퀀스 데이터(sec_data) 로 리스트와 튜플 타입의 데이터를 모두 사용할 수 있지만 주로 리스트 데이터를 이용"
   ]
  },
  {
   "cell_type": "markdown",
   "metadata": {
    "id": "ozwDqHq0kono"
   },
   "source": [
    "- 리스트로부터 NumPy의 1차원 배열을 생성"
   ]
  },
  {
   "cell_type": "code",
   "execution_count": 185,
   "metadata": {
    "id": "h8yTux7fkono",
    "nbpresent": {
     "id": "5f71eb4e-f55e-4f00-96bc-722d7e241a66"
    }
   },
   "outputs": [
    {
     "data": {
      "text/plain": [
       "array([0, 1, 2, 3, 4, 5])"
      ]
     },
     "execution_count": 185,
     "metadata": {},
     "output_type": "execute_result"
    }
   ],
   "source": [
    "import numpy as np\n",
    "\n",
    "data1 = [0, 1, 2, 3, 4, 5]\n",
    "a1 = np.array(data1)\n",
    "a1"
   ]
  },
  {
   "cell_type": "markdown",
   "metadata": {
    "id": "bZyRqib_kono"
   },
   "source": [
    "- 리스트 데이터(data1)를 NumPy의 array() 인자로 넣어서 NumPy 배열을 만들었음"
   ]
  },
  {
   "cell_type": "markdown",
   "metadata": {
    "id": "iB4o4aVqkonp",
    "nbpresent": {
     "id": "6f7c6e9f-8a23-4093-8306-f1d086c93874"
    }
   },
   "source": [
    "- 정수와 실수가 혼합된 리스트 데이터로 NumPy 배열"
   ]
  },
  {
   "cell_type": "code",
   "execution_count": 186,
   "metadata": {
    "id": "0UwoM-oKkonp",
    "nbpresent": {
     "id": "4f067f0f-f488-409b-bd2b-b56b87a767de"
    }
   },
   "outputs": [
    {
     "data": {
      "text/plain": [
       "array([ 0.1,  5. ,  4. , 12. ,  0.5])"
      ]
     },
     "execution_count": 186,
     "metadata": {},
     "output_type": "execute_result"
    }
   ],
   "source": [
    "data2 = [0.1, 5, 4, 12, 0.5]\n",
    "a2 = np.array(data2)\n",
    "a2"
   ]
  },
  {
   "cell_type": "markdown",
   "metadata": {
    "id": "VvXyVBJgkonq"
   },
   "source": [
    "- NumPy에서 인자 로 정수와 실수가 혼합돼 있을 때 모두 실수로 변환"
   ]
  },
  {
   "cell_type": "markdown",
   "metadata": {
    "id": "SjZqT2zGkonq"
   },
   "source": [
    "- NumPy 배열의 속성을 표현하려면 ’ndarray.속성’ 같이 작성\n",
    "- ndarray는 NumPy의 배열 객체"
   ]
  },
  {
   "cell_type": "markdown",
   "metadata": {
    "id": "_MfcKcv0konq",
    "nbpresent": {
     "id": "ffb7631f-cc98-4285-9663-226c09fff590"
    }
   },
   "source": [
    "- 배열 객체의 타입을 확인"
   ]
  },
  {
   "cell_type": "code",
   "execution_count": 187,
   "metadata": {
    "id": "L_dSHX5ckonq",
    "nbpresent": {
     "id": "8c96f42b-7142-4360-b36d-26baaec54605"
    }
   },
   "outputs": [
    {
     "data": {
      "text/plain": [
       "dtype('int64')"
      ]
     },
     "execution_count": 187,
     "metadata": {},
     "output_type": "execute_result"
    }
   ],
   "source": [
    "a1.dtype"
   ]
  },
  {
   "cell_type": "code",
   "execution_count": 188,
   "metadata": {
    "id": "jhKGXGk6konq",
    "nbpresent": {
     "id": "34879198-e061-4749-9bd7-8e0a7820dcd1"
    }
   },
   "outputs": [
    {
     "data": {
      "text/plain": [
       "dtype('float64')"
      ]
     },
     "execution_count": 188,
     "metadata": {},
     "output_type": "execute_result"
    }
   ],
   "source": [
    "a2.dtype"
   ]
  },
  {
   "cell_type": "markdown",
   "metadata": {
    "id": "fWpmODjYkonq"
   },
   "source": [
    "- 기은 32비트 정수 타입(int32)이고, a2는 64비트 실수 타입(float64) "
   ]
  },
  {
   "cell_type": "markdown",
   "metadata": {
    "id": "r6zaErhDkonr",
    "nbpresent": {
     "id": "a214414a-e9a8-4cb1-ac91-5105ffee0cd3"
    }
   },
   "source": [
    "- 리스트 data1과 data2를 NumPy array()의 인자로 넣어서 NumPy의 배열"
   ]
  },
  {
   "cell_type": "markdown",
   "metadata": {
    "id": "MyCfRjA5konr"
   },
   "source": [
    "- anray()에 리스트 데이터를 직접 넣어서 배열 객체를 생성"
   ]
  },
  {
   "cell_type": "code",
   "execution_count": 189,
   "metadata": {
    "id": "Ufxdl9klkonr",
    "nbpresent": {
     "id": "c8f76150-5cb1-48ee-97dc-a21962811c13"
    }
   },
   "outputs": [
    {
     "data": {
      "text/plain": [
       "array([0.5 , 2.  , 0.01, 8.  ])"
      ]
     },
     "execution_count": 189,
     "metadata": {},
     "output_type": "execute_result"
    }
   ],
   "source": [
    "np.array([0.5, 2, 0.01, 8])"
   ]
  },
  {
   "cell_type": "markdown",
   "metadata": {
    "id": "IemmsDjpkons",
    "nbpresent": {
     "id": "39cb565c-2e08-49e3-84b1-c4310ea74a88"
    }
   },
   "source": [
    "- 1차원 배열을 생성했는데 NumPy는 다차원 배열도 생성"
   ]
  },
  {
   "cell_type": "code",
   "execution_count": 190,
   "metadata": {
    "id": "q4yNFvgJkons",
    "nbpresent": {
     "id": "27fe706c-9327-4844-9521-3e436c33a60c"
    }
   },
   "outputs": [
    {
     "data": {
      "text/plain": [
       "array([[1, 2, 3],\n",
       "       [4, 5, 6],\n",
       "       [7, 8, 9]])"
      ]
     },
     "execution_count": 190,
     "metadata": {},
     "output_type": "execute_result"
    }
   ],
   "source": [
    "np.array([[1,2,3], [4,5,6], [7,8,9]])"
   ]
  },
  {
   "cell_type": "markdown",
   "metadata": {
    "id": "FPr3uXL_kons"
   },
   "source": [
    "- 2차원 배열을 표시\n",
    "- NumPy에서는 1차원뿐만 아니라 다차원 배열도 생성"
   ]
  },
  {
   "cell_type": "markdown",
   "metadata": {
    "id": "D8fsc6NEkons",
    "nbpresent": {
     "id": "992c8f6c-4041-4ef1-930b-5ad3f5b4b65d"
    }
   },
   "source": [
    "#### 범위를 지정해 배열 생성"
   ]
  },
  {
   "cell_type": "markdown",
   "metadata": {
    "id": "14D_EvmVkons"
   },
   "source": [
    "- 범위를 지정해 NumPy 배열을 생성하는 방법\n",
    "- NumPy의 arange()를 이용해 NumPy 배열을 생성하는 방법"
   ]
  },
  {
   "cell_type": "markdown",
   "metadata": {
    "id": "kDNVlWYWkons"
   },
   "source": [
    "- arr_obj = np.arange([start,] stop[, step])\n",
    "- start부터 시작해서 stop 전까지 step만큼 계속 더해 NumPy의 배열을 생성\n",
    "- step 이 1 인 경우에는 생략할 수 있어서 ’numpy.arange(start, stop)'처럼 \n",
    "- start가 0인 경우에는 start도 생략하고 'numpy.arange(stop)'처럼 시용"
   ]
  },
  {
   "cell_type": "code",
   "execution_count": 191,
   "metadata": {
    "id": "FhMZYpUlkont",
    "nbpresent": {
     "id": "c1f42511-fc6f-4e62-9cc5-1a72650b5845"
    }
   },
   "outputs": [
    {
     "data": {
      "text/plain": [
       "array([0, 2, 4, 6, 8])"
      ]
     },
     "execution_count": 191,
     "metadata": {},
     "output_type": "execute_result"
    }
   ],
   "source": [
    "np.arange(0, 10, 2)"
   ]
  },
  {
   "cell_type": "code",
   "execution_count": 192,
   "metadata": {
    "id": "Zxsh1acokont",
    "nbpresent": {
     "id": "5f2dd4a9-34e1-4b11-a609-5872b5388bae"
    }
   },
   "outputs": [
    {
     "data": {
      "text/plain": [
       "array([1, 2, 3, 4, 5, 6, 7, 8, 9])"
      ]
     },
     "execution_count": 192,
     "metadata": {},
     "output_type": "execute_result"
    }
   ],
   "source": [
    "np.arange(1, 10)"
   ]
  },
  {
   "cell_type": "code",
   "execution_count": 193,
   "metadata": {
    "id": "6VGSk9cakont",
    "nbpresent": {
     "id": "66eb7421-5131-4042-8663-19a471dc2060"
    }
   },
   "outputs": [
    {
     "data": {
      "text/plain": [
       "array([0, 1, 2, 3, 4])"
      ]
     },
     "execution_count": 193,
     "metadata": {},
     "output_type": "execute_result"
    }
   ],
   "source": [
    "np.arange(5)"
   ]
  },
  {
   "cell_type": "markdown",
   "metadata": {
    "id": "3VjhUejAkont"
   },
   "source": [
    "- NumPy 배열의 arange()를 이용해 생성한 1차원 배열에 '.reshape(m,n)'을 추가하면 m x n 형태의 2차원 배열(행렬)로 변경"
   ]
  },
  {
   "cell_type": "markdown",
   "metadata": {
    "id": "qsCHWhM2kont",
    "nbpresent": {
     "id": "f51d54c3-3da0-463f-9207-c55646d93638"
    }
   },
   "source": [
    "- m x n 행렬의 구조\n",
    "- NumPy 배열에서 행과 열의 위치는 각각 0부터 시작"
   ]
  },
  {
   "cell_type": "code",
   "execution_count": 194,
   "metadata": {
    "id": "ADYaG-2_kont",
    "nbpresent": {
     "id": "63b42c5c-ac60-4432-9197-ed176bf2d2e0"
    },
    "scrolled": true
   },
   "outputs": [
    {
     "data": {
      "text/plain": [
       "array([[ 0,  1,  2],\n",
       "       [ 3,  4,  5],\n",
       "       [ 6,  7,  8],\n",
       "       [ 9, 10, 11]])"
      ]
     },
     "execution_count": 194,
     "metadata": {},
     "output_type": "execute_result"
    }
   ],
   "source": [
    "np.arange(12).reshape(4,3)"
   ]
  },
  {
   "cell_type": "markdown",
   "metadata": {
    "id": "UI9yl3-Gkonu"
   },
   "source": [
    "- arange(12)로 12개의 숫자를 생성한 후 reshaped,3)으로 4 x 3 행렬"
   ]
  },
  {
   "cell_type": "markdown",
   "metadata": {
    "id": "uoaDKjgFkonu"
   },
   "source": [
    "- arange()로 생성되는 배열의 원소 개수와 reshape(m,n)의 m x n 개수는 같아야 함"
   ]
  },
  {
   "cell_type": "markdown",
   "metadata": {
    "id": "cuPxDXLykonu",
    "nbpresent": {
     "id": "3e6e8dfd-88cb-472d-8c78-5ec174ea5193"
    }
   },
   "source": [
    "- NumPy 배열의 형태를 알기 위해서는 ’ndarray.shape‘를 실행"
   ]
  },
  {
   "cell_type": "code",
   "execution_count": 195,
   "metadata": {
    "id": "ZOZI0Ef-konu"
   },
   "outputs": [
    {
     "data": {
      "text/plain": [
       "(4, 3)"
      ]
     },
     "execution_count": 195,
     "metadata": {},
     "output_type": "execute_result"
    }
   ],
   "source": [
    "b1 = np.arange(12).reshape(4,3)\n",
    "b1.shape"
   ]
  },
  {
   "cell_type": "markdown",
   "metadata": {
    "id": "zoGeU8C7konu"
   },
   "source": [
    "- b1에는 'reshape(4,3)'을 통해 만들어진 4 x 3 행렬이 할당\n",
    "- m x n 행렬(2차원 배 열)의 경우에는 'ndarray.shape'를 수행하면 (m,n)이 출력"
   ]
  },
  {
   "cell_type": "markdown",
   "metadata": {
    "id": "B-0tTyhukonu"
   },
   "source": [
    "- 4x3 행렬인 b1의 경우 'b1.shape’을 수행하면 (4, 3)이 출력"
   ]
  },
  {
   "cell_type": "markdown",
   "metadata": {
    "id": "tiU42-IJkonu"
   },
   "source": [
    "- n개의 요소를 갖 는 1차원 배열의 경우에는 'ndarray.shape'를 수행하면 '(n,)' 처럼 표시"
   ]
  },
  {
   "cell_type": "code",
   "execution_count": 196,
   "metadata": {
    "id": "bR5OTUeokonu"
   },
   "outputs": [
    {
     "data": {
      "text/plain": [
       "(5,)"
      ]
     },
     "execution_count": 196,
     "metadata": {},
     "output_type": "execute_result"
    }
   ],
   "source": [
    "b2 = np.arange(5)\n",
    "b2.shape"
   ]
  },
  {
   "cell_type": "markdown",
   "metadata": {
    "id": "bbbzIJsVkonu"
   },
   "source": [
    "- 생성한 변수 b1에는 5개의 요소를 갖는 1차원 배열이 할당돼 있으므로 \n",
    "- 'b2.Shape’을 수행하면 결과로 (5,)가 나옴"
   ]
  },
  {
   "cell_type": "markdown",
   "metadata": {
    "id": "0FJjXszRkonv"
   },
   "source": [
    "- 범위의 시작과 끝을 지정하고 데이터의 개수를 지정해 NumPy 배열을 생성하는 linspace()"
   ]
  },
  {
   "cell_type": "markdown",
   "metadata": {
    "id": "9pxq7xTykonv"
   },
   "source": [
    "- arr_obj = np.linspace(start, stop[, num])\n",
    "- linspace()는 start부터 stop까지 num개의 NumPy 배열을 생성\n",
    "- num을 지정하지 않으면 50으로 간주"
   ]
  },
  {
   "cell_type": "markdown",
   "metadata": {
    "id": "noB7M1i1konv"
   },
   "source": [
    "- 1부터 10까지 10개의 데이터를 생성"
   ]
  },
  {
   "cell_type": "code",
   "execution_count": 197,
   "metadata": {
    "id": "aGMIpMdIkonv"
   },
   "outputs": [
    {
     "data": {
      "text/plain": [
       "array([ 1.,  2.,  3.,  4.,  5.,  6.,  7.,  8.,  9., 10.])"
      ]
     },
     "execution_count": 197,
     "metadata": {},
     "output_type": "execute_result"
    }
   ],
   "source": [
    "np.linspace(1, 10, 10)"
   ]
  },
  {
   "cell_type": "markdown",
   "metadata": {
    "id": "JK-Yz-ySkonv"
   },
   "source": [
    "- 지정된 범위(1〜10)에 해당하는 10개의 데이터가 잘 생성"
   ]
  },
  {
   "cell_type": "markdown",
   "metadata": {
    "id": "aYN98a_ykonv"
   },
   "source": [
    "- 0부터 파이까지 동일한 간격으로 나눈 20개의 데이터를 생성"
   ]
  },
  {
   "cell_type": "code",
   "execution_count": 198,
   "metadata": {
    "id": "IDZuLqaJkonv"
   },
   "outputs": [
    {
     "data": {
      "text/plain": [
       "array([0.        , 0.16534698, 0.33069396, 0.49604095, 0.66138793,\n",
       "       0.82673491, 0.99208189, 1.15742887, 1.32277585, 1.48812284,\n",
       "       1.65346982, 1.8188168 , 1.98416378, 2.14951076, 2.31485774,\n",
       "       2.48020473, 2.64555171, 2.81089869, 2.97624567, 3.14159265])"
      ]
     },
     "execution_count": 198,
     "metadata": {},
     "output_type": "execute_result"
    }
   ],
   "source": [
    "np.linspace(0, np.pi, 20 )"
   ]
  },
  {
   "cell_type": "markdown",
   "metadata": {
    "id": "ijz5MJVVkonv"
   },
   "source": [
    "- 사용한 'np.pi'는 NumPy메서 파이를 입력할 때 이용"
   ]
  },
  {
   "cell_type": "markdown",
   "metadata": {
    "id": "7PoYP3qMkonv"
   },
   "source": [
    "#### 특별한 형태의 배열 생성"
   ]
  },
  {
   "cell_type": "markdown",
   "metadata": {
    "id": "fcFGcFmmkonw"
   },
   "source": [
    " - 특별한 형태의 배열을 생성하는 방법"
   ]
  },
  {
   "cell_type": "markdown",
   "metadata": {
    "id": "tXfzggW_konw"
   },
   "source": [
    "- 모든 원소가 0 혹은 1인 다차 원 배열을 만들기 위해서는 zeros()와 ones()를 이용"
   ]
  },
  {
   "cell_type": "markdown",
   "metadata": {
    "id": "OCSoqT7mkonw"
   },
   "source": [
    "- arr_zero_n = np. zeros (n) \n",
    "- arr_zero_mxn = np.zeros((m,n)) \n",
    "- arr_one_n = np.ones(n) \n",
    "- arr_one_mxn = np.ones((m/n))"
   ]
  },
  {
   "cell_type": "markdown",
   "metadata": {
    "id": "MNxVzC3Ikonw"
   },
   "source": [
    "- zeros()는 모든 원소가 0, ones()는 모든 원소가 1 인 다차원 배열을 생성"
   ]
  },
  {
   "cell_type": "markdown",
   "metadata": {
    "id": "PR1IoKYbkonw"
   },
   "source": [
    "- n개의 원소가 모두 0을 갖는 1차원 배열을 만들려면 np.zeros(n)\n",
    "- 모든 원소가 0인 m x n 형태의 2차원 배열(행렬)을 생성하려면 np.zeros((m, n))을 이용"
   ]
  },
  {
   "cell_type": "markdown",
   "metadata": {
    "id": "lpvTGcmTkonw"
   },
   "source": [
    "- nes()도 마찬가지로, np.ones(n)과 np.ones((m,n))을 이용"
   ]
  },
  {
   "cell_type": "markdown",
   "metadata": {
    "id": "Vso2QD7Ikonw"
   },
   "source": [
    "- zero() 함수로 원소의 개수가 10개(n=10)인 1차원 배열을 생성"
   ]
  },
  {
   "cell_type": "code",
   "execution_count": 199,
   "metadata": {
    "id": "kRaZBJE9konw",
    "nbpresent": {
     "id": "ec1bca5f-3476-4abb-928f-6c071fac203a"
    }
   },
   "outputs": [
    {
     "data": {
      "text/plain": [
       "array([0., 0., 0., 0., 0., 0., 0., 0., 0., 0.])"
      ]
     },
     "execution_count": 199,
     "metadata": {},
     "output_type": "execute_result"
    }
   ],
   "source": [
    "np.zeros(10)"
   ]
  },
  {
   "cell_type": "markdown",
   "metadata": {
    "id": "gD3s3ATxkonw"
   },
   "source": [
    "- zero()를 이용해 3 x 4의 2차원 배열을 생성"
   ]
  },
  {
   "cell_type": "code",
   "execution_count": 200,
   "metadata": {
    "id": "xdHsVFUlkonw",
    "nbpresent": {
     "id": "daee3ad5-0f22-44b2-b473-8980d1a58e53"
    }
   },
   "outputs": [
    {
     "data": {
      "text/plain": [
       "array([[0., 0., 0., 0.],\n",
       "       [0., 0., 0., 0.],\n",
       "       [0., 0., 0., 0.]])"
      ]
     },
     "execution_count": 200,
     "metadata": {},
     "output_type": "execute_result"
    }
   ],
   "source": [
    "np.zeros((3,4))"
   ]
  },
  {
   "cell_type": "markdown",
   "metadata": {
    "id": "k1mBKAwQkonx"
   },
   "source": [
    "- ones()으로 1차원 배열과 2차원 배열을 생성"
   ]
  },
  {
   "cell_type": "code",
   "execution_count": 201,
   "metadata": {
    "id": "ciYtgtLBkonx",
    "nbpresent": {
     "id": "e906fa8c-b178-45b9-9591-31f3af9ac3ae"
    }
   },
   "outputs": [
    {
     "data": {
      "text/plain": [
       "array([1., 1., 1., 1., 1.])"
      ]
     },
     "execution_count": 201,
     "metadata": {},
     "output_type": "execute_result"
    }
   ],
   "source": [
    "np.ones(5)"
   ]
  },
  {
   "cell_type": "code",
   "execution_count": 202,
   "metadata": {
    "id": "SSM5iPFykonx",
    "nbpresent": {
     "id": "4ca86a90-74ed-42a2-a46d-a42d4a28ddb5"
    }
   },
   "outputs": [
    {
     "data": {
      "text/plain": [
       "array([[1., 1., 1., 1., 1.],\n",
       "       [1., 1., 1., 1., 1.],\n",
       "       [1., 1., 1., 1., 1.]])"
      ]
     },
     "execution_count": 202,
     "metadata": {},
     "output_type": "execute_result"
    }
   ],
   "source": [
    "np.ones((3,5))"
   ]
  },
  {
   "cell_type": "markdown",
   "metadata": {
    "id": "hMKq5hMBkonx",
    "nbpresent": {
     "id": "cdda517f-7dda-4747-82fb-291fbdd34149"
    }
   },
   "source": [
    "- 단위행렬(Identity matrix)을 생성하는 방법"
   ]
  },
  {
   "cell_type": "markdown",
   "metadata": {
    "id": "9ZaRMLxLkonx"
   },
   "source": [
    "- 단위행렬은 n x n인 정사 형 행렬에서 주 대각선이 모두 1 이고 나머지는 0인 행렬을 의미\n",
    "- arr_I = np.eye(n)\n",
    "- n x n의 단위행렬을 갖는 2차원 배열 객체를 생성"
   ]
  },
  {
   "cell_type": "markdown",
   "metadata": {
    "id": "lVzC2jmlkonx"
   },
   "source": [
    "3 X 3 단위행렬을 생성"
   ]
  },
  {
   "cell_type": "code",
   "execution_count": 203,
   "metadata": {
    "id": "PXhqB__rkonx",
    "nbpresent": {
     "id": "963a3cc5-3883-435d-a090-afad780451ea"
    }
   },
   "outputs": [
    {
     "data": {
      "text/plain": [
       "array([[1., 0., 0.],\n",
       "       [0., 1., 0.],\n",
       "       [0., 0., 1.]])"
      ]
     },
     "execution_count": 203,
     "metadata": {},
     "output_type": "execute_result"
    }
   ],
   "source": [
    "np.eye(3)"
   ]
  },
  {
   "cell_type": "markdown",
   "metadata": {
    "id": "tbc2zpxWkonx",
    "nbpresent": {
     "id": "8439f472-17a2-4baa-86bc-ff64e9b3d704"
    }
   },
   "source": [
    "#### 배열의 데이터 타입 변환"
   ]
  },
  {
   "cell_type": "markdown",
   "metadata": {
    "id": "Vi-f4BABkonx"
   },
   "source": [
    "- NumPy의 배열은 숫자뿐만 아니라 문자열도 원소로 가질 수 있음"
   ]
  },
  {
   "cell_type": "markdown",
   "metadata": {
    "id": "Jb5u7RhDkonx"
   },
   "source": [
    "- 문자열이 원소인 NumPy 배열을 생성"
   ]
  },
  {
   "cell_type": "code",
   "execution_count": 204,
   "metadata": {
    "id": "8iOceRPKkonx",
    "nbpresent": {
     "id": "645ae3c6-8414-435e-a321-26c0ecfe5485"
    }
   },
   "outputs": [
    {
     "data": {
      "text/plain": [
       "array(['1.5', '0.62', '2', '3.14', '3.141592'], dtype='<U8')"
      ]
     },
     "execution_count": 204,
     "metadata": {},
     "output_type": "execute_result"
    }
   ],
   "source": [
    "np.array(['1.5', '0.62', '2', '3.14', '3.141592'])"
   ]
  },
  {
   "cell_type": "markdown",
   "metadata": {
    "id": "7SVQN5mgkony"
   },
   "source": [
    "- dtype은 NumPy 데이터의 형식(타입)을 표시\n",
    "- 'rdtype= <U8'의 의미는 NumPy 데이터의 형식이 유니코드이며 문자의 수는 최대 8개라는 것"
   ]
  },
  {
   "cell_type": "markdown",
   "metadata": {
    "id": "2GgqAntfkony"
   },
   "source": [
    "- NumPy 배열이 문자열(숫자 표시)로 돼 있다면 연산을 위해서는 문자열을 숫자{정수나 실수)로 변환"
   ]
  },
  {
   "cell_type": "markdown",
   "metadata": {
    "id": "InQcmV60kony"
   },
   "source": [
    "- NumPy 배열의 형 변환은 astype()으로 할 수 있음\n",
    "- num_arr = str_arr.astype (dtype)"
   ]
  },
  {
   "cell_type": "markdown",
   "metadata": {
    "id": "buhCCL7akony"
   },
   "source": [
    "- NumPy 배열의 모든 요소를 지정한 데이터 타입(dtype)으로 변환"
   ]
  },
  {
   "cell_type": "markdown",
   "metadata": {
    "id": "pTWOEd0Mkony"
   },
   "source": [
    "- 문자열로 구성된 NumPy 배열의 모든 원소를 정수나 실수로 변환하거나, 정수를 실수로 혹은 실수를 정수로 변환\n",
    "- 정수나 실수를 문자열로 변환할 수도 있음\n",
    "- 정수로 바꾸려면 dtype에 int를 입력하고, 실수로 바꾸려면 float를 입력하며, 문자열로 바꾸려면 str을 입력"
   ]
  },
  {
   "cell_type": "markdown",
   "metadata": {
    "id": "QZW6ZElzkony",
    "nbpresent": {
     "id": "df60ef51-c70f-4dac-b97d-17e4b6bcd2ea"
    }
   },
   "source": [
    "- 실수가 입력된 문자열을 원소로 갖는 NumPy 배열을 실수 타입으로 변환"
   ]
  },
  {
   "cell_type": "code",
   "execution_count": 205,
   "metadata": {
    "id": "N0uUPdEQkony",
    "nbpresent": {
     "id": "be3ce681-c2f1-4b77-938b-d731ff638994"
    }
   },
   "outputs": [
    {
     "data": {
      "text/plain": [
       "array([1.567, 0.123, 5.123, 9.   , 8.   ])"
      ]
     },
     "execution_count": 205,
     "metadata": {},
     "output_type": "execute_result"
    }
   ],
   "source": [
    "str_a1 = np.array(['1.567', '0.123', '5.123', '9', '8'])\n",
    "num_a1 = str_a1.astype(float)\n",
    "num_a1"
   ]
  },
  {
   "cell_type": "markdown",
   "metadata": {
    "id": "Mm8upjMVkony"
   },
   "source": [
    "- 'nanray.dtype'을 이용해 NumPy의 데이터 타입을 확인\n",
    "- 변환 전후의 NumPy 배열의 데이터 타입을 확인"
   ]
  },
  {
   "cell_type": "code",
   "execution_count": 206,
   "metadata": {
    "id": "S0O_0p1Jkony"
   },
   "outputs": [
    {
     "data": {
      "text/plain": [
       "dtype('<U5')"
      ]
     },
     "execution_count": 206,
     "metadata": {},
     "output_type": "execute_result"
    }
   ],
   "source": [
    "str_a1.dtype"
   ]
  },
  {
   "cell_type": "code",
   "execution_count": 207,
   "metadata": {
    "id": "Qj9Eb8HXkony",
    "nbpresent": {
     "id": "a62c4cd9-9b6c-4a93-ab3c-2433ceac4255"
    }
   },
   "outputs": [
    {
     "data": {
      "text/plain": [
       "dtype('float64')"
      ]
     },
     "execution_count": 207,
     "metadata": {},
     "output_type": "execute_result"
    }
   ],
   "source": [
    "num_a1.dtype"
   ]
  },
  {
   "cell_type": "markdown",
   "metadata": {
    "id": "p3E2rsO_konz"
   },
   "source": [
    "- 변수 str_a1 은 dtype이 유니코드(U)였는데 변수 num_a1 은 dtype이 실수(float)로 변경된 것"
   ]
  },
  {
   "cell_type": "markdown",
   "metadata": {
    "id": "I8xZvVKOkonz"
   },
   "source": [
    "- 정수를 문자열 원소로 갖는 NumPy 배열을 정수로 변환"
   ]
  },
  {
   "cell_type": "code",
   "execution_count": 208,
   "metadata": {
    "id": "qtUV8OHLkonz",
    "nbpresent": {
     "id": "7540392f-5b0c-4b3d-af05-d16b033e489f"
    }
   },
   "outputs": [
    {
     "data": {
      "text/plain": [
       "array([1, 3, 5, 7, 9])"
      ]
     },
     "execution_count": 208,
     "metadata": {},
     "output_type": "execute_result"
    }
   ],
   "source": [
    "str_a2 = np.array(['1', '3', '5', '7', '9'])\n",
    "num_a2 = str_a2.astype(int)\n",
    "num_a2"
   ]
  },
  {
   "cell_type": "markdown",
   "metadata": {
    "id": "_kLmD_AWkonz"
   },
   "source": [
    "- 'ndarray.dtype'으로 NumPy 배열의 데이터 타입을 확인"
   ]
  },
  {
   "cell_type": "code",
   "execution_count": 209,
   "metadata": {
    "id": "peOiHHn5konz"
   },
   "outputs": [
    {
     "data": {
      "text/plain": [
       "dtype('<U1')"
      ]
     },
     "execution_count": 209,
     "metadata": {},
     "output_type": "execute_result"
    }
   ],
   "source": [
    "str_a2.dtype"
   ]
  },
  {
   "cell_type": "code",
   "execution_count": 210,
   "metadata": {
    "id": "gPdm7zaZkonz"
   },
   "outputs": [
    {
     "data": {
      "text/plain": [
       "dtype('int64')"
      ]
     },
     "execution_count": 210,
     "metadata": {},
     "output_type": "execute_result"
    }
   ],
   "source": [
    "num_a2.dtype"
   ]
  },
  {
   "cell_type": "markdown",
   "metadata": {
    "id": "INOA0Or9kon0"
   },
   "source": [
    "- 배열의 데이터 타입이 유니코드(U)에서 정수 타입(int)으로 변경된 것을 알 수 있음"
   ]
  },
  {
   "cell_type": "markdown",
   "metadata": {
    "id": "W9eqJP8Nkon0"
   },
   "source": [
    "- 실수를 원소로 갖는 NumPy 배열을 정수로 변환"
   ]
  },
  {
   "cell_type": "code",
   "execution_count": 211,
   "metadata": {
    "id": "U7KHLYiOkon0",
    "nbpresent": {
     "id": "e7b1eeb3-a8bd-4612-a8b9-41ee0d6b816f"
    }
   },
   "outputs": [
    {
     "data": {
      "text/plain": [
       "array([10, 21,  0,  4,  5])"
      ]
     },
     "execution_count": 211,
     "metadata": {},
     "output_type": "execute_result"
    }
   ],
   "source": [
    "num_f1 = np.array([10, 21, 0.549, 4.75, 5.98])\n",
    "num_i1 = num_f1.astype(int)\n",
    "num_i1"
   ]
  },
  {
   "cell_type": "markdown",
   "metadata": {
    "id": "nPou261-kon0"
   },
   "source": [
    "- 변환 전후의 NumPy 배열의 데이터 타입을 확인"
   ]
  },
  {
   "cell_type": "code",
   "execution_count": 212,
   "metadata": {
    "id": "izP58pyakon0",
    "scrolled": true
   },
   "outputs": [
    {
     "data": {
      "text/plain": [
       "dtype('float64')"
      ]
     },
     "execution_count": 212,
     "metadata": {},
     "output_type": "execute_result"
    }
   ],
   "source": [
    "num_f1.dtype"
   ]
  },
  {
   "cell_type": "code",
   "execution_count": 213,
   "metadata": {
    "id": "P6vUH_Wlkon0"
   },
   "outputs": [
    {
     "data": {
      "text/plain": [
       "dtype('int64')"
      ]
     },
     "execution_count": 213,
     "metadata": {},
     "output_type": "execute_result"
    }
   ],
   "source": [
    "num_i1.dtype"
   ]
  },
  {
   "cell_type": "markdown",
   "metadata": {
    "id": "sQbFw-Avkon0"
   },
   "source": [
    "- NumPy 배열의 데이터 타입이 실수(float)에서 정수 타입(int)으로 바뀐 것을 볼 수 있음"
   ]
  },
  {
   "cell_type": "markdown",
   "metadata": {
    "id": "It5188cSkon0"
   },
   "source": [
    "#### 난수 배열의 생성"
   ]
  },
  {
   "cell_type": "markdown",
   "metadata": {
    "id": "da7LY_fckon0"
   },
   "source": [
    "- random 모듈을 이용해 임의의 숫자인 난수(random number)를 생성\n",
    "- NumPy에서도 난수를 발생시킬 수 있는 다양한 함수"
   ]
  },
  {
   "cell_type": "markdown",
   "metadata": {
    "id": "XUJK0xxukon1"
   },
   "source": [
    "- 그중 rand() 함수를 이용하면 실수 난수를 요소로 갖는 NumPy 배열을 생성할 수 있으며,\n",
    "- randint() 함수를 이용하면 정수 난수를 요소로 갖는 NumPy 배열을 생성"
   ]
  },
  {
   "cell_type": "markdown",
   "metadata": {
    "id": "CvkhauzZkon1"
   },
   "source": [
    "- rand_num = np.random.rand([d0, d1,... dn]) \n",
    "- rand_num = np.random.randint([low,] high [,size])"
   ]
  },
  {
   "cell_type": "markdown",
   "metadata": {
    "id": "eNCW4zhekon1"
   },
   "source": [
    "- rand() 함수는 (0,1)의 실수 난수를 갖는 NumPy 배열을 생성\n",
    "- (a, b)의 표현은 값의 범위가 a 이상이고 b 미만이라는 의미\n",
    "- a는 범위에 포함되고 b는 포함되지 않음"
   ]
  },
  {
   "cell_type": "markdown",
   "metadata": {
    "id": "YrtnhS7-kon1"
   },
   "source": [
    "- randint()함수는 (low, high) 사의의 정수 난수를 갖는 배열을 생성\n",
    "- size는 배열의 형태를 지정하는 것으로 (d0, d1........dn) 형식으로 입력\n",
    "- low가 입력되지 않으면 0으로 간주하고, size가 입력되지 않으면 1로 간주합"
   ]
  },
  {
   "cell_type": "markdown",
   "metadata": {
    "id": "lB1WfLUqkon1"
   },
   "source": [
    "- NumPy에서 난수를 생성"
   ]
  },
  {
   "cell_type": "markdown",
   "metadata": {
    "id": "mF5LsgtYkon1"
   },
   "source": [
    "- 실수로 난수 배열을 생성하는 rand()"
   ]
  },
  {
   "cell_type": "code",
   "execution_count": 214,
   "metadata": {
    "id": "DT66e8y9kon1"
   },
   "outputs": [
    {
     "data": {
      "text/plain": [
       "array([[0.25279238, 0.71598993, 0.45960019],\n",
       "       [0.68185982, 0.15289647, 0.14844061]])"
      ]
     },
     "execution_count": 214,
     "metadata": {},
     "output_type": "execute_result"
    }
   ],
   "source": [
    "np.random.rand(2,3)"
   ]
  },
  {
   "cell_type": "code",
   "execution_count": 215,
   "metadata": {
    "id": "St-E1EjPkon1"
   },
   "outputs": [
    {
     "data": {
      "text/plain": [
       "0.4134927587041394"
      ]
     },
     "execution_count": 215,
     "metadata": {},
     "output_type": "execute_result"
    }
   ],
   "source": [
    "np.random.rand()"
   ]
  },
  {
   "cell_type": "code",
   "execution_count": 216,
   "metadata": {
    "id": "-t6fqZ2Qkon1"
   },
   "outputs": [
    {
     "data": {
      "text/plain": [
       "array([[[0.63888501, 0.4698723 , 0.50798403, 0.22428756],\n",
       "        [0.744347  , 0.27830264, 0.94880834, 0.74487733],\n",
       "        [0.85949264, 0.47986221, 0.3296461 , 0.69278052]],\n",
       "\n",
       "       [[0.70624683, 0.80066204, 0.53251024, 0.27338944],\n",
       "        [0.05947747, 0.77141172, 0.68226717, 0.76507299],\n",
       "        [0.88147024, 0.83581593, 0.98733784, 0.85665271]]])"
      ]
     },
     "execution_count": 216,
     "metadata": {},
     "output_type": "execute_result"
    }
   ],
   "source": [
    "np.random.rand(2,3,4)"
   ]
  },
  {
   "cell_type": "markdown",
   "metadata": {
    "id": "_ZsIKCbBkon1"
   },
   "source": [
    "- 지정한 범위에 해당하는 정수로 난수 배열을 생성하는 randint()"
   ]
  },
  {
   "cell_type": "code",
   "execution_count": 217,
   "metadata": {
    "id": "AJSGlNw4kon2"
   },
   "outputs": [
    {
     "data": {
      "text/plain": [
       "array([[4, 9, 0, 9],\n",
       "       [8, 8, 4, 3],\n",
       "       [3, 0, 5, 0]], dtype=int32)"
      ]
     },
     "execution_count": 217,
     "metadata": {},
     "output_type": "execute_result"
    }
   ],
   "source": [
    "np.random.randint(10, size=(3, 4))"
   ]
  },
  {
   "cell_type": "code",
   "execution_count": 218,
   "metadata": {
    "id": "6B41ztgvkon2"
   },
   "outputs": [
    {
     "data": {
      "text/plain": [
       "3"
      ]
     },
     "execution_count": 218,
     "metadata": {},
     "output_type": "execute_result"
    }
   ],
   "source": [
    "np.random.randint(1, 30)"
   ]
  },
  {
   "cell_type": "markdown",
   "metadata": {
    "id": "bAbmtI3kkon2",
    "nbpresent": {
     "id": "ee59bc8f-cf0f-4aaf-a8ae-b5c2763cc79b"
    }
   },
   "source": [
    "### 배열의 연산"
   ]
  },
  {
   "cell_type": "markdown",
   "metadata": {
    "id": "iXNUihWskon2"
   },
   "source": [
    "#### 기본 연산"
   ]
  },
  {
   "cell_type": "markdown",
   "metadata": {
    "id": "Dt008il0kon2"
   },
   "source": [
    "- NumPy 배열은 다양하게 연산할 수 있음\n",
    "- 배열의 형태(shape)가 같다면 덧셈과 뻘셈, 곱셈과 나눗셈 연산을 할 수 있음"
   ]
  },
  {
   "cell_type": "code",
   "execution_count": 219,
   "metadata": {
    "id": "OzmQARQVkon2",
    "nbpresent": {
     "id": "31a5e2f1-017c-4d6d-aae3-1fb54ac75e9c"
    }
   },
   "outputs": [],
   "source": [
    "arr1 = np.array([10, 20, 30, 40,50])\n",
    "arr2 = np.array([1, 2, 3, 4,5])"
   ]
  },
  {
   "cell_type": "markdown",
   "metadata": {
    "id": "9Ms91rQFkon2"
   },
   "source": [
    "- 배열의 형태가 같은 두 개의 1차원 배열을 생성\n",
    "- 두 배열의 형태가 같다는 의미는 두 배열의 'ndarray.shape'의 결과가 같다는 의미"
   ]
  },
  {
   "cell_type": "markdown",
   "metadata": {
    "id": "mU9zntrwkon2",
    "nbpresent": {
     "id": "c8775c40-9bd4-4f67-95dc-5bd8649d797a"
    }
   },
   "source": [
    "- 1차원 배열의 경우에는 두 배열의 원소 개수가 같다면 형태가 같은 배열\n",
    "- 2차원 배열이라면 m x n 행렬에서 두 행렬의 m과 n이 각각 같은 경우"
   ]
  },
  {
   "cell_type": "markdown",
   "metadata": {
    "id": "wawRfLtbkon2"
   },
   "source": [
    "- 두 배열의 합은 각 배열의 같은 위치의 원소끼리 더함"
   ]
  },
  {
   "cell_type": "markdown",
   "metadata": {
    "id": "lpm8L06Nkon2"
   },
   "source": [
    "- 두 NumPy 배열의 합을 구하는 예"
   ]
  },
  {
   "cell_type": "code",
   "execution_count": 220,
   "metadata": {
    "colab": {
     "base_uri": "https://localhost:8080/",
     "height": 174
    },
    "executionInfo": {
     "elapsed": 6,
     "status": "error",
     "timestamp": 1660285988460,
     "user": {
      "displayName": "junhwa lee",
      "userId": "11332889748979012167"
     },
     "user_tz": -540
    },
    "id": "MfcOdYO6kon3",
    "nbpresent": {
     "id": "4f32ef1d-bbac-41a0-928b-75941eb6508c"
    },
    "outputId": "88fd53d0-cd01-4756-c0be-d9ee019ae24c"
   },
   "outputs": [
    {
     "data": {
      "text/plain": [
       "array([11, 22, 33, 44, 55])"
      ]
     },
     "execution_count": 220,
     "metadata": {},
     "output_type": "execute_result"
    }
   ],
   "source": [
    "arr1 + arr2"
   ]
  },
  {
   "cell_type": "markdown",
   "metadata": {
    "id": "um_tZq45kon3",
    "nbpresent": {
     "id": "6f741d1a-45ad-4a71-b0a7-f9a02979eec0"
    }
   },
   "source": [
    "- 두 배열의 합과 마찬가지로 두 배열의 차는 같은 위치의 원소끼리 뻼"
   ]
  },
  {
   "cell_type": "code",
   "execution_count": 221,
   "metadata": {
    "id": "Pkd8yxOFkon3",
    "nbpresent": {
     "id": "a806af30-5593-4124-8bb7-d458c2853ad8"
    }
   },
   "outputs": [
    {
     "data": {
      "text/plain": [
       "array([ 9, 18, 27, 36, 45])"
      ]
     },
     "execution_count": 221,
     "metadata": {},
     "output_type": "execute_result"
    }
   ],
   "source": [
    "arr1 - arr2"
   ]
  },
  {
   "cell_type": "markdown",
   "metadata": {
    "id": "H8j4pnWokon3",
    "nbpresent": {
     "id": "68c0bf09-6eb0-4498-bd08-0ca334bc6e5b"
    }
   },
   "source": [
    "- 배열에 상수를 곱할 수도 있음\n",
    "- 배열에 상수를 곱하면 각 원소에 상수를 곱함"
   ]
  },
  {
   "cell_type": "code",
   "execution_count": 222,
   "metadata": {
    "id": "kq6zgCstkon3",
    "nbpresent": {
     "id": "bf735d32-362d-455e-b9df-4881cfaaa8ff"
    }
   },
   "outputs": [
    {
     "data": {
      "text/plain": [
       "array([ 2,  4,  6,  8, 10])"
      ]
     },
     "execution_count": 222,
     "metadata": {},
     "output_type": "execute_result"
    }
   ],
   "source": [
    "arr2 * 2"
   ]
  },
  {
   "cell_type": "markdown",
   "metadata": {
    "id": "4r3mNYvhkon3",
    "nbpresent": {
     "id": "ae5280f0-4e1d-4dd9-8d4e-1a410802d866"
    }
   },
   "source": [
    "- 배열의 거듭제곱도 할 수 있음 \n",
    "- 배열의 거듭제곱은 배열의 각 원소에 거듭제곱을 함"
   ]
  },
  {
   "cell_type": "code",
   "execution_count": 223,
   "metadata": {
    "id": "LHrq15PFkon3",
    "nbpresent": {
     "id": "248b2673-a05f-447b-85ea-d537b8880f80"
    }
   },
   "outputs": [
    {
     "data": {
      "text/plain": [
       "array([ 1,  4,  9, 16, 25])"
      ]
     },
     "execution_count": 223,
     "metadata": {},
     "output_type": "execute_result"
    }
   ],
   "source": [
    "arr2 ** 2"
   ]
  },
  {
   "cell_type": "markdown",
   "metadata": {
    "id": "Arp3FOXxkon3",
    "nbpresent": {
     "id": "8c0fbf70-0906-4f5f-990a-84abd7483130"
    }
   },
   "source": [
    "- 두 배열끼리의 곱셈은 각 원소끼리 곱함"
   ]
  },
  {
   "cell_type": "code",
   "execution_count": 224,
   "metadata": {
    "id": "zkKWS6Bpkon3",
    "nbpresent": {
     "id": "90778e0d-2726-4c96-bae9-af808aa17696"
    }
   },
   "outputs": [
    {
     "data": {
      "text/plain": [
       "array([ 10,  40,  90, 160, 250])"
      ]
     },
     "execution_count": 224,
     "metadata": {},
     "output_type": "execute_result"
    }
   ],
   "source": [
    "arr1 * arr2"
   ]
  },
  {
   "cell_type": "markdown",
   "metadata": {
    "id": "W86MB82-kon3",
    "nbpresent": {
     "id": "612a4af9-ed41-494e-9891-95abc5499fd5"
    }
   },
   "source": [
    "- 두 배열의 나눗셈은 각 원소끼리 나눔"
   ]
  },
  {
   "cell_type": "code",
   "execution_count": 225,
   "metadata": {
    "id": "A6XMxqqLkon4",
    "nbpresent": {
     "id": "497bfe6b-1180-43ad-8d15-911730388b95"
    }
   },
   "outputs": [
    {
     "data": {
      "text/plain": [
       "array([10., 10., 10., 10., 10.])"
      ]
     },
     "execution_count": 225,
     "metadata": {},
     "output_type": "execute_result"
    }
   ],
   "source": [
    "arr1 / arr2"
   ]
  },
  {
   "cell_type": "markdown",
   "metadata": {
    "id": "QoTyvw17kon4",
    "nbpresent": {
     "id": "f903d116-fd18-4cd9-b9bd-07ad6b3efbfe"
    }
   },
   "source": [
    "- 배열의 복합 연산도 할 수 있음"
   ]
  },
  {
   "cell_type": "code",
   "execution_count": 226,
   "metadata": {
    "id": "_N8NAcT_kon4",
    "nbpresent": {
     "id": "a91ef282-77b8-44fa-8f41-61b2733727ba"
    }
   },
   "outputs": [
    {
     "data": {
      "text/plain": [
       "array([10.        ,  5.        ,  3.33333333,  2.5       ,  2.        ])"
      ]
     },
     "execution_count": 226,
     "metadata": {},
     "output_type": "execute_result"
    }
   ],
   "source": [
    "arr1 / (arr2 ** 2)"
   ]
  },
  {
   "cell_type": "markdown",
   "metadata": {
    "id": "MDeU6oLdkon4",
    "nbpresent": {
     "id": "e7025c1f-15be-41a8-b9fa-c08268a51664"
    }
   },
   "source": [
    "- 배열은 비교 연산도 할 수 있음\n",
    "- 원소별로 조건과 일치하는지 검사한 후 일치하면 True룰, \n",
    "- 그렇지 않으면 False를 반환"
   ]
  },
  {
   "cell_type": "code",
   "execution_count": 227,
   "metadata": {
    "id": "5NrF7AMPkon4",
    "nbpresent": {
     "id": "b412697d-8109-4e03-8194-757e3f000fa1"
    }
   },
   "outputs": [
    {
     "data": {
      "text/plain": [
       "array([False, False,  True,  True,  True])"
      ]
     },
     "execution_count": 227,
     "metadata": {},
     "output_type": "execute_result"
    }
   ],
   "source": [
    "arr1 > 20"
   ]
  },
  {
   "cell_type": "markdown",
   "metadata": {
    "id": "PVcWaF4Ykon4",
    "nbpresent": {
     "id": "ed5d25ea-f078-4238-9911-6f56810dc8b6"
    }
   },
   "source": [
    "#### 통계를 위한 연산"
   ]
  },
  {
   "cell_type": "markdown",
   "metadata": {
    "id": "hLVmpMhKkon4"
   },
   "source": [
    " - NumPy에는 배열의 합, 평균, 표준 편차，분산, 최솟값과 최댓값，누적 합과 누적 곱 등 주로 통계 에서 많이 이용하는 메서드\n",
    " - 이 메서드는 각각 sum(), mean(), std(), var(), min(), max(), cumsum(), cumprod()"
   ]
  },
  {
   "cell_type": "markdown",
   "metadata": {
    "id": "8T9P8M-okon4"
   },
   "source": [
    "- 배열을 생성"
   ]
  },
  {
   "cell_type": "code",
   "execution_count": 228,
   "metadata": {
    "id": "TxlX_PdGkon4",
    "nbpresent": {
     "id": "10bbf32c-3190-4853-b5b7-47d3048a2732"
    }
   },
   "outputs": [
    {
     "data": {
      "text/plain": [
       "array([0, 1, 2, 3, 4])"
      ]
     },
     "execution_count": 228,
     "metadata": {},
     "output_type": "execute_result"
    }
   ],
   "source": [
    "arr3 = np.arange(5)\n",
    "arr3"
   ]
  },
  {
   "cell_type": "markdown",
   "metadata": {
    "id": "T1S4ymcnkon4",
    "nbpresent": {
     "id": "4530b23b-2318-4409-921f-8ee2dc665327"
    }
   },
   "source": [
    "- 배열의 합(sum())과 평균(meant))을 구해보기로 함"
   ]
  },
  {
   "cell_type": "code",
   "execution_count": 229,
   "metadata": {
    "id": "-LD2igVXkon4",
    "nbpresent": {
     "id": "e431758a-85a8-47d9-9bc0-e4d601d4db09"
    }
   },
   "outputs": [
    {
     "data": {
      "text/plain": [
       "[np.int64(10), np.float64(2.0)]"
      ]
     },
     "execution_count": 229,
     "metadata": {},
     "output_type": "execute_result"
    }
   ],
   "source": [
    "[arr3.sum(), arr3.mean()]"
   ]
  },
  {
   "cell_type": "markdown",
   "metadata": {
    "id": "awSn1Gl6kon5",
    "nbpresent": {
     "id": "c518a29e-e00d-40d7-bec5-07d421415653"
    }
   },
   "source": [
    "- 배열의 표준 편차(std())와 분산(var())을 구하겠음"
   ]
  },
  {
   "cell_type": "code",
   "execution_count": 230,
   "metadata": {
    "id": "u1BchraQkon5",
    "nbpresent": {
     "id": "fb6fc3f3-1a8a-403c-84d5-1ea68bc354c1"
    }
   },
   "outputs": [
    {
     "data": {
      "text/plain": [
       "[np.float64(1.4142135623730951), np.float64(2.0)]"
      ]
     },
     "execution_count": 230,
     "metadata": {},
     "output_type": "execute_result"
    }
   ],
   "source": [
    "[arr3.std(), arr3.var()]"
   ]
  },
  {
   "cell_type": "markdown",
   "metadata": {
    "id": "7ja3HyxKkon5",
    "nbpresent": {
     "id": "89623b71-c0fe-41b4-8266-1fd88f4af845"
    }
   },
   "source": [
    "- 배열의 최솟값(min())과 최댓값(Max())을 구함"
   ]
  },
  {
   "cell_type": "code",
   "execution_count": 231,
   "metadata": {
    "id": "pBROyDYZkon5",
    "nbpresent": {
     "id": "f102e256-50cc-43d9-94fc-7cb973bbbf9e"
    }
   },
   "outputs": [
    {
     "data": {
      "text/plain": [
       "[np.int64(0), np.int64(4)]"
      ]
     },
     "execution_count": 231,
     "metadata": {},
     "output_type": "execute_result"
    }
   ],
   "source": [
    "[arr3.min(), arr3.max()]"
   ]
  },
  {
   "cell_type": "markdown",
   "metadata": {
    "id": "5hV6Xtrakon5",
    "nbpresent": {
     "id": "d871227b-d4dd-40c1-a5ad-9fa3f362b878"
    }
   },
   "source": [
    "- 누적 합(cumsum())과 누적 곱(cumprod())의 예\n",
    "- arr3의 경우에는 배열의 원소에 0이 있어서 누적 곱이 모두 0이 되므로 새로운 배열을 생성해서 적용"
   ]
  },
  {
   "cell_type": "code",
   "execution_count": 232,
   "metadata": {
    "id": "qXAWSi-Ykon5"
   },
   "outputs": [
    {
     "data": {
      "text/plain": [
       "array([1, 2, 3, 4])"
      ]
     },
     "execution_count": 232,
     "metadata": {},
     "output_type": "execute_result"
    }
   ],
   "source": [
    "arr4 = np.arange(1,5)\n",
    "arr4"
   ]
  },
  {
   "cell_type": "markdown",
   "metadata": {
    "id": "kZ3SjToZkon5"
   },
   "source": [
    "- arr4를 이용해 누적 합(cumsum())과 누적 곱{cumprod())을 구함"
   ]
  },
  {
   "cell_type": "code",
   "execution_count": 233,
   "metadata": {
    "id": "7SAeTOVEkon5",
    "nbpresent": {
     "id": "bafc5580-e051-4737-8631-2a8d3bf9c9cb"
    }
   },
   "outputs": [
    {
     "data": {
      "text/plain": [
       "array([ 1,  3,  6, 10])"
      ]
     },
     "execution_count": 233,
     "metadata": {},
     "output_type": "execute_result"
    }
   ],
   "source": [
    "arr4.cumsum()"
   ]
  },
  {
   "cell_type": "code",
   "execution_count": 234,
   "metadata": {
    "id": "BdbbBwnUkon5",
    "nbpresent": {
     "id": "a5b08f83-1ffd-4a88-941b-a8471101b857"
    }
   },
   "outputs": [
    {
     "data": {
      "text/plain": [
       "array([ 1,  2,  6, 24])"
      ]
     },
     "execution_count": 234,
     "metadata": {},
     "output_type": "execute_result"
    }
   ],
   "source": [
    "arr4.cumprod()"
   ]
  },
  {
   "cell_type": "markdown",
   "metadata": {
    "id": "oaO40rhAkon5",
    "nbpresent": {
     "id": "68113591-507a-4c02-9133-3cb8142de227"
    }
   },
   "source": [
    "#### 행렬 연산"
   ]
  },
  {
   "cell_type": "markdown",
   "metadata": {
    "id": "nRT7h-12kon5"
   },
   "source": [
    "- NumPy는 배열의 단순 연산뿐만 아니라 선형 대수(Linear algebra)를 위한 행렬(2차원 배열) 연산도 지원\n",
    "- 다양한 기능 중 행렬 곱, 전치 행렬, 역행렬, 행렬식을 구하는 방법"
   ]
  },
  {
   "cell_type": "markdown",
   "metadata": {
    "id": "sipC45oYkon6"
   },
   "source": [
    "- 행렬 연산을 하기 위해 2 x 2 행렬 A와 B를 만들겠음"
   ]
  },
  {
   "cell_type": "code",
   "execution_count": 235,
   "metadata": {
    "id": "rSJw_Y1Dkon6"
   },
   "outputs": [
    {
     "data": {
      "text/plain": [
       "array([[0, 1],\n",
       "       [2, 3]])"
      ]
     },
     "execution_count": 235,
     "metadata": {},
     "output_type": "execute_result"
    }
   ],
   "source": [
    "A = np.array([0, 1, 2, 3]).reshape(2,2)\n",
    "A"
   ]
  },
  {
   "cell_type": "code",
   "execution_count": 236,
   "metadata": {
    "id": "DqgwlCK_kon6"
   },
   "outputs": [
    {
     "data": {
      "text/plain": [
       "array([[3, 2],\n",
       "       [0, 1]])"
      ]
     },
     "execution_count": 236,
     "metadata": {},
     "output_type": "execute_result"
    }
   ],
   "source": [
    "B = np.array([3, 2, 0, 1]).reshape(2,2)\n",
    "B"
   ]
  },
  {
   "cell_type": "markdown",
   "metadata": {
    "id": "uU-1uWdbkon6"
   },
   "source": [
    "- 행렬 A와 B를 이용한 행렬 곱의 예"
   ]
  },
  {
   "cell_type": "code",
   "execution_count": 237,
   "metadata": {
    "id": "oiRhkRaokon6"
   },
   "outputs": [
    {
     "data": {
      "text/plain": [
       "array([[0, 1],\n",
       "       [6, 7]])"
      ]
     },
     "execution_count": 237,
     "metadata": {},
     "output_type": "execute_result"
    }
   ],
   "source": [
    "A.dot(B)"
   ]
  },
  {
   "cell_type": "code",
   "execution_count": 238,
   "metadata": {
    "id": "T8anwzj3kon6"
   },
   "outputs": [
    {
     "data": {
      "text/plain": [
       "array([[0, 1],\n",
       "       [6, 7]])"
      ]
     },
     "execution_count": 238,
     "metadata": {},
     "output_type": "execute_result"
    }
   ],
   "source": [
    "np.dot(A,B)"
   ]
  },
  {
   "cell_type": "markdown",
   "metadata": {
    "id": "wKur_kikkon6"
   },
   "source": [
    "- 행렬 A의 전치 행렬을 구하는 예"
   ]
  },
  {
   "cell_type": "code",
   "execution_count": 239,
   "metadata": {
    "id": "oKAn8JAnkon7"
   },
   "outputs": [
    {
     "data": {
      "text/plain": [
       "array([[0, 2],\n",
       "       [1, 3]])"
      ]
     },
     "execution_count": 239,
     "metadata": {},
     "output_type": "execute_result"
    }
   ],
   "source": [
    "np.transpose(A)"
   ]
  },
  {
   "cell_type": "code",
   "execution_count": 240,
   "metadata": {
    "id": "ay9_OLwokon7"
   },
   "outputs": [
    {
     "data": {
      "text/plain": [
       "array([[0, 2],\n",
       "       [1, 3]])"
      ]
     },
     "execution_count": 240,
     "metadata": {},
     "output_type": "execute_result"
    }
   ],
   "source": [
    "A.transpose()"
   ]
  },
  {
   "cell_type": "markdown",
   "metadata": {
    "id": "kVYvB77Ukon7"
   },
   "source": [
    "- 행렬 A의 역행렬을 구하기"
   ]
  },
  {
   "cell_type": "code",
   "execution_count": 241,
   "metadata": {
    "id": "DLoQykVvkon7"
   },
   "outputs": [
    {
     "data": {
      "text/plain": [
       "array([[-1.5,  0.5],\n",
       "       [ 1. ,  0. ]])"
      ]
     },
     "execution_count": 241,
     "metadata": {},
     "output_type": "execute_result"
    }
   ],
   "source": [
    "np.linalg.inv(A)"
   ]
  },
  {
   "cell_type": "markdown",
   "metadata": {
    "id": "48Kk_MFvkon7"
   },
   "source": [
    "- 행렬 A의 행렬식을 구하기"
   ]
  },
  {
   "cell_type": "code",
   "execution_count": 242,
   "metadata": {
    "id": "wzkj5KyCkon7"
   },
   "outputs": [
    {
     "data": {
      "text/plain": [
       "np.float64(-2.0)"
      ]
     },
     "execution_count": 242,
     "metadata": {},
     "output_type": "execute_result"
    }
   ],
   "source": [
    "np.linalg.det(A)"
   ]
  },
  {
   "cell_type": "markdown",
   "metadata": {
    "id": "0z7CqKKIkon7",
    "nbpresent": {
     "id": "0266279b-0a9a-4625-bf56-25dcdc3ed960"
    }
   },
   "source": [
    "### 배열의 인덱싱과 슬라이싱"
   ]
  },
  {
   "cell_type": "markdown",
   "metadata": {
    "id": "DOPvNBwLkon7"
   },
   "source": [
    "- NumPy에서는 배열의 위치, 조건, 범 위를 지정해 배열에서 필요한 원소를 선택\n",
    "- 배열에서 선택된 원소는 값을 가져오거나 변경"
   ]
  },
  {
   "cell_type": "markdown",
   "metadata": {
    "id": "EICFXnhskon7"
   },
   "source": [
    "- 배열의 위치나 조건을 지정해 배열의 원소를 선택하는 것을 인덱싱(Indexing)\n",
    "- 범위를 지정해 배열의 원소를 선택하는 것을 슬라이싱(Slicing)"
   ]
  },
  {
   "cell_type": "markdown",
   "metadata": {
    "id": "Tur4ZH_9kon7",
    "nbpresent": {
     "id": "c2015789-2fd8-46d5-9d58-5291f8e895df"
    }
   },
   "source": [
    "#### 배열의 인덱싱"
   ]
  },
  {
   "cell_type": "markdown",
   "metadata": {
    "id": "8vQ0YG6Qkon8"
   },
   "source": [
    "- 1차원 배열에서 특정 위치의 원소를 선택하려면 원소의 위치를 지정\n",
    "- 배열명 [위치]\n",
    "- 배열 원소의 위치는 0부터 시작"
   ]
  },
  {
   "cell_type": "markdown",
   "metadata": {
    "id": "ZspsKUhVkon_"
   },
   "source": [
    "- 배열의 인덱싱 예를 살펴보기 위해 1차원 배열을 생성"
   ]
  },
  {
   "cell_type": "code",
   "execution_count": 243,
   "metadata": {
    "colab": {
     "base_uri": "https://localhost:8080/"
    },
    "executionInfo": {
     "elapsed": 306,
     "status": "ok",
     "timestamp": 1660285239080,
     "user": {
      "displayName": "junhwa lee",
      "userId": "11332889748979012167"
     },
     "user_tz": -540
    },
    "id": "0BGXsZ0pkon_",
    "nbpresent": {
     "id": "eeea493a-f604-4696-bc2f-6d3eccb0f586"
    },
    "outputId": "08fd78df-7985-4d66-8b3b-132795e7e627"
   },
   "outputs": [
    {
     "data": {
      "text/plain": [
       "array([ 0, 10, 20, 30, 40, 50])"
      ]
     },
     "execution_count": 243,
     "metadata": {},
     "output_type": "execute_result"
    }
   ],
   "source": [
    "a1 = np.array([0, 10, 20, 30, 40, 50])\n",
    "a1"
   ]
  },
  {
   "cell_type": "markdown",
   "metadata": {
    "id": "ZLDzORqhkon_"
   },
   "source": [
    "- 위의 배열(a1)에서 위치 0의 원소를 선택해서 가져오려면 a1[0]을 입력"
   ]
  },
  {
   "cell_type": "code",
   "execution_count": 244,
   "metadata": {
    "colab": {
     "base_uri": "https://localhost:8080/"
    },
    "executionInfo": {
     "elapsed": 2,
     "status": "ok",
     "timestamp": 1660285241011,
     "user": {
      "displayName": "junhwa lee",
      "userId": "11332889748979012167"
     },
     "user_tz": -540
    },
    "id": "IUluEwTOkon_",
    "nbpresent": {
     "id": "2fd50764-d3f4-4999-9efe-e7f75dde9fb8"
    },
    "outputId": "37aba547-53b7-4854-c472-f38e91c2a85c"
   },
   "outputs": [
    {
     "data": {
      "text/plain": [
       "np.int64(0)"
      ]
     },
     "execution_count": 244,
     "metadata": {},
     "output_type": "execute_result"
    }
   ],
   "source": [
    "a1[0]"
   ]
  },
  {
   "cell_type": "markdown",
   "metadata": {
    "id": "zuiJjdn0kon_",
    "nbpresent": {
     "id": "a29dec58-b4fc-47a5-ab7b-67529d16f9a7"
    }
   },
   "source": [
    "- 배열(a1)에서 위치 4의 원소를 선택하려면 다음처럼 a[4]라고 입력"
   ]
  },
  {
   "cell_type": "code",
   "execution_count": 245,
   "metadata": {
    "colab": {
     "base_uri": "https://localhost:8080/"
    },
    "executionInfo": {
     "elapsed": 309,
     "status": "ok",
     "timestamp": 1660285253007,
     "user": {
      "displayName": "junhwa lee",
      "userId": "11332889748979012167"
     },
     "user_tz": -540
    },
    "id": "D67JhJPgkon_",
    "nbpresent": {
     "id": "ec07b417-b92e-42a7-a1c8-fa4832d4c822"
    },
    "outputId": "e515ab39-4e62-4d7a-fc66-1a85608ae6dd"
   },
   "outputs": [
    {
     "data": {
      "text/plain": [
       "np.int64(40)"
      ]
     },
     "execution_count": 245,
     "metadata": {},
     "output_type": "execute_result"
    }
   ],
   "source": [
    "a1[-2]"
   ]
  },
  {
   "cell_type": "markdown",
   "metadata": {
    "id": "okQEUrL_kon_"
   },
   "source": [
    "- 배열의 원소를 가져올 수 있을 뿐더러 변경할 수도 있음"
   ]
  },
  {
   "cell_type": "code",
   "execution_count": 246,
   "metadata": {
    "id": "r5INuagEkon_"
   },
   "outputs": [
    {
     "data": {
      "text/plain": [
       "array([ 0, 10, 20, 30, 40, 70])"
      ]
     },
     "execution_count": 246,
     "metadata": {},
     "output_type": "execute_result"
    }
   ],
   "source": [
    "a1[5] = 70\n",
    "a1"
   ]
  },
  {
   "cell_type": "markdown",
   "metadata": {
    "id": "1zOfICMskon_"
   },
   "source": [
    "- i차원 배열에서 여러 개의 원소를 선택하려면 다음과 같이 지정\n",
    "- 배열명[[위치1, 위치2, •••, 위치n]]"
   ]
  },
  {
   "cell_type": "markdown",
   "metadata": {
    "id": "epfQ4oswkon_",
    "nbpresent": {
     "id": "be5663ea-c3e0-493d-9d79-f62a519cec85"
    }
   },
   "source": [
    "- 1 차원 배열 a1 에서 1, 3, 4의 위치에 있는 원소 10, 30, 40을 가져옴"
   ]
  },
  {
   "cell_type": "code",
   "execution_count": 247,
   "metadata": {
    "id": "RDktqWrRkooA",
    "nbpresent": {
     "id": "002591c3-c483-4a64-b1a3-cbe5c82369fa"
    }
   },
   "outputs": [
    {
     "data": {
      "text/plain": [
       "array([10, 30, 40])"
      ]
     },
     "execution_count": 247,
     "metadata": {},
     "output_type": "execute_result"
    }
   ],
   "source": [
    "a1[[1,3,4]]"
   ]
  },
  {
   "cell_type": "markdown",
   "metadata": {
    "id": "b4M-hNXIkooA"
   },
   "source": [
    "- 2차원 배열에서 특정 위치의 원소를 선택하려면 다음과 같이 행과 열의 위치를 지정\n",
    "- 배열명[행_위치, 열_위치]\n",
    "- '열_위치’ 없이 '배열명[행_위치]’만 입력하면 지정한 행 전체가 선택"
   ]
  },
  {
   "cell_type": "markdown",
   "metadata": {
    "id": "_-tyJ9kBkooA"
   },
   "source": [
    "- 2차원 배열에서 인덱싱으로 특정 원소를 선택해서 가져오는 예\n",
    "- 2 차원 배열을 생성"
   ]
  },
  {
   "cell_type": "code",
   "execution_count": 248,
   "metadata": {
    "colab": {
     "base_uri": "https://localhost:8080/"
    },
    "executionInfo": {
     "elapsed": 289,
     "status": "ok",
     "timestamp": 1660285271034,
     "user": {
      "displayName": "junhwa lee",
      "userId": "11332889748979012167"
     },
     "user_tz": -540
    },
    "id": "xK9aQ6AekooA",
    "outputId": "37cb602c-2447-4e3b-c0fe-4417262edc27"
   },
   "outputs": [
    {
     "data": {
      "text/plain": [
       "array([[10, 20, 30],\n",
       "       [40, 50, 60],\n",
       "       [70, 80, 90]])"
      ]
     },
     "execution_count": 248,
     "metadata": {},
     "output_type": "execute_result"
    }
   ],
   "source": [
    "a2 = np.arange(10, 100, 10).reshape(3,3)\n",
    "a2"
   ]
  },
  {
   "cell_type": "markdown",
   "metadata": {
    "id": "35mYetmrkooA"
   },
   "source": [
    "- 2차원 배열 a2에서 '행_위치'가 0이고 '열_위치'가 2인 원소를 선택해서 가져오기"
   ]
  },
  {
   "cell_type": "code",
   "execution_count": 249,
   "metadata": {
    "colab": {
     "base_uri": "https://localhost:8080/"
    },
    "executionInfo": {
     "elapsed": 293,
     "status": "ok",
     "timestamp": 1660285295689,
     "user": {
      "displayName": "junhwa lee",
      "userId": "11332889748979012167"
     },
     "user_tz": -540
    },
    "id": "IOXzjOslkooA",
    "outputId": "b0d0cd19-64a4-4c14-a371-56ccfd82521c"
   },
   "outputs": [
    {
     "data": {
      "text/plain": [
       "np.int64(30)"
      ]
     },
     "execution_count": 249,
     "metadata": {},
     "output_type": "execute_result"
    }
   ],
   "source": [
    "a2[0,2]"
   ]
  },
  {
   "cell_type": "markdown",
   "metadata": {
    "id": "gkghpkGxkooA"
   },
   "source": [
    "- 2차원 배열의 행과 열의 위치를 지정해서 원소를 선택한 후 값을 변경"
   ]
  },
  {
   "cell_type": "code",
   "execution_count": 250,
   "metadata": {
    "id": "Nlbv3CCQkooA"
   },
   "outputs": [
    {
     "data": {
      "text/plain": [
       "array([[10, 20, 30],\n",
       "       [40, 50, 60],\n",
       "       [70, 80, 95]])"
      ]
     },
     "execution_count": 250,
     "metadata": {},
     "output_type": "execute_result"
    }
   ],
   "source": [
    "a2[2, 2] = 95\n",
    "a2"
   ]
  },
  {
   "cell_type": "markdown",
   "metadata": {
    "id": "YyhwMIEzkooA"
   },
   "source": [
    "- 2차원 배열에서 '행_위치'룰 지정해 행 전체를 가져오기"
   ]
  },
  {
   "cell_type": "code",
   "execution_count": 251,
   "metadata": {
    "id": "9XOfHFZokooA"
   },
   "outputs": [
    {
     "data": {
      "text/plain": [
       "array([40, 50, 60])"
      ]
     },
     "execution_count": 251,
     "metadata": {},
     "output_type": "execute_result"
    }
   ],
   "source": [
    "a2[1]"
   ]
  },
  {
   "cell_type": "markdown",
   "metadata": {
    "id": "hTH9db96kooB"
   },
   "source": [
    "- 2차원 배열의 특정 행을 지정해서 행 전체를 변경\n",
    "- 새로운 값을 입력할 때 'np.array(seq_data)'를 이용해도 되고 리스트를 이용해도 됨"
   ]
  },
  {
   "cell_type": "markdown",
   "metadata": {
    "id": "K1CPwZSNkooB"
   },
   "source": [
    "- 특정 행을 지정해 행 전체의 값을 변경하는 예"
   ]
  },
  {
   "cell_type": "code",
   "execution_count": 252,
   "metadata": {
    "id": "4QPdXIWKkooB"
   },
   "outputs": [
    {
     "data": {
      "text/plain": [
       "array([[10, 20, 30],\n",
       "       [45, 55, 65],\n",
       "       [70, 80, 95]])"
      ]
     },
     "execution_count": 252,
     "metadata": {},
     "output_type": "execute_result"
    }
   ],
   "source": [
    "a2[1] = np.array([45, 55, 65])\n",
    "a2"
   ]
  },
  {
   "cell_type": "code",
   "execution_count": 253,
   "metadata": {
    "id": "Ze6S-hbXkooB"
   },
   "outputs": [
    {
     "data": {
      "text/plain": [
       "array([[10, 20, 30],\n",
       "       [47, 57, 67],\n",
       "       [70, 80, 95]])"
      ]
     },
     "execution_count": 253,
     "metadata": {},
     "output_type": "execute_result"
    }
   ],
   "source": [
    "a2[1] = [47, 57, 67]\n",
    "a2"
   ]
  },
  {
   "cell_type": "markdown",
   "metadata": {
    "id": "GX5CKvAwkooB"
   },
   "source": [
    "- 2차원 배열의 여러 원소를 선택하기 위해서는 다음과 같이 지정\n",
    "- 배열명[[행_위치1, 행_위치2, 행_위치n], [열_위치1, 열_위치2, •••, 열_위치n]]\n",
    "- (행-위치1, 열-위치1)의 원소, (행-위치2, 열-위치2)의 원소, (행-위치n, 열-위치n)\n",
    "의 원소를 가져옴"
   ]
  },
  {
   "cell_type": "markdown",
   "metadata": {
    "id": "H43deLgXkooB"
   },
   "source": [
    "- 2차원 배열에서 행과 열의 위치를 지정해 여러 원소를 선택해서 가져오기"
   ]
  },
  {
   "cell_type": "code",
   "execution_count": 254,
   "metadata": {
    "id": "dsflwX6DkooB"
   },
   "outputs": [
    {
     "data": {
      "text/plain": [
       "array([10, 80])"
      ]
     },
     "execution_count": 254,
     "metadata": {},
     "output_type": "execute_result"
    }
   ],
   "source": [
    "a2[[0, 2], [0, 1]]"
   ]
  },
  {
   "cell_type": "markdown",
   "metadata": {
    "id": "XSA8nOj9kooB"
   },
   "source": [
    "- 2차원 배열 a2에서 (0, 0) 위치의 원소 10과 (2, 1) 위치의 원소 80을 선택해 가져옴"
   ]
  },
  {
   "cell_type": "markdown",
   "metadata": {
    "id": "f54CVuRSkooB"
   },
   "source": [
    " - 배열에 조건을 지정해 조건을 만족하는 배열을 선택할 수도 있음\n",
    " - 배열명 [조건]\n",
    " - 배열에서 조건을 만족하는 원소만 선택"
   ]
  },
  {
   "cell_type": "markdown",
   "metadata": {
    "id": "upRLuhKIkooC"
   },
   "source": [
    "- 조건을 지정해 조건에 맞는 배열의 원소만 선택하는 예"
   ]
  },
  {
   "cell_type": "code",
   "execution_count": 255,
   "metadata": {
    "id": "AiC3yMqEkooC"
   },
   "outputs": [
    {
     "data": {
      "text/plain": [
       "array([4, 5, 6])"
      ]
     },
     "execution_count": 255,
     "metadata": {},
     "output_type": "execute_result"
    }
   ],
   "source": [
    "a = np.array([1, 2, 3, 4, 5, 6])\n",
    "a[a > 3]"
   ]
  },
  {
   "cell_type": "markdown",
   "metadata": {
    "id": "s3FWGS6SkooC"
   },
   "source": [
    "- 배열 a에서 'a > 3' 조건을 만족하는 원소만 가져옴"
   ]
  },
  {
   "cell_type": "markdown",
   "metadata": {
    "id": "rtVSfDmVkooC"
   },
   "source": [
    "- '(a % 2) = 0' 조건을 이용해 배열 a에서 짝수인 원소만 선택하는 예"
   ]
  },
  {
   "cell_type": "code",
   "execution_count": 256,
   "metadata": {
    "id": "IJ5QKMpLkooC"
   },
   "outputs": [
    {
     "data": {
      "text/plain": [
       "array([2, 4, 6])"
      ]
     },
     "execution_count": 256,
     "metadata": {},
     "output_type": "execute_result"
    }
   ],
   "source": [
    "a[(a % 2) == 0]"
   ]
  },
  {
   "cell_type": "markdown",
   "metadata": {
    "id": "TQ7FE-ZNkooC",
    "nbpresent": {
     "id": "fbfdb73b-42aa-4d6c-8607-de4d7e930345"
    }
   },
   "source": [
    "#### 배열의 슬라이싱"
   ]
  },
  {
   "cell_type": "markdown",
   "metadata": {
    "id": "gOfCyWwdkooC"
   },
   "source": [
    "- 범위를 지정해 배열 의 일부분을 선택하는 슬라이싱"
   ]
  },
  {
   "cell_type": "markdown",
   "metadata": {
    "id": "K3JiL4Z8kooD"
   },
   "source": [
    "- 1차원 배열의 경우 슬라이싱은 다음과 같이 배열의 시작과 끝 위치를 지정\n",
    "- 배열 [시작_위치:끝_위치]\n",
    "- 반환되는 원소의 범위는 '시작_위치 ~ 끝_위치-1’가 됨\n",
    "- '시작_위치’를 지정하지 않으면 _시작_위치 는 0이 되어 범위는 ~ 끝_위치-1'이 됨\n",
    "- '끝_위치 '룰 지정하지 않으면 '끝_위치'는 배열의 길이가 되어 범위는 ’시작_위치 ~ 배열의 끝'이 됨"
   ]
  },
  {
   "cell_type": "markdown",
   "metadata": {
    "id": "JvXU9-swkooD"
   },
   "source": [
    "- 1차원 배열에서 •시작_위치 ’와 ’끝_위치를 지정해서 슬라이싱하는 예"
   ]
  },
  {
   "cell_type": "code",
   "execution_count": 257,
   "metadata": {
    "id": "yWsxdwYhkooD",
    "nbpresent": {
     "id": "73248ff9-96ab-4911-a605-a2656df5439d"
    }
   },
   "outputs": [
    {
     "data": {
      "text/plain": [
       "array([10, 20, 30])"
      ]
     },
     "execution_count": 257,
     "metadata": {},
     "output_type": "execute_result"
    }
   ],
   "source": [
    "b1 = np.array([0, 10, 20, 30, 40, 50])\n",
    "b1[1:4]"
   ]
  },
  {
   "cell_type": "markdown",
   "metadata": {
    "id": "NwHxzNyykooD"
   },
   "source": [
    "- 배열 비에서 '시작_위치'는 1로 '끝_위치'는 4로 지정\n",
    "- '1~3(시작_위치 〜 끝_위치-1)'의 배열 원소가 반환"
   ]
  },
  {
   "cell_type": "markdown",
   "metadata": {
    "id": "OfmrJw2fkooD"
   },
   "source": [
    "- 1차원 배열에서''시작_위치'와 '끝_위치'룰 지정하지 않고 슬라이싱하는 예"
   ]
  },
  {
   "cell_type": "code",
   "execution_count": 258,
   "metadata": {
    "id": "OEwlEwtBkooD"
   },
   "outputs": [
    {
     "data": {
      "text/plain": [
       "array([ 0, 10, 20])"
      ]
     },
     "execution_count": 258,
     "metadata": {},
     "output_type": "execute_result"
    }
   ],
   "source": [
    "b1[:3]"
   ]
  },
  {
   "cell_type": "code",
   "execution_count": 259,
   "metadata": {
    "id": "R7_aCd9ykooE"
   },
   "outputs": [
    {
     "data": {
      "text/plain": [
       "array([20, 30, 40, 50])"
      ]
     },
     "execution_count": 259,
     "metadata": {},
     "output_type": "execute_result"
    }
   ],
   "source": [
    "b1[2:]"
   ]
  },
  {
   "cell_type": "markdown",
   "metadata": {
    "id": "KcPP9t2VkooE",
    "nbpresent": {
     "id": "7de123ee-afb9-43a6-a788-ba8259e43c10"
    }
   },
   "source": [
    "- 슬라이싱을 이용해 원소를 가져올 수 있을 뿐만 아니라 원소를 변경도 가능"
   ]
  },
  {
   "cell_type": "code",
   "execution_count": 260,
   "metadata": {
    "colab": {
     "base_uri": "https://localhost:8080/"
    },
    "executionInfo": {
     "elapsed": 296,
     "status": "ok",
     "timestamp": 1660285341369,
     "user": {
      "displayName": "junhwa lee",
      "userId": "11332889748979012167"
     },
     "user_tz": -540
    },
    "id": "KcNz0coikooE",
    "outputId": "9999e6a8-3188-4593-e3c8-47ba1d7d803d"
   },
   "outputs": [
    {
     "data": {
      "text/plain": [
       "array([ 0, 10, 25, 35, 45, 50])"
      ]
     },
     "execution_count": 260,
     "metadata": {},
     "output_type": "execute_result"
    }
   ],
   "source": [
    "b1[2:5] = np.array([25, 35, 45])\n",
    "b1"
   ]
  },
  {
   "cell_type": "markdown",
   "metadata": {
    "id": "XURu4TsOkooE"
   },
   "source": [
    "- b1[2：5]를 이용해 b1 배열의 '시작_위치'(2)부터 '끝_위치-1'(4)까지 3개의 원소를 새로운 값으로 변경"
   ]
  },
  {
   "cell_type": "markdown",
   "metadata": {
    "id": "7WrfeShIkooE",
    "nbpresent": {
     "id": "a27c357b-88af-4112-a754-e11efa79dff2"
    }
   },
   "source": [
    "- 여러 원소의 값을 같은 값으로 변경하려면  하나의 값을 지정해 변경할 수 있음"
   ]
  },
  {
   "cell_type": "code",
   "execution_count": 261,
   "metadata": {
    "colab": {
     "base_uri": "https://localhost:8080/"
    },
    "executionInfo": {
     "elapsed": 271,
     "status": "ok",
     "timestamp": 1660285333273,
     "user": {
      "displayName": "junhwa lee",
      "userId": "11332889748979012167"
     },
     "user_tz": -540
    },
    "id": "kJrEblE6kooE",
    "nbpresent": {
     "id": "6388bb1d-a6da-4b8d-9343-c9e36e961fcb"
    },
    "outputId": "193cfee8-eb94-43db-9287-3685f95413f5"
   },
   "outputs": [
    {
     "data": {
      "text/plain": [
       "array([ 0, 10, 25, 60, 60, 60])"
      ]
     },
     "execution_count": 261,
     "metadata": {},
     "output_type": "execute_result"
    }
   ],
   "source": [
    "b1[3:6] = 60\n",
    "b1"
   ]
  },
  {
   "cell_type": "markdown",
   "metadata": {
    "id": "O1f9KtgzkooE"
   },
   "source": [
    "- 2차원 배열(행렬)의 경우 슬라이싱은 다음과 같이 행과 열의 시작과 끝 위치를 지정\n",
    "- 배열 [행시작위치: 행끝위치, 열시작위치: 열끝위치]"
   ]
  },
  {
   "cell_type": "markdown",
   "metadata": {
    "id": "0ih_-t1DkooF"
   },
   "source": [
    "- 원소의 행 범위는 '행시작위치 ~ 행끝위치-1’이 되고, 열 범위는 '열시작위치 ~ 열끝위치-1 ’이 됨\n",
    "- '행시작위치’나 '열시작위치'를 생략하면 행과 열의 시작 위치는 0\n",
    "- 행끝위치를 생략하면 원소의 행 범위는 '행시작_위치’부터 행의 끝까지 지정되고, \n",
    "- '열끝위치'를 생략하면 원소의 열 범위는 '열시작위치'부터 열의 끝까지 지정"
   ]
  },
  {
   "cell_type": "markdown",
   "metadata": {
    "id": "H5Oq0jxykooF"
   },
   "source": [
    "- 특정 행을 선택한 후 열을 슬라이싱하려면 다음과 같이 행의 위치를 지정하고 열의 시작과 끝 위치를 지정\n",
    "- 배 열 [ 행위치 ] [열시작위치: 열끝위치 ]"
   ]
  },
  {
   "cell_type": "markdown",
   "metadata": {
    "id": "TPE6baFtkooF"
   },
   "source": [
    "- 2차원 배열의 슬라이싱을 위해 2차원 배열을 생성"
   ]
  },
  {
   "cell_type": "code",
   "execution_count": 262,
   "metadata": {
    "colab": {
     "base_uri": "https://localhost:8080/"
    },
    "executionInfo": {
     "elapsed": 292,
     "status": "ok",
     "timestamp": 1660285374228,
     "user": {
      "displayName": "junhwa lee",
      "userId": "11332889748979012167"
     },
     "user_tz": -540
    },
    "id": "9PF7w2QxkooF",
    "outputId": "57c2ab14-7418-4098-b03c-9a8b60a603a2"
   },
   "outputs": [
    {
     "data": {
      "text/plain": [
       "array([[10, 20, 30],\n",
       "       [40, 50, 60],\n",
       "       [70, 80, 90]])"
      ]
     },
     "execution_count": 262,
     "metadata": {},
     "output_type": "execute_result"
    }
   ],
   "source": [
    "b2 = np.arange(10, 100, 10).reshape(3,3)\n",
    "b2"
   ]
  },
  {
   "cell_type": "markdown",
   "metadata": {
    "id": "PhHnNvHjkooF"
   },
   "source": [
    "- 2차원 배열에서 '행시작위치:행끝위치, 열시작위치:열끝위치'를 지정해 슬라이싱하는 예"
   ]
  },
  {
   "cell_type": "code",
   "execution_count": 263,
   "metadata": {
    "colab": {
     "base_uri": "https://localhost:8080/"
    },
    "executionInfo": {
     "elapsed": 3,
     "status": "ok",
     "timestamp": 1660285410195,
     "user": {
      "displayName": "junhwa lee",
      "userId": "11332889748979012167"
     },
     "user_tz": -540
    },
    "id": "7rgvjtmNkooF",
    "nbpresent": {
     "id": "de8005c3-e4b5-4a92-a1ca-2b9871cd8177"
    },
    "outputId": "78b1b1c4-879d-4417-a752-952212626d85"
   },
   "outputs": [
    {
     "data": {
      "text/plain": [
       "array([[50, 60],\n",
       "       [80, 90]])"
      ]
     },
     "execution_count": 263,
     "metadata": {},
     "output_type": "execute_result"
    }
   ],
   "source": [
    "b2[1:3, 1:3]"
   ]
  },
  {
   "cell_type": "markdown",
   "metadata": {
    "id": "6e7yNVZfkooF"
   },
   "source": [
    "- 2차원 배열을 슬라이싱할 때 '행_시작_위치', '행_끝_위치', '열_시작_위치', '열_끝_위치'중 일부를 생략한 예"
   ]
  },
  {
   "cell_type": "code",
   "execution_count": 264,
   "metadata": {
    "id": "dx2L_uktkooG"
   },
   "outputs": [
    {
     "data": {
      "text/plain": [
       "array([[20, 30],\n",
       "       [50, 60],\n",
       "       [80, 90]])"
      ]
     },
     "execution_count": 264,
     "metadata": {},
     "output_type": "execute_result"
    }
   ],
   "source": [
    "b2[:3, 1:]"
   ]
  },
  {
   "cell_type": "markdown",
   "metadata": {
    "id": "9eMCHDq8kooG"
   },
   "source": [
    "- 2차원 배열에서 행을 지정하고 열을 슬라이싱하는 예"
   ]
  },
  {
   "cell_type": "code",
   "execution_count": 265,
   "metadata": {
    "id": "OUykPNoekooG"
   },
   "outputs": [
    {
     "data": {
      "text/plain": [
       "array([40, 50])"
      ]
     },
     "execution_count": 265,
     "metadata": {},
     "output_type": "execute_result"
    }
   ],
   "source": [
    "b2[1][0:2]"
   ]
  },
  {
   "cell_type": "markdown",
   "metadata": {
    "id": "oAryNZj3kooG",
    "nbpresent": {
     "id": "c4907ac4-1274-41b8-abd7-81c6de45235e"
    }
   },
   "source": [
    "- 1 차원 배열에서와 마찬가지로 다음과 같이 2차원 배열에서도 슬라이싱된 배열에 값을 지정"
   ]
  },
  {
   "cell_type": "code",
   "execution_count": 266,
   "metadata": {
    "id": "DGUPKuxhkooG",
    "nbpresent": {
     "id": "daad9c34-20d7-4214-906a-b9853876a577"
    }
   },
   "outputs": [
    {
     "data": {
      "text/plain": [
       "array([[10, 25, 35],\n",
       "       [40, 55, 65],\n",
       "       [70, 80, 90]])"
      ]
     },
     "execution_count": 266,
     "metadata": {},
     "output_type": "execute_result"
    }
   ],
   "source": [
    "b2[0:2, 1:3] = np.array([[25, 35], [55, 65]])\n",
    "b2"
   ]
  },
  {
   "cell_type": "markdown",
   "metadata": {
    "id": "r8xRDI9TkooG",
    "nbpresent": {
     "id": "3253a21a-7d3c-4ba9-8b4d-2c7b695abd09"
    }
   },
   "source": [
    "## 11.2 구조적 데이터 표시와 처리에 강한 pandas"
   ]
  },
  {
   "cell_type": "markdown",
   "metadata": {
    "id": "sB-6n5B3kooG"
   },
   "source": [
    "- 파이썬을 이용하면 다량의 데이터를 손쉽게 처리할 수 있음\n",
    "- 파이썬에서 데이터 분석과 처리를 쉽게 할 수 있게 도와주는 것이 바로 pandas 라이브러리\n",
    "- pandas는 NumPy를 기반으로 만들어졌지만 좀 더 복잡한 데이터 분석에 특화\n",
    "- NumPy가 같은 데이터 타입의 배열만 처리할 수 있는 데 반해 \n",
    "- pandas는 데이터 타입이 다양하게 섞여 있을 때도 처리할 수 있음\n",
    "- pandas 홈페이지(https://pandas.pydata.org)"
   ]
  },
  {
   "cell_type": "markdown",
   "metadata": {
    "id": "d3HMjVqakooG",
    "nbpresent": {
     "id": "3053de36-47f9-4381-8f4c-56a0dfeab6ba"
    }
   },
   "source": [
    "### 구조적 데이터 생성하기"
   ]
  },
  {
   "cell_type": "markdown",
   "metadata": {
    "id": "D67mk0eokooG"
   },
   "source": [
    "#### Series를 활용한 데이터 생성"
   ]
  },
  {
   "cell_type": "markdown",
   "metadata": {
    "id": "L-PAaoQykooG"
   },
   "source": [
    "- NumPy처럼 pandas도 보통 다음과 같이 'import ~ as ~ ' 형식으로 불러옴"
   ]
  },
  {
   "cell_type": "code",
   "execution_count": 267,
   "metadata": {
    "executionInfo": {
     "elapsed": 810,
     "status": "ok",
     "timestamp": 1660469492052,
     "user": {
      "displayName": "junhwa lee",
      "userId": "11332889748979012167"
     },
     "user_tz": -540
    },
    "id": "6X41khbEkooG",
    "nbpresent": {
     "id": "66bfcfea-981d-45e4-9746-66e647572cbe"
    }
   },
   "outputs": [],
   "source": [
    "import pandas as pd"
   ]
  },
  {
   "cell_type": "markdown",
   "metadata": {
    "id": "tIwtN6tIkooH"
   },
   "source": [
    "- pandas를 불러오면 이제 pandas를 이용할 때 pandas 대신 pd를 이용할 수 있음"
   ]
  },
  {
   "cell_type": "markdown",
   "metadata": {
    "id": "1IIJAZSNkooH"
   },
   "source": [
    "- pandas에서 데이터를 생성하는 가장 기본적인 방법은 SeriesO를 이용하는 것\n",
    "- Series()를 이용 하면 Series 형식의 구조적 데이터(라벨을 갖는 1차원 데이터)를 생성"
   ]
  },
  {
   "cell_type": "markdown",
   "metadata": {
    "id": "IazNrk8XkooH"
   },
   "source": [
    "- Series()를 이용해 Series 형식의 데이터를 생성하는 방법\n",
    "- s = pd.Series(seq_data)\n",
    "- SeriesO의 인자로는 시퀀스 데이터(seq_data)가 들어감\n",
    "- 시퀀스 데이터(seq_data)로는 리스트와 튜플 타입의 데이터를 모두 사용할 수 있지만 주로 리스트 데이터를 이용"
   ]
  },
  {
   "cell_type": "markdown",
   "metadata": {
    "id": "sqp9drsCkooH"
   },
   "source": [
    "- 지정하면 인자로 넣은 시퀀스 데이터(seq_data)에 순서를 표시하는 라벨이 자동으로 부여\n",
    "- Series 데이터에서는 세로축 라벨을 index라고 하고, 입력한 시퀀스 데이터를 values라고 함"
   ]
  },
  {
   "cell_type": "markdown",
   "metadata": {
    "id": "gLFXR73KkooH",
    "nbpresent": {
     "id": "7dd51bf0-751a-4a1f-8c11-8c92454ddfe8"
    }
   },
   "source": [
    "- Series 데이터의 구조"
   ]
  },
  {
   "cell_type": "code",
   "execution_count": 268,
   "metadata": {
    "colab": {
     "base_uri": "https://localhost:8080/"
    },
    "executionInfo": {
     "elapsed": 380,
     "status": "ok",
     "timestamp": 1660469502328,
     "user": {
      "displayName": "junhwa lee",
      "userId": "11332889748979012167"
     },
     "user_tz": -540
    },
    "id": "_m-P6rRNkooH",
    "nbpresent": {
     "id": "1ddc49b0-5c30-4bcd-9504-3b8c6b5dcb5e"
    },
    "outputId": "6f2b1d13-9ea1-4354-ccd9-a457c1885b36"
   },
   "outputs": [
    {
     "data": {
      "text/plain": [
       "0    10\n",
       "1    20\n",
       "2    30\n",
       "3    40\n",
       "4    50\n",
       "dtype: int64"
      ]
     },
     "execution_count": 268,
     "metadata": {},
     "output_type": "execute_result"
    }
   ],
   "source": [
    "s1 = pd.Series([10, 20, 30, 40, 50])\n",
    "s1"
   ]
  },
  {
   "cell_type": "markdown",
   "metadata": {
    "id": "krAUFG4IkooH"
   },
   "source": [
    "- Series 데이터를 출력하면 데이터 앞에 index가 함께 표시\n",
    "- index는Series 데이터 생성 시 자동으로 만들어진 것으로 데이터를 처리할 때 이용"
   ]
  },
  {
   "cell_type": "markdown",
   "metadata": {
    "id": "hJvpCOaHkooH"
   },
   "source": [
    "- Series 데이터는 index와 values를 분리해서 가져올 수 있음\n",
    "- Series 데이터를 s라고 할 때 index 는 ’s.index’로 values는 ‘s.values’로 가져올 수 있음"
   ]
  },
  {
   "cell_type": "markdown",
   "metadata": {
    "id": "agLzCBvZkooH",
    "nbpresent": {
     "id": "04b26713-532e-4ebd-a3e2-16f648d46376"
    }
   },
   "source": [
    "- Series 데이터에서 index를 가져온 예"
   ]
  },
  {
   "cell_type": "code",
   "execution_count": 269,
   "metadata": {
    "colab": {
     "base_uri": "https://localhost:8080/"
    },
    "executionInfo": {
     "elapsed": 385,
     "status": "ok",
     "timestamp": 1660469504944,
     "user": {
      "displayName": "junhwa lee",
      "userId": "11332889748979012167"
     },
     "user_tz": -540
    },
    "id": "dhYsNEAYkooI",
    "nbpresent": {
     "id": "519e2a61-61b0-46c0-855b-19d7d385f4eb"
    },
    "outputId": "a75ae148-0f23-4a65-bbaf-ed12b815bd22"
   },
   "outputs": [
    {
     "name": "stdout",
     "output_type": "stream",
     "text": [
      "RangeIndex(start=0, stop=5, step=1)\n"
     ]
    }
   ],
   "source": [
    "s1.index\n",
    "print(s1.index)"
   ]
  },
  {
   "cell_type": "markdown",
   "metadata": {
    "id": "nyf662b1kooI"
   },
   "source": [
    "- Rangelndex는 index를 범위로 표시했음을 의미\n",
    "- index의 범위는 'start ~ stop-1'이며 간격은 step만큼씩 증가"
   ]
  },
  {
   "cell_type": "markdown",
   "metadata": {
    "id": "uarlGfl2kooI"
   },
   "source": [
    "- Series 데이터에서 values를 가져온 예"
   ]
  },
  {
   "cell_type": "code",
   "execution_count": 270,
   "metadata": {
    "colab": {
     "base_uri": "https://localhost:8080/"
    },
    "executionInfo": {
     "elapsed": 344,
     "status": "ok",
     "timestamp": 1660469511647,
     "user": {
      "displayName": "junhwa lee",
      "userId": "11332889748979012167"
     },
     "user_tz": -540
    },
    "id": "ECXlslT2kooI",
    "nbpresent": {
     "id": "6418a920-9525-4608-992b-04e45e00bdb1"
    },
    "outputId": "5dadb1b7-0a15-4b72-dc82-608014dd09d4"
   },
   "outputs": [
    {
     "data": {
      "text/plain": [
       "array([10, 20, 30, 40, 50])"
      ]
     },
     "execution_count": 270,
     "metadata": {},
     "output_type": "execute_result"
    }
   ],
   "source": [
    "s1.values"
   ]
  },
  {
   "cell_type": "markdown",
   "metadata": {
    "id": "ZZip4anLkooI"
   },
   "source": [
    "- 결과가 NumPy의 배열과 형식이 같음"
   ]
  },
  {
   "cell_type": "markdown",
   "metadata": {
    "id": "MP7nW_2ikooI",
    "nbpresent": {
     "id": "017f3b47-bcf8-4afb-a814-b39120867dc1"
    }
   },
   "source": [
    "- NumPy의 경우 배열의 모든 원소가 데이터 타입이 같아야 했지만 pandas의 경우에는 원소의 데이터 타입이 달라도 됨\n",
    "- Series()로 데이터를 생성할 때 문자와 숫자가 혼합된 리스트를 인자로 이용"
   ]
  },
  {
   "cell_type": "code",
   "execution_count": 271,
   "metadata": {
    "colab": {
     "base_uri": "https://localhost:8080/"
    },
    "executionInfo": {
     "elapsed": 359,
     "status": "ok",
     "timestamp": 1660469519682,
     "user": {
      "displayName": "junhwa lee",
      "userId": "11332889748979012167"
     },
     "user_tz": -540
    },
    "id": "FoQ5rrUhkooI",
    "nbpresent": {
     "id": "d7fdd4f8-cfe4-4d35-9027-04a8f895bd39"
    },
    "outputId": "36110e4a-f938-4f3b-9947-a1a81cb95186"
   },
   "outputs": [
    {
     "data": {
      "text/plain": [
       "0    a\n",
       "1    b\n",
       "2    c\n",
       "3    1\n",
       "4    2\n",
       "5    3\n",
       "dtype: object"
      ]
     },
     "execution_count": 271,
     "metadata": {},
     "output_type": "execute_result"
    }
   ],
   "source": [
    "s2 = pd.Series(['a', 'b', 'c', 1, 2, 3])\n",
    "s2"
   ]
  },
  {
   "cell_type": "markdown",
   "metadata": {
    "id": "WxpMBfqakooI",
    "nbpresent": {
     "id": "31680d68-3153-4b2b-8b9d-79df2337e67d"
    }
   },
   "source": [
    "- 데이터가 없으면 NumPy를 임포트한 후에 np.nan으로 데이터가 없다고 표시할 수도 있음\n",
    "- np.nan를 이용해서 Series 데이터에 특정 원소가 없음을 표시한 예"
   ]
  },
  {
   "cell_type": "code",
   "execution_count": 272,
   "metadata": {
    "colab": {
     "base_uri": "https://localhost:8080/"
    },
    "executionInfo": {
     "elapsed": 354,
     "status": "ok",
     "timestamp": 1660469524403,
     "user": {
      "displayName": "junhwa lee",
      "userId": "11332889748979012167"
     },
     "user_tz": -540
    },
    "id": "sTPMVNtlkooJ",
    "nbpresent": {
     "id": "f71b60e9-e8e7-4b96-bc1c-a9fe3530798b"
    },
    "outputId": "c3f6bcea-b73c-4d65-c853-0e5198c6551e"
   },
   "outputs": [
    {
     "data": {
      "text/plain": [
       "0     NaN\n",
       "1    10.0\n",
       "2    30.0\n",
       "dtype: float64"
      ]
     },
     "execution_count": 272,
     "metadata": {},
     "output_type": "execute_result"
    }
   ],
   "source": [
    "import numpy as np\n",
    "\n",
    "s3 = pd.Series([np.nan,10,30])\n",
    "s3"
   ]
  },
  {
   "cell_type": "markdown",
   "metadata": {
    "id": "iitIwC_fkooJ"
   },
   "source": [
    "- NaN은 데이터가 없다는 것을 의미\n",
    "- 데이터를 위한 자리(index)는 있지만 실제 값은 없음"
   ]
  },
  {
   "cell_type": "markdown",
   "metadata": {
    "id": "87-nttgYkooJ"
   },
   "source": [
    "- Series 데이터를 생성할 때 다음과 같이 인자로 index를 추가할 수 있음\n",
    "- s = pd.Series(seq_data, index = index_seq)\n",
    "- 인자로 index를 명시적으로 입력하면 Series 변수(s)의 index에는 자동 생성되는 index 대신 index_Seq가 들어가게 됨\n",
    "- index_Seq도 리스트와 튜플 타입의 데이터를 모두 사용할 수 있지만 주로 리스트 데이터를 이용\n",
    "- seq_data의 항목 개수와 index_seq의 항목 개수는 같아야 한다는 것"
   ]
  },
  {
   "cell_type": "markdown",
   "metadata": {
    "id": "nTGdcT5wkooJ",
    "nbpresent": {
     "id": "39dc5eff-394b-46b3-aa9d-55c70bbd9496"
    }
   },
   "source": [
    "- 어느 가게의 날짜별 판매량을 pandas의 Series 형식으로 입력\n",
    "- 하루는 판매량 데이터가 없어서 np.nan를 입력"
   ]
  },
  {
   "cell_type": "code",
   "execution_count": 273,
   "metadata": {
    "colab": {
     "base_uri": "https://localhost:8080/"
    },
    "executionInfo": {
     "elapsed": 357,
     "status": "ok",
     "timestamp": 1660472118382,
     "user": {
      "displayName": "junhwa lee",
      "userId": "11332889748979012167"
     },
     "user_tz": -540
    },
    "id": "35kygIsWkooJ",
    "nbpresent": {
     "id": "74f4ebb2-9114-405a-bed9-99bc525a78ad"
    },
    "outputId": "1e6afca7-a867-45b4-fa61-29ae73d4cadc"
   },
   "outputs": [
    {
     "data": {
      "text/plain": [
       "2018-08-07    200.0\n",
       "2018-10-08    195.0\n",
       "2018-10-09      NaN\n",
       "2018-10-10    205.0\n",
       "dtype: float64"
      ]
     },
     "execution_count": 273,
     "metadata": {},
     "output_type": "execute_result"
    }
   ],
   "source": [
    "index_date = ['2018-08-07','2018-10-08','2018-10-09','2018-10-10']\n",
    "s4 = pd.Series([200, 195, np.nan, 205], index = index_date)\n",
    "s4"
   ]
  },
  {
   "cell_type": "markdown",
   "metadata": {
    "id": "hxPc5C6RkooJ"
   },
   "source": [
    "- index에는 입력 인자 index의 리스트 데이터가 지정됐음을 확인"
   ]
  },
  {
   "cell_type": "markdown",
   "metadata": {
    "id": "3oWaRP_pkooK"
   },
   "source": [
    "- 리스트 형식의 데이터와 index를 따로 입력했지만 파이썬의 딕셔너리를 이용하면 데이터와 index를 함께 입력할 수 있음\n",
    "- s = pd.Series(dict_data)\n",
    "- 입력 인자로 딕셔너리 데이터를 입력하면 딕셔너리 데이터의 키(keys)와값(values)이 각각 Series 데이터의 index와 values로 들어감"
   ]
  },
  {
   "cell_type": "markdown",
   "metadata": {
    "id": "a1eAiq9IkooK",
    "nbpresent": {
     "id": "0b5f5737-3bbf-4589-a0cf-cef8cc550611"
    }
   },
   "source": [
    " - Series 데이터의 index는 ‘국어’, ‘영어’, ‘수학’으로 지정됐고 values는 100, 90, 95로 지정된 것을 확인"
   ]
  },
  {
   "cell_type": "code",
   "execution_count": 274,
   "metadata": {
    "colab": {
     "base_uri": "https://localhost:8080/"
    },
    "executionInfo": {
     "elapsed": 336,
     "status": "ok",
     "timestamp": 1660472332979,
     "user": {
      "displayName": "junhwa lee",
      "userId": "11332889748979012167"
     },
     "user_tz": -540
    },
    "id": "omRgSfYpkooK",
    "nbpresent": {
     "id": "6a6af860-e19e-42b1-a693-785086548e38"
    },
    "outputId": "57a81f44-1763-4e5c-e7ca-8a4cd56d7c26"
   },
   "outputs": [
    {
     "data": {
      "text/plain": [
       "국어    100\n",
       "영어     95\n",
       "수학     90\n",
       "dtype: int64"
      ]
     },
     "execution_count": 274,
     "metadata": {},
     "output_type": "execute_result"
    }
   ],
   "source": [
    "s5 = pd.Series({'국어': 100, '영어': 95, '수학': 90})\n",
    "s5"
   ]
  },
  {
   "cell_type": "markdown",
   "metadata": {
    "id": "cDBCFghykooK",
    "nbpresent": {
     "id": "e34cc6cc-6420-414b-8514-8f57694090d1"
    }
   },
   "source": [
    "#### 날짜 자동 생성: date_range"
   ]
  },
  {
   "cell_type": "markdown",
   "metadata": {
    "id": "_pKTcdXbkooK"
   },
   "source": [
    "- index에 날짜를 입력할 때 'index = [ '2018-10-07','2018-10-08• 2018-10-09','2018-10-10' ]처럼 문자열을 하나씩 입력\n",
    "- pandas에서 제공하 는 date_range()\n",
    "- 원하는 날짜를 자동으로 생성하므로 날짜 데이터를 입력 할 때 편리\n",
    "- pd.date_range(start=None, end=None, periods=None, freq='D')\n",
    "- start는 시작 날짜，end는 끝 날짜，periods는 날짜 데이터 생성 기간，freq는 날짜 데이터 생성 주기를 나타냄\n",
    "- start는 반드시 있어야 하며 end나 periods는 둘 중 하나만 있어도 됨\n",
    "- freq를 입력하지 않으면 ’D’ 옵션이 설정돼 달력 날짜 기준으로 하루씩 증가"
   ]
  },
  {
   "cell_type": "markdown",
   "metadata": {
    "id": "NGAx71_IkooK",
    "nbpresent": {
     "id": "e1187589-6ec4-42be-8434-0b0033c8477f"
    }
   },
   "source": [
    "- 시작 날짜와 끝 날짜를 지정해 날짜 데이터를 생성"
   ]
  },
  {
   "cell_type": "code",
   "execution_count": 275,
   "metadata": {
    "id": "K7cqhvSCkooK",
    "nbpresent": {
     "id": "06d21609-dc59-4651-afde-3c856ea50c4b"
    }
   },
   "outputs": [
    {
     "data": {
      "text/plain": [
       "DatetimeIndex(['2019-01-01', '2019-01-02', '2019-01-03', '2019-01-04',\n",
       "               '2019-01-05', '2019-01-06', '2019-01-07'],\n",
       "              dtype='datetime64[ns]', freq='D')"
      ]
     },
     "execution_count": 275,
     "metadata": {},
     "output_type": "execute_result"
    }
   ],
   "source": [
    "import pandas as pd\n",
    "\n",
    "pd.date_range(start='2019-01-01',end='2019-01-07')"
   ]
  },
  {
   "cell_type": "markdown",
   "metadata": {
    "id": "IKyPB-w2kooK"
   },
   "source": [
    "- 시작 날짜{start)에서 끝 날짜(end)까지 하루씩 증가한 날짜 데이터가 생성"
   ]
  },
  {
   "cell_type": "markdown",
   "metadata": {
    "id": "4xf4plcdkooK",
    "nbpresent": {
     "id": "c9e8fe37-37a3-4115-ab80-3cd84eb9b8af"
    }
   },
   "source": [
    "- 생성된 날짜 데이터의 형식은 모두 yyyy-mm-dd "
   ]
  },
  {
   "cell_type": "code",
   "execution_count": 276,
   "metadata": {
    "id": "cYtADbsrkooK",
    "nbpresent": {
     "id": "5a518f1c-dd28-47bb-9b5b-178f04a6948d"
    }
   },
   "outputs": [
    {
     "data": {
      "text/plain": [
       "DatetimeIndex(['2019-01-01', '2019-01-02', '2019-01-03', '2019-01-04',\n",
       "               '2019-01-05', '2019-01-06', '2019-01-07'],\n",
       "              dtype='datetime64[ns]', freq='D')"
      ]
     },
     "execution_count": 276,
     "metadata": {},
     "output_type": "execute_result"
    }
   ],
   "source": [
    "pd.date_range(start='2019/01/01',end='2019.01.07')"
   ]
  },
  {
   "cell_type": "code",
   "execution_count": 277,
   "metadata": {
    "id": "y_ClAd4CkooL",
    "nbpresent": {
     "id": "f4f35f24-624c-40f7-a8bc-ebbfd24736b0"
    }
   },
   "outputs": [
    {
     "data": {
      "text/plain": [
       "DatetimeIndex(['2019-01-01', '2019-01-02', '2019-01-03', '2019-01-04',\n",
       "               '2019-01-05', '2019-01-06', '2019-01-07'],\n",
       "              dtype='datetime64[ns]', freq='D')"
      ]
     },
     "execution_count": 277,
     "metadata": {},
     "output_type": "execute_result"
    }
   ],
   "source": [
    "pd.date_range(start='01-01-2019',end='01/07/2019')"
   ]
  },
  {
   "cell_type": "code",
   "execution_count": 278,
   "metadata": {
    "id": "Xluei0eIkooL",
    "nbpresent": {
     "id": "07ff4a01-812a-4b08-9522-05bd79a74a48"
    }
   },
   "outputs": [
    {
     "data": {
      "text/plain": [
       "DatetimeIndex(['2019-01-01', '2019-01-02', '2019-01-03', '2019-01-04',\n",
       "               '2019-01-05', '2019-01-06', '2019-01-07'],\n",
       "              dtype='datetime64[ns]', freq='D')"
      ]
     },
     "execution_count": 278,
     "metadata": {},
     "output_type": "execute_result"
    }
   ],
   "source": [
    "pd.date_range(start='2019-01-01',end='01.07.2019')"
   ]
  },
  {
   "cell_type": "markdown",
   "metadata": {
    "id": "LgXjxyHOkooL",
    "nbpresent": {
     "id": "e7936ce1-7662-4c7b-bc7f-5d799fd735b7"
    }
   },
   "source": [
    "- 시작 날짜와 끝 날짜를 지정해 날짜 데이터를 생성했는데 끝 날짜를 지정하지 않고 periods를 입력해서 날짜를 생성\n",
    "- 시작 날짜로부터 7개의 날짜가 하루씩 증가해 생성\n",
    "- freq 옵션을 쓰지 않으면 기본적으로 'D'가 지정되어 하루씩 날짜가 증가"
   ]
  },
  {
   "cell_type": "code",
   "execution_count": 279,
   "metadata": {
    "id": "40ot6-XnkooL",
    "nbpresent": {
     "id": "b384626e-1dd5-4dff-a9a2-72130a5f0a49"
    }
   },
   "outputs": [
    {
     "data": {
      "text/plain": [
       "DatetimeIndex(['2019-01-01', '2019-01-02', '2019-01-03', '2019-01-04',\n",
       "               '2019-01-05', '2019-01-06', '2019-01-07'],\n",
       "              dtype='datetime64[ns]', freq='D')"
      ]
     },
     "execution_count": 279,
     "metadata": {},
     "output_type": "execute_result"
    }
   ],
   "source": [
    "pd.date_range(start='2019-01-01', periods = 7)"
   ]
  },
  {
   "cell_type": "markdown",
   "metadata": {
    "id": "wlXqgDKzkooL",
    "nbpresent": {
     "id": "f8be1526-d123-4fa1-bbee-34be53114801"
    }
   },
   "source": [
    "- 2일씩 증가하는 날짜를 생성"
   ]
  },
  {
   "cell_type": "code",
   "execution_count": 280,
   "metadata": {
    "id": "673Spev1kooL",
    "nbpresent": {
     "id": "d903a44e-29bb-4898-b0f2-eba740edec3c"
    }
   },
   "outputs": [
    {
     "data": {
      "text/plain": [
       "DatetimeIndex(['2019-01-01', '2019-01-03', '2019-01-05', '2019-01-07'], dtype='datetime64[ns]', freq='2D')"
      ]
     },
     "execution_count": 280,
     "metadata": {},
     "output_type": "execute_result"
    }
   ],
   "source": [
    "pd.date_range(start='2019-01-01', periods = 4, freq = '2D')"
   ]
  },
  {
   "cell_type": "markdown",
   "metadata": {
    "id": "Iftyj8bJkooL",
    "nbpresent": {
     "id": "1b7fbe54-966e-4a85-9498-23bce1b6c92a"
    }
   },
   "source": [
    "- 달력의 요일을 기준으로 일주일씩 증가하는 날짜를 생성"
   ]
  },
  {
   "cell_type": "code",
   "execution_count": 281,
   "metadata": {
    "id": "yT9JO4kGkooL",
    "nbpresent": {
     "id": "fba60d0d-6b69-4f90-8d39-c54b47f51bec"
    }
   },
   "outputs": [
    {
     "data": {
      "text/plain": [
       "DatetimeIndex(['2019-01-06', '2019-01-13', '2019-01-20', '2019-01-27'], dtype='datetime64[ns]', freq='W-SUN')"
      ]
     },
     "execution_count": 281,
     "metadata": {},
     "output_type": "execute_result"
    }
   ],
   "source": [
    "pd.date_range(start='2019-01-01', periods = 4, freq = 'W')"
   ]
  },
  {
   "cell_type": "markdown",
   "metadata": {
    "id": "K24zSskOkooL",
    "nbpresent": {
     "id": "168498ed-8edd-417e-9156-0cd544cb0677"
    }
   },
   "source": [
    "- 업무일 기준 2개월 월말 주기로 12개의 날짜를 생성한 예"
   ]
  },
  {
   "cell_type": "code",
   "execution_count": 282,
   "metadata": {
    "id": "dlK7BccrkooL",
    "nbpresent": {
     "id": "0b22ef6d-ad78-4da5-b382-bd6024782c6b"
    }
   },
   "outputs": [
    {
     "name": "stderr",
     "output_type": "stream",
     "text": [
      "C:\\Users\\lth08\\AppData\\Local\\Temp\\ipykernel_6432\\493010478.py:1: FutureWarning: 'BM' is deprecated and will be removed in a future version, please use 'BME' instead.\n",
      "  pd.date_range(start='2019-01-01', periods = 12, freq = '2BM')\n"
     ]
    },
    {
     "data": {
      "text/plain": [
       "DatetimeIndex(['2019-01-31', '2019-03-29', '2019-05-31', '2019-07-31',\n",
       "               '2019-09-30', '2019-11-29', '2020-01-31', '2020-03-31',\n",
       "               '2020-05-29', '2020-07-31', '2020-09-30', '2020-11-30'],\n",
       "              dtype='datetime64[ns]', freq='2BME')"
      ]
     },
     "execution_count": 282,
     "metadata": {},
     "output_type": "execute_result"
    }
   ],
   "source": [
    "pd.date_range(start='2019-01-01', periods = 12, freq = '2BM')"
   ]
  },
  {
   "cell_type": "markdown",
   "metadata": {
    "id": "1iipOTUikooL",
    "nbpresent": {
     "id": "f57ff21a-61e6-4103-a2b0-bd02db094b1d"
    }
   },
   "source": [
    "- 분기 시작일을 기준으로 4개의 날짜를 생성한 예"
   ]
  },
  {
   "cell_type": "code",
   "execution_count": 283,
   "metadata": {
    "id": "5T8zKyLXkooL",
    "nbpresent": {
     "id": "d445e468-b2cb-4025-8fd9-202b6efb110a"
    }
   },
   "outputs": [
    {
     "data": {
      "text/plain": [
       "DatetimeIndex(['2019-01-01', '2019-04-01', '2019-07-01', '2019-10-01'], dtype='datetime64[ns]', freq='QS-JAN')"
      ]
     },
     "execution_count": 283,
     "metadata": {},
     "output_type": "execute_result"
    }
   ],
   "source": [
    "pd.date_range(start='2019-01-01', periods = 4, freq = 'QS')"
   ]
  },
  {
   "cell_type": "markdown",
   "metadata": {
    "id": "aU4peMq7kooL",
    "nbpresent": {
     "id": "8c66301a-1f3a-4bc3-8f22-9fa545147e23"
    }
   },
   "source": [
    "- 연도의 첫날을 기준으로 1년 주기로 3개의 날짜를 생성한 예"
   ]
  },
  {
   "cell_type": "code",
   "execution_count": 284,
   "metadata": {
    "id": "ISY4tY3MkooM",
    "nbpresent": {
     "id": "cb0573e7-b82a-4cc3-b287-b3f20f556602"
    }
   },
   "outputs": [
    {
     "name": "stderr",
     "output_type": "stream",
     "text": [
      "C:\\Users\\lth08\\AppData\\Local\\Temp\\ipykernel_6432\\895383405.py:1: FutureWarning: 'AS' is deprecated and will be removed in a future version, please use 'YS' instead.\n",
      "  pd.date_range(start='2019-01-01', periods = 3, freq = 'AS')\n"
     ]
    },
    {
     "data": {
      "text/plain": [
       "DatetimeIndex(['2019-01-01', '2020-01-01', '2021-01-01'], dtype='datetime64[ns]', freq='YS-JAN')"
      ]
     },
     "execution_count": 284,
     "metadata": {},
     "output_type": "execute_result"
    }
   ],
   "source": [
    "pd.date_range(start='2019-01-01', periods = 3, freq = 'AS')"
   ]
  },
  {
   "cell_type": "markdown",
   "metadata": {
    "id": "um_rVFfzkooM"
   },
   "source": [
    "- date_range()를 이용해 날짜뿐만 아니라 시간을 생성하는 방법"
   ]
  },
  {
   "cell_type": "markdown",
   "metadata": {
    "id": "QD0yDs0jkooM",
    "nbpresent": {
     "id": "8f774986-f8e7-421e-bcae-41248eb12237"
    }
   },
   "source": [
    "- 1시간 주기로 10개의 시간을 생성한 예"
   ]
  },
  {
   "cell_type": "code",
   "execution_count": 285,
   "metadata": {
    "id": "NuCgUxjmkooM",
    "nbpresent": {
     "id": "29a2b7cf-7c0a-4ce4-b42c-0569c419df7c"
    }
   },
   "outputs": [
    {
     "name": "stderr",
     "output_type": "stream",
     "text": [
      "C:\\Users\\lth08\\AppData\\Local\\Temp\\ipykernel_6432\\1824892342.py:1: FutureWarning: 'H' is deprecated and will be removed in a future version, please use 'h' instead.\n",
      "  pd.date_range(start = '2019-01-01 08:00', periods = 10, freq='H')\n"
     ]
    },
    {
     "data": {
      "text/plain": [
       "DatetimeIndex(['2019-01-01 08:00:00', '2019-01-01 09:00:00',\n",
       "               '2019-01-01 10:00:00', '2019-01-01 11:00:00',\n",
       "               '2019-01-01 12:00:00', '2019-01-01 13:00:00',\n",
       "               '2019-01-01 14:00:00', '2019-01-01 15:00:00',\n",
       "               '2019-01-01 16:00:00', '2019-01-01 17:00:00'],\n",
       "              dtype='datetime64[ns]', freq='h')"
      ]
     },
     "execution_count": 285,
     "metadata": {},
     "output_type": "execute_result"
    }
   ],
   "source": [
    "pd.date_range(start = '2019-01-01 08:00', periods = 10, freq='H')"
   ]
  },
  {
   "cell_type": "markdown",
   "metadata": {
    "id": "Y_X3cxhKkooM",
    "nbpresent": {
     "id": "1e16dc55-b746-4e32-a1d2-27b157651f9a"
    }
   },
   "source": [
    "- 업무 시간을 기준으로 1 시간 주기로 10개의 시간을 생성하는 예"
   ]
  },
  {
   "cell_type": "code",
   "execution_count": 286,
   "metadata": {
    "id": "xSo6vwc5kooM",
    "nbpresent": {
     "id": "a34f347c-3fa5-4963-b01e-db885c857a0b"
    }
   },
   "outputs": [
    {
     "name": "stderr",
     "output_type": "stream",
     "text": [
      "C:\\Users\\lth08\\AppData\\Local\\Temp\\ipykernel_6432\\2623628085.py:1: FutureWarning: 'BH' is deprecated and will be removed in a future version, please use 'bh' instead.\n",
      "  pd.date_range(start = '2019-01-01 08:00', periods = 10, freq='BH')\n"
     ]
    },
    {
     "data": {
      "text/plain": [
       "DatetimeIndex(['2019-01-01 09:00:00', '2019-01-01 10:00:00',\n",
       "               '2019-01-01 11:00:00', '2019-01-01 12:00:00',\n",
       "               '2019-01-01 13:00:00', '2019-01-01 14:00:00',\n",
       "               '2019-01-01 15:00:00', '2019-01-01 16:00:00',\n",
       "               '2019-01-02 09:00:00', '2019-01-02 10:00:00'],\n",
       "              dtype='datetime64[ns]', freq='bh')"
      ]
     },
     "execution_count": 286,
     "metadata": {},
     "output_type": "execute_result"
    }
   ],
   "source": [
    "pd.date_range(start = '2019-01-01 08:00', periods = 10, freq='BH')"
   ]
  },
  {
   "cell_type": "markdown",
   "metadata": {
    "id": "vv0Z9ObpkooM",
    "nbpresent": {
     "id": "f2801b0a-a381-45c8-8c5e-85c24e53add2"
    }
   },
   "source": [
    "- 30분 단위로 4개의 시간을 생성한 예"
   ]
  },
  {
   "cell_type": "code",
   "execution_count": 287,
   "metadata": {
    "id": "HCYWbQh5kooM",
    "nbpresent": {
     "id": "73f4bd90-1578-45f6-88ec-4e2cf26239e1"
    }
   },
   "outputs": [
    {
     "data": {
      "text/plain": [
       "DatetimeIndex(['2019-01-01 10:00:00', '2019-01-01 10:30:00',\n",
       "               '2019-01-01 11:00:00', '2019-01-01 11:30:00'],\n",
       "              dtype='datetime64[ns]', freq='30min')"
      ]
     },
     "execution_count": 287,
     "metadata": {},
     "output_type": "execute_result"
    }
   ],
   "source": [
    "pd.date_range(start = '2019-01-01 10:00', periods = 4, freq='30min')"
   ]
  },
  {
   "cell_type": "markdown",
   "metadata": {
    "id": "k1HLZkySkooM"
   },
   "source": [
    "- 분 단위를 'T'로 입력해도 결과는 같음"
   ]
  },
  {
   "cell_type": "code",
   "execution_count": 288,
   "metadata": {
    "id": "u3VsnwgTkooM"
   },
   "outputs": [
    {
     "name": "stderr",
     "output_type": "stream",
     "text": [
      "C:\\Users\\lth08\\AppData\\Local\\Temp\\ipykernel_6432\\3856430146.py:1: FutureWarning: 'T' is deprecated and will be removed in a future version, please use 'min' instead.\n",
      "  pd.date_range(start = '2019-01-01 10:00', periods = 4, freq='30T')\n"
     ]
    },
    {
     "data": {
      "text/plain": [
       "DatetimeIndex(['2019-01-01 10:00:00', '2019-01-01 10:30:00',\n",
       "               '2019-01-01 11:00:00', '2019-01-01 11:30:00'],\n",
       "              dtype='datetime64[ns]', freq='30min')"
      ]
     },
     "execution_count": 288,
     "metadata": {},
     "output_type": "execute_result"
    }
   ],
   "source": [
    "pd.date_range(start = '2019-01-01 10:00', periods = 4, freq='30T')"
   ]
  },
  {
   "cell_type": "markdown",
   "metadata": {
    "id": "2n42jYgckooN",
    "nbpresent": {
     "id": "4a1a0340-f16f-4fff-8300-7985cc2225f1"
    }
   },
   "source": [
    "- 10초 단위로 증가하면서 4개의 시간을 생성"
   ]
  },
  {
   "cell_type": "code",
   "execution_count": 289,
   "metadata": {
    "id": "5Mr1SdEQkooN",
    "nbpresent": {
     "id": "60b46d21-9ffe-496e-9245-20a5cac07ec9"
    }
   },
   "outputs": [
    {
     "name": "stderr",
     "output_type": "stream",
     "text": [
      "C:\\Users\\lth08\\AppData\\Local\\Temp\\ipykernel_6432\\1957818797.py:1: FutureWarning: 'S' is deprecated and will be removed in a future version, please use 's' instead.\n",
      "  pd.date_range(start = '2019-01-01 10:00:00', periods = 4, freq='10S')\n"
     ]
    },
    {
     "data": {
      "text/plain": [
       "DatetimeIndex(['2019-01-01 10:00:00', '2019-01-01 10:00:10',\n",
       "               '2019-01-01 10:00:20', '2019-01-01 10:00:30'],\n",
       "              dtype='datetime64[ns]', freq='10s')"
      ]
     },
     "execution_count": 289,
     "metadata": {},
     "output_type": "execute_result"
    }
   ],
   "source": [
    "pd.date_range(start = '2019-01-01 10:00:00', periods = 4, freq='10S')"
   ]
  },
  {
   "cell_type": "markdown",
   "metadata": {
    "id": "mrmcOFEekooN",
    "nbpresent": {
     "id": "4dd2c3e0-83db-407b-aefa-b9dbb4fbb5fc"
    }
   },
   "source": [
    "- date_range()를 이용해 Series의 index를 지정한 예\n",
    "- 특정 날짜부터 5일간의 판매량을 표시하려면 다음과 같이 입력"
   ]
  },
  {
   "cell_type": "code",
   "execution_count": 290,
   "metadata": {
    "id": "frZjiovYkooN",
    "nbpresent": {
     "id": "89158dfa-2548-4e6e-9d9c-ffea68274878"
    }
   },
   "outputs": [
    {
     "data": {
      "text/plain": [
       "2019-03-01    51\n",
       "2019-03-02    62\n",
       "2019-03-03    55\n",
       "2019-03-04    49\n",
       "2019-03-05    58\n",
       "Freq: D, dtype: int64"
      ]
     },
     "execution_count": 290,
     "metadata": {},
     "output_type": "execute_result"
    }
   ],
   "source": [
    "index_date = pd.date_range(start = '2019-03-01', periods = 5, freq='D')\n",
    "pd.Series([51, 62, 55, 49, 58], index = index_date )"
   ]
  },
  {
   "cell_type": "markdown",
   "metadata": {
    "id": "KXOuX1Y7kooN"
   },
   "source": [
    "- pandas의 date_range()를 이용해 날짜와 시간을 자동으로 생성하는 방법"
   ]
  },
  {
   "cell_type": "markdown",
   "metadata": {
    "id": "zdkbc1i5kooN",
    "nbpresent": {
     "id": "109eb28e-8e97-4bf0-903f-00833d9c4791"
    }
   },
   "source": [
    "#### DataFrame을 활용한 데이터 생성"
   ]
  },
  {
   "cell_type": "markdown",
   "metadata": {
    "id": "XAu192jskooN"
   },
   "source": [
    "- Series를 이용해 1차원 데이터를 생성"
   ]
  },
  {
   "cell_type": "markdown",
   "metadata": {
    "id": "idCfYyKnkooN"
   },
   "source": [
    "- pandas에서는 표(Table)와 같은 2차원 데이터 처리를 위해 DataFrame을 제공\n",
    "- DataFrame은 이름에서 알 수 있듯이 자료(Data)를 담는 틀(Frame)임\n",
    "- DataFrame을 이용하면 라벨이 있는 2차원 데이터를 생성하고 처리할 수 있음"
   ]
  },
  {
   "cell_type": "markdown",
   "metadata": {
    "id": "Fj2CJL7ukooN"
   },
   "source": [
    "- DataFrame을 이용해 데이터를 생성하는 방법\n",
    "- df = pd.DataFrame(data [, index = index一data, columns = columns_data])\n",
    "- DataFrame()의 인자인 data에는 리스트와 형태가 유사한 데이터 타입은 모두 사용할 수 있음\n",
    "- 리스트와 딕셔너리 타입의 데이터, NumPy의 배열 데이터, Series나 DataFrame 타입의 데이터를 입력 할 수 있음"
   ]
  },
  {
   "cell_type": "markdown",
   "metadata": {
    "id": "Y_dQqRRmkooN"
   },
   "source": [
    "- DataFrame의 세로축 라벨을 index라고 하고 가로축 라벨을 columns라고 함\n",
    "- index와 columns를 제외한 부분을 values라고 함"
   ]
  },
  {
   "cell_type": "markdown",
   "metadata": {
    "id": "Xdsy8MhOkooN"
   },
   "source": [
    "- index와 columns에는 1차원 배열과 유사한 데이터 타입(리스트, NumPy의 배열 데이터，Series 데이터 등)의 데이터를 입력할 수 있음\n",
    "- DataFrame의 data의 행 개수와 index 요소의 개수, data 열의 개수와 columns 요소의 개수가 일치해야 한다는 것\n",
    "- index와 columns는 선택 사항이므로 입력하지 않을 수 있는데 그러면 index 와 columns에는 자동으로 0부터 숫자가 생성되어 채워짐"
   ]
  },
  {
   "cell_type": "markdown",
   "metadata": {
    "id": "PvCZxPrFkooN"
   },
   "source": [
    "- 리스트를 이용해 DataFrame의 데이터를 생성하는 예"
   ]
  },
  {
   "cell_type": "code",
   "execution_count": 291,
   "metadata": {
    "id": "yg3LYIhakooO"
   },
   "outputs": [
    {
     "data": {
      "text/html": [
       "<div>\n",
       "<style scoped>\n",
       "    .dataframe tbody tr th:only-of-type {\n",
       "        vertical-align: middle;\n",
       "    }\n",
       "\n",
       "    .dataframe tbody tr th {\n",
       "        vertical-align: top;\n",
       "    }\n",
       "\n",
       "    .dataframe thead th {\n",
       "        text-align: right;\n",
       "    }\n",
       "</style>\n",
       "<table border=\"1\" class=\"dataframe\">\n",
       "  <thead>\n",
       "    <tr style=\"text-align: right;\">\n",
       "      <th></th>\n",
       "      <th>0</th>\n",
       "      <th>1</th>\n",
       "      <th>2</th>\n",
       "    </tr>\n",
       "  </thead>\n",
       "  <tbody>\n",
       "    <tr>\n",
       "      <th>0</th>\n",
       "      <td>1</td>\n",
       "      <td>2</td>\n",
       "      <td>3</td>\n",
       "    </tr>\n",
       "    <tr>\n",
       "      <th>1</th>\n",
       "      <td>4</td>\n",
       "      <td>5</td>\n",
       "      <td>6</td>\n",
       "    </tr>\n",
       "    <tr>\n",
       "      <th>2</th>\n",
       "      <td>7</td>\n",
       "      <td>8</td>\n",
       "      <td>9</td>\n",
       "    </tr>\n",
       "  </tbody>\n",
       "</table>\n",
       "</div>"
      ],
      "text/plain": [
       "   0  1  2\n",
       "0  1  2  3\n",
       "1  4  5  6\n",
       "2  7  8  9"
      ]
     },
     "execution_count": 291,
     "metadata": {},
     "output_type": "execute_result"
    }
   ],
   "source": [
    "import pandas as pd\n",
    "\n",
    "pd.DataFrame([[1, 2, 3], [4, 5, 6], [7, 8, 9]])"
   ]
  },
  {
   "cell_type": "markdown",
   "metadata": {
    "id": "fVoGq7w-kooO"
   },
   "source": [
    "- values 부분에는 입력한 data가 순서대로 입력돼 있고 \n",
    "- 가장 좌측의 열과 가장 윗줄의 행에는 각각 숫자가 자동으로 생성되어 index와 columns를 구성\n",
    "- index와 columns를 입력하지 않더라도 자동으로 index와 columns가 생성됨"
   ]
  },
  {
   "cell_type": "markdown",
   "metadata": {
    "id": "3upsntCOkooO"
   },
   "source": [
    "- NumPy의 배열 데이터를 입력해 생성한 DataFrame 데이터의 예"
   ]
  },
  {
   "cell_type": "code",
   "execution_count": 292,
   "metadata": {
    "id": "0KqIWFo7kooO"
   },
   "outputs": [
    {
     "data": {
      "text/html": [
       "<div>\n",
       "<style scoped>\n",
       "    .dataframe tbody tr th:only-of-type {\n",
       "        vertical-align: middle;\n",
       "    }\n",
       "\n",
       "    .dataframe tbody tr th {\n",
       "        vertical-align: top;\n",
       "    }\n",
       "\n",
       "    .dataframe thead th {\n",
       "        text-align: right;\n",
       "    }\n",
       "</style>\n",
       "<table border=\"1\" class=\"dataframe\">\n",
       "  <thead>\n",
       "    <tr style=\"text-align: right;\">\n",
       "      <th></th>\n",
       "      <th>0</th>\n",
       "      <th>1</th>\n",
       "      <th>2</th>\n",
       "    </tr>\n",
       "  </thead>\n",
       "  <tbody>\n",
       "    <tr>\n",
       "      <th>0</th>\n",
       "      <td>10</td>\n",
       "      <td>20</td>\n",
       "      <td>30</td>\n",
       "    </tr>\n",
       "    <tr>\n",
       "      <th>1</th>\n",
       "      <td>40</td>\n",
       "      <td>50</td>\n",
       "      <td>60</td>\n",
       "    </tr>\n",
       "    <tr>\n",
       "      <th>2</th>\n",
       "      <td>70</td>\n",
       "      <td>80</td>\n",
       "      <td>90</td>\n",
       "    </tr>\n",
       "  </tbody>\n",
       "</table>\n",
       "</div>"
      ],
      "text/plain": [
       "    0   1   2\n",
       "0  10  20  30\n",
       "1  40  50  60\n",
       "2  70  80  90"
      ]
     },
     "execution_count": 292,
     "metadata": {},
     "output_type": "execute_result"
    }
   ],
   "source": [
    "import numpy as np\n",
    "import pandas as pd\n",
    "\n",
    "data_list = np.array([[10, 20, 30], [40, 50, 60], [70, 80, 90]])\n",
    "pd.DataFrame(data_list)"
   ]
  },
  {
   "cell_type": "markdown",
   "metadata": {
    "id": "5QI9mVqdkooO"
   },
   "source": [
    "- data 뿐만 아니라 index와 columns도 지정"
   ]
  },
  {
   "cell_type": "code",
   "execution_count": 293,
   "metadata": {
    "colab": {
     "base_uri": "https://localhost:8080/",
     "height": 175
    },
    "executionInfo": {
     "elapsed": 378,
     "status": "ok",
     "timestamp": 1660472720368,
     "user": {
      "displayName": "junhwa lee",
      "userId": "11332889748979012167"
     },
     "user_tz": -540
    },
    "id": "eVLhnsK0kooO",
    "outputId": "44b89867-ad43-469c-cb41-a3624776adba"
   },
   "outputs": [
    {
     "data": {
      "text/html": [
       "<div>\n",
       "<style scoped>\n",
       "    .dataframe tbody tr th:only-of-type {\n",
       "        vertical-align: middle;\n",
       "    }\n",
       "\n",
       "    .dataframe tbody tr th {\n",
       "        vertical-align: top;\n",
       "    }\n",
       "\n",
       "    .dataframe thead th {\n",
       "        text-align: right;\n",
       "    }\n",
       "</style>\n",
       "<table border=\"1\" class=\"dataframe\">\n",
       "  <thead>\n",
       "    <tr style=\"text-align: right;\">\n",
       "      <th></th>\n",
       "      <th>A</th>\n",
       "      <th>B</th>\n",
       "      <th>C</th>\n",
       "    </tr>\n",
       "  </thead>\n",
       "  <tbody>\n",
       "    <tr>\n",
       "      <th>2019-09-01</th>\n",
       "      <td>1</td>\n",
       "      <td>2</td>\n",
       "      <td>3</td>\n",
       "    </tr>\n",
       "    <tr>\n",
       "      <th>2019-09-02</th>\n",
       "      <td>4</td>\n",
       "      <td>5</td>\n",
       "      <td>6</td>\n",
       "    </tr>\n",
       "    <tr>\n",
       "      <th>2019-09-03</th>\n",
       "      <td>7</td>\n",
       "      <td>8</td>\n",
       "      <td>9</td>\n",
       "    </tr>\n",
       "    <tr>\n",
       "      <th>2019-09-04</th>\n",
       "      <td>10</td>\n",
       "      <td>11</td>\n",
       "      <td>12</td>\n",
       "    </tr>\n",
       "  </tbody>\n",
       "</table>\n",
       "</div>"
      ],
      "text/plain": [
       "             A   B   C\n",
       "2019-09-01   1   2   3\n",
       "2019-09-02   4   5   6\n",
       "2019-09-03   7   8   9\n",
       "2019-09-04  10  11  12"
      ]
     },
     "execution_count": 293,
     "metadata": {},
     "output_type": "execute_result"
    }
   ],
   "source": [
    "import numpy as np\n",
    "import pandas as pd\n",
    "\n",
    "data = np.array([[1, 2, 3], [4, 5, 6], [7, 8 ,9], [10, 11, 12]])\n",
    "index_date = pd.date_range('2019-09-01', periods=4)\n",
    "columns_list = ['A', 'B', 'C']\n",
    "pd.DataFrame(data, index=index_date, columns=columns_list)"
   ]
  },
  {
   "cell_type": "markdown",
   "metadata": {
    "id": "n_WbzBFxkooO"
   },
   "source": [
    "- index와 columns에 지정한 값이 들어간 것\n",
    "- index에는 date_range()로 생성한 날짜를, columns에는 리스트 데이터([_A_, _B_,‘C’])를 입력"
   ]
  },
  {
   "cell_type": "markdown",
   "metadata": {
    "id": "mM4WhDlkkooO"
   },
   "source": [
    "- 딕셔너리 타입으로 2차원 데이터를 입력한 예"
   ]
  },
  {
   "cell_type": "code",
   "execution_count": 294,
   "metadata": {
    "colab": {
     "base_uri": "https://localhost:8080/"
    },
    "executionInfo": {
     "elapsed": 348,
     "status": "ok",
     "timestamp": 1660472723465,
     "user": {
      "displayName": "junhwa lee",
      "userId": "11332889748979012167"
     },
     "user_tz": -540
    },
    "id": "DCzXuDn6kooO",
    "outputId": "7d364fcd-5076-48b5-cd6b-7bb528713ba0"
   },
   "outputs": [
    {
     "data": {
      "text/plain": [
       "{'연도': [2015, 2016, 2016, 2017, 2017],\n",
       " '지사': ['한국', '한국', '미국', '한국', '미국'],\n",
       " '고객 수': [200, 250, 450, 300, 500]}"
      ]
     },
     "execution_count": 294,
     "metadata": {},
     "output_type": "execute_result"
    }
   ],
   "source": [
    "table_data = {'연도': [2015, 2016, 2016, 2017, 2017],\n",
    "              '지사': ['한국', '한국', '미국', '한국','미국'],\n",
    "              '고객 수': [200, 250, 450, 300, 500]}\n",
    "              \n",
    "table_data"
   ]
  },
  {
   "cell_type": "markdown",
   "metadata": {
    "id": "VoAOlXFYkooO"
   },
   "source": [
    "- 만든 딕셔너리 데이터를 이용해 DataFrame 형식의 데이터를 생성"
   ]
  },
  {
   "cell_type": "code",
   "execution_count": 295,
   "metadata": {
    "colab": {
     "base_uri": "https://localhost:8080/",
     "height": 206
    },
    "executionInfo": {
     "elapsed": 373,
     "status": "ok",
     "timestamp": 1660472727156,
     "user": {
      "displayName": "junhwa lee",
      "userId": "11332889748979012167"
     },
     "user_tz": -540
    },
    "id": "LV0fX2YDkooP",
    "outputId": "49375a98-b4d3-474b-e570-fe965ac38fee"
   },
   "outputs": [
    {
     "data": {
      "text/html": [
       "<div>\n",
       "<style scoped>\n",
       "    .dataframe tbody tr th:only-of-type {\n",
       "        vertical-align: middle;\n",
       "    }\n",
       "\n",
       "    .dataframe tbody tr th {\n",
       "        vertical-align: top;\n",
       "    }\n",
       "\n",
       "    .dataframe thead th {\n",
       "        text-align: right;\n",
       "    }\n",
       "</style>\n",
       "<table border=\"1\" class=\"dataframe\">\n",
       "  <thead>\n",
       "    <tr style=\"text-align: right;\">\n",
       "      <th></th>\n",
       "      <th>연도</th>\n",
       "      <th>지사</th>\n",
       "      <th>고객 수</th>\n",
       "    </tr>\n",
       "  </thead>\n",
       "  <tbody>\n",
       "    <tr>\n",
       "      <th>0</th>\n",
       "      <td>2015</td>\n",
       "      <td>한국</td>\n",
       "      <td>200</td>\n",
       "    </tr>\n",
       "    <tr>\n",
       "      <th>1</th>\n",
       "      <td>2016</td>\n",
       "      <td>한국</td>\n",
       "      <td>250</td>\n",
       "    </tr>\n",
       "    <tr>\n",
       "      <th>2</th>\n",
       "      <td>2016</td>\n",
       "      <td>미국</td>\n",
       "      <td>450</td>\n",
       "    </tr>\n",
       "    <tr>\n",
       "      <th>3</th>\n",
       "      <td>2017</td>\n",
       "      <td>한국</td>\n",
       "      <td>300</td>\n",
       "    </tr>\n",
       "    <tr>\n",
       "      <th>4</th>\n",
       "      <td>2017</td>\n",
       "      <td>미국</td>\n",
       "      <td>500</td>\n",
       "    </tr>\n",
       "  </tbody>\n",
       "</table>\n",
       "</div>"
      ],
      "text/plain": [
       "     연도  지사  고객 수\n",
       "0  2015  한국   200\n",
       "1  2016  한국   250\n",
       "2  2016  미국   450\n",
       "3  2017  한국   300\n",
       "4  2017  미국   500"
      ]
     },
     "execution_count": 295,
     "metadata": {},
     "output_type": "execute_result"
    }
   ],
   "source": [
    "pd.DataFrame(table_data)"
   ]
  },
  {
   "cell_type": "markdown",
   "metadata": {
    "id": "Yvzk1XfUkooP"
   },
   "source": [
    "- index는 자동으로 생성됐고 딕셔너리 데이터의 키(keys)는 DataFrame에서 columns 로 지정돼\n",
    "- 표에서 각 열의 제목(고객 수，연도, 지사)처럼 들어간 것"
   ]
  },
  {
   "cell_type": "markdown",
   "metadata": {
    "id": "Hw93zOhwkooP"
   },
   "source": [
    "- DataFrame 데이터의 열은 입력한 데이터의 순서대로 생성되지 않았음\n",
    "- 딕셔너리 데이 터가 키(keys)에 따라서 자동으로 정렬됐기 때문\n",
    "- 한글은 가나다순으로 영어는 알파벳순으로 정렬"
   ]
  },
  {
   "cell_type": "markdown",
   "metadata": {
    "id": "hbuIpVZzkooQ"
   },
   "source": [
    "- 데이터의 정렬 순서는 다음과 같이 ’columns = columns_list‘를 이용해 키의 순서를 지정할 수 있음"
   ]
  },
  {
   "cell_type": "code",
   "execution_count": 296,
   "metadata": {
    "colab": {
     "base_uri": "https://localhost:8080/",
     "height": 206
    },
    "executionInfo": {
     "elapsed": 340,
     "status": "ok",
     "timestamp": 1660473305598,
     "user": {
      "displayName": "junhwa lee",
      "userId": "11332889748979012167"
     },
     "user_tz": -540
    },
    "id": "xqsOTFoykooQ",
    "nbpresent": {
     "id": "f7e8b4a4-6320-40f5-8a00-0c76efbb34c1"
    },
    "outputId": "03c68710-8a7a-4221-fe30-506ba8939d05"
   },
   "outputs": [
    {
     "data": {
      "text/html": [
       "<div>\n",
       "<style scoped>\n",
       "    .dataframe tbody tr th:only-of-type {\n",
       "        vertical-align: middle;\n",
       "    }\n",
       "\n",
       "    .dataframe tbody tr th {\n",
       "        vertical-align: top;\n",
       "    }\n",
       "\n",
       "    .dataframe thead th {\n",
       "        text-align: right;\n",
       "    }\n",
       "</style>\n",
       "<table border=\"1\" class=\"dataframe\">\n",
       "  <thead>\n",
       "    <tr style=\"text-align: right;\">\n",
       "      <th></th>\n",
       "      <th>연도</th>\n",
       "      <th>지사</th>\n",
       "      <th>고객 수</th>\n",
       "    </tr>\n",
       "  </thead>\n",
       "  <tbody>\n",
       "    <tr>\n",
       "      <th>0</th>\n",
       "      <td>2015</td>\n",
       "      <td>한국</td>\n",
       "      <td>200</td>\n",
       "    </tr>\n",
       "    <tr>\n",
       "      <th>1</th>\n",
       "      <td>2016</td>\n",
       "      <td>한국</td>\n",
       "      <td>250</td>\n",
       "    </tr>\n",
       "    <tr>\n",
       "      <th>2</th>\n",
       "      <td>2016</td>\n",
       "      <td>미국</td>\n",
       "      <td>450</td>\n",
       "    </tr>\n",
       "    <tr>\n",
       "      <th>3</th>\n",
       "      <td>2017</td>\n",
       "      <td>한국</td>\n",
       "      <td>300</td>\n",
       "    </tr>\n",
       "    <tr>\n",
       "      <th>4</th>\n",
       "      <td>2017</td>\n",
       "      <td>미국</td>\n",
       "      <td>500</td>\n",
       "    </tr>\n",
       "  </tbody>\n",
       "</table>\n",
       "</div>"
      ],
      "text/plain": [
       "     연도  지사  고객 수\n",
       "0  2015  한국   200\n",
       "1  2016  한국   250\n",
       "2  2016  미국   450\n",
       "3  2017  한국   300\n",
       "4  2017  미국   500"
      ]
     },
     "execution_count": 296,
     "metadata": {},
     "output_type": "execute_result"
    }
   ],
   "source": [
    "df = pd.DataFrame(table_data, columns=['연도', '지사', '고객 수'])\n",
    "df"
   ]
  },
  {
   "cell_type": "markdown",
   "metadata": {
    "id": "kNjc09uikooQ"
   },
   "source": [
    "- DataFrame 데이터에서 index, columns, values는 \n",
    "- 각각 DataFrame_data.index, DataFrame_data.columns, DataFramedata.values로 확인할 수 있음"
   ]
  },
  {
   "cell_type": "markdown",
   "metadata": {
    "id": "99BOlvolkooQ",
    "nbpresent": {
     "id": "523df774-1955-4d98-894e-b0d4d7dc259a"
    }
   },
   "source": [
    "- DataFrame 데이터에서 index, columns, values를 각각 구한 예"
   ]
  },
  {
   "cell_type": "code",
   "execution_count": 297,
   "metadata": {
    "id": "xOUqNlJSkooQ",
    "nbpresent": {
     "id": "dfdbc505-3c93-471f-8efe-ef7f393351af"
    }
   },
   "outputs": [
    {
     "data": {
      "text/plain": [
       "RangeIndex(start=0, stop=5, step=1)"
      ]
     },
     "execution_count": 297,
     "metadata": {},
     "output_type": "execute_result"
    }
   ],
   "source": [
    "df.index"
   ]
  },
  {
   "cell_type": "code",
   "execution_count": 298,
   "metadata": {
    "id": "cAAxFp62kooQ",
    "nbpresent": {
     "id": "ef71dc6e-6241-4c9d-9c35-1b3570720607"
    }
   },
   "outputs": [
    {
     "data": {
      "text/plain": [
       "Index(['연도', '지사', '고객 수'], dtype='object')"
      ]
     },
     "execution_count": 298,
     "metadata": {},
     "output_type": "execute_result"
    }
   ],
   "source": [
    "df.columns"
   ]
  },
  {
   "cell_type": "code",
   "execution_count": 299,
   "metadata": {
    "id": "QZ3K6LSGkooQ",
    "nbpresent": {
     "id": "89700812-7d50-4838-bb93-bdfbdb7c5b90"
    },
    "scrolled": true
   },
   "outputs": [
    {
     "data": {
      "text/plain": [
       "array([[2015, '한국', 200],\n",
       "       [2016, '한국', 250],\n",
       "       [2016, '미국', 450],\n",
       "       [2017, '한국', 300],\n",
       "       [2017, '미국', 500]], dtype=object)"
      ]
     },
     "execution_count": 299,
     "metadata": {},
     "output_type": "execute_result"
    }
   ],
   "source": [
    "df.values"
   ]
  },
  {
   "cell_type": "markdown",
   "metadata": {
    "id": "lR3HYIMykooQ",
    "nbpresent": {
     "id": "9165b87e-160c-4f61-accb-5af75ff51f50"
    }
   },
   "source": [
    "### 데이터 연산"
   ]
  },
  {
   "cell_type": "markdown",
   "metadata": {
    "id": "-oUPeZXtkooQ"
   },
   "source": [
    "- pandas의 Series()와 DataFrame()으로 생성한 데이터끼리는 사칙 연산을 할 수 있음"
   ]
  },
  {
   "cell_type": "markdown",
   "metadata": {
    "id": "BIIWA9EwkooQ"
   },
   "source": [
    "- Series()로 생성한 Series 데이터의 예"
   ]
  },
  {
   "cell_type": "code",
   "execution_count": 300,
   "metadata": {
    "id": "EHJxoyIckooR",
    "nbpresent": {
     "id": "b09d43cf-d07d-4b1f-9de4-f80b60064d24"
    }
   },
   "outputs": [
    {
     "data": {
      "text/plain": [
       "0    11\n",
       "1    22\n",
       "2    33\n",
       "3    44\n",
       "4    55\n",
       "dtype: int64"
      ]
     },
     "execution_count": 300,
     "metadata": {},
     "output_type": "execute_result"
    }
   ],
   "source": [
    "s1 = pd.Series([1, 2, 3, 4, 5])\n",
    "s2 = pd.Series([10, 20, 30, 40, 50])\n",
    "s1 + s2"
   ]
  },
  {
   "cell_type": "code",
   "execution_count": 301,
   "metadata": {
    "id": "E39IiGWikooR",
    "nbpresent": {
     "id": "ce2fd30f-ea31-47c8-8509-e9978ff55d90"
    }
   },
   "outputs": [
    {
     "data": {
      "text/plain": [
       "0     9\n",
       "1    18\n",
       "2    27\n",
       "3    36\n",
       "4    45\n",
       "dtype: int64"
      ]
     },
     "execution_count": 301,
     "metadata": {},
     "output_type": "execute_result"
    }
   ],
   "source": [
    "s2 - s1"
   ]
  },
  {
   "cell_type": "code",
   "execution_count": 302,
   "metadata": {
    "id": "JYazoQwLkooR",
    "nbpresent": {
     "id": "c12fc9c5-518f-47d0-948d-c5a850738081"
    }
   },
   "outputs": [
    {
     "data": {
      "text/plain": [
       "0     10\n",
       "1     40\n",
       "2     90\n",
       "3    160\n",
       "4    250\n",
       "dtype: int64"
      ]
     },
     "execution_count": 302,
     "metadata": {},
     "output_type": "execute_result"
    }
   ],
   "source": [
    "s1 * s2"
   ]
  },
  {
   "cell_type": "code",
   "execution_count": 303,
   "metadata": {
    "id": "9YvxMF8ekooR",
    "nbpresent": {
     "id": "f1b8a023-d45d-4766-bf4c-9837c745b049"
    }
   },
   "outputs": [
    {
     "data": {
      "text/plain": [
       "0    10.0\n",
       "1    10.0\n",
       "2    10.0\n",
       "3    10.0\n",
       "4    10.0\n",
       "dtype: float64"
      ]
     },
     "execution_count": 303,
     "metadata": {},
     "output_type": "execute_result"
    }
   ],
   "source": [
    "s2 / s1"
   ]
  },
  {
   "cell_type": "markdown",
   "metadata": {
    "id": "xURb047YkooR",
    "nbpresent": {
     "id": "833f47d2-576a-43bf-8d85-3f853b9a3be3"
    }
   },
   "source": [
    "- 파이씬의 리스트와 NumPy의 배열과 달리 pandas의 데이터끼리는 서로 크기가 달라도 연산할 수 있음"
   ]
  },
  {
   "cell_type": "markdown",
   "metadata": {
    "id": "p9jQR4kjkooR"
   },
   "source": [
    "- 연산을 할 수 있는 항목만 연산을 수행"
   ]
  },
  {
   "cell_type": "code",
   "execution_count": 304,
   "metadata": {
    "id": "Bg8UMh1MkooR",
    "nbpresent": {
     "id": "11f1de4a-fae8-4320-a8f2-b354c9dce5ab"
    }
   },
   "outputs": [
    {
     "data": {
      "text/plain": [
       "0    11.0\n",
       "1    22.0\n",
       "2    33.0\n",
       "3    44.0\n",
       "4     NaN\n",
       "dtype: float64"
      ]
     },
     "execution_count": 304,
     "metadata": {},
     "output_type": "execute_result"
    }
   ],
   "source": [
    "s3 = pd.Series([1, 2, 3, 4])\n",
    "s4 = pd.Series([10, 20, 30, 40, 50])\n",
    "s3 + s4"
   ]
  },
  {
   "cell_type": "code",
   "execution_count": 305,
   "metadata": {
    "id": "-1CEa64dkooR",
    "nbpresent": {
     "id": "65d55d3d-83d3-4e07-a3ec-721e8b1f3b1f"
    }
   },
   "outputs": [
    {
     "data": {
      "text/plain": [
       "0     9.0\n",
       "1    18.0\n",
       "2    27.0\n",
       "3    36.0\n",
       "4     NaN\n",
       "dtype: float64"
      ]
     },
     "execution_count": 305,
     "metadata": {},
     "output_type": "execute_result"
    }
   ],
   "source": [
    "s4 - s3"
   ]
  },
  {
   "cell_type": "code",
   "execution_count": 306,
   "metadata": {
    "id": "oUP-MHspkooR",
    "nbpresent": {
     "id": "efee25a2-6ed3-4714-a385-bb9efd904fc0"
    }
   },
   "outputs": [
    {
     "data": {
      "text/plain": [
       "0     10.0\n",
       "1     40.0\n",
       "2     90.0\n",
       "3    160.0\n",
       "4      NaN\n",
       "dtype: float64"
      ]
     },
     "execution_count": 306,
     "metadata": {},
     "output_type": "execute_result"
    }
   ],
   "source": [
    "s3 * s4"
   ]
  },
  {
   "cell_type": "code",
   "execution_count": 307,
   "metadata": {
    "id": "nHHtZNi2kooR",
    "nbpresent": {
     "id": "f3163aac-b6b4-4828-9fdc-0016831ba4c2"
    }
   },
   "outputs": [
    {
     "data": {
      "text/plain": [
       "0    10.0\n",
       "1    10.0\n",
       "2    10.0\n",
       "3    10.0\n",
       "4     NaN\n",
       "dtype: float64"
      ]
     },
     "execution_count": 307,
     "metadata": {},
     "output_type": "execute_result"
    }
   ],
   "source": [
    "s4/s3"
   ]
  },
  {
   "cell_type": "markdown",
   "metadata": {
    "id": "Li9xNLZDkooS"
   },
   "source": [
    "- s3와 S4의 데이터 크기는 다름\n",
    "- 이 경우 연산할 수 있는 부분만 연산해 결과를 보여주고 연산할 수 없는 부분은 NaN으로 표시"
   ]
  },
  {
   "cell_type": "markdown",
   "metadata": {
    "id": "mYsz4g0WkooS",
    "nbpresent": {
     "id": "1fa941d8-24b8-49a4-9c3d-f5b162ef9fca"
    }
   },
   "source": [
    "- dataFrame()으로 생성한 DataFrame 데이터끼리도 사칙 연산을 할 수 있음"
   ]
  },
  {
   "cell_type": "code",
   "execution_count": 308,
   "metadata": {
    "colab": {
     "base_uri": "https://localhost:8080/",
     "height": 206
    },
    "executionInfo": {
     "elapsed": 340,
     "status": "ok",
     "timestamp": 1660473698693,
     "user": {
      "displayName": "junhwa lee",
      "userId": "11332889748979012167"
     },
     "user_tz": -540
    },
    "id": "NX3u6bY2kooS",
    "nbpresent": {
     "id": "511b791a-d543-4b39-ab49-76606f09a777"
    },
    "outputId": "50f04e00-aeac-40ed-ec97-5b8ed99b0a8f"
   },
   "outputs": [
    {
     "data": {
      "text/html": [
       "<div>\n",
       "<style scoped>\n",
       "    .dataframe tbody tr th:only-of-type {\n",
       "        vertical-align: middle;\n",
       "    }\n",
       "\n",
       "    .dataframe tbody tr th {\n",
       "        vertical-align: top;\n",
       "    }\n",
       "\n",
       "    .dataframe thead th {\n",
       "        text-align: right;\n",
       "    }\n",
       "</style>\n",
       "<table border=\"1\" class=\"dataframe\">\n",
       "  <thead>\n",
       "    <tr style=\"text-align: right;\">\n",
       "      <th></th>\n",
       "      <th>A</th>\n",
       "      <th>B</th>\n",
       "      <th>C</th>\n",
       "    </tr>\n",
       "  </thead>\n",
       "  <tbody>\n",
       "    <tr>\n",
       "      <th>0</th>\n",
       "      <td>1</td>\n",
       "      <td>10</td>\n",
       "      <td>100</td>\n",
       "    </tr>\n",
       "    <tr>\n",
       "      <th>1</th>\n",
       "      <td>2</td>\n",
       "      <td>20</td>\n",
       "      <td>200</td>\n",
       "    </tr>\n",
       "    <tr>\n",
       "      <th>2</th>\n",
       "      <td>3</td>\n",
       "      <td>30</td>\n",
       "      <td>300</td>\n",
       "    </tr>\n",
       "    <tr>\n",
       "      <th>3</th>\n",
       "      <td>4</td>\n",
       "      <td>40</td>\n",
       "      <td>400</td>\n",
       "    </tr>\n",
       "    <tr>\n",
       "      <th>4</th>\n",
       "      <td>5</td>\n",
       "      <td>50</td>\n",
       "      <td>500</td>\n",
       "    </tr>\n",
       "  </tbody>\n",
       "</table>\n",
       "</div>"
      ],
      "text/plain": [
       "   A   B    C\n",
       "0  1  10  100\n",
       "1  2  20  200\n",
       "2  3  30  300\n",
       "3  4  40  400\n",
       "4  5  50  500"
      ]
     },
     "execution_count": 308,
     "metadata": {},
     "output_type": "execute_result"
    }
   ],
   "source": [
    "table_data1 = {'A': [1, 2, 3, 4, 5],\n",
    "              'B': [10, 20, 30, 40, 50],\n",
    "              'C': [100, 200, 300, 400, 500]}\n",
    "df1 = pd.DataFrame(table_data1)\n",
    "df1"
   ]
  },
  {
   "cell_type": "code",
   "execution_count": 309,
   "metadata": {
    "colab": {
     "base_uri": "https://localhost:8080/",
     "height": 143
    },
    "executionInfo": {
     "elapsed": 588,
     "status": "ok",
     "timestamp": 1660473702140,
     "user": {
      "displayName": "junhwa lee",
      "userId": "11332889748979012167"
     },
     "user_tz": -540
    },
    "id": "mnROhrL0kooS",
    "nbpresent": {
     "id": "c32528c1-b65c-4d07-ad63-656dd9f6ba38"
    },
    "outputId": "df1e53da-14dd-4c65-ae7c-6271b187cf0c"
   },
   "outputs": [
    {
     "data": {
      "text/html": [
       "<div>\n",
       "<style scoped>\n",
       "    .dataframe tbody tr th:only-of-type {\n",
       "        vertical-align: middle;\n",
       "    }\n",
       "\n",
       "    .dataframe tbody tr th {\n",
       "        vertical-align: top;\n",
       "    }\n",
       "\n",
       "    .dataframe thead th {\n",
       "        text-align: right;\n",
       "    }\n",
       "</style>\n",
       "<table border=\"1\" class=\"dataframe\">\n",
       "  <thead>\n",
       "    <tr style=\"text-align: right;\">\n",
       "      <th></th>\n",
       "      <th>A</th>\n",
       "      <th>B</th>\n",
       "      <th>C</th>\n",
       "    </tr>\n",
       "  </thead>\n",
       "  <tbody>\n",
       "    <tr>\n",
       "      <th>0</th>\n",
       "      <td>6</td>\n",
       "      <td>60</td>\n",
       "      <td>600</td>\n",
       "    </tr>\n",
       "    <tr>\n",
       "      <th>1</th>\n",
       "      <td>7</td>\n",
       "      <td>70</td>\n",
       "      <td>700</td>\n",
       "    </tr>\n",
       "    <tr>\n",
       "      <th>2</th>\n",
       "      <td>8</td>\n",
       "      <td>80</td>\n",
       "      <td>800</td>\n",
       "    </tr>\n",
       "  </tbody>\n",
       "</table>\n",
       "</div>"
      ],
      "text/plain": [
       "   A   B    C\n",
       "0  6  60  600\n",
       "1  7  70  700\n",
       "2  8  80  800"
      ]
     },
     "execution_count": 309,
     "metadata": {},
     "output_type": "execute_result"
    }
   ],
   "source": [
    "table_data2 = {'A': [6, 7, 8],\n",
    "              'B': [60, 70, 80],\n",
    "              'C': [600, 700, 800]}\n",
    "df2 = pd.DataFrame(table_data2)\n",
    "df2"
   ]
  },
  {
   "cell_type": "markdown",
   "metadata": {
    "id": "2LSuffLrkooS",
    "nbpresent": {
     "id": "7d39c0ed-66cf-461c-9a35-c5dd1cc8d075"
    }
   },
   "source": [
    "- 개의 DataFrame 데이터 df1 과 df2는 길이가 같지 않음\n",
    "- 두 데이터의 길이가 같지 않더라도 앞의 Series 데이터처럼 연산할 수 있음"
   ]
  },
  {
   "cell_type": "code",
   "execution_count": 310,
   "metadata": {
    "id": "FrsBenWUkooS",
    "nbpresent": {
     "id": "9c7bc1b2-d48d-44f6-a8a3-3915114885d2"
    }
   },
   "outputs": [
    {
     "data": {
      "text/html": [
       "<div>\n",
       "<style scoped>\n",
       "    .dataframe tbody tr th:only-of-type {\n",
       "        vertical-align: middle;\n",
       "    }\n",
       "\n",
       "    .dataframe tbody tr th {\n",
       "        vertical-align: top;\n",
       "    }\n",
       "\n",
       "    .dataframe thead th {\n",
       "        text-align: right;\n",
       "    }\n",
       "</style>\n",
       "<table border=\"1\" class=\"dataframe\">\n",
       "  <thead>\n",
       "    <tr style=\"text-align: right;\">\n",
       "      <th></th>\n",
       "      <th>A</th>\n",
       "      <th>B</th>\n",
       "      <th>C</th>\n",
       "    </tr>\n",
       "  </thead>\n",
       "  <tbody>\n",
       "    <tr>\n",
       "      <th>0</th>\n",
       "      <td>7.0</td>\n",
       "      <td>70.0</td>\n",
       "      <td>700.0</td>\n",
       "    </tr>\n",
       "    <tr>\n",
       "      <th>1</th>\n",
       "      <td>9.0</td>\n",
       "      <td>90.0</td>\n",
       "      <td>900.0</td>\n",
       "    </tr>\n",
       "    <tr>\n",
       "      <th>2</th>\n",
       "      <td>11.0</td>\n",
       "      <td>110.0</td>\n",
       "      <td>1100.0</td>\n",
       "    </tr>\n",
       "    <tr>\n",
       "      <th>3</th>\n",
       "      <td>NaN</td>\n",
       "      <td>NaN</td>\n",
       "      <td>NaN</td>\n",
       "    </tr>\n",
       "    <tr>\n",
       "      <th>4</th>\n",
       "      <td>NaN</td>\n",
       "      <td>NaN</td>\n",
       "      <td>NaN</td>\n",
       "    </tr>\n",
       "  </tbody>\n",
       "</table>\n",
       "</div>"
      ],
      "text/plain": [
       "      A      B       C\n",
       "0   7.0   70.0   700.0\n",
       "1   9.0   90.0   900.0\n",
       "2  11.0  110.0  1100.0\n",
       "3   NaN    NaN     NaN\n",
       "4   NaN    NaN     NaN"
      ]
     },
     "execution_count": 310,
     "metadata": {},
     "output_type": "execute_result"
    }
   ],
   "source": [
    "df1 + df2"
   ]
  },
  {
   "cell_type": "markdown",
   "metadata": {
    "id": "RgdUPI28kooS"
   },
   "source": [
    "- Series 데이터의 경우와 마찬가지로 DadaFrame 데이터의 경우도 \n",
    "- 연산할 수 있는 항목끼리만 연산하고 그렇지 못한 항목은 NaN으로 표시"
   ]
  },
  {
   "cell_type": "markdown",
   "metadata": {
    "id": "Whi4bvgikooS"
   },
   "source": [
    "- pandas에는 데이터의 통계 분석을 위한 다양한 메서드가 있어서 \n",
    "- 데이터의 총합, 평균, 표준 편차 등을 쉽게 구할 수 있음"
   ]
  },
  {
   "cell_type": "markdown",
   "metadata": {
    "id": "TPR8ez7vkooS",
    "nbpresent": {
     "id": "25fc0c20-2cce-4bf1-9067-d378139989c2"
    }
   },
   "source": [
    "- pandas의 메서드로 통계 분석하는 방법\n",
    "- 2012년부터 2016년까지 우리나라의 계절별 강수량(단위 mm)"
   ]
  },
  {
   "cell_type": "code",
   "execution_count": 311,
   "metadata": {
    "id": "W6-KU2vEkooS",
    "nbpresent": {
     "id": "1893445a-6068-4bfa-afdd-b95cbf4ab4b1"
    }
   },
   "outputs": [
    {
     "data": {
      "text/html": [
       "<div>\n",
       "<style scoped>\n",
       "    .dataframe tbody tr th:only-of-type {\n",
       "        vertical-align: middle;\n",
       "    }\n",
       "\n",
       "    .dataframe tbody tr th {\n",
       "        vertical-align: top;\n",
       "    }\n",
       "\n",
       "    .dataframe thead th {\n",
       "        text-align: right;\n",
       "    }\n",
       "</style>\n",
       "<table border=\"1\" class=\"dataframe\">\n",
       "  <thead>\n",
       "    <tr style=\"text-align: right;\">\n",
       "      <th></th>\n",
       "      <th>봄</th>\n",
       "      <th>여름</th>\n",
       "      <th>가을</th>\n",
       "      <th>겨울</th>\n",
       "    </tr>\n",
       "  </thead>\n",
       "  <tbody>\n",
       "    <tr>\n",
       "      <th>2012</th>\n",
       "      <td>256.5</td>\n",
       "      <td>770.6</td>\n",
       "      <td>363.5</td>\n",
       "      <td>139.3</td>\n",
       "    </tr>\n",
       "    <tr>\n",
       "      <th>2013</th>\n",
       "      <td>264.3</td>\n",
       "      <td>567.5</td>\n",
       "      <td>231.2</td>\n",
       "      <td>59.9</td>\n",
       "    </tr>\n",
       "    <tr>\n",
       "      <th>2014</th>\n",
       "      <td>215.9</td>\n",
       "      <td>599.8</td>\n",
       "      <td>293.1</td>\n",
       "      <td>76.9</td>\n",
       "    </tr>\n",
       "    <tr>\n",
       "      <th>2015</th>\n",
       "      <td>223.2</td>\n",
       "      <td>387.1</td>\n",
       "      <td>247.7</td>\n",
       "      <td>109.1</td>\n",
       "    </tr>\n",
       "    <tr>\n",
       "      <th>2016</th>\n",
       "      <td>312.8</td>\n",
       "      <td>446.2</td>\n",
       "      <td>381.6</td>\n",
       "      <td>108.1</td>\n",
       "    </tr>\n",
       "  </tbody>\n",
       "</table>\n",
       "</div>"
      ],
      "text/plain": [
       "          봄     여름     가을     겨울\n",
       "2012  256.5  770.6  363.5  139.3\n",
       "2013  264.3  567.5  231.2   59.9\n",
       "2014  215.9  599.8  293.1   76.9\n",
       "2015  223.2  387.1  247.7  109.1\n",
       "2016  312.8  446.2  381.6  108.1"
      ]
     },
     "execution_count": 311,
     "metadata": {},
     "output_type": "execute_result"
    }
   ],
   "source": [
    "table_data3 = {'봄':  [256.5, 264.3, 215.9, 223.2, 312.8],\n",
    "              '여름': [770.6, 567.5, 599.8, 387.1, 446.2],\n",
    "              '가을': [363.5, 231.2, 293.1, 247.7, 381.6],\n",
    "              '겨울': [139.3, 59.9, 76.9, 109.1, 108.1]}\n",
    "columns_list = ['봄', '여름', '가을', '겨울']\n",
    "index_list = ['2012', '2013', '2014', '2015', '2016']\n",
    "\n",
    "df3 = pd.DataFrame(table_data3, columns = columns_list, index = index_list)\n",
    "df3"
   ]
  },
  {
   "cell_type": "markdown",
   "metadata": {
    "id": "AvW5Z0CxkooS",
    "nbpresent": {
     "id": "c29a5579-b0a2-4a06-be7f-1db061377fad"
    }
   },
   "source": [
    "- DataFrame 데이터(df3)를 이용해 통계\n",
    "- pandas에서 제공하는 통계 메서드는 원소의 합을 구하는 sun(), \n",
    "- 평균을 구하는 meanO, 표준 편차를 구하는 std(), \n",
    "- 분산을 구하는 var(), 최솟값을 구하는 min(), \n",
    "- 최댓값을 구하는 max(), 각 원소의 누적 합을 구하는 cumsun(),\n",
    "- 각 원소의 누적 곱을 구하는 cumprod() 등이 있음"
   ]
  },
  {
   "cell_type": "code",
   "execution_count": 312,
   "metadata": {
    "id": "YrzrST3wkooT",
    "nbpresent": {
     "id": "39e3b2cc-4a74-4028-9d0f-ea409e237cb6"
    }
   },
   "outputs": [
    {
     "data": {
      "text/plain": [
       "봄     254.54\n",
       "여름    554.24\n",
       "가을    303.42\n",
       "겨울     98.66\n",
       "dtype: float64"
      ]
     },
     "execution_count": 312,
     "metadata": {},
     "output_type": "execute_result"
    }
   ],
   "source": [
    "df3.mean()"
   ]
  },
  {
   "cell_type": "code",
   "execution_count": 313,
   "metadata": {
    "id": "YxZCTR-ekooT",
    "nbpresent": {
     "id": "cd7cb1fc-aff2-4eb4-b96b-a136745c7758"
    }
   },
   "outputs": [
    {
     "data": {
      "text/plain": [
       "봄      38.628267\n",
       "여름    148.888895\n",
       "가을     67.358496\n",
       "겨울     30.925523\n",
       "dtype: float64"
      ]
     },
     "execution_count": 313,
     "metadata": {},
     "output_type": "execute_result"
    }
   ],
   "source": [
    "df3.std()"
   ]
  },
  {
   "cell_type": "markdown",
   "metadata": {
    "id": "czXvE4KfkooT",
    "nbpresent": {
     "id": "b2c0caa5-83a1-41de-8ff3-143e37f568d7"
    }
   },
   "source": [
    "- mean()과 std()는 연산의 방향 설정하기 위해 axis 인자를 추가할 수 있음"
   ]
  },
  {
   "cell_type": "markdown",
   "metadata": {
    "id": "DUAzKfAHkooT"
   },
   "source": [
    "- 인자 axis가 0이면 DataFrame의 values에서 열별로 연산을 수행하고，1이면 행별로 연산을 수행\n",
    "- axis 인자를 설정하지 않으면 기본값으로 0이 설정\n",
    "- 연산의 방향을 행 방향으로 설정"
   ]
  },
  {
   "cell_type": "code",
   "execution_count": 314,
   "metadata": {
    "id": "7DTNiG8ZkooT",
    "nbpresent": {
     "id": "7de047d9-e444-4106-9e95-a6b86a0da0b6"
    }
   },
   "outputs": [
    {
     "data": {
      "text/plain": [
       "2012    382.475\n",
       "2013    280.725\n",
       "2014    296.425\n",
       "2015    241.775\n",
       "2016    312.175\n",
       "dtype: float64"
      ]
     },
     "execution_count": 314,
     "metadata": {},
     "output_type": "execute_result"
    }
   ],
   "source": [
    "df3.mean(axis=1)"
   ]
  },
  {
   "cell_type": "code",
   "execution_count": 315,
   "metadata": {
    "id": "6DMY6KwIkooT",
    "nbpresent": {
     "id": "096c7f0e-262d-4444-b6c3-0555b747e1dc"
    }
   },
   "outputs": [
    {
     "data": {
      "text/plain": [
       "2012    274.472128\n",
       "2013    211.128782\n",
       "2014    221.150739\n",
       "2015    114.166760\n",
       "2016    146.548658\n",
       "dtype: float64"
      ]
     },
     "execution_count": 315,
     "metadata": {},
     "output_type": "execute_result"
    }
   ],
   "source": [
    "df3.std(axis=1)"
   ]
  },
  {
   "cell_type": "markdown",
   "metadata": {
    "id": "veInXoPRkooT",
    "nbpresent": {
     "id": "5bbce344-b8fe-4333-a1fa-c6c9e3cd7886"
    }
   },
   "source": [
    "- describe()를 이용하면 평균, 표준 편 차, 최솟값과 최댓값 등을 한 번에 구할 수도 있음"
   ]
  },
  {
   "cell_type": "code",
   "execution_count": 316,
   "metadata": {
    "id": "24I-E_WUkooT",
    "nbpresent": {
     "id": "417789a3-66a4-4c52-b967-6855a3b6edb6"
    },
    "scrolled": true
   },
   "outputs": [
    {
     "data": {
      "text/html": [
       "<div>\n",
       "<style scoped>\n",
       "    .dataframe tbody tr th:only-of-type {\n",
       "        vertical-align: middle;\n",
       "    }\n",
       "\n",
       "    .dataframe tbody tr th {\n",
       "        vertical-align: top;\n",
       "    }\n",
       "\n",
       "    .dataframe thead th {\n",
       "        text-align: right;\n",
       "    }\n",
       "</style>\n",
       "<table border=\"1\" class=\"dataframe\">\n",
       "  <thead>\n",
       "    <tr style=\"text-align: right;\">\n",
       "      <th></th>\n",
       "      <th>봄</th>\n",
       "      <th>여름</th>\n",
       "      <th>가을</th>\n",
       "      <th>겨울</th>\n",
       "    </tr>\n",
       "  </thead>\n",
       "  <tbody>\n",
       "    <tr>\n",
       "      <th>count</th>\n",
       "      <td>5.000000</td>\n",
       "      <td>5.000000</td>\n",
       "      <td>5.000000</td>\n",
       "      <td>5.000000</td>\n",
       "    </tr>\n",
       "    <tr>\n",
       "      <th>mean</th>\n",
       "      <td>254.540000</td>\n",
       "      <td>554.240000</td>\n",
       "      <td>303.420000</td>\n",
       "      <td>98.660000</td>\n",
       "    </tr>\n",
       "    <tr>\n",
       "      <th>std</th>\n",
       "      <td>38.628267</td>\n",
       "      <td>148.888895</td>\n",
       "      <td>67.358496</td>\n",
       "      <td>30.925523</td>\n",
       "    </tr>\n",
       "    <tr>\n",
       "      <th>min</th>\n",
       "      <td>215.900000</td>\n",
       "      <td>387.100000</td>\n",
       "      <td>231.200000</td>\n",
       "      <td>59.900000</td>\n",
       "    </tr>\n",
       "    <tr>\n",
       "      <th>25%</th>\n",
       "      <td>223.200000</td>\n",
       "      <td>446.200000</td>\n",
       "      <td>247.700000</td>\n",
       "      <td>76.900000</td>\n",
       "    </tr>\n",
       "    <tr>\n",
       "      <th>50%</th>\n",
       "      <td>256.500000</td>\n",
       "      <td>567.500000</td>\n",
       "      <td>293.100000</td>\n",
       "      <td>108.100000</td>\n",
       "    </tr>\n",
       "    <tr>\n",
       "      <th>75%</th>\n",
       "      <td>264.300000</td>\n",
       "      <td>599.800000</td>\n",
       "      <td>363.500000</td>\n",
       "      <td>109.100000</td>\n",
       "    </tr>\n",
       "    <tr>\n",
       "      <th>max</th>\n",
       "      <td>312.800000</td>\n",
       "      <td>770.600000</td>\n",
       "      <td>381.600000</td>\n",
       "      <td>139.300000</td>\n",
       "    </tr>\n",
       "  </tbody>\n",
       "</table>\n",
       "</div>"
      ],
      "text/plain": [
       "                봄          여름          가을          겨울\n",
       "count    5.000000    5.000000    5.000000    5.000000\n",
       "mean   254.540000  554.240000  303.420000   98.660000\n",
       "std     38.628267  148.888895   67.358496   30.925523\n",
       "min    215.900000  387.100000  231.200000   59.900000\n",
       "25%    223.200000  446.200000  247.700000   76.900000\n",
       "50%    256.500000  567.500000  293.100000  108.100000\n",
       "75%    264.300000  599.800000  363.500000  109.100000\n",
       "max    312.800000  770.600000  381.600000  139.300000"
      ]
     },
     "execution_count": 316,
     "metadata": {},
     "output_type": "execute_result"
    }
   ],
   "source": [
    "df3.describe()"
   ]
  },
  {
   "cell_type": "markdown",
   "metadata": {
    "id": "0akwS5vBkooT",
    "nbpresent": {
     "id": "aabebd8c-9653-4790-a1ac-5d6416a6a875"
    }
   },
   "source": [
    "### 데이터를 원하는 대로 선택하기"
   ]
  },
  {
   "cell_type": "markdown",
   "metadata": {
    "id": "DjeXcUwFkooT"
   },
   "source": [
    "- pandas의 DataFrame 데이터를 원본 훼손 없이 원하는 부분만 선택하는 방법"
   ]
  },
  {
   "cell_type": "markdown",
   "metadata": {
    "id": "hVQmKnW3kooT",
    "nbpresent": {
     "id": "7b8b4fd8-4015-4b2b-bfd3-f0b070122358"
    }
   },
   "source": [
    "- 데이터를 이용해 다음과 같이 DataFrame 데이터를 생성"
   ]
  },
  {
   "cell_type": "code",
   "execution_count": 317,
   "metadata": {
    "id": "k-jIa4AEkooU",
    "nbpresent": {
     "id": "fa8fe338-046c-48ab-a709-6c5e1d69625d"
    },
    "scrolled": true
   },
   "outputs": [
    {
     "data": {
      "text/html": [
       "<div>\n",
       "<style scoped>\n",
       "    .dataframe tbody tr th:only-of-type {\n",
       "        vertical-align: middle;\n",
       "    }\n",
       "\n",
       "    .dataframe tbody tr th {\n",
       "        vertical-align: top;\n",
       "    }\n",
       "\n",
       "    .dataframe thead th {\n",
       "        text-align: right;\n",
       "    }\n",
       "</style>\n",
       "<table border=\"1\" class=\"dataframe\">\n",
       "  <thead>\n",
       "    <tr style=\"text-align: right;\">\n",
       "      <th></th>\n",
       "      <th>경부선 KTX</th>\n",
       "      <th>호남선 KTX</th>\n",
       "      <th>경전선 KTX</th>\n",
       "      <th>전라선 KTX</th>\n",
       "      <th>동해선 KTX</th>\n",
       "    </tr>\n",
       "  </thead>\n",
       "  <tbody>\n",
       "    <tr>\n",
       "      <th>2011</th>\n",
       "      <td>39060</td>\n",
       "      <td>7313</td>\n",
       "      <td>3627</td>\n",
       "      <td>309</td>\n",
       "      <td>NaN</td>\n",
       "    </tr>\n",
       "    <tr>\n",
       "      <th>2012</th>\n",
       "      <td>39896</td>\n",
       "      <td>6967</td>\n",
       "      <td>4168</td>\n",
       "      <td>1771</td>\n",
       "      <td>NaN</td>\n",
       "    </tr>\n",
       "    <tr>\n",
       "      <th>2013</th>\n",
       "      <td>42005</td>\n",
       "      <td>6873</td>\n",
       "      <td>4088</td>\n",
       "      <td>1954</td>\n",
       "      <td>NaN</td>\n",
       "    </tr>\n",
       "    <tr>\n",
       "      <th>2014</th>\n",
       "      <td>43621</td>\n",
       "      <td>6626</td>\n",
       "      <td>4424</td>\n",
       "      <td>2244</td>\n",
       "      <td>NaN</td>\n",
       "    </tr>\n",
       "    <tr>\n",
       "      <th>2015</th>\n",
       "      <td>41702</td>\n",
       "      <td>8675</td>\n",
       "      <td>4606</td>\n",
       "      <td>3146</td>\n",
       "      <td>2395.0</td>\n",
       "    </tr>\n",
       "    <tr>\n",
       "      <th>2016</th>\n",
       "      <td>41266</td>\n",
       "      <td>10622</td>\n",
       "      <td>4984</td>\n",
       "      <td>3945</td>\n",
       "      <td>3786.0</td>\n",
       "    </tr>\n",
       "    <tr>\n",
       "      <th>2017</th>\n",
       "      <td>32427</td>\n",
       "      <td>9228</td>\n",
       "      <td>5570</td>\n",
       "      <td>5766</td>\n",
       "      <td>6667.0</td>\n",
       "    </tr>\n",
       "  </tbody>\n",
       "</table>\n",
       "</div>"
      ],
      "text/plain": [
       "      경부선 KTX  호남선 KTX  경전선 KTX  전라선 KTX  동해선 KTX\n",
       "2011    39060     7313     3627      309      NaN\n",
       "2012    39896     6967     4168     1771      NaN\n",
       "2013    42005     6873     4088     1954      NaN\n",
       "2014    43621     6626     4424     2244      NaN\n",
       "2015    41702     8675     4606     3146   2395.0\n",
       "2016    41266    10622     4984     3945   3786.0\n",
       "2017    32427     9228     5570     5766   6667.0"
      ]
     },
     "execution_count": 317,
     "metadata": {},
     "output_type": "execute_result"
    }
   ],
   "source": [
    "import pandas as pd\n",
    "import numpy as np\n",
    "\n",
    "KTX_data = {'경부선 KTX': [39060, 39896, 42005, 43621, 41702, 41266, 32427],\n",
    "            '호남선 KTX': [7313, 6967, 6873, 6626, 8675, 10622, 9228],\n",
    "            '경전선 KTX': [3627, 4168, 4088, 4424, 4606, 4984, 5570],\n",
    "            '전라선 KTX': [309, 1771, 1954, 2244, 3146, 3945, 5766],\n",
    "            '동해선 KTX': [np.nan,np.nan, np.nan, np.nan, 2395, 3786, 6667]}\n",
    "col_list = ['경부선 KTX','호남선 KTX','경전선 KTX','전라선 KTX','동해선 KTX']\n",
    "index_list = ['2011', '2012', '2013', '2014', '2015', '2016', '2017']\n",
    "\n",
    "df_KTX = pd.DataFrame(KTX_data, columns = col_list, index = index_list)\n",
    "df_KTX"
   ]
  },
  {
   "cell_type": "markdown",
   "metadata": {
    "id": "9a_HCWyXkooU",
    "nbpresent": {
     "id": "64ab70ce-331b-413a-be4c-684c867cc786"
    }
   },
   "source": [
    "- DataFrame 데이터의 index, columns, values를 확인하려면 다음과 같이 작성"
   ]
  },
  {
   "cell_type": "code",
   "execution_count": 318,
   "metadata": {
    "id": "FNThEot9kooU",
    "nbpresent": {
     "id": "9594cb7f-7599-49b2-b65f-335bbc6d90b0"
    }
   },
   "outputs": [
    {
     "data": {
      "text/plain": [
       "Index(['2011', '2012', '2013', '2014', '2015', '2016', '2017'], dtype='object')"
      ]
     },
     "execution_count": 318,
     "metadata": {},
     "output_type": "execute_result"
    }
   ],
   "source": [
    "df_KTX.index"
   ]
  },
  {
   "cell_type": "code",
   "execution_count": 319,
   "metadata": {
    "id": "BR8-kpPUkooU",
    "nbpresent": {
     "id": "cf24c377-9bd2-45b0-8047-b47072a5b706"
    }
   },
   "outputs": [
    {
     "data": {
      "text/plain": [
       "Index(['경부선 KTX', '호남선 KTX', '경전선 KTX', '전라선 KTX', '동해선 KTX'], dtype='object')"
      ]
     },
     "execution_count": 319,
     "metadata": {},
     "output_type": "execute_result"
    }
   ],
   "source": [
    "df_KTX.columns"
   ]
  },
  {
   "cell_type": "code",
   "execution_count": 320,
   "metadata": {
    "id": "3eU7GG2OkooU",
    "nbpresent": {
     "id": "639401fd-6ca8-4ae2-b72e-f0c0ff63caf4"
    }
   },
   "outputs": [
    {
     "data": {
      "text/plain": [
       "array([[39060.,  7313.,  3627.,   309.,    nan],\n",
       "       [39896.,  6967.,  4168.,  1771.,    nan],\n",
       "       [42005.,  6873.,  4088.,  1954.,    nan],\n",
       "       [43621.,  6626.,  4424.,  2244.,    nan],\n",
       "       [41702.,  8675.,  4606.,  3146.,  2395.],\n",
       "       [41266., 10622.,  4984.,  3945.,  3786.],\n",
       "       [32427.,  9228.,  5570.,  5766.,  6667.]])"
      ]
     },
     "execution_count": 320,
     "metadata": {},
     "output_type": "execute_result"
    }
   ],
   "source": [
    "df_KTX.values"
   ]
  },
  {
   "cell_type": "markdown",
   "metadata": {
    "id": "ARqJUVetkooU"
   },
   "source": [
    "- pandas에서는 다음과 같이 head()와 tail()을 이용해 DataFrame의 전체 데이터 중 처음 일부 분과 끝 일부분만 반환\n",
    "- DataFrame_data.head([n]) \n",
    "- DataFrame_data.tail([n])\n",
    "- 인자 n을 지정하면 head(n)의 경우에는 처음 n개의 행의 데이터를 반환하고\n",
    "- tail(n)의 경우에는 마지막 n개의 행 데이터를 반환\n",
    "- 인자 n을 지정하지 않으면 기본값으로 5가 지정"
   ]
  },
  {
   "cell_type": "markdown",
   "metadata": {
    "id": "p_owTTO8kooU",
    "nbpresent": {
     "id": "5330ac64-e0b5-4fac-985f-07849473b7fb"
    }
   },
   "source": [
    "- 인자 n 없이 DadaFrame_dada.head()와 DataFrame_data.tail()을수행"
   ]
  },
  {
   "cell_type": "code",
   "execution_count": 321,
   "metadata": {
    "id": "Dadv4h7okooU",
    "nbpresent": {
     "id": "1fc321cc-0ece-41d5-8edd-d69203c65255"
    }
   },
   "outputs": [
    {
     "data": {
      "text/html": [
       "<div>\n",
       "<style scoped>\n",
       "    .dataframe tbody tr th:only-of-type {\n",
       "        vertical-align: middle;\n",
       "    }\n",
       "\n",
       "    .dataframe tbody tr th {\n",
       "        vertical-align: top;\n",
       "    }\n",
       "\n",
       "    .dataframe thead th {\n",
       "        text-align: right;\n",
       "    }\n",
       "</style>\n",
       "<table border=\"1\" class=\"dataframe\">\n",
       "  <thead>\n",
       "    <tr style=\"text-align: right;\">\n",
       "      <th></th>\n",
       "      <th>경부선 KTX</th>\n",
       "      <th>호남선 KTX</th>\n",
       "      <th>경전선 KTX</th>\n",
       "      <th>전라선 KTX</th>\n",
       "      <th>동해선 KTX</th>\n",
       "    </tr>\n",
       "  </thead>\n",
       "  <tbody>\n",
       "    <tr>\n",
       "      <th>2011</th>\n",
       "      <td>39060</td>\n",
       "      <td>7313</td>\n",
       "      <td>3627</td>\n",
       "      <td>309</td>\n",
       "      <td>NaN</td>\n",
       "    </tr>\n",
       "    <tr>\n",
       "      <th>2012</th>\n",
       "      <td>39896</td>\n",
       "      <td>6967</td>\n",
       "      <td>4168</td>\n",
       "      <td>1771</td>\n",
       "      <td>NaN</td>\n",
       "    </tr>\n",
       "    <tr>\n",
       "      <th>2013</th>\n",
       "      <td>42005</td>\n",
       "      <td>6873</td>\n",
       "      <td>4088</td>\n",
       "      <td>1954</td>\n",
       "      <td>NaN</td>\n",
       "    </tr>\n",
       "    <tr>\n",
       "      <th>2014</th>\n",
       "      <td>43621</td>\n",
       "      <td>6626</td>\n",
       "      <td>4424</td>\n",
       "      <td>2244</td>\n",
       "      <td>NaN</td>\n",
       "    </tr>\n",
       "    <tr>\n",
       "      <th>2015</th>\n",
       "      <td>41702</td>\n",
       "      <td>8675</td>\n",
       "      <td>4606</td>\n",
       "      <td>3146</td>\n",
       "      <td>2395.0</td>\n",
       "    </tr>\n",
       "  </tbody>\n",
       "</table>\n",
       "</div>"
      ],
      "text/plain": [
       "      경부선 KTX  호남선 KTX  경전선 KTX  전라선 KTX  동해선 KTX\n",
       "2011    39060     7313     3627      309      NaN\n",
       "2012    39896     6967     4168     1771      NaN\n",
       "2013    42005     6873     4088     1954      NaN\n",
       "2014    43621     6626     4424     2244      NaN\n",
       "2015    41702     8675     4606     3146   2395.0"
      ]
     },
     "execution_count": 321,
     "metadata": {},
     "output_type": "execute_result"
    }
   ],
   "source": [
    "df_KTX.head()"
   ]
  },
  {
   "cell_type": "code",
   "execution_count": 322,
   "metadata": {
    "id": "05HDBeRrkooU",
    "nbpresent": {
     "id": "64bc39ab-346c-40e7-b1c9-1929ea0f8c01"
    }
   },
   "outputs": [
    {
     "data": {
      "text/html": [
       "<div>\n",
       "<style scoped>\n",
       "    .dataframe tbody tr th:only-of-type {\n",
       "        vertical-align: middle;\n",
       "    }\n",
       "\n",
       "    .dataframe tbody tr th {\n",
       "        vertical-align: top;\n",
       "    }\n",
       "\n",
       "    .dataframe thead th {\n",
       "        text-align: right;\n",
       "    }\n",
       "</style>\n",
       "<table border=\"1\" class=\"dataframe\">\n",
       "  <thead>\n",
       "    <tr style=\"text-align: right;\">\n",
       "      <th></th>\n",
       "      <th>경부선 KTX</th>\n",
       "      <th>호남선 KTX</th>\n",
       "      <th>경전선 KTX</th>\n",
       "      <th>전라선 KTX</th>\n",
       "      <th>동해선 KTX</th>\n",
       "    </tr>\n",
       "  </thead>\n",
       "  <tbody>\n",
       "    <tr>\n",
       "      <th>2013</th>\n",
       "      <td>42005</td>\n",
       "      <td>6873</td>\n",
       "      <td>4088</td>\n",
       "      <td>1954</td>\n",
       "      <td>NaN</td>\n",
       "    </tr>\n",
       "    <tr>\n",
       "      <th>2014</th>\n",
       "      <td>43621</td>\n",
       "      <td>6626</td>\n",
       "      <td>4424</td>\n",
       "      <td>2244</td>\n",
       "      <td>NaN</td>\n",
       "    </tr>\n",
       "    <tr>\n",
       "      <th>2015</th>\n",
       "      <td>41702</td>\n",
       "      <td>8675</td>\n",
       "      <td>4606</td>\n",
       "      <td>3146</td>\n",
       "      <td>2395.0</td>\n",
       "    </tr>\n",
       "    <tr>\n",
       "      <th>2016</th>\n",
       "      <td>41266</td>\n",
       "      <td>10622</td>\n",
       "      <td>4984</td>\n",
       "      <td>3945</td>\n",
       "      <td>3786.0</td>\n",
       "    </tr>\n",
       "    <tr>\n",
       "      <th>2017</th>\n",
       "      <td>32427</td>\n",
       "      <td>9228</td>\n",
       "      <td>5570</td>\n",
       "      <td>5766</td>\n",
       "      <td>6667.0</td>\n",
       "    </tr>\n",
       "  </tbody>\n",
       "</table>\n",
       "</div>"
      ],
      "text/plain": [
       "      경부선 KTX  호남선 KTX  경전선 KTX  전라선 KTX  동해선 KTX\n",
       "2013    42005     6873     4088     1954      NaN\n",
       "2014    43621     6626     4424     2244      NaN\n",
       "2015    41702     8675     4606     3146   2395.0\n",
       "2016    41266    10622     4984     3945   3786.0\n",
       "2017    32427     9228     5570     5766   6667.0"
      ]
     },
     "execution_count": 322,
     "metadata": {},
     "output_type": "execute_result"
    }
   ],
   "source": [
    "df_KTX.tail()"
   ]
  },
  {
   "cell_type": "markdown",
   "metadata": {
    "id": "qoHf0ljWkooU",
    "nbpresent": {
     "id": "b2ac494e-375a-408d-ad93-9ee0de749a8c"
    }
   },
   "source": [
    "- n개의 처음과 마지막 행 데이터를 반환하려면 다음 과 같이 인자 n을 지정해서 head(n)와 tail(n)을 실행"
   ]
  },
  {
   "cell_type": "code",
   "execution_count": 323,
   "metadata": {
    "id": "2ZATNymmkooV",
    "nbpresent": {
     "id": "6852f07c-87ae-4102-9681-8d126cef3b64"
    }
   },
   "outputs": [
    {
     "data": {
      "text/html": [
       "<div>\n",
       "<style scoped>\n",
       "    .dataframe tbody tr th:only-of-type {\n",
       "        vertical-align: middle;\n",
       "    }\n",
       "\n",
       "    .dataframe tbody tr th {\n",
       "        vertical-align: top;\n",
       "    }\n",
       "\n",
       "    .dataframe thead th {\n",
       "        text-align: right;\n",
       "    }\n",
       "</style>\n",
       "<table border=\"1\" class=\"dataframe\">\n",
       "  <thead>\n",
       "    <tr style=\"text-align: right;\">\n",
       "      <th></th>\n",
       "      <th>경부선 KTX</th>\n",
       "      <th>호남선 KTX</th>\n",
       "      <th>경전선 KTX</th>\n",
       "      <th>전라선 KTX</th>\n",
       "      <th>동해선 KTX</th>\n",
       "    </tr>\n",
       "  </thead>\n",
       "  <tbody>\n",
       "    <tr>\n",
       "      <th>2011</th>\n",
       "      <td>39060</td>\n",
       "      <td>7313</td>\n",
       "      <td>3627</td>\n",
       "      <td>309</td>\n",
       "      <td>NaN</td>\n",
       "    </tr>\n",
       "    <tr>\n",
       "      <th>2012</th>\n",
       "      <td>39896</td>\n",
       "      <td>6967</td>\n",
       "      <td>4168</td>\n",
       "      <td>1771</td>\n",
       "      <td>NaN</td>\n",
       "    </tr>\n",
       "    <tr>\n",
       "      <th>2013</th>\n",
       "      <td>42005</td>\n",
       "      <td>6873</td>\n",
       "      <td>4088</td>\n",
       "      <td>1954</td>\n",
       "      <td>NaN</td>\n",
       "    </tr>\n",
       "  </tbody>\n",
       "</table>\n",
       "</div>"
      ],
      "text/plain": [
       "      경부선 KTX  호남선 KTX  경전선 KTX  전라선 KTX  동해선 KTX\n",
       "2011    39060     7313     3627      309      NaN\n",
       "2012    39896     6967     4168     1771      NaN\n",
       "2013    42005     6873     4088     1954      NaN"
      ]
     },
     "execution_count": 323,
     "metadata": {},
     "output_type": "execute_result"
    }
   ],
   "source": [
    "df_KTX.head(3)"
   ]
  },
  {
   "cell_type": "code",
   "execution_count": 324,
   "metadata": {
    "id": "eYvf0p1OkooV",
    "nbpresent": {
     "id": "3d06c73d-3987-470b-933a-48f98fd8d538"
    }
   },
   "outputs": [
    {
     "data": {
      "text/html": [
       "<div>\n",
       "<style scoped>\n",
       "    .dataframe tbody tr th:only-of-type {\n",
       "        vertical-align: middle;\n",
       "    }\n",
       "\n",
       "    .dataframe tbody tr th {\n",
       "        vertical-align: top;\n",
       "    }\n",
       "\n",
       "    .dataframe thead th {\n",
       "        text-align: right;\n",
       "    }\n",
       "</style>\n",
       "<table border=\"1\" class=\"dataframe\">\n",
       "  <thead>\n",
       "    <tr style=\"text-align: right;\">\n",
       "      <th></th>\n",
       "      <th>경부선 KTX</th>\n",
       "      <th>호남선 KTX</th>\n",
       "      <th>경전선 KTX</th>\n",
       "      <th>전라선 KTX</th>\n",
       "      <th>동해선 KTX</th>\n",
       "    </tr>\n",
       "  </thead>\n",
       "  <tbody>\n",
       "    <tr>\n",
       "      <th>2016</th>\n",
       "      <td>41266</td>\n",
       "      <td>10622</td>\n",
       "      <td>4984</td>\n",
       "      <td>3945</td>\n",
       "      <td>3786.0</td>\n",
       "    </tr>\n",
       "    <tr>\n",
       "      <th>2017</th>\n",
       "      <td>32427</td>\n",
       "      <td>9228</td>\n",
       "      <td>5570</td>\n",
       "      <td>5766</td>\n",
       "      <td>6667.0</td>\n",
       "    </tr>\n",
       "  </tbody>\n",
       "</table>\n",
       "</div>"
      ],
      "text/plain": [
       "      경부선 KTX  호남선 KTX  경전선 KTX  전라선 KTX  동해선 KTX\n",
       "2016    41266    10622     4984     3945   3786.0\n",
       "2017    32427     9228     5570     5766   6667.0"
      ]
     },
     "execution_count": 324,
     "metadata": {},
     "output_type": "execute_result"
    }
   ],
   "source": [
    "df_KTX.tail(2)"
   ]
  },
  {
   "cell_type": "markdown",
   "metadata": {
    "id": "zNrUp6FwkooV",
    "nbpresent": {
     "id": "020f7f43-2b88-4405-92ef-ae8fe3a82876"
    }
   },
   "source": [
    "- DataFrame 데이터에서 연속된 구간의 행 데이터를 선택하려면 다음과 같이 '행 시작 위치'와 '끝 위치'를 지정\n",
    "- DataFrame_data [ 행-시작_위 치: 행_끝_위 치 ]\n",
    "- DataFrame 데이터(DataFrame_data) 중에서 '행_시작_위치 ~ 행_끝_위치-1'까지의 행 데이터를 반환\n",
    "- 행의 위치는 0부터 시작"
   ]
  },
  {
   "cell_type": "markdown",
   "metadata": {
    "id": "JVpBcl-tkooV"
   },
   "source": [
    "- df_KTX에서 행 위치 1 의 행 데이터 하나를 선택"
   ]
  },
  {
   "cell_type": "code",
   "execution_count": 325,
   "metadata": {
    "id": "DCgQFVsokooV",
    "nbpresent": {
     "id": "ac73781f-1113-47c9-bc0b-ff1c6f328aa2"
    }
   },
   "outputs": [
    {
     "data": {
      "text/html": [
       "<div>\n",
       "<style scoped>\n",
       "    .dataframe tbody tr th:only-of-type {\n",
       "        vertical-align: middle;\n",
       "    }\n",
       "\n",
       "    .dataframe tbody tr th {\n",
       "        vertical-align: top;\n",
       "    }\n",
       "\n",
       "    .dataframe thead th {\n",
       "        text-align: right;\n",
       "    }\n",
       "</style>\n",
       "<table border=\"1\" class=\"dataframe\">\n",
       "  <thead>\n",
       "    <tr style=\"text-align: right;\">\n",
       "      <th></th>\n",
       "      <th>경부선 KTX</th>\n",
       "      <th>호남선 KTX</th>\n",
       "      <th>경전선 KTX</th>\n",
       "      <th>전라선 KTX</th>\n",
       "      <th>동해선 KTX</th>\n",
       "    </tr>\n",
       "  </thead>\n",
       "  <tbody>\n",
       "    <tr>\n",
       "      <th>2012</th>\n",
       "      <td>39896</td>\n",
       "      <td>6967</td>\n",
       "      <td>4168</td>\n",
       "      <td>1771</td>\n",
       "      <td>NaN</td>\n",
       "    </tr>\n",
       "  </tbody>\n",
       "</table>\n",
       "</div>"
      ],
      "text/plain": [
       "      경부선 KTX  호남선 KTX  경전선 KTX  전라선 KTX  동해선 KTX\n",
       "2012    39896     6967     4168     1771      NaN"
      ]
     },
     "execution_count": 325,
     "metadata": {},
     "output_type": "execute_result"
    }
   ],
   "source": [
    "df_KTX[1:2]"
   ]
  },
  {
   "cell_type": "markdown",
   "metadata": {
    "id": "Zz37ZccWkooV",
    "nbpresent": {
     "id": "fa7444c4-04b5-48b9-a106-5cf38c24ca33"
    }
   },
   "source": [
    "- 변수 df_KTX에서 행 위치 2에서 4까지의 행 데이터를 선택"
   ]
  },
  {
   "cell_type": "code",
   "execution_count": 326,
   "metadata": {
    "id": "R9xx8lqOkooV",
    "nbpresent": {
     "id": "b9b0414d-d865-4259-b25e-4d75950ffbb6"
    }
   },
   "outputs": [
    {
     "data": {
      "text/html": [
       "<div>\n",
       "<style scoped>\n",
       "    .dataframe tbody tr th:only-of-type {\n",
       "        vertical-align: middle;\n",
       "    }\n",
       "\n",
       "    .dataframe tbody tr th {\n",
       "        vertical-align: top;\n",
       "    }\n",
       "\n",
       "    .dataframe thead th {\n",
       "        text-align: right;\n",
       "    }\n",
       "</style>\n",
       "<table border=\"1\" class=\"dataframe\">\n",
       "  <thead>\n",
       "    <tr style=\"text-align: right;\">\n",
       "      <th></th>\n",
       "      <th>경부선 KTX</th>\n",
       "      <th>호남선 KTX</th>\n",
       "      <th>경전선 KTX</th>\n",
       "      <th>전라선 KTX</th>\n",
       "      <th>동해선 KTX</th>\n",
       "    </tr>\n",
       "  </thead>\n",
       "  <tbody>\n",
       "    <tr>\n",
       "      <th>2013</th>\n",
       "      <td>42005</td>\n",
       "      <td>6873</td>\n",
       "      <td>4088</td>\n",
       "      <td>1954</td>\n",
       "      <td>NaN</td>\n",
       "    </tr>\n",
       "    <tr>\n",
       "      <th>2014</th>\n",
       "      <td>43621</td>\n",
       "      <td>6626</td>\n",
       "      <td>4424</td>\n",
       "      <td>2244</td>\n",
       "      <td>NaN</td>\n",
       "    </tr>\n",
       "    <tr>\n",
       "      <th>2015</th>\n",
       "      <td>41702</td>\n",
       "      <td>8675</td>\n",
       "      <td>4606</td>\n",
       "      <td>3146</td>\n",
       "      <td>2395.0</td>\n",
       "    </tr>\n",
       "  </tbody>\n",
       "</table>\n",
       "</div>"
      ],
      "text/plain": [
       "      경부선 KTX  호남선 KTX  경전선 KTX  전라선 KTX  동해선 KTX\n",
       "2013    42005     6873     4088     1954      NaN\n",
       "2014    43621     6626     4424     2244      NaN\n",
       "2015    41702     8675     4606     3146   2395.0"
      ]
     },
     "execution_count": 326,
     "metadata": {},
     "output_type": "execute_result"
    }
   ],
   "source": [
    "df_KTX[2:5]"
   ]
  },
  {
   "cell_type": "markdown",
   "metadata": {
    "id": "d68zx-xokooV"
   },
   "source": [
    "- DataFrame 데이터를 생성할 때 index를 지정했다면 다음과 같이 index 항목 이름을 지정해 행을 선택 할 수도 있음\n",
    "- DataFrame_data.loc[index_name]\n",
    "- DataFrame_data의 데이터에서 index가 index_name인 행 데이터를 반환"
   ]
  },
  {
   "cell_type": "markdown",
   "metadata": {
    "id": "30RoiLbBkooV",
    "nbpresent": {
     "id": "d4651dc6-f125-47d0-a46c-8fe06a7bc4be"
    }
   },
   "source": [
    "- df_KTX에서 index로 지정한 항목 중 2011 년 데이터만 선택한 예"
   ]
  },
  {
   "cell_type": "code",
   "execution_count": 327,
   "metadata": {
    "id": "epJUhqZPkooV",
    "nbpresent": {
     "id": "f3adbfa8-ca7a-4117-9f75-f4a12cfe7c80"
    }
   },
   "outputs": [
    {
     "data": {
      "text/plain": [
       "경부선 KTX    39060.0\n",
       "호남선 KTX     7313.0\n",
       "경전선 KTX     3627.0\n",
       "전라선 KTX      309.0\n",
       "동해선 KTX        NaN\n",
       "Name: 2011, dtype: float64"
      ]
     },
     "execution_count": 327,
     "metadata": {},
     "output_type": "execute_result"
    }
   ],
   "source": [
    "df_KTX.loc['2011']"
   ]
  },
  {
   "cell_type": "markdown",
   "metadata": {
    "id": "vmd_M5J1kooV"
   },
   "source": [
    "- DataFrame 데이터에서 다음과 같이 index 항목 이름으로 구간을 지정해서 연속된 구간의 행을 선택할 수도 있음\n",
    "- DataFrame_data.loc[start_index_name：end_index_name]\n",
    "- DataFrame_data의 데이터 중 index가 start_index_name에서 end_index_name까지 구간의 행 데이터가 선택"
   ]
  },
  {
   "cell_type": "markdown",
   "metadata": {
    "id": "KNOkrFjvkooV",
    "nbpresent": {
     "id": "4ec02e25-230b-4dc4-b93d-248362bb6668"
    }
   },
   "source": [
    "- df_KTX에서 index로 지정한 항목 중 2013년부터 2016년까지의 행 데이터를 선택한 예"
   ]
  },
  {
   "cell_type": "code",
   "execution_count": 328,
   "metadata": {
    "id": "1xC6KsCZkooW",
    "nbpresent": {
     "id": "d1dbe790-0599-4dd5-a85f-e7d342fbaec1"
    }
   },
   "outputs": [
    {
     "data": {
      "text/html": [
       "<div>\n",
       "<style scoped>\n",
       "    .dataframe tbody tr th:only-of-type {\n",
       "        vertical-align: middle;\n",
       "    }\n",
       "\n",
       "    .dataframe tbody tr th {\n",
       "        vertical-align: top;\n",
       "    }\n",
       "\n",
       "    .dataframe thead th {\n",
       "        text-align: right;\n",
       "    }\n",
       "</style>\n",
       "<table border=\"1\" class=\"dataframe\">\n",
       "  <thead>\n",
       "    <tr style=\"text-align: right;\">\n",
       "      <th></th>\n",
       "      <th>경부선 KTX</th>\n",
       "      <th>호남선 KTX</th>\n",
       "      <th>경전선 KTX</th>\n",
       "      <th>전라선 KTX</th>\n",
       "      <th>동해선 KTX</th>\n",
       "    </tr>\n",
       "  </thead>\n",
       "  <tbody>\n",
       "    <tr>\n",
       "      <th>2013</th>\n",
       "      <td>42005</td>\n",
       "      <td>6873</td>\n",
       "      <td>4088</td>\n",
       "      <td>1954</td>\n",
       "      <td>NaN</td>\n",
       "    </tr>\n",
       "    <tr>\n",
       "      <th>2014</th>\n",
       "      <td>43621</td>\n",
       "      <td>6626</td>\n",
       "      <td>4424</td>\n",
       "      <td>2244</td>\n",
       "      <td>NaN</td>\n",
       "    </tr>\n",
       "    <tr>\n",
       "      <th>2015</th>\n",
       "      <td>41702</td>\n",
       "      <td>8675</td>\n",
       "      <td>4606</td>\n",
       "      <td>3146</td>\n",
       "      <td>2395.0</td>\n",
       "    </tr>\n",
       "    <tr>\n",
       "      <th>2016</th>\n",
       "      <td>41266</td>\n",
       "      <td>10622</td>\n",
       "      <td>4984</td>\n",
       "      <td>3945</td>\n",
       "      <td>3786.0</td>\n",
       "    </tr>\n",
       "  </tbody>\n",
       "</table>\n",
       "</div>"
      ],
      "text/plain": [
       "      경부선 KTX  호남선 KTX  경전선 KTX  전라선 KTX  동해선 KTX\n",
       "2013    42005     6873     4088     1954      NaN\n",
       "2014    43621     6626     4424     2244      NaN\n",
       "2015    41702     8675     4606     3146   2395.0\n",
       "2016    41266    10622     4984     3945   3786.0"
      ]
     },
     "execution_count": 328,
     "metadata": {},
     "output_type": "execute_result"
    }
   ],
   "source": [
    "df_KTX.loc['2013':'2016']"
   ]
  },
  {
   "cell_type": "markdown",
   "metadata": {
    "id": "3j-j8frRkooW"
   },
   "source": [
    "- 데이터에서 하나의 열만 선택하려면 다음과 같이 하나의 columns 항목 이름을 지정\n",
    "- DataFrame_data[column_name]\n",
    "- DataFrame_data에서 column_name으로 지정한 열이 선택"
   ]
  },
  {
   "cell_type": "markdown",
   "metadata": {
    "id": "kD1C8tM_kooW",
    "nbpresent": {
     "id": "dcaf4328-bf16-4cec-aa4b-e2b6b4c50dee"
    }
   },
   "source": [
    "- df_KTX에서 columns의 항목 중 ‘경부선 KTX’를 지정해 하나의 열 데이터만 선택한 예"
   ]
  },
  {
   "cell_type": "code",
   "execution_count": 329,
   "metadata": {
    "id": "kZ2BG4jWkooW",
    "nbpresent": {
     "id": "83f35fac-f81a-4767-b858-e720844e9efb"
    }
   },
   "outputs": [
    {
     "data": {
      "text/plain": [
       "2011    39060\n",
       "2012    39896\n",
       "2013    42005\n",
       "2014    43621\n",
       "2015    41702\n",
       "2016    41266\n",
       "2017    32427\n",
       "Name: 경부선 KTX, dtype: int64"
      ]
     },
     "execution_count": 329,
     "metadata": {},
     "output_type": "execute_result"
    }
   ],
   "source": [
    "df_KTX['경부선 KTX']"
   ]
  },
  {
   "cell_type": "markdown",
   "metadata": {
    "id": "0cGrYJmDkooW"
   },
   "source": [
    "- DataFrame 데이터에서 하나의 열을 선택한 후 index의 범위를 지정해 원하는 데이터만 선택할 수도 있음\n",
    "- DataFrame_data[column_naine][start_index_naine：end_index_nanie] \n",
    "- DataFrame_data[column_name][start_index_pos：end_index_pos]\n",
    "- column_name으로 하나의 열을 선택한 후 ’start_index_name：end_index_name’으로\n",
    "- index의 이름을 지정해 index의 범위를 선택할 수도 있고，\n",
    "- 'start_index_pos:end_index_pos’로 index의 위치를 지정해 index의 범위를 선택할 수도 있음\n",
    "- index의 위치는 0부터 시작"
   ]
  },
  {
   "cell_type": "markdown",
   "metadata": {
    "id": "Y3lb_hdAkooW"
   },
   "source": [
    "-df_KTX에서 ’ 경부선 KTX’로 열을 선택한 후 2012년에서 2014년까지 index의 범위를 index의 이 름으로 지정한 예"
   ]
  },
  {
   "cell_type": "code",
   "execution_count": 330,
   "metadata": {
    "id": "N-iA1K9-kooW"
   },
   "outputs": [
    {
     "data": {
      "text/plain": [
       "2012    39896\n",
       "2013    42005\n",
       "2014    43621\n",
       "Name: 경부선 KTX, dtype: int64"
      ]
     },
     "execution_count": 330,
     "metadata": {},
     "output_type": "execute_result"
    }
   ],
   "source": [
    "df_KTX['경부선 KTX']['2012':'2014']"
   ]
  },
  {
   "cell_type": "markdown",
   "metadata": {
    "id": "sld-WSbAkooW"
   },
   "source": [
    "- index의 위치로 범위를 지정한 예"
   ]
  },
  {
   "cell_type": "code",
   "execution_count": 331,
   "metadata": {
    "id": "FGy3CVHRkooW"
   },
   "outputs": [
    {
     "data": {
      "text/plain": [
       "2013    42005\n",
       "2014    43621\n",
       "2015    41702\n",
       "Name: 경부선 KTX, dtype: int64"
      ]
     },
     "execution_count": 331,
     "metadata": {},
     "output_type": "execute_result"
    }
   ],
   "source": [
    "df_KTX['경부선 KTX'][2:5]"
   ]
  },
  {
   "cell_type": "markdown",
   "metadata": {
    "id": "YBlLjXPskooW"
   },
   "source": [
    "- DataFrame 데이터 중 하나의 원소만 선택하려면 다음 방법 중 하나를 이용\n",
    "- DataFrame_data.loc[index_name][column_name]\n",
    "- DataFrame_data.loc[index_name, column_name]\n",
    "- DataFrame_data[column_name][index_name]\n",
    "- DataFrame_data[column_name][index_pos]\n",
    "- DataFrame_data[column_name].loc[index_name]"
   ]
  },
  {
   "cell_type": "markdown",
   "metadata": {
    "id": "yMiMNGE0kooW",
    "nbpresent": {
     "id": "fd47ed21-ae36-42ef-8019-6054f1ef7e36"
    }
   },
   "source": [
    "df_KTX에서 2016년의 ‘호남선 KTX_ 의 이용자 수를 선택하려면 다음과 같이 여러 방법으로 수행"
   ]
  },
  {
   "cell_type": "code",
   "execution_count": 332,
   "metadata": {
    "id": "CPypwE1vkooW",
    "nbpresent": {
     "id": "54f2aafb-cf2d-4ca3-aeed-8b8e7640cf45"
    }
   },
   "outputs": [
    {
     "data": {
      "text/plain": [
       "np.float64(10622.0)"
      ]
     },
     "execution_count": 332,
     "metadata": {},
     "output_type": "execute_result"
    }
   ],
   "source": [
    "df_KTX.loc['2016']['호남선 KTX']"
   ]
  },
  {
   "cell_type": "code",
   "execution_count": 333,
   "metadata": {
    "id": "1qEI7HdtkooW",
    "nbpresent": {
     "id": "e2171d29-60a5-4cb1-b568-af3a9a93f378"
    }
   },
   "outputs": [
    {
     "data": {
      "text/plain": [
       "np.int64(10622)"
      ]
     },
     "execution_count": 333,
     "metadata": {},
     "output_type": "execute_result"
    }
   ],
   "source": [
    "df_KTX.loc['2016','호남선 KTX']"
   ]
  },
  {
   "cell_type": "code",
   "execution_count": 334,
   "metadata": {},
   "outputs": [
    {
     "data": {
      "text/html": [
       "<div>\n",
       "<style scoped>\n",
       "    .dataframe tbody tr th:only-of-type {\n",
       "        vertical-align: middle;\n",
       "    }\n",
       "\n",
       "    .dataframe tbody tr th {\n",
       "        vertical-align: top;\n",
       "    }\n",
       "\n",
       "    .dataframe thead th {\n",
       "        text-align: right;\n",
       "    }\n",
       "</style>\n",
       "<table border=\"1\" class=\"dataframe\">\n",
       "  <thead>\n",
       "    <tr style=\"text-align: right;\">\n",
       "      <th></th>\n",
       "      <th>경부선 KTX</th>\n",
       "      <th>호남선 KTX</th>\n",
       "      <th>경전선 KTX</th>\n",
       "      <th>전라선 KTX</th>\n",
       "      <th>동해선 KTX</th>\n",
       "    </tr>\n",
       "  </thead>\n",
       "  <tbody>\n",
       "    <tr>\n",
       "      <th>2015</th>\n",
       "      <td>41702</td>\n",
       "      <td>8675</td>\n",
       "      <td>4606</td>\n",
       "      <td>3146</td>\n",
       "      <td>2395.0</td>\n",
       "    </tr>\n",
       "    <tr>\n",
       "      <th>2014</th>\n",
       "      <td>43621</td>\n",
       "      <td>6626</td>\n",
       "      <td>4424</td>\n",
       "      <td>2244</td>\n",
       "      <td>NaN</td>\n",
       "    </tr>\n",
       "  </tbody>\n",
       "</table>\n",
       "</div>"
      ],
      "text/plain": [
       "      경부선 KTX  호남선 KTX  경전선 KTX  전라선 KTX  동해선 KTX\n",
       "2015    41702     8675     4606     3146   2395.0\n",
       "2014    43621     6626     4424     2244      NaN"
      ]
     },
     "execution_count": 334,
     "metadata": {},
     "output_type": "execute_result"
    }
   ],
   "source": [
    "df_KTX.iloc[4:2:-1,:]"
   ]
  },
  {
   "cell_type": "code",
   "execution_count": 335,
   "metadata": {
    "scrolled": true
   },
   "outputs": [
    {
     "data": {
      "text/html": [
       "<div>\n",
       "<style scoped>\n",
       "    .dataframe tbody tr th:only-of-type {\n",
       "        vertical-align: middle;\n",
       "    }\n",
       "\n",
       "    .dataframe tbody tr th {\n",
       "        vertical-align: top;\n",
       "    }\n",
       "\n",
       "    .dataframe thead th {\n",
       "        text-align: right;\n",
       "    }\n",
       "</style>\n",
       "<table border=\"1\" class=\"dataframe\">\n",
       "  <thead>\n",
       "    <tr style=\"text-align: right;\">\n",
       "      <th></th>\n",
       "      <th>전라선 KTX</th>\n",
       "      <th>경전선 KTX</th>\n",
       "      <th>호남선 KTX</th>\n",
       "      <th>경부선 KTX</th>\n",
       "    </tr>\n",
       "  </thead>\n",
       "  <tbody>\n",
       "    <tr>\n",
       "      <th>2017</th>\n",
       "      <td>5766</td>\n",
       "      <td>5570</td>\n",
       "      <td>9228</td>\n",
       "      <td>32427</td>\n",
       "    </tr>\n",
       "    <tr>\n",
       "      <th>2015</th>\n",
       "      <td>3146</td>\n",
       "      <td>4606</td>\n",
       "      <td>8675</td>\n",
       "      <td>41702</td>\n",
       "    </tr>\n",
       "    <tr>\n",
       "      <th>2013</th>\n",
       "      <td>1954</td>\n",
       "      <td>4088</td>\n",
       "      <td>6873</td>\n",
       "      <td>42005</td>\n",
       "    </tr>\n",
       "  </tbody>\n",
       "</table>\n",
       "</div>"
      ],
      "text/plain": [
       "      전라선 KTX  경전선 KTX  호남선 KTX  경부선 KTX\n",
       "2017     5766     5570     9228    32427\n",
       "2015     3146     4606     8675    41702\n",
       "2013     1954     4088     6873    42005"
      ]
     },
     "execution_count": 335,
     "metadata": {},
     "output_type": "execute_result"
    }
   ],
   "source": [
    "df_KTX.loc[\"2017\":\"2013\":-2,\"전라선 KTX\":\"경부선 KTX\":-1]"
   ]
  },
  {
   "cell_type": "code",
   "execution_count": 336,
   "metadata": {},
   "outputs": [
    {
     "data": {
      "text/plain": [
       "<pandas.core.indexing._LocIndexer at 0x2a8acf83f70>"
      ]
     },
     "execution_count": 336,
     "metadata": {},
     "output_type": "execute_result"
    }
   ],
   "source": [
    "df_KTX.loc()"
   ]
  },
  {
   "cell_type": "code",
   "execution_count": 337,
   "metadata": {},
   "outputs": [
    {
     "data": {
      "text/plain": [
       "np.int64(10622)"
      ]
     },
     "execution_count": 337,
     "metadata": {},
     "output_type": "execute_result"
    }
   ],
   "source": [
    "df_KTX.iloc[5,1]"
   ]
  },
  {
   "cell_type": "code",
   "execution_count": 338,
   "metadata": {
    "id": "pd6NjlM_kooX"
   },
   "outputs": [
    {
     "data": {
      "text/plain": [
       "np.int64(10622)"
      ]
     },
     "execution_count": 338,
     "metadata": {},
     "output_type": "execute_result"
    }
   ],
   "source": [
    "df_KTX['호남선 KTX']['2016']"
   ]
  },
  {
   "cell_type": "code",
   "execution_count": 339,
   "metadata": {
    "id": "enyuZFbQkooX"
   },
   "outputs": [
    {
     "name": "stderr",
     "output_type": "stream",
     "text": [
      "C:\\Users\\lth08\\AppData\\Local\\Temp\\ipykernel_6432\\823467365.py:1: FutureWarning: Series.__getitem__ treating keys as positions is deprecated. In a future version, integer keys will always be treated as labels (consistent with DataFrame behavior). To access a value by position, use `ser.iloc[pos]`\n",
      "  df_KTX['호남선 KTX'][5]\n"
     ]
    },
    {
     "data": {
      "text/plain": [
       "np.int64(10622)"
      ]
     },
     "execution_count": 339,
     "metadata": {},
     "output_type": "execute_result"
    }
   ],
   "source": [
    "df_KTX['호남선 KTX'][5]"
   ]
  },
  {
   "cell_type": "code",
   "execution_count": 340,
   "metadata": {
    "id": "mzCTO_a7kooX",
    "nbpresent": {
     "id": "327137d4-8ac4-48da-b1de-fb95c9f22935"
    }
   },
   "outputs": [
    {
     "data": {
      "text/plain": [
       "np.int64(10622)"
      ]
     },
     "execution_count": 340,
     "metadata": {},
     "output_type": "execute_result"
    }
   ],
   "source": [
    "df_KTX['호남선 KTX'].loc['2016']"
   ]
  },
  {
   "cell_type": "markdown",
   "metadata": {
    "id": "bXyu0QCHkooX"
   },
   "source": [
    "- DataFrame 데이터의 행과 열을 바 꾸는 방법\n",
    "- 행렬에서 행과 열을 바꾸는 것을 전치(transpose)\n",
    "- pandas 에서는 다음과 같은 방법으로 DataFrame 데이터의 전치를 구할 수 있음\n",
    "- DataFrame_data.T"
   ]
  },
  {
   "cell_type": "markdown",
   "metadata": {
    "id": "sbdTGXTXkooX",
    "nbpresent": {
     "id": "aad3f184-80d5-4588-ad1e-748d2788acba"
    }
   },
   "source": [
    "- df_KTX의 전치를 구하는 예"
   ]
  },
  {
   "cell_type": "code",
   "execution_count": 341,
   "metadata": {
    "colab": {
     "base_uri": "https://localhost:8080/",
     "height": 172
    },
    "executionInfo": {
     "elapsed": 341,
     "status": "error",
     "timestamp": 1660474902517,
     "user": {
      "displayName": "junhwa lee",
      "userId": "11332889748979012167"
     },
     "user_tz": -540
    },
    "id": "pT8H4ljFkooX",
    "nbpresent": {
     "id": "ef740481-c78b-42fa-af55-91140ed40b96"
    },
    "outputId": "b88db932-5a15-4bb3-e3a3-acf24f7c8842",
    "scrolled": true
   },
   "outputs": [
    {
     "data": {
      "text/html": [
       "<div>\n",
       "<style scoped>\n",
       "    .dataframe tbody tr th:only-of-type {\n",
       "        vertical-align: middle;\n",
       "    }\n",
       "\n",
       "    .dataframe tbody tr th {\n",
       "        vertical-align: top;\n",
       "    }\n",
       "\n",
       "    .dataframe thead th {\n",
       "        text-align: right;\n",
       "    }\n",
       "</style>\n",
       "<table border=\"1\" class=\"dataframe\">\n",
       "  <thead>\n",
       "    <tr style=\"text-align: right;\">\n",
       "      <th></th>\n",
       "      <th>2011</th>\n",
       "      <th>2012</th>\n",
       "      <th>2013</th>\n",
       "      <th>2014</th>\n",
       "      <th>2015</th>\n",
       "      <th>2016</th>\n",
       "      <th>2017</th>\n",
       "    </tr>\n",
       "  </thead>\n",
       "  <tbody>\n",
       "    <tr>\n",
       "      <th>경부선 KTX</th>\n",
       "      <td>39060.0</td>\n",
       "      <td>39896.0</td>\n",
       "      <td>42005.0</td>\n",
       "      <td>43621.0</td>\n",
       "      <td>41702.0</td>\n",
       "      <td>41266.0</td>\n",
       "      <td>32427.0</td>\n",
       "    </tr>\n",
       "    <tr>\n",
       "      <th>호남선 KTX</th>\n",
       "      <td>7313.0</td>\n",
       "      <td>6967.0</td>\n",
       "      <td>6873.0</td>\n",
       "      <td>6626.0</td>\n",
       "      <td>8675.0</td>\n",
       "      <td>10622.0</td>\n",
       "      <td>9228.0</td>\n",
       "    </tr>\n",
       "    <tr>\n",
       "      <th>경전선 KTX</th>\n",
       "      <td>3627.0</td>\n",
       "      <td>4168.0</td>\n",
       "      <td>4088.0</td>\n",
       "      <td>4424.0</td>\n",
       "      <td>4606.0</td>\n",
       "      <td>4984.0</td>\n",
       "      <td>5570.0</td>\n",
       "    </tr>\n",
       "    <tr>\n",
       "      <th>전라선 KTX</th>\n",
       "      <td>309.0</td>\n",
       "      <td>1771.0</td>\n",
       "      <td>1954.0</td>\n",
       "      <td>2244.0</td>\n",
       "      <td>3146.0</td>\n",
       "      <td>3945.0</td>\n",
       "      <td>5766.0</td>\n",
       "    </tr>\n",
       "    <tr>\n",
       "      <th>동해선 KTX</th>\n",
       "      <td>NaN</td>\n",
       "      <td>NaN</td>\n",
       "      <td>NaN</td>\n",
       "      <td>NaN</td>\n",
       "      <td>2395.0</td>\n",
       "      <td>3786.0</td>\n",
       "      <td>6667.0</td>\n",
       "    </tr>\n",
       "  </tbody>\n",
       "</table>\n",
       "</div>"
      ],
      "text/plain": [
       "            2011     2012     2013     2014     2015     2016     2017\n",
       "경부선 KTX  39060.0  39896.0  42005.0  43621.0  41702.0  41266.0  32427.0\n",
       "호남선 KTX   7313.0   6967.0   6873.0   6626.0   8675.0  10622.0   9228.0\n",
       "경전선 KTX   3627.0   4168.0   4088.0   4424.0   4606.0   4984.0   5570.0\n",
       "전라선 KTX    309.0   1771.0   1954.0   2244.0   3146.0   3945.0   5766.0\n",
       "동해선 KTX      NaN      NaN      NaN      NaN   2395.0   3786.0   6667.0"
      ]
     },
     "execution_count": 341,
     "metadata": {},
     "output_type": "execute_result"
    }
   ],
   "source": [
    "df_KTX.T"
   ]
  },
  {
   "cell_type": "markdown",
   "metadata": {
    "id": "myLoDFjPkooX"
   },
   "source": [
    "- DataFrame 데이터는 열의 항목 이름을 지정해 열의 순서를 지정할 수 있음"
   ]
  },
  {
   "cell_type": "code",
   "execution_count": 342,
   "metadata": {
    "id": "TpJ7ITagkooX"
   },
   "outputs": [
    {
     "data": {
      "text/html": [
       "<div>\n",
       "<style scoped>\n",
       "    .dataframe tbody tr th:only-of-type {\n",
       "        vertical-align: middle;\n",
       "    }\n",
       "\n",
       "    .dataframe tbody tr th {\n",
       "        vertical-align: top;\n",
       "    }\n",
       "\n",
       "    .dataframe thead th {\n",
       "        text-align: right;\n",
       "    }\n",
       "</style>\n",
       "<table border=\"1\" class=\"dataframe\">\n",
       "  <thead>\n",
       "    <tr style=\"text-align: right;\">\n",
       "      <th></th>\n",
       "      <th>경부선 KTX</th>\n",
       "      <th>호남선 KTX</th>\n",
       "      <th>경전선 KTX</th>\n",
       "      <th>전라선 KTX</th>\n",
       "      <th>동해선 KTX</th>\n",
       "    </tr>\n",
       "  </thead>\n",
       "  <tbody>\n",
       "    <tr>\n",
       "      <th>2011</th>\n",
       "      <td>39060</td>\n",
       "      <td>7313</td>\n",
       "      <td>3627</td>\n",
       "      <td>309</td>\n",
       "      <td>NaN</td>\n",
       "    </tr>\n",
       "    <tr>\n",
       "      <th>2012</th>\n",
       "      <td>39896</td>\n",
       "      <td>6967</td>\n",
       "      <td>4168</td>\n",
       "      <td>1771</td>\n",
       "      <td>NaN</td>\n",
       "    </tr>\n",
       "    <tr>\n",
       "      <th>2013</th>\n",
       "      <td>42005</td>\n",
       "      <td>6873</td>\n",
       "      <td>4088</td>\n",
       "      <td>1954</td>\n",
       "      <td>NaN</td>\n",
       "    </tr>\n",
       "    <tr>\n",
       "      <th>2014</th>\n",
       "      <td>43621</td>\n",
       "      <td>6626</td>\n",
       "      <td>4424</td>\n",
       "      <td>2244</td>\n",
       "      <td>NaN</td>\n",
       "    </tr>\n",
       "    <tr>\n",
       "      <th>2015</th>\n",
       "      <td>41702</td>\n",
       "      <td>8675</td>\n",
       "      <td>4606</td>\n",
       "      <td>3146</td>\n",
       "      <td>2395.0</td>\n",
       "    </tr>\n",
       "    <tr>\n",
       "      <th>2016</th>\n",
       "      <td>41266</td>\n",
       "      <td>10622</td>\n",
       "      <td>4984</td>\n",
       "      <td>3945</td>\n",
       "      <td>3786.0</td>\n",
       "    </tr>\n",
       "    <tr>\n",
       "      <th>2017</th>\n",
       "      <td>32427</td>\n",
       "      <td>9228</td>\n",
       "      <td>5570</td>\n",
       "      <td>5766</td>\n",
       "      <td>6667.0</td>\n",
       "    </tr>\n",
       "  </tbody>\n",
       "</table>\n",
       "</div>"
      ],
      "text/plain": [
       "      경부선 KTX  호남선 KTX  경전선 KTX  전라선 KTX  동해선 KTX\n",
       "2011    39060     7313     3627      309      NaN\n",
       "2012    39896     6967     4168     1771      NaN\n",
       "2013    42005     6873     4088     1954      NaN\n",
       "2014    43621     6626     4424     2244      NaN\n",
       "2015    41702     8675     4606     3146   2395.0\n",
       "2016    41266    10622     4984     3945   3786.0\n",
       "2017    32427     9228     5570     5766   6667.0"
      ]
     },
     "execution_count": 342,
     "metadata": {},
     "output_type": "execute_result"
    }
   ],
   "source": [
    "df_KTX"
   ]
  },
  {
   "cell_type": "markdown",
   "metadata": {
    "id": "dZwNq2h-kooX"
   },
   "source": [
    "- DataFrame 데이터 변수 df_KTX에 열의 항목을 지정해 열의 순서를 다음과 같이 변경"
   ]
  },
  {
   "cell_type": "code",
   "execution_count": 343,
   "metadata": {
    "id": "EkP-7qExkooX"
   },
   "outputs": [
    {
     "data": {
      "text/html": [
       "<div>\n",
       "<style scoped>\n",
       "    .dataframe tbody tr th:only-of-type {\n",
       "        vertical-align: middle;\n",
       "    }\n",
       "\n",
       "    .dataframe tbody tr th {\n",
       "        vertical-align: top;\n",
       "    }\n",
       "\n",
       "    .dataframe thead th {\n",
       "        text-align: right;\n",
       "    }\n",
       "</style>\n",
       "<table border=\"1\" class=\"dataframe\">\n",
       "  <thead>\n",
       "    <tr style=\"text-align: right;\">\n",
       "      <th></th>\n",
       "      <th>동해선 KTX</th>\n",
       "      <th>전라선 KTX</th>\n",
       "      <th>경전선 KTX</th>\n",
       "      <th>호남선 KTX</th>\n",
       "      <th>경부선 KTX</th>\n",
       "    </tr>\n",
       "  </thead>\n",
       "  <tbody>\n",
       "    <tr>\n",
       "      <th>2011</th>\n",
       "      <td>NaN</td>\n",
       "      <td>309</td>\n",
       "      <td>3627</td>\n",
       "      <td>7313</td>\n",
       "      <td>39060</td>\n",
       "    </tr>\n",
       "    <tr>\n",
       "      <th>2012</th>\n",
       "      <td>NaN</td>\n",
       "      <td>1771</td>\n",
       "      <td>4168</td>\n",
       "      <td>6967</td>\n",
       "      <td>39896</td>\n",
       "    </tr>\n",
       "    <tr>\n",
       "      <th>2013</th>\n",
       "      <td>NaN</td>\n",
       "      <td>1954</td>\n",
       "      <td>4088</td>\n",
       "      <td>6873</td>\n",
       "      <td>42005</td>\n",
       "    </tr>\n",
       "    <tr>\n",
       "      <th>2014</th>\n",
       "      <td>NaN</td>\n",
       "      <td>2244</td>\n",
       "      <td>4424</td>\n",
       "      <td>6626</td>\n",
       "      <td>43621</td>\n",
       "    </tr>\n",
       "    <tr>\n",
       "      <th>2015</th>\n",
       "      <td>2395.0</td>\n",
       "      <td>3146</td>\n",
       "      <td>4606</td>\n",
       "      <td>8675</td>\n",
       "      <td>41702</td>\n",
       "    </tr>\n",
       "    <tr>\n",
       "      <th>2016</th>\n",
       "      <td>3786.0</td>\n",
       "      <td>3945</td>\n",
       "      <td>4984</td>\n",
       "      <td>10622</td>\n",
       "      <td>41266</td>\n",
       "    </tr>\n",
       "    <tr>\n",
       "      <th>2017</th>\n",
       "      <td>6667.0</td>\n",
       "      <td>5766</td>\n",
       "      <td>5570</td>\n",
       "      <td>9228</td>\n",
       "      <td>32427</td>\n",
       "    </tr>\n",
       "  </tbody>\n",
       "</table>\n",
       "</div>"
      ],
      "text/plain": [
       "      동해선 KTX  전라선 KTX  경전선 KTX  호남선 KTX  경부선 KTX\n",
       "2011      NaN      309     3627     7313    39060\n",
       "2012      NaN     1771     4168     6967    39896\n",
       "2013      NaN     1954     4088     6873    42005\n",
       "2014      NaN     2244     4424     6626    43621\n",
       "2015   2395.0     3146     4606     8675    41702\n",
       "2016   3786.0     3945     4984    10622    41266\n",
       "2017   6667.0     5766     5570     9228    32427"
      ]
     },
     "execution_count": 343,
     "metadata": {},
     "output_type": "execute_result"
    }
   ],
   "source": [
    "df_KTX[['동해선 KTX', '전라선 KTX', '경전선 KTX', '호남선 KTX', '경부선 KTX']]"
   ]
  },
  {
   "cell_type": "markdown",
   "metadata": {
    "id": "z5cktd9nkooY",
    "nbpresent": {
     "id": "63216f7b-1fbc-455f-a690-3439ac18de81"
    }
   },
   "source": [
    "### 데이터 통합하기"
   ]
  },
  {
   "cell_type": "markdown",
   "metadata": {
    "id": "QAOin5sUkooY"
   },
   "source": [
    "- 두 개의 데이터를 하나로 통합하는 방법\n",
    "- 통합 방법에는 세로로 증가하는 방향으로 통합하기,\n",
    "- 가로로 증가하는 방향으로 통합하기, \n",
    "- 특정 열을 기준으로 통합하는 방법"
   ]
  },
  {
   "cell_type": "markdown",
   "metadata": {
    "id": "-QD3LCPqkooY"
   },
   "source": [
    "#### 세로 방향으로 통합하기"
   ]
  },
  {
   "cell_type": "markdown",
   "metadata": {
    "id": "mG1C8b0Xkooa"
   },
   "source": [
    "- DataFrame에서 columns가 같은 두 데이터를 세로 방향(index 증가 방향)으로 합하려면\n",
    "- 'append()' 를 이용\n",
    "- DataFrame_data1.append(DataFrame_data2 [,ignore_index=True])\n",
    "- 세로 방향으로 DataFrame_data1 다음에 DataFrame_data2가 추가돼서 DataFrame 데이터로 반환\n",
    "- 'ignore_index=True'를 입력하지 않으면 생성된 DataFrame 데이터에는 기존의 데이터의 index가 그대로 유지되고\n",
    "- 'ignore_index=True'를 입력하면 생성된 DadaFrame 데이터에는 데이터 순서대로 새로운 index가 할당"
   ]
  },
  {
   "cell_type": "markdown",
   "metadata": {
    "id": "gXyt0I-Ukooa"
   },
   "source": [
    "- 두 학급의 시험 점수가 담긴 DataFrame 데이터(df1)를 다음과 같이 생성"
   ]
  },
  {
   "cell_type": "code",
   "execution_count": 344,
   "metadata": {
    "id": "Wu21pKpYkooa",
    "nbpresent": {
     "id": "6d5e6d1b-6fa7-483d-9648-6ca44371399f"
    }
   },
   "outputs": [
    {
     "data": {
      "text/html": [
       "<div>\n",
       "<style scoped>\n",
       "    .dataframe tbody tr th:only-of-type {\n",
       "        vertical-align: middle;\n",
       "    }\n",
       "\n",
       "    .dataframe tbody tr th {\n",
       "        vertical-align: top;\n",
       "    }\n",
       "\n",
       "    .dataframe thead th {\n",
       "        text-align: right;\n",
       "    }\n",
       "</style>\n",
       "<table border=\"1\" class=\"dataframe\">\n",
       "  <thead>\n",
       "    <tr style=\"text-align: right;\">\n",
       "      <th></th>\n",
       "      <th>Class1</th>\n",
       "      <th>Class2</th>\n",
       "    </tr>\n",
       "  </thead>\n",
       "  <tbody>\n",
       "    <tr>\n",
       "      <th>0</th>\n",
       "      <td>95</td>\n",
       "      <td>91</td>\n",
       "    </tr>\n",
       "    <tr>\n",
       "      <th>1</th>\n",
       "      <td>92</td>\n",
       "      <td>93</td>\n",
       "    </tr>\n",
       "    <tr>\n",
       "      <th>2</th>\n",
       "      <td>98</td>\n",
       "      <td>97</td>\n",
       "    </tr>\n",
       "    <tr>\n",
       "      <th>3</th>\n",
       "      <td>100</td>\n",
       "      <td>99</td>\n",
       "    </tr>\n",
       "  </tbody>\n",
       "</table>\n",
       "</div>"
      ],
      "text/plain": [
       "   Class1  Class2\n",
       "0      95      91\n",
       "1      92      93\n",
       "2      98      97\n",
       "3     100      99"
      ]
     },
     "execution_count": 344,
     "metadata": {},
     "output_type": "execute_result"
    }
   ],
   "source": [
    "import pandas as pd\n",
    "import numpy as np\n",
    "\n",
    "df1 = pd.DataFrame({'Class1': [95, 92, 98, 100],\n",
    "                    'Class2': [91, 93, 97, 99]})\n",
    "df1"
   ]
  },
  {
   "cell_type": "markdown",
   "metadata": {
    "id": "XOcOzzetkooa",
    "nbpresent": {
     "id": "cda671f2-a4f9-4be1-887e-826dc1481f68"
    }
   },
   "source": [
    "- 각각 두 명의 학생이 전학을 와서 다음과 같이 DataFrame 데이터(df2)를 추가로 생성"
   ]
  },
  {
   "cell_type": "code",
   "execution_count": 345,
   "metadata": {
    "id": "wRFIkYEHkoob",
    "nbpresent": {
     "id": "c14b788a-0686-4b19-b896-ddfa965039e7"
    }
   },
   "outputs": [
    {
     "data": {
      "text/html": [
       "<div>\n",
       "<style scoped>\n",
       "    .dataframe tbody tr th:only-of-type {\n",
       "        vertical-align: middle;\n",
       "    }\n",
       "\n",
       "    .dataframe tbody tr th {\n",
       "        vertical-align: top;\n",
       "    }\n",
       "\n",
       "    .dataframe thead th {\n",
       "        text-align: right;\n",
       "    }\n",
       "</style>\n",
       "<table border=\"1\" class=\"dataframe\">\n",
       "  <thead>\n",
       "    <tr style=\"text-align: right;\">\n",
       "      <th></th>\n",
       "      <th>Class1</th>\n",
       "      <th>Class2</th>\n",
       "    </tr>\n",
       "  </thead>\n",
       "  <tbody>\n",
       "    <tr>\n",
       "      <th>0</th>\n",
       "      <td>87</td>\n",
       "      <td>85</td>\n",
       "    </tr>\n",
       "    <tr>\n",
       "      <th>1</th>\n",
       "      <td>89</td>\n",
       "      <td>90</td>\n",
       "    </tr>\n",
       "  </tbody>\n",
       "</table>\n",
       "</div>"
      ],
      "text/plain": [
       "   Class1  Class2\n",
       "0      87      85\n",
       "1      89      90"
      ]
     },
     "execution_count": 345,
     "metadata": {},
     "output_type": "execute_result"
    }
   ],
   "source": [
    "df2 = pd.DataFrame({'Class1': [87, 89],\n",
    "                    'Class2': [85, 90]})\n",
    "df2"
   ]
  },
  {
   "cell_type": "markdown",
   "metadata": {
    "id": "1uKjMsthkoob",
    "nbpresent": {
     "id": "bdf5b188-38a6-4948-9aa7-954556372961"
    }
   },
   "source": [
    "- 'append()'이용해 df1에 df2를 추가해서 데이터를 하나로 "
   ]
  },
  {
   "cell_type": "code",
   "execution_count": 346,
   "metadata": {
    "id": "6Fz17wA3koob",
    "nbpresent": {
     "id": "b5fca501-5a79-4e90-a6c9-185fc6cc4d73"
    }
   },
   "outputs": [
    {
     "data": {
      "text/html": [
       "<div>\n",
       "<style scoped>\n",
       "    .dataframe tbody tr th:only-of-type {\n",
       "        vertical-align: middle;\n",
       "    }\n",
       "\n",
       "    .dataframe tbody tr th {\n",
       "        vertical-align: top;\n",
       "    }\n",
       "\n",
       "    .dataframe thead th {\n",
       "        text-align: right;\n",
       "    }\n",
       "</style>\n",
       "<table border=\"1\" class=\"dataframe\">\n",
       "  <thead>\n",
       "    <tr style=\"text-align: right;\">\n",
       "      <th></th>\n",
       "      <th>Class1</th>\n",
       "      <th>Class2</th>\n",
       "    </tr>\n",
       "  </thead>\n",
       "  <tbody>\n",
       "    <tr>\n",
       "      <th>0</th>\n",
       "      <td>95</td>\n",
       "      <td>91</td>\n",
       "    </tr>\n",
       "    <tr>\n",
       "      <th>1</th>\n",
       "      <td>92</td>\n",
       "      <td>93</td>\n",
       "    </tr>\n",
       "    <tr>\n",
       "      <th>2</th>\n",
       "      <td>98</td>\n",
       "      <td>97</td>\n",
       "    </tr>\n",
       "    <tr>\n",
       "      <th>3</th>\n",
       "      <td>100</td>\n",
       "      <td>99</td>\n",
       "    </tr>\n",
       "    <tr>\n",
       "      <th>0</th>\n",
       "      <td>87</td>\n",
       "      <td>85</td>\n",
       "    </tr>\n",
       "    <tr>\n",
       "      <th>1</th>\n",
       "      <td>89</td>\n",
       "      <td>90</td>\n",
       "    </tr>\n",
       "  </tbody>\n",
       "</table>\n",
       "</div>"
      ],
      "text/plain": [
       "   Class1  Class2\n",
       "0      95      91\n",
       "1      92      93\n",
       "2      98      97\n",
       "3     100      99\n",
       "0      87      85\n",
       "1      89      90"
      ]
     },
     "execution_count": 346,
     "metadata": {},
     "output_type": "execute_result"
    }
   ],
   "source": [
    "pd.concat([df1,df2])"
   ]
  },
  {
   "cell_type": "markdown",
   "metadata": {
    "id": "HHsnw9C1koob"
   },
   "source": [
    "- 기존 데이터 df1 에 세로 방향으로 df2가 추가됐는데 생성된 데이터의 inde>(가 기존의 index와 같은 것을 볼 수 있음"
   ]
  },
  {
   "cell_type": "markdown",
   "metadata": {
    "id": "5sUVf5u_koob",
    "nbpresent": {
     "id": "46fee95c-764e-45f7-af46-e2567784af72"
    }
   },
   "source": [
    "- 생성된 데이터에서 순차적으로 index가 중가하게 하려면 옵션으로 'ignore, index=True’를 입력"
   ]
  },
  {
   "cell_type": "code",
   "execution_count": 347,
   "metadata": {
    "id": "urv-L-iZkoob",
    "nbpresent": {
     "id": "ad7d42a5-0cb7-427b-a370-4c1669bd73dc"
    }
   },
   "outputs": [
    {
     "data": {
      "text/html": [
       "<div>\n",
       "<style scoped>\n",
       "    .dataframe tbody tr th:only-of-type {\n",
       "        vertical-align: middle;\n",
       "    }\n",
       "\n",
       "    .dataframe tbody tr th {\n",
       "        vertical-align: top;\n",
       "    }\n",
       "\n",
       "    .dataframe thead th {\n",
       "        text-align: right;\n",
       "    }\n",
       "</style>\n",
       "<table border=\"1\" class=\"dataframe\">\n",
       "  <thead>\n",
       "    <tr style=\"text-align: right;\">\n",
       "      <th></th>\n",
       "      <th>Class1</th>\n",
       "      <th>Class2</th>\n",
       "    </tr>\n",
       "  </thead>\n",
       "  <tbody>\n",
       "    <tr>\n",
       "      <th>0</th>\n",
       "      <td>95</td>\n",
       "      <td>91</td>\n",
       "    </tr>\n",
       "    <tr>\n",
       "      <th>1</th>\n",
       "      <td>92</td>\n",
       "      <td>93</td>\n",
       "    </tr>\n",
       "    <tr>\n",
       "      <th>2</th>\n",
       "      <td>98</td>\n",
       "      <td>97</td>\n",
       "    </tr>\n",
       "    <tr>\n",
       "      <th>3</th>\n",
       "      <td>100</td>\n",
       "      <td>99</td>\n",
       "    </tr>\n",
       "    <tr>\n",
       "      <th>4</th>\n",
       "      <td>87</td>\n",
       "      <td>85</td>\n",
       "    </tr>\n",
       "    <tr>\n",
       "      <th>5</th>\n",
       "      <td>89</td>\n",
       "      <td>90</td>\n",
       "    </tr>\n",
       "  </tbody>\n",
       "</table>\n",
       "</div>"
      ],
      "text/plain": [
       "   Class1  Class2\n",
       "0      95      91\n",
       "1      92      93\n",
       "2      98      97\n",
       "3     100      99\n",
       "4      87      85\n",
       "5      89      90"
      ]
     },
     "execution_count": 347,
     "metadata": {},
     "output_type": "execute_result"
    }
   ],
   "source": [
    "#df1.append(df2, ignore_index=True)\n",
    "pd.concat([df1,df2], ignore_index=True)"
   ]
  },
  {
   "cell_type": "markdown",
   "metadata": {
    "id": "_k0LttwXkoob",
    "nbpresent": {
     "id": "842a7f12-4cb4-4f51-a169-3cc6438c8fce"
    }
   },
   "source": [
    "- columns가 같지 않은 DataFrame 데이터를 ‘append()’를 이용해 추가한다면 데이터가 없는 부분은 NaN으로 채워짐"
   ]
  },
  {
   "cell_type": "code",
   "execution_count": 348,
   "metadata": {
    "id": "1Ag1rHx6koob"
   },
   "outputs": [
    {
     "data": {
      "text/html": [
       "<div>\n",
       "<style scoped>\n",
       "    .dataframe tbody tr th:only-of-type {\n",
       "        vertical-align: middle;\n",
       "    }\n",
       "\n",
       "    .dataframe tbody tr th {\n",
       "        vertical-align: top;\n",
       "    }\n",
       "\n",
       "    .dataframe thead th {\n",
       "        text-align: right;\n",
       "    }\n",
       "</style>\n",
       "<table border=\"1\" class=\"dataframe\">\n",
       "  <thead>\n",
       "    <tr style=\"text-align: right;\">\n",
       "      <th></th>\n",
       "      <th>Class1</th>\n",
       "    </tr>\n",
       "  </thead>\n",
       "  <tbody>\n",
       "    <tr>\n",
       "      <th>0</th>\n",
       "      <td>96</td>\n",
       "    </tr>\n",
       "    <tr>\n",
       "      <th>1</th>\n",
       "      <td>83</td>\n",
       "    </tr>\n",
       "  </tbody>\n",
       "</table>\n",
       "</div>"
      ],
      "text/plain": [
       "   Class1\n",
       "0      96\n",
       "1      83"
      ]
     },
     "execution_count": 348,
     "metadata": {},
     "output_type": "execute_result"
    }
   ],
   "source": [
    "df3 = pd.DataFrame({'Class1': [96, 83]})\n",
    "df3"
   ]
  },
  {
   "cell_type": "markdown",
   "metadata": {
    "id": "lE0Tei0Wkooc"
   },
   "source": [
    "- 열이 두 개인 DataFrame 데이터(df2)에 열이 하나인 Da切Frame 데이터(df3)를 추가"
   ]
  },
  {
   "cell_type": "code",
   "execution_count": 349,
   "metadata": {
    "id": "fa_EtQNtkooc"
   },
   "outputs": [
    {
     "data": {
      "text/html": [
       "<div>\n",
       "<style scoped>\n",
       "    .dataframe tbody tr th:only-of-type {\n",
       "        vertical-align: middle;\n",
       "    }\n",
       "\n",
       "    .dataframe tbody tr th {\n",
       "        vertical-align: top;\n",
       "    }\n",
       "\n",
       "    .dataframe thead th {\n",
       "        text-align: right;\n",
       "    }\n",
       "</style>\n",
       "<table border=\"1\" class=\"dataframe\">\n",
       "  <thead>\n",
       "    <tr style=\"text-align: right;\">\n",
       "      <th></th>\n",
       "      <th>Class1</th>\n",
       "      <th>Class2</th>\n",
       "    </tr>\n",
       "  </thead>\n",
       "  <tbody>\n",
       "    <tr>\n",
       "      <th>0</th>\n",
       "      <td>95</td>\n",
       "      <td>91.0</td>\n",
       "    </tr>\n",
       "    <tr>\n",
       "      <th>1</th>\n",
       "      <td>92</td>\n",
       "      <td>93.0</td>\n",
       "    </tr>\n",
       "    <tr>\n",
       "      <th>2</th>\n",
       "      <td>98</td>\n",
       "      <td>97.0</td>\n",
       "    </tr>\n",
       "    <tr>\n",
       "      <th>3</th>\n",
       "      <td>100</td>\n",
       "      <td>99.0</td>\n",
       "    </tr>\n",
       "    <tr>\n",
       "      <th>4</th>\n",
       "      <td>87</td>\n",
       "      <td>85.0</td>\n",
       "    </tr>\n",
       "    <tr>\n",
       "      <th>5</th>\n",
       "      <td>89</td>\n",
       "      <td>90.0</td>\n",
       "    </tr>\n",
       "    <tr>\n",
       "      <th>6</th>\n",
       "      <td>96</td>\n",
       "      <td>NaN</td>\n",
       "    </tr>\n",
       "    <tr>\n",
       "      <th>7</th>\n",
       "      <td>83</td>\n",
       "      <td>NaN</td>\n",
       "    </tr>\n",
       "  </tbody>\n",
       "</table>\n",
       "</div>"
      ],
      "text/plain": [
       "   Class1  Class2\n",
       "0      95    91.0\n",
       "1      92    93.0\n",
       "2      98    97.0\n",
       "3     100    99.0\n",
       "4      87    85.0\n",
       "5      89    90.0\n",
       "6      96     NaN\n",
       "7      83     NaN"
      ]
     },
     "execution_count": 349,
     "metadata": {},
     "output_type": "execute_result"
    }
   ],
   "source": [
    "pd.concat([pd.concat([df1,df2],ignore_index=True),df3],ignore_index=True)"
   ]
  },
  {
   "cell_type": "markdown",
   "metadata": {
    "id": "f3yG0Wxakooc",
    "nbpresent": {
     "id": "324f8ab4-47a7-47bb-809f-1086cf588822"
    }
   },
   "source": [
    "#### 가로 방향으로 통합하기"
   ]
  },
  {
   "cell_type": "markdown",
   "metadata": {
    "id": "jK03aaXdkooc"
   },
   "source": [
    "- columns가 같은 두 DataFrame 데이터에 대해 세로 방향(index 증가 방향)으로 데이터를 추가하는 방법"
   ]
  },
  {
   "cell_type": "markdown",
   "metadata": {
    "id": "Hyd8DI9Ukooc"
   },
   "source": [
    " - index가 같은 두 DataFrame 데이터에 대해 가로 방향(columns 증가 방향)에 새로운 데이터를 추가하는 방법\n",
    " - 두 개의 DataFrame 데이터를 가로 방향으로 합치려면 다음과 같이 'join() ’을 이용\n",
    " - dataFrame_data1.join(DataFrame_data2)\n",
    " - DataFrame_data1 다음에 가로 방향으로 DataFrame_data2가 추가돼서 DataFrame 데이터로 반환"
   ]
  },
  {
   "cell_type": "markdown",
   "metadata": {
    "id": "gIBKjYJQkooc"
   },
   "source": [
    "-‘join()'을 이용\n",
    "- df1 과 index 방향으로 크기가 같은 DataFrame 데이터 하나를 생성"
   ]
  },
  {
   "cell_type": "code",
   "execution_count": 350,
   "metadata": {
    "id": "u4_Ok6m7kooc",
    "nbpresent": {
     "id": "4f802045-1112-4c7f-b15c-50505922a612"
    }
   },
   "outputs": [
    {
     "data": {
      "text/html": [
       "<div>\n",
       "<style scoped>\n",
       "    .dataframe tbody tr th:only-of-type {\n",
       "        vertical-align: middle;\n",
       "    }\n",
       "\n",
       "    .dataframe tbody tr th {\n",
       "        vertical-align: top;\n",
       "    }\n",
       "\n",
       "    .dataframe thead th {\n",
       "        text-align: right;\n",
       "    }\n",
       "</style>\n",
       "<table border=\"1\" class=\"dataframe\">\n",
       "  <thead>\n",
       "    <tr style=\"text-align: right;\">\n",
       "      <th></th>\n",
       "      <th>Class3</th>\n",
       "    </tr>\n",
       "  </thead>\n",
       "  <tbody>\n",
       "    <tr>\n",
       "      <th>0</th>\n",
       "      <td>93</td>\n",
       "    </tr>\n",
       "    <tr>\n",
       "      <th>1</th>\n",
       "      <td>91</td>\n",
       "    </tr>\n",
       "    <tr>\n",
       "      <th>2</th>\n",
       "      <td>95</td>\n",
       "    </tr>\n",
       "    <tr>\n",
       "      <th>3</th>\n",
       "      <td>98</td>\n",
       "    </tr>\n",
       "  </tbody>\n",
       "</table>\n",
       "</div>"
      ],
      "text/plain": [
       "   Class3\n",
       "0      93\n",
       "1      91\n",
       "2      95\n",
       "3      98"
      ]
     },
     "execution_count": 350,
     "metadata": {},
     "output_type": "execute_result"
    }
   ],
   "source": [
    "df4 = pd.DataFrame({'Class3': [93, 91, 95, 98]})\n",
    "df4"
   ]
  },
  {
   "cell_type": "markdown",
   "metadata": {
    "id": "SMYLSapnkooc"
   },
   "source": [
    "join()을 이용해 df1에 df4를 가로 방향으로 추가"
   ]
  },
  {
   "cell_type": "code",
   "execution_count": 351,
   "metadata": {
    "id": "KzB17diHkooc",
    "nbpresent": {
     "id": "16504a79-f399-44ff-ad96-31d5794a5e01"
    }
   },
   "outputs": [
    {
     "data": {
      "text/html": [
       "<div>\n",
       "<style scoped>\n",
       "    .dataframe tbody tr th:only-of-type {\n",
       "        vertical-align: middle;\n",
       "    }\n",
       "\n",
       "    .dataframe tbody tr th {\n",
       "        vertical-align: top;\n",
       "    }\n",
       "\n",
       "    .dataframe thead th {\n",
       "        text-align: right;\n",
       "    }\n",
       "</style>\n",
       "<table border=\"1\" class=\"dataframe\">\n",
       "  <thead>\n",
       "    <tr style=\"text-align: right;\">\n",
       "      <th></th>\n",
       "      <th>Class1</th>\n",
       "      <th>Class2</th>\n",
       "      <th>Class3</th>\n",
       "    </tr>\n",
       "  </thead>\n",
       "  <tbody>\n",
       "    <tr>\n",
       "      <th>0</th>\n",
       "      <td>95</td>\n",
       "      <td>91</td>\n",
       "      <td>93</td>\n",
       "    </tr>\n",
       "    <tr>\n",
       "      <th>1</th>\n",
       "      <td>92</td>\n",
       "      <td>93</td>\n",
       "      <td>91</td>\n",
       "    </tr>\n",
       "    <tr>\n",
       "      <th>2</th>\n",
       "      <td>98</td>\n",
       "      <td>97</td>\n",
       "      <td>95</td>\n",
       "    </tr>\n",
       "    <tr>\n",
       "      <th>3</th>\n",
       "      <td>100</td>\n",
       "      <td>99</td>\n",
       "      <td>98</td>\n",
       "    </tr>\n",
       "  </tbody>\n",
       "</table>\n",
       "</div>"
      ],
      "text/plain": [
       "   Class1  Class2  Class3\n",
       "0      95      91      93\n",
       "1      92      93      91\n",
       "2      98      97      95\n",
       "3     100      99      98"
      ]
     },
     "execution_count": 351,
     "metadata": {},
     "output_type": "execute_result"
    }
   ],
   "source": [
    "df1.join(df4)"
   ]
  },
  {
   "cell_type": "markdown",
   "metadata": {
    "id": "qmKbUxrZkood"
   },
   "source": [
    "index 라벨을 지정한 DataFrame의 데이터의 경우에도 index가 같으면 'join()'을 이용하여 가로 방향으로 데이터를 추가 할 수 있음"
   ]
  },
  {
   "cell_type": "code",
   "execution_count": 352,
   "metadata": {
    "id": "EwMBvzdOkood"
   },
   "outputs": [
    {
     "data": {
      "text/html": [
       "<div>\n",
       "<style scoped>\n",
       "    .dataframe tbody tr th:only-of-type {\n",
       "        vertical-align: middle;\n",
       "    }\n",
       "\n",
       "    .dataframe tbody tr th {\n",
       "        vertical-align: top;\n",
       "    }\n",
       "\n",
       "    .dataframe thead th {\n",
       "        text-align: right;\n",
       "    }\n",
       "</style>\n",
       "<table border=\"1\" class=\"dataframe\">\n",
       "  <thead>\n",
       "    <tr style=\"text-align: right;\">\n",
       "      <th></th>\n",
       "      <th>Class1</th>\n",
       "      <th>Class2</th>\n",
       "      <th>Class3</th>\n",
       "    </tr>\n",
       "  </thead>\n",
       "  <tbody>\n",
       "    <tr>\n",
       "      <th>a</th>\n",
       "      <td>95</td>\n",
       "      <td>91</td>\n",
       "      <td>93</td>\n",
       "    </tr>\n",
       "    <tr>\n",
       "      <th>b</th>\n",
       "      <td>92</td>\n",
       "      <td>93</td>\n",
       "      <td>91</td>\n",
       "    </tr>\n",
       "    <tr>\n",
       "      <th>c</th>\n",
       "      <td>98</td>\n",
       "      <td>97</td>\n",
       "      <td>95</td>\n",
       "    </tr>\n",
       "    <tr>\n",
       "      <th>d</th>\n",
       "      <td>100</td>\n",
       "      <td>99</td>\n",
       "      <td>98</td>\n",
       "    </tr>\n",
       "  </tbody>\n",
       "</table>\n",
       "</div>"
      ],
      "text/plain": [
       "   Class1  Class2  Class3\n",
       "a      95      91      93\n",
       "b      92      93      91\n",
       "c      98      97      95\n",
       "d     100      99      98"
      ]
     },
     "execution_count": 352,
     "metadata": {},
     "output_type": "execute_result"
    }
   ],
   "source": [
    "index_label = ['a','b','c','d']\n",
    "df1a = pd.DataFrame({'Class1': [95, 92, 98, 100],\n",
    "                    'Class2': [91, 93, 97, 99]}, index= index_label)\n",
    "df4a = pd.DataFrame({'Class3': [93, 91, 95, 98]}, index=index_label)\n",
    "\n",
    "df1a.join(df4a)"
   ]
  },
  {
   "cell_type": "markdown",
   "metadata": {
    "id": "AoNxDFpFkood"
   },
   "source": [
    "- index의 크기가 다른 DataFrame 데이터를 'join()'을 이용해 추가한다면 데이터가 없는 부분은 NaN으로 채워짐"
   ]
  },
  {
   "cell_type": "code",
   "execution_count": 353,
   "metadata": {
    "id": "zpIRde1ckood"
   },
   "outputs": [
    {
     "data": {
      "text/html": [
       "<div>\n",
       "<style scoped>\n",
       "    .dataframe tbody tr th:only-of-type {\n",
       "        vertical-align: middle;\n",
       "    }\n",
       "\n",
       "    .dataframe tbody tr th {\n",
       "        vertical-align: top;\n",
       "    }\n",
       "\n",
       "    .dataframe thead th {\n",
       "        text-align: right;\n",
       "    }\n",
       "</style>\n",
       "<table border=\"1\" class=\"dataframe\">\n",
       "  <thead>\n",
       "    <tr style=\"text-align: right;\">\n",
       "      <th></th>\n",
       "      <th>Class4</th>\n",
       "    </tr>\n",
       "  </thead>\n",
       "  <tbody>\n",
       "    <tr>\n",
       "      <th>0</th>\n",
       "      <td>82</td>\n",
       "    </tr>\n",
       "    <tr>\n",
       "      <th>1</th>\n",
       "      <td>92</td>\n",
       "    </tr>\n",
       "  </tbody>\n",
       "</table>\n",
       "</div>"
      ],
      "text/plain": [
       "   Class4\n",
       "0      82\n",
       "1      92"
      ]
     },
     "execution_count": 353,
     "metadata": {},
     "output_type": "execute_result"
    }
   ],
   "source": [
    "df5 = pd.DataFrame({'Class4': [82, 92]})\n",
    "df5"
   ]
  },
  {
   "cell_type": "markdown",
   "metadata": {
    "id": "rnsQuM8Qkood"
   },
   "source": [
    "- index의 크기가 2인 DataFrame 데이터(df5)를 'join()'을 이용해 index 크기가 4인 DataFrame 데이터(df1)에 추가"
   ]
  },
  {
   "cell_type": "code",
   "execution_count": 354,
   "metadata": {
    "id": "NHucyZuXkood"
   },
   "outputs": [
    {
     "data": {
      "text/html": [
       "<div>\n",
       "<style scoped>\n",
       "    .dataframe tbody tr th:only-of-type {\n",
       "        vertical-align: middle;\n",
       "    }\n",
       "\n",
       "    .dataframe tbody tr th {\n",
       "        vertical-align: top;\n",
       "    }\n",
       "\n",
       "    .dataframe thead th {\n",
       "        text-align: right;\n",
       "    }\n",
       "</style>\n",
       "<table border=\"1\" class=\"dataframe\">\n",
       "  <thead>\n",
       "    <tr style=\"text-align: right;\">\n",
       "      <th></th>\n",
       "      <th>Class1</th>\n",
       "      <th>Class2</th>\n",
       "      <th>Class4</th>\n",
       "    </tr>\n",
       "  </thead>\n",
       "  <tbody>\n",
       "    <tr>\n",
       "      <th>0</th>\n",
       "      <td>95</td>\n",
       "      <td>91</td>\n",
       "      <td>82.0</td>\n",
       "    </tr>\n",
       "    <tr>\n",
       "      <th>1</th>\n",
       "      <td>92</td>\n",
       "      <td>93</td>\n",
       "      <td>92.0</td>\n",
       "    </tr>\n",
       "    <tr>\n",
       "      <th>2</th>\n",
       "      <td>98</td>\n",
       "      <td>97</td>\n",
       "      <td>NaN</td>\n",
       "    </tr>\n",
       "    <tr>\n",
       "      <th>3</th>\n",
       "      <td>100</td>\n",
       "      <td>99</td>\n",
       "      <td>NaN</td>\n",
       "    </tr>\n",
       "  </tbody>\n",
       "</table>\n",
       "</div>"
      ],
      "text/plain": [
       "   Class1  Class2  Class4\n",
       "0      95      91    82.0\n",
       "1      92      93    92.0\n",
       "2      98      97     NaN\n",
       "3     100      99     NaN"
      ]
     },
     "execution_count": 354,
     "metadata": {},
     "output_type": "execute_result"
    }
   ],
   "source": [
    "df1.join(df5)"
   ]
  },
  {
   "cell_type": "markdown",
   "metadata": {
    "id": "hSXMulzRkood"
   },
   "source": [
    "- index의 크기가 작은 DataFrame 데이터에서 원소가 없는 부분은 NaN으로 채워짐"
   ]
  },
  {
   "cell_type": "markdown",
   "metadata": {
    "id": "kquox8Nvkood",
    "nbpresent": {
     "id": "fa50d4c7-be82-44ce-9b8f-58da1fbd29da"
    }
   },
   "source": [
    "#### 특정 열을 기준으로 통합하기"
   ]
  },
  {
   "cell_type": "markdown",
   "metadata": {
    "id": "3cb_0wT0kooe"
   },
   "source": [
    "- 두 개의 DataFrame 데이터를 특정 열을 기준으로 통합\n",
    "- 특정 열을 키(key)라고 함\n",
    "- 두 개의 DataFrame 데이터에 공통된 열이 있다면 이 열을 기준으로 두 데이터를 다음 과 같은 방법으로 통합\n",
    "- DataFrame_left_data.merge(DataFrame_right_data)\n",
    "- 왼쪽 데이터(DataFrame_left_data)와 오른쪽 데이터(DataFrame_right_data)가 공통된 열 (key)을 중심으로 좌우로 통합"
   ]
  },
  {
   "cell_type": "markdown",
   "metadata": {
    "id": "9BKt-p9kkooe"
   },
   "source": [
    "- 우선 두 개의 DataFrame 데이터를 생성"
   ]
  },
  {
   "cell_type": "code",
   "execution_count": 355,
   "metadata": {
    "id": "GDDDq1Itkooe",
    "nbpresent": {
     "id": "5daf2b81-614a-444e-b0ec-00d8a5ec0679"
    }
   },
   "outputs": [
    {
     "data": {
      "text/html": [
       "<div>\n",
       "<style scoped>\n",
       "    .dataframe tbody tr th:only-of-type {\n",
       "        vertical-align: middle;\n",
       "    }\n",
       "\n",
       "    .dataframe tbody tr th {\n",
       "        vertical-align: top;\n",
       "    }\n",
       "\n",
       "    .dataframe thead th {\n",
       "        text-align: right;\n",
       "    }\n",
       "</style>\n",
       "<table border=\"1\" class=\"dataframe\">\n",
       "  <thead>\n",
       "    <tr style=\"text-align: right;\">\n",
       "      <th></th>\n",
       "      <th>판매월</th>\n",
       "      <th>제품A</th>\n",
       "      <th>제품B</th>\n",
       "    </tr>\n",
       "  </thead>\n",
       "  <tbody>\n",
       "    <tr>\n",
       "      <th>0</th>\n",
       "      <td>1월</td>\n",
       "      <td>100</td>\n",
       "      <td>90</td>\n",
       "    </tr>\n",
       "    <tr>\n",
       "      <th>1</th>\n",
       "      <td>2월</td>\n",
       "      <td>150</td>\n",
       "      <td>110</td>\n",
       "    </tr>\n",
       "    <tr>\n",
       "      <th>2</th>\n",
       "      <td>3월</td>\n",
       "      <td>200</td>\n",
       "      <td>140</td>\n",
       "    </tr>\n",
       "    <tr>\n",
       "      <th>3</th>\n",
       "      <td>4월</td>\n",
       "      <td>130</td>\n",
       "      <td>170</td>\n",
       "    </tr>\n",
       "  </tbody>\n",
       "</table>\n",
       "</div>"
      ],
      "text/plain": [
       "  판매월  제품A  제품B\n",
       "0  1월  100   90\n",
       "1  2월  150  110\n",
       "2  3월  200  140\n",
       "3  4월  130  170"
      ]
     },
     "execution_count": 355,
     "metadata": {},
     "output_type": "execute_result"
    }
   ],
   "source": [
    "df_A_B = pd.DataFrame({'판매월': ['1월', '2월', '3월', '4월'],\n",
    "                       '제품A': [100, 150, 200, 130],\n",
    "                       '제품B': [90, 110, 140, 170]})\n",
    "df_A_B"
   ]
  },
  {
   "cell_type": "code",
   "execution_count": 356,
   "metadata": {
    "id": "_QsKAN5Bkooe"
   },
   "outputs": [
    {
     "data": {
      "text/html": [
       "<div>\n",
       "<style scoped>\n",
       "    .dataframe tbody tr th:only-of-type {\n",
       "        vertical-align: middle;\n",
       "    }\n",
       "\n",
       "    .dataframe tbody tr th {\n",
       "        vertical-align: top;\n",
       "    }\n",
       "\n",
       "    .dataframe thead th {\n",
       "        text-align: right;\n",
       "    }\n",
       "</style>\n",
       "<table border=\"1\" class=\"dataframe\">\n",
       "  <thead>\n",
       "    <tr style=\"text-align: right;\">\n",
       "      <th></th>\n",
       "      <th>판매월</th>\n",
       "      <th>제품C</th>\n",
       "      <th>제품D</th>\n",
       "    </tr>\n",
       "  </thead>\n",
       "  <tbody>\n",
       "    <tr>\n",
       "      <th>0</th>\n",
       "      <td>1월</td>\n",
       "      <td>112</td>\n",
       "      <td>90</td>\n",
       "    </tr>\n",
       "    <tr>\n",
       "      <th>1</th>\n",
       "      <td>2월</td>\n",
       "      <td>141</td>\n",
       "      <td>110</td>\n",
       "    </tr>\n",
       "    <tr>\n",
       "      <th>2</th>\n",
       "      <td>3월</td>\n",
       "      <td>203</td>\n",
       "      <td>140</td>\n",
       "    </tr>\n",
       "    <tr>\n",
       "      <th>3</th>\n",
       "      <td>4월</td>\n",
       "      <td>134</td>\n",
       "      <td>170</td>\n",
       "    </tr>\n",
       "  </tbody>\n",
       "</table>\n",
       "</div>"
      ],
      "text/plain": [
       "  판매월  제품C  제품D\n",
       "0  1월  112   90\n",
       "1  2월  141  110\n",
       "2  3월  203  140\n",
       "3  4월  134  170"
      ]
     },
     "execution_count": 356,
     "metadata": {},
     "output_type": "execute_result"
    }
   ],
   "source": [
    "df_C_D = pd.DataFrame({'판매월': ['1월', '2월', '3월', '4월'],\n",
    "                       '제품C': [112, 141, 203, 134],\n",
    "                       '제품D': [90, 110, 140, 170]})\n",
    "df_C_D"
   ]
  },
  {
   "cell_type": "markdown",
   "metadata": {
    "id": "dHk_T15Akooe",
    "nbpresent": {
     "id": "1bf2fcbc-20da-452c-a706-3a2a207f76fe"
    }
   },
   "source": [
    "- DataFrame 데이터 df_A_B와 df_C_D에 모두 있는 것이 ‘판매월’인 열 데이터이므로 이를 중심으로 두 DataFrame 데이터를 통합"
   ]
  },
  {
   "cell_type": "code",
   "execution_count": 357,
   "metadata": {
    "id": "jhIt-Um2kooe",
    "nbpresent": {
     "id": "43dbb77b-728c-453d-8809-7c5c1da3218e"
    }
   },
   "outputs": [
    {
     "data": {
      "text/html": [
       "<div>\n",
       "<style scoped>\n",
       "    .dataframe tbody tr th:only-of-type {\n",
       "        vertical-align: middle;\n",
       "    }\n",
       "\n",
       "    .dataframe tbody tr th {\n",
       "        vertical-align: top;\n",
       "    }\n",
       "\n",
       "    .dataframe thead th {\n",
       "        text-align: right;\n",
       "    }\n",
       "</style>\n",
       "<table border=\"1\" class=\"dataframe\">\n",
       "  <thead>\n",
       "    <tr style=\"text-align: right;\">\n",
       "      <th></th>\n",
       "      <th>판매월</th>\n",
       "      <th>제품A</th>\n",
       "      <th>제품B</th>\n",
       "      <th>제품C</th>\n",
       "      <th>제품D</th>\n",
       "    </tr>\n",
       "  </thead>\n",
       "  <tbody>\n",
       "    <tr>\n",
       "      <th>0</th>\n",
       "      <td>1월</td>\n",
       "      <td>100</td>\n",
       "      <td>90</td>\n",
       "      <td>112</td>\n",
       "      <td>90</td>\n",
       "    </tr>\n",
       "    <tr>\n",
       "      <th>1</th>\n",
       "      <td>2월</td>\n",
       "      <td>150</td>\n",
       "      <td>110</td>\n",
       "      <td>141</td>\n",
       "      <td>110</td>\n",
       "    </tr>\n",
       "    <tr>\n",
       "      <th>2</th>\n",
       "      <td>3월</td>\n",
       "      <td>200</td>\n",
       "      <td>140</td>\n",
       "      <td>203</td>\n",
       "      <td>140</td>\n",
       "    </tr>\n",
       "    <tr>\n",
       "      <th>3</th>\n",
       "      <td>4월</td>\n",
       "      <td>130</td>\n",
       "      <td>170</td>\n",
       "      <td>134</td>\n",
       "      <td>170</td>\n",
       "    </tr>\n",
       "  </tbody>\n",
       "</table>\n",
       "</div>"
      ],
      "text/plain": [
       "  판매월  제품A  제품B  제품C  제품D\n",
       "0  1월  100   90  112   90\n",
       "1  2월  150  110  141  110\n",
       "2  3월  200  140  203  140\n",
       "3  4월  130  170  134  170"
      ]
     },
     "execution_count": 357,
     "metadata": {},
     "output_type": "execute_result"
    }
   ],
   "source": [
    "df_A_B.merge(df_C_D)"
   ]
  },
  {
   "cell_type": "markdown",
   "metadata": {
    "id": "XJIy5jY1kooe"
   },
   "source": [
    "- 두 데이터가 ‘판매월’을 기준으로 통합\n",
    "- 특정 열을 기준으로 두 DataFrame 데이터가 모두 값을 갖고 있을 때 특정 열을 기준으로 통합"
   ]
  },
  {
   "cell_type": "markdown",
   "metadata": {
    "id": "fZZL-o1rkooe"
   },
   "source": [
    "- 두 개의 DataFrame 데이터가 특정 열을 기준으로 일부만 공통된 값을 갖는 경우에 통합\n",
    "- 'merge()'에 선택 인자를 지정\n",
    "- DataFrame_left_data.merge(DataFrame_right_data, how=merge_method, on=key_label)\n",
    "- on 인자에는 통합하려는 기준이 되는 특정 열(key)의 라벨 이름(key_label)을 입력\n",
    "- on 인 자를 입력하지 않으면 자동으로 두 데이터에서 공통적으로 포함된 열이 선택\n",
    "- how 인자에는 지정 된 특정 열(key)을 기준으로 통합 방법(merge_method)을 지정"
   ]
  },
  {
   "cell_type": "markdown",
   "metadata": {
    "id": "ywZf3d_Skooe",
    "nbpresent": {
     "id": "8f6bd287-795c-414f-ac90-e22e4e76fe5a"
    }
   },
   "source": [
    "- 두 개의 DataFrame 데이터를 생성"
   ]
  },
  {
   "cell_type": "code",
   "execution_count": 358,
   "metadata": {
    "id": "2G4rnBI6kooe"
   },
   "outputs": [
    {
     "data": {
      "text/html": [
       "<div>\n",
       "<style scoped>\n",
       "    .dataframe tbody tr th:only-of-type {\n",
       "        vertical-align: middle;\n",
       "    }\n",
       "\n",
       "    .dataframe tbody tr th {\n",
       "        vertical-align: top;\n",
       "    }\n",
       "\n",
       "    .dataframe thead th {\n",
       "        text-align: right;\n",
       "    }\n",
       "</style>\n",
       "<table border=\"1\" class=\"dataframe\">\n",
       "  <thead>\n",
       "    <tr style=\"text-align: right;\">\n",
       "      <th></th>\n",
       "      <th>key</th>\n",
       "      <th>left</th>\n",
       "    </tr>\n",
       "  </thead>\n",
       "  <tbody>\n",
       "    <tr>\n",
       "      <th>0</th>\n",
       "      <td>A</td>\n",
       "      <td>1</td>\n",
       "    </tr>\n",
       "    <tr>\n",
       "      <th>1</th>\n",
       "      <td>B</td>\n",
       "      <td>2</td>\n",
       "    </tr>\n",
       "    <tr>\n",
       "      <th>2</th>\n",
       "      <td>C</td>\n",
       "      <td>3</td>\n",
       "    </tr>\n",
       "  </tbody>\n",
       "</table>\n",
       "</div>"
      ],
      "text/plain": [
       "  key  left\n",
       "0   A     1\n",
       "1   B     2\n",
       "2   C     3"
      ]
     },
     "execution_count": 358,
     "metadata": {},
     "output_type": "execute_result"
    }
   ],
   "source": [
    "df_left = pd.DataFrame({'key':['A','B','C'], 'left': [1, 2, 3]})\n",
    "df_left"
   ]
  },
  {
   "cell_type": "code",
   "execution_count": 359,
   "metadata": {
    "id": "mgVkR1f5kooe"
   },
   "outputs": [
    {
     "data": {
      "text/html": [
       "<div>\n",
       "<style scoped>\n",
       "    .dataframe tbody tr th:only-of-type {\n",
       "        vertical-align: middle;\n",
       "    }\n",
       "\n",
       "    .dataframe tbody tr th {\n",
       "        vertical-align: top;\n",
       "    }\n",
       "\n",
       "    .dataframe thead th {\n",
       "        text-align: right;\n",
       "    }\n",
       "</style>\n",
       "<table border=\"1\" class=\"dataframe\">\n",
       "  <thead>\n",
       "    <tr style=\"text-align: right;\">\n",
       "      <th></th>\n",
       "      <th>key</th>\n",
       "      <th>right</th>\n",
       "    </tr>\n",
       "  </thead>\n",
       "  <tbody>\n",
       "    <tr>\n",
       "      <th>0</th>\n",
       "      <td>A</td>\n",
       "      <td>4</td>\n",
       "    </tr>\n",
       "    <tr>\n",
       "      <th>1</th>\n",
       "      <td>B</td>\n",
       "      <td>5</td>\n",
       "    </tr>\n",
       "    <tr>\n",
       "      <th>2</th>\n",
       "      <td>D</td>\n",
       "      <td>6</td>\n",
       "    </tr>\n",
       "  </tbody>\n",
       "</table>\n",
       "</div>"
      ],
      "text/plain": [
       "  key  right\n",
       "0   A      4\n",
       "1   B      5\n",
       "2   D      6"
      ]
     },
     "execution_count": 359,
     "metadata": {},
     "output_type": "execute_result"
    }
   ],
   "source": [
    "df_right = pd.DataFrame({'key':['A','B','D'], 'right': [4, 5, 6]})\n",
    "df_right"
   ]
  },
  {
   "cell_type": "markdown",
   "metadata": {
    "id": "FIyBlqtqkoof"
   },
   "source": [
    "- 두 개의 데이터(df_left와 df_right)에서 특정 열(key)의 일부(‘A’와'B') 데이터는 공통으로 있고 나머지(‘C’와 는 각각 한쪽에만 있음"
   ]
  },
  {
   "cell_type": "code",
   "execution_count": 360,
   "metadata": {
    "id": "8HDH30VRkoof"
   },
   "outputs": [
    {
     "data": {
      "text/html": [
       "<div>\n",
       "<style scoped>\n",
       "    .dataframe tbody tr th:only-of-type {\n",
       "        vertical-align: middle;\n",
       "    }\n",
       "\n",
       "    .dataframe tbody tr th {\n",
       "        vertical-align: top;\n",
       "    }\n",
       "\n",
       "    .dataframe thead th {\n",
       "        text-align: right;\n",
       "    }\n",
       "</style>\n",
       "<table border=\"1\" class=\"dataframe\">\n",
       "  <thead>\n",
       "    <tr style=\"text-align: right;\">\n",
       "      <th></th>\n",
       "      <th>key</th>\n",
       "      <th>left</th>\n",
       "      <th>right</th>\n",
       "    </tr>\n",
       "  </thead>\n",
       "  <tbody>\n",
       "    <tr>\n",
       "      <th>0</th>\n",
       "      <td>A</td>\n",
       "      <td>1</td>\n",
       "      <td>4.0</td>\n",
       "    </tr>\n",
       "    <tr>\n",
       "      <th>1</th>\n",
       "      <td>B</td>\n",
       "      <td>2</td>\n",
       "      <td>5.0</td>\n",
       "    </tr>\n",
       "    <tr>\n",
       "      <th>2</th>\n",
       "      <td>C</td>\n",
       "      <td>3</td>\n",
       "      <td>NaN</td>\n",
       "    </tr>\n",
       "  </tbody>\n",
       "</table>\n",
       "</div>"
      ],
      "text/plain": [
       "  key  left  right\n",
       "0   A     1    4.0\n",
       "1   B     2    5.0\n",
       "2   C     3    NaN"
      ]
     },
     "execution_count": 360,
     "metadata": {},
     "output_type": "execute_result"
    }
   ],
   "source": [
    "df_left.merge(df_right, how='left', on = 'key')"
   ]
  },
  {
   "cell_type": "code",
   "execution_count": 361,
   "metadata": {
    "id": "65NHNRfvkoof"
   },
   "outputs": [
    {
     "data": {
      "text/html": [
       "<div>\n",
       "<style scoped>\n",
       "    .dataframe tbody tr th:only-of-type {\n",
       "        vertical-align: middle;\n",
       "    }\n",
       "\n",
       "    .dataframe tbody tr th {\n",
       "        vertical-align: top;\n",
       "    }\n",
       "\n",
       "    .dataframe thead th {\n",
       "        text-align: right;\n",
       "    }\n",
       "</style>\n",
       "<table border=\"1\" class=\"dataframe\">\n",
       "  <thead>\n",
       "    <tr style=\"text-align: right;\">\n",
       "      <th></th>\n",
       "      <th>key</th>\n",
       "      <th>left</th>\n",
       "      <th>right</th>\n",
       "    </tr>\n",
       "  </thead>\n",
       "  <tbody>\n",
       "    <tr>\n",
       "      <th>0</th>\n",
       "      <td>A</td>\n",
       "      <td>1.0</td>\n",
       "      <td>4</td>\n",
       "    </tr>\n",
       "    <tr>\n",
       "      <th>1</th>\n",
       "      <td>B</td>\n",
       "      <td>2.0</td>\n",
       "      <td>5</td>\n",
       "    </tr>\n",
       "    <tr>\n",
       "      <th>2</th>\n",
       "      <td>D</td>\n",
       "      <td>NaN</td>\n",
       "      <td>6</td>\n",
       "    </tr>\n",
       "  </tbody>\n",
       "</table>\n",
       "</div>"
      ],
      "text/plain": [
       "  key  left  right\n",
       "0   A   1.0      4\n",
       "1   B   2.0      5\n",
       "2   D   NaN      6"
      ]
     },
     "execution_count": 361,
     "metadata": {},
     "output_type": "execute_result"
    }
   ],
   "source": [
    "df_left.merge(df_right, how='right', on = 'key')"
   ]
  },
  {
   "cell_type": "code",
   "execution_count": 362,
   "metadata": {
    "id": "_gueEnF7koof"
   },
   "outputs": [
    {
     "data": {
      "text/html": [
       "<div>\n",
       "<style scoped>\n",
       "    .dataframe tbody tr th:only-of-type {\n",
       "        vertical-align: middle;\n",
       "    }\n",
       "\n",
       "    .dataframe tbody tr th {\n",
       "        vertical-align: top;\n",
       "    }\n",
       "\n",
       "    .dataframe thead th {\n",
       "        text-align: right;\n",
       "    }\n",
       "</style>\n",
       "<table border=\"1\" class=\"dataframe\">\n",
       "  <thead>\n",
       "    <tr style=\"text-align: right;\">\n",
       "      <th></th>\n",
       "      <th>key</th>\n",
       "      <th>left</th>\n",
       "      <th>right</th>\n",
       "    </tr>\n",
       "  </thead>\n",
       "  <tbody>\n",
       "    <tr>\n",
       "      <th>0</th>\n",
       "      <td>A</td>\n",
       "      <td>1.0</td>\n",
       "      <td>4.0</td>\n",
       "    </tr>\n",
       "    <tr>\n",
       "      <th>1</th>\n",
       "      <td>B</td>\n",
       "      <td>2.0</td>\n",
       "      <td>5.0</td>\n",
       "    </tr>\n",
       "    <tr>\n",
       "      <th>2</th>\n",
       "      <td>C</td>\n",
       "      <td>3.0</td>\n",
       "      <td>NaN</td>\n",
       "    </tr>\n",
       "    <tr>\n",
       "      <th>3</th>\n",
       "      <td>D</td>\n",
       "      <td>NaN</td>\n",
       "      <td>6.0</td>\n",
       "    </tr>\n",
       "  </tbody>\n",
       "</table>\n",
       "</div>"
      ],
      "text/plain": [
       "  key  left  right\n",
       "0   A   1.0    4.0\n",
       "1   B   2.0    5.0\n",
       "2   C   3.0    NaN\n",
       "3   D   NaN    6.0"
      ]
     },
     "execution_count": 362,
     "metadata": {},
     "output_type": "execute_result"
    }
   ],
   "source": [
    "df_left.merge(df_right, how='outer', on = 'key')"
   ]
  },
  {
   "cell_type": "code",
   "execution_count": 363,
   "metadata": {
    "id": "OTlugwCGkoof"
   },
   "outputs": [
    {
     "data": {
      "text/html": [
       "<div>\n",
       "<style scoped>\n",
       "    .dataframe tbody tr th:only-of-type {\n",
       "        vertical-align: middle;\n",
       "    }\n",
       "\n",
       "    .dataframe tbody tr th {\n",
       "        vertical-align: top;\n",
       "    }\n",
       "\n",
       "    .dataframe thead th {\n",
       "        text-align: right;\n",
       "    }\n",
       "</style>\n",
       "<table border=\"1\" class=\"dataframe\">\n",
       "  <thead>\n",
       "    <tr style=\"text-align: right;\">\n",
       "      <th></th>\n",
       "      <th>key</th>\n",
       "      <th>left</th>\n",
       "      <th>right</th>\n",
       "    </tr>\n",
       "  </thead>\n",
       "  <tbody>\n",
       "    <tr>\n",
       "      <th>0</th>\n",
       "      <td>A</td>\n",
       "      <td>1</td>\n",
       "      <td>4</td>\n",
       "    </tr>\n",
       "    <tr>\n",
       "      <th>1</th>\n",
       "      <td>B</td>\n",
       "      <td>2</td>\n",
       "      <td>5</td>\n",
       "    </tr>\n",
       "  </tbody>\n",
       "</table>\n",
       "</div>"
      ],
      "text/plain": [
       "  key  left  right\n",
       "0   A     1      4\n",
       "1   B     2      5"
      ]
     },
     "execution_count": 363,
     "metadata": {},
     "output_type": "execute_result"
    }
   ],
   "source": [
    "df_left.merge(df_right, how='inner', on = 'key')"
   ]
  },
  {
   "cell_type": "markdown",
   "metadata": {
    "id": "yOhAas5ykoof"
   },
   "source": [
    "- on 인자의 값은 key로 지정하고 how 인자의 값을 각각 left, right, outer, inner로 변경\n",
    "- how 인자의 값에 따라 통합 결과가 달라지는 것을 볼 수 있음\n",
    "- 해당 항목에 데이터가 없는 경우는 NaN이 자동으로 입력"
   ]
  },
  {
   "cell_type": "markdown",
   "metadata": {
    "id": "j23-hSzIkoof",
    "nbpresent": {
     "id": "73667723-2bac-486f-ade3-aadcaac17ba8"
    }
   },
   "source": [
    "### 데이터 파일을 읽고 쓰기"
   ]
  },
  {
   "cell_type": "markdown",
   "metadata": {
    "id": "HqizAI62koof"
   },
   "source": [
    "- pandas는 표 형식의 데이터 파일을 DataFrame 형식의 데이터로 읽어오는 방법과\n",
    "- DataFrame 형식의 데이터를 표 형식으로 파일로 저장하는 편리한 방법을 제공"
   ]
  },
  {
   "cell_type": "markdown",
   "metadata": {
    "id": "pXOXJTcSkoof",
    "nbpresent": {
     "id": "71bd750f-3f95-4aab-adfa-fa6a23a7cc16"
    }
   },
   "source": [
    "#### 표 형식의 데이터 파일을 읽기"
   ]
  },
  {
   "cell_type": "markdown",
   "metadata": {
    "id": "d4D5Iu5ekoof"
   },
   "source": [
    "- read_ csv()를 이용해 표 형식의 텍스트 데이터 파일을 읽는 방법\n",
    "- read_csv()는 기본적으로 각 데이터 필드가 콤마(,)로 구분된 CSV(comma-separated values) 파일을 읽는데 이용\n",
    "- 옵션을 지정하면 각 데이터 필드가 콤마 외의 다른 구분자로 구분돼 있어도 데이터를 읽어올 수 있음"
   ]
  },
  {
   "cell_type": "markdown",
   "metadata": {
    "id": "bfWemO9pkoof"
   },
   "source": [
    "- read_csv() 이용하는 방법\n",
    "- DataFrame_data = pd.read_csv(file_name [, options])\n",
    "- filename은 텍스트 파일의 이름으로 경로를 포함\n",
    "- options는 선택 사항"
   ]
  },
  {
   "cell_type": "code",
   "execution_count": 364,
   "metadata": {
    "id": "-vn0cOinkoog"
   },
   "outputs": [
    {
     "name": "stdout",
     "output_type": "stream",
     "text": [
      "Overwriting sea_rain1.csv\n"
     ]
    }
   ],
   "source": [
    "%%writefile sea_rain1.csv\n",
    "연도,동해,남해,서해,전체\n",
    "1996,17.4629,17.2288,14.436,15.9067\n",
    "1997,17.4116,17.4092,14.8248,16.1526\n",
    "1998,17.5944,18.011,15.2512,16.6044\n",
    "1999,18.1495,18.3175,14.8979,16.6284\n",
    "2000,17.9288,18.1766,15.0504,16.6178"
   ]
  },
  {
   "cell_type": "markdown",
   "metadata": {
    "id": "HOtJfpCCkoog"
   },
   "source": [
    "- pandas의 read_csv()로 위의 csv 파일을 읽어옴"
   ]
  },
  {
   "cell_type": "code",
   "execution_count": 365,
   "metadata": {
    "colab": {
     "base_uri": "https://localhost:8080/",
     "height": 363
    },
    "executionInfo": {
     "elapsed": 719,
     "status": "error",
     "timestamp": 1660285643085,
     "user": {
      "displayName": "junhwa lee",
      "userId": "11332889748979012167"
     },
     "user_tz": -540
    },
    "id": "fF4Yun2hkoog",
    "outputId": "3ec8eda2-9054-4c85-8393-256e6102efb5"
   },
   "outputs": [
    {
     "data": {
      "text/html": [
       "<div>\n",
       "<style scoped>\n",
       "    .dataframe tbody tr th:only-of-type {\n",
       "        vertical-align: middle;\n",
       "    }\n",
       "\n",
       "    .dataframe tbody tr th {\n",
       "        vertical-align: top;\n",
       "    }\n",
       "\n",
       "    .dataframe thead th {\n",
       "        text-align: right;\n",
       "    }\n",
       "</style>\n",
       "<table border=\"1\" class=\"dataframe\">\n",
       "  <thead>\n",
       "    <tr style=\"text-align: right;\">\n",
       "      <th></th>\n",
       "      <th>연도</th>\n",
       "      <th>동해</th>\n",
       "      <th>남해</th>\n",
       "      <th>서해</th>\n",
       "      <th>전체</th>\n",
       "    </tr>\n",
       "  </thead>\n",
       "  <tbody>\n",
       "    <tr>\n",
       "      <th>0</th>\n",
       "      <td>1996</td>\n",
       "      <td>17.4629</td>\n",
       "      <td>17.2288</td>\n",
       "      <td>14.4360</td>\n",
       "      <td>15.9067</td>\n",
       "    </tr>\n",
       "    <tr>\n",
       "      <th>1</th>\n",
       "      <td>1997</td>\n",
       "      <td>17.4116</td>\n",
       "      <td>17.4092</td>\n",
       "      <td>14.8248</td>\n",
       "      <td>16.1526</td>\n",
       "    </tr>\n",
       "    <tr>\n",
       "      <th>2</th>\n",
       "      <td>1998</td>\n",
       "      <td>17.5944</td>\n",
       "      <td>18.0110</td>\n",
       "      <td>15.2512</td>\n",
       "      <td>16.6044</td>\n",
       "    </tr>\n",
       "    <tr>\n",
       "      <th>3</th>\n",
       "      <td>1999</td>\n",
       "      <td>18.1495</td>\n",
       "      <td>18.3175</td>\n",
       "      <td>14.8979</td>\n",
       "      <td>16.6284</td>\n",
       "    </tr>\n",
       "    <tr>\n",
       "      <th>4</th>\n",
       "      <td>2000</td>\n",
       "      <td>17.9288</td>\n",
       "      <td>18.1766</td>\n",
       "      <td>15.0504</td>\n",
       "      <td>16.6178</td>\n",
       "    </tr>\n",
       "  </tbody>\n",
       "</table>\n",
       "</div>"
      ],
      "text/plain": [
       "     연도       동해       남해       서해       전체\n",
       "0  1996  17.4629  17.2288  14.4360  15.9067\n",
       "1  1997  17.4116  17.4092  14.8248  16.1526\n",
       "2  1998  17.5944  18.0110  15.2512  16.6044\n",
       "3  1999  18.1495  18.3175  14.8979  16.6284\n",
       "4  2000  17.9288  18.1766  15.0504  16.6178"
      ]
     },
     "execution_count": 365,
     "metadata": {},
     "output_type": "execute_result"
    }
   ],
   "source": [
    "import pandas as pd\n",
    "\n",
    "pd.read_csv('sea_rain1.csv')"
   ]
  },
  {
   "cell_type": "code",
   "execution_count": 366,
   "metadata": {
    "id": "F3bnpC0skoog",
    "nbpresent": {
     "id": "1e64fd72-3ab3-457f-85a4-3ff66d286bdd"
    },
    "scrolled": true
   },
   "outputs": [
    {
     "data": {
      "text/html": [
       "<div>\n",
       "<style scoped>\n",
       "    .dataframe tbody tr th:only-of-type {\n",
       "        vertical-align: middle;\n",
       "    }\n",
       "\n",
       "    .dataframe tbody tr th {\n",
       "        vertical-align: top;\n",
       "    }\n",
       "\n",
       "    .dataframe thead th {\n",
       "        text-align: right;\n",
       "    }\n",
       "</style>\n",
       "<table border=\"1\" class=\"dataframe\">\n",
       "  <thead>\n",
       "    <tr style=\"text-align: right;\">\n",
       "      <th></th>\n",
       "      <th>연도</th>\n",
       "      <th>동해</th>\n",
       "      <th>남해</th>\n",
       "      <th>서해</th>\n",
       "      <th>전체</th>\n",
       "    </tr>\n",
       "  </thead>\n",
       "  <tbody>\n",
       "    <tr>\n",
       "      <th>0</th>\n",
       "      <td>1996</td>\n",
       "      <td>17.4629</td>\n",
       "      <td>17.2288</td>\n",
       "      <td>14.4360</td>\n",
       "      <td>15.9067</td>\n",
       "    </tr>\n",
       "    <tr>\n",
       "      <th>1</th>\n",
       "      <td>1997</td>\n",
       "      <td>17.4116</td>\n",
       "      <td>17.4092</td>\n",
       "      <td>14.8248</td>\n",
       "      <td>16.1526</td>\n",
       "    </tr>\n",
       "    <tr>\n",
       "      <th>2</th>\n",
       "      <td>1998</td>\n",
       "      <td>17.5944</td>\n",
       "      <td>18.0110</td>\n",
       "      <td>15.2512</td>\n",
       "      <td>16.6044</td>\n",
       "    </tr>\n",
       "    <tr>\n",
       "      <th>3</th>\n",
       "      <td>1999</td>\n",
       "      <td>18.1495</td>\n",
       "      <td>18.3175</td>\n",
       "      <td>14.8979</td>\n",
       "      <td>16.6284</td>\n",
       "    </tr>\n",
       "    <tr>\n",
       "      <th>4</th>\n",
       "      <td>2000</td>\n",
       "      <td>17.9288</td>\n",
       "      <td>18.1766</td>\n",
       "      <td>15.0504</td>\n",
       "      <td>16.6178</td>\n",
       "    </tr>\n",
       "  </tbody>\n",
       "</table>\n",
       "</div>"
      ],
      "text/plain": [
       "     연도       동해       남해       서해       전체\n",
       "0  1996  17.4629  17.2288  14.4360  15.9067\n",
       "1  1997  17.4116  17.4092  14.8248  16.1526\n",
       "2  1998  17.5944  18.0110  15.2512  16.6044\n",
       "3  1999  18.1495  18.3175  14.8979  16.6284\n",
       "4  2000  17.9288  18.1766  15.0504  16.6178"
      ]
     },
     "execution_count": 366,
     "metadata": {},
     "output_type": "execute_result"
    }
   ],
   "source": [
    "pd.read_csv('sea_rain1_from_notepad.csv', encoding = \"cp949\")"
   ]
  },
  {
   "cell_type": "markdown",
   "metadata": {
    "id": "CZdrl4OMkoog"
   },
   "source": [
    "- 데이터 파일처럼 공백(빈칸)으로 구분"
   ]
  },
  {
   "cell_type": "code",
   "execution_count": 367,
   "metadata": {
    "id": "8GgjP7LBkoog",
    "scrolled": true
   },
   "outputs": [
    {
     "name": "stdout",
     "output_type": "stream",
     "text": [
      "Writing sea_rain1_space.txt\n"
     ]
    }
   ],
   "source": [
    "%%writefile sea_rain1_space.txt\n",
    "연도 동해 남해 서해 전체\n",
    "1996 17.4629 17.2288 14.436 15.9067\n",
    "1997 17.4116 17.4092 14.8248 16.1526\n",
    "1998 17.5944 18.011 15.2512 16.6044\n",
    "1999 18.1495 18.3175 14.8979 16.6284\n",
    "2000 17.9288 18.1766 15.0504 16.6178"
   ]
  },
  {
   "cell_type": "markdown",
   "metadata": {
    "id": "omkh7Ek5kooh"
   },
   "source": [
    "- read_csv()에서 읽고자 하는 데이터 파일의 구분자가 콤마가 아닌 경우에는 \n",
    "-‘sep=구분자' 옵션을 주가해야 텍스트 파일에서 pandas의 DataFrame 형식으로 데이터를 제대로 읽어올 있음\n",
    "- 텍스트 파일에서 각 데이터 필드가 공백으로 구분돼 있으면 read_csv()에 sep=\" \"옵션을 추가해서 구분자가 공백임을 지정"
   ]
  },
  {
   "cell_type": "code",
   "execution_count": 368,
   "metadata": {
    "id": "llM7k3_Skooh",
    "scrolled": true
   },
   "outputs": [
    {
     "data": {
      "text/html": [
       "<div>\n",
       "<style scoped>\n",
       "    .dataframe tbody tr th:only-of-type {\n",
       "        vertical-align: middle;\n",
       "    }\n",
       "\n",
       "    .dataframe tbody tr th {\n",
       "        vertical-align: top;\n",
       "    }\n",
       "\n",
       "    .dataframe thead th {\n",
       "        text-align: right;\n",
       "    }\n",
       "</style>\n",
       "<table border=\"1\" class=\"dataframe\">\n",
       "  <thead>\n",
       "    <tr style=\"text-align: right;\">\n",
       "      <th></th>\n",
       "      <th>연도</th>\n",
       "      <th>동해</th>\n",
       "      <th>남해</th>\n",
       "      <th>서해</th>\n",
       "      <th>전체</th>\n",
       "    </tr>\n",
       "  </thead>\n",
       "  <tbody>\n",
       "    <tr>\n",
       "      <th>0</th>\n",
       "      <td>1996</td>\n",
       "      <td>17.4629</td>\n",
       "      <td>17.2288</td>\n",
       "      <td>14.4360</td>\n",
       "      <td>15.9067</td>\n",
       "    </tr>\n",
       "    <tr>\n",
       "      <th>1</th>\n",
       "      <td>1997</td>\n",
       "      <td>17.4116</td>\n",
       "      <td>17.4092</td>\n",
       "      <td>14.8248</td>\n",
       "      <td>16.1526</td>\n",
       "    </tr>\n",
       "    <tr>\n",
       "      <th>2</th>\n",
       "      <td>1998</td>\n",
       "      <td>17.5944</td>\n",
       "      <td>18.0110</td>\n",
       "      <td>15.2512</td>\n",
       "      <td>16.6044</td>\n",
       "    </tr>\n",
       "    <tr>\n",
       "      <th>3</th>\n",
       "      <td>1999</td>\n",
       "      <td>18.1495</td>\n",
       "      <td>18.3175</td>\n",
       "      <td>14.8979</td>\n",
       "      <td>16.6284</td>\n",
       "    </tr>\n",
       "    <tr>\n",
       "      <th>4</th>\n",
       "      <td>2000</td>\n",
       "      <td>17.9288</td>\n",
       "      <td>18.1766</td>\n",
       "      <td>15.0504</td>\n",
       "      <td>16.6178</td>\n",
       "    </tr>\n",
       "  </tbody>\n",
       "</table>\n",
       "</div>"
      ],
      "text/plain": [
       "     연도       동해       남해       서해       전체\n",
       "0  1996  17.4629  17.2288  14.4360  15.9067\n",
       "1  1997  17.4116  17.4092  14.8248  16.1526\n",
       "2  1998  17.5944  18.0110  15.2512  16.6044\n",
       "3  1999  18.1495  18.3175  14.8979  16.6284\n",
       "4  2000  17.9288  18.1766  15.0504  16.6178"
      ]
     },
     "execution_count": 368,
     "metadata": {},
     "output_type": "execute_result"
    }
   ],
   "source": [
    "pd.read_csv('sea_rain1_space.txt', sep=\" \")"
   ]
  },
  {
   "cell_type": "markdown",
   "metadata": {
    "id": "RUVjzHCbkooh"
   },
   "source": [
    "- 텍스트 파일의 확장자가 CSV가 아니더라도 read_csv()를 이용해 텍스트 데이터를 DataFrame 데이터로 읽어올 수 있음\n",
    "- pandas에서 제공하는 read_csv( >로 텍스트 파일을 읽어오면 index가 자동으로 지정\n",
    "- 자동 으로 생성된 index 말고 데이터 파일에서 특정 열(column)을 index로 선택하려면 옵션에 'index_col= 열 이름'을 추가"
   ]
  },
  {
   "cell_type": "markdown",
   "metadata": {
    "id": "3kZ12yp3kooi"
   },
   "source": [
    "- csv 데이터 파일 .sea_rain1.csv_에서 ‘연도’ 열을 index로 선택해 DataFrame 형식으로 데이터를 불러온 예"
   ]
  },
  {
   "cell_type": "code",
   "execution_count": 369,
   "metadata": {
    "id": "asNefL0fkooi",
    "nbpresent": {
     "id": "c480956a-f07e-4f3f-b1d6-b7145915b97f"
    }
   },
   "outputs": [
    {
     "data": {
      "text/html": [
       "<div>\n",
       "<style scoped>\n",
       "    .dataframe tbody tr th:only-of-type {\n",
       "        vertical-align: middle;\n",
       "    }\n",
       "\n",
       "    .dataframe tbody tr th {\n",
       "        vertical-align: top;\n",
       "    }\n",
       "\n",
       "    .dataframe thead th {\n",
       "        text-align: right;\n",
       "    }\n",
       "</style>\n",
       "<table border=\"1\" class=\"dataframe\">\n",
       "  <thead>\n",
       "    <tr style=\"text-align: right;\">\n",
       "      <th></th>\n",
       "      <th>동해</th>\n",
       "      <th>남해</th>\n",
       "      <th>서해</th>\n",
       "      <th>전체</th>\n",
       "    </tr>\n",
       "    <tr>\n",
       "      <th>연도</th>\n",
       "      <th></th>\n",
       "      <th></th>\n",
       "      <th></th>\n",
       "      <th></th>\n",
       "    </tr>\n",
       "  </thead>\n",
       "  <tbody>\n",
       "    <tr>\n",
       "      <th>1996</th>\n",
       "      <td>17.4629</td>\n",
       "      <td>17.2288</td>\n",
       "      <td>14.4360</td>\n",
       "      <td>15.9067</td>\n",
       "    </tr>\n",
       "    <tr>\n",
       "      <th>1997</th>\n",
       "      <td>17.4116</td>\n",
       "      <td>17.4092</td>\n",
       "      <td>14.8248</td>\n",
       "      <td>16.1526</td>\n",
       "    </tr>\n",
       "    <tr>\n",
       "      <th>1998</th>\n",
       "      <td>17.5944</td>\n",
       "      <td>18.0110</td>\n",
       "      <td>15.2512</td>\n",
       "      <td>16.6044</td>\n",
       "    </tr>\n",
       "    <tr>\n",
       "      <th>1999</th>\n",
       "      <td>18.1495</td>\n",
       "      <td>18.3175</td>\n",
       "      <td>14.8979</td>\n",
       "      <td>16.6284</td>\n",
       "    </tr>\n",
       "    <tr>\n",
       "      <th>2000</th>\n",
       "      <td>17.9288</td>\n",
       "      <td>18.1766</td>\n",
       "      <td>15.0504</td>\n",
       "      <td>16.6178</td>\n",
       "    </tr>\n",
       "  </tbody>\n",
       "</table>\n",
       "</div>"
      ],
      "text/plain": [
       "           동해       남해       서해       전체\n",
       "연도                                      \n",
       "1996  17.4629  17.2288  14.4360  15.9067\n",
       "1997  17.4116  17.4092  14.8248  16.1526\n",
       "1998  17.5944  18.0110  15.2512  16.6044\n",
       "1999  18.1495  18.3175  14.8979  16.6284\n",
       "2000  17.9288  18.1766  15.0504  16.6178"
      ]
     },
     "execution_count": 369,
     "metadata": {},
     "output_type": "execute_result"
    }
   ],
   "source": [
    "pd.read_csv('sea_rain1.csv', index_col=\"연도\" )"
   ]
  },
  {
   "cell_type": "markdown",
   "metadata": {
    "id": "6fybWv6nkooi"
   },
   "source": [
    "- 줄력된 결과를 보면 DataFrame 데이터에는 자동으로 생성된 index 대신 index_col에 지정한 ‘연도’의 열 데이터가 index로 설정"
   ]
  },
  {
   "cell_type": "markdown",
   "metadata": {
    "id": "Pb3h5Qvikooi",
    "nbpresent": {
     "id": "b74c816e-f318-42df-bfd8-3da96ccd3dd9"
    }
   },
   "source": [
    "#### 표 형식의 데이터를 파일로 쓰기"
   ]
  },
  {
   "cell_type": "markdown",
   "metadata": {
    "id": "2bcfD-rUkooi"
   },
   "source": [
    "- pandas에서 제공하는 to_csv()를 이용해 DataFrame 형식의 데이터를 텍스트 파일로 저장하는 방법\n",
    "- DataFrame_data.to_csv(file_name [, options])\n",
    "- file_name은 텍스트 파일 이름으로 경로를 포함\n",
    "- 선택사항인 options에는 구분자와 문 자의 인코딩 방식 등을 지정할 수 있는데 지정하지 않으면 구분자는 콤마가 되고 문자의 인코딩 방식은 'utf-8’"
   ]
  },
  {
   "cell_type": "markdown",
   "metadata": {
    "id": "noyjU3OHkooi",
    "nbpresent": {
     "id": "ef5eba7e-f608-45b6-8d51-dba5b96aa568"
    }
   },
   "source": [
    "- DataFrame 데이터를 파일로 저장하기 위해 \n",
    "- 네 명의 몸무게(Weight, 단위: kg) 와 키(Height, 단위: cm) 데이터를 DataFrame 형식으로 생성\n",
    "- DataFrame 데이터에서 index에 이름을 추가하고 싶으면 'df .index.name=문자열'과 같이 작성"
   ]
  },
  {
   "cell_type": "code",
   "execution_count": 370,
   "metadata": {
    "id": "MXQDgKwfkooi",
    "nbpresent": {
     "id": "59061773-e9f5-4388-96d5-e161bef22e53"
    }
   },
   "outputs": [
    {
     "data": {
      "text/html": [
       "<div>\n",
       "<style scoped>\n",
       "    .dataframe tbody tr th:only-of-type {\n",
       "        vertical-align: middle;\n",
       "    }\n",
       "\n",
       "    .dataframe tbody tr th {\n",
       "        vertical-align: top;\n",
       "    }\n",
       "\n",
       "    .dataframe thead th {\n",
       "        text-align: right;\n",
       "    }\n",
       "</style>\n",
       "<table border=\"1\" class=\"dataframe\">\n",
       "  <thead>\n",
       "    <tr style=\"text-align: right;\">\n",
       "      <th></th>\n",
       "      <th>Weight</th>\n",
       "      <th>Height</th>\n",
       "    </tr>\n",
       "    <tr>\n",
       "      <th>User</th>\n",
       "      <th></th>\n",
       "      <th></th>\n",
       "    </tr>\n",
       "  </thead>\n",
       "  <tbody>\n",
       "    <tr>\n",
       "      <th>ID_1</th>\n",
       "      <td>62</td>\n",
       "      <td>165</td>\n",
       "    </tr>\n",
       "    <tr>\n",
       "      <th>ID_2</th>\n",
       "      <td>67</td>\n",
       "      <td>177</td>\n",
       "    </tr>\n",
       "    <tr>\n",
       "      <th>ID_3</th>\n",
       "      <td>55</td>\n",
       "      <td>160</td>\n",
       "    </tr>\n",
       "    <tr>\n",
       "      <th>ID_4</th>\n",
       "      <td>74</td>\n",
       "      <td>180</td>\n",
       "    </tr>\n",
       "  </tbody>\n",
       "</table>\n",
       "</div>"
      ],
      "text/plain": [
       "      Weight  Height\n",
       "User                \n",
       "ID_1      62     165\n",
       "ID_2      67     177\n",
       "ID_3      55     160\n",
       "ID_4      74     180"
      ]
     },
     "execution_count": 370,
     "metadata": {},
     "output_type": "execute_result"
    }
   ],
   "source": [
    "df_WH = pd.DataFrame({'Weight':[62, 67, 55, 74],\n",
    "                      'Height':[165, 177, 160, 180]},\n",
    "                       index=['ID_1', 'ID_2', 'ID_3', 'ID_4'])\n",
    "df_WH.index.name = 'User'\n",
    "df_WH"
   ]
  },
  {
   "cell_type": "markdown",
   "metadata": {
    "id": "cQo6JL4skooi",
    "nbpresent": {
     "id": "d56dc642-606f-4b63-ad4e-7152d90e52ef"
    }
   },
   "source": [
    "- 파일로 저장하기 전에 몸무게와 키를 이용해 체질량 지수(BMI)를 구해서 dt_WH에 추가\n",
    "- df_WH의 몸무게와 키 데이터를 이용해 체질량 지수(BMI)를 구함\n",
    "- 키의 경우 입력한 데이터는 cm 단위여서 m 단위로 변경하기 위해 100으로 나눔"
   ]
  },
  {
   "cell_type": "code",
   "execution_count": 371,
   "metadata": {
    "id": "KYNSW6Y8kooi",
    "nbpresent": {
     "id": "d9c79920-e088-4ca4-ba47-af5c814e1aaf"
    }
   },
   "outputs": [
    {
     "data": {
      "text/plain": [
       "User\n",
       "ID_1    22.773186\n",
       "ID_2    21.385936\n",
       "ID_3    21.484375\n",
       "ID_4    22.839506\n",
       "dtype: float64"
      ]
     },
     "execution_count": 371,
     "metadata": {},
     "output_type": "execute_result"
    }
   ],
   "source": [
    "bmi = df_WH['Weight']/(df_WH['Height']/100)**2\n",
    "bmi"
   ]
  },
  {
   "cell_type": "markdown",
   "metadata": {
    "id": "PFDFfbeGkooi",
    "nbpresent": {
     "id": "ca81541f-0d79-497a-810d-412d08530efa"
    }
   },
   "source": [
    "- DataFrame 데이터(df)에 ’df[’column_name’]=colurnn_data’로 새로운 열 데이터를 추가\n",
    "- 체질량 지수(BMI)를 df_WH에 추가"
   ]
  },
  {
   "cell_type": "code",
   "execution_count": 372,
   "metadata": {
    "id": "jJMe0EhMkooi",
    "nbpresent": {
     "id": "674e3021-875b-435e-8df8-2f7728bb61fb"
    }
   },
   "outputs": [
    {
     "data": {
      "text/html": [
       "<div>\n",
       "<style scoped>\n",
       "    .dataframe tbody tr th:only-of-type {\n",
       "        vertical-align: middle;\n",
       "    }\n",
       "\n",
       "    .dataframe tbody tr th {\n",
       "        vertical-align: top;\n",
       "    }\n",
       "\n",
       "    .dataframe thead th {\n",
       "        text-align: right;\n",
       "    }\n",
       "</style>\n",
       "<table border=\"1\" class=\"dataframe\">\n",
       "  <thead>\n",
       "    <tr style=\"text-align: right;\">\n",
       "      <th></th>\n",
       "      <th>Weight</th>\n",
       "      <th>Height</th>\n",
       "      <th>BMI</th>\n",
       "    </tr>\n",
       "    <tr>\n",
       "      <th>User</th>\n",
       "      <th></th>\n",
       "      <th></th>\n",
       "      <th></th>\n",
       "    </tr>\n",
       "  </thead>\n",
       "  <tbody>\n",
       "    <tr>\n",
       "      <th>ID_1</th>\n",
       "      <td>62</td>\n",
       "      <td>165</td>\n",
       "      <td>22.773186</td>\n",
       "    </tr>\n",
       "    <tr>\n",
       "      <th>ID_2</th>\n",
       "      <td>67</td>\n",
       "      <td>177</td>\n",
       "      <td>21.385936</td>\n",
       "    </tr>\n",
       "    <tr>\n",
       "      <th>ID_3</th>\n",
       "      <td>55</td>\n",
       "      <td>160</td>\n",
       "      <td>21.484375</td>\n",
       "    </tr>\n",
       "    <tr>\n",
       "      <th>ID_4</th>\n",
       "      <td>74</td>\n",
       "      <td>180</td>\n",
       "      <td>22.839506</td>\n",
       "    </tr>\n",
       "  </tbody>\n",
       "</table>\n",
       "</div>"
      ],
      "text/plain": [
       "      Weight  Height        BMI\n",
       "User                           \n",
       "ID_1      62     165  22.773186\n",
       "ID_2      67     177  21.385936\n",
       "ID_3      55     160  21.484375\n",
       "ID_4      74     180  22.839506"
      ]
     },
     "execution_count": 372,
     "metadata": {},
     "output_type": "execute_result"
    }
   ],
   "source": [
    "df_WH['BMI'] = bmi\n",
    "df_WH"
   ]
  },
  {
   "cell_type": "markdown",
   "metadata": {
    "id": "_pw21Xt0kooj",
    "nbpresent": {
     "id": "d5c73eec-9850-4af4-bfd5-f7fd6145cdd5"
    }
   },
   "source": [
    "- DataFrame 데이터 df_WH를 csv 파일로 저장"
   ]
  },
  {
   "cell_type": "code",
   "execution_count": 373,
   "metadata": {
    "id": "a5K-mpWykooj",
    "nbpresent": {
     "id": "7b76d25e-5dcb-4dc7-aa39-a17209cb47bc"
    }
   },
   "outputs": [],
   "source": [
    "df_WH.to_csv('save_DataFrame.csv')"
   ]
  },
  {
   "cell_type": "markdown",
   "metadata": {
    "id": "_2214zyBkooj",
    "nbpresent": {
     "id": "06b094bc-f809-4e9d-9317-467f755dfc7a"
    }
   },
   "source": [
    "- DataFrame 데이터가 csv 파일로 잘 저장됐는지는 확인"
   ]
  },
  {
   "cell_type": "code",
   "execution_count": 374,
   "metadata": {
    "id": "NPJmoVLzkooj",
    "nbpresent": {
     "id": "eb190480-c43c-45bb-aeca-695375f0d8e6"
    }
   },
   "outputs": [
    {
     "name": "stdout",
     "output_type": "stream",
     "text": [
      "User,Weight,Height,BMI\n",
      "ID_1,62,165,22.77318640955005\n",
      "ID_2,67,177,21.38593635289987\n",
      "ID_3,55,160,21.484374999999996\n",
      "ID_4,74,180,22.839506172839506\n"
     ]
    }
   ],
   "source": [
    "!type save_DataFrame.csv"
   ]
  },
  {
   "cell_type": "markdown",
   "metadata": {
    "id": "YO3vtO5ekooj"
   },
   "source": [
    "- DataFrame 데이터를 파일로 저장할 때 옵션을 지정하는 예제\n",
    "- 한 회 사의 제품별 판매 가격과 판매량 정보가 있는 DataFrame 데이터를 생성"
   ]
  },
  {
   "cell_type": "code",
   "execution_count": 375,
   "metadata": {
    "id": "K0fR_pXLkooj"
   },
   "outputs": [
    {
     "data": {
      "text/html": [
       "<div>\n",
       "<style scoped>\n",
       "    .dataframe tbody tr th:only-of-type {\n",
       "        vertical-align: middle;\n",
       "    }\n",
       "\n",
       "    .dataframe tbody tr th {\n",
       "        vertical-align: top;\n",
       "    }\n",
       "\n",
       "    .dataframe thead th {\n",
       "        text-align: right;\n",
       "    }\n",
       "</style>\n",
       "<table border=\"1\" class=\"dataframe\">\n",
       "  <thead>\n",
       "    <tr style=\"text-align: right;\">\n",
       "      <th></th>\n",
       "      <th>판매가격</th>\n",
       "      <th>판매량</th>\n",
       "    </tr>\n",
       "    <tr>\n",
       "      <th>제품번호</th>\n",
       "      <th></th>\n",
       "      <th></th>\n",
       "    </tr>\n",
       "  </thead>\n",
       "  <tbody>\n",
       "    <tr>\n",
       "      <th>P1001</th>\n",
       "      <td>2000</td>\n",
       "      <td>32</td>\n",
       "    </tr>\n",
       "    <tr>\n",
       "      <th>P1002</th>\n",
       "      <td>3000</td>\n",
       "      <td>53</td>\n",
       "    </tr>\n",
       "    <tr>\n",
       "      <th>P1003</th>\n",
       "      <td>5000</td>\n",
       "      <td>40</td>\n",
       "    </tr>\n",
       "    <tr>\n",
       "      <th>P1004</th>\n",
       "      <td>10000</td>\n",
       "      <td>25</td>\n",
       "    </tr>\n",
       "  </tbody>\n",
       "</table>\n",
       "</div>"
      ],
      "text/plain": [
       "        판매가격  판매량\n",
       "제품번호             \n",
       "P1001   2000   32\n",
       "P1002   3000   53\n",
       "P1003   5000   40\n",
       "P1004  10000   25"
      ]
     },
     "execution_count": 375,
     "metadata": {},
     "output_type": "execute_result"
    }
   ],
   "source": [
    "df_pr = pd.DataFrame({'판매가격':[2000, 3000, 5000, 10000],\n",
    "                       '판매량':[32, 53, 40, 25]},\n",
    "                       index=['P1001', 'P1002', 'P1003', 'P1004'])\n",
    "df_pr.index.name = '제품번호'\n",
    "df_pr"
   ]
  },
  {
   "cell_type": "markdown",
   "metadata": {
    "id": "s51IMhLQkooj"
   },
   "source": [
    "- DataFrame 데이터 df_pr를 텍스트 파일로 저장"
   ]
  },
  {
   "cell_type": "code",
   "execution_count": 376,
   "metadata": {
    "id": "d0dKEoifkooj"
   },
   "outputs": [],
   "source": [
    "file_name = 'save_DataFrame_cp949.txt'\n",
    "df_pr.to_csv(file_name, sep=\" \", encoding = \"cp949\")"
   ]
  },
  {
   "cell_type": "markdown",
   "metadata": {
    "id": "XJGfFqC8kook"
   },
   "source": [
    "- 저장된 파일을 확인"
   ]
  },
  {
   "cell_type": "code",
   "execution_count": 377,
   "metadata": {
    "id": "qlmEeC-pCqNH"
   },
   "outputs": [],
   "source": [
    "file_name = 'save_DataFrame_cp.txt'\n",
    "df_pr.to_csv(file_name, sep=\" \")"
   ]
  },
  {
   "cell_type": "code",
   "execution_count": 378,
   "metadata": {
    "id": "aAfII_k_kook",
    "scrolled": true
   },
   "outputs": [
    {
     "name": "stdout",
     "output_type": "stream",
     "text": [
      "��ǰ��ȣ �ǸŰ��� �Ǹŷ�\n",
      "P1001 2000 32\n",
      "P1002 3000 53\n",
      "P1003 5000 40\n",
      "P1004 10000 25\n"
     ]
    }
   ],
   "source": [
    "!type save_DataFrame_cp949.txt"
   ]
  },
  {
   "cell_type": "code",
   "execution_count": 379,
   "metadata": {},
   "outputs": [
    {
     "data": {
      "text/plain": [
       "'2.2.3'"
      ]
     },
     "execution_count": 379,
     "metadata": {},
     "output_type": "execute_result"
    }
   ],
   "source": [
    "pd.__version__"
   ]
  },
  {
   "cell_type": "markdown",
   "metadata": {
    "id": "3ydPGzjVkook",
    "nbpresent": {
     "id": "92fa093d-248c-4f8e-8b43-0c0e772b7c3c"
    }
   },
   "source": [
    "## 11.3 정리"
   ]
  },
  {
   "cell_type": "markdown",
   "metadata": {
    "id": "OSLu4jpikook"
   },
   "source": [
    "- 데이터 분석에 아주 유용하게 활용할 수 있는 NumPy와 pandas\n",
    "- 파이썬 프로그램을 작성할 때는 파이 썬의 기본 기능과 외부 패키지나 라이브러리를 함께 이용"
   ]
  },
  {
   "cell_type": "markdown",
   "metadata": {
    "id": "3w4W2Vphkook"
   },
   "source": [
    "- Python Package Index 홈페이지(https://pypi.org)"
   ]
  }
 ],
 "metadata": {
  "anaconda-cloud": {},
  "colab": {
   "collapsed_sections": [],
   "name": "011_NumPy_pandas.ipynb",
   "provenance": []
  },
  "kernelspec": {
   "display_name": "Python 3",
   "language": "python",
   "name": "python3"
  },
  "language_info": {
   "codemirror_mode": {
    "name": "ipython",
    "version": 3
   },
   "file_extension": ".py",
   "mimetype": "text/x-python",
   "name": "python",
   "nbconvert_exporter": "python",
   "pygments_lexer": "ipython3",
   "version": "3.13.1"
  },
  "latex_envs": {
   "LaTeX_envs_menu_present": true,
   "autoclose": false,
   "autocomplete": true,
   "bibliofile": "biblio.bib",
   "cite_by": "apalike",
   "current_citInitial": 1,
   "eqLabelWithNumbers": true,
   "eqNumInitial": 1,
   "hotkeys": {
    "equation": "Ctrl-E",
    "itemize": "Ctrl-I"
   },
   "labels_anchors": false,
   "latex_user_defs": false,
   "report_style_numbering": false,
   "user_envs_cfg": false
  },
  "nav_menu": {},
  "nbpresent": {
   "slides": {
    "004a6615-ad46-4dc1-98bf-9cf6ac61002b": {
     "id": "004a6615-ad46-4dc1-98bf-9cf6ac61002b",
     "prev": "0cefb89e-78a5-4f97-b24e-38d6998427b0",
     "regions": {
      "e9f88a6a-5929-46ed-8f24-ae90d238871c": {
       "attrs": {
        "height": 0.8,
        "width": 0.8,
        "x": 0.1,
        "y": 0.1
       },
       "content": {
        "cell": "9165b87e-160c-4f61-accb-5af75ff51f50",
        "part": "whole"
       },
       "id": "e9f88a6a-5929-46ed-8f24-ae90d238871c"
      }
     }
    },
    "00c2ebfa-0100-4b40-a67e-6a32cfa48b22": {
     "id": "00c2ebfa-0100-4b40-a67e-6a32cfa48b22",
     "prev": "f228d481-5fc0-4b77-893d-124a217e76f8",
     "regions": {
      "d56d4052-1ce5-4de0-a818-a95c965749b1": {
       "attrs": {
        "height": 0.8,
        "width": 0.8,
        "x": 0.1,
        "y": 0.1
       },
       "content": {
        "cell": "002591c3-c483-4a64-b1a3-cbe5c82369fa",
        "part": "whole"
       },
       "id": "d56d4052-1ce5-4de0-a818-a95c965749b1"
      }
     }
    },
    "00f76723-5047-41aa-ae0c-3b81c520dc5c": {
     "id": "00f76723-5047-41aa-ae0c-3b81c520dc5c",
     "prev": null,
     "regions": {
      "2d374d93-56bf-4d18-a4f3-e3e222ec1051": {
       "attrs": {
        "height": 0.8,
        "width": 0.8,
        "x": 0.1,
        "y": 0.1
       },
       "content": {
        "cell": "bba48256-c366-49a0-9a1a-31d3c97c540e",
        "part": "whole"
       },
       "id": "2d374d93-56bf-4d18-a4f3-e3e222ec1051"
      }
     }
    },
    "01be6c68-04ad-49f2-a11f-c403f5356a5b": {
     "id": "01be6c68-04ad-49f2-a11f-c403f5356a5b",
     "prev": "82abee69-5d76-445e-9006-e8c61e48efa9",
     "regions": {
      "6fe21fc9-775a-45fd-ac34-68f1ead7f94e": {
       "attrs": {
        "height": 0.8,
        "width": 0.8,
        "x": 0.1,
        "y": 0.1
       },
       "content": {
        "cell": "e2171d29-60a5-4cb1-b568-af3a9a93f378",
        "part": "whole"
       },
       "id": "6fe21fc9-775a-45fd-ac34-68f1ead7f94e"
      }
     }
    },
    "026ad1bb-bbb5-4911-a29a-2a31c6dd3d42": {
     "id": "026ad1bb-bbb5-4911-a29a-2a31c6dd3d42",
     "prev": "730c66a5-e473-418e-a1fa-3ba3d7a1589a",
     "regions": {
      "33fcb62d-ee8e-4b77-932b-54b5f5d4222e": {
       "attrs": {
        "height": 0.8,
        "width": 0.8,
        "x": 0.1,
        "y": 0.1
       },
       "content": {
        "cell": "809f2544-8422-426e-b216-38b3c1ef40ce",
        "part": "whole"
       },
       "id": "33fcb62d-ee8e-4b77-932b-54b5f5d4222e"
      }
     }
    },
    "06a1b182-2897-4de1-b0a9-36a82fad7cff": {
     "id": "06a1b182-2897-4de1-b0a9-36a82fad7cff",
     "prev": "36f7e31a-44e1-48a5-8d4f-9389c0dd1094",
     "regions": {
      "b3b1adb5-0f57-472b-8709-a142bffe7f7a": {
       "attrs": {
        "height": 0.8,
        "width": 0.8,
        "x": 0.1,
        "y": 0.1
       },
       "content": {
        "cell": "497bfe6b-1180-43ad-8d15-911730388b95",
        "part": "whole"
       },
       "id": "b3b1adb5-0f57-472b-8709-a142bffe7f7a"
      }
     }
    },
    "06a546d5-5101-425e-bedd-c0d0069b65b0": {
     "id": "06a546d5-5101-425e-bedd-c0d0069b65b0",
     "prev": "300485de-75ad-4b69-8778-8c497e64b722",
     "regions": {
      "37282982-c928-4dcf-8d6f-0d3023b50161": {
       "attrs": {
        "height": 0.8,
        "width": 0.8,
        "x": 0.1,
        "y": 0.1
       },
       "content": {
        "cell": "3253a21a-7d3c-4ba9-8b4d-2c7b695abd09",
        "part": "whole"
       },
       "id": "37282982-c928-4dcf-8d6f-0d3023b50161"
      }
     }
    },
    "08319543-0934-425c-bded-1f53b270e762": {
     "id": "08319543-0934-425c-bded-1f53b270e762",
     "prev": "41922a37-7809-4305-a13f-8ca1137cf700",
     "regions": {
      "3563d8aa-aac0-4c9b-b9c4-d7140036d1a6": {
       "attrs": {
        "height": 0.8,
        "width": 0.8,
        "x": 0.1,
        "y": 0.1
       },
       "content": {
        "cell": "d1dbe790-0599-4dd5-a85f-e7d342fbaec1",
        "part": "whole"
       },
       "id": "3563d8aa-aac0-4c9b-b9c4-d7140036d1a6"
      }
     }
    },
    "0912a4aa-0701-46df-b147-638a992ef413": {
     "id": "0912a4aa-0701-46df-b147-638a992ef413",
     "prev": "c70889ca-5824-45a6-96e1-17557b114f83",
     "regions": {
      "c2d0aaf6-650d-4ba1-b241-3e4ce6ff5dc0": {
       "attrs": {
        "height": 0.8,
        "width": 0.8,
        "x": 0.1,
        "y": 0.1
       },
       "content": {
        "cell": "519e2a61-61b0-46c0-855b-19d7d385f4eb",
        "part": "whole"
       },
       "id": "c2d0aaf6-650d-4ba1-b241-3e4ce6ff5dc0"
      }
     }
    },
    "09785615-9da4-4e0c-bd42-618738d7ef5d": {
     "id": "09785615-9da4-4e0c-bd42-618738d7ef5d",
     "prev": "0d488510-90f9-46a8-89a4-c8b5db875d88",
     "regions": {
      "3a1498b3-b96b-4294-aab3-3d8d2223b354": {
       "attrs": {
        "height": 0.8,
        "width": 0.8,
        "x": 0.1,
        "y": 0.1
       },
       "content": {
        "cell": "992c8f6c-4041-4ef1-930b-5ad3f5b4b65d",
        "part": "whole"
       },
       "id": "3a1498b3-b96b-4294-aab3-3d8d2223b354"
      }
     }
    },
    "09821c90-8644-4369-a270-d183b12af77d": {
     "id": "09821c90-8644-4369-a270-d183b12af77d",
     "prev": "e8089ccf-9780-45a4-8545-41ee16b95fc8",
     "regions": {
      "191d01eb-8da1-48d6-b007-b3755d9abf3c": {
       "attrs": {
        "height": 0.8,
        "width": 0.8,
        "x": 0.1,
        "y": 0.1
       },
       "content": {
        "cell": "83f35fac-f81a-4767-b858-e720844e9efb",
        "part": "whole"
       },
       "id": "191d01eb-8da1-48d6-b007-b3755d9abf3c"
      }
     }
    },
    "09ad0890-ab5a-4ede-a8d2-fdbd43a5da21": {
     "id": "09ad0890-ab5a-4ede-a8d2-fdbd43a5da21",
     "prev": "00f76723-5047-41aa-ae0c-3b81c520dc5c",
     "regions": {
      "140e5afe-486b-446c-9b75-075133796ea8": {
       "attrs": {
        "height": 0.8,
        "width": 0.8,
        "x": 0.1,
        "y": 0.1
       },
       "content": {
        "cell": "a00a5059-101b-4f62-bac3-0c6049620deb",
        "part": "whole"
       },
       "id": "140e5afe-486b-446c-9b75-075133796ea8"
      }
     }
    },
    "0be7bcc1-ec21-4dc5-a2aa-8949340fb4ee": {
     "id": "0be7bcc1-ec21-4dc5-a2aa-8949340fb4ee",
     "prev": "fe7b1364-ffbc-4fd1-8a08-e3ba54ab969a",
     "regions": {
      "fc007ea9-c7c0-448d-bbb3-d8fbfe197e43": {
       "attrs": {
        "height": 0.8,
        "width": 0.8,
        "x": 0.1,
        "y": 0.1
       },
       "content": {
        "cell": "39cb565c-2e08-49e3-84b1-c4310ea74a88",
        "part": "whole"
       },
       "id": "fc007ea9-c7c0-448d-bbb3-d8fbfe197e43"
      }
     }
    },
    "0ccc1664-e9f4-4e9a-b15a-eb9f5331434a": {
     "id": "0ccc1664-e9f4-4e9a-b15a-eb9f5331434a",
     "prev": "2fbcddb0-dec0-427d-8b57-6b0012e2446b",
     "regions": {
      "53c4b42e-7da9-44a7-a6b8-f7d2985d885a": {
       "attrs": {
        "height": 0.8,
        "width": 0.8,
        "x": 0.1,
        "y": 0.1
       },
       "content": {
        "cell": "1e64fd72-3ab3-457f-85a4-3ff66d286bdd",
        "part": "whole"
       },
       "id": "53c4b42e-7da9-44a7-a6b8-f7d2985d885a"
      }
     }
    },
    "0cefb89e-78a5-4f97-b24e-38d6998427b0": {
     "id": "0cefb89e-78a5-4f97-b24e-38d6998427b0",
     "prev": "2bef2c0c-989c-4d72-8825-8ad47d80f90e",
     "regions": {
      "03c0c259-ff27-46c4-a0c3-032e5ea27c7e": {
       "attrs": {
        "height": 0.8,
        "width": 0.8,
        "x": 0.1,
        "y": 0.1
       },
       "content": {
        "cell": "0f84ae14-6e61-4f6d-869b-6951a1ecb090",
        "part": "whole"
       },
       "id": "03c0c259-ff27-46c4-a0c3-032e5ea27c7e"
      }
     }
    },
    "0d488510-90f9-46a8-89a4-c8b5db875d88": {
     "id": "0d488510-90f9-46a8-89a4-c8b5db875d88",
     "prev": "51f45016-1aa3-4c90-a62a-263522722566",
     "regions": {
      "b7135931-25f4-46ad-b803-54a11719965b": {
       "attrs": {
        "height": 0.8,
        "width": 0.8,
        "x": 0.1,
        "y": 0.1
       },
       "content": {
        "cell": "a765d6d6-bb77-4170-bad0-dd14df2e12b4",
        "part": "whole"
       },
       "id": "b7135931-25f4-46ad-b803-54a11719965b"
      }
     }
    },
    "0ddaf2a6-3dc6-4ac7-b3cc-bd0c93a0ab5f": {
     "id": "0ddaf2a6-3dc6-4ac7-b3cc-bd0c93a0ab5f",
     "prev": "1fa1459f-c5e1-41f3-a3e5-062bfaa87d63",
     "regions": {
      "a487dd19-d1e7-47da-bb37-d76abea4223a": {
       "attrs": {
        "height": 0.8,
        "width": 0.8,
        "x": 0.1,
        "y": 0.1
       },
       "content": {
        "cell": "fb6fc3f3-1a8a-403c-84d5-1ea68bc354c1",
        "part": "whole"
       },
       "id": "a487dd19-d1e7-47da-bb37-d76abea4223a"
      }
     }
    },
    "0df5ba4e-68f8-466d-9e34-9577ba7f5b65": {
     "id": "0df5ba4e-68f8-466d-9e34-9577ba7f5b65",
     "prev": "63b65a05-1500-4663-8a86-e90ae8d0892b",
     "regions": {
      "8afdcde1-306d-478f-a0d0-4c20fdc2de7e": {
       "attrs": {
        "height": 0.8,
        "width": 0.8,
        "x": 0.1,
        "y": 0.1
       },
       "content": {
        "cell": "1ddc49b0-5c30-4bcd-9504-3b8c6b5dcb5e",
        "part": "whole"
       },
       "id": "8afdcde1-306d-478f-a0d0-4c20fdc2de7e"
      }
     }
    },
    "105092e3-9521-4e1b-925a-89fbea3bda08": {
     "id": "105092e3-9521-4e1b-925a-89fbea3bda08",
     "prev": "e6736d98-e4ff-41c5-a42e-d6d7f4efc8d4",
     "regions": {
      "77fae83d-12d3-44a7-a31c-17fccf626839": {
       "attrs": {
        "height": 0.8,
        "width": 0.8,
        "x": 0.1,
        "y": 0.1
       },
       "content": {
        "cell": "29a2b7cf-7c0a-4ce4-b42c-0569c419df7c",
        "part": "whole"
       },
       "id": "77fae83d-12d3-44a7-a31c-17fccf626839"
      }
     }
    },
    "1057ac0a-e317-4e89-a987-2e41ccf94195": {
     "id": "1057ac0a-e317-4e89-a987-2e41ccf94195",
     "prev": "52601c7e-15d5-4080-88d4-d83f3c51d6e3",
     "regions": {
      "3df3d487-58a2-467f-b059-3535751ee055": {
       "attrs": {
        "height": 0.8,
        "width": 0.8,
        "x": 0.1,
        "y": 0.1
       },
       "content": {
        "cell": "64bc39ab-346c-40e7-b1c9-1929ea0f8c01",
        "part": "whole"
       },
       "id": "3df3d487-58a2-467f-b059-3535751ee055"
      }
     }
    },
    "1295388d-039f-4755-a2eb-4624bc036880": {
     "id": "1295388d-039f-4755-a2eb-4624bc036880",
     "prev": "9ad96f6c-983a-4919-9822-1b2d8bade635",
     "regions": {
      "ccca86e8-927b-4038-b0c0-704d609de376": {
       "attrs": {
        "height": 0.8,
        "width": 0.8,
        "x": 0.1,
        "y": 0.1
       },
       "content": {
        "cell": "f5c6300a-405b-408a-9eae-795a9b560da2",
        "part": "whole"
       },
       "id": "ccca86e8-927b-4038-b0c0-704d609de376"
      }
     }
    },
    "12f9d190-4f4e-496e-9eb3-28af41aa6c09": {
     "id": "12f9d190-4f4e-496e-9eb3-28af41aa6c09",
     "prev": "9143d20a-1225-4e20-bf84-20c6f4b0ed84",
     "regions": {
      "95081a10-1a8a-4522-a45f-47ba3ff1bfb0": {
       "attrs": {
        "height": 0.8,
        "width": 0.8,
        "x": 0.1,
        "y": 0.1
       },
       "content": {
        "cell": "43dbb77b-728c-453d-8809-7c5c1da3218e",
        "part": "whole"
       },
       "id": "95081a10-1a8a-4522-a45f-47ba3ff1bfb0"
      }
     }
    },
    "1330959f-cbe7-444f-b3d6-918f427d4771": {
     "id": "1330959f-cbe7-444f-b3d6-918f427d4771",
     "prev": "1b8b26fe-a63d-41a3-b9ce-5742f475ce52",
     "regions": {
      "c70239f8-74f8-471b-870a-cb493fbcb6ec": {
       "attrs": {
        "height": 0.8,
        "width": 0.8,
        "x": 0.1,
        "y": 0.1
       },
       "content": {
        "cell": "645ae3c6-8414-435e-a321-26c0ecfe5485",
        "part": "whole"
       },
       "id": "c70239f8-74f8-471b-870a-cb493fbcb6ec"
      }
     }
    },
    "1342dd1f-8dbe-4fef-ba33-1d42f69e8841": {
     "id": "1342dd1f-8dbe-4fef-ba33-1d42f69e8841",
     "prev": "ebf3e9eb-baea-4f4f-9a8b-77292d108134",
     "regions": {
      "939a5e4a-e7bf-4b9e-9f44-78eb585acf58": {
       "attrs": {
        "height": 0.8,
        "width": 0.8,
        "x": 0.1,
        "y": 0.1
       },
       "content": {
        "cell": "b2347c58-725e-423c-b73a-c13695122285",
        "part": "whole"
       },
       "id": "939a5e4a-e7bf-4b9e-9f44-78eb585acf58"
      }
     }
    },
    "14bb0be7-7959-4163-bc6d-5f77eb8e4fcc": {
     "id": "14bb0be7-7959-4163-bc6d-5f77eb8e4fcc",
     "prev": "d3a86a05-28d5-4035-aba6-6a7e40e4c59a",
     "regions": {
      "f1f77e0d-f753-467f-932f-ce6c583a9fb8": {
       "attrs": {
        "height": 0.8,
        "width": 0.8,
        "x": 0.1,
        "y": 0.1
       },
       "content": {
        "cell": "6f741d1a-45ad-4a71-b0a7-f9a02979eec0",
        "part": "whole"
       },
       "id": "f1f77e0d-f753-467f-932f-ce6c583a9fb8"
      }
     }
    },
    "1546c70e-083d-44d8-bbb6-40418d5847c9": {
     "id": "1546c70e-083d-44d8-bbb6-40418d5847c9",
     "prev": "9ab143f3-5fd8-42fb-81f8-b39715f598cb",
     "regions": {
      "0e6d10d7-a3ba-45a6-bb72-c63e6a81a14d": {
       "attrs": {
        "height": 0.8,
        "width": 0.8,
        "x": 0.1,
        "y": 0.1
       },
       "content": {
        "cell": "306cd90d-b2b6-4dd4-b1bc-e73177c71f99",
        "part": "whole"
       },
       "id": "0e6d10d7-a3ba-45a6-bb72-c63e6a81a14d"
      }
     }
    },
    "17361deb-8540-4ec7-a58e-38bf3b6a011d": {
     "id": "17361deb-8540-4ec7-a58e-38bf3b6a011d",
     "prev": "71138d00-1de1-4255-b423-0fbca3e37521",
     "regions": {
      "87d91ae2-9c5d-4f65-a78c-815f459851fa": {
       "attrs": {
        "height": 0.8,
        "width": 0.8,
        "x": 0.1,
        "y": 0.1
       },
       "content": {
        "cell": "5f71eb4e-f55e-4f00-96bc-722d7e241a66",
        "part": "whole"
       },
       "id": "87d91ae2-9c5d-4f65-a78c-815f459851fa"
      }
     }
    },
    "18af95f0-b62c-46b0-b821-b14db773c013": {
     "id": "18af95f0-b62c-46b0-b821-b14db773c013",
     "prev": "32899dd6-8f34-4746-8da8-0ca3a9186a2e",
     "regions": {
      "7287c62c-3d15-41d5-8902-41e7b74f5b0c": {
       "attrs": {
        "height": 0.8,
        "width": 0.8,
        "x": 0.1,
        "y": 0.1
       },
       "content": {
        "cell": "fba60d0d-6b69-4f90-8d39-c54b47f51bec",
        "part": "whole"
       },
       "id": "7287c62c-3d15-41d5-8902-41e7b74f5b0c"
      }
     }
    },
    "1a66efb8-7a57-4543-a31e-42fa1f104b06": {
     "id": "1a66efb8-7a57-4543-a31e-42fa1f104b06",
     "prev": "de87b522-18eb-4c18-a639-a6477f621358",
     "regions": {
      "2b34f426-ebe6-42f4-95c0-1aa6dcb179e7": {
       "attrs": {
        "height": 0.8,
        "width": 0.8,
        "x": 0.1,
        "y": 0.1
       },
       "content": {
        "cell": "fa8fe338-046c-48ab-a709-6c5e1d69625d",
        "part": "whole"
       },
       "id": "2b34f426-ebe6-42f4-95c0-1aa6dcb179e7"
      }
     }
    },
    "1b8b26fe-a63d-41a3-b9ce-5742f475ce52": {
     "id": "1b8b26fe-a63d-41a3-b9ce-5742f475ce52",
     "prev": "f54407be-9c02-4485-bef5-b7a81592cd7b",
     "regions": {
      "a13f0ef3-72c6-4e0c-95cd-169a518541d3": {
       "attrs": {
        "height": 0.8,
        "width": 0.8,
        "x": 0.1,
        "y": 0.1
       },
       "content": {
        "cell": "8439f472-17a2-4baa-86bc-ff64e9b3d704",
        "part": "whole"
       },
       "id": "a13f0ef3-72c6-4e0c-95cd-169a518541d3"
      }
     }
    },
    "1d50f252-fd67-42e5-addf-3f9d7a28dd31": {
     "id": "1d50f252-fd67-42e5-addf-3f9d7a28dd31",
     "prev": "752a273d-a6b1-45d0-a199-3507c7bd8015",
     "regions": {
      "7a5c022b-6eca-474a-ad93-9c94a6466a1d": {
       "attrs": {
        "height": 0.8,
        "width": 0.8,
        "x": 0.1,
        "y": 0.1
       },
       "content": {
        "cell": "d445e468-b2cb-4025-8fd9-202b6efb110a",
        "part": "whole"
       },
       "id": "7a5c022b-6eca-474a-ad93-9c94a6466a1d"
      }
     }
    },
    "1f8ba1e9-da4c-482f-926a-b31103b4adaa": {
     "id": "1f8ba1e9-da4c-482f-926a-b31103b4adaa",
     "prev": "4e3c853f-29e9-4a8f-95fe-97e3c3168b33",
     "regions": {
      "4b8fca95-fca4-4519-b289-6ad085c11578": {
       "attrs": {
        "height": 0.8,
        "width": 0.8,
        "x": 0.1,
        "y": 0.1
       },
       "content": {
        "cell": "6d5e6d1b-6fa7-483d-9648-6ca44371399f",
        "part": "whole"
       },
       "id": "4b8fca95-fca4-4519-b289-6ad085c11578"
      }
     }
    },
    "1fa1459f-c5e1-41f3-a3e5-062bfaa87d63": {
     "id": "1fa1459f-c5e1-41f3-a3e5-062bfaa87d63",
     "prev": "aec73699-b126-4ddd-a0fe-fed510fc7c05",
     "regions": {
      "b80dedf8-2dc5-438f-afd5-d66942c9bf57": {
       "attrs": {
        "height": 0.8,
        "width": 0.8,
        "x": 0.1,
        "y": 0.1
       },
       "content": {
        "cell": "c518a29e-e00d-40d7-bec5-07d421415653",
        "part": "whole"
       },
       "id": "b80dedf8-2dc5-438f-afd5-d66942c9bf57"
      }
     }
    },
    "207f8462-0da1-40a3-9049-1d72b8a08c53": {
     "id": "207f8462-0da1-40a3-9049-1d72b8a08c53",
     "prev": "0df5ba4e-68f8-466d-9e34-9577ba7f5b65",
     "regions": {
      "a6025063-8441-4b8f-8975-bec3b6dbdc02": {
       "attrs": {
        "height": 0.8,
        "width": 0.8,
        "x": 0.1,
        "y": 0.1
       },
       "content": {
        "cell": "04b26713-532e-4ebd-a3e2-16f648d46376",
        "part": "whole"
       },
       "id": "a6025063-8441-4b8f-8975-bec3b6dbdc02"
      }
     }
    },
    "219e1659-447c-44ee-935e-9ebb107df7b1": {
     "id": "219e1659-447c-44ee-935e-9ebb107df7b1",
     "prev": "3a7fb726-2dea-4025-ab74-b6c9990721eb",
     "regions": {
      "cb491353-965e-47f1-ae93-2d8e7aca78ff": {
       "attrs": {
        "height": 0.8,
        "width": 0.8,
        "x": 0.1,
        "y": 0.1
       },
       "content": {
        "cell": "417789a3-66a4-4c52-b967-6855a3b6edb6",
        "part": "whole"
       },
       "id": "cb491353-965e-47f1-ae93-2d8e7aca78ff"
      }
     }
    },
    "2238fd84-2a89-4544-a31e-be3956ed3f65": {
     "id": "2238fd84-2a89-4544-a31e-be3956ed3f65",
     "prev": "f1d0836b-51b6-4da7-ab98-0a5828c9bbb3",
     "regions": {
      "849e6dc4-3376-4781-89ee-77d29ff64a44": {
       "attrs": {
        "height": 0.8,
        "width": 0.8,
        "x": 0.1,
        "y": 0.1
       },
       "content": {
        "cell": "31a5e2f1-017c-4d6d-aae3-1fb54ac75e9c",
        "part": "whole"
       },
       "id": "849e6dc4-3376-4781-89ee-77d29ff64a44"
      }
     }
    },
    "224a84f3-8aff-4323-b700-18a00d294303": {
     "id": "224a84f3-8aff-4323-b700-18a00d294303",
     "prev": "b1fe186d-b526-4dea-a598-7ab89acb7bd1",
     "regions": {
      "3e92e3d3-8480-4ac0-a7da-4b2d48c3bafa": {
       "attrs": {
        "height": 0.8,
        "width": 0.8,
        "x": 0.1,
        "y": 0.1
       },
       "content": {
        "cell": "e1187589-6ec4-42be-8434-0b0033c8477f",
        "part": "whole"
       },
       "id": "3e92e3d3-8480-4ac0-a7da-4b2d48c3bafa"
      }
     }
    },
    "237577b0-9379-4ce4-a171-3889a3d42450": {
     "id": "237577b0-9379-4ce4-a171-3889a3d42450",
     "prev": "3581cd54-9198-4f26-b0ee-92fdf8d5090a",
     "regions": {
      "78892edf-1cc8-4aff-abb7-c4461e20eec0": {
       "attrs": {
        "height": 0.8,
        "width": 0.8,
        "x": 0.1,
        "y": 0.1
       },
       "content": {
        "cell": "ed5d25ea-f078-4238-9911-6f56810dc8b6",
        "part": "whole"
       },
       "id": "78892edf-1cc8-4aff-abb7-c4461e20eec0"
      }
     }
    },
    "2440aa4d-fcf2-4b7e-bc47-8548a87a6ea7": {
     "id": "2440aa4d-fcf2-4b7e-bc47-8548a87a6ea7",
     "prev": "c9ece08c-b252-4b96-b33d-f07cfa1f8885",
     "regions": {
      "63bfd364-2d16-41a9-b561-30e223ff73e8": {
       "attrs": {
        "height": 0.8,
        "width": 0.8,
        "x": 0.1,
        "y": 0.1
       },
       "content": {
        "cell": "8c0fbf70-0906-4f5f-990a-84abd7483130",
        "part": "whole"
       },
       "id": "63bfd364-2d16-41a9-b561-30e223ff73e8"
      }
     }
    },
    "26143843-c506-40ec-b0f1-e0b03d5aff8b": {
     "id": "26143843-c506-40ec-b0f1-e0b03d5aff8b",
     "prev": "314d18f5-4d2f-46ec-b983-9fa926bb6107",
     "regions": {
      "4d00c323-a380-4823-b9c7-571ade9943fa": {
       "attrs": {
        "height": 0.8,
        "width": 0.8,
        "x": 0.1,
        "y": 0.1
       },
       "content": {
        "cell": "dfdbc505-3c93-471f-8efe-ef7f393351af",
        "part": "whole"
       },
       "id": "4d00c323-a380-4823-b9c7-571ade9943fa"
      }
     }
    },
    "2833646f-f9fa-4e0a-ae67-9ca9475599ff": {
     "id": "2833646f-f9fa-4e0a-ae67-9ca9475599ff",
     "prev": "d55be3e8-b197-464c-b6f9-400658b15b99",
     "regions": {
      "7e0c007d-19ec-4fcd-9c6d-eeaff8b6bcfa": {
       "attrs": {
        "height": 0.8,
        "width": 0.8,
        "x": 0.1,
        "y": 0.1
       },
       "content": {
        "cell": "2fd50764-d3f4-4999-9efe-e7f75dde9fb8",
        "part": "whole"
       },
       "id": "7e0c007d-19ec-4fcd-9c6d-eeaff8b6bcfa"
      }
     }
    },
    "28542ec3-fe9a-4414-9f5c-5303725673f6": {
     "id": "28542ec3-fe9a-4414-9f5c-5303725673f6",
     "prev": "caffec0b-ccd7-4e82-930d-708d6a053d68",
     "regions": {
      "e0917f48-6c03-4c9f-b76e-ac2ca8f58f42": {
       "attrs": {
        "height": 0.8,
        "width": 0.8,
        "x": 0.1,
        "y": 0.1
       },
       "content": {
        "cell": "89158dfa-2548-4e6e-9d9c-ffea68274878",
        "part": "whole"
       },
       "id": "e0917f48-6c03-4c9f-b76e-ac2ca8f58f42"
      }
     }
    },
    "289f607c-d43c-49fa-88d0-9dd7c0184a04": {
     "id": "289f607c-d43c-49fa-88d0-9dd7c0184a04",
     "prev": "321fa137-87fe-4a28-8bf7-c3d288bb1fc6",
     "regions": {
      "bb325ac8-881a-4aa6-acec-2b0af6308d5d": {
       "attrs": {
        "height": 0.8,
        "width": 0.8,
        "x": 0.1,
        "y": 0.1
       },
       "content": {
        "cell": "109eb28e-8e97-4bf0-903f-00833d9c4791",
        "part": "whole"
       },
       "id": "bb325ac8-881a-4aa6-acec-2b0af6308d5d"
      }
     }
    },
    "28e6e5e0-4c8d-480b-88c4-212bb8a9a5d3": {
     "id": "28e6e5e0-4c8d-480b-88c4-212bb8a9a5d3",
     "prev": "60dd0f4b-356d-4ef4-bb3d-27ee9e270764",
     "regions": {
      "daab678c-f5be-4d82-833c-60086152dd26": {
       "attrs": {
        "height": 0.8,
        "width": 0.8,
        "x": 0.1,
        "y": 0.1
       },
       "content": {
        "cell": "ec07b417-b92e-42a7-a1c8-fa4832d4c822",
        "part": "whole"
       },
       "id": "daab678c-f5be-4d82-833c-60086152dd26"
      }
     }
    },
    "2ae77d71-6509-49fb-9ae9-f1e2804b0280": {
     "id": "2ae77d71-6509-49fb-9ae9-f1e2804b0280",
     "prev": "c09ffc70-9a89-47e0-af7a-5a35e2a28fd0",
     "regions": {
      "49a88a01-bb79-43bb-8969-3b22b7e08664": {
       "attrs": {
        "height": 0.8,
        "width": 0.8,
        "x": 0.1,
        "y": 0.1
       },
       "content": {
        "cell": "c9e8fe37-37a3-4115-ab80-3cd84eb9b8af",
        "part": "whole"
       },
       "id": "49a88a01-bb79-43bb-8969-3b22b7e08664"
      }
     }
    },
    "2bef2c0c-989c-4d72-8825-8ad47d80f90e": {
     "id": "2bef2c0c-989c-4d72-8825-8ad47d80f90e",
     "prev": "4a92a331-95c3-499d-88c1-dbc638b055e6",
     "regions": {
      "05e7351b-0219-4234-9809-dc0f73804b4b": {
       "attrs": {
        "height": 0.8,
        "width": 0.8,
        "x": 0.1,
        "y": 0.1
       },
       "content": {
        "cell": "89700812-7d50-4838-bb93-bdfbdb7c5b90",
        "part": "whole"
       },
       "id": "05e7351b-0219-4234-9809-dc0f73804b4b"
      }
     }
    },
    "2d0fcc61-8e3f-4086-9ef6-1066462d3b1c": {
     "id": "2d0fcc61-8e3f-4086-9ef6-1066462d3b1c",
     "prev": "06a546d5-5101-425e-bedd-c0d0069b65b0",
     "regions": {
      "09a04fab-b8d4-4844-915b-2aa9906ce774": {
       "attrs": {
        "height": 0.8,
        "width": 0.8,
        "x": 0.1,
        "y": 0.1
       },
       "content": {
        "cell": "8d5c25d3-2e63-4b97-b0d1-b4d37c0fc569",
        "part": "whole"
       },
       "id": "09a04fab-b8d4-4844-915b-2aa9906ce774"
      }
     }
    },
    "2d694f08-bc0a-4a53-a2a0-9f0e9bd7882f": {
     "id": "2d694f08-bc0a-4a53-a2a0-9f0e9bd7882f",
     "prev": "51c2b6eb-da6f-4d26-940b-96e6da8eeba9",
     "regions": {
      "720e12ce-0278-40a3-bdbf-6f9b8e481656": {
       "attrs": {
        "height": 0.8,
        "width": 0.8,
        "x": 0.1,
        "y": 0.1
       },
       "content": {
        "cell": "91cdb793-af8b-4f5b-8481-52da23fcf225",
        "part": "whole"
       },
       "id": "720e12ce-0278-40a3-bdbf-6f9b8e481656"
      }
     }
    },
    "2db7c0f2-c03b-45a0-b05b-d3dfed8ba720": {
     "id": "2db7c0f2-c03b-45a0-b05b-d3dfed8ba720",
     "prev": "eb3a9710-cde0-464f-b5b9-7765b7b8db24",
     "regions": {
      "6a932e59-8fff-443c-84c8-19740647c3f3": {
       "attrs": {
        "height": 0.8,
        "width": 0.8,
        "x": 0.1,
        "y": 0.1
       },
       "content": {
        "cell": "63b42c5c-ac60-4432-9197-ed176bf2d2e0",
        "part": "whole"
       },
       "id": "6a932e59-8fff-443c-84c8-19740647c3f3"
      }
     }
    },
    "2fbcddb0-dec0-427d-8b57-6b0012e2446b": {
     "id": "2fbcddb0-dec0-427d-8b57-6b0012e2446b",
     "prev": "8cb3cfdf-0617-4cc8-91d7-062d48995774",
     "regions": {
      "86a76ff1-1508-470e-8634-3e9fd6263f09": {
       "attrs": {
        "height": 0.8,
        "width": 0.8,
        "x": 0.1,
        "y": 0.1
       },
       "content": {
        "cell": "8fd90a74-8017-4d15-a2f3-fcfaa8ebe68a",
        "part": "whole"
       },
       "id": "86a76ff1-1508-470e-8634-3e9fd6263f09"
      }
     }
    },
    "2fdee9d1-218e-4614-9c26-c85a8539bedf": {
     "id": "2fdee9d1-218e-4614-9c26-c85a8539bedf",
     "prev": "48d4842a-1bff-4e13-b103-74f76aab740d",
     "regions": {
      "5ff315bd-ca4c-499a-ba4c-6417d8f0936d": {
       "attrs": {
        "height": 0.8,
        "width": 0.8,
        "x": 0.1,
        "y": 0.1
       },
       "content": {
        "cell": "efee25a2-6ed3-4714-a385-bb9efd904fc0",
        "part": "whole"
       },
       "id": "5ff315bd-ca4c-499a-ba4c-6417d8f0936d"
      }
     }
    },
    "300485de-75ad-4b69-8778-8c497e64b722": {
     "id": "300485de-75ad-4b69-8778-8c497e64b722",
     "prev": "9b473d4e-4d53-43f5-ba74-1a0597eb9aeb",
     "regions": {
      "f38a9eba-06e2-41c4-9972-7cb44fd4d8ff": {
       "attrs": {
        "height": 0.8,
        "width": 0.8,
        "x": 0.1,
        "y": 0.1
       },
       "content": {
        "cell": "b7cfeac3-fc87-43b7-9aee-ac056e860fdd",
        "part": "whole"
       },
       "id": "f38a9eba-06e2-41c4-9972-7cb44fd4d8ff"
      }
     }
    },
    "3090d9d4-1b3c-46fc-9832-3214854b933f": {
     "id": "3090d9d4-1b3c-46fc-9832-3214854b933f",
     "prev": "1295388d-039f-4755-a2eb-4624bc036880",
     "regions": {
      "fa8e0c0c-93d3-4c5d-8eb2-95d76a2662d5": {
       "attrs": {
        "height": 0.8,
        "width": 0.8,
        "x": 0.1,
        "y": 0.1
       },
       "content": {
        "cell": "639401fd-6ca8-4ae2-b72e-f0c0ff63caf4",
        "part": "whole"
       },
       "id": "fa8e0c0c-93d3-4c5d-8eb2-95d76a2662d5"
      }
     }
    },
    "314d18f5-4d2f-46ec-b983-9fa926bb6107": {
     "id": "314d18f5-4d2f-46ec-b983-9fa926bb6107",
     "prev": "5732d044-c90a-4dd3-b9c1-8b9ad80afc91",
     "regions": {
      "4dfbfd56-2bfc-4385-ae3b-06db31b5ae80": {
       "attrs": {
        "height": 0.8,
        "width": 0.8,
        "x": 0.1,
        "y": 0.1
       },
       "content": {
        "cell": "523df774-1955-4d98-894e-b0d4d7dc259a",
        "part": "whole"
       },
       "id": "4dfbfd56-2bfc-4385-ae3b-06db31b5ae80"
      }
     }
    },
    "3151943d-b59d-46ef-9cde-db0a0c80c566": {
     "id": "3151943d-b59d-46ef-9cde-db0a0c80c566",
     "prev": "7e20bb10-3c4f-4fc7-bb12-c2725a5e9b7b",
     "regions": {
      "2d8530be-b69f-4ca2-acf5-d42f33914026": {
       "attrs": {
        "height": 0.8,
        "width": 0.8,
        "x": 0.1,
        "y": 0.1
       },
       "content": {
        "cell": "9e8ce122-b1df-430b-b94c-2511fe66389f",
        "part": "whole"
       },
       "id": "2d8530be-b69f-4ca2-acf5-d42f33914026"
      }
     }
    },
    "31d2f052-8012-4c2c-97b9-e73514728490": {
     "id": "31d2f052-8012-4c2c-97b9-e73514728490",
     "prev": "39d20f40-f325-43a2-90c2-7ba71b11a38c",
     "regions": {
      "0d5494e7-ac8a-4a61-b8c9-8e03c9f6c5f6": {
       "attrs": {
        "height": 0.8,
        "width": 0.8,
        "x": 0.1,
        "y": 0.1
       },
       "content": {
        "cell": "f1b8a023-d45d-4766-bf4c-9837c745b049",
        "part": "whole"
       },
       "id": "0d5494e7-ac8a-4a61-b8c9-8e03c9f6c5f6"
      }
     }
    },
    "32049a90-1058-49e7-8011-1f4bc2020eb1": {
     "id": "32049a90-1058-49e7-8011-1f4bc2020eb1",
     "prev": "f5a7656f-b3db-4183-9c5d-281a9a4107f5",
     "regions": {
      "e9ff17cd-99f4-4adc-889d-a0a867e58aa2": {
       "attrs": {
        "height": 0.8,
        "width": 0.8,
        "x": 0.1,
        "y": 0.1
       },
       "content": {
        "cell": "e7025c1f-15be-41a8-b9fa-c08268a51664",
        "part": "whole"
       },
       "id": "e9ff17cd-99f4-4adc-889d-a0a867e58aa2"
      }
     }
    },
    "321fa137-87fe-4a28-8bf7-c3d288bb1fc6": {
     "id": "321fa137-87fe-4a28-8bf7-c3d288bb1fc6",
     "prev": "28542ec3-fe9a-4414-9f5c-5303725673f6",
     "regions": {
      "9f784c1d-8c68-4bb4-88a5-f60a8fce54b3": {
       "attrs": {
        "height": 0.8,
        "width": 0.8,
        "x": 0.1,
        "y": 0.1
       },
       "content": {
        "cell": "bffc6bc2-edc1-4542-9325-bf01bd11a2c2",
        "part": "whole"
       },
       "id": "9f784c1d-8c68-4bb4-88a5-f60a8fce54b3"
      }
     }
    },
    "32899dd6-8f34-4746-8da8-0ca3a9186a2e": {
     "id": "32899dd6-8f34-4746-8da8-0ca3a9186a2e",
     "prev": "74ce85d7-ac59-4cc2-9390-94a2fe729841",
     "regions": {
      "8eaaa377-3a49-43c2-ad03-8fe0938c96ef": {
       "attrs": {
        "height": 0.8,
        "width": 0.8,
        "x": 0.1,
        "y": 0.1
       },
       "content": {
        "cell": "1b7fbe54-966e-4a85-9498-23bce1b6c92a",
        "part": "whole"
       },
       "id": "8eaaa377-3a49-43c2-ad03-8fe0938c96ef"
      }
     }
    },
    "32f3a581-189b-4956-9b2f-007a62ae3696": {
     "id": "32f3a581-189b-4956-9b2f-007a62ae3696",
     "prev": "18af95f0-b62c-46b0-b821-b14db773c013",
     "regions": {
      "e61ee75a-423c-4a11-a7ed-a2a58642ad0b": {
       "attrs": {
        "height": 0.8,
        "width": 0.8,
        "x": 0.1,
        "y": 0.1
       },
       "content": {
        "cell": "168498ed-8edd-417e-9156-0cd544cb0677",
        "part": "whole"
       },
       "id": "e61ee75a-423c-4a11-a7ed-a2a58642ad0b"
      }
     }
    },
    "3371c111-ef6d-4e50-b086-dafb46c1820f": {
     "id": "3371c111-ef6d-4e50-b086-dafb46c1820f",
     "prev": "6cd922e2-553e-4278-a852-3c4d61f1c906",
     "regions": {
      "51fa7aa9-9c99-4f87-8e0b-0433031f7dca": {
       "attrs": {
        "height": 0.8,
        "width": 0.8,
        "x": 0.1,
        "y": 0.1
       },
       "content": {
        "cell": "68113591-507a-4c02-9133-3cb8142de227",
        "part": "whole"
       },
       "id": "51fa7aa9-9c99-4f87-8e0b-0433031f7dca"
      }
     }
    },
    "350078d1-cdee-4f48-b929-7fb2ffc2f3d0": {
     "id": "350078d1-cdee-4f48-b929-7fb2ffc2f3d0",
     "prev": "b59359ae-9735-4a22-a8e2-4d9cc9ffef09",
     "regions": {
      "07d9810b-37df-4d1d-a603-eda6734f94ea": {
       "attrs": {
        "height": 0.8,
        "width": 0.8,
        "x": 0.1,
        "y": 0.1
       },
       "content": {
        "cell": "be3ce681-c2f1-4b77-938b-d731ff638994",
        "part": "whole"
       },
       "id": "07d9810b-37df-4d1d-a603-eda6734f94ea"
      }
     }
    },
    "3581cd54-9198-4f26-b0ee-92fdf8d5090a": {
     "id": "3581cd54-9198-4f26-b0ee-92fdf8d5090a",
     "prev": "7a76fa27-83fe-4cc5-b7c8-68e20638cd66",
     "regions": {
      "06def8f8-0da3-4da3-ba3b-49cca82577da": {
       "attrs": {
        "height": 0.8,
        "width": 0.8,
        "x": 0.1,
        "y": 0.1
       },
       "content": {
        "cell": "c45f49f7-6e90-4f61-82ca-efc328cdb5ba",
        "part": "whole"
       },
       "id": "06def8f8-0da3-4da3-ba3b-49cca82577da"
      }
     }
    },
    "35e55e54-6678-40ca-a95e-f399c2d0cd71": {
     "id": "35e55e54-6678-40ca-a95e-f399c2d0cd71",
     "prev": "e175d6b9-455b-454a-a9f3-7c6bf98e0c63",
     "regions": {
      "e6404175-2c96-442f-82da-81aa44424298": {
       "attrs": {
        "height": 0.8,
        "width": 0.8,
        "x": 0.1,
        "y": 0.1
       },
       "content": {
        "cell": "7b76d25e-5dcb-4dc7-aa39-a17209cb47bc",
        "part": "whole"
       },
       "id": "e6404175-2c96-442f-82da-81aa44424298"
      }
     }
    },
    "3606b4c5-9574-4247-a5f3-3f79830f8426": {
     "id": "3606b4c5-9574-4247-a5f3-3f79830f8426",
     "prev": "a3cefd96-f1fe-4565-aea4-e1a5e23d2dd0",
     "regions": {
      "2f1ba5ef-9ede-4926-8348-220492579575": {
       "attrs": {
        "height": 0.8,
        "width": 0.8,
        "x": 0.1,
        "y": 0.1
       },
       "content": {
        "cell": "26072367-4f06-4cce-bab1-38b4d5b1e704",
        "part": "whole"
       },
       "id": "2f1ba5ef-9ede-4926-8348-220492579575"
      }
     }
    },
    "36621d11-05f4-4c7f-9296-c0b6a592bc0d": {
     "id": "36621d11-05f4-4c7f-9296-c0b6a592bc0d",
     "prev": "c3d85cf6-9086-430e-88b1-fadf52aaa9f5",
     "regions": {
      "469e8879-976b-42f6-af3c-4d2e3b375e6c": {
       "attrs": {
        "height": 0.8,
        "width": 0.8,
        "x": 0.1,
        "y": 0.1
       },
       "content": {
        "cell": "13c52b84-b3d3-4f35-810e-6aa04cc5f863",
        "part": "whole"
       },
       "id": "469e8879-976b-42f6-af3c-4d2e3b375e6c"
      }
     }
    },
    "36f7e31a-44e1-48a5-8d4f-9389c0dd1094": {
     "id": "36f7e31a-44e1-48a5-8d4f-9389c0dd1094",
     "prev": "f28c4ada-e14a-45a5-8ac6-19e63cc7994e",
     "regions": {
      "3a91a69c-42e4-4d39-9602-61b72672e1b0": {
       "attrs": {
        "height": 0.8,
        "width": 0.8,
        "x": 0.1,
        "y": 0.1
       },
       "content": {
        "cell": "612a4af9-ed41-494e-9891-95abc5499fd5",
        "part": "whole"
       },
       "id": "3a91a69c-42e4-4d39-9602-61b72672e1b0"
      }
     }
    },
    "37221ca9-2ab6-438f-a204-fc252e4bcb1b": {
     "id": "37221ca9-2ab6-438f-a204-fc252e4bcb1b",
     "prev": "5daa9c02-c5cb-41e9-9926-c187780a0f88",
     "regions": {
      "ac00c16c-32bf-4cab-9c4a-25272cb2dce5": {
       "attrs": {
        "height": 0.8,
        "width": 0.8,
        "x": 0.1,
        "y": 0.1
       },
       "content": {
        "cell": "7de123ee-afb9-43a6-a788-ba8259e43c10",
        "part": "whole"
       },
       "id": "ac00c16c-32bf-4cab-9c4a-25272cb2dce5"
      }
     }
    },
    "39d20f40-f325-43a2-90c2-7ba71b11a38c": {
     "id": "39d20f40-f325-43a2-90c2-7ba71b11a38c",
     "prev": "92c3d928-cd56-4168-81e4-3a33f4591d2d",
     "regions": {
      "baab3991-f84f-4397-a3b9-4df72e341ea9": {
       "attrs": {
        "height": 0.8,
        "width": 0.8,
        "x": 0.1,
        "y": 0.1
       },
       "content": {
        "cell": "c12fc9c5-518f-47d0-948d-c5a850738081",
        "part": "whole"
       },
       "id": "baab3991-f84f-4397-a3b9-4df72e341ea9"
      }
     }
    },
    "39ef00e8-4a0a-4665-b1cb-04f3b878ca8e": {
     "id": "39ef00e8-4a0a-4665-b1cb-04f3b878ca8e",
     "prev": "76674591-bc27-4971-9404-fad1395710c2",
     "regions": {
      "77540ab7-a078-48d8-8766-59cf8bc4939e": {
       "attrs": {
        "height": 0.8,
        "width": 0.8,
        "x": 0.1,
        "y": 0.1
       },
       "content": {
        "cell": "fa7444c4-04b5-48b9-a106-5cf38c24ca33",
        "part": "whole"
       },
       "id": "77540ab7-a078-48d8-8766-59cf8bc4939e"
      }
     }
    },
    "3a7fb726-2dea-4025-ab74-b6c9990721eb": {
     "id": "3a7fb726-2dea-4025-ab74-b6c9990721eb",
     "prev": "bd8689e6-1973-4d63-8d74-a50c9c0c7437",
     "regions": {
      "f538125c-95b1-45f1-b93b-61f49d38ec44": {
       "attrs": {
        "height": 0.8,
        "width": 0.8,
        "x": 0.1,
        "y": 0.1
       },
       "content": {
        "cell": "5bbce344-b8fe-4333-a1fa-c6c9e3cd7886",
        "part": "whole"
       },
       "id": "f538125c-95b1-45f1-b93b-61f49d38ec44"
      }
     }
    },
    "3b95d047-7768-489b-9027-111bdb2d588d": {
     "id": "3b95d047-7768-489b-9027-111bdb2d588d",
     "prev": "b4cb4f35-d317-4ea9-95e7-6dcf71e42760",
     "regions": {
      "f5ac7e35-f6d6-48be-b7c9-7b0a6ae8d693": {
       "attrs": {
        "height": 0.8,
        "width": 0.8,
        "x": 0.1,
        "y": 0.1
       },
       "content": {
        "cell": "f8be1526-d123-4fa1-bbee-34be53114801",
        "part": "whole"
       },
       "id": "f5ac7e35-f6d6-48be-b7c9-7b0a6ae8d693"
      }
     }
    },
    "3d66c30b-3f48-40c5-923c-812f0f91a66c": {
     "id": "3d66c30b-3f48-40c5-923c-812f0f91a66c",
     "prev": "c4f55b79-4247-4ecd-bd02-f8f4fb4fe5e2",
     "regions": {
      "24010b16-91a4-4b4c-a40b-afe3f05b1893": {
       "attrs": {
        "height": 0.8,
        "width": 0.8,
        "x": 0.1,
        "y": 0.1
       },
       "content": {
        "cell": "7d39c0ed-66cf-461c-9a35-c5dd1cc8d075",
        "part": "whole"
       },
       "id": "24010b16-91a4-4b4c-a40b-afe3f05b1893"
      }
     }
    },
    "3df3596a-2102-4a55-89ab-9086c719bba1": {
     "id": "3df3596a-2102-4a55-89ab-9086c719bba1",
     "prev": "ae40c4ca-c75a-446e-8294-fbfab3371ff7",
     "regions": {
      "11ac4e57-83de-4047-8220-e3bbaf83ebc5": {
       "attrs": {
        "height": 0.8,
        "width": 0.8,
        "x": 0.1,
        "y": 0.1
       },
       "content": {
        "cell": "ad7d42a5-0cb7-427b-a370-4c1669bd73dc",
        "part": "whole"
       },
       "id": "11ac4e57-83de-4047-8220-e3bbaf83ebc5"
      }
     }
    },
    "3f9c377e-3ba9-47a2-8f9a-6c6a3122f052": {
     "id": "3f9c377e-3ba9-47a2-8f9a-6c6a3122f052",
     "prev": "bcc4c953-4c12-441c-9751-2bc8129efc2c",
     "regions": {
      "4c5832c2-0803-4442-87a6-d30c6d392083": {
       "attrs": {
        "height": 0.8,
        "width": 0.8,
        "x": 0.1,
        "y": 0.1
       },
       "content": {
        "cell": "e7936ce1-7662-4c7b-bc7f-5d799fd735b7",
        "part": "whole"
       },
       "id": "4c5832c2-0803-4442-87a6-d30c6d392083"
      }
     }
    },
    "3f9e8fb2-0d87-4f6a-9441-f16d69def8f0": {
     "id": "3f9e8fb2-0d87-4f6a-9441-f16d69def8f0",
     "prev": "a6ee6f2a-7d6e-4d9c-8ad6-4511d93ca38f",
     "regions": {
      "31f4ceb6-b6f3-46e0-a519-23509e4c9741": {
       "attrs": {
        "height": 0.8,
        "width": 0.8,
        "x": 0.1,
        "y": 0.1
       },
       "content": {
        "cell": "de8005c3-e4b5-4a92-a1ca-2b9871cd8177",
        "part": "whole"
       },
       "id": "31f4ceb6-b6f3-46e0-a519-23509e4c9741"
      }
     }
    },
    "41922a37-7809-4305-a13f-8ca1137cf700": {
     "id": "41922a37-7809-4305-a13f-8ca1137cf700",
     "prev": "9a805bbe-2dbd-4ffa-b36c-faed094ddfc2",
     "regions": {
      "a7460046-feff-4c1a-836a-c608372f048c": {
       "attrs": {
        "height": 0.8,
        "width": 0.8,
        "x": 0.1,
        "y": 0.1
       },
       "content": {
        "cell": "4ec02e25-230b-4dc4-b93d-248362bb6668",
        "part": "whole"
       },
       "id": "a7460046-feff-4c1a-836a-c608372f048c"
      }
     }
    },
    "48d4842a-1bff-4e13-b103-74f76aab740d": {
     "id": "48d4842a-1bff-4e13-b103-74f76aab740d",
     "prev": "8a5e2c9d-f98c-43b2-bdf4-871a8d453c05",
     "regions": {
      "20d3599e-5c78-4d8f-b2bc-ae7eb22a663a": {
       "attrs": {
        "height": 0.8,
        "width": 0.8,
        "x": 0.1,
        "y": 0.1
       },
       "content": {
        "cell": "65d55d3d-83d3-4e07-a3ec-721e8b1f3b1f",
        "part": "whole"
       },
       "id": "20d3599e-5c78-4d8f-b2bc-ae7eb22a663a"
      }
     }
    },
    "48dc5465-d7fc-4b8c-aab1-a0dd5e70fd11": {
     "id": "48dc5465-d7fc-4b8c-aab1-a0dd5e70fd11",
     "prev": "f2aec887-b5c6-4392-8980-acc096112791",
     "regions": {
      "6d4936b9-2a59-4df2-b12d-80be5f164b16": {
       "attrs": {
        "height": 0.8,
        "width": 0.8,
        "x": 0.1,
        "y": 0.1
       },
       "content": {
        "cell": "c480956a-f07e-4f3f-b1d6-b7145915b97f",
        "part": "whole"
       },
       "id": "6d4936b9-2a59-4df2-b12d-80be5f164b16"
      }
     }
    },
    "49a10bef-c875-4842-8f82-531e22fcefa1": {
     "id": "49a10bef-c875-4842-8f82-531e22fcefa1",
     "prev": "54900b8c-dda8-4400-867b-02af91a72c86",
     "regions": {
      "33845892-3349-4582-97ff-35576036fd13": {
       "attrs": {
        "height": 0.8,
        "width": 0.8,
        "x": 0.1,
        "y": 0.1
       },
       "content": {
        "cell": "b5f57013-8166-47f0-a4b1-8eb34c0670d6",
        "part": "whole"
       },
       "id": "33845892-3349-4582-97ff-35576036fd13"
      }
     }
    },
    "4a92a331-95c3-499d-88c1-dbc638b055e6": {
     "id": "4a92a331-95c3-499d-88c1-dbc638b055e6",
     "prev": "26143843-c506-40ec-b0f1-e0b03d5aff8b",
     "regions": {
      "5fd770ab-8c4e-40c0-a93a-c1c4ccdc53ca": {
       "attrs": {
        "height": 0.8,
        "width": 0.8,
        "x": 0.1,
        "y": 0.1
       },
       "content": {
        "cell": "ef71dc6e-6241-4c9d-9c35-1b3570720607",
        "part": "whole"
       },
       "id": "5fd770ab-8c4e-40c0-a93a-c1c4ccdc53ca"
      }
     }
    },
    "4bd9978d-7f41-46de-ad22-53a6e6e23185": {
     "id": "4bd9978d-7f41-46de-ad22-53a6e6e23185",
     "prev": "fd0caf8a-3d5d-41f3-9caa-08c21b3f26a8",
     "regions": {
      "21a820f0-e149-4df7-af32-efd471c94808": {
       "attrs": {
        "height": 0.8,
        "width": 0.8,
        "x": 0.1,
        "y": 0.1
       },
       "content": {
        "cell": "492f5304-26dd-4e66-a053-7c971820b37f",
        "part": "whole"
       },
       "id": "21a820f0-e149-4df7-af32-efd471c94808"
      }
     }
    },
    "4c1fa7cf-0db7-40e4-aa77-2f9011b9ee4e": {
     "id": "4c1fa7cf-0db7-40e4-aa77-2f9011b9ee4e",
     "prev": "6ef059ce-1031-4305-84f9-11b2db6fbe67",
     "regions": {
      "53e1996c-f4a4-4362-b5b0-ef507a7b95a3": {
       "attrs": {
        "height": 0.8,
        "width": 0.8,
        "x": 0.1,
        "y": 0.1
       },
       "content": {
        "cell": "eb190480-c43c-45bb-aeca-695375f0d8e6",
        "part": "whole"
       },
       "id": "53e1996c-f4a4-4362-b5b0-ef507a7b95a3"
      }
     }
    },
    "4e3c853f-29e9-4a8f-95fe-97e3c3168b33": {
     "id": "4e3c853f-29e9-4a8f-95fe-97e3c3168b33",
     "prev": "f4a79847-e440-4549-ac36-12c5f7ae16cd",
     "regions": {
      "58211f9e-84d3-4276-a738-bc0423f25623": {
       "attrs": {
        "height": 0.8,
        "width": 0.8,
        "x": 0.1,
        "y": 0.1
       },
       "content": {
        "cell": "b596eaf7-4e10-464b-a6c9-bc6c7ea47c5c",
        "part": "whole"
       },
       "id": "58211f9e-84d3-4276-a738-bc0423f25623"
      }
     }
    },
    "51c2b6eb-da6f-4d26-940b-96e6da8eeba9": {
     "id": "51c2b6eb-da6f-4d26-940b-96e6da8eeba9",
     "prev": "3371c111-ef6d-4e50-b086-dafb46c1820f",
     "regions": {
      "e1f0d0df-de07-4135-8dde-293bff600cba": {
       "attrs": {
        "height": 0.8,
        "width": 0.8,
        "x": 0.1,
        "y": 0.1
       },
       "content": {
        "cell": "0266279b-0a9a-4625-bf56-25dcdc3ed960",
        "part": "whole"
       },
       "id": "e1f0d0df-de07-4135-8dde-293bff600cba"
      }
     }
    },
    "51f45016-1aa3-4c90-a62a-263522722566": {
     "id": "51f45016-1aa3-4c90-a62a-263522722566",
     "prev": "0be7bcc1-ec21-4dc5-a2aa-8949340fb4ee",
     "regions": {
      "707f7fdf-48c7-450d-b9f0-bc783d441ea8": {
       "attrs": {
        "height": 0.8,
        "width": 0.8,
        "x": 0.1,
        "y": 0.1
       },
       "content": {
        "cell": "27fe706c-9327-4844-9521-3e436c33a60c",
        "part": "whole"
       },
       "id": "707f7fdf-48c7-450d-b9f0-bc783d441ea8"
      }
     }
    },
    "52150835-89bf-4187-9ecd-71fb5344896c": {
     "id": "52150835-89bf-4187-9ecd-71fb5344896c",
     "prev": "54e70085-001f-4d0a-8a1f-795d1d4419d2",
     "regions": {
      "37b5dcad-166a-4d5b-b949-50233689d3d0": {
       "attrs": {
        "height": 0.8,
        "width": 0.8,
        "x": 0.1,
        "y": 0.1
       },
       "content": {
        "cell": "d871227b-d4dd-40c1-a5ad-9fa3f362b878",
        "part": "whole"
       },
       "id": "37b5dcad-166a-4d5b-b949-50233689d3d0"
      }
     }
    },
    "52601c7e-15d5-4080-88d4-d83f3c51d6e3": {
     "id": "52601c7e-15d5-4080-88d4-d83f3c51d6e3",
     "prev": "7afe4c69-ffae-4a44-aa14-bd9055531b66",
     "regions": {
      "d29a3773-e527-4504-a013-cd70626753b8": {
       "attrs": {
        "height": 0.8,
        "width": 0.8,
        "x": 0.1,
        "y": 0.1
       },
       "content": {
        "cell": "1fc321cc-0ece-41d5-8edd-d69203c65255",
        "part": "whole"
       },
       "id": "d29a3773-e527-4504-a013-cd70626753b8"
      }
     }
    },
    "52b84271-2424-430d-bf1e-78ad464466d8": {
     "id": "52b84271-2424-430d-bf1e-78ad464466d8",
     "prev": "9621d9cb-f173-44a8-80b6-d9a7eeda1035",
     "regions": {
      "d2a751f3-4607-40e0-8c6a-a0917c52a557": {
       "attrs": {
        "height": 0.8,
        "width": 0.8,
        "x": 0.1,
        "y": 0.1
       },
       "content": {
        "cell": "7de047d9-e444-4106-9e95-a6b86a0da0b6",
        "part": "whole"
       },
       "id": "d2a751f3-4607-40e0-8c6a-a0917c52a557"
      }
     }
    },
    "5320ff24-3d91-439d-ab6f-aaa8a39f37a7": {
     "id": "5320ff24-3d91-439d-ab6f-aaa8a39f37a7",
     "prev": "49a10bef-c875-4842-8f82-531e22fcefa1",
     "regions": {
      "8c2e941e-0bf7-4074-83f3-aa702dd7bc6f": {
       "attrs": {
        "height": 0.8,
        "width": 0.8,
        "x": 0.1,
        "y": 0.1
       },
       "content": {
        "cell": "3053de36-47f9-4381-8f4c-56a0dfeab6ba",
        "part": "whole"
       },
       "id": "8c2e941e-0bf7-4074-83f3-aa702dd7bc6f"
      }
     }
    },
    "536cb1fd-855a-4fc4-985c-68c23940d8de": {
     "id": "536cb1fd-855a-4fc4-985c-68c23940d8de",
     "prev": "1057ac0a-e317-4e89-a987-2e41ccf94195",
     "regions": {
      "25f8b79c-aac0-4713-a885-e49bef97674f": {
       "attrs": {
        "height": 0.8,
        "width": 0.8,
        "x": 0.1,
        "y": 0.1
       },
       "content": {
        "cell": "b2ac494e-375a-408d-ad93-9ee0de749a8c",
        "part": "whole"
       },
       "id": "25f8b79c-aac0-4713-a885-e49bef97674f"
      }
     }
    },
    "54900b8c-dda8-4400-867b-02af91a72c86": {
     "id": "54900b8c-dda8-4400-867b-02af91a72c86",
     "prev": "2d0fcc61-8e3f-4086-9ef6-1066462d3b1c",
     "regions": {
      "21ced09b-8c95-4c75-be15-249dbcc3c5fd": {
       "attrs": {
        "height": 0.8,
        "width": 0.8,
        "x": 0.1,
        "y": 0.1
       },
       "content": {
        "cell": "66bfcfea-981d-45e4-9746-66e647572cbe",
        "part": "whole"
       },
       "id": "21ced09b-8c95-4c75-be15-249dbcc3c5fd"
      }
     }
    },
    "54e70085-001f-4d0a-8a1f-795d1d4419d2": {
     "id": "54e70085-001f-4d0a-8a1f-795d1d4419d2",
     "prev": "b3078405-004d-40f7-b3f2-3038aff10da4",
     "regions": {
      "a6617617-6e98-45c0-bba6-6a08a43f4384": {
       "attrs": {
        "height": 0.8,
        "width": 0.8,
        "x": 0.1,
        "y": 0.1
       },
       "content": {
        "cell": "f102e256-50cc-43d9-94fc-7cb973bbbf9e",
        "part": "whole"
       },
       "id": "a6617617-6e98-45c0-bba6-6a08a43f4384"
      }
     }
    },
    "5532ce63-059b-4216-9065-4c46bd7d89f7": {
     "id": "5532ce63-059b-4216-9065-4c46bd7d89f7",
     "prev": "bf5506a3-80c6-4637-9532-8dc03c52b679",
     "regions": {
      "6c41faf5-64dc-41c7-a361-45b5595926fe": {
       "attrs": {
        "height": 0.8,
        "width": 0.8,
        "x": 0.1,
        "y": 0.1
       },
       "content": {
        "cell": "324f8ab4-47a7-47bb-809f-1086cf588822",
        "part": "whole"
       },
       "id": "6c41faf5-64dc-41c7-a361-45b5595926fe"
      }
     }
    },
    "55334915-ab75-465f-bf45-ce4dd13bbb20": {
     "id": "55334915-ab75-465f-bf45-ce4dd13bbb20",
     "prev": "f8392f0b-5089-4d5e-84eb-e1722a4c85aa",
     "regions": {
      "e8bb24be-40fa-4c98-8d15-c8b9cd53a12b": {
       "attrs": {
        "height": 0.8,
        "width": 0.8,
        "x": 0.1,
        "y": 0.1
       },
       "content": {
        "cell": "fa50d4c7-be82-44ce-9b8f-58da1fbd29da",
        "part": "whole"
       },
       "id": "e8bb24be-40fa-4c98-8d15-c8b9cd53a12b"
      }
     }
    },
    "5732d044-c90a-4dd3-b9c1-8b9ad80afc91": {
     "id": "5732d044-c90a-4dd3-b9c1-8b9ad80afc91",
     "prev": "76da24ba-b1a3-465e-8ff1-b21d5656834a",
     "regions": {
      "a7aaab41-a806-43da-a783-694e01564a3b": {
       "attrs": {
        "height": 0.8,
        "width": 0.8,
        "x": 0.1,
        "y": 0.1
       },
       "content": {
        "cell": "f7e8b4a4-6320-40f5-8a00-0c76efbb34c1",
        "part": "whole"
       },
       "id": "a7aaab41-a806-43da-a783-694e01564a3b"
      }
     }
    },
    "5836c36f-6255-49e8-9fda-bb25f10a071b": {
     "id": "5836c36f-6255-49e8-9fda-bb25f10a071b",
     "prev": "f7ddf4dc-80d7-481b-9d21-1166031f8c04",
     "regions": {
      "b8e002e3-79f6-44c6-94c0-d5904c22041d": {
       "attrs": {
        "height": 0.8,
        "width": 0.8,
        "x": 0.1,
        "y": 0.1
       },
       "content": {
        "cell": "7540392f-5b0c-4b3d-af05-d16b033e489f",
        "part": "whole"
       },
       "id": "b8e002e3-79f6-44c6-94c0-d5904c22041d"
      }
     }
    },
    "5daa9c02-c5cb-41e9-9926-c187780a0f88": {
     "id": "5daa9c02-c5cb-41e9-9926-c187780a0f88",
     "prev": "f0500b2c-de07-412a-b94d-39bd77c9f6e2",
     "regions": {
      "68650477-dbb3-4baa-bd85-f9c3109c1b1c": {
       "attrs": {
        "height": 0.8,
        "width": 0.8,
        "x": 0.1,
        "y": 0.1
       },
       "content": {
        "cell": "73248ff9-96ab-4911-a605-a2656df5439d",
        "part": "whole"
       },
       "id": "68650477-dbb3-4baa-bd85-f9c3109c1b1c"
      }
     }
    },
    "5f42ae8b-f65d-4b99-8eaf-520303ff95da": {
     "id": "5f42ae8b-f65d-4b99-8eaf-520303ff95da",
     "prev": "a70aa22d-70a4-4ef9-84ce-5abf64e9a9c4",
     "regions": {
      "931f438a-488f-41cd-953a-42b1f0d9f11b": {
       "attrs": {
        "height": 0.8,
        "width": 0.8,
        "x": 0.1,
        "y": 0.1
       },
       "content": {
        "cell": "04dd2699-7471-4328-9551-fd7d5b32d4f1",
        "part": "whole"
       },
       "id": "931f438a-488f-41cd-953a-42b1f0d9f11b"
      }
     }
    },
    "5fa00ae9-67e1-48af-b9f9-1c9dc6bd9cce": {
     "id": "5fa00ae9-67e1-48af-b9f9-1c9dc6bd9cce",
     "prev": "77589c9b-bb73-4c33-83fd-047927847b02",
     "regions": {
      "807b4cec-3b29-45ad-8115-781f575d01de": {
       "attrs": {
        "height": 0.8,
        "width": 0.8,
        "x": 0.1,
        "y": 0.1
       },
       "content": {
        "cell": "017f3b47-bcf8-4afb-a814-b39120867dc1",
        "part": "whole"
       },
       "id": "807b4cec-3b29-45ad-8115-781f575d01de"
      }
     }
    },
    "60dd0f4b-356d-4ef4-bb3d-27ee9e270764": {
     "id": "60dd0f4b-356d-4ef4-bb3d-27ee9e270764",
     "prev": "2833646f-f9fa-4e0a-ae67-9ca9475599ff",
     "regions": {
      "a8f2e928-cbb5-423f-9344-335d28663019": {
       "attrs": {
        "height": 0.8,
        "width": 0.8,
        "x": 0.1,
        "y": 0.1
       },
       "content": {
        "cell": "a29dec58-b4fc-47a5-ab7b-67529d16f9a7",
        "part": "whole"
       },
       "id": "a8f2e928-cbb5-423f-9344-335d28663019"
      }
     }
    },
    "617fab4d-071d-4b09-94eb-5b459e8fc76a": {
     "id": "617fab4d-071d-4b09-94eb-5b459e8fc76a",
     "prev": "781a3039-1217-4bad-82e2-8513482cf86d",
     "regions": {
      "1f0a7267-aa44-4a10-af11-4c6e111c94ea": {
       "attrs": {
        "height": 0.8,
        "width": 0.8,
        "x": 0.1,
        "y": 0.1
       },
       "content": {
        "cell": "79fef2fe-2980-4355-aa59-3220f463fffd",
        "part": "whole"
       },
       "id": "1f0a7267-aa44-4a10-af11-4c6e111c94ea"
      }
     }
    },
    "61f8bb5f-c885-4667-895f-1b4b168e915b": {
     "id": "61f8bb5f-c885-4667-895f-1b4b168e915b",
     "prev": "5fa00ae9-67e1-48af-b9f9-1c9dc6bd9cce",
     "regions": {
      "74ec2938-cfa3-41f1-8b64-a4f927be6a57": {
       "attrs": {
        "height": 0.8,
        "width": 0.8,
        "x": 0.1,
        "y": 0.1
       },
       "content": {
        "cell": "d7fdd4f8-cfe4-4d35-9027-04a8f895bd39",
        "part": "whole"
       },
       "id": "74ec2938-cfa3-41f1-8b64-a4f927be6a57"
      }
     }
    },
    "63b65a05-1500-4663-8a86-e90ae8d0892b": {
     "id": "63b65a05-1500-4663-8a86-e90ae8d0892b",
     "prev": "5320ff24-3d91-439d-ab6f-aaa8a39f37a7",
     "regions": {
      "27feddd7-a249-4a73-ab6a-db0a9889f568": {
       "attrs": {
        "height": 0.8,
        "width": 0.8,
        "x": 0.1,
        "y": 0.1
       },
       "content": {
        "cell": "7dd51bf0-751a-4a1f-8c11-8c92454ddfe8",
        "part": "whole"
       },
       "id": "27feddd7-a249-4a73-ab6a-db0a9889f568"
      }
     }
    },
    "646615f6-a696-4df9-b2bf-9fa4972a3fd6": {
     "id": "646615f6-a696-4df9-b2bf-9fa4972a3fd6",
     "prev": "a73bb454-1e38-4a4c-b86c-d53f515130ce",
     "regions": {
      "b3358fd4-f5dd-42f0-b606-b30815b7af87": {
       "attrs": {
        "height": 0.8,
        "width": 0.8,
        "x": 0.1,
        "y": 0.1
       },
       "content": {
        "cell": "489b9702-a852-4f72-b58d-d6fc4542e88d",
        "part": "whole"
       },
       "id": "b3358fd4-f5dd-42f0-b606-b30815b7af87"
      }
     }
    },
    "64aa93f7-d0a4-4f3f-9152-cb117c0d33d2": {
     "id": "64aa93f7-d0a4-4f3f-9152-cb117c0d33d2",
     "prev": "2fdee9d1-218e-4614-9c26-c85a8539bedf",
     "regions": {
      "5c3d01c1-2069-4eaf-ac4a-4fae65499b02": {
       "attrs": {
        "height": 0.8,
        "width": 0.8,
        "x": 0.1,
        "y": 0.1
       },
       "content": {
        "cell": "f3163aac-b6b4-4828-9fdc-0016831ba4c2",
        "part": "whole"
       },
       "id": "5c3d01c1-2069-4eaf-ac4a-4fae65499b02"
      }
     }
    },
    "65406cb9-9608-4b17-b14f-fe2d07d4636d": {
     "id": "65406cb9-9608-4b17-b14f-fe2d07d4636d",
     "prev": "61f8bb5f-c885-4667-895f-1b4b168e915b",
     "regions": {
      "7ffb80d4-6f0c-4f7d-a42c-9b1577ba91e6": {
       "attrs": {
        "height": 0.8,
        "width": 0.8,
        "x": 0.1,
        "y": 0.1
       },
       "content": {
        "cell": "31680d68-3153-4b2b-8b9d-79df2337e67d",
        "part": "whole"
       },
       "id": "7ffb80d4-6f0c-4f7d-a42c-9b1577ba91e6"
      }
     }
    },
    "657f5d9e-6d8b-4c8e-8e53-c964feee9c28": {
     "id": "657f5d9e-6d8b-4c8e-8e53-c964feee9c28",
     "prev": "65406cb9-9608-4b17-b14f-fe2d07d4636d",
     "regions": {
      "da2870d5-20a2-49ce-93ed-8012c1a26004": {
       "attrs": {
        "height": 0.8,
        "width": 0.8,
        "x": 0.1,
        "y": 0.1
       },
       "content": {
        "cell": "f71b60e9-e8e7-4b96-bc1c-a9fe3530798b",
        "part": "whole"
       },
       "id": "da2870d5-20a2-49ce-93ed-8012c1a26004"
      }
     }
    },
    "672389ae-de99-4fe6-b2d6-1ce85619871f": {
     "id": "672389ae-de99-4fe6-b2d6-1ce85619871f",
     "prev": "6a66570c-34cc-4d2c-bbf5-567ebefcf7e6",
     "regions": {
      "62f33897-0594-42b8-adac-65059f390ca5": {
       "attrs": {
        "height": 0.8,
        "width": 0.8,
        "x": 0.1,
        "y": 0.1
       },
       "content": {
        "cell": "0b5f5737-3bbf-4589-a0cf-cef8cc550611",
        "part": "whole"
       },
       "id": "62f33897-0594-42b8-adac-65059f390ca5"
      }
     }
    },
    "6723ae79-c149-46a7-98f9-d650c1fc7584": {
     "id": "6723ae79-c149-46a7-98f9-d650c1fc7584",
     "prev": "d3aadec2-8043-43db-9631-ed468c9eba61",
     "regions": {
      "8d5b41fa-f2d5-4e41-9a48-114aa859fbc6": {
       "attrs": {
        "height": 0.8,
        "width": 0.8,
        "x": 0.1,
        "y": 0.1
       },
       "content": {
        "cell": "a34f347c-3fa5-4963-b01e-db885c857a0b",
        "part": "whole"
       },
       "id": "8d5b41fa-f2d5-4e41-9a48-114aa859fbc6"
      }
     }
    },
    "6973a990-a560-45da-bf08-33dab23595da": {
     "id": "6973a990-a560-45da-bf08-33dab23595da",
     "prev": "901c592a-d3a7-47e0-9f8e-fd0e600082a2",
     "regions": {
      "f3e088d1-2ceb-4c2f-9394-6a07fe954713": {
       "attrs": {
        "height": 0.8,
        "width": 0.8,
        "x": 0.1,
        "y": 0.1
       },
       "content": {
        "cell": "a214414a-e9a8-4cb1-ac91-5105ffee0cd3",
        "part": "whole"
       },
       "id": "f3e088d1-2ceb-4c2f-9394-6a07fe954713"
      }
     }
    },
    "6a66570c-34cc-4d2c-bbf5-567ebefcf7e6": {
     "id": "6a66570c-34cc-4d2c-bbf5-567ebefcf7e6",
     "prev": "b66ac8ba-078b-4978-92e9-5b35d4dfb970",
     "regions": {
      "b6f5217b-78f0-40af-b4d0-321633012a8f": {
       "attrs": {
        "height": 0.8,
        "width": 0.8,
        "x": 0.1,
        "y": 0.1
       },
       "content": {
        "cell": "48e7cc35-f38e-41dd-9eec-aa4bea34d264",
        "part": "whole"
       },
       "id": "b6f5217b-78f0-40af-b4d0-321633012a8f"
      }
     }
    },
    "6ba1c3fb-c328-4093-8c6a-333576be8650": {
     "id": "6ba1c3fb-c328-4093-8c6a-333576be8650",
     "prev": "b511fcfd-7d0a-4e7a-b0c3-937156efc856",
     "regions": {
      "5cf3b2cd-8f01-4014-b850-049169f28dfb": {
       "attrs": {
        "height": 0.8,
        "width": 0.8,
        "x": 0.1,
        "y": 0.1
       },
       "content": {
        "cell": "ca81541f-0d79-497a-810d-412d08530efa",
        "part": "whole"
       },
       "id": "5cf3b2cd-8f01-4014-b850-049169f28dfb"
      }
     }
    },
    "6ccdc158-923a-414b-b053-08b1b4f605a6": {
     "id": "6ccdc158-923a-414b-b053-08b1b4f605a6",
     "prev": "657f5d9e-6d8b-4c8e-8e53-c964feee9c28",
     "regions": {
      "d011b3b4-3cd8-4963-86ed-e42046db7822": {
       "attrs": {
        "height": 0.8,
        "width": 0.8,
        "x": 0.1,
        "y": 0.1
       },
       "content": {
        "cell": "39dc5eff-394b-46b3-aa9d-55c70bbd9496",
        "part": "whole"
       },
       "id": "d011b3b4-3cd8-4963-86ed-e42046db7822"
      }
     }
    },
    "6cd922e2-553e-4278-a852-3c4d61f1c906": {
     "id": "6cd922e2-553e-4278-a852-3c4d61f1c906",
     "prev": "f7509fbd-ab9a-4911-9138-6b1af48f01f0",
     "regions": {
      "6478a5e9-757e-46dd-90fe-8612507d9b8b": {
       "attrs": {
        "height": 0.8,
        "width": 0.8,
        "x": 0.1,
        "y": 0.1
       },
       "content": {
        "cell": "a5b08f83-1ffd-4a88-941b-a8471101b857",
        "part": "whole"
       },
       "id": "6478a5e9-757e-46dd-90fe-8612507d9b8b"
      }
     }
    },
    "6d1530ec-0fc2-45ee-b1b6-60385c7ed2b7": {
     "id": "6d1530ec-0fc2-45ee-b1b6-60385c7ed2b7",
     "prev": "36621d11-05f4-4c7f-9296-c0b6a592bc0d",
     "regions": {
      "f25386c8-fbca-4090-aac7-87bebe945a9e": {
       "attrs": {
        "height": 0.8,
        "width": 0.8,
        "x": 0.1,
        "y": 0.1
       },
       "content": {
        "cell": "d26c7c8e-082f-4ab2-b241-bf80b58e2921",
        "part": "whole"
       },
       "id": "f25386c8-fbca-4090-aac7-87bebe945a9e"
      }
     }
    },
    "6d23e560-470b-43c3-a8e8-9132c5b81df2": {
     "id": "6d23e560-470b-43c3-a8e8-9132c5b81df2",
     "prev": "1d50f252-fd67-42e5-addf-3f9d7a28dd31",
     "regions": {
      "5533b4b8-f6e1-4aa8-857e-d6e225bbaed5": {
       "attrs": {
        "height": 0.8,
        "width": 0.8,
        "x": 0.1,
        "y": 0.1
       },
       "content": {
        "cell": "8c66301a-1f3a-4bc3-8f22-9fa545147e23",
        "part": "whole"
       },
       "id": "5533b4b8-f6e1-4aa8-857e-d6e225bbaed5"
      }
     }
    },
    "6ef059ce-1031-4305-84f9-11b2db6fbe67": {
     "id": "6ef059ce-1031-4305-84f9-11b2db6fbe67",
     "prev": "35e55e54-6678-40ca-a95e-f399c2d0cd71",
     "regions": {
      "fe173426-e849-4207-90bf-fc93106ab712": {
       "attrs": {
        "height": 0.8,
        "width": 0.8,
        "x": 0.1,
        "y": 0.1
       },
       "content": {
        "cell": "06b094bc-f809-4e9d-9317-467f755dfc7a",
        "part": "whole"
       },
       "id": "fe173426-e849-4207-90bf-fc93106ab712"
      }
     }
    },
    "70b54139-b705-4d90-97a8-dc907d239a9d": {
     "id": "70b54139-b705-4d90-97a8-dc907d239a9d",
     "prev": "3f9c377e-3ba9-47a2-8f9a-6c6a3122f052",
     "regions": {
      "1b015b3a-fbc5-4d33-8e1e-b9123642377d": {
       "attrs": {
        "height": 0.8,
        "width": 0.8,
        "x": 0.1,
        "y": 0.1
       },
       "content": {
        "cell": "b384626e-1dd5-4dff-a9a2-72130a5f0a49",
        "part": "whole"
       },
       "id": "1b015b3a-fbc5-4d33-8e1e-b9123642377d"
      }
     }
    },
    "71138d00-1de1-4255-b423-0fbca3e37521": {
     "id": "71138d00-1de1-4255-b423-0fbca3e37521",
     "prev": "3151943d-b59d-46ef-9cde-db0a0c80c566",
     "regions": {
      "3ec791e0-90c2-4bc0-9bf8-f09b654dec28": {
       "attrs": {
        "height": 0.8,
        "width": 0.8,
        "x": 0.1,
        "y": 0.1
       },
       "content": {
        "cell": "f416b77c-3817-4ba4-b076-8d065e53d09e",
        "part": "whole"
       },
       "id": "3ec791e0-90c2-4bc0-9bf8-f09b654dec28"
      }
     }
    },
    "730c66a5-e473-418e-a1fa-3ba3d7a1589a": {
     "id": "730c66a5-e473-418e-a1fa-3ba3d7a1589a",
     "prev": "ea102ea8-9425-4d87-8828-c84ad2a08d17",
     "regions": {
      "9812e8ad-8978-4e3a-af78-58107f51b18c": {
       "attrs": {
        "height": 0.8,
        "width": 0.8,
        "x": 0.1,
        "y": 0.1
       },
       "content": {
        "cell": "08f6f0c4-56ee-44a2-84f8-8fd6819a9d52",
        "part": "whole"
       },
       "id": "9812e8ad-8978-4e3a-af78-58107f51b18c"
      }
     }
    },
    "73aff777-27bc-4986-95a1-449531e033ff": {
     "id": "73aff777-27bc-4986-95a1-449531e033ff",
     "prev": "2db7c0f2-c03b-45a0-b05b-d3dfed8ba720",
     "regions": {
      "7432b002-bb52-4a0a-8308-31de294ed195": {
       "attrs": {
        "height": 0.8,
        "width": 0.8,
        "x": 0.1,
        "y": 0.1
       },
       "content": {
        "cell": "3e6e8dfd-88cb-472d-8c78-5ec174ea5193",
        "part": "whole"
       },
       "id": "7432b002-bb52-4a0a-8308-31de294ed195"
      }
     }
    },
    "749ea597-76ca-4863-a9cf-e9d2322a96a4": {
     "id": "749ea597-76ca-4863-a9cf-e9d2322a96a4",
     "prev": "ec81f128-c459-4126-b075-464ea504721f",
     "regions": {
      "24c005a3-e511-4ffc-a09f-5773a52904e7": {
       "attrs": {
        "height": 0.8,
        "width": 0.8,
        "x": 0.1,
        "y": 0.1
       },
       "content": {
        "cell": "ffb7631f-cc98-4285-9663-226c09fff590",
        "part": "whole"
       },
       "id": "24c005a3-e511-4ffc-a09f-5773a52904e7"
      }
     }
    },
    "74ce85d7-ac59-4cc2-9390-94a2fe729841": {
     "id": "74ce85d7-ac59-4cc2-9390-94a2fe729841",
     "prev": "3b95d047-7768-489b-9027-111bdb2d588d",
     "regions": {
      "03330b1a-8991-4121-85fe-f0bb9fa4f161": {
       "attrs": {
        "height": 0.8,
        "width": 0.8,
        "x": 0.1,
        "y": 0.1
       },
       "content": {
        "cell": "d903a44e-29bb-4898-b0f2-eba740edec3c",
        "part": "whole"
       },
       "id": "03330b1a-8991-4121-85fe-f0bb9fa4f161"
      }
     }
    },
    "752a273d-a6b1-45d0-a199-3507c7bd8015": {
     "id": "752a273d-a6b1-45d0-a199-3507c7bd8015",
     "prev": "996d17dd-79a6-44db-adfc-bb7b973b4ef8",
     "regions": {
      "4ea228be-8745-42c1-bc7f-b7154102535f": {
       "attrs": {
        "height": 0.8,
        "width": 0.8,
        "x": 0.1,
        "y": 0.1
       },
       "content": {
        "cell": "f57ff21a-61e6-4103-a2b0-bd02db094b1d",
        "part": "whole"
       },
       "id": "4ea228be-8745-42c1-bc7f-b7154102535f"
      }
     }
    },
    "76674591-bc27-4971-9404-fad1395710c2": {
     "id": "76674591-bc27-4971-9404-fad1395710c2",
     "prev": "bf4a26eb-4916-4837-8400-13dd88199482",
     "regions": {
      "946ae2ec-102e-40e7-ad50-830a814d45f4": {
       "attrs": {
        "height": 0.8,
        "width": 0.8,
        "x": 0.1,
        "y": 0.1
       },
       "content": {
        "cell": "ac73781f-1113-47c9-bc0b-ff1c6f328aa2",
        "part": "whole"
       },
       "id": "946ae2ec-102e-40e7-ad50-830a814d45f4"
      }
     }
    },
    "76da24ba-b1a3-465e-8ff1-b21d5656834a": {
     "id": "76da24ba-b1a3-465e-8ff1-b21d5656834a",
     "prev": "4bd9978d-7f41-46de-ad22-53a6e6e23185",
     "regions": {
      "39ed17a1-3a1f-47c5-aa11-68578ff1333d": {
       "attrs": {
        "height": 0.8,
        "width": 0.8,
        "x": 0.1,
        "y": 0.1
       },
       "content": {
        "cell": "190362e8-de5b-4221-8796-abe8c467029b",
        "part": "whole"
       },
       "id": "39ed17a1-3a1f-47c5-aa11-68578ff1333d"
      }
     }
    },
    "77589c9b-bb73-4c33-83fd-047927847b02": {
     "id": "77589c9b-bb73-4c33-83fd-047927847b02",
     "prev": "0912a4aa-0701-46df-b147-638a992ef413",
     "regions": {
      "585cb34f-eeab-4b6f-81e7-eedc3318a5d1": {
       "attrs": {
        "height": 0.8,
        "width": 0.8,
        "x": 0.1,
        "y": 0.1
       },
       "content": {
        "cell": "6418a920-9525-4608-992b-04e45e00bdb1",
        "part": "whole"
       },
       "id": "585cb34f-eeab-4b6f-81e7-eedc3318a5d1"
      }
     }
    },
    "77d3189f-afeb-4291-b996-5c7734014627": {
     "id": "77d3189f-afeb-4291-b996-5c7734014627",
     "prev": "237577b0-9379-4ce4-a171-3889a3d42450",
     "regions": {
      "60d61104-0186-49d6-a8bb-68be7b6b192f": {
       "attrs": {
        "height": 0.8,
        "width": 0.8,
        "x": 0.1,
        "y": 0.1
       },
       "content": {
        "cell": "10bbf32c-3190-4853-b5b7-47d3048a2732",
        "part": "whole"
       },
       "id": "60d61104-0186-49d6-a8bb-68be7b6b192f"
      }
     }
    },
    "781a3039-1217-4bad-82e2-8513482cf86d": {
     "id": "781a3039-1217-4bad-82e2-8513482cf86d",
     "prev": "219e1659-447c-44ee-935e-9ebb107df7b1",
     "regions": {
      "9aaf2157-6975-44b5-b43d-da6917a872b9": {
       "attrs": {
        "height": 0.8,
        "width": 0.8,
        "x": 0.1,
        "y": 0.1
       },
       "content": {
        "cell": "aabebd8c-9653-4790-a1ac-5d6416a6a875",
        "part": "whole"
       },
       "id": "9aaf2157-6975-44b5-b43d-da6917a872b9"
      }
     }
    },
    "79a73629-d762-416b-9467-88c351794011": {
     "id": "79a73629-d762-416b-9467-88c351794011",
     "prev": "01be6c68-04ad-49f2-a11f-c403f5356a5b",
     "regions": {
      "bfa17a0e-ff80-42b6-8da9-04f764583c63": {
       "attrs": {
        "height": 0.8,
        "width": 0.8,
        "x": 0.1,
        "y": 0.1
       },
       "content": {
        "cell": "aad3f184-80d5-4588-ad1e-748d2788acba",
        "part": "whole"
       },
       "id": "bfa17a0e-ff80-42b6-8da9-04f764583c63"
      }
     }
    },
    "7a76fa27-83fe-4cc5-b7c8-68e20638cd66": {
     "id": "7a76fa27-83fe-4cc5-b7c8-68e20638cd66",
     "prev": "b858d381-df63-4a3c-9d55-7e73b93e0437",
     "regions": {
      "c4819d08-4803-4654-99e9-17e40a0698a4": {
       "attrs": {
        "height": 0.8,
        "width": 0.8,
        "x": 0.1,
        "y": 0.1
       },
       "content": {
        "cell": "ce0f95d9-9fc1-4828-b70e-b99e91820cea",
        "part": "whole"
       },
       "id": "c4819d08-4803-4654-99e9-17e40a0698a4"
      }
     }
    },
    "7afe4c69-ffae-4a44-aa14-bd9055531b66": {
     "id": "7afe4c69-ffae-4a44-aa14-bd9055531b66",
     "prev": "3090d9d4-1b3c-46fc-9832-3214854b933f",
     "regions": {
      "dc09be74-d531-4567-a800-85b06bb94532": {
       "attrs": {
        "height": 0.8,
        "width": 0.8,
        "x": 0.1,
        "y": 0.1
       },
       "content": {
        "cell": "5330ac64-e0b5-4fac-985f-07849473b7fb",
        "part": "whole"
       },
       "id": "dc09be74-d531-4567-a800-85b06bb94532"
      }
     }
    },
    "7c31b579-08d3-455d-9e24-b4622e757c42": {
     "id": "7c31b579-08d3-455d-9e24-b4622e757c42",
     "prev": "8e70763d-0dc3-4b8f-b0cd-6a355f321e8e",
     "regions": {
      "b433e703-fa13-4132-9e8f-216f80321779": {
       "attrs": {
        "height": 0.8,
        "width": 0.8,
        "x": 0.1,
        "y": 0.1
       },
       "content": {
        "cell": "4ca86a90-74ed-42a2-a46d-a42d4a28ddb5",
        "part": "whole"
       },
       "id": "b433e703-fa13-4132-9e8f-216f80321779"
      }
     }
    },
    "7cfff8ad-751a-47bb-852c-5e133999003e": {
     "id": "7cfff8ad-751a-47bb-852c-5e133999003e",
     "prev": "a9e43937-4f0f-4fc5-b478-0526c408d310",
     "regions": {
      "95e424e4-139b-423f-987c-97bf7e09bea5": {
       "attrs": {
        "height": 0.8,
        "width": 0.8,
        "x": 0.1,
        "y": 0.1
       },
       "content": {
        "cell": "2fdb7722-0318-4e21-b4c5-59c4c55d1f6a",
        "part": "whole"
       },
       "id": "95e424e4-139b-423f-987c-97bf7e09bea5"
      }
     }
    },
    "7e20bb10-3c4f-4fc7-bb12-c2725a5e9b7b": {
     "id": "7e20bb10-3c4f-4fc7-bb12-c2725a5e9b7b",
     "prev": "beea1280-1505-4afa-9ce4-9717b54e32de",
     "regions": {
      "ab53ec5c-9e9b-4c17-8283-2e02f0b5236b": {
       "attrs": {
        "height": 0.8,
        "width": 0.8,
        "x": 0.1,
        "y": 0.1
       },
       "content": {
        "cell": "053a878b-45b6-4880-8c45-d95f0ab23dc3",
        "part": "whole"
       },
       "id": "ab53ec5c-9e9b-4c17-8283-2e02f0b5236b"
      }
     }
    },
    "8202ef27-0cf2-47cd-8c6c-b4aa77d457b5": {
     "id": "8202ef27-0cf2-47cd-8c6c-b4aa77d457b5",
     "prev": "b6fb15a9-87e8-46f6-8963-e51cafeb24eb",
     "regions": {
      "d0f447af-a84a-4a25-b092-17dcd9d5df38": {
       "attrs": {
        "height": 0.8,
        "width": 0.8,
        "x": 0.1,
        "y": 0.1
       },
       "content": {
        "cell": "73667723-2bac-486f-ade3-aadcaac17ba8",
        "part": "whole"
       },
       "id": "d0f447af-a84a-4a25-b092-17dcd9d5df38"
      }
     }
    },
    "824afa7b-4073-40e6-a406-961f2d6c931a": {
     "id": "824afa7b-4073-40e6-a406-961f2d6c931a",
     "prev": "55334915-ab75-465f-bf45-ce4dd13bbb20",
     "regions": {
      "b64be922-96db-434d-8dd8-15bf4283c773": {
       "attrs": {
        "height": 0.8,
        "width": 0.8,
        "x": 0.1,
        "y": 0.1
       },
       "content": {
        "cell": "5daf2b81-614a-444e-b0ec-00d8a5ec0679",
        "part": "whole"
       },
       "id": "b64be922-96db-434d-8dd8-15bf4283c773"
      }
     }
    },
    "82a95c5c-b373-4466-b291-6d1b83ff157b": {
     "id": "82a95c5c-b373-4466-b291-6d1b83ff157b",
     "prev": "8202ef27-0cf2-47cd-8c6c-b4aa77d457b5",
     "regions": {
      "659b5e22-a8ad-428f-8ce1-5e63b0f7e1f1": {
       "attrs": {
        "height": 0.8,
        "width": 0.8,
        "x": 0.1,
        "y": 0.1
       },
       "content": {
        "cell": "73d03c54-b3c9-43fd-ba20-2ab6c9cc21ef",
        "part": "whole"
       },
       "id": "659b5e22-a8ad-428f-8ce1-5e63b0f7e1f1"
      }
     }
    },
    "82abee69-5d76-445e-9006-e8c61e48efa9": {
     "id": "82abee69-5d76-445e-9006-e8c61e48efa9",
     "prev": "e7d4c69d-affa-4a92-9734-980b2ea961e4",
     "regions": {
      "9ea2fe99-193f-4f38-970b-745a85be5787": {
       "attrs": {
        "height": 0.8,
        "width": 0.8,
        "x": 0.1,
        "y": 0.1
       },
       "content": {
        "cell": "327137d4-8ac4-48da-b1de-fb95c9f22935",
        "part": "whole"
       },
       "id": "9ea2fe99-193f-4f38-970b-745a85be5787"
      }
     }
    },
    "82e97888-e9e0-4c22-b092-c887e18f1fc7": {
     "id": "82e97888-e9e0-4c22-b092-c887e18f1fc7",
     "prev": "bcef0702-a96e-46dc-bf97-5d166243785a",
     "regions": {
      "be66ee27-d407-48cc-a42d-17e6984e7e98": {
       "attrs": {
        "height": 0.8,
        "width": 0.8,
        "x": 0.1,
        "y": 0.1
       },
       "content": {
        "cell": "963a3cc5-3883-435d-a090-afad780451ea",
        "part": "whole"
       },
       "id": "be66ee27-d407-48cc-a42d-17e6984e7e98"
      }
     }
    },
    "84512f96-37e9-4b37-96f6-5ebf1caabeb9": {
     "id": "84512f96-37e9-4b37-96f6-5ebf1caabeb9",
     "prev": "6d1530ec-0fc2-45ee-b1b6-60385c7ed2b7",
     "regions": {
      "fb1889c5-d156-43e9-a03c-349b1c8da8c7": {
       "attrs": {
        "height": 0.8,
        "width": 0.8,
        "x": 0.1,
        "y": 0.1
       },
       "content": {
        "cell": "9fa4d2a5-33d6-4bb3-bfb1-7420b65ce780",
        "part": "whole"
       },
       "id": "fb1889c5-d156-43e9-a03c-349b1c8da8c7"
      }
     }
    },
    "8644d6a0-50ea-4422-9b00-fa5370327161": {
     "id": "8644d6a0-50ea-4422-9b00-fa5370327161",
     "prev": "eb3383ef-efd6-4f32-a17c-86706a2c9e70",
     "regions": {
      "fae170f0-9617-40ce-ba81-f2dc480867aa": {
       "attrs": {
        "height": 0.8,
        "width": 0.8,
        "x": 0.1,
        "y": 0.1
       },
       "content": {
        "cell": "ae5280f0-4e1d-4dd9-8d4e-1a410802d866",
        "part": "whole"
       },
       "id": "fae170f0-9617-40ce-ba81-f2dc480867aa"
      }
     }
    },
    "86dab9e5-eecc-4cf9-a1af-fde6d423b7ed": {
     "id": "86dab9e5-eecc-4cf9-a1af-fde6d423b7ed",
     "prev": "6d23e560-470b-43c3-a8e8-9132c5b81df2",
     "regions": {
      "6c7fd9c1-b3aa-476e-8cc9-09f4a01c7e38": {
       "attrs": {
        "height": 0.8,
        "width": 0.8,
        "x": 0.1,
        "y": 0.1
       },
       "content": {
        "cell": "cb0573e7-b82a-4cc3-b287-b3f20f556602",
        "part": "whole"
       },
       "id": "6c7fd9c1-b3aa-476e-8cc9-09f4a01c7e38"
      }
     }
    },
    "87b350ac-1fb4-45d3-98a0-f3009b16688c": {
     "id": "87b350ac-1fb4-45d3-98a0-f3009b16688c",
     "prev": "09ad0890-ab5a-4ede-a8d2-fdbd43a5da21",
     "regions": {
      "a87aeab1-4939-493a-ae27-24bda10da071": {
       "attrs": {
        "height": 0.8,
        "width": 0.8,
        "x": 0.1,
        "y": 0.1
       },
       "content": {
        "cell": "af85dceb-79ef-44bc-bc5b-538a4aa0d9dd",
        "part": "whole"
       },
       "id": "a87aeab1-4939-493a-ae27-24bda10da071"
      }
     }
    },
    "8a5e2c9d-f98c-43b2-bdf4-871a8d453c05": {
     "id": "8a5e2c9d-f98c-43b2-bdf4-871a8d453c05",
     "prev": "cd193968-d054-4281-82e7-9b67f0f7506a",
     "regions": {
      "ba3e35c4-8e12-45a0-b893-77966dd08ff5": {
       "attrs": {
        "height": 0.8,
        "width": 0.8,
        "x": 0.1,
        "y": 0.1
       },
       "content": {
        "cell": "11f1de4a-fae8-4320-a8f2-b354c9dce5ab",
        "part": "whole"
       },
       "id": "ba3e35c4-8e12-45a0-b893-77966dd08ff5"
      }
     }
    },
    "8a747dec-9477-4833-8387-48be9167bc51": {
     "id": "8a747dec-9477-4833-8387-48be9167bc51",
     "prev": "39ef00e8-4a0a-4665-b1cb-04f3b878ca8e",
     "regions": {
      "e70a8ee5-d761-4e76-a1aa-10b41ae35f1f": {
       "attrs": {
        "height": 0.8,
        "width": 0.8,
        "x": 0.1,
        "y": 0.1
       },
       "content": {
        "cell": "b9b0414d-d865-4259-b25e-4d75950ffbb6",
        "part": "whole"
       },
       "id": "e70a8ee5-d761-4e76-a1aa-10b41ae35f1f"
      }
     }
    },
    "8af4f709-5c5a-49b1-8f9e-902050d1cc4b": {
     "id": "8af4f709-5c5a-49b1-8f9e-902050d1cc4b",
     "prev": "cffa440e-a953-4bd2-b8dc-aa3be1ceb06a",
     "regions": {
      "65448ccc-9258-4706-a7ff-4ac2cc88f27f": {
       "attrs": {
        "height": 0.8,
        "width": 0.8,
        "x": 0.1,
        "y": 0.1
       },
       "content": {
        "cell": "ead9d12e-2f48-40ae-aa08-91937fa9c740",
        "part": "whole"
       },
       "id": "65448ccc-9258-4706-a7ff-4ac2cc88f27f"
      }
     }
    },
    "8cb3cfdf-0617-4cc8-91d7-062d48995774": {
     "id": "8cb3cfdf-0617-4cc8-91d7-062d48995774",
     "prev": "1546c70e-083d-44d8-bbb6-40418d5847c9",
     "regions": {
      "87b7ca9e-604d-4187-83b4-b23e26847522": {
       "attrs": {
        "height": 0.8,
        "width": 0.8,
        "x": 0.1,
        "y": 0.1
       },
       "content": {
        "cell": "f1769803-ec75-4cfc-ba1b-cb1c5d88e891",
        "part": "whole"
       },
       "id": "87b7ca9e-604d-4187-83b4-b23e26847522"
      }
     }
    },
    "8df6e7ea-d1d4-43a0-b5a0-36381484fa55": {
     "id": "8df6e7ea-d1d4-43a0-b5a0-36381484fa55",
     "prev": "79a73629-d762-416b-9467-88c351794011",
     "regions": {
      "56216021-68d4-4ba6-a571-2ee97e684bfb": {
       "attrs": {
        "height": 0.8,
        "width": 0.8,
        "x": 0.1,
        "y": 0.1
       },
       "content": {
        "cell": "ef740481-c78b-42fa-af55-91140ed40b96",
        "part": "whole"
       },
       "id": "56216021-68d4-4ba6-a571-2ee97e684bfb"
      }
     }
    },
    "8e70763d-0dc3-4b8f-b0cd-6a355f321e8e": {
     "id": "8e70763d-0dc3-4b8f-b0cd-6a355f321e8e",
     "prev": "c6dda529-5d1e-4874-9de4-7a5fc92887c9",
     "regions": {
      "b01bc1f7-a0b8-4644-993b-fdbcdd57dffb": {
       "attrs": {
        "height": 0.8,
        "width": 0.8,
        "x": 0.1,
        "y": 0.1
       },
       "content": {
        "cell": "e906fa8c-b178-45b9-9591-31f3af9ac3ae",
        "part": "whole"
       },
       "id": "b01bc1f7-a0b8-4644-993b-fdbcdd57dffb"
      }
     }
    },
    "8edf096c-fd66-4960-b608-0e07dfe4b853": {
     "id": "8edf096c-fd66-4960-b608-0e07dfe4b853",
     "prev": "536cb1fd-855a-4fc4-985c-68c23940d8de",
     "regions": {
      "c160321f-499c-4358-92a8-aeabd4c15cf0": {
       "attrs": {
        "height": 0.8,
        "width": 0.8,
        "x": 0.1,
        "y": 0.1
       },
       "content": {
        "cell": "6852f07c-87ae-4102-9681-8d126cef3b64",
        "part": "whole"
       },
       "id": "c160321f-499c-4358-92a8-aeabd4c15cf0"
      }
     }
    },
    "901c592a-d3a7-47e0-9f8e-fd0e600082a2": {
     "id": "901c592a-d3a7-47e0-9f8e-fd0e600082a2",
     "prev": "b88945f4-1500-4483-80fe-bdad63d5e7b9",
     "regions": {
      "a02ff742-eb32-4a55-8906-9bda7b79acaa": {
       "attrs": {
        "height": 0.8,
        "width": 0.8,
        "x": 0.1,
        "y": 0.1
       },
       "content": {
        "cell": "34879198-e061-4749-9bd7-8e0a7820dcd1",
        "part": "whole"
       },
       "id": "a02ff742-eb32-4a55-8906-9bda7b79acaa"
      }
     }
    },
    "9143d20a-1225-4e20-bf84-20c6f4b0ed84": {
     "id": "9143d20a-1225-4e20-bf84-20c6f4b0ed84",
     "prev": "824afa7b-4073-40e6-a406-961f2d6c931a",
     "regions": {
      "c63d0430-7874-43cb-85a4-e2c35a74ccec": {
       "attrs": {
        "height": 0.8,
        "width": 0.8,
        "x": 0.1,
        "y": 0.1
       },
       "content": {
        "cell": "1bf2fcbc-20da-452c-a706-3a2a207f76fe",
        "part": "whole"
       },
       "id": "c63d0430-7874-43cb-85a4-e2c35a74ccec"
      }
     }
    },
    "92c16ae9-499b-4817-9b6f-f23d37da306f": {
     "id": "92c16ae9-499b-4817-9b6f-f23d37da306f",
     "prev": "6ba1c3fb-c328-4093-8c6a-333576be8650",
     "regions": {
      "6b489113-20d5-4780-8b41-0bd874a9cf16": {
       "attrs": {
        "height": 0.8,
        "width": 0.8,
        "x": 0.1,
        "y": 0.1
       },
       "content": {
        "cell": "674e3021-875b-435e-8df8-2f7728bb61fb",
        "part": "whole"
       },
       "id": "6b489113-20d5-4780-8b41-0bd874a9cf16"
      }
     }
    },
    "92c3d928-cd56-4168-81e4-3a33f4591d2d": {
     "id": "92c3d928-cd56-4168-81e4-3a33f4591d2d",
     "prev": "b2b399ef-9e14-4aff-b781-4bfac0bf3062",
     "regions": {
      "bf79b23c-7f77-492c-8fe0-6a45c22491d7": {
       "attrs": {
        "height": 0.8,
        "width": 0.8,
        "x": 0.1,
        "y": 0.1
       },
       "content": {
        "cell": "ce2fd30f-ea31-47c8-8509-e9978ff55d90",
        "part": "whole"
       },
       "id": "bf79b23c-7f77-492c-8fe0-6a45c22491d7"
      }
     }
    },
    "94893e4e-64c7-4293-988a-943388cac9bf": {
     "id": "94893e4e-64c7-4293-988a-943388cac9bf",
     "prev": "06a1b182-2897-4de1-b0a9-36a82fad7cff",
     "regions": {
      "30c71be9-6304-40d3-ab41-6ecb2d4b0034": {
       "attrs": {
        "height": 0.8,
        "width": 0.8,
        "x": 0.1,
        "y": 0.1
       },
       "content": {
        "cell": "f903d116-fd18-4cd9-b9bd-07ad6b3efbfe",
        "part": "whole"
       },
       "id": "30c71be9-6304-40d3-ab41-6ecb2d4b0034"
      }
     }
    },
    "95160d91-e989-42bb-a185-6f87cbe4085a": {
     "id": "95160d91-e989-42bb-a185-6f87cbe4085a",
     "prev": "c59492c2-c546-4cb4-ad68-ab01b72a19a0",
     "regions": {
      "6e1bfd9e-bde4-43bf-8237-a33f7e78472c": {
       "attrs": {
        "height": 0.8,
        "width": 0.8,
        "x": 0.1,
        "y": 0.1
       },
       "content": {
        "cell": "4a1a0340-f16f-4fff-8300-7985cc2225f1",
        "part": "whole"
       },
       "id": "6e1bfd9e-bde4-43bf-8237-a33f7e78472c"
      }
     }
    },
    "9621d9cb-f173-44a8-80b6-d9a7eeda1035": {
     "id": "9621d9cb-f173-44a8-80b6-d9a7eeda1035",
     "prev": "d8f917c5-3c25-4e5d-8787-f5a97f611806",
     "regions": {
      "149816f4-3146-4605-9d48-eab6f13cc263": {
       "attrs": {
        "height": 0.8,
        "width": 0.8,
        "x": 0.1,
        "y": 0.1
       },
       "content": {
        "cell": "b2c0caa5-83a1-41de-8ff3-143e37f568d7",
        "part": "whole"
       },
       "id": "149816f4-3146-4605-9d48-eab6f13cc263"
      }
     }
    },
    "996d17dd-79a6-44db-adfc-bb7b973b4ef8": {
     "id": "996d17dd-79a6-44db-adfc-bb7b973b4ef8",
     "prev": "32f3a581-189b-4956-9b2f-007a62ae3696",
     "regions": {
      "1acfcf92-bf8b-4eec-bedb-5e405552face": {
       "attrs": {
        "height": 0.8,
        "width": 0.8,
        "x": 0.1,
        "y": 0.1
       },
       "content": {
        "cell": "0b22ef6d-ad78-4da5-b382-bd6024782c6b",
        "part": "whole"
       },
       "id": "1acfcf92-bf8b-4eec-bedb-5e405552face"
      }
     }
    },
    "9a01ac20-f15f-4ac1-a3cc-0c3dacc13dcb": {
     "id": "9a01ac20-f15f-4ac1-a3cc-0c3dacc13dcb",
     "prev": "c543111d-333d-44fe-95c8-b433a7054ca0",
     "regions": {
      "4b2d1fc3-3fbd-43d5-85ce-98827a162dd7": {
       "attrs": {
        "height": 0.8,
        "width": 0.8,
        "x": 0.1,
        "y": 0.1
       },
       "content": {
        "cell": "8a16bfc5-6538-4f86-a158-0459665225c5",
        "part": "whole"
       },
       "id": "4b2d1fc3-3fbd-43d5-85ce-98827a162dd7"
      }
     }
    },
    "9a805bbe-2dbd-4ffa-b36c-faed094ddfc2": {
     "id": "9a805bbe-2dbd-4ffa-b36c-faed094ddfc2",
     "prev": "f6536e0e-5e5a-4eee-9d6d-a943c3cc2ad5",
     "regions": {
      "5e45103f-a131-4db3-9c9f-2be109a939b5": {
       "attrs": {
        "height": 0.8,
        "width": 0.8,
        "x": 0.1,
        "y": 0.1
       },
       "content": {
        "cell": "f3adbfa8-ca7a-4117-9f75-f4a12cfe7c80",
        "part": "whole"
       },
       "id": "5e45103f-a131-4db3-9c9f-2be109a939b5"
      }
     }
    },
    "9a8b4498-9695-435f-a578-f4dfd25b4505": {
     "id": "9a8b4498-9695-435f-a578-f4dfd25b4505",
     "prev": "c3d6e90c-e229-4fe6-a40e-0da2d6df6cd5",
     "regions": {
      "770832d6-11d9-4d7f-91c1-e541e8262b5b": {
       "attrs": {
        "height": 0.8,
        "width": 0.8,
        "x": 0.1,
        "y": 0.1
       },
       "content": {
        "cell": "1893445a-6068-4bfa-afdd-b95cbf4ab4b1",
        "part": "whole"
       },
       "id": "770832d6-11d9-4d7f-91c1-e541e8262b5b"
      }
     }
    },
    "9ab143f3-5fd8-42fb-81f8-b39715f598cb": {
     "id": "9ab143f3-5fd8-42fb-81f8-b39715f598cb",
     "prev": "adb9739f-dafb-4151-9574-7ad846682b8d",
     "regions": {
      "0c601893-1fe5-466b-bb92-764dc032184e": {
       "attrs": {
        "height": 0.8,
        "width": 0.8,
        "x": 0.1,
        "y": 0.1
       },
       "content": {
        "cell": "02b790d8-38c3-464b-8027-73b635ce8f34",
        "part": "whole"
       },
       "id": "0c601893-1fe5-466b-bb92-764dc032184e"
      }
     }
    },
    "9ad96f6c-983a-4919-9822-1b2d8bade635": {
     "id": "9ad96f6c-983a-4919-9822-1b2d8bade635",
     "prev": "f1b80262-7843-49cc-a5cd-4745b19f3978",
     "regions": {
      "bb9b6b85-2408-49f0-ae0e-d14d4c362744": {
       "attrs": {
        "height": 0.8,
        "width": 0.8,
        "x": 0.1,
        "y": 0.1
       },
       "content": {
        "cell": "cf24c377-9bd2-45b0-8047-b47072a5b706",
        "part": "whole"
       },
       "id": "bb9b6b85-2408-49f0-ae0e-d14d4c362744"
      }
     }
    },
    "9b473d4e-4d53-43f5-ba74-1a0597eb9aeb": {
     "id": "9b473d4e-4d53-43f5-ba74-1a0597eb9aeb",
     "prev": "b13fc7b4-cccf-4f26-9cfb-85f073784c87",
     "regions": {
      "4ccdae4f-e0d6-4ab8-87df-ef76037166fb": {
       "attrs": {
        "height": 0.8,
        "width": 0.8,
        "x": 0.1,
        "y": 0.1
       },
       "content": {
        "cell": "daad9c34-20d7-4214-906a-b9853876a577",
        "part": "whole"
       },
       "id": "4ccdae4f-e0d6-4ab8-87df-ef76037166fb"
      }
     }
    },
    "9d0d88b4-45f0-4790-987e-b2ce3ab1a53f": {
     "id": "9d0d88b4-45f0-4790-987e-b2ce3ab1a53f",
     "prev": "cad2458e-60f9-4611-be91-6e5aa882c1b0",
     "regions": {
      "5407d9f9-5d3e-40e5-baaf-21b138a04c3b": {
       "attrs": {
        "height": 0.8,
        "width": 0.8,
        "x": 0.1,
        "y": 0.1
       },
       "content": {
        "cell": "66eb7421-5131-4042-8663-19a471dc2060",
        "part": "whole"
       },
       "id": "5407d9f9-5d3e-40e5-baaf-21b138a04c3b"
      }
     }
    },
    "9f042143-b1aa-4385-a106-a812d2d80d53": {
     "id": "9f042143-b1aa-4385-a106-a812d2d80d53",
     "prev": "1f8ba1e9-da4c-482f-926a-b31103b4adaa",
     "regions": {
      "46d1cf6a-d743-44df-a75d-1763d59bbb07": {
       "attrs": {
        "height": 0.8,
        "width": 0.8,
        "x": 0.1,
        "y": 0.1
       },
       "content": {
        "cell": "cda671f2-a4f9-4be1-887e-826dc1481f68",
        "part": "whole"
       },
       "id": "46d1cf6a-d743-44df-a75d-1763d59bbb07"
      }
     }
    },
    "9fd31015-3316-497f-a195-85a06f1d6de9": {
     "id": "9fd31015-3316-497f-a195-85a06f1d6de9",
     "prev": "8edf096c-fd66-4960-b608-0e07dfe4b853",
     "regions": {
      "d508124f-1c02-47cc-9d75-d93888d0dd59": {
       "attrs": {
        "height": 0.8,
        "width": 0.8,
        "x": 0.1,
        "y": 0.1
       },
       "content": {
        "cell": "3d06c73d-3987-470b-933a-48f98fd8d538",
        "part": "whole"
       },
       "id": "d508124f-1c02-47cc-9d75-d93888d0dd59"
      }
     }
    },
    "a3cefd96-f1fe-4565-aea4-e1a5e23d2dd0": {
     "id": "a3cefd96-f1fe-4565-aea4-e1a5e23d2dd0",
     "prev": "3d66c30b-3f48-40c5-923c-812f0f91a66c",
     "regions": {
      "8de0d314-a6af-430a-899f-56d2dea88358": {
       "attrs": {
        "height": 0.8,
        "width": 0.8,
        "x": 0.1,
        "y": 0.1
       },
       "content": {
        "cell": "9c7bc1b2-d48d-44f6-a8a3-3915114885d2",
        "part": "whole"
       },
       "id": "8de0d314-a6af-430a-899f-56d2dea88358"
      }
     }
    },
    "a49ff41e-16f8-4551-bfa2-73f81f76498d": {
     "id": "a49ff41e-16f8-4551-bfa2-73f81f76498d",
     "prev": "b9ed625d-7924-4ce5-afb9-601b6aa35acd",
     "regions": {
      "f979439f-4de9-4453-9099-910d5e60b9f6": {
       "attrs": {
        "height": 0.8,
        "width": 0.8,
        "x": 0.1,
        "y": 0.1
       },
       "content": {
        "cell": "59061773-e9f5-4388-96d5-e161bef22e53",
        "part": "whole"
       },
       "id": "f979439f-4de9-4453-9099-910d5e60b9f6"
      }
     }
    },
    "a6ee6f2a-7d6e-4d9c-8ad6-4511d93ca38f": {
     "id": "a6ee6f2a-7d6e-4d9c-8ad6-4511d93ca38f",
     "prev": "b2d6f326-3aab-48a4-8fb3-ba664bd71f4c",
     "regions": {
      "29ebe7eb-bd8b-4b6a-b8a2-737ea35f320f": {
       "attrs": {
        "height": 0.8,
        "width": 0.8,
        "x": 0.1,
        "y": 0.1
       },
       "content": {
        "cell": "a4b6ebee-71e7-4bb6-9a0a-a6c8a791a9e2",
        "part": "whole"
       },
       "id": "29ebe7eb-bd8b-4b6a-b8a2-737ea35f320f"
      }
     }
    },
    "a70aa22d-70a4-4ef9-84ce-5abf64e9a9c4": {
     "id": "a70aa22d-70a4-4ef9-84ce-5abf64e9a9c4",
     "prev": "672389ae-de99-4fe6-b2d6-1ce85619871f",
     "regions": {
      "7c9f93fb-a606-4b90-b5f2-ea5cd2ccde81": {
       "attrs": {
        "height": 0.8,
        "width": 0.8,
        "x": 0.1,
        "y": 0.1
       },
       "content": {
        "cell": "6a6af860-e19e-42b1-a693-785086548e38",
        "part": "whole"
       },
       "id": "7c9f93fb-a606-4b90-b5f2-ea5cd2ccde81"
      }
     }
    },
    "a73bb454-1e38-4a4c-b86c-d53f515130ce": {
     "id": "a73bb454-1e38-4a4c-b86c-d53f515130ce",
     "prev": "ff697b9e-7715-4ae9-ab5d-0e81997651c1",
     "regions": {
      "23a06b6f-c655-4125-8138-217b3476ea41": {
       "attrs": {
        "height": 0.8,
        "width": 0.8,
        "x": 0.1,
        "y": 0.1
       },
       "content": {
        "cell": "f4f35f24-624c-40f7-a8bc-ebbfd24736b0",
        "part": "whole"
       },
       "id": "23a06b6f-c655-4125-8138-217b3476ea41"
      }
     }
    },
    "a74c845b-e00c-403b-9514-22f9dd3a0d28": {
     "id": "a74c845b-e00c-403b-9514-22f9dd3a0d28",
     "prev": "09785615-9da4-4e0c-bd42-618738d7ef5d",
     "regions": {
      "1f00f989-e8bb-4f57-9f76-495281c9ca46": {
       "attrs": {
        "height": 0.8,
        "width": 0.8,
        "x": 0.1,
        "y": 0.1
       },
       "content": {
        "cell": "c1f42511-fc6f-4e62-9cc5-1a72650b5845",
        "part": "whole"
       },
       "id": "1f00f989-e8bb-4f57-9f76-495281c9ca46"
      }
     }
    },
    "a817b08a-b639-4b8c-8574-78303a3846a4": {
     "id": "a817b08a-b639-4b8c-8574-78303a3846a4",
     "prev": "6723ae79-c149-46a7-98f9-d650c1fc7584",
     "regions": {
      "20abbc2e-86e7-4e46-bf1c-6ed666cc8e50": {
       "attrs": {
        "height": 0.8,
        "width": 0.8,
        "x": 0.1,
        "y": 0.1
       },
       "content": {
        "cell": "f2801b0a-a381-45c8-8c5e-85c24e53add2",
        "part": "whole"
       },
       "id": "20abbc2e-86e7-4e46-bf1c-6ed666cc8e50"
      }
     }
    },
    "a9e43937-4f0f-4fc5-b478-0526c408d310": {
     "id": "a9e43937-4f0f-4fc5-b478-0526c408d310",
     "prev": "e100e660-2a7e-4f4b-a42f-652b1e8bd4cb",
     "regions": {
      "fcbb24cb-5228-493b-873b-19d98f1b19d0": {
       "attrs": {
        "height": 0.8,
        "width": 0.8,
        "x": 0.1,
        "y": 0.1
       },
       "content": {
        "cell": "4a42d58e-2a89-4d18-aaad-438344bcf00a",
        "part": "whole"
       },
       "id": "fcbb24cb-5228-493b-873b-19d98f1b19d0"
      }
     }
    },
    "ab5420c9-04c6-44eb-92de-0380f1b100a7": {
     "id": "ab5420c9-04c6-44eb-92de-0380f1b100a7",
     "prev": "8af4f709-5c5a-49b1-8f9e-902050d1cc4b",
     "regions": {
      "b2deeacb-d5de-46f8-ae3b-1fc61f3a844a": {
       "attrs": {
        "height": 0.8,
        "width": 0.8,
        "x": 0.1,
        "y": 0.1
       },
       "content": {
        "cell": "8ac06314-7c46-48a5-a52f-1bc6751284b3",
        "part": "whole"
       },
       "id": "b2deeacb-d5de-46f8-ae3b-1fc61f3a844a"
      }
     }
    },
    "abc17b32-cb41-48f5-a46d-d1e5dd8f40e1": {
     "id": "abc17b32-cb41-48f5-a46d-d1e5dd8f40e1",
     "prev": "4c1fa7cf-0db7-40e4-aa77-2f9011b9ee4e",
     "regions": {
      "f0e9b089-f12f-4d0f-91f4-5b8c841bbf1a": {
       "attrs": {
        "height": 0.8,
        "width": 0.8,
        "x": 0.1,
        "y": 0.1
       },
       "content": {
        "cell": "f6529d8a-213f-404c-98f2-b4443139dd47",
        "part": "whole"
       },
       "id": "f0e9b089-f12f-4d0f-91f4-5b8c841bbf1a"
      }
     }
    },
    "adb9739f-dafb-4151-9574-7ad846682b8d": {
     "id": "adb9739f-dafb-4151-9574-7ad846682b8d",
     "prev": "82a95c5c-b373-4466-b291-6d1b83ff157b",
     "regions": {
      "2ecdb026-ea97-4567-a4ae-0d92d6f7f5bc": {
       "attrs": {
        "height": 0.8,
        "width": 0.8,
        "x": 0.1,
        "y": 0.1
       },
       "content": {
        "cell": "71bd750f-3f95-4aab-adfa-fa6a23a7cc16",
        "part": "whole"
       },
       "id": "2ecdb026-ea97-4567-a4ae-0d92d6f7f5bc"
      }
     }
    },
    "ae40c4ca-c75a-446e-8294-fbfab3371ff7": {
     "id": "ae40c4ca-c75a-446e-8294-fbfab3371ff7",
     "prev": "bbea5376-6998-4295-ab92-44f3baeabf39",
     "regions": {
      "eef525bb-f9dc-439c-b427-496cd716250b": {
       "attrs": {
        "height": 0.8,
        "width": 0.8,
        "x": 0.1,
        "y": 0.1
       },
       "content": {
        "cell": "46fee95c-764e-45f7-af46-e2567784af72",
        "part": "whole"
       },
       "id": "eef525bb-f9dc-439c-b427-496cd716250b"
      }
     }
    },
    "aebe8964-014c-4e68-8586-b66dff3e1d11": {
     "id": "aebe8964-014c-4e68-8586-b66dff3e1d11",
     "prev": "c93b2f0e-f7b9-45fd-872c-3d4b46b0d33a",
     "regions": {
      "f7b38816-a01f-4b86-b7fa-173ad99dba95": {
       "attrs": {
        "height": 0.8,
        "width": 0.8,
        "x": 0.1,
        "y": 0.1
       },
       "content": {
        "cell": "bdf5b188-38a6-4948-9aa7-954556372961",
        "part": "whole"
       },
       "id": "f7b38816-a01f-4b86-b7fa-173ad99dba95"
      }
     }
    },
    "aec73699-b126-4ddd-a0fe-fed510fc7c05": {
     "id": "aec73699-b126-4ddd-a0fe-fed510fc7c05",
     "prev": "d00784e3-4fde-4759-8017-859b730c7107",
     "regions": {
      "0b8d2b08-df67-4056-8791-103a174a1f74": {
       "attrs": {
        "height": 0.8,
        "width": 0.8,
        "x": 0.1,
        "y": 0.1
       },
       "content": {
        "cell": "e431758a-85a8-47d9-9bc0-e4d601d4db09",
        "part": "whole"
       },
       "id": "0b8d2b08-df67-4056-8791-103a174a1f74"
      }
     }
    },
    "af2df8d5-0ce6-4f50-8fd3-0fddc827b2a7": {
     "id": "af2df8d5-0ce6-4f50-8fd3-0fddc827b2a7",
     "prev": "48dc5465-d7fc-4b8c-aab1-a0dd5e70fd11",
     "regions": {
      "817d5771-42f7-43a1-9ab5-4f07d4f9697e": {
       "attrs": {
        "height": 0.8,
        "width": 0.8,
        "x": 0.1,
        "y": 0.1
       },
       "content": {
        "cell": "b74c816e-f318-42df-bfd8-3da96ccd3dd9",
        "part": "whole"
       },
       "id": "817d5771-42f7-43a1-9ab5-4f07d4f9697e"
      }
     }
    },
    "b13fc7b4-cccf-4f26-9cfb-85f073784c87": {
     "id": "b13fc7b4-cccf-4f26-9cfb-85f073784c87",
     "prev": "026ad1bb-bbb5-4911-a29a-2a31c6dd3d42",
     "regions": {
      "3607d6d8-d8c4-4980-8a4c-c622b768f3d6": {
       "attrs": {
        "height": 0.8,
        "width": 0.8,
        "x": 0.1,
        "y": 0.1
       },
       "content": {
        "cell": "c4907ac4-1274-41b8-abd7-81c6de45235e",
        "part": "whole"
       },
       "id": "3607d6d8-d8c4-4980-8a4c-c622b768f3d6"
      }
     }
    },
    "b17976b0-cab6-4dbc-b5db-fec819e17963": {
     "id": "b17976b0-cab6-4dbc-b5db-fec819e17963",
     "prev": "af2df8d5-0ce6-4f50-8fd3-0fddc827b2a7",
     "regions": {
      "77f2e8a5-3098-4609-b533-9e7812c8b51e": {
       "attrs": {
        "height": 0.8,
        "width": 0.8,
        "x": 0.1,
        "y": 0.1
       },
       "content": {
        "cell": "c7086339-eb51-4cae-82b5-6705df319230",
        "part": "whole"
       },
       "id": "77f2e8a5-3098-4609-b533-9e7812c8b51e"
      }
     }
    },
    "b1fe186d-b526-4dea-a598-7ab89acb7bd1": {
     "id": "b1fe186d-b526-4dea-a598-7ab89acb7bd1",
     "prev": "5f42ae8b-f65d-4b99-8eaf-520303ff95da",
     "regions": {
      "48a3138e-f180-41e0-b2df-168459d0521c": {
       "attrs": {
        "height": 0.8,
        "width": 0.8,
        "x": 0.1,
        "y": 0.1
       },
       "content": {
        "cell": "e34cc6cc-6420-414b-8514-8f57694090d1",
        "part": "whole"
       },
       "id": "48a3138e-f180-41e0-b2df-168459d0521c"
      }
     }
    },
    "b2b399ef-9e14-4aff-b781-4bfac0bf3062": {
     "id": "b2b399ef-9e14-4aff-b781-4bfac0bf3062",
     "prev": "004a6615-ad46-4dc1-98bf-9cf6ac61002b",
     "regions": {
      "399b3e78-c7a7-4d0e-9ebc-14d251e71376": {
       "attrs": {
        "height": 0.8,
        "width": 0.8,
        "x": 0.1,
        "y": 0.1
       },
       "content": {
        "cell": "b09d43cf-d07d-4b1f-9de4-f80b60064d24",
        "part": "whole"
       },
       "id": "399b3e78-c7a7-4d0e-9ebc-14d251e71376"
      }
     }
    },
    "b2d6f326-3aab-48a4-8fb3-ba664bd71f4c": {
     "id": "b2d6f326-3aab-48a4-8fb3-ba664bd71f4c",
     "prev": "d3410f19-5432-4612-989f-f10c5cc4a44d",
     "regions": {
      "2c39368d-be5e-42c7-81af-5a7659eb3504": {
       "attrs": {
        "height": 0.8,
        "width": 0.8,
        "x": 0.1,
        "y": 0.1
       },
       "content": {
        "cell": "6388bb1d-a6da-4b8d-9343-c9e36e961fcb",
        "part": "whole"
       },
       "id": "2c39368d-be5e-42c7-81af-5a7659eb3504"
      }
     }
    },
    "b3078405-004d-40f7-b3f2-3038aff10da4": {
     "id": "b3078405-004d-40f7-b3f2-3038aff10da4",
     "prev": "0ddaf2a6-3dc6-4ac7-b3cc-bd0c93a0ab5f",
     "regions": {
      "43420688-3c85-4c70-83a6-eeaf27fdee9d": {
       "attrs": {
        "height": 0.8,
        "width": 0.8,
        "x": 0.1,
        "y": 0.1
       },
       "content": {
        "cell": "89623b71-c0fe-41b4-8266-1fd88f4af845",
        "part": "whole"
       },
       "id": "43420688-3c85-4c70-83a6-eeaf27fdee9d"
      }
     }
    },
    "b44ea508-b605-40b2-87dc-6298f0c98fd0": {
     "id": "b44ea508-b605-40b2-87dc-6298f0c98fd0",
     "prev": "2ae77d71-6509-49fb-9ae9-f1e2804b0280",
     "regions": {
      "8695b62f-5349-41a4-9e9e-049e15dbe4e8": {
       "attrs": {
        "height": 0.8,
        "width": 0.8,
        "x": 0.1,
        "y": 0.1
       },
       "content": {
        "cell": "5a518f1c-dd28-47bb-9b5b-178f04a6948d",
        "part": "whole"
       },
       "id": "8695b62f-5349-41a4-9e9e-049e15dbe4e8"
      }
     }
    },
    "b4cb4f35-d317-4ea9-95e7-6dcf71e42760": {
     "id": "b4cb4f35-d317-4ea9-95e7-6dcf71e42760",
     "prev": "70b54139-b705-4d90-97a8-dc907d239a9d",
     "regions": {
      "7629dce9-4314-4e89-9860-84ab5d39afc0": {
       "attrs": {
        "height": 0.8,
        "width": 0.8,
        "x": 0.1,
        "y": 0.1
       },
       "content": {
        "cell": "f373ea96-a90d-403f-9444-c518dee60007",
        "part": "whole"
       },
       "id": "7629dce9-4314-4e89-9860-84ab5d39afc0"
      }
     }
    },
    "b511fcfd-7d0a-4e7a-b0c3-937156efc856": {
     "id": "b511fcfd-7d0a-4e7a-b0c3-937156efc856",
     "prev": "fec8363d-0549-4194-8e81-38bd3a4f034f",
     "regions": {
      "4c08d1e3-b9b2-4f78-8c80-bd2ca93dfc28": {
       "attrs": {
        "height": 0.8,
        "width": 0.8,
        "x": 0.1,
        "y": 0.1
       },
       "content": {
        "cell": "d9c79920-e088-4ca4-ba47-af5c814e1aaf",
        "part": "whole"
       },
       "id": "4c08d1e3-b9b2-4f78-8c80-bd2ca93dfc28"
      }
     }
    },
    "b59359ae-9735-4a22-a8e2-4d9cc9ffef09": {
     "id": "b59359ae-9735-4a22-a8e2-4d9cc9ffef09",
     "prev": "1330959f-cbe7-444f-b3d6-918f427d4771",
     "regions": {
      "d44a6c5b-db30-4119-a2bc-437ba37d4cfa": {
       "attrs": {
        "height": 0.8,
        "width": 0.8,
        "x": 0.1,
        "y": 0.1
       },
       "content": {
        "cell": "df60ef51-c70f-4dac-b97d-17e4b6bcd2ea",
        "part": "whole"
       },
       "id": "d44a6c5b-db30-4119-a2bc-437ba37d4cfa"
      }
     }
    },
    "b66ac8ba-078b-4978-92e9-5b35d4dfb970": {
     "id": "b66ac8ba-078b-4978-92e9-5b35d4dfb970",
     "prev": "6ccdc158-923a-414b-b053-08b1b4f605a6",
     "regions": {
      "58ce8c42-1946-4018-83c4-09c116f5664e": {
       "attrs": {
        "height": 0.8,
        "width": 0.8,
        "x": 0.1,
        "y": 0.1
       },
       "content": {
        "cell": "74f4ebb2-9114-405a-bed9-99bc525a78ad",
        "part": "whole"
       },
       "id": "58ce8c42-1946-4018-83c4-09c116f5664e"
      }
     }
    },
    "b6fb15a9-87e8-46f6-8963-e51cafeb24eb": {
     "id": "b6fb15a9-87e8-46f6-8963-e51cafeb24eb",
     "prev": "12f9d190-4f4e-496e-9eb3-28af41aa6c09",
     "regions": {
      "f44ca82b-95d5-4b0b-a4b8-4e4cd96b0819": {
       "attrs": {
        "height": 0.8,
        "width": 0.8,
        "x": 0.1,
        "y": 0.1
       },
       "content": {
        "cell": "8f6bd287-795c-414f-ac90-e22e4e76fe5a",
        "part": "whole"
       },
       "id": "f44ca82b-95d5-4b0b-a4b8-4e4cd96b0819"
      }
     }
    },
    "b795fbc1-8d3e-4329-bfda-7fc729633567": {
     "id": "b795fbc1-8d3e-4329-bfda-7fc729633567",
     "prev": "1a66efb8-7a57-4543-a31e-42fa1f104b06",
     "regions": {
      "abb0ce52-5780-4f2a-b053-cd9f07d07435": {
       "attrs": {
        "height": 0.8,
        "width": 0.8,
        "x": 0.1,
        "y": 0.1
       },
       "content": {
        "cell": "64ab70ce-331b-413a-be4c-684c867cc786",
        "part": "whole"
       },
       "id": "abb0ce52-5780-4f2a-b053-cd9f07d07435"
      }
     }
    },
    "b858d381-df63-4a3c-9d55-7e73b93e0437": {
     "id": "b858d381-df63-4a3c-9d55-7e73b93e0437",
     "prev": "32049a90-1058-49e7-8011-1f4bc2020eb1",
     "regions": {
      "67e0d518-3456-4f12-b9f6-9459690b5b63": {
       "attrs": {
        "height": 0.8,
        "width": 0.8,
        "x": 0.1,
        "y": 0.1
       },
       "content": {
        "cell": "b412697d-8109-4e03-8194-757e3f000fa1",
        "part": "whole"
       },
       "id": "67e0d518-3456-4f12-b9f6-9459690b5b63"
      }
     }
    },
    "b88945f4-1500-4483-80fe-bdad63d5e7b9": {
     "id": "b88945f4-1500-4483-80fe-bdad63d5e7b9",
     "prev": "749ea597-76ca-4863-a9cf-e9d2322a96a4",
     "regions": {
      "2d6b47bb-3c11-4951-bc30-970985574e30": {
       "attrs": {
        "height": 0.8,
        "width": 0.8,
        "x": 0.1,
        "y": 0.1
       },
       "content": {
        "cell": "8c96f42b-7142-4360-b36d-26baaec54605",
        "part": "whole"
       },
       "id": "2d6b47bb-3c11-4951-bc30-970985574e30"
      }
     }
    },
    "b9ed625d-7924-4ce5-afb9-601b6aa35acd": {
     "id": "b9ed625d-7924-4ce5-afb9-601b6aa35acd",
     "prev": "b17976b0-cab6-4dbc-b5db-fec819e17963",
     "regions": {
      "88679236-017b-43a4-903a-5267a2745814": {
       "attrs": {
        "height": 0.8,
        "width": 0.8,
        "x": 0.1,
        "y": 0.1
       },
       "content": {
        "cell": "ef5eba7e-f608-45b6-8d51-dba5b96aa568",
        "part": "whole"
       },
       "id": "88679236-017b-43a4-903a-5267a2745814"
      }
     }
    },
    "bbea5376-6998-4295-ab92-44f3baeabf39": {
     "id": "bbea5376-6998-4295-ab92-44f3baeabf39",
     "prev": "aebe8964-014c-4e68-8586-b66dff3e1d11",
     "regions": {
      "2898f9ed-281b-4e73-9afa-ea422b78404a": {
       "attrs": {
        "height": 0.8,
        "width": 0.8,
        "x": 0.1,
        "y": 0.1
       },
       "content": {
        "cell": "b5fca501-5a79-4e90-a6c9-185fc6cc4d73",
        "part": "whole"
       },
       "id": "2898f9ed-281b-4e73-9afa-ea422b78404a"
      }
     }
    },
    "bcc4c953-4c12-441c-9751-2bc8129efc2c": {
     "id": "bcc4c953-4c12-441c-9751-2bc8129efc2c",
     "prev": "efc4a985-5e68-4fbd-8080-57288a409a83",
     "regions": {
      "4e14f4f7-4df2-4a8a-bcad-6067b7803232": {
       "attrs": {
        "height": 0.8,
        "width": 0.8,
        "x": 0.1,
        "y": 0.1
       },
       "content": {
        "cell": "885a0783-9a6c-4faf-ae96-660ecdde504e",
        "part": "whole"
       },
       "id": "4e14f4f7-4df2-4a8a-bcad-6067b7803232"
      }
     }
    },
    "bcef0702-a96e-46dc-bf97-5d166243785a": {
     "id": "bcef0702-a96e-46dc-bf97-5d166243785a",
     "prev": "7c31b579-08d3-455d-9e24-b4622e757c42",
     "regions": {
      "d730733e-ad63-4dcf-8be9-6bed16f36659": {
       "attrs": {
        "height": 0.8,
        "width": 0.8,
        "x": 0.1,
        "y": 0.1
       },
       "content": {
        "cell": "cdda517f-7dda-4747-82fb-291fbdd34149",
        "part": "whole"
       },
       "id": "d730733e-ad63-4dcf-8be9-6bed16f36659"
      }
     }
    },
    "bd8689e6-1973-4d63-8d74-a50c9c0c7437": {
     "id": "bd8689e6-1973-4d63-8d74-a50c9c0c7437",
     "prev": "52b84271-2424-430d-bf1e-78ad464466d8",
     "regions": {
      "9baa6473-de46-4fa8-97a7-8063340c8ee3": {
       "attrs": {
        "height": 0.8,
        "width": 0.8,
        "x": 0.1,
        "y": 0.1
       },
       "content": {
        "cell": "096c7f0e-262d-4444-b6c3-0555b747e1dc",
        "part": "whole"
       },
       "id": "9baa6473-de46-4fa8-97a7-8063340c8ee3"
      }
     }
    },
    "beea1280-1505-4afa-9ce4-9717b54e32de": {
     "id": "beea1280-1505-4afa-9ce4-9717b54e32de",
     "prev": "87b350ac-1fb4-45d3-98a0-f3009b16688c",
     "regions": {
      "864185bf-3477-4adb-938b-eb2687ccdbde": {
       "attrs": {
        "height": 0.8,
        "width": 0.8,
        "x": 0.1,
        "y": 0.1
       },
       "content": {
        "cell": "18fa478a-80cb-47a5-ae5e-d861a083f7cd",
        "part": "whole"
       },
       "id": "864185bf-3477-4adb-938b-eb2687ccdbde"
      }
     }
    },
    "bf4a26eb-4916-4837-8400-13dd88199482": {
     "id": "bf4a26eb-4916-4837-8400-13dd88199482",
     "prev": "e9dd8ccc-0b19-471f-bb9c-2ea422268d3b",
     "regions": {
      "31786b1a-84c7-4e98-9670-b71da3e66a84": {
       "attrs": {
        "height": 0.8,
        "width": 0.8,
        "x": 0.1,
        "y": 0.1
       },
       "content": {
        "cell": "b47501ab-471f-48eb-b0e6-7f4d184c9e68",
        "part": "whole"
       },
       "id": "31786b1a-84c7-4e98-9670-b71da3e66a84"
      }
     }
    },
    "bf5506a3-80c6-4637-9532-8dc03c52b679": {
     "id": "bf5506a3-80c6-4637-9532-8dc03c52b679",
     "prev": "f0aaf0d8-4441-4919-a0d5-0622eb2a5d88",
     "regions": {
      "df3710a2-fc6b-4545-b820-a0ac1903e831": {
       "attrs": {
        "height": 0.8,
        "width": 0.8,
        "x": 0.1,
        "y": 0.1
       },
       "content": {
        "cell": "4f802045-1112-4c7f-b15c-50505922a612",
        "part": "whole"
       },
       "id": "df3710a2-fc6b-4545-b820-a0ac1903e831"
      }
     }
    },
    "bf9a6d66-d1e7-4558-9db2-aa2c5a08e272": {
     "id": "bf9a6d66-d1e7-4558-9db2-aa2c5a08e272",
     "prev": "52150835-89bf-4187-9ecd-71fb5344896c",
     "regions": {
      "f700b290-48f4-45fa-9a7c-4e0f2936e960": {
       "attrs": {
        "height": 0.8,
        "width": 0.8,
        "x": 0.1,
        "y": 0.1
       },
       "content": {
        "cell": "bafc5580-e051-4737-8631-2a8d3bf9c9cb",
        "part": "whole"
       },
       "id": "f700b290-48f4-45fa-9a7c-4e0f2936e960"
      }
     }
    },
    "c09ffc70-9a89-47e0-af7a-5a35e2a28fd0": {
     "id": "c09ffc70-9a89-47e0-af7a-5a35e2a28fd0",
     "prev": "224a84f3-8aff-4323-b700-18a00d294303",
     "regions": {
      "0175b09a-7ab2-4036-861b-aa8d50965f5e": {
       "attrs": {
        "height": 0.8,
        "width": 0.8,
        "x": 0.1,
        "y": 0.1
       },
       "content": {
        "cell": "06d21609-dc59-4651-afde-3c856ea50c4b",
        "part": "whole"
       },
       "id": "0175b09a-7ab2-4036-861b-aa8d50965f5e"
      }
     }
    },
    "c123838d-2802-46af-abc4-6d73c834211e": {
     "id": "c123838d-2802-46af-abc4-6d73c834211e",
     "prev": "9a8b4498-9695-435f-a578-f4dfd25b4505",
     "regions": {
      "826de304-6d5c-4ea3-b05c-cc2e5ec418b9": {
       "attrs": {
        "height": 0.8,
        "width": 0.8,
        "x": 0.1,
        "y": 0.1
       },
       "content": {
        "cell": "c29a5579-b0a2-4a06-be7f-1db061377fad",
        "part": "whole"
       },
       "id": "826de304-6d5c-4ea3-b05c-cc2e5ec418b9"
      }
     }
    },
    "c335e3f7-b9a2-4641-81ac-17109a291051": {
     "id": "c335e3f7-b9a2-4641-81ac-17109a291051",
     "prev": "09821c90-8644-4369-a270-d183b12af77d",
     "regions": {
      "46994dd7-4381-4056-8e01-1209c8397c09": {
       "attrs": {
        "height": 0.8,
        "width": 0.8,
        "x": 0.1,
        "y": 0.1
       },
       "content": {
        "cell": "fd47ed21-ae36-42ef-8019-6054f1ef7e36",
        "part": "whole"
       },
       "id": "46994dd7-4381-4056-8e01-1209c8397c09"
      }
     }
    },
    "c3d6e90c-e229-4fe6-a40e-0da2d6df6cd5": {
     "id": "c3d6e90c-e229-4fe6-a40e-0da2d6df6cd5",
     "prev": "3606b4c5-9574-4247-a5f3-3f79830f8426",
     "regions": {
      "c3c05357-f246-4abe-8e22-260b9e7fa92e": {
       "attrs": {
        "height": 0.8,
        "width": 0.8,
        "x": 0.1,
        "y": 0.1
       },
       "content": {
        "cell": "25fc0c20-2cce-4bf1-9067-d378139989c2",
        "part": "whole"
       },
       "id": "c3c05357-f246-4abe-8e22-260b9e7fa92e"
      }
     }
    },
    "c3d85cf6-9086-430e-88b1-fadf52aaa9f5": {
     "id": "c3d85cf6-9086-430e-88b1-fadf52aaa9f5",
     "prev": "37221ca9-2ab6-438f-a204-fc252e4bcb1b",
     "regions": {
      "11b2b4b0-a502-48bc-a2cb-9f4b4d95bba7": {
       "attrs": {
        "height": 0.8,
        "width": 0.8,
        "x": 0.1,
        "y": 0.1
       },
       "content": {
        "cell": "3a9f4b8f-1fb1-4118-9d75-e7a6dfd45e73",
        "part": "whole"
       },
       "id": "11b2b4b0-a502-48bc-a2cb-9f4b4d95bba7"
      }
     }
    },
    "c4be363c-01fe-4b2b-99c9-23eee8ae4c27": {
     "id": "c4be363c-01fe-4b2b-99c9-23eee8ae4c27",
     "prev": "617fab4d-071d-4b09-94eb-5b459e8fc76a",
     "regions": {
      "5736043d-2749-4399-9faf-0f1b741b14bb": {
       "attrs": {
        "height": 0.8,
        "width": 0.8,
        "x": 0.1,
        "y": 0.1
       },
       "content": {
        "cell": "b47792e1-4c92-4ce3-80b8-009184fdb22c",
        "part": "whole"
       },
       "id": "5736043d-2749-4399-9faf-0f1b741b14bb"
      }
     }
    },
    "c4f55b79-4247-4ecd-bd02-f8f4fb4fe5e2": {
     "id": "c4f55b79-4247-4ecd-bd02-f8f4fb4fe5e2",
     "prev": "1342dd1f-8dbe-4fef-ba33-1d42f69e8841",
     "regions": {
      "8cced576-fa99-4c29-90a6-016971250da9": {
       "attrs": {
        "height": 0.8,
        "width": 0.8,
        "x": 0.1,
        "y": 0.1
       },
       "content": {
        "cell": "c32528c1-b65c-4d07-ad63-656dd9f6ba38",
        "part": "whole"
       },
       "id": "8cced576-fa99-4c29-90a6-016971250da9"
      }
     }
    },
    "c543111d-333d-44fe-95c8-b433a7054ca0": {
     "id": "c543111d-333d-44fe-95c8-b433a7054ca0",
     "prev": "abc17b32-cb41-48f5-a46d-d1e5dd8f40e1",
     "regions": {
      "25ad7847-5135-4416-b65b-67103a58c82b": {
       "attrs": {
        "height": 0.8,
        "width": 0.8,
        "x": 0.1,
        "y": 0.1
       },
       "content": {
        "cell": "92fa093d-248c-4f8e-8b43-0c0e772b7c3c",
        "part": "whole"
       },
       "id": "25ad7847-5135-4416-b65b-67103a58c82b"
      }
     }
    },
    "c59492c2-c546-4cb4-ad68-ab01b72a19a0": {
     "id": "c59492c2-c546-4cb4-ad68-ab01b72a19a0",
     "prev": "a817b08a-b639-4b8c-8574-78303a3846a4",
     "regions": {
      "e37c5141-68d8-47a5-a634-28b2db070606": {
       "attrs": {
        "height": 0.8,
        "width": 0.8,
        "x": 0.1,
        "y": 0.1
       },
       "content": {
        "cell": "73f4bd90-1578-45f6-88ec-4e2cf26239e1",
        "part": "whole"
       },
       "id": "e37c5141-68d8-47a5-a634-28b2db070606"
      }
     }
    },
    "c6dda529-5d1e-4874-9de4-7a5fc92887c9": {
     "id": "c6dda529-5d1e-4874-9de4-7a5fc92887c9",
     "prev": "e7b1bad1-6b1c-4df4-a183-5f61d03ad8a3",
     "regions": {
      "98156c76-f2d8-4f94-afed-d22657754617": {
       "attrs": {
        "height": 0.8,
        "width": 0.8,
        "x": 0.1,
        "y": 0.1
       },
       "content": {
        "cell": "daee3ad5-0f22-44b2-b473-8980d1a58e53",
        "part": "whole"
       },
       "id": "98156c76-f2d8-4f94-afed-d22657754617"
      }
     }
    },
    "c70889ca-5824-45a6-96e1-17557b114f83": {
     "id": "c70889ca-5824-45a6-96e1-17557b114f83",
     "prev": "207f8462-0da1-40a3-9049-1d72b8a08c53",
     "regions": {
      "8aa6f768-ad47-4073-a9bd-6aa926e1b877": {
       "attrs": {
        "height": 0.8,
        "width": 0.8,
        "x": 0.1,
        "y": 0.1
       },
       "content": {
        "cell": "2ac6707f-b5c1-47c9-ad35-78e5e9b234a2",
        "part": "whole"
       },
       "id": "8aa6f768-ad47-4073-a9bd-6aa926e1b877"
      }
     }
    },
    "c93b2f0e-f7b9-45fd-872c-3d4b46b0d33a": {
     "id": "c93b2f0e-f7b9-45fd-872c-3d4b46b0d33a",
     "prev": "9f042143-b1aa-4385-a106-a812d2d80d53",
     "regions": {
      "f9117116-94e3-4fd7-9f40-d091ca3ede17": {
       "attrs": {
        "height": 0.8,
        "width": 0.8,
        "x": 0.1,
        "y": 0.1
       },
       "content": {
        "cell": "c14b788a-0686-4b19-b896-ddfa965039e7",
        "part": "whole"
       },
       "id": "f9117116-94e3-4fd7-9f40-d091ca3ede17"
      }
     }
    },
    "c9ece08c-b252-4b96-b33d-f07cfa1f8885": {
     "id": "c9ece08c-b252-4b96-b33d-f07cfa1f8885",
     "prev": "8644d6a0-50ea-4422-9b00-fa5370327161",
     "regions": {
      "8d50ad63-eeb0-4dbd-a196-c5951f6dd4cb": {
       "attrs": {
        "height": 0.8,
        "width": 0.8,
        "x": 0.1,
        "y": 0.1
       },
       "content": {
        "cell": "248b2673-a05f-447b-85ea-d537b8880f80",
        "part": "whole"
       },
       "id": "8d50ad63-eeb0-4dbd-a196-c5951f6dd4cb"
      }
     }
    },
    "cad2458e-60f9-4611-be91-6e5aa882c1b0": {
     "id": "cad2458e-60f9-4611-be91-6e5aa882c1b0",
     "prev": "a74c845b-e00c-403b-9514-22f9dd3a0d28",
     "regions": {
      "54bb80cd-2002-4cd2-9c15-4d4a8980f25a": {
       "attrs": {
        "height": 0.8,
        "width": 0.8,
        "x": 0.1,
        "y": 0.1
       },
       "content": {
        "cell": "5f2dd4a9-34e1-4b11-a609-5872b5388bae",
        "part": "whole"
       },
       "id": "54bb80cd-2002-4cd2-9c15-4d4a8980f25a"
      }
     }
    },
    "caffec0b-ccd7-4e82-930d-708d6a053d68": {
     "id": "caffec0b-ccd7-4e82-930d-708d6a053d68",
     "prev": "d5581167-706a-4f91-9d66-e96ecc831575",
     "regions": {
      "9c21b18d-5f6d-48cf-a34c-485387d47296": {
       "attrs": {
        "height": 0.8,
        "width": 0.8,
        "x": 0.1,
        "y": 0.1
       },
       "content": {
        "cell": "4dd2c3e0-83db-407b-aefa-b9dbb4fbb5fc",
        "part": "whole"
       },
       "id": "9c21b18d-5f6d-48cf-a34c-485387d47296"
      }
     }
    },
    "cbf5bb7d-888c-482e-9ff2-130dba1e17da": {
     "id": "cbf5bb7d-888c-482e-9ff2-130dba1e17da",
     "prev": "2d694f08-bc0a-4a53-a2a0-9f0e9bd7882f",
     "regions": {
      "888340a7-861f-4045-b92e-cbcadd881f0c": {
       "attrs": {
        "height": 0.8,
        "width": 0.8,
        "x": 0.1,
        "y": 0.1
       },
       "content": {
        "cell": "eeea493a-f604-4696-bc2f-6d3eccb0f586",
        "part": "whole"
       },
       "id": "888340a7-861f-4045-b92e-cbcadd881f0c"
      }
     }
    },
    "cc4a2253-7e6e-44ba-a18a-9124bf41b671": {
     "id": "cc4a2253-7e6e-44ba-a18a-9124bf41b671",
     "prev": "d056473e-611e-4186-8860-850b5218e338",
     "regions": {
      "7a7ca32b-56ff-4764-9b1b-cce4a989f957": {
       "attrs": {
        "height": 0.8,
        "width": 0.8,
        "x": 0.1,
        "y": 0.1
       },
       "content": {
        "cell": "68c0bf09-6eb0-4498-bd08-0ca334bc6e5b",
        "part": "whole"
       },
       "id": "7a7ca32b-56ff-4764-9b1b-cce4a989f957"
      }
     }
    },
    "cd193968-d054-4281-82e7-9b67f0f7506a": {
     "id": "cd193968-d054-4281-82e7-9b67f0f7506a",
     "prev": "31d2f052-8012-4c2c-97b9-e73514728490",
     "regions": {
      "acce619e-8d35-427d-85b2-37c9d7052218": {
       "attrs": {
        "height": 0.8,
        "width": 0.8,
        "x": 0.1,
        "y": 0.1
       },
       "content": {
        "cell": "833f47d2-576a-43bf-8d85-3f853b9a3be3",
        "part": "whole"
       },
       "id": "acce619e-8d35-427d-85b2-37c9d7052218"
      }
     }
    },
    "cffa440e-a953-4bd2-b8dc-aa3be1ceb06a": {
     "id": "cffa440e-a953-4bd2-b8dc-aa3be1ceb06a",
     "prev": "84512f96-37e9-4b37-96f6-5ebf1caabeb9",
     "regions": {
      "0e5143ba-4295-4ba5-aebb-0b3e99a6b219": {
       "attrs": {
        "height": 0.8,
        "width": 0.8,
        "x": 0.1,
        "y": 0.1
       },
       "content": {
        "cell": "bf3837bf-52b7-47e7-bce9-f48449c70288",
        "part": "whole"
       },
       "id": "0e5143ba-4295-4ba5-aebb-0b3e99a6b219"
      }
     }
    },
    "d00784e3-4fde-4759-8017-859b730c7107": {
     "id": "d00784e3-4fde-4759-8017-859b730c7107",
     "prev": "77d3189f-afeb-4291-b996-5c7734014627",
     "regions": {
      "d5e5245a-0f21-42bb-bf98-c3d863443e76": {
       "attrs": {
        "height": 0.8,
        "width": 0.8,
        "x": 0.1,
        "y": 0.1
       },
       "content": {
        "cell": "4530b23b-2318-4409-921f-8ee2dc665327",
        "part": "whole"
       },
       "id": "d5e5245a-0f21-42bb-bf98-c3d863443e76"
      }
     }
    },
    "d056473e-611e-4186-8860-850b5218e338": {
     "id": "d056473e-611e-4186-8860-850b5218e338",
     "prev": "14bb0be7-7959-4163-bc6d-5f77eb8e4fcc",
     "regions": {
      "9bf0de1b-f282-4044-aecb-cd1570954450": {
       "attrs": {
        "height": 0.8,
        "width": 0.8,
        "x": 0.1,
        "y": 0.1
       },
       "content": {
        "cell": "a806af30-5593-4124-8bb7-d458c2853ad8",
        "part": "whole"
       },
       "id": "9bf0de1b-f282-4044-aecb-cd1570954450"
      }
     }
    },
    "d3410f19-5432-4612-989f-f10c5cc4a44d": {
     "id": "d3410f19-5432-4612-989f-f10c5cc4a44d",
     "prev": "ab5420c9-04c6-44eb-92de-0380f1b100a7",
     "regions": {
      "a2e8aeb9-7f9d-4b4e-80db-88409dac3a15": {
       "attrs": {
        "height": 0.8,
        "width": 0.8,
        "x": 0.1,
        "y": 0.1
       },
       "content": {
        "cell": "a27c357b-88af-4112-a754-e11efa79dff2",
        "part": "whole"
       },
       "id": "a2e8aeb9-7f9d-4b4e-80db-88409dac3a15"
      }
     }
    },
    "d3a86a05-28d5-4035-aba6-6a7e40e4c59a": {
     "id": "d3a86a05-28d5-4035-aba6-6a7e40e4c59a",
     "prev": "d9ed6526-60f8-44ae-869b-8bc28496308c",
     "regions": {
      "891146ce-5788-4337-822c-b900d3009793": {
       "attrs": {
        "height": 0.8,
        "width": 0.8,
        "x": 0.1,
        "y": 0.1
       },
       "content": {
        "cell": "4f32ef1d-bbac-41a0-928b-75941eb6508c",
        "part": "whole"
       },
       "id": "891146ce-5788-4337-822c-b900d3009793"
      }
     }
    },
    "d3aadec2-8043-43db-9631-ed468c9eba61": {
     "id": "d3aadec2-8043-43db-9631-ed468c9eba61",
     "prev": "105092e3-9521-4e1b-925a-89fbea3bda08",
     "regions": {
      "948e30d2-5d8c-4167-a0c1-4282314b4bb7": {
       "attrs": {
        "height": 0.8,
        "width": 0.8,
        "x": 0.1,
        "y": 0.1
       },
       "content": {
        "cell": "1e16dc55-b746-4e32-a1d2-27b157651f9a",
        "part": "whole"
       },
       "id": "948e30d2-5d8c-4167-a0c1-4282314b4bb7"
      }
     }
    },
    "d5581167-706a-4f91-9d66-e96ecc831575": {
     "id": "d5581167-706a-4f91-9d66-e96ecc831575",
     "prev": "95160d91-e989-42bb-a185-6f87cbe4085a",
     "regions": {
      "a2f139b3-6d4c-4d1b-a821-6e3a38a83552": {
       "attrs": {
        "height": 0.8,
        "width": 0.8,
        "x": 0.1,
        "y": 0.1
       },
       "content": {
        "cell": "60b46d21-9ffe-496e-9245-20a5cac07ec9",
        "part": "whole"
       },
       "id": "a2f139b3-6d4c-4d1b-a821-6e3a38a83552"
      }
     }
    },
    "d55be3e8-b197-464c-b6f9-400658b15b99": {
     "id": "d55be3e8-b197-464c-b6f9-400658b15b99",
     "prev": "cbf5bb7d-888c-482e-9ff2-130dba1e17da",
     "regions": {
      "354afa69-9de4-4399-8661-8307fa464811": {
       "attrs": {
        "height": 0.8,
        "width": 0.8,
        "x": 0.1,
        "y": 0.1
       },
       "content": {
        "cell": "c2015789-2fd8-46d5-9d58-5291f8e895df",
        "part": "whole"
       },
       "id": "354afa69-9de4-4399-8661-8307fa464811"
      }
     }
    },
    "d8f917c5-3c25-4e5d-8787-f5a97f611806": {
     "id": "d8f917c5-3c25-4e5d-8787-f5a97f611806",
     "prev": "e0f8cf7c-ac61-4233-ad74-66e9bd92573a",
     "regions": {
      "a9159b4c-23ee-475e-b558-eeeb612de805": {
       "attrs": {
        "height": 0.8,
        "width": 0.8,
        "x": 0.1,
        "y": 0.1
       },
       "content": {
        "cell": "cd7cb1fc-aff2-4eb4-b96b-a136745c7758",
        "part": "whole"
       },
       "id": "a9159b4c-23ee-475e-b558-eeeb612de805"
      }
     }
    },
    "d9ed6526-60f8-44ae-869b-8bc28496308c": {
     "id": "d9ed6526-60f8-44ae-869b-8bc28496308c",
     "prev": "2238fd84-2a89-4544-a31e-be3956ed3f65",
     "regions": {
      "23139c2f-cd92-4e3f-b8ab-0387d994a22b": {
       "attrs": {
        "height": 0.8,
        "width": 0.8,
        "x": 0.1,
        "y": 0.1
       },
       "content": {
        "cell": "c8775c40-9bd4-4f67-95dc-5bd8649d797a",
        "part": "whole"
       },
       "id": "23139c2f-cd92-4e3f-b8ab-0387d994a22b"
      }
     }
    },
    "de87b522-18eb-4c18-a639-a6477f621358": {
     "id": "de87b522-18eb-4c18-a639-a6477f621358",
     "prev": "c4be363c-01fe-4b2b-99c9-23eee8ae4c27",
     "regions": {
      "8707c4e0-3fbb-428e-8a83-5e8c09f0b8ad": {
       "attrs": {
        "height": 0.8,
        "width": 0.8,
        "x": 0.1,
        "y": 0.1
       },
       "content": {
        "cell": "7b8b4fd8-4015-4b2b-bfd3-f0b070122358",
        "part": "whole"
       },
       "id": "8707c4e0-3fbb-428e-8a83-5e8c09f0b8ad"
      }
     }
    },
    "e0f8cf7c-ac61-4233-ad74-66e9bd92573a": {
     "id": "e0f8cf7c-ac61-4233-ad74-66e9bd92573a",
     "prev": "c123838d-2802-46af-abc4-6d73c834211e",
     "regions": {
      "ce3d0f40-b729-4a0c-8ff9-5ba4cd87f20e": {
       "attrs": {
        "height": 0.8,
        "width": 0.8,
        "x": 0.1,
        "y": 0.1
       },
       "content": {
        "cell": "39e3b2cc-4a74-4028-9d0f-ea409e237cb6",
        "part": "whole"
       },
       "id": "ce3d0f40-b729-4a0c-8ff9-5ba4cd87f20e"
      }
     }
    },
    "e100e660-2a7e-4f4b-a42f-652b1e8bd4cb": {
     "id": "e100e660-2a7e-4f4b-a42f-652b1e8bd4cb",
     "prev": "5836c36f-6255-49e8-9fda-bb25f10a071b",
     "regions": {
      "4c1d133e-d507-4f14-bf3d-adae7951259f": {
       "attrs": {
        "height": 0.8,
        "width": 0.8,
        "x": 0.1,
        "y": 0.1
       },
       "content": {
        "cell": "e7b1eeb3-a8bd-4612-a8b9-41ee0d6b816f",
        "part": "whole"
       },
       "id": "4c1d133e-d507-4f14-bf3d-adae7951259f"
      }
     }
    },
    "e175d6b9-455b-454a-a9f3-7c6bf98e0c63": {
     "id": "e175d6b9-455b-454a-a9f3-7c6bf98e0c63",
     "prev": "92c16ae9-499b-4817-9b6f-f23d37da306f",
     "regions": {
      "2d523948-92d7-4f27-a8c4-0da797d8412e": {
       "attrs": {
        "height": 0.8,
        "width": 0.8,
        "x": 0.1,
        "y": 0.1
       },
       "content": {
        "cell": "d5c73eec-9850-4af4-bfd5-f7fd6145cdd5",
        "part": "whole"
       },
       "id": "2d523948-92d7-4f27-a8c4-0da797d8412e"
      }
     }
    },
    "e351f550-b49a-44b8-8330-95433db27311": {
     "id": "e351f550-b49a-44b8-8330-95433db27311",
     "prev": "3df3596a-2102-4a55-89ab-9086c719bba1",
     "regions": {
      "fde67749-3358-4d9f-92e5-8c263842a6a0": {
       "attrs": {
        "height": 0.8,
        "width": 0.8,
        "x": 0.1,
        "y": 0.1
       },
       "content": {
        "cell": "842a7f12-4cb4-4f51-a169-3cc6438c8fce",
        "part": "whole"
       },
       "id": "fde67749-3358-4d9f-92e5-8c263842a6a0"
      }
     }
    },
    "e47cc9fe-a3f9-4235-bac6-317a74c7f123": {
     "id": "e47cc9fe-a3f9-4235-bac6-317a74c7f123",
     "prev": "8df6e7ea-d1d4-43a0-b5a0-36381484fa55",
     "regions": {
      "6850418e-02c4-45e3-9960-013f23ebf0eb": {
       "attrs": {
        "height": 0.8,
        "width": 0.8,
        "x": 0.1,
        "y": 0.1
       },
       "content": {
        "cell": "36af35f8-a4c7-47b9-b651-12e622d7bb17",
        "part": "whole"
       },
       "id": "6850418e-02c4-45e3-9960-013f23ebf0eb"
      }
     }
    },
    "e61374f0-3b22-46f1-8f83-d17fb10bba9a": {
     "id": "e61374f0-3b22-46f1-8f83-d17fb10bba9a",
     "prev": "289f607c-d43c-49fa-88d0-9dd7c0184a04",
     "regions": {
      "386f8ea0-d189-4323-9d31-00d1cf4de84c": {
       "attrs": {
        "height": 0.8,
        "width": 0.8,
        "x": 0.1,
        "y": 0.1
       },
       "content": {
        "cell": "659df50c-ff81-4722-b62a-148f602bc5d9",
        "part": "whole"
       },
       "id": "386f8ea0-d189-4323-9d31-00d1cf4de84c"
      }
     }
    },
    "e6736d98-e4ff-41c5-a42e-d6d7f4efc8d4": {
     "id": "e6736d98-e4ff-41c5-a42e-d6d7f4efc8d4",
     "prev": "86dab9e5-eecc-4cf9-a1af-fde6d423b7ed",
     "regions": {
      "87466626-9fe6-4c1d-95c1-c454427eaed6": {
       "attrs": {
        "height": 0.8,
        "width": 0.8,
        "x": 0.1,
        "y": 0.1
       },
       "content": {
        "cell": "8f774986-f8e7-421e-bcae-41248eb12237",
        "part": "whole"
       },
       "id": "87466626-9fe6-4c1d-95c1-c454427eaed6"
      }
     }
    },
    "e7b1bad1-6b1c-4df4-a183-5f61d03ad8a3": {
     "id": "e7b1bad1-6b1c-4df4-a183-5f61d03ad8a3",
     "prev": "73aff777-27bc-4986-95a1-449531e033ff",
     "regions": {
      "688cdac5-522f-4811-83ee-872a858241ac": {
       "attrs": {
        "height": 0.8,
        "width": 0.8,
        "x": 0.1,
        "y": 0.1
       },
       "content": {
        "cell": "ec1bca5f-3476-4abb-928f-6c071fac203a",
        "part": "whole"
       },
       "id": "688cdac5-522f-4811-83ee-872a858241ac"
      }
     }
    },
    "e7d4c69d-affa-4a92-9734-980b2ea961e4": {
     "id": "e7d4c69d-affa-4a92-9734-980b2ea961e4",
     "prev": "c335e3f7-b9a2-4641-81ac-17109a291051",
     "regions": {
      "d4c0fd28-4d88-4271-ba8e-9631dd82661d": {
       "attrs": {
        "height": 0.8,
        "width": 0.8,
        "x": 0.1,
        "y": 0.1
       },
       "content": {
        "cell": "54f2aafb-cf2d-4ca3-aeed-8b8e7640cf45",
        "part": "whole"
       },
       "id": "d4c0fd28-4d88-4271-ba8e-9631dd82661d"
      }
     }
    },
    "e8089ccf-9780-45a4-8545-41ee16b95fc8": {
     "id": "e8089ccf-9780-45a4-8545-41ee16b95fc8",
     "prev": "08319543-0934-425c-bded-1f53b270e762",
     "regions": {
      "16467331-bbe0-4861-8d93-04c47035ea83": {
       "attrs": {
        "height": 0.8,
        "width": 0.8,
        "x": 0.1,
        "y": 0.1
       },
       "content": {
        "cell": "dcaf4328-bf16-4cec-aa4b-e2b6b4c50dee",
        "part": "whole"
       },
       "id": "16467331-bbe0-4861-8d93-04c47035ea83"
      }
     }
    },
    "e9dd8ccc-0b19-471f-bb9c-2ea422268d3b": {
     "id": "e9dd8ccc-0b19-471f-bb9c-2ea422268d3b",
     "prev": "9fd31015-3316-497f-a195-85a06f1d6de9",
     "regions": {
      "0099ec07-cd64-41b8-bb9a-7661513d2d8b": {
       "attrs": {
        "height": 0.8,
        "width": 0.8,
        "x": 0.1,
        "y": 0.1
       },
       "content": {
        "cell": "020f7f43-2b88-4405-92ef-ae8fe3a82876",
        "part": "whole"
       },
       "id": "0099ec07-cd64-41b8-bb9a-7661513d2d8b"
      }
     }
    },
    "ea102ea8-9425-4d87-8828-c84ad2a08d17": {
     "id": "ea102ea8-9425-4d87-8828-c84ad2a08d17",
     "prev": "ef08a13f-ab39-431a-a883-d5a1d0979115",
     "regions": {
      "d2dfc434-647c-4a99-8a99-350f16c220f3": {
       "attrs": {
        "height": 0.8,
        "width": 0.8,
        "x": 0.1,
        "y": 0.1
       },
       "content": {
        "cell": "1857d521-2279-4511-856f-6bc397a31452",
        "part": "whole"
       },
       "id": "d2dfc434-647c-4a99-8a99-350f16c220f3"
      }
     }
    },
    "eb3383ef-efd6-4f32-a17c-86706a2c9e70": {
     "id": "eb3383ef-efd6-4f32-a17c-86706a2c9e70",
     "prev": "cc4a2253-7e6e-44ba-a18a-9124bf41b671",
     "regions": {
      "2461415a-b87a-461d-b4b5-db5681b11ed7": {
       "attrs": {
        "height": 0.8,
        "width": 0.8,
        "x": 0.1,
        "y": 0.1
       },
       "content": {
        "cell": "bf735d32-362d-455e-b9df-4881cfaaa8ff",
        "part": "whole"
       },
       "id": "2461415a-b87a-461d-b4b5-db5681b11ed7"
      }
     }
    },
    "eb3a9710-cde0-464f-b5b9-7765b7b8db24": {
     "id": "eb3a9710-cde0-464f-b5b9-7765b7b8db24",
     "prev": "9d0d88b4-45f0-4790-987e-b2ce3ab1a53f",
     "regions": {
      "653c5c81-f3fc-45c8-a662-554dcb5496b4": {
       "attrs": {
        "height": 0.8,
        "width": 0.8,
        "x": 0.1,
        "y": 0.1
       },
       "content": {
        "cell": "f51d54c3-3da0-463f-9207-c55646d93638",
        "part": "whole"
       },
       "id": "653c5c81-f3fc-45c8-a662-554dcb5496b4"
      }
     }
    },
    "ebf3e9eb-baea-4f4f-9a8b-77292d108134": {
     "id": "ebf3e9eb-baea-4f4f-9a8b-77292d108134",
     "prev": "f75b7002-9b03-4727-aa8e-268a25f592b5",
     "regions": {
      "d90977e1-42b4-40b3-bfa1-41d3d9902334": {
       "attrs": {
        "height": 0.8,
        "width": 0.8,
        "x": 0.1,
        "y": 0.1
       },
       "content": {
        "cell": "511b791a-d543-4b39-ab49-76606f09a777",
        "part": "whole"
       },
       "id": "d90977e1-42b4-40b3-bfa1-41d3d9902334"
      }
     }
    },
    "ec81f128-c459-4126-b075-464ea504721f": {
     "id": "ec81f128-c459-4126-b075-464ea504721f",
     "prev": "f1fda4f7-8e32-4ba4-89f9-355670bf7be7",
     "regions": {
      "9f52d9b1-4caf-4d5b-90f4-99bcba5eeec3": {
       "attrs": {
        "height": 0.8,
        "width": 0.8,
        "x": 0.1,
        "y": 0.1
       },
       "content": {
        "cell": "4f067f0f-f488-409b-bd2b-b56b87a767de",
        "part": "whole"
       },
       "id": "9f52d9b1-4caf-4d5b-90f4-99bcba5eeec3"
      }
     }
    },
    "ef08a13f-ab39-431a-a883-d5a1d0979115": {
     "id": "ef08a13f-ab39-431a-a883-d5a1d0979115",
     "prev": "3f9e8fb2-0d87-4f6a-9441-f16d69def8f0",
     "regions": {
      "dffd5d97-1658-4688-a712-b24dcdb1189e": {
       "attrs": {
        "height": 0.8,
        "width": 0.8,
        "x": 0.1,
        "y": 0.1
       },
       "content": {
        "cell": "bef7d30f-baee-47af-965c-37873897a3af",
        "part": "whole"
       },
       "id": "dffd5d97-1658-4688-a712-b24dcdb1189e"
      }
     }
    },
    "efc4a985-5e68-4fbd-8080-57288a409a83": {
     "id": "efc4a985-5e68-4fbd-8080-57288a409a83",
     "prev": "646615f6-a696-4df9-b2bf-9fa4972a3fd6",
     "regions": {
      "2e086e14-f3d9-4a15-a1c6-7b795e8122ee": {
       "attrs": {
        "height": 0.8,
        "width": 0.8,
        "x": 0.1,
        "y": 0.1
       },
       "content": {
        "cell": "07ff4a01-812a-4b08-9522-05bd79a74a48",
        "part": "whole"
       },
       "id": "2e086e14-f3d9-4a15-a1c6-7b795e8122ee"
      }
     }
    },
    "f0500b2c-de07-412a-b94d-39bd77c9f6e2": {
     "id": "f0500b2c-de07-412a-b94d-39bd77c9f6e2",
     "prev": "00c2ebfa-0100-4b40-a67e-6a32cfa48b22",
     "regions": {
      "0d601611-708c-44ac-b100-d9c571eb095a": {
       "attrs": {
        "height": 0.8,
        "width": 0.8,
        "x": 0.1,
        "y": 0.1
       },
       "content": {
        "cell": "fbfdb73b-42aa-4d6c-8607-de4d7e930345",
        "part": "whole"
       },
       "id": "0d601611-708c-44ac-b100-d9c571eb095a"
      }
     }
    },
    "f0aaf0d8-4441-4919-a0d5-0622eb2a5d88": {
     "id": "f0aaf0d8-4441-4919-a0d5-0622eb2a5d88",
     "prev": "e351f550-b49a-44b8-8330-95433db27311",
     "regions": {
      "2c9d6289-725e-4a88-9d7b-2d1e981a95d4": {
       "attrs": {
        "height": 0.8,
        "width": 0.8,
        "x": 0.1,
        "y": 0.1
       },
       "content": {
        "cell": "58c220d8-0ffb-482a-b294-f6d495cf4b51",
        "part": "whole"
       },
       "id": "2c9d6289-725e-4a88-9d7b-2d1e981a95d4"
      }
     }
    },
    "f1b80262-7843-49cc-a5cd-4745b19f3978": {
     "id": "f1b80262-7843-49cc-a5cd-4745b19f3978",
     "prev": "b795fbc1-8d3e-4329-bfda-7fc729633567",
     "regions": {
      "5aa2161a-2093-49bb-8ff6-f70de728afc3": {
       "attrs": {
        "height": 0.8,
        "width": 0.8,
        "x": 0.1,
        "y": 0.1
       },
       "content": {
        "cell": "9594cb7f-7599-49b2-b65f-335bbc6d90b0",
        "part": "whole"
       },
       "id": "5aa2161a-2093-49bb-8ff6-f70de728afc3"
      }
     }
    },
    "f1d0836b-51b6-4da7-ab98-0a5828c9bbb3": {
     "id": "f1d0836b-51b6-4da7-ab98-0a5828c9bbb3",
     "prev": "7cfff8ad-751a-47bb-852c-5e133999003e",
     "regions": {
      "64c35a80-5545-4540-81c8-7b6296b6b7e7": {
       "attrs": {
        "height": 0.8,
        "width": 0.8,
        "x": 0.1,
        "y": 0.1
       },
       "content": {
        "cell": "ee59bc8f-cf0f-4aaf-a8ae-b5c2763cc79b",
        "part": "whole"
       },
       "id": "64c35a80-5545-4540-81c8-7b6296b6b7e7"
      }
     }
    },
    "f1fda4f7-8e32-4ba4-89f9-355670bf7be7": {
     "id": "f1fda4f7-8e32-4ba4-89f9-355670bf7be7",
     "prev": "17361deb-8540-4ec7-a58e-38bf3b6a011d",
     "regions": {
      "e91daafe-e981-4771-871e-d9334443b888": {
       "attrs": {
        "height": 0.8,
        "width": 0.8,
        "x": 0.1,
        "y": 0.1
       },
       "content": {
        "cell": "6f7c6e9f-8a23-4093-8306-f1d086c93874",
        "part": "whole"
       },
       "id": "e91daafe-e981-4771-871e-d9334443b888"
      }
     }
    },
    "f228d481-5fc0-4b77-893d-124a217e76f8": {
     "id": "f228d481-5fc0-4b77-893d-124a217e76f8",
     "prev": "28e6e5e0-4c8d-480b-88c4-212bb8a9a5d3",
     "regions": {
      "6064fce7-c813-482c-9d1f-9f3e8c6b0989": {
       "attrs": {
        "height": 0.8,
        "width": 0.8,
        "x": 0.1,
        "y": 0.1
       },
       "content": {
        "cell": "be5663ea-c3e0-493d-9d79-f62a519cec85",
        "part": "whole"
       },
       "id": "6064fce7-c813-482c-9d1f-9f3e8c6b0989"
      }
     }
    },
    "f28c4ada-e14a-45a5-8ac6-19e63cc7994e": {
     "id": "f28c4ada-e14a-45a5-8ac6-19e63cc7994e",
     "prev": "2440aa4d-fcf2-4b7e-bc47-8548a87a6ea7",
     "regions": {
      "404bccc3-c1c1-4570-9223-1a8b7c0a40e0": {
       "attrs": {
        "height": 0.8,
        "width": 0.8,
        "x": 0.1,
        "y": 0.1
       },
       "content": {
        "cell": "90778e0d-2726-4c96-bae9-af808aa17696",
        "part": "whole"
       },
       "id": "404bccc3-c1c1-4570-9223-1a8b7c0a40e0"
      }
     }
    },
    "f2aec887-b5c6-4392-8980-acc096112791": {
     "id": "f2aec887-b5c6-4392-8980-acc096112791",
     "prev": "0ccc1664-e9f4-4e9a-b15a-eb9f5331434a",
     "regions": {
      "79856fbb-2c65-4151-b923-50df34f356e4": {
       "attrs": {
        "height": 0.8,
        "width": 0.8,
        "x": 0.1,
        "y": 0.1
       },
       "content": {
        "cell": "fea3e8ab-ae8f-4c92-9a14-1f67d1b046d5",
        "part": "whole"
       },
       "id": "79856fbb-2c65-4151-b923-50df34f356e4"
      }
     }
    },
    "f4a79847-e440-4549-ac36-12c5f7ae16cd": {
     "id": "f4a79847-e440-4549-ac36-12c5f7ae16cd",
     "prev": "e47cc9fe-a3f9-4235-bac6-317a74c7f123",
     "regions": {
      "5854150a-eaad-43e0-8516-0f25aeb320c4": {
       "attrs": {
        "height": 0.8,
        "width": 0.8,
        "x": 0.1,
        "y": 0.1
       },
       "content": {
        "cell": "63216f7b-1fbc-455f-a690-3439ac18de81",
        "part": "whole"
       },
       "id": "5854150a-eaad-43e0-8516-0f25aeb320c4"
      }
     }
    },
    "f54407be-9c02-4485-bef5-b7a81592cd7b": {
     "id": "f54407be-9c02-4485-bef5-b7a81592cd7b",
     "prev": "82e97888-e9e0-4c22-b092-c887e18f1fc7",
     "regions": {
      "8540810a-cf38-4e61-b522-5f88fd0fe124": {
       "attrs": {
        "height": 0.8,
        "width": 0.8,
        "x": 0.1,
        "y": 0.1
       },
       "content": {
        "cell": "be48f745-c87b-461d-99c1-ea8cce9efd52",
        "part": "whole"
       },
       "id": "8540810a-cf38-4e61-b522-5f88fd0fe124"
      }
     }
    },
    "f5a70ffb-4a57-44dc-bd98-766d4d57a191": {
     "id": "f5a70ffb-4a57-44dc-bd98-766d4d57a191",
     "prev": "a49ff41e-16f8-4551-bfa2-73f81f76498d",
     "regions": {
      "c3dccfc0-112a-4c1f-ba4f-f35ca9731450": {
       "attrs": {
        "height": 0.8,
        "width": 0.8,
        "x": 0.1,
        "y": 0.1
       },
       "content": {
        "cell": "5354b9bd-c9ea-4690-8910-1803c3ed9b84",
        "part": "whole"
       },
       "id": "c3dccfc0-112a-4c1f-ba4f-f35ca9731450"
      }
     }
    },
    "f5a7656f-b3db-4183-9c5d-281a9a4107f5": {
     "id": "f5a7656f-b3db-4183-9c5d-281a9a4107f5",
     "prev": "94893e4e-64c7-4293-988a-943388cac9bf",
     "regions": {
      "16f9dc60-26ef-4ead-9581-e74d3b910c50": {
       "attrs": {
        "height": 0.8,
        "width": 0.8,
        "x": 0.1,
        "y": 0.1
       },
       "content": {
        "cell": "a91ef282-77b8-44fa-8f41-61b2733727ba",
        "part": "whole"
       },
       "id": "16f9dc60-26ef-4ead-9581-e74d3b910c50"
      }
     }
    },
    "f6536e0e-5e5a-4eee-9d6d-a943c3cc2ad5": {
     "id": "f6536e0e-5e5a-4eee-9d6d-a943c3cc2ad5",
     "prev": "8a747dec-9477-4833-8387-48be9167bc51",
     "regions": {
      "c0178303-faed-488b-a8a7-3f82a693973b": {
       "attrs": {
        "height": 0.8,
        "width": 0.8,
        "x": 0.1,
        "y": 0.1
       },
       "content": {
        "cell": "d4651dc6-f125-47d0-a46c-8fe06a7bc4be",
        "part": "whole"
       },
       "id": "c0178303-faed-488b-a8a7-3f82a693973b"
      }
     }
    },
    "f7509fbd-ab9a-4911-9138-6b1af48f01f0": {
     "id": "f7509fbd-ab9a-4911-9138-6b1af48f01f0",
     "prev": "bf9a6d66-d1e7-4558-9db2-aa2c5a08e272",
     "regions": {
      "f3413e2a-8a1c-4c3a-9a0f-11faf9e49e11": {
       "attrs": {
        "height": 0.8,
        "width": 0.8,
        "x": 0.1,
        "y": 0.1
       },
       "content": {
        "cell": "e4ef7ce1-bf0b-4bb5-bab7-885076da8f55",
        "part": "whole"
       },
       "id": "f3413e2a-8a1c-4c3a-9a0f-11faf9e49e11"
      }
     }
    },
    "f75b7002-9b03-4727-aa8e-268a25f592b5": {
     "id": "f75b7002-9b03-4727-aa8e-268a25f592b5",
     "prev": "64aa93f7-d0a4-4f3f-9152-cb117c0d33d2",
     "regions": {
      "5abe2054-886e-42de-903a-e910ebe92920": {
       "attrs": {
        "height": 0.8,
        "width": 0.8,
        "x": 0.1,
        "y": 0.1
       },
       "content": {
        "cell": "1fa941d8-24b8-49a4-9c3d-f5b162ef9fca",
        "part": "whole"
       },
       "id": "5abe2054-886e-42de-903a-e910ebe92920"
      }
     }
    },
    "f7ddf4dc-80d7-481b-9d21-1166031f8c04": {
     "id": "f7ddf4dc-80d7-481b-9d21-1166031f8c04",
     "prev": "350078d1-cdee-4f48-b929-7fb2ffc2f3d0",
     "regions": {
      "d28ec8ce-ab99-4765-9d6b-cb69c9024b92": {
       "attrs": {
        "height": 0.8,
        "width": 0.8,
        "x": 0.1,
        "y": 0.1
       },
       "content": {
        "cell": "a62c4cd9-9b6c-4a93-ab3c-2433ceac4255",
        "part": "whole"
       },
       "id": "d28ec8ce-ab99-4765-9d6b-cb69c9024b92"
      }
     }
    },
    "f8392f0b-5089-4d5e-84eb-e1722a4c85aa": {
     "id": "f8392f0b-5089-4d5e-84eb-e1722a4c85aa",
     "prev": "5532ce63-059b-4216-9065-4c46bd7d89f7",
     "regions": {
      "f0f7adf6-6207-4d11-b7ba-6e361b9e5592": {
       "attrs": {
        "height": 0.8,
        "width": 0.8,
        "x": 0.1,
        "y": 0.1
       },
       "content": {
        "cell": "16504a79-f399-44ff-ad96-31d5794a5e01",
        "part": "whole"
       },
       "id": "f0f7adf6-6207-4d11-b7ba-6e361b9e5592"
      }
     }
    },
    "fd0caf8a-3d5d-41f3-9caa-08c21b3f26a8": {
     "id": "fd0caf8a-3d5d-41f3-9caa-08c21b3f26a8",
     "prev": "e61374f0-3b22-46f1-8f83-d17fb10bba9a",
     "regions": {
      "5428603b-b20f-4e04-a4b5-91603986ef36": {
       "attrs": {
        "height": 0.8,
        "width": 0.8,
        "x": 0.1,
        "y": 0.1
       },
       "content": {
        "cell": "9d106b81-205c-4f6a-adb1-c27f54cf6d09",
        "part": "whole"
       },
       "id": "5428603b-b20f-4e04-a4b5-91603986ef36"
      }
     }
    },
    "fe7b1364-ffbc-4fd1-8a08-e3ba54ab969a": {
     "id": "fe7b1364-ffbc-4fd1-8a08-e3ba54ab969a",
     "prev": "6973a990-a560-45da-bf08-33dab23595da",
     "regions": {
      "b6b30b06-ee94-466d-946f-6880915a4513": {
       "attrs": {
        "height": 0.8,
        "width": 0.8,
        "x": 0.1,
        "y": 0.1
       },
       "content": {
        "cell": "c8f76150-5cb1-48ee-97dc-a21962811c13",
        "part": "whole"
       },
       "id": "b6b30b06-ee94-466d-946f-6880915a4513"
      }
     }
    },
    "fec8363d-0549-4194-8e81-38bd3a4f034f": {
     "id": "fec8363d-0549-4194-8e81-38bd3a4f034f",
     "prev": "f5a70ffb-4a57-44dc-bd98-766d4d57a191",
     "regions": {
      "0dc53c7c-b629-4e9d-baab-39de6d8d53ec": {
       "attrs": {
        "height": 0.8,
        "width": 0.8,
        "x": 0.1,
        "y": 0.1
       },
       "content": {
        "cell": "d56dc642-606f-4b63-ad4e-7152d90e52ef",
        "part": "whole"
       },
       "id": "0dc53c7c-b629-4e9d-baab-39de6d8d53ec"
      }
     }
    },
    "ff697b9e-7715-4ae9-ab5d-0e81997651c1": {
     "id": "ff697b9e-7715-4ae9-ab5d-0e81997651c1",
     "prev": "b44ea508-b605-40b2-87dc-6298f0c98fd0",
     "regions": {
      "6350ce57-f19a-4b15-8fbf-c4f8451a7daf": {
       "attrs": {
        "height": 0.8,
        "width": 0.8,
        "x": 0.1,
        "y": 0.1
       },
       "content": {
        "cell": "6b68b809-7766-429b-bc9b-39316030e16b",
        "part": "whole"
       },
       "id": "6350ce57-f19a-4b15-8fbf-c4f8451a7daf"
      }
     }
    }
   },
   "themes": {}
  },
  "toc": {
   "nav_menu": {
    "height": "345px",
    "width": "252px"
   },
   "number_sections": false,
   "sideBar": true,
   "skip_h1_title": false,
   "toc_cell": false,
   "toc_position": {
    "height": "582px",
    "left": "0px",
    "right": "1106px",
    "top": "111px",
    "width": "260px"
   },
   "toc_section_display": "block",
   "toc_window_display": false
  },
  "toc_position": {
   "height": "552px",
   "left": "0px",
   "right": "1067px",
   "top": "107px",
   "width": "299px"
  }
 },
 "nbformat": 4,
 "nbformat_minor": 4
}
