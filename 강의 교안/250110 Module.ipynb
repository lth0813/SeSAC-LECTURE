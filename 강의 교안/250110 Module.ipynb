{
 "cells": [
  {
   "cell_type": "markdown",
   "metadata": {
    "id": "h3sNtgVf0Zhc"
   },
   "source": [
    "# 10장 모듈"
   ]
  },
  {
   "cell_type": "markdown",
   "metadata": {
    "id": "e0dYGNbD0Zhf"
   },
   "source": [
    "- 파이썬 코드를 작성한 후 파일로 저장하면 \n",
    "- 다른 코드에서도 이 파일의 변수, 함수, 클래스를 불러와 이용할 수가 있음\n",
    "- 파이썬에서는 코드가 저장된 파일을 모듈(Module)\n",
    "- 코드를 작성할 때 이미 만들어진 모듈을 활용하면 코드를 효과적으로 작성할 수 있음"
   ]
  },
  {
   "cell_type": "markdown",
   "metadata": {
    "id": "tQFPOvEX0Zhg"
   },
   "source": [
    "## 10.1 모듈을 사용하는 이유"
   ]
  },
  {
   "cell_type": "markdown",
   "metadata": {
    "id": "vzohwYCy0Zhh"
   },
   "source": [
    "- 파이썬에서 모듈은 상수, 변수, 함수, 클래스를 포함하는 코드가 저장된 파일\n",
    "- 모듈은 다른 모듈 에서도 불러서 실행할 수도 있고\n",
    "- 파이썬(혹은 IPython) 콘솔이나 주피터 노트북에서 불러서 실행할 수 있음"
   ]
  },
  {
   "cell_type": "markdown",
   "metadata": {
    "id": "qukkScuy0Zhi"
   },
   "source": [
    "- 모듈로 나누면 코드 작성과 관리가 쉬워짐\n",
    "- 이미 작성된 코드를 재사용할 수 있음\n",
    "- 공동작업이 편리해 짐"
   ]
  },
  {
   "cell_type": "markdown",
   "metadata": {
    "id": "V3Ox-k3N0Zhi"
   },
   "source": [
    "## 모듈 생성 및 호출"
   ]
  },
  {
   "cell_type": "markdown",
   "metadata": {
    "id": "LEUQRHq60Zhj"
   },
   "source": [
    "### 모듈 만들기"
   ]
  },
  {
   "cell_type": "markdown",
   "metadata": {
    "id": "PKwoyQsY0Zhj"
   },
   "source": [
    "- 모듈을 만드는 방법\n",
    "- 코드를 '모들이름.py'로 저장"
   ]
  },
  {
   "cell_type": "markdown",
   "metadata": {
    "id": "QVUorgyI0Zhk"
   },
   "source": [
    "- 내장 마술 명령어(magic command)인 ’%%writefile'을 이용해 코드를 파일로 저장"
   ]
  },
  {
   "cell_type": "code",
   "execution_count": 10,
   "metadata": {
    "id": "QqDlJu8x0Zhm"
   },
   "outputs": [
    {
     "name": "stdout",
     "output_type": "stream",
     "text": [
      "Overwriting my_first_module.py\n"
     ]
    }
   ],
   "source": [
    "%%writefile my_first_module.py\n",
    "# File name: my_first_module.py\n",
    "\n",
    "def my_function():\n",
    "    print(\"This is my first module.\") "
   ]
  },
  {
   "cell_type": "markdown",
   "metadata": {
    "id": "khWKrzPz0Zhn"
   },
   "source": [
    "- 파일이 잘 생성됐는지 확인"
   ]
  },
  {
   "cell_type": "code",
   "execution_count": 12,
   "metadata": {
    "id": "-TWXLF340Zhn",
    "scrolled": true
   },
   "outputs": [
    {
     "name": "stdout",
     "output_type": "stream",
     "text": [
      "# File name: my_first_module.py\n",
      "\n",
      "def my_function():\n",
      "    print(\"This is my first module.\") \n"
     ]
    }
   ],
   "source": [
    "!type my_first_module.py"
   ]
  },
  {
   "cell_type": "markdown",
   "metadata": {
    "id": "7ISWOZW10Zho"
   },
   "source": [
    "### 모듈 불러오기"
   ]
  },
  {
   "cell_type": "markdown",
   "metadata": {
    "id": "4xUfxDvo0Zho"
   },
   "source": [
    "- 생성된 모듈을 사용하는 방법\n",
    "- 모듈은 import를 이용\n",
    "- import 모듈명"
   ]
  },
  {
   "cell_type": "markdown",
   "metadata": {
    "id": "l8YukyIr0Zhp"
   },
   "source": [
    "- 모듈을 임포트한 후에는 '모듈명.변수', '모듈명.함수()', '모듈명.클래스()'와 같은 형식으로 모듈에서 정의한 내용을 사용"
   ]
  },
  {
   "cell_type": "code",
   "execution_count": 16,
   "metadata": {
    "id": "nY03Q6BC0Zhp"
   },
   "outputs": [
    {
     "name": "stderr",
     "output_type": "stream",
     "text": [
      "'ls'은(는) 내부 또는 외부 명령, 실행할 수 있는 프로그램, 또는\n",
      "배치 파일이 아닙니다.\n"
     ]
    }
   ],
   "source": [
    "!ls"
   ]
  },
  {
   "cell_type": "markdown",
   "metadata": {
    "id": "MDCMj5m10Zhp"
   },
   "source": [
    "- 만든 모듈(my_first_module)을 불러서 모듈의 함수를 실행"
   ]
  },
  {
   "cell_type": "code",
   "execution_count": 18,
   "metadata": {
    "id": "5CEC0wF10Zhp"
   },
   "outputs": [
    {
     "name": "stdout",
     "output_type": "stream",
     "text": [
      "This is my first module.\n"
     ]
    }
   ],
   "source": [
    "import my_first_module\n",
    "\n",
    "my_first_module.my_function()"
   ]
  },
  {
   "cell_type": "markdown",
   "metadata": {
    "id": "ldmxDaei0Zhp"
   },
   "source": [
    "- 만든 my_first_module 모듈을 'import 모듈명'으로 불러왔고\n",
    "- 모듈의 함수는 '모듈명.함수()'로실행"
   ]
  },
  {
   "cell_type": "code",
   "execution_count": 20,
   "metadata": {
    "id": "SWomAzDr0Zhq"
   },
   "outputs": [
    {
     "name": "stdout",
     "output_type": "stream",
     "text": [
      "Overwriting my_area.py\n"
     ]
    }
   ],
   "source": [
    "%%writefile my_area.py\n",
    "# File name: my_area.py\n",
    "\n",
    "PI = 3.14\n",
    "def square_area(a): # 정사각형의 넓이 반환\n",
    "    return a ** 2\n",
    "\n",
    "def circle_area(r): # 원의 넓이 반환\n",
    "    return PI * r ** 2"
   ]
  },
  {
   "cell_type": "markdown",
   "metadata": {
    "id": "k_8ZLgxr0Zhq"
   },
   "source": [
    "- 생성한 my_area 모듈을 import로 불러온 후 my_area 모듈에 있는 변수와 함수"
   ]
  },
  {
   "cell_type": "code",
   "execution_count": 22,
   "metadata": {
    "id": "O_YXUIUb0Zhq"
   },
   "outputs": [
    {
     "name": "stdout",
     "output_type": "stream",
     "text": [
      "pi = 3.14\n",
      "square area = 25\n",
      "circle area = 12.56\n"
     ]
    }
   ],
   "source": [
    "import my_area    # 모듈 불러오기\n",
    "\n",
    "print('pi =', my_area.PI) # 모듈의 변수 이용\n",
    "print('square area =', my_area.square_area(5)) # 모듈의 함수 이용      \n",
    "print('circle area =', my_area.circle_area(2))"
   ]
  },
  {
   "cell_type": "markdown",
   "metadata": {
    "id": "m_1vn-EE0Zhr"
   },
   "source": [
    "- 모듈을 불러온 이후에 '모듈명.변수','모둘명.함수()'의 형식으로 모듈 내의 변수와 함수를 호출"
   ]
  },
  {
   "cell_type": "markdown",
   "metadata": {
    "id": "my8xopq80Zhr"
   },
   "source": [
    "- 불러온 모듈에서 사용할 수 있는 변수, 함수, 클래스를 알고 싶다면 'dir(모듈명)'을 이용"
   ]
  },
  {
   "cell_type": "code",
   "execution_count": 25,
   "metadata": {
    "id": "F8uzxHea0Zhs"
   },
   "outputs": [
    {
     "data": {
      "text/plain": [
       "['PI',\n",
       " '__builtins__',\n",
       " '__cached__',\n",
       " '__doc__',\n",
       " '__file__',\n",
       " '__loader__',\n",
       " '__name__',\n",
       " '__package__',\n",
       " '__spec__',\n",
       " 'circle_area',\n",
       " 'square_area']"
      ]
     },
     "execution_count": 25,
     "metadata": {},
     "output_type": "execute_result"
    }
   ],
   "source": [
    "dir(my_area)"
   ]
  },
  {
   "cell_type": "markdown",
   "metadata": {
    "id": "YPZ4BA8h0Zhs"
   },
   "source": [
    "- my_area 모듈에서 정의한 변수 PI와 함수 circle_area()와 square_area()가 있음"
   ]
  },
  {
   "cell_type": "markdown",
   "metadata": {
    "id": "DuDwSLAh0Zhs"
   },
   "source": [
    "### 모듈을 불러오는 다른 형식"
   ]
  },
  {
   "cell_type": "markdown",
   "metadata": {
    "id": "3OpYGImK0Zhs"
   },
   "source": [
    "#### 모듈의 내용 바로 선언"
   ]
  },
  {
   "cell_type": "markdown",
   "metadata": {
    "id": "_M14fagu0Zhs"
   },
   "source": [
    "- 모듈 내의 변수와 함수를 호출하기 위해 \n",
    "- 'import 모듈명'으로 모듈을 불러와 '모듈명.변수', '모듈명.함수()'와 같은 형식을 이용하였음"
   ]
  },
  {
   "cell_type": "markdown",
   "metadata": {
    "id": "1p_kRuI_0Zhs"
   },
   "source": [
    "- 이 경우 모듈 내에서 정의한 내용을 호출하기 위해 계속해서 모듈명을 써야 하므로 코드를 작성할 때 불편"
   ]
  },
  {
   "cell_type": "markdown",
   "metadata": {
    "id": "rsANGLSc0Zht"
   },
   "source": [
    "- from 모듈명 import 변수명\n",
    "- from 모듈명 import 함수명 \n",
    "- from 모듈명 import 클래스명"
   ]
  },
  {
   "cell_type": "markdown",
   "metadata": {
    "id": "-irZnxMM0Zht"
   },
   "source": [
    "- 모듈 내에 있는 변수와 힘수, 그리고 클래스를 '모듈명.' 없이 '\n",
    "- '변수','함수()','클래스()'처럼 직접 호출해서 이용 할 수 있음"
   ]
  },
  {
   "cell_type": "markdown",
   "metadata": {
    "id": "z6bwbUHZ0Zht"
   },
   "source": [
    "- from 모듈명 import 변수명'형식으로 모듈에서 변수를 바로 불러와서 사용"
   ]
  },
  {
   "cell_type": "code",
   "execution_count": 34,
   "metadata": {
    "id": "Ezk-qHbC0Zht",
    "scrolled": true
   },
   "outputs": [
    {
     "name": "stdout",
     "output_type": "stream",
     "text": [
      "pi = 3.14\n"
     ]
    }
   ],
   "source": [
    "from my_area import PI # 모듈의 변수 바로 불러오기\n",
    "\n",
    "print('pi =', PI) # 모듈의 변수 이용"
   ]
  },
  {
   "cell_type": "markdown",
   "metadata": {
    "id": "6iJ-3pgX0Zht"
   },
   "source": [
    "- 모듈 함수를 'from 모듈명 import 함수명' 형식으로 바로 불러서 사용"
   ]
  },
  {
   "cell_type": "code",
   "execution_count": 36,
   "metadata": {
    "id": "SCjBE81D0Zht"
   },
   "outputs": [
    {
     "name": "stdout",
     "output_type": "stream",
     "text": [
      "square area = 25\n",
      "circle area = 12.56\n"
     ]
    }
   ],
   "source": [
    "from my_area import square_area\n",
    "from my_area import circle_area\n",
    "\n",
    "print('square area =', square_area(5)) # 모듈의 함수 이용      \n",
    "print('circle area =', circle_area(2))   "
   ]
  },
  {
   "cell_type": "markdown",
   "metadata": {
    "id": "sNBAq-JR0Zhu"
   },
   "source": [
    "- 모듈의 변수와 함수를 이용하기 위해 'from 모듈명 import 변수명'과 'from 모듈명 import 함수명'으로 \n",
    "- 필요한 변수와 함수 개수만큼 각각 선언해서 이용"
   ]
  },
  {
   "cell_type": "markdown",
   "metadata": {
    "id": "wYiS_CKR0Zhu"
   },
   "source": [
    "- 'from 모들명 import 변수명/함수명/클래스명'은 \n",
    "- 하나만 선언할 수 있는 것이 아니라 콤마(,)로 구분해서 여러 개를 선언할 수 있음"
   ]
  },
  {
   "cell_type": "markdown",
   "metadata": {
    "id": "yU-c6_Xd0Zhu"
   },
   "source": [
    "- 불러오려는 변수와 함수를 콤마를 이용해 여러 개 선언해서 이용"
   ]
  },
  {
   "cell_type": "code",
   "execution_count": 40,
   "metadata": {
    "id": "OMXewxTd0Zhu"
   },
   "outputs": [
    {
     "name": "stdout",
     "output_type": "stream",
     "text": [
      "pi = 3.14\n",
      "square area = 25\n",
      "circle area = 12.56\n"
     ]
    }
   ],
   "source": [
    "from my_area import PI, square_area, circle_area\n",
    "\n",
    "print('pi =', PI) # 모듈의 변수 이용\n",
    "print('square area =', square_area(5)) # 모듈의 함수 이용      \n",
    "print('circle area =', circle_area(2))  "
   ]
  },
  {
   "cell_type": "markdown",
   "metadata": {
    "id": "rtmJBWzH0Zhu"
   },
   "source": [
    "- 모듈의 모든 변수，함수, 클래스를 바로 모듈명 없이 바로 이용"
   ]
  },
  {
   "cell_type": "markdown",
   "metadata": {
    "id": "Gzwnk4N60Zhu"
   },
   "source": [
    "- from 모듈명 import *"
   ]
  },
  {
   "cell_type": "markdown",
   "metadata": {
    "id": "SGaioWA40Zhv"
   },
   "source": [
    "- 'from 모듈명 import *' 형식으로 선언해서 모듈 내의 모든 변수, 함수, 클래스를 불러옴"
   ]
  },
  {
   "cell_type": "code",
   "execution_count": 44,
   "metadata": {
    "id": "jBSdsGg20Zhv"
   },
   "outputs": [
    {
     "name": "stdout",
     "output_type": "stream",
     "text": [
      "pi = 3.14\n",
      "square area = 25\n",
      "circle area = 12.56\n"
     ]
    }
   ],
   "source": [
    "from my_area import *\n",
    "\n",
    "print('pi =', PI) # 모듈의 변수 이용\n",
    "print('square area =', square_area(5)) # 모듈의 함수 이용\n",
    "print('circle area =', circle_area(2)) "
   ]
  },
  {
   "cell_type": "markdown",
   "metadata": {
    "id": "hgztnLXL0Zhv"
   },
   "source": [
    "- 'from 모듈명 import *' 형식으로 선언하는 방법은 일일이，'모듈명.'을 쓰지 않고 \n",
    "- 모듈 내의 변수, 함수, 클래스를 사용할 수 있어서 편리하기는 하지만 \n",
    "- 모듈을 두 개 이상 이용할 때는 주의가 필요"
   ]
  },
  {
   "cell_type": "markdown",
   "metadata": {
    "id": "OYGnYpKY0Zhv"
   },
   "source": [
    "- my_module1과 my_module2 모듈을 작성"
   ]
  },
  {
   "cell_type": "code",
   "execution_count": 47,
   "metadata": {
    "id": "R8WSNzyQ0Zhv"
   },
   "outputs": [
    {
     "name": "stdout",
     "output_type": "stream",
     "text": [
      "Overwriting my_module1.py\n"
     ]
    }
   ],
   "source": [
    "%%writefile my_module1.py\n",
    "# File name: my_module1.py\n",
    "\n",
    "def func1():\n",
    "    print(\"func1 in  my_module1 \")\n",
    "\n",
    "def func2():\n",
    "    print(\"func2 in  my_module1 \")"
   ]
  },
  {
   "cell_type": "code",
   "execution_count": 48,
   "metadata": {
    "id": "X-ZYQvWF0Zhv"
   },
   "outputs": [
    {
     "name": "stdout",
     "output_type": "stream",
     "text": [
      "Overwriting my_module2.py\n"
     ]
    }
   ],
   "source": [
    "%%writefile my_module2.py\n",
    "# File name: my_module2.py\n",
    "\n",
    "def func2():\n",
    "    print(\"func2 in  my_module2 \")\n",
    "\n",
    "def func3():\n",
    "    print(\"func3 in  my_module2 \")"
   ]
  },
  {
   "cell_type": "markdown",
   "metadata": {
    "id": "ypez82IC0Zhv"
   },
   "source": [
    "- 모듈 my_module1 에는 func1 함수와 func2 함수가 있고\n",
    "- 모듈 my_module2에는 func2 함수와 func3 함수\n",
    "- 함수 func2는 my_module1 에도 있고 my_module2에도 있음"
   ]
  },
  {
   "cell_type": "markdown",
   "metadata": {
    "id": "eRz1RZnV0Zhv"
   },
   "source": [
    "- my_module1과 my_module2를 'from 모듈명 import *' 방법을 이용해 각 모듈의 함수를 불러온다면 \n",
    "- 모듈 my_module1과 모듈 my_module2에 공통으로 있는 func2는 어떤 것이 실행될까?"
   ]
  },
  {
   "cell_type": "code",
   "execution_count": 51,
   "metadata": {
    "id": "ktzOZxbb0Zhw"
   },
   "outputs": [
    {
     "name": "stdout",
     "output_type": "stream",
     "text": [
      "func1 in  my_module1 \n",
      "func2 in  my_module2 \n",
      "func3 in  my_module2 \n"
     ]
    }
   ],
   "source": [
    "from my_module1 import *\n",
    "from my_module2 import *\n",
    "\n",
    "func1()\n",
    "func2()\n",
    "func3()"
   ]
  },
  {
   "cell_type": "markdown",
   "metadata": {
    "id": "QHao0-nx0Zhw"
   },
   "source": [
    "- 코드는 오류 없이 잘 수행\n",
    "- 모듈 my_module1과 모듈 my_module2에만 각각 존재하는 func1과 func3은 불러오는데 문제가 없음"
   ]
  },
  {
   "cell_type": "markdown",
   "metadata": {
    "id": "GjQ3YtUm0Zhw"
   },
   "source": [
    "- 모듈 my_module1 과 모듈 my_module2에 모두 있는 func2 함수를 호출하면\n",
    "- 나중에 선언해서 불러온 모듈의 함수가 호출됨"
   ]
  },
  {
   "cell_type": "markdown",
   "metadata": {
    "id": "8HkJpmPG0Zhw"
   },
   "source": [
    "- 모듈 선언 순서와는 반대로 'from my_module2 import *'를 ’from my_module1 import *'보다 먼저 선언하고 코드를 실행"
   ]
  },
  {
   "cell_type": "code",
   "execution_count": 55,
   "metadata": {
    "id": "FL5nUp990Zhw"
   },
   "outputs": [
    {
     "name": "stdout",
     "output_type": "stream",
     "text": [
      "func1 in  my_module1 \n",
      "func2 in  my_module1 \n",
      "func3 in  my_module2 \n"
     ]
    }
   ],
   "source": [
    "from my_module2 import *\n",
    "from my_module1 import *\n",
    "\n",
    "func1()\n",
    "func2()\n",
    "func3()"
   ]
  },
  {
   "cell_type": "markdown",
   "metadata": {
    "id": "b_OnPlcG0Zhw"
   },
   "source": [
    "- func2()를 호출했을 때 이번에는 my_module1 모듈에서 함수를 불러온 것"
   ]
  },
  {
   "cell_type": "markdown",
   "metadata": {
    "id": "kLdP0Z_G0Zhw"
   },
   "source": [
    "- 여러 모듈을 동시에 'from 모듈명 import *' 형식으로 선언해서 모듈 내의 변수, 함수, 클래스 이용할 때는 주의"
   ]
  },
  {
   "cell_type": "markdown",
   "metadata": {
    "id": "DQ6ZzhVm0Zhw"
   },
   "source": [
    "#### 모듈명을 별명으로 선언"
   ]
  },
  {
   "cell_type": "markdown",
   "metadata": {
    "id": "Pd9okkkc0Zhw"
   },
   "source": [
    "- 'import 모듈명' 형식으로 모듈을 선언해서 이용할 경우 \n",
    "- '모듈명.변수', '모듈명.함수()'，'모듈명.클래스()'와 같은 형식으로 모듈에서 정의한 내용을 불러오는데\n",
    "- 코드에서 매번 모듈명을 입력하기가 번거로움"
   ]
  },
  {
   "cell_type": "markdown",
   "metadata": {
    "id": "Vc9OSU5O0Zhx"
   },
   "source": [
    "- ‘from 모듈명 import *' 방법으로 선언해서 '모듈명.'을 생략할 수도 있지만 여러 모듈을 임포트할 경우에는 주의가 필요"
   ]
  },
  {
   "cell_type": "markdown",
   "metadata": {
    "id": "Yq0-Rk2u0Zhx"
   },
   "source": [
    " - import 모듈명 as 별명"
   ]
  },
  {
   "cell_type": "markdown",
   "metadata": {
    "id": "iJa6Y7Us0Zhx"
   },
   "source": [
    "- 코드를 작성할 때 '모듈명.변수'、'모듈명.함수()', '모듈명.클래스()' 대신 \n",
    "- '별명.변수','별명.함수()', '별명.클래스()'처럼 지정 할 수 있음"
   ]
  },
  {
   "cell_type": "markdown",
   "metadata": {
    "id": "sRUG94Mm0Zhx"
   },
   "source": [
    "- from 모듈명 import 변수명 as 별명 \n",
    "- from 모듈명 import 함수명 as 별명 \n",
    "- from 모듈명 import 클래스명 as 별명"
   ]
  },
  {
   "cell_type": "markdown",
   "metadata": {
    "id": "jYjznztn0Zhx"
   },
   "source": [
    "- 변수명, 함수명, 클래스명 대신 별명으로 이용"
   ]
  },
  {
   "cell_type": "markdown",
   "metadata": {
    "id": "gM7umRXc0Zhx"
   },
   "source": [
    "- 모듈을 불러올 때 모듈명 대신 별명을 사용"
   ]
  },
  {
   "cell_type": "code",
   "execution_count": 66,
   "metadata": {
    "id": "FzqIBdBu0Zhy"
   },
   "outputs": [
    {
     "name": "stdout",
     "output_type": "stream",
     "text": [
      "pi = 3.14\n",
      "square area = 25\n",
      "circle area = 12.56\n"
     ]
    }
   ],
   "source": [
    "import my_area as area # 모듈명(my_area)에 별명(area)을 붙임 \n",
    "\n",
    "print('pi =', area.PI) # 모듈명 대신 별명 이용\n",
    "print('square area =', area.square_area(5))     \n",
    "print('circle area =', area.circle_area(2))"
   ]
  },
  {
   "cell_type": "markdown",
   "metadata": {
    "id": "f_WsV3Mh0Zhy"
   },
   "source": [
    "- 모듈의 변수나 함수를 부를 때 모듈명 my_area 대신 별명인 area를 이용"
   ]
  },
  {
   "cell_type": "markdown",
   "metadata": {
    "id": "HGIosxlC0Zhy"
   },
   "source": [
    "- 'from 모둘명 import 변수명/함수명/클래스명 as 별명'"
   ]
  },
  {
   "cell_type": "code",
   "execution_count": 69,
   "metadata": {
    "id": "uOXsYwHQ0Zhy"
   },
   "outputs": [
    {
     "name": "stdout",
     "output_type": "stream",
     "text": [
      "pi = 3.14\n",
      "square area = 25\n",
      "circle area = 12.56\n"
     ]
    }
   ],
   "source": [
    "from my_area import PI as pi\n",
    "from my_area import square_area as square\n",
    "from my_area import circle_area as circle\n",
    "\n",
    "print('pi =', pi) # 모듈 변수의 별명 이용\n",
    "print('square area =', square(5)) # 모듈 함수의 별명 이용\n",
    "print('circle area =', circle(2))  "
   ]
  },
  {
   "cell_type": "markdown",
   "metadata": {
    "id": "Pa_EYByv0Zhy"
   },
   "source": [
    "- 모듈 my_area의 내의 변수 PI의 이름을 pi로, 함수 이름 square_area와 circle_area를 \n",
    "- 각각 square와 circle로 별명을 붙이고 코드에서 별명을 이용"
   ]
  },
  {
   "cell_type": "markdown",
   "metadata": {
    "id": "98IQVnYR0Zhy"
   },
   "source": [
    "## 10.3 모듈을 직접 실행하는 경우와 임포트한 후 실행하는 경우 구분하기"
   ]
  },
  {
   "cell_type": "markdown",
   "metadata": {
    "id": "mqi7k5xb0Zhy"
   },
   "source": [
    "- 'import 모듈명 '로 불러온 후에 모듈과 관련된 코드를 실행해야 결과를 확인"
   ]
  },
  {
   "cell_type": "markdown",
   "metadata": {
    "id": "_yZiW59R0Zhy"
   },
   "source": [
    "- 모듈을 만들 때는 함수나 클래스가 잘 작성됐는지 확인하기 위해 모듈 내에서 함수나 클래스를 직접 호출"
   ]
  },
  {
   "cell_type": "markdown",
   "metadata": {
    "id": "B92CWqzV0Zhy"
   },
   "source": [
    "- my_module_test1 모듈에는 입력된 숫자를 출력하는 함수가 있음\n",
    "- 함수가 잘 작성됐는지 확인하기 위해 모듈 안에서 함수를 호출"
   ]
  },
  {
   "cell_type": "code",
   "execution_count": 75,
   "metadata": {
    "id": "CJsnj0Ud0Zhz"
   },
   "outputs": [
    {
     "name": "stdout",
     "output_type": "stream",
     "text": [
      "Overwriting my_module_test1.py\n"
     ]
    }
   ],
   "source": [
    "%%writefile my_module_test1.py\n",
    "# File name: my_module_test1.py\n",
    "\n",
    "def func(a):\n",
    "    print(\"입력 숫자:\", a)\n",
    "    \n",
    "func(3)"
   ]
  },
  {
   "cell_type": "markdown",
   "metadata": {
    "id": "2P0xKMiY0Zhz"
   },
   "source": [
    "- 저장된 모듈을 실행"
   ]
  },
  {
   "cell_type": "code",
   "execution_count": 77,
   "metadata": {
    "id": "nGq9fKRE0Zhz"
   },
   "outputs": [
    {
     "name": "stdout",
     "output_type": "stream",
     "text": [
      "입력 숫자: 3\n"
     ]
    }
   ],
   "source": [
    "%run my_module_test1.py"
   ]
  },
  {
   "cell_type": "markdown",
   "metadata": {
    "id": "r_ayfW9l0Zhz"
   },
   "source": [
    "- 모듈 내에서 호출한 함수(fund3))가 실행된 것"
   ]
  },
  {
   "cell_type": "code",
   "execution_count": 79,
   "metadata": {
    "id": "XlIb_1uY0Zhz"
   },
   "outputs": [
    {
     "name": "stdout",
     "output_type": "stream",
     "text": [
      "입력 숫자: 3\n"
     ]
    }
   ],
   "source": [
    "import my_module_test1"
   ]
  },
  {
   "cell_type": "markdown",
   "metadata": {
    "id": "7D31TAIy0Zhz"
   },
   "source": [
    "- 'import 모듈명'을 통해 모듈을 불러오면 모듈 내의 코드를 실행\n",
    "- 'import my_ module_test1'를 수행하면 my_module_test1 모듈의 코드가 수행"
   ]
  },
  {
   "cell_type": "markdown",
   "metadata": {
    "id": "cHYgmp_j0Zhz"
   },
   "source": [
    "- my_module_test1 모듈 내 코드에서 func(3)는 작성한 함수가 잘 실행되는지를 확인하기 위해 작성해 놓은 것이지 \n",
    "- 모듈을 임포트할 때 실행하기 위해 작성한 코드가 아님"
   ]
  },
  {
   "cell_type": "markdown",
   "metadata": {
    "id": "ASDY2vY90Zhz"
   },
   "source": [
    "- 모듈을 마지막으로 저장 할 때는 테스트를 위해 작성한 코드는 삭제\n",
    "- 테스트를 위해 작성한 코드를 일일이 삭제하는 것은 번거로움\n",
    "- 모듈을 테스트하기 위해 직접 수행하는 경우와 임포트해서 사용하는 경우를 구분"
   ]
  },
  {
   "cell_type": "markdown",
   "metadata": {
    "id": "Rj1uxYm-0Zhz"
   },
   "source": [
    "- 모듈을 직접 수행하는 경우와 임포트해서 이용하는 경우를 구분해 사용"
   ]
  },
  {
   "cell_type": "markdown",
   "metadata": {
    "id": "bnRS4Fkm0Zhz"
   },
   "source": [
    "- if \\_\\_name__ == \"\\_\\_main\\_\\_\":\n",
    "-〈직접 수행할 때만 실행되는 코드〉"
   ]
  },
  {
   "cell_type": "markdown",
   "metadata": {
    "id": "z0ZCwZc50Zhz"
   },
   "source": [
    "- 코드를 모듈 파일에서 직접 수행하느냐 아니면 임포트해서 사용하느냐에 따라 코드를 다르게 수행\n",
    "- 같은 모듈에서 코드를 직접 수행할 때만 'if \\_\\_name__ == \"\\_\\_main\\_\\_\"：' 안의 코드가 실행되고 \n",
    "- 임포트해서 사용하면 수행되지 않음"
   ]
  },
  {
   "cell_type": "markdown",
   "metadata": {
    "id": "KI2M5mEp0Zh0"
   },
   "source": [
    "- 모듈의 테스트 코드를 수정한 후에 'my_module_test2.py'로 저장"
   ]
  },
  {
   "cell_type": "code",
   "execution_count": 87,
   "metadata": {
    "id": "1-R-WL1d0Zh0"
   },
   "outputs": [
    {
     "name": "stdout",
     "output_type": "stream",
     "text": [
      "Overwriting my_module_test2.py\n"
     ]
    }
   ],
   "source": [
    "%%writefile my_module_test2.py\n",
    "# File name: my_module_test2.py\n",
    "\n",
    "def func(a):\n",
    "    print(\"입력 숫자:\",a)\n",
    "\n",
    "if __name__ == \"__main__\":\n",
    "    print(\"모듈을 직접 실행\")\n",
    "    func(3)\n",
    "    func(4)"
   ]
  },
  {
   "cell_type": "markdown",
   "metadata": {
    "id": "XWNLa9FH0Zh0"
   },
   "source": [
    "- 'my_module_test2.py' 파일을 실행"
   ]
  },
  {
   "cell_type": "code",
   "execution_count": 89,
   "metadata": {
    "id": "rf3WPa8v0Zh0"
   },
   "outputs": [
    {
     "name": "stdout",
     "output_type": "stream",
     "text": [
      "모듈을 직접 실행\n",
      "입력 숫자: 3\n",
      "입력 숫자: 4\n"
     ]
    }
   ],
   "source": [
    "%run my_module_test2.py"
   ]
  },
  {
   "cell_type": "markdown",
   "metadata": {
    "id": "-nG_UClO0Zh0"
   },
   "source": [
    " - 'if \\_\\_name__ = \"\\_\\_main\\_\\_\"：' 내의 코드가 실행"
   ]
  },
  {
   "cell_type": "markdown",
   "metadata": {
    "id": "Q9Q0_03f0Zh0"
   },
   "source": [
    "- my_module_test2 모듈을 임포트"
   ]
  },
  {
   "cell_type": "code",
   "execution_count": 92,
   "metadata": {
    "id": "9b6QHQ7F0Zh0"
   },
   "outputs": [],
   "source": [
    "import my_module_test2"
   ]
  },
  {
   "cell_type": "markdown",
   "metadata": {
    "id": "TSfIxDX10Zh0"
   },
   "source": [
    "-  실행 결과를 보면 아무것도 출력되지 않음\n",
    "- 'if \\_\\_name__ == \"\\_\\_main\\_\\_\"：' 내에 작성한 코드는 임포트한 경우에는 실행되지 않기 때문"
   ]
  },
  {
   "cell_type": "markdown",
   "metadata": {
    "id": "09MQ5aKq0Zh0"
   },
   "source": [
    "- 모듈에서 코드를 직접 수행하는 경우와 임포트해서 사용하는 경우를 구분해서 코드를 실행하기 위한 구조"
   ]
  },
  {
   "cell_type": "markdown",
   "metadata": {
    "id": "dPtxUSeq0Zh1"
   },
   "source": [
    " - if \\_\\_name__ == \"\\_\\_main\\_\\_\"：\n",
    " -  < 직점 수행할 때만 실행되는 코드>\n",
    " - else:\n",
    " -  <임포트됐을 때만 실행되는 코드>"
   ]
  },
  {
   "cell_type": "markdown",
   "metadata": {
    "id": "HddwaIDU0Zh1"
   },
   "source": [
    "- my_moulde_test3.py로 저장"
   ]
  },
  {
   "cell_type": "code",
   "execution_count": 97,
   "metadata": {
    "id": "dPeu7SWY0Zh1"
   },
   "outputs": [
    {
     "name": "stdout",
     "output_type": "stream",
     "text": [
      "Overwriting my_module_test3.py\n"
     ]
    }
   ],
   "source": [
    "%%writefile my_module_test3.py\n",
    "# File name: my_module_test3.py\n",
    "\n",
    "def func(a):\n",
    "    print(\"입력 숫자:\",a)\n",
    "\n",
    "if __name__ == \"__main__\":\n",
    "    print(\"모듈을 직접 실행\")\n",
    "    func(3)\n",
    "    func(4)\n",
    "else:\n",
    "    print(\"모듈을 임포트해서 실행\")"
   ]
  },
  {
   "cell_type": "markdown",
   "metadata": {
    "id": "x76f9x140Zh1"
   },
   "source": [
    "- 저장된 모듈을 직접 실행\n"
   ]
  },
  {
   "cell_type": "code",
   "execution_count": 99,
   "metadata": {
    "id": "BOlPm3Fi0Zh1"
   },
   "outputs": [
    {
     "name": "stdout",
     "output_type": "stream",
     "text": [
      "모듈을 직접 실행\n",
      "입력 숫자: 3\n",
      "입력 숫자: 4\n"
     ]
    }
   ],
   "source": [
    "%run my_module_test3.py"
   ]
  },
  {
   "cell_type": "markdown",
   "metadata": {
    "id": "4I1a-hml0Zh1"
   },
   "source": [
    " - 직접 수행했을 때는 'if \\_\\_name__ == \"\\_\\_main\\_\\_\"：' 내의 코드가 수행"
   ]
  },
  {
   "cell_type": "markdown",
   "metadata": {
    "id": "b5qdaJtW0Zh1"
   },
   "source": [
    " - my_module_test3 모듈을 임포트"
   ]
  },
  {
   "cell_type": "code",
   "execution_count": 102,
   "metadata": {
    "id": "m6ujsS7J0Zh1"
   },
   "outputs": [
    {
     "name": "stdout",
     "output_type": "stream",
     "text": [
      "모듈을 임포트해서 실행\n"
     ]
    }
   ],
   "source": [
    "import my_module_test3"
   ]
  },
  {
   "cell_type": "markdown",
   "metadata": {
    "id": "Dd9R2WKB0Zh2"
   },
   "source": [
    "- 모듈을 임포트했을 때 출력된 결과를 보면 해당 모듈을 임포트한 경우에만 실행하게 만든 코드만 실행\n",
    "- if \\_\\_name__ == \"\\_\\_main\\_\\_\"： ~ else' 구조를 이용하면 \n",
    "- 모듈을 직접 실행하는 경우와 임포트해서 실행하는 경우를 구분해서 코드를 실행"
   ]
  },
  {
   "cell_type": "markdown",
   "metadata": {
    "id": "XwBBsElr0Zh2"
   },
   "source": [
    "## 10.4 내장 모듈"
   ]
  },
  {
   "cell_type": "markdown",
   "metadata": {
    "id": "4DH7ZC5e0Zh2"
   },
   "source": [
    "- 임의로 숫자(난수)를 발생시키는 random 모듈, \n",
    "- 날짜 및 시간 관련 처리할 수 있는 datetime 모듈，\n",
    "- 연도/월/주 등 달력과 관련된 처리를 할 수 있는 calendar 모듈을 이용하는 방법"
   ]
  },
  {
   "cell_type": "markdown",
   "metadata": {
    "id": "2zig8t1N0Zh2"
   },
   "source": [
    "- 파이썬 표준 라이브러리에 관해 설명 한 사이트\n",
    "- https://docs.python.org/3.9/library/"
   ]
  },
  {
   "cell_type": "markdown",
   "metadata": {
    "id": "8JXS__v80Zh2"
   },
   "source": [
    "### 난수 발생 모듈"
   ]
  },
  {
   "cell_type": "markdown",
   "metadata": {
    "id": "tns86Z0M0Zh2"
   },
   "source": [
    "- 코드에서는 정해진 숫자가 아닌 실행할 때마다 임의의 숫자를 사용해야 할 때\n",
    "- 임의의 숫자를 난수(random number)\n",
    "- 파이썬에서는 random 모듈을 이용해 난수를 만들 수 있음"
   ]
  },
  {
   "cell_type": "markdown",
   "metadata": {
    "id": "msb1Zkx10Zh3"
   },
   "source": [
    "- random 모듈을 이용하려면 ’import random‘으로 random 모듈을 먼저 불러온 후에 \n",
    "- random 모듈의 함수를 이용"
   ]
  },
  {
   "cell_type": "markdown",
   "metadata": {
    "id": "AQ-AYfLN0Zh3"
   },
   "source": [
    "- import random \n",
    "- random.random모듈함수()"
   ]
  },
  {
   "cell_type": "markdown",
   "metadata": {
    "id": "8vdXT9AF0Zh3"
   },
   "source": [
    "- random 모듈에서 0〜1 사이의 임의의 실수를 발생시키는 random() 함수"
   ]
  },
  {
   "cell_type": "code",
   "execution_count": 112,
   "metadata": {
    "id": "qO7LR_7Z0Zh3"
   },
   "outputs": [
    {
     "data": {
      "text/plain": [
       "0.9684171941690748"
      ]
     },
     "execution_count": 112,
     "metadata": {},
     "output_type": "execute_result"
    }
   ],
   "source": [
    "import random\n",
    "\n",
    "random.random()"
   ]
  },
  {
   "cell_type": "markdown",
   "metadata": {
    "id": "BMkZuEj40Zh3"
   },
   "source": [
    "- 'import random'으로 random 모듈을 불러왔고 \n",
    "- 'random.random()으로 0 〜 1 사이의 실수중에서 임의의 숫자를 생성"
   ]
  },
  {
   "cell_type": "markdown",
   "metadata": {
    "id": "ErHQEii30Zh4"
   },
   "source": [
    " - random은 모듈명이고 random()은 random 모듈의 함수\n",
    " - random.random()를 실행할 때마다 다른 값이 출력\n",
    " - random.random() 코드를 실행하면 결과가 다를 것(난수를 발생시키는 함수의 특징)"
   ]
  },
  {
   "cell_type": "markdown",
   "metadata": {
    "id": "wQ_886XR0Zh4"
   },
   "source": [
    "- 특정 범위의 정수 안에서 임의의 정수를 발생시키려면 randint() 함수를 이용"
   ]
  },
  {
   "cell_type": "code",
   "execution_count": 116,
   "metadata": {
    "id": "g6-Yb3Ln0Zh4"
   },
   "outputs": [
    {
     "name": "stdout",
     "output_type": "stream",
     "text": [
      "주사위 두 개의 숫자: 6, 6\n"
     ]
    }
   ],
   "source": [
    "import random\n",
    "\n",
    "dice1 = random.randint(1,6) # 임의의 정수가 생성됨\n",
    "dice2 = random.randint(1,6) # 임의의 정수가 생성됨\n",
    "print('주사위 두 개의 숫자: {0}, {1}'.format(dice1, dice2))"
   ]
  },
  {
   "cell_type": "markdown",
   "metadata": {
    "id": "I9WJoMWX0Zh4"
   },
   "source": [
    "- randrange() 함수\n",
    "- 정해진 범위 안에서 특정 수만큼 차이가 나는 정수를 발생시킬 때 이용"
   ]
  },
  {
   "cell_type": "code",
   "execution_count": 118,
   "metadata": {
    "id": "falgIa0O0Zh4"
   },
   "outputs": [
    {
     "data": {
      "text/plain": [
       "0"
      ]
     },
     "execution_count": 118,
     "metadata": {},
     "output_type": "execute_result"
    }
   ],
   "source": [
    "import random\n",
    "\n",
    "random.randrange(0,11,2)"
   ]
  },
  {
   "cell_type": "markdown",
   "metadata": {
    "id": "St3knEIn0Zh5"
   },
   "source": [
    "- 0 ~ 10(11-1) 범위의 임의의 짝수가 발생한 것\n",
    "- 홀수를 발생시킬 때나 10단위로 숫자를 발생시킬 때도 이용"
   ]
  },
  {
   "cell_type": "code",
   "execution_count": 120,
   "metadata": {
    "id": "nXirzqMp0Zh5"
   },
   "outputs": [
    {
     "name": "stdout",
     "output_type": "stream",
     "text": [
      "num1: 7, num2: 60\n"
     ]
    }
   ],
   "source": [
    "import random\n",
    "\n",
    "num1 = random.randrange(1, 10, 2) # 1 ~ 9(10-1) 중 임의의 홀수 선택\n",
    "num2 = random.randrange(0,100,10) # 0 ~ 99(100-1) 중 임의의10의 단위 숫자 선택\n",
    "print('num1: {0}, num2: {1}'.format(num1,num2))"
   ]
  },
  {
   "cell_type": "markdown",
   "metadata": {
    "id": "TE4VvFeO0Zh5"
   },
   "source": [
    "- 시퀀스(리스트, 튜플) 데이터에서 임의의 항목을 하나 선택할 때 이용할 수 있는 choice() 함수"
   ]
  },
  {
   "cell_type": "markdown",
   "metadata": {
    "id": "pwBrZk450Zh5"
   },
   "source": [
    "- 선택할 수 있는 메뉴 전체를 리스트 변수로 지정한 후 choice() 함수를 실행해 나온 임의 결과를 선택"
   ]
  },
  {
   "cell_type": "code",
   "execution_count": 123,
   "metadata": {
    "id": "cJab5QqE0Zh5"
   },
   "outputs": [
    {
     "data": {
      "text/plain": [
       "'스파게티'"
      ]
     },
     "execution_count": 123,
     "metadata": {},
     "output_type": "execute_result"
    }
   ],
   "source": [
    "import random\n",
    "\n",
    "menu = ['비빔밥', '된장찌개', '볶음밥', '불고기', '스파게티', '피자', '탕수육']\n",
    "random.choice(menu)"
   ]
  },
  {
   "cell_type": "markdown",
   "metadata": {
    "id": "tblpuR660Zh5"
   },
   "source": [
    "- 여러 항목을 임의로 선택하려면 어떻게 할까요? \n",
    "- 이때 사용하는 것이 sample()함수\n",
    "- 시퀀스(리스트, 튜플)로 이뤄진 모집단 데이터에서 정해진 숫자만큼 임의의 인자를 중복 없이 선택하고 싶을 때 사용"
   ]
  },
  {
   "cell_type": "markdown",
   "metadata": {
    "id": "u8tKL9ta0Zh6"
   },
   "source": [
    "- sample() 함수를 이용해 모집단(리스트 데이터)에서 지정한 개수만큼 중복 없이 임의의 인자를 반환"
   ]
  },
  {
   "cell_type": "code",
   "execution_count": 126,
   "metadata": {
    "id": "L7sf1hII0Zh7"
   },
   "outputs": [
    {
     "data": {
      "text/plain": [
       "[2, 3]"
      ]
     },
     "execution_count": 126,
     "metadata": {},
     "output_type": "execute_result"
    }
   ],
   "source": [
    "import random\n",
    "\n",
    "random.sample([1, 2, 3, 4, 5], 2) # 모집단에서 두 개의 인자 선택"
   ]
  },
  {
   "cell_type": "markdown",
   "metadata": {
    "id": "AuX9Ndwq0Zh7"
   },
   "source": [
    "### 날짜 및 시간 관련 처리 모듈"
   ]
  },
  {
   "cell_type": "markdown",
   "metadata": {
    "id": "jsu6IlCo0Zh7"
   },
   "source": [
    "- 날짜와 시간을 다룰 수 있는 파이썬 내장 모듈인 datetime 모듈\n",
    "- datetime 모듈에는 날짜를 표현하는 date 클래스, 시간을 표현하는 time 클래스，날짜와 시간을 표현하는 datetime 클래스"
   ]
  },
  {
   "cell_type": "markdown",
   "metadata": {
    "id": "V2CCWkTm0Zh7"
   },
   "source": [
    "- datetime 모듈을 이용하려면 먼저 ‘import datetime’으로 datetime 모둘을 불러와야 함\n",
    "- datetime 모듈을 불러온 후에는 클래스에서 객체를 생성해 이용하는 방법이 있고\n",
    "- 각 클래스의 클래스 메서드를 이용하는 방법"
   ]
  },
  {
   "cell_type": "markdown",
   "metadata": {
    "id": "oCwnfsfE0Zh7"
   },
   "source": [
    "- datetime 모듈의 각 클래스에서 객체를 생성해 이용하는 방법"
   ]
  },
  {
   "cell_type": "markdown",
   "metadata": {
    "id": "tNkJtHjU0Zh7"
   },
   "source": [
    "- import datetime\n",
    "- date_obj = datetime.date(year, month, day) \n",
    "- time_obj = datetime.time(hour, minute, second)\n",
    "- datetime_obj = datetime.datetime(year, month, day, hour, minute, second)"
   ]
  },
  {
   "cell_type": "markdown",
   "metadata": {
    "id": "WoGxdFtO0Zh8"
   },
   "source": [
    "- 생성한 객체를 이용해 각 클래스의 속성을 이용\n",
    "- date 클래스에는 year, month, day의 속성이 있으며 time 클래스에는 hour, minute, second의 속성이 있음\n",
    "- datetime 클래스는 date 클래스라 time 클래스의 모든 속성이 있음"
   ]
  },
  {
   "cell_type": "markdown",
   "metadata": {
    "id": "CR70b2No0Zh8"
   },
   "source": [
    "- 내장 모듈 datetime을 이용하는 다른 방법은 객체를 생성하지 않고 각 클래스의 클래스 메서드를 이용 하는 것"
   ]
  },
  {
   "cell_type": "markdown",
   "metadata": {
    "id": "Ex_K7_Ok0Zh8"
   },
   "source": [
    "- import datetime\n",
    "\n",
    "- date_var = datetime.date.date_classmethod() \n",
    "- time_var = datetime.time.time.classmethod()\n",
    "- datetime_var = datetime .datetime .datetime_classmethod()"
   ]
  },
  {
   "cell_type": "markdown",
   "metadata": {
    "id": "jRZnS-k30Zh8"
   },
   "source": [
    "- 클래스 메서드를 이용하는 경우에도 각 클래스의 속성은 그대로 이용\n",
    "- date 클래스, time 클래스, datetime 클래스를 이용하는 방법"
   ]
  },
  {
   "cell_type": "markdown",
   "metadata": {
    "id": "zncCzFLI0Zh8"
   },
   "source": [
    "- 날짜를 표현하는 date 클래스"
   ]
  },
  {
   "cell_type": "code",
   "execution_count": 137,
   "metadata": {
    "id": "V7x6kuy80Zh8"
   },
   "outputs": [
    {
     "name": "stdout",
     "output_type": "stream",
     "text": [
      "2021-08-02\n"
     ]
    }
   ],
   "source": [
    "import datetime\n",
    "\n",
    "set_day = datetime.date(2021, 8, 2)\n",
    "print(set_day)"
   ]
  },
  {
   "cell_type": "markdown",
   "metadata": {
    "id": "zgHKejQv0Zh8"
   },
   "source": [
    "- date 객체를 생성할 때 인자로 연도, 월, 일을 입력할 수 있음\n",
    "- 생성된 date 객체는 print()로 입력한 날짜를 출력"
   ]
  },
  {
   "cell_type": "markdown",
   "metadata": {
    "id": "ar5DGZtg0Zh9"
   },
   "source": [
    "- 연도, 월, 일을 각각 구하려면 date 클래스의 속성(year, month, day)을 이용"
   ]
  },
  {
   "cell_type": "code",
   "execution_count": 140,
   "metadata": {
    "id": "66fWQdso0Zh9"
   },
   "outputs": [
    {
     "name": "stdout",
     "output_type": "stream",
     "text": [
      "2021/8/2\n"
     ]
    }
   ],
   "source": [
    "print('{0}/{1}/{2}'.format(set_day.year,set_day.month,set_day.day ))"
   ]
  },
  {
   "cell_type": "markdown",
   "metadata": {
    "id": "h4Lo1XsA0Zh9"
   },
   "source": [
    "- datetime 모듈의 date 객체는 타입이 date로 그 객체끼리 빼기 연산을 할 수 있음\n",
    "- 빼기 연산에서 앞의 객체의 날짜가 뒤의 객체의 날짜보다 더 나중이면 결과 날짜가 양수로 나오고 \n",
    "- 더 먼저이면 결과 날짜가 음수로 나옴\n",
    "- 빼기 연산을 수행한 후에 결과의 데이터 타입은 timedelta로 바뀜"
   ]
  },
  {
   "cell_type": "code",
   "execution_count": 142,
   "metadata": {
    "id": "K8-E42IN0Zh9"
   },
   "outputs": [
    {
     "name": "stdout",
     "output_type": "stream",
     "text": [
      "100 days, 0:00:00\n"
     ]
    }
   ],
   "source": [
    "import datetime\n",
    "\n",
    "day1 = datetime.date(2021, 4, 1)\n",
    "day2 = datetime.date(2021, 7, 10)\n",
    "diff_day = day2 - day1\n",
    "print(diff_day)"
   ]
  },
  {
   "cell_type": "markdown",
   "metadata": {
    "id": "n15Chcew0Zh9"
   },
   "source": [
    "- 빼기 연산을 수행한 후 데이터 타입이 어떻게 변경되는지 보기 위해 type() 함수를 이용\n",
    "- 앞에서 생성한 객체와 빼기 연산을 한 결과의 데이터 타입을 확인"
   ]
  },
  {
   "cell_type": "code",
   "execution_count": 144,
   "metadata": {
    "id": "VgSq0W6c0Zh9"
   },
   "outputs": [
    {
     "data": {
      "text/plain": [
       "datetime.date"
      ]
     },
     "execution_count": 144,
     "metadata": {},
     "output_type": "execute_result"
    }
   ],
   "source": [
    "type(day1)"
   ]
  },
  {
   "cell_type": "code",
   "execution_count": 145,
   "metadata": {
    "id": "rD3t3pVs0Zh9"
   },
   "outputs": [
    {
     "data": {
      "text/plain": [
       "datetime.timedelta"
      ]
     },
     "execution_count": 145,
     "metadata": {},
     "output_type": "execute_result"
    }
   ],
   "source": [
    "type(diff_day)"
   ]
  },
  {
   "cell_type": "markdown",
   "metadata": {
    "id": "wjOS3ZjX0Zh9"
   },
   "source": [
    "- date 데이터 타입이 빼기 연산을 수행한 후에는 timedelta 데이터 타입으로 변경"
   ]
  },
  {
   "cell_type": "markdown",
   "metadata": {
    "id": "Y94-st7b0Zh9"
   },
   "source": [
    "- 앞의 두 날짜차이 계산에서 날짜만출력하려면 timedelta 클래스 속성인 days를 이용"
   ]
  },
  {
   "cell_type": "code",
   "execution_count": 148,
   "metadata": {
    "id": "x77U5H8x0Zh-"
   },
   "outputs": [
    {
     "name": "stdout",
     "output_type": "stream",
     "text": [
      "** 지정된 두 날짜의 차이는 100일입니다. **\n"
     ]
    }
   ],
   "source": [
    "print(\"** 지정된 두 날짜의 차이는 {}일입니다. **\".format(diff_day.days))"
   ]
  },
  {
   "cell_type": "markdown",
   "metadata": {
    "id": "Z_nU53Xf0Zh-"
   },
   "source": [
    "- datetime 모듈의 date 클래스에는 오늘 날짜를 반환하는 클래스 메서드인 today()를 제공"
   ]
  },
  {
   "cell_type": "markdown",
   "metadata": {
    "id": "0nf0mFtr0Zh-"
   },
   "source": [
    "- 오늘 날짜를 확인\n",
    "- 클래스 메서드 today()는 인자 없이 호출"
   ]
  },
  {
   "cell_type": "code",
   "execution_count": 151,
   "metadata": {
    "id": "gBY-gl2H0Zh-"
   },
   "outputs": [
    {
     "name": "stdout",
     "output_type": "stream",
     "text": [
      "2025-01-10\n"
     ]
    }
   ],
   "source": [
    "import datetime\n",
    "\n",
    "print(datetime.date.today())"
   ]
  },
  {
   "cell_type": "markdown",
   "metadata": {
    "id": "sejMmj7d0Zh-"
   },
   "source": [
    "- 오늘과 특정 날짜의 차이를 알려면 빼기 연산을 수행"
   ]
  },
  {
   "cell_type": "code",
   "execution_count": 153,
   "metadata": {
    "id": "5P1Tl0RL0Zh-"
   },
   "outputs": [
    {
     "name": "stdout",
     "output_type": "stream",
     "text": [
      "-1471 days, 0:00:00\n"
     ]
    }
   ],
   "source": [
    "import datetime\n",
    "\n",
    "today = datetime.date.today()\n",
    "special_day = datetime.date(2020, 12, 31)\n",
    "print(special_day - today)"
   ]
  },
  {
   "cell_type": "markdown",
   "metadata": {
    "id": "Vohw-anw0Zh-"
   },
   "source": [
    " - 시간(시각)과 관련된 처리할 수 있는 time 클래스"
   ]
  },
  {
   "cell_type": "markdown",
   "metadata": {
    "id": "s0J3BCB50Zh-"
   },
   "source": [
    "- tine 클래스에서 객체를 생성할 때 시, 분, 초를 인자로 입력"
   ]
  },
  {
   "cell_type": "code",
   "execution_count": 156,
   "metadata": {
    "id": "IHsfvAsw0Zh-"
   },
   "outputs": [
    {
     "name": "stdout",
     "output_type": "stream",
     "text": [
      "15:30:45\n"
     ]
    }
   ],
   "source": [
    "import datetime\n",
    "\n",
    "set_time = datetime.time(15, 30, 45)\n",
    "print(set_time)"
   ]
  },
  {
   "cell_type": "markdown",
   "metadata": {
    "id": "gF8rA3tt0Zh-"
   },
   "source": [
    "- time 클래스의 속성(hour, minute, second)을 이용해 시, 분, 초를 각각 출력"
   ]
  },
  {
   "cell_type": "code",
   "execution_count": 158,
   "metadata": {
    "id": "QTbuPV7J0Zh_"
   },
   "outputs": [
    {
     "name": "stdout",
     "output_type": "stream",
     "text": [
      "15:30:45\n"
     ]
    }
   ],
   "source": [
    "print('{0}:{1}:{2}'.format(set_time.hour,set_time.minute,set_time.second ))"
   ]
  },
  {
   "cell_type": "markdown",
   "metadata": {
    "id": "A_dqerwx0Zh_"
   },
   "source": [
    "- 날짜와 시간을 모두 다룰 수 있는 datetime 클래스"
   ]
  },
  {
   "cell_type": "code",
   "execution_count": 160,
   "metadata": {
    "id": "F16mQgfq0Zh_"
   },
   "outputs": [
    {
     "name": "stdout",
     "output_type": "stream",
     "text": [
      "2021-08-02 10:20:00\n"
     ]
    }
   ],
   "source": [
    "import datetime\n",
    "\n",
    "set_dt = datetime.datetime(2021, 8, 2, 10, 20, 0)\n",
    "print(set_dt)"
   ]
  },
  {
   "cell_type": "markdown",
   "metadata": {
    "id": "vp6kieq20Zh_"
   },
   "source": [
    "- 'import datetime'의 datetime은 모듈 이름이고\n",
    "- datetime()은 datetime 모듈 안에 있는 클래스 이름\n",
    "- 모듈 이름과 클래스 이름이 같아서 혼동될 수 있는데 다른 것이니 사용할 때 주의"
   ]
  },
  {
   "cell_type": "markdown",
   "metadata": {
    "id": "FIYDwSSP0Zh_"
   },
   "source": [
    "- datetime 클래스의 경우에도 속성을 이용해 연, 월，일，시, 분, 초를 각각 수행"
   ]
  },
  {
   "cell_type": "code",
   "execution_count": 163,
   "metadata": {
    "id": "UC8VC9380Zh_"
   },
   "outputs": [
    {
     "name": "stdout",
     "output_type": "stream",
     "text": [
      "날짜 2021/8/2\n",
      "시각 10:20:0\n"
     ]
    }
   ],
   "source": [
    "print('날짜 {0}/{1}/{2}'.format(set_dt.year, set_dt.month, set_dt.day))\n",
    "print('시각 {0}:{1}:{2}'.format(set_dt.hour, set_dt.minute, set_dt.second))"
   ]
  },
  {
   "cell_type": "markdown",
   "metadata": {
    "id": "Tf9QH6dD0Zh_"
   },
   "source": [
    "- 현재 시각을 구하려면 datetime 클래스의 클래스 메서드인 now()를 이용"
   ]
  },
  {
   "cell_type": "code",
   "execution_count": 165,
   "metadata": {
    "id": "XTYAYcNv0Zh_"
   },
   "outputs": [
    {
     "name": "stdout",
     "output_type": "stream",
     "text": [
      "2025-01-10 11:10:22.965635\n"
     ]
    }
   ],
   "source": [
    "import datetime\n",
    "\n",
    "now = datetime.datetime.now()\n",
    "print(now)"
   ]
  },
  {
   "cell_type": "markdown",
   "metadata": {
    "id": "bkNh2V-h0Zh_"
   },
   "source": [
    " - now()로 얻은 결과는 오늘 날짜(연, 월, 일)와 현재 시각(시, 분, 초)\n",
    " - 초는 소수점 이하의 초까지 반환"
   ]
  },
  {
   "cell_type": "markdown",
   "metadata": {
    "id": "yxt0QxLS0Zh_"
   },
   "source": [
    "- 각 클래스의 속성을 이용해 날짜와 시간을 출력했지만  날짜 및 시간 출력 양식을 지정해 출력"
   ]
  },
  {
   "cell_type": "code",
   "execution_count": 168,
   "metadata": {
    "id": "ywHc3PUy0Zh_"
   },
   "outputs": [
    {
     "name": "stdout",
     "output_type": "stream",
     "text": [
      "Date & Time: 2025-01-10, 11:10:22\n"
     ]
    }
   ],
   "source": [
    "print(\"Date & Time: {:%Y-%m-%d, %H:%M:%S}\".format(now))"
   ]
  },
  {
   "cell_type": "markdown",
   "metadata": {
    "id": "vTWWqkFm0ZiA"
   },
   "source": [
    "- %Y, %m, %d는 각각 연도, 월，일을 나타내고 %H, %M, %S는 각각 시, 분, 초를 나타냄\n",
    "- 이 값들은 ’{: }' 안에 있어야 하며 일부만 사용할 수도 있음"
   ]
  },
  {
   "cell_type": "markdown",
   "metadata": {
    "id": "ZAN1C5u60ZiA"
   },
   "source": [
    "- 날짜와 시각을 각각 출력"
   ]
  },
  {
   "cell_type": "code",
   "execution_count": 171,
   "metadata": {
    "id": "0ZG-3Lpd0ZiA"
   },
   "outputs": [
    {
     "name": "stdout",
     "output_type": "stream",
     "text": [
      "Date: 2025, 01, 10\n",
      "Time: 11/10/22\n"
     ]
    }
   ],
   "source": [
    "print(\"Date: {:%Y, %m, %d}\".format(now))\n",
    "print(\"Time: {:%H/%M/%S}\".format(now))"
   ]
  },
  {
   "cell_type": "markdown",
   "metadata": {
    "id": "la-YPeZ60ZiA"
   },
   "source": [
    "- 'date' 클래스의 객체와 마찬가지로 datetime 클래스의 객체도 빼기 연산을 할 수 있음"
   ]
  },
  {
   "cell_type": "markdown",
   "metadata": {
    "id": "BgK6XhAY0ZiA"
   },
   "source": [
    "- 현재 날짜 및 시각과 특정일의 날짜 및 시각의 차이를 구하기"
   ]
  },
  {
   "cell_type": "code",
   "execution_count": 174,
   "metadata": {
    "id": "LfO5UV-v0ZiA"
   },
   "outputs": [
    {
     "name": "stdout",
     "output_type": "stream",
     "text": [
      "현재 날짜 및 시각: 2025-01-10 11:10:23.035322\n",
      "차이: -1501 days, 1:20:21.964678\n"
     ]
    }
   ],
   "source": [
    "now = datetime.datetime.now()\n",
    "set_dt = datetime.datetime(2020, 12, 1, 12, 30, 45)\n",
    "\n",
    "print(\"현재 날짜 및 시각:\", now)\n",
    "print(\"차이:\", set_dt - now)"
   ]
  },
  {
   "cell_type": "markdown",
   "metadata": {
    "id": "YwMeHlBc0ZiA"
   },
   "source": [
    "- 결과에서 차이가 음수로 나온 것은 set_dt가 now보다 과거이기 때문"
   ]
  },
  {
   "cell_type": "markdown",
   "metadata": {
    "id": "LGLzcorE0ZiA"
   },
   "source": [
    "- datetime 모듈의 객체를 'import 모듈명'을 수행한 후에 사용했지만 \n",
    "- 'from 모듈명 import 클래스명 ’ 방법을 이용하면 모듈명 없이 바로 클래스 이름이나 클래스 메서드 이름으로 이용할 수 있음."
   ]
  },
  {
   "cell_type": "code",
   "execution_count": 177,
   "metadata": {
    "id": "SeFpfirQ0ZiA"
   },
   "outputs": [
    {
     "name": "stdout",
     "output_type": "stream",
     "text": [
      "2021-07-01\n"
     ]
    }
   ],
   "source": [
    "from datetime import date, time, datetime\n",
    "\n",
    "print(date(2021, 7, 1))"
   ]
  },
  {
   "cell_type": "code",
   "execution_count": 178,
   "metadata": {
    "id": "gB386cZp0ZiA"
   },
   "outputs": [
    {
     "name": "stdout",
     "output_type": "stream",
     "text": [
      "2025-01-10\n"
     ]
    }
   ],
   "source": [
    "print(date.today())"
   ]
  },
  {
   "cell_type": "code",
   "execution_count": 179,
   "metadata": {
    "id": "viNb22Tq0ZiB"
   },
   "outputs": [
    {
     "name": "stdout",
     "output_type": "stream",
     "text": [
      "15:30:45\n"
     ]
    }
   ],
   "source": [
    "print(time(15, 30, 45))"
   ]
  },
  {
   "cell_type": "code",
   "execution_count": 180,
   "metadata": {
    "id": "b_xwxqoB0ZiB"
   },
   "outputs": [
    {
     "name": "stdout",
     "output_type": "stream",
     "text": [
      "2021-02-14 18:10:50\n"
     ]
    }
   ],
   "source": [
    "print(datetime(2021, 2, 14, 18, 10, 50))"
   ]
  },
  {
   "cell_type": "code",
   "execution_count": 181,
   "metadata": {
    "id": "bnCHEMUt0ZiB"
   },
   "outputs": [
    {
     "name": "stdout",
     "output_type": "stream",
     "text": [
      "2025-01-10 11:10:23.073024\n"
     ]
    }
   ],
   "source": [
    "print(datetime.now())"
   ]
  },
  {
   "cell_type": "markdown",
   "metadata": {
    "id": "tnMceWD40ZiB"
   },
   "source": [
    "### 달력 생성 및 처리 모듈"
   ]
  },
  {
   "cell_type": "markdown",
   "metadata": {
    "id": "IbSQsTL_0ZiB"
   },
   "source": [
    "- 파이썬 내장 모듈인 calendar 모듈을 이용해 다양한 형태로 달력을 생성해 출력하고\n",
    "- 날짜와 관련된 정보(연도, 월, 주)를 구하는 방법"
   ]
  },
  {
   "cell_type": "markdown",
   "metadata": {
    "id": "i9U5qBJO0ZiB"
   },
   "source": [
    "- calendar 모듈은 달력과 관련된 클래스와 함수를 제공\n",
    "- calendar 모듈의 주요 함수의 사용법"
   ]
  },
  {
   "cell_type": "markdown",
   "metadata": {
    "id": "Ea5ZK9XE0ZiB"
   },
   "source": [
    "- calendar 모듈에서 요일(weekday)을 지정할 때 숫자 0(월요일) ~ 6(일요일)을 이용해도 되지만\n",
    "정의된 상수를 이용"
   ]
  },
  {
   "cell_type": "markdown",
   "metadata": {
    "id": "7ZPE4Kxe0ZiB"
   },
   "source": [
    "- calendar 모듈을 이용하려면 먼저 'import calendar'로 모듈을 불러와야 함\n",
    "- calendar() 함수를 이용해 지정한 연도의 전체 달력을 출력하는 방법"
   ]
  },
  {
   "cell_type": "code",
   "execution_count": 187,
   "metadata": {
    "id": "gMD44sXj0ZiB"
   },
   "outputs": [
    {
     "name": "stdout",
     "output_type": "stream",
     "text": [
      "                                  2021\n",
      "\n",
      "      January                   February                   March\n",
      "Mo Tu We Th Fr Sa Su      Mo Tu We Th Fr Sa Su      Mo Tu We Th Fr Sa Su\n",
      "             1  2  3       1  2  3  4  5  6  7       1  2  3  4  5  6  7\n",
      " 4  5  6  7  8  9 10       8  9 10 11 12 13 14       8  9 10 11 12 13 14\n",
      "11 12 13 14 15 16 17      15 16 17 18 19 20 21      15 16 17 18 19 20 21\n",
      "18 19 20 21 22 23 24      22 23 24 25 26 27 28      22 23 24 25 26 27 28\n",
      "25 26 27 28 29 30 31                                29 30 31\n",
      "\n",
      "       April                      May                       June\n",
      "Mo Tu We Th Fr Sa Su      Mo Tu We Th Fr Sa Su      Mo Tu We Th Fr Sa Su\n",
      "          1  2  3  4                      1  2          1  2  3  4  5  6\n",
      " 5  6  7  8  9 10 11       3  4  5  6  7  8  9       7  8  9 10 11 12 13\n",
      "12 13 14 15 16 17 18      10 11 12 13 14 15 16      14 15 16 17 18 19 20\n",
      "19 20 21 22 23 24 25      17 18 19 20 21 22 23      21 22 23 24 25 26 27\n",
      "26 27 28 29 30            24 25 26 27 28 29 30      28 29 30\n",
      "                          31\n",
      "\n",
      "        July                     August                  September\n",
      "Mo Tu We Th Fr Sa Su      Mo Tu We Th Fr Sa Su      Mo Tu We Th Fr Sa Su\n",
      "          1  2  3  4                         1             1  2  3  4  5\n",
      " 5  6  7  8  9 10 11       2  3  4  5  6  7  8       6  7  8  9 10 11 12\n",
      "12 13 14 15 16 17 18       9 10 11 12 13 14 15      13 14 15 16 17 18 19\n",
      "19 20 21 22 23 24 25      16 17 18 19 20 21 22      20 21 22 23 24 25 26\n",
      "26 27 28 29 30 31         23 24 25 26 27 28 29      27 28 29 30\n",
      "                          30 31\n",
      "\n",
      "      October                   November                  December\n",
      "Mo Tu We Th Fr Sa Su      Mo Tu We Th Fr Sa Su      Mo Tu We Th Fr Sa Su\n",
      "             1  2  3       1  2  3  4  5  6  7             1  2  3  4  5\n",
      " 4  5  6  7  8  9 10       8  9 10 11 12 13 14       6  7  8  9 10 11 12\n",
      "11 12 13 14 15 16 17      15 16 17 18 19 20 21      13 14 15 16 17 18 19\n",
      "18 19 20 21 22 23 24      22 23 24 25 26 27 28      20 21 22 23 24 25 26\n",
      "25 26 27 28 29 30 31      29 30                     27 28 29 30 31\n",
      "\n"
     ]
    }
   ],
   "source": [
    "import calendar\n",
    "\n",
    "print(calendar.calendar(2021))"
   ]
  },
  {
   "cell_type": "markdown",
   "metadata": {
    "id": "TCYIDxhs0ZiB"
   },
   "source": [
    "- calendar() 함수의 기본적인 달력 출력 양식은 달을 3열로 출력"
   ]
  },
  {
   "cell_type": "markdown",
   "metadata": {
    "id": "euTgbzBm0ZiB"
   },
   "source": [
    "- 달의 출력 양식을 변경하고 싶다면 calendar()함수에 'm=숫자' 인자를 추가\n",
    "- 달력 출력 형식을 4열로 지정"
   ]
  },
  {
   "cell_type": "code",
   "execution_count": 190,
   "metadata": {
    "id": "6Ey6J2jV0ZiB"
   },
   "outputs": [
    {
     "name": "stdout",
     "output_type": "stream",
     "text": [
      "                                               2021\n",
      "\n",
      "      January                   February                   March                     April\n",
      "Mo Tu We Th Fr Sa Su      Mo Tu We Th Fr Sa Su      Mo Tu We Th Fr Sa Su      Mo Tu We Th Fr Sa Su\n",
      "             1  2  3       1  2  3  4  5  6  7       1  2  3  4  5  6  7                1  2  3  4\n",
      " 4  5  6  7  8  9 10       8  9 10 11 12 13 14       8  9 10 11 12 13 14       5  6  7  8  9 10 11\n",
      "11 12 13 14 15 16 17      15 16 17 18 19 20 21      15 16 17 18 19 20 21      12 13 14 15 16 17 18\n",
      "18 19 20 21 22 23 24      22 23 24 25 26 27 28      22 23 24 25 26 27 28      19 20 21 22 23 24 25\n",
      "25 26 27 28 29 30 31                                29 30 31                  26 27 28 29 30\n",
      "\n",
      "        May                       June                      July                     August\n",
      "Mo Tu We Th Fr Sa Su      Mo Tu We Th Fr Sa Su      Mo Tu We Th Fr Sa Su      Mo Tu We Th Fr Sa Su\n",
      "                1  2          1  2  3  4  5  6                1  2  3  4                         1\n",
      " 3  4  5  6  7  8  9       7  8  9 10 11 12 13       5  6  7  8  9 10 11       2  3  4  5  6  7  8\n",
      "10 11 12 13 14 15 16      14 15 16 17 18 19 20      12 13 14 15 16 17 18       9 10 11 12 13 14 15\n",
      "17 18 19 20 21 22 23      21 22 23 24 25 26 27      19 20 21 22 23 24 25      16 17 18 19 20 21 22\n",
      "24 25 26 27 28 29 30      28 29 30                  26 27 28 29 30 31         23 24 25 26 27 28 29\n",
      "31                                                                            30 31\n",
      "\n",
      "     September                  October                   November                  December\n",
      "Mo Tu We Th Fr Sa Su      Mo Tu We Th Fr Sa Su      Mo Tu We Th Fr Sa Su      Mo Tu We Th Fr Sa Su\n",
      "       1  2  3  4  5                   1  2  3       1  2  3  4  5  6  7             1  2  3  4  5\n",
      " 6  7  8  9 10 11 12       4  5  6  7  8  9 10       8  9 10 11 12 13 14       6  7  8  9 10 11 12\n",
      "13 14 15 16 17 18 19      11 12 13 14 15 16 17      15 16 17 18 19 20 21      13 14 15 16 17 18 19\n",
      "20 21 22 23 24 25 26      18 19 20 21 22 23 24      22 23 24 25 26 27 28      20 21 22 23 24 25 26\n",
      "27 28 29 30               25 26 27 28 29 30 31      29 30                     27 28 29 30 31\n",
      "\n"
     ]
    }
   ],
   "source": [
    "print(calendar.calendar(2021, m=4))"
   ]
  },
  {
   "cell_type": "markdown",
   "metadata": {
    "id": "Qmtr75E70ZiC"
   },
   "source": [
    "- 지정한 연도의 특정 월만 표시하려면 month() 함수를 이용"
   ]
  },
  {
   "cell_type": "code",
   "execution_count": 192,
   "metadata": {
    "id": "BZLsGG0e0ZiC",
    "scrolled": true
   },
   "outputs": [
    {
     "name": "stdout",
     "output_type": "stream",
     "text": [
      "   September 2021\n",
      "Mo Tu We Th Fr Sa Su\n",
      "       1  2  3  4  5\n",
      " 6  7  8  9 10 11 12\n",
      "13 14 15 16 17 18 19\n",
      "20 21 22 23 24 25 26\n",
      "27 28 29 30\n",
      "\n"
     ]
    }
   ],
   "source": [
    "print(calendar.month(2021,9))"
   ]
  },
  {
   "cell_type": "markdown",
   "metadata": {
    "id": "WJLDrRI-0ZiC"
   },
   "source": [
    "- 연도와 월을 지정해 그달 1일이 시작하는 요일과 그달의 날짜 수를 알고 싶다면 monthrange()함수를 이용"
   ]
  },
  {
   "cell_type": "code",
   "execution_count": 194,
   "metadata": {
    "id": "heabS2TB0ZiC"
   },
   "outputs": [
    {
     "data": {
      "text/plain": [
       "(calendar.MONDAY, 28)"
      ]
     },
     "execution_count": 194,
     "metadata": {},
     "output_type": "execute_result"
    }
   ],
   "source": [
    "calendar.monthrange(2021,2)"
   ]
  },
  {
   "cell_type": "markdown",
   "metadata": {
    "id": "Si8U_Iv70ZiC"
   },
   "source": [
    "- 결과로 두 개의 숫자가 반환\n",
    "- 첫 번째 숫자는 해당 월의 1일의 요일에 해당하는 숫자{월요일 ~ 일요일을 의미하는 0〜 6 중 하나가 반환됨)이고\n",
    "- 두 번째 숫자는 해당 월의 날짜 수"
   ]
  },
  {
   "cell_type": "markdown",
   "metadata": {
    "id": "m3bIieEo0ZiC"
   },
   "source": [
    "- 출력된 달력을 보면 일주일의 시작 요일이 월요일인 것을 알 수 있음\n",
    "- 달력에서 일주일의 시작 요일을 구하려면 firstweekday() 함수를 실행"
   ]
  },
  {
   "cell_type": "code",
   "execution_count": 197,
   "metadata": {
    "id": "72rb8FtD0ZiC"
   },
   "outputs": [
    {
     "data": {
      "text/plain": [
       "0"
      ]
     },
     "execution_count": 197,
     "metadata": {},
     "output_type": "execute_result"
    }
   ],
   "source": [
    "calendar.firstweekday()"
   ]
  },
  {
   "cell_type": "markdown",
   "metadata": {
    "id": "woY5rnET0ZiC"
   },
   "source": [
    "- 결과로 0이 출력돼 달력에서 일주일의 시작 요일이 월요일로 지정된 \n",
    "- 시작 요일을 지정하려면 setfirstweekday(weekday) 함수를 이용\n",
    "- 시작 요일을 일요일로 지정하려면 weekday 에는 6(혹은 calendar.SUNDAY)을 입력"
   ]
  },
  {
   "cell_type": "markdown",
   "metadata": {
    "id": "NAHcEY3c0ZiD"
   },
   "source": [
    "- setfirstweekday (calendar.SUNDAY) 로 달력에서 일주일의 시작 요일을 일요일로 바꾸고 달력을 출력"
   ]
  },
  {
   "cell_type": "code",
   "execution_count": 200,
   "metadata": {
    "id": "JBGxKRJJ0ZiD"
   },
   "outputs": [
    {
     "name": "stdout",
     "output_type": "stream",
     "text": [
      "    August 2021\n",
      "Su Mo Tu We Th Fr Sa\n",
      " 1  2  3  4  5  6  7\n",
      " 8  9 10 11 12 13 14\n",
      "15 16 17 18 19 20 21\n",
      "22 23 24 25 26 27 28\n",
      "29 30 31\n",
      "\n"
     ]
    }
   ],
   "source": [
    "calendar.setfirstweekday(calendar.SUNDAY)\n",
    "print(calendar.month(2021,8))"
   ]
  },
  {
   "cell_type": "markdown",
   "metadata": {
    "id": "Y-Y7WdVV0ZiD"
   },
   "source": [
    "- calendar 모듈 함수는 weekday() 함수\n",
    "- 해당 날짜의 요일을 반환"
   ]
  },
  {
   "cell_type": "code",
   "execution_count": 202,
   "metadata": {
    "id": "MdsydetI0ZiD"
   },
   "outputs": [
    {
     "name": "stdout",
     "output_type": "stream",
     "text": [
      "6\n"
     ]
    }
   ],
   "source": [
    "print(calendar.weekday(2021, 8, 1))"
   ]
  },
  {
   "cell_type": "markdown",
   "metadata": {
    "id": "_ZQqvrsJ0ZiE"
   },
   "source": [
    "- isleap(year) 함수를 이용해 어떤 연도가 윤년인지를 확인"
   ]
  },
  {
   "cell_type": "code",
   "execution_count": 204,
   "metadata": {
    "id": "v_KoHq1x0ZiE"
   },
   "outputs": [
    {
     "name": "stdout",
     "output_type": "stream",
     "text": [
      "True\n",
      "False\n"
     ]
    }
   ],
   "source": [
    "print(calendar.isleap(2020))\n",
    "print(calendar.isleap(2021))"
   ]
  },
  {
   "cell_type": "markdown",
   "metadata": {
    "id": "6vRVWhpS0ZiE"
   },
   "source": [
    "출력 결과에서 2020년은 윤년인 것을 알 수 있음"
   ]
  },
  {
   "cell_type": "markdown",
   "metadata": {
    "id": "Ht_jVirW0ZiE"
   },
   "source": [
    "## 10.5 패키지"
   ]
  },
  {
   "cell_type": "markdown",
   "metadata": {
    "id": "gHqWSzUj0ZiE"
   },
   "source": [
    "- 파이썬에서 모듈은 코드가 저장된 파일\n",
    "- 어떤 기능을 구현할 때 하나의 모듈로 구성하 기보다는 여러 개의 모듈로 구현하는 경우가 많음\n",
    "- 여러 모듈을 체계적으로 모아서 꾸러미로 관리하면 편리\n",
    "- 파이썬에서는 이런 꾸러미를 패키지(Package)\n",
    "- 파이썬 패키지는 여러 모듈을 폴더로 묶어서 계충적으로 관리"
   ]
  },
  {
   "cell_type": "markdown",
   "metadata": {
    "id": "MIFd29vf0ZiE"
   },
   "source": [
    "- 복잡하고 규모가 큰 프로그램을 작성할 때는 각 모듈을 묶어서 패키지로 만들면 좀 더 효율적으로 코드를 관리"
   ]
  },
  {
   "cell_type": "markdown",
   "metadata": {
    "id": "pT6tB5jj0ZiE"
   },
   "source": [
    "### 패키지의 구조"
   ]
  },
  {
   "cell_type": "markdown",
   "metadata": {
    "id": "AQX4YCMa0ZiF"
   },
   "source": [
    "- 파이썬 패키지는 폴더 구조로 돼 있으며 각 폴더에는 '\\_\\_init__.py'라는 특별한 파일\n",
    "- '\\_\\_init__.py' 파일은 해당 폴더가 패키지의 일부인 것을 알려주는 역할\n",
    "- '\\_\\_init__.py' 파일은 패키지를 초기화하는 코드를 넣을 수도 있고 아무 코드도 없는 빈 파일일 수도 있음\n",
    "- 패키지를 만들 때 '\\_\\_init__.py' 파일이 없어도 되지만 하위 호환성을 고려하면 '\\_\\_init__.py'파일을 포함하는 것이 좋음"
   ]
  },
  {
   "cell_type": "markdown",
   "metadata": {
    "id": "xIXl6wEC0ZiF"
   },
   "source": [
    "### 패키지 만들기"
   ]
  },
  {
   "cell_type": "code",
   "execution_count": 212,
   "metadata": {
    "scrolled": true
   },
   "outputs": [
    {
     "data": {
      "text/plain": [
       "'C:\\\\Users\\\\user\\\\Desktop\\\\강의 교안\\\\강의 교안'"
      ]
     },
     "execution_count": 212,
     "metadata": {},
     "output_type": "execute_result"
    }
   ],
   "source": [
    "pwd"
   ]
  },
  {
   "cell_type": "code",
   "execution_count": 213,
   "metadata": {
    "id": "O4ZOkdJV0ZiF"
   },
   "outputs": [],
   "source": [
    "%mkdir image\n",
    "%mkdir image\\io_file"
   ]
  },
  {
   "cell_type": "markdown",
   "metadata": {
    "id": "2dWVgtwZ0ZiF"
   },
   "source": [
    "- 빈 '\\_\\_init__.py'파일을 생성"
   ]
  },
  {
   "cell_type": "code",
   "execution_count": 215,
   "metadata": {
    "id": "GEwdSX-F0ZiF"
   },
   "outputs": [
    {
     "name": "stdout",
     "output_type": "stream",
     "text": [
      "Writing image/__init__.py\n"
     ]
    }
   ],
   "source": [
    "%%writefile image/__init__.py\n",
    "# File name: __init__.py"
   ]
  },
  {
   "cell_type": "code",
   "execution_count": 216,
   "metadata": {
    "id": "-CWZlAeN0ZiF"
   },
   "outputs": [
    {
     "name": "stdout",
     "output_type": "stream",
     "text": [
      "Writing image/io_file/__init__.py\n"
     ]
    }
   ],
   "source": [
    "%%writefile image/io_file/__init__.py\n",
    "# File name: __init__.py"
   ]
  },
  {
   "cell_type": "markdown",
   "metadata": {
    "id": "7PtvBI0m0ZiF"
   },
   "source": [
    "- imgread 모듈에는 pngread() 함수와 jpgread() 함수를 만듬"
   ]
  },
  {
   "cell_type": "code",
   "execution_count": 218,
   "metadata": {
    "id": "qoS5MWMP0ZiG",
    "scrolled": true
   },
   "outputs": [
    {
     "name": "stdout",
     "output_type": "stream",
     "text": [
      "Writing image/io_file/imgread.py\n"
     ]
    }
   ],
   "source": [
    "%%writefile image/io_file/imgread.py\n",
    "# File name: imgread.py\n",
    "    \n",
    "def pngread():\n",
    "    print(\"pngread in imgread module\")\n",
    "\n",
    "def jpgread():\n",
    "    print(\"jpgread in imgread module\")\n"
   ]
  },
  {
   "cell_type": "markdown",
   "metadata": {
    "id": "9BpInbEF0ZiG"
   },
   "source": [
    "### 패키지 사용하기"
   ]
  },
  {
   "cell_type": "markdown",
   "metadata": {
    "id": "M78V818A0ZiG"
   },
   "source": [
    "- 패키지 모듈을 이용하려면 'import 패키지 내 모듈명'으로 선언\n",
    "- 패키지명에서 시작해 모듈명까지 구분하기 위해 패키지명, 폴더명, 모듈명 사이에 온점(.)을 입력"
   ]
  },
  {
   "cell_type": "markdown",
   "metadata": {
    "id": "TTQjLAgh0ZiG"
   },
   "source": [
    "- 패키지 폴더 안에 바로 모듈이 있다면 'import 패키지명.모들명'으로 모듈을 호출하고 \n",
    "- 패키지와 모듈 사이에 폴더가 있다면 'import 패키지명.폴더명.모둘명'으로 모듈을 호출"
   ]
  },
  {
   "cell_type": "markdown",
   "metadata": {
    "id": "wpVmdvsb0ZiH"
   },
   "source": [
    "- 패키지에서 모듈 내의 함수를 호출하는 방법"
   ]
  },
  {
   "cell_type": "code",
   "execution_count": 223,
   "metadata": {
    "id": "GwgrXF-_0ZiH"
   },
   "outputs": [
    {
     "name": "stdout",
     "output_type": "stream",
     "text": [
      "pngread in imgread module\n",
      "jpgread in imgread module\n"
     ]
    }
   ],
   "source": [
    "import image.io_file.imgread # image 패키지 io_file 폴더의 imgread 모듈 임포트\n",
    "    \n",
    "image.io_file.imgread.pngread() # imgread 모듈 내의 pngread() 함수 호출\n",
    "image.io_file.imgread.jpgread() # imgread 모듈 내의 jpgread() 함수 호출"
   ]
  },
  {
   "cell_type": "markdown",
   "metadata": {
    "id": "WCn5sRBz0ZiH"
   },
   "source": [
    "- 'from A import B' 형식을 이용하면 패키지 안에 있는 모듈 내 함수를 더 간단하게 호출\n",
    "- 첫 번째 방법은 'from A import B’에서\n",
    "- A에는 '패키지명[.폴더명]'을 입력하고 \n",
    "- B에는 사용할 모듈명을 입력"
   ]
  },
  {
   "cell_type": "code",
   "execution_count": 225,
   "metadata": {
    "id": "dcSFteAK0ZiH"
   },
   "outputs": [
    {
     "name": "stdout",
     "output_type": "stream",
     "text": [
      "pngread in imgread module\n",
      "jpgread in imgread module\n"
     ]
    }
   ],
   "source": [
    "from image.io_file import imgread\n",
    "\n",
    "imgread.pngread()\n",
    "imgread.jpgread()"
   ]
  },
  {
   "cell_type": "markdown",
   "metadata": {
    "id": "4i-1nWqY0ZiH"
   },
   "source": [
    "- 'from A import B'에서 A에는 '패키지명[.폴더명].모듈명'을 입력하고 B는 사용할 항수명을 입력"
   ]
  },
  {
   "cell_type": "code",
   "execution_count": 227,
   "metadata": {
    "id": "zQ7ZUJSo0ZiH"
   },
   "outputs": [
    {
     "name": "stdout",
     "output_type": "stream",
     "text": [
      "pngread in imgread module\n"
     ]
    }
   ],
   "source": [
    "from image.io_file.imgread import pngread\n",
    "\n",
    "pngread()"
   ]
  },
  {
   "cell_type": "markdown",
   "metadata": {
    "id": "sHhno4W00ZiH"
   },
   "source": [
    "- imgread 모듈의 모든 함수를 바로 부르려면 'from 패키지명[.폴더명].모듈명 import *’를 이용"
   ]
  },
  {
   "cell_type": "code",
   "execution_count": 229,
   "metadata": {
    "id": "ZFFQJwLu0ZiH"
   },
   "outputs": [
    {
     "name": "stdout",
     "output_type": "stream",
     "text": [
      "pngread in imgread module\n",
      "jpgread in imgread module\n"
     ]
    }
   ],
   "source": [
    "from image.io_file.imgread import *\n",
    "\n",
    "pngread()\n",
    "jpgread()"
   ]
  },
  {
   "cell_type": "markdown",
   "metadata": {
    "id": "zOfnAuUp0ZiH"
   },
   "source": [
    "- 'from 패키지명[.폴더명].모듈명 import *’를 이용해 \n",
    "- 전체 함수를 임포트한 후에는 모듈 내의 모든 함수를 바로 불러서 이용할 수 있음"
   ]
  },
  {
   "cell_type": "markdown",
   "metadata": {
    "id": "FaK42PjJ0ZiI"
   },
   "source": [
    "- 전체 함수를 임포트하지 않고 필요한 함수만 선택 적으로 임포트할 수도 있음"
   ]
  },
  {
   "cell_type": "code",
   "execution_count": 232,
   "metadata": {
    "id": "AFujiCea0ZiI"
   },
   "outputs": [
    {
     "name": "stdout",
     "output_type": "stream",
     "text": [
      "pngread in imgread module\n",
      "jpgread in imgread module\n"
     ]
    }
   ],
   "source": [
    "from image.io_file.imgread import pngread, jpgread\n",
    "\n",
    "pngread()\n",
    "jpgread()"
   ]
  },
  {
   "cell_type": "markdown",
   "metadata": {
    "id": "5KhJSZ9M0ZiI"
   },
   "source": [
    "- 패키지의 모듈 이름에 별명을 붙여서 모듈을 이용할 수 있음"
   ]
  },
  {
   "cell_type": "code",
   "execution_count": 234,
   "metadata": {
    "id": "MWNeH8gp0ZiI"
   },
   "outputs": [
    {
     "name": "stdout",
     "output_type": "stream",
     "text": [
      "pngread in imgread module\n",
      "jpgread in imgread module\n"
     ]
    }
   ],
   "source": [
    "from image.io_file import imgread as img\n",
    "\n",
    "img.pngread()\n",
    "img.jpgread()"
   ]
  },
  {
   "cell_type": "markdown",
   "metadata": {
    "id": "-M-jYKBK0ZiI"
   },
   "source": [
    "- 패키지의 모듈 안에 있는 변수, 함수，클래스에도 별명을 붙일 수 있음\n",
    "- 모듈 내의 함수에 별명을 붙여서 호출"
   ]
  },
  {
   "cell_type": "code",
   "execution_count": 236,
   "metadata": {
    "id": "tzoJDty00ZiI"
   },
   "outputs": [
    {
     "name": "stdout",
     "output_type": "stream",
     "text": [
      "pngread in imgread module\n",
      "jpgread in imgread module\n"
     ]
    }
   ],
   "source": [
    "from image.io_file.imgread import pngread as pread\n",
    "from image.io_file.imgread import jpgread as jread\n",
    "\n",
    "pread()\n",
    "jread()"
   ]
  },
  {
   "cell_type": "markdown",
   "metadata": {
    "collapsed": true,
    "id": "sPI8tCA20ZiI",
    "jupyter": {
     "outputs_hidden": true
    }
   },
   "source": [
    "## 10.6 정리"
   ]
  },
  {
   "cell_type": "markdown",
   "metadata": {
    "id": "ZA4SS9Ta0ZiI"
   },
   "source": [
    "- 모듈이 무엇인지 살펴보고 모듈의 생성 방법과 활용법\n",
    "- 파이썬 내장 모듈인 난수 발생 모듈(random)과 날짜 및 시간 관련 모듈(datetime), 달력 관련 모듈(calendar)의 사용법\n",
    "- 패키지의 구조와 생성 및 사용 방법"
   ]
  },
  {
   "cell_type": "code",
   "execution_count": null,
   "metadata": {},
   "outputs": [],
   "source": []
  }
 ],
 "metadata": {
  "anaconda-cloud": {},
  "colab": {
   "collapsed_sections": [],
   "name": "010_Module.ipynb",
   "provenance": []
  },
  "kernelspec": {
   "display_name": "Python [conda env:base] *",
   "language": "python",
   "name": "conda-base-py"
  },
  "language_info": {
   "codemirror_mode": {
    "name": "ipython",
    "version": 3
   },
   "file_extension": ".py",
   "mimetype": "text/x-python",
   "name": "python",
   "nbconvert_exporter": "python",
   "pygments_lexer": "ipython3",
   "version": "3.12.7"
  },
  "latex_envs": {
   "LaTeX_envs_menu_present": true,
   "autoclose": false,
   "autocomplete": true,
   "bibliofile": "biblio.bib",
   "cite_by": "apalike",
   "current_citInitial": 1,
   "eqLabelWithNumbers": true,
   "eqNumInitial": 1,
   "hotkeys": {
    "equation": "Ctrl-E",
    "itemize": "Ctrl-I"
   },
   "labels_anchors": false,
   "latex_user_defs": false,
   "report_style_numbering": false,
   "user_envs_cfg": false
  },
  "nav_menu": {},
  "toc": {
   "nav_menu": {
    "height": "289px",
    "width": "252px"
   },
   "number_sections": false,
   "sideBar": true,
   "skip_h1_title": false,
   "toc_cell": false,
   "toc_position": {
    "height": "582px",
    "left": "0px",
    "right": "1135px",
    "top": "111px",
    "width": "231px"
   },
   "toc_section_display": "block",
   "toc_window_display": false
  },
  "toc_position": {
   "height": "533px",
   "left": "0px",
   "right": "979.167px",
   "top": "107px",
   "width": "273px"
  }
 },
 "nbformat": 4,
 "nbformat_minor": 4
}
