{
 "cells": [
  {
   "cell_type": "markdown",
   "metadata": {
    "id": "mmyPzbufMCr4"
   },
   "source": [
    "# 7장 함수"
   ]
  },
  {
   "cell_type": "markdown",
   "metadata": {
    "id": "xrvTB5nJMCr4"
   },
   "source": [
    "- 코딩하다 보면 특정 기능을 반복해서 수행해야 할 때가 있음\n",
    "- 그때마다 같은 기능을 수행하는 코드 를 반복해서 작성한다면 비효율적\n",
    "- 사용할 수 있는 것이 함수(function)\n",
    "- 함수는 특정 기능을 수행하는 코드의 묶음\n",
    "- 함수를 이용하면 같은 기능을 수행하는 코드를 반복해서 작성할 필요가 없음"
   ]
  },
  {
   "cell_type": "markdown",
   "metadata": {
    "id": "VNR95Z30MCr5"
   },
   "source": [
    "- 출력을 위한 print() 함수, 데이터 타입을 알기 위한 type() 함수 등이 바로 내장 함수"
   ]
  },
  {
   "cell_type": "markdown",
   "metadata": {
    "id": "iVwrWg5MMCr5"
   },
   "source": [
    "## 7.1 함수 정의와 호출"
   ]
  },
  {
   "cell_type": "markdown",
   "metadata": {
    "id": "9iwA2tpYMCr6"
   },
   "source": [
    "### 함수의 기본 구조\n"
   ]
  },
  {
   "cell_type": "markdown",
   "metadata": {
    "id": "mEwMws9WMCr6"
   },
   "source": [
    " - 함수는 특정 기능을 수행하는 코드의 묶음\n",
    " - 수학 함수에서 입력값을 프로그래밍 함수에서는 인자\n",
    " - 프로그래밍에서는 이 인자를 통해 함수에 값을 전달할 수 있음\n",
    " - 수학 함수에서 계산된 결과값을 프로그래밍 함수에 서는 반환 값\n",
    " - 프로그래밍의 함수는 수학 함수와 달리 인자와 반환 값이 없을 수도 있음"
   ]
  },
  {
   "cell_type": "markdown",
   "metadata": {
    "id": "wd0UxqhJMCr7"
   },
   "source": [
    "- 함수를 이용하려면 먼저 함수를 정의(함수 만들기)해야 함\n",
    "- 함수를 정의한 후에야 함수를 호출(정의된 함수 부르기)할 수 있음"
   ]
  },
  {
   "cell_type": "markdown",
   "metadata": {
    "id": "Uf6RE9vmMCr7"
   },
   "source": [
    "- def 함수명([인자1, 인자2, •\n",
    "• , 인자n]):\n",
    "〈코드 블록〉\n",
    "[return <반환 값>]\n",
    "- 함수는 def 키워드로 시작\n",
    "- 프로그래머가 정의한 함수명(함수 이름)을 입력\n",
    "- 함수 명은 주로 영문 알파벳 소문자로 구성되며 가독성을 높이기 위해 밑줄(_)을 이용\n",
    "- 함수 명을 입력한 후에는 소괄호와 콜론을 입력\n",
    "- 대괄호 안의 내용은 필요에 따라 쓸 수 도 있고 쓰지 않을 수도 있음"
   ]
  },
  {
   "cell_type": "markdown",
   "metadata": {
    "id": "hcarpxTqMCr7"
   },
   "source": [
    "- 함수에서 사용할 인자가 있으면 소괄호 안에 인자를 입력\n",
    "- 인자를 여러 개 입력할 수 있는데 인자와 인자 사이는 콤마로 구분\n",
    "- 함수에서 사용할 인자가 없으면 소괄호만 입력\n",
    "- 소괄호 다음에는 콜론(:)을 입력\n",
    "- 그 이후 줄을 바꾸고 들여쓰기를 한 후에〈코드 블록〉에 코드를 입력\n",
    "- 반환 값이 있으면 마지막 줄에 return <반환 값>을 입력하고 없으면 아무것도 입력하지 않음"
   ]
  },
  {
   "cell_type": "markdown",
   "metadata": {
    "id": "SG5Ztf0sMCr8"
   },
   "source": [
    "- 인자도 반환 값도 없는 함수\n",
    "- 인자는 있으나 반환 값이 없는 함수\n",
    "- 인자도 있고 반환 값도 있는 함수"
   ]
  },
  {
   "cell_type": "markdown",
   "metadata": {
    "id": "OW5fgUbIMCr8"
   },
   "source": [
    "- 함수를 정의한 후 정의된 함수를 호출해야 함수가 실행\n",
    "- 함수를 호출할 때는 함수를 정의할 때 지정했던 인자도 함께 써야 함\n",
    "- 이때 인자의 개수와 순서는 같아야 함\n",
    "- 함수를 정의할 때 인자가 없었으면 함수를 호출할 때 소괄호 안에 아무것도 입력하지 않음\n",
    "- 정의한 함수를 호출하는 코드 구조\n",
    "- 함수명([인자1, 인자2, • • •  , 인자n])"
   ]
  },
  {
   "cell_type": "markdown",
   "metadata": {
    "id": "uIqsWjKwMCr8"
   },
   "source": [
    "### 인자도 반환 값도 없는 함수"
   ]
  },
  {
   "cell_type": "markdown",
   "metadata": {
    "id": "RcE2Ge26MCr9"
   },
   "source": [
    "- 함수는 전달할 인자와 반환 값의 유무에 따라 다양한 구조로 만들 수 있음\n",
    "- 인자도 없고 반환 값도 없는 가장 간단한 구조의 함수"
   ]
  },
  {
   "cell_type": "code",
   "execution_count": 14,
   "metadata": {
    "executionInfo": {
     "elapsed": 47,
     "status": "ok",
     "timestamp": 1659568982791,
     "user": {
      "displayName": "junhwa lee",
      "userId": "11332889748979012167"
     },
     "user_tz": -540
    },
    "id": "0spvKghSMCr9"
   },
   "outputs": [],
   "source": [
    "def my_func():\n",
    "    print(\"My first function!\")\n",
    "    print(\"This is a function.\")"
   ]
  },
  {
   "cell_type": "markdown",
   "metadata": {
    "id": "26Q39Bv3MCr9"
   },
   "source": [
    "- 함수를 정의하고 실행하면 아무 일도 일어나지 않음\n",
    "- 오류가 발생하지 않고 아무 일도 일어나지 않는다면 함수가 잘 정의된 것\n",
    "- 만약 오류가 발생한다면 잘못된 곳을 수정한 후 다시 실행"
   ]
  },
  {
   "cell_type": "markdown",
   "metadata": {
    "id": "X5am7qteMCr9"
   },
   "source": [
    "- 함수를 정의한 후에 호출해야 비로소 함수가 실행\n",
    "- my_func() 함수에는 인자가 없기 때문에 함수명과 소괄호만 입력해 함수를 호출"
   ]
  },
  {
   "cell_type": "code",
   "execution_count": 17,
   "metadata": {
    "colab": {
     "base_uri": "https://localhost:8080/"
    },
    "executionInfo": {
     "elapsed": 45,
     "status": "ok",
     "timestamp": 1659568982792,
     "user": {
      "displayName": "junhwa lee",
      "userId": "11332889748979012167"
     },
     "user_tz": -540
    },
    "id": "ofQHU_u3MCr-",
    "outputId": "1b79dccd-c8f7-41d0-89d9-d83d30a71e57"
   },
   "outputs": [
    {
     "name": "stdout",
     "output_type": "stream",
     "text": [
      "My first function!\n",
      "This is a function.\n"
     ]
    }
   ],
   "source": [
    "my_func()"
   ]
  },
  {
   "cell_type": "markdown",
   "metadata": {
    "id": "fDkpwJCcMCr-"
   },
   "source": [
    "### 인자는 있으나 반환 값이 없는 함수"
   ]
  },
  {
   "cell_type": "markdown",
   "metadata": {
    "id": "1gdyC5VAMCr-"
   },
   "source": [
    "- 인자는 있지만 반환 값이 없는 함수를 정의하고 호출\n",
    "- 인자{여기서는 문자열) 하나를 넘겨받아 출력하는 함수를 정의"
   ]
  },
  {
   "cell_type": "code",
   "execution_count": 20,
   "metadata": {
    "executionInfo": {
     "elapsed": 41,
     "status": "ok",
     "timestamp": 1659568982792,
     "user": {
      "displayName": "junhwa lee",
      "userId": "11332889748979012167"
     },
     "user_tz": -540
    },
    "id": "2E4oCveYMCr-"
   },
   "outputs": [],
   "source": [
    "def my_friend(friendName):\n",
    "    print(\"{}는 나의 친구입니다.\".format(friendName))"
   ]
  },
  {
   "cell_type": "markdown",
   "metadata": {
    "id": "bqrpyGzFMCr-"
   },
   "source": [
    "- 정의한 함수에 인자를 각각 입력해서 호출"
   ]
  },
  {
   "cell_type": "code",
   "execution_count": 22,
   "metadata": {
    "colab": {
     "base_uri": "https://localhost:8080/"
    },
    "executionInfo": {
     "elapsed": 40,
     "status": "ok",
     "timestamp": 1659568982792,
     "user": {
      "displayName": "junhwa lee",
      "userId": "11332889748979012167"
     },
     "user_tz": -540
    },
    "id": "3hyxulQaMCr-",
    "outputId": "749a7d15-eee0-4f13-bcb8-0550a22ec989"
   },
   "outputs": [
    {
     "name": "stdout",
     "output_type": "stream",
     "text": [
      "철수는 나의 친구입니다.\n",
      "영미는 나의 친구입니다.\n"
     ]
    }
   ],
   "source": [
    "my_friend(\"철수\")\n",
    "my_friend(\"영미\")"
   ]
  },
  {
   "cell_type": "markdown",
   "metadata": {
    "id": "meOHaOlIMCr_"
   },
   "source": [
    "- 함수를 두 번 호출했는데 각각 인자를 다르게 입력해 출력 결과가 다르게 나왔음\n",
    "- 함수에 인자를 이용하면 인자에 따라 다른 결과를 얻을 수 있음"
   ]
  },
  {
   "cell_type": "markdown",
   "metadata": {
    "id": "RIHZyTLUMCr_"
   },
   "source": [
    "- 함수에서 인자는 하나일 수도 있고 여러 개일 수도 있음\n",
    "- 인자가 세 개인 함수"
   ]
  },
  {
   "cell_type": "code",
   "execution_count": 25,
   "metadata": {
    "executionInfo": {
     "elapsed": 33,
     "status": "ok",
     "timestamp": 1659568982792,
     "user": {
      "displayName": "junhwa lee",
      "userId": "11332889748979012167"
     },
     "user_tz": -540
    },
    "id": "_peOD87rMCr_"
   },
   "outputs": [],
   "source": [
    "def my_student_info(name, school_ID, phoneNumber):\n",
    "    print(\"------------------------\")\n",
    "    print(\"- 학생이름:\", name)\n",
    "    print(\"- 학급번호:\", school_ID)\n",
    "    print(\"- 전화번호:\", phoneNumber)"
   ]
  },
  {
   "cell_type": "markdown",
   "metadata": {
    "id": "-de7cUhZMCr_"
   },
   "source": [
    "- 함수를 정의할 때 세 개의 인자를 넘겨받도록 만들었기 때문에 호출할 때도  세 개의 인자를 입력해서 함수를 호출"
   ]
  },
  {
   "cell_type": "code",
   "execution_count": 27,
   "metadata": {
    "colab": {
     "base_uri": "https://localhost:8080/"
    },
    "executionInfo": {
     "elapsed": 33,
     "status": "ok",
     "timestamp": 1659568982793,
     "user": {
      "displayName": "junhwa lee",
      "userId": "11332889748979012167"
     },
     "user_tz": -540
    },
    "id": "w8oisS4vMCr_",
    "outputId": "cba61077-21a4-4b1b-bfad-4880644e7933"
   },
   "outputs": [
    {
     "name": "stdout",
     "output_type": "stream",
     "text": [
      "------------------------\n",
      "- 학생이름: 현아\n",
      "- 학급번호: 01\n",
      "- 전화번호: 01-235-6789\n",
      "------------------------\n",
      "- 학생이름: 진수\n",
      "- 학급번호: 02\n",
      "- 전화번호: 01-987-6543\n"
     ]
    }
   ],
   "source": [
    "my_student_info(\"현아\", \"01\", \"01-235-6789\")\n",
    "my_student_info(\"진수\", \"02\", \"01-987-6543\")"
   ]
  },
  {
   "cell_type": "markdown",
   "metadata": {
    "id": "5GhLKVCiMCr_"
   },
   "source": [
    "- 정의한 my_student_info() 함수를 수정하면 이 함수를 호출하는 모든 코드에 적용\n",
    "- my_student_info() 함수의 출력 양식을 수정한 함수"
   ]
  },
  {
   "cell_type": "code",
   "execution_count": 29,
   "metadata": {
    "executionInfo": {
     "elapsed": 27,
     "status": "ok",
     "timestamp": 1659568982793,
     "user": {
      "displayName": "junhwa lee",
      "userId": "11332889748979012167"
     },
     "user_tz": -540
    },
    "id": "oCPQ2P8BMCsA"
   },
   "outputs": [],
   "source": [
    "def my_student_info(name, school_ID,  phoneNumber):\n",
    "    print(\"****************************\")\n",
    "    print(\"* 학생이름:\", name)\n",
    "    print(\"* 학급번호:\", school_ID)\n",
    "    print(\"* 전화번호:\", phoneNumber)"
   ]
  },
  {
   "cell_type": "markdown",
   "metadata": {
    "id": "KLx0HlDUMCsA"
   },
   "source": [
    "- 입력한 인자를 변경 없이 그대로 입력해서 my_student_info() 함수를 다시 호출"
   ]
  },
  {
   "cell_type": "code",
   "execution_count": 31,
   "metadata": {
    "colab": {
     "base_uri": "https://localhost:8080/"
    },
    "executionInfo": {
     "elapsed": 27,
     "status": "ok",
     "timestamp": 1659568982794,
     "user": {
      "displayName": "junhwa lee",
      "userId": "11332889748979012167"
     },
     "user_tz": -540
    },
    "id": "nVowqMZyMCsA",
    "outputId": "0e47d1ff-0f5b-41d6-892c-6ad0c1488c5a"
   },
   "outputs": [
    {
     "name": "stdout",
     "output_type": "stream",
     "text": [
      "****************************\n",
      "* 학생이름: 현아\n",
      "* 학급번호: 01\n",
      "* 전화번호: 01-235-6789\n",
      "****************************\n",
      "* 학생이름: 진수\n",
      "* 학급번호: 02\n",
      "* 전화번호: 01-987-6543\n"
     ]
    }
   ],
   "source": [
    "my_student_info(\"현아\", \"01\", \"01-235-6789\")\n",
    "my_student_info(\"진수\", \"02\", \"01-987-6543\")"
   ]
  },
  {
   "cell_type": "markdown",
   "metadata": {
    "id": "7Q9j563iMCsA"
   },
   "source": [
    "### 인자도 있고 반환 값도 있는 함수"
   ]
  },
  {
   "cell_type": "markdown",
   "metadata": {
    "id": "ZvXUjdLSMCsA"
   },
   "source": [
    "- 인자를 받아서 처리한 후에 값을 반환하는 함수"
   ]
  },
  {
   "cell_type": "markdown",
   "metadata": {
    "id": "5INx6ItSMCsA"
   },
   "source": [
    "- 가로와 세로 길이 인자 두 개를 받아서 넓이를 계산한 후 그 결과를 반환하는 함수를 정의"
   ]
  },
  {
   "cell_type": "code",
   "execution_count": 35,
   "metadata": {
    "executionInfo": {
     "elapsed": 23,
     "status": "ok",
     "timestamp": 1659568982794,
     "user": {
      "displayName": "junhwa lee",
      "userId": "11332889748979012167"
     },
     "user_tz": -540
    },
    "id": "kJLryc_4MCsB"
   },
   "outputs": [],
   "source": [
    "def my_calc(x,y):\n",
    "    z = x*y\n",
    "    return z"
   ]
  },
  {
   "cell_type": "markdown",
   "metadata": {
    "id": "d4BPaKgJMCsB"
   },
   "source": [
    "- 인자를 입력해서 함수를 호출하면 결과값(넓이)을 출력"
   ]
  },
  {
   "cell_type": "code",
   "execution_count": 37,
   "metadata": {
    "colab": {
     "base_uri": "https://localhost:8080/"
    },
    "executionInfo": {
     "elapsed": 22,
     "status": "ok",
     "timestamp": 1659568982794,
     "user": {
      "displayName": "junhwa lee",
      "userId": "11332889748979012167"
     },
     "user_tz": -540
    },
    "id": "O7gBlfxYMCsB",
    "outputId": "cd9014f8-2b61-44b2-d6bf-85f561a655c9"
   },
   "outputs": [
    {
     "data": {
      "text/plain": [
       "12"
      ]
     },
     "execution_count": 37,
     "metadata": {},
     "output_type": "execute_result"
    }
   ],
   "source": [
    "my_calc(3,4)"
   ]
  },
  {
   "cell_type": "markdown",
   "metadata": {
    "id": "7CnllhulMCsC"
   },
   "source": [
    "- 파이썬에서는 함수의 인자로 리스트, 세트, 튜플, 딕셔너리도 사용 있음"
   ]
  },
  {
   "cell_type": "markdown",
   "metadata": {
    "id": "WSr7i6DUMCsC"
   },
   "source": [
    "- 리스트를 인자로 갖는 함수"
   ]
  },
  {
   "cell_type": "code",
   "execution_count": 40,
   "metadata": {
    "executionInfo": {
     "elapsed": 20,
     "status": "ok",
     "timestamp": 1659568982795,
     "user": {
      "displayName": "junhwa lee",
      "userId": "11332889748979012167"
     },
     "user_tz": -540
    },
    "id": "UUAJl3hDMCsC"
   },
   "outputs": [],
   "source": [
    "def my_student_info_list(student_info):\n",
    "    print(\"****************************\")\n",
    "    print(\"* 학생이름:\", student_info[0])\n",
    "    print(\"* 학급번호:\", student_info[1])\n",
    "    print(\"* 전화번호:\", student_info[2])\n",
    "    print(\"****************************\")"
   ]
  },
  {
   "cell_type": "markdown",
   "metadata": {
    "id": "4aIzIh9PMCsC"
   },
   "source": [
    "- 함수의 인자는 리스트이므로 인자를 리스트로 입력해서 함수를 호출"
   ]
  },
  {
   "cell_type": "code",
   "execution_count": 42,
   "metadata": {
    "colab": {
     "base_uri": "https://localhost:8080/"
    },
    "executionInfo": {
     "elapsed": 20,
     "status": "ok",
     "timestamp": 1659568982795,
     "user": {
      "displayName": "junhwa lee",
      "userId": "11332889748979012167"
     },
     "user_tz": -540
    },
    "id": "50rNSB5HMCsC",
    "outputId": "90c13829-e7f3-4c80-f9bd-88a025158b38"
   },
   "outputs": [
    {
     "name": "stdout",
     "output_type": "stream",
     "text": [
      "****************************\n",
      "* 학생이름: 현아\n",
      "* 학급번호: 01\n",
      "* 전화번호: 01-235-6789\n",
      "****************************\n"
     ]
    }
   ],
   "source": [
    "student1_info = [\"현아\", \"01\", \"01-235-6789\"]\n",
    "my_student_info_list(student1_info)"
   ]
  },
  {
   "cell_type": "markdown",
   "metadata": {
    "id": "0tFyebafMCsD"
   },
   "source": [
    "- 리스트를 변수에 넣은 후에 이것을 함수의 인자로 넣지 않고  리스트를 바로 인자로 지정할 수도 있음"
   ]
  },
  {
   "cell_type": "code",
   "execution_count": 44,
   "metadata": {
    "colab": {
     "base_uri": "https://localhost:8080/"
    },
    "executionInfo": {
     "elapsed": 18,
     "status": "ok",
     "timestamp": 1659568982796,
     "user": {
      "displayName": "junhwa lee",
      "userId": "11332889748979012167"
     },
     "user_tz": -540
    },
    "id": "l_wT5vnzMCsD",
    "outputId": "3551e294-93f7-4b9b-b9b9-4a3321804a98"
   },
   "outputs": [
    {
     "name": "stdout",
     "output_type": "stream",
     "text": [
      "****************************\n",
      "* 학생이름: 진수\n",
      "* 학급번호: 02\n",
      "* 전화번호: 01-987-6543\n",
      "****************************\n"
     ]
    }
   ],
   "source": [
    "my_student_info_list([\"진수\", \"02\", \"01-987-6543\"])"
   ]
  },
  {
   "cell_type": "markdown",
   "metadata": {
    "id": "OBB9gSRKMCsD"
   },
   "source": [
    "## 7.2 변수의 유효 범위"
   ]
  },
  {
   "cell_type": "markdown",
   "metadata": {
    "id": "cXXHKt1FMCsD"
   },
   "source": [
    "- 함수 안에서 정의한{혹은 생성한) 변수는 함수 안에서만 사용\n",
    "- 함수 안에서 생성한 변수는 함수를 호출해 실행되는 동안만 사용할 수 있고 함수 실행이 끝나면 더는 사용할 수 없음"
   ]
  },
  {
   "cell_type": "markdown",
   "metadata": {
    "id": "jnHD1wTKMCsE"
   },
   "source": [
    "- 함수 안에서 정의한 변수는 함수 영역 안에서만 동작하는 변수이므로 지역 변수(local variable)\n",
    "- 지역 변수는 함수가 호출될 때 임시 저장 공간(메모리)에 할당되고 함수 실행이 끝나면 사라짐\n",
    "- 다른 함수에서 같은 이름으로 변수를 사용해도 각각 다른 임시 저장 공간에 할당되므로 독립적으로 동작"
   ]
  },
  {
   "cell_type": "markdown",
   "metadata": {
    "id": "Rwrf7qUqMCsE"
   },
   "source": [
    "- 지역 변수의 상대적인 개념으로 함수 밖에서 생성한 변수인 전역 변수(global variable)\n",
    "- 지역 변수는 함수 안에서만 사용할 수 있지만 전역 변수는 코드 내 어디서나 사용할 수 있음"
   ]
  },
  {
   "cell_type": "markdown",
   "metadata": {
    "id": "rhT4aW7BMCsE"
   },
   "source": [
    "- 변수를 정의할 때 변수가 저장되는 공간을 이름 공간이라고 하는데\n",
    "- 변수를 함수 안에서 정의했느냐，함수 밖에서 정의했느냐에 따라 코드 내에서 영향을 미치는 유효 범위(scope)가 달라짐"
   ]
  },
  {
   "cell_type": "markdown",
   "metadata": {
    "id": "8cKW89TKMCsE"
   },
   "source": [
    "- 지역 변수를 저장하는 이름 공간을 지역 영역(local scope)이라고 하고 \n",
    "- 전역 변수를 저장하는 이름 공간을 전역 영역(global scope)이라고 함"
   ]
  },
  {
   "cell_type": "markdown",
   "metadata": {
    "id": "XbGp-NvDMCsE"
   },
   "source": [
    "-  파이썬 자체에서 정의한 이름 공간을 내장 영역(built-in scope)이라고 함\n",
    "- 함수에서 어떤 변수를 호출하면 지역 영역, 전역 영역, 내장 영역 순서대로 변수가 있는지 확인\n",
    "- 스코핑 룰(Scoping rule) 혹은 LGB 룰 (Local/Global/Built_in rule) 이라고 함"
   ]
  },
  {
   "cell_type": "markdown",
   "metadata": {
    "id": "H5yo_3GeMCsF"
   },
   "source": [
    "- 함수를 작성할 때 지역 변수와 전역 변수의 이름이 다르다면 문제가 되지 않지만\n",
    "- 만약 동일한 변수명을 지역 변수와 전역 변수에 모두 이용했다면 이것을 이용할 때 스코핑 룰에 따라 변수가 선택"
   ]
  },
  {
   "cell_type": "markdown",
   "metadata": {
    "id": "maJANW-QMCsF"
   },
   "source": [
    "- 하나의 코드에서 같은 이름의 변수를 지역 변수와 전역 변수로 모두 사용"
   ]
  },
  {
   "cell_type": "code",
   "execution_count": 54,
   "metadata": {
    "executionInfo": {
     "elapsed": 16,
     "status": "ok",
     "timestamp": 1659568982796,
     "user": {
      "displayName": "junhwa lee",
      "userId": "11332889748979012167"
     },
     "user_tz": -540
    },
    "id": "HplbXx1LMCsF"
   },
   "outputs": [],
   "source": [
    "a = 5 # 전역 변수\n",
    "\n",
    "def func1():\n",
    "    a = 1 # 지역 변수. func1()에서만 사용\n",
    "    print(\"[func1] 지역 변수 a =\", a)\n",
    "\n",
    "def func2():\n",
    "    a = 2 # 지역 변수. func2()에서만 사용\n",
    "    print(\"[func2] 지역 변수 a =\", a)  \n",
    "    \n",
    "def func3():\n",
    "    print(\"[func3] 전역 변수 a =\", a)   \n",
    "    \n",
    "def func4():\n",
    "    global a  # 함수 내에서 전역 변수 변경 위해 선언\n",
    "    a = 4      # 전역 변수의 값 변경\n",
    "    print(\"[func4] 전역 변수 a =\",a)"
   ]
  },
  {
   "cell_type": "markdown",
   "metadata": {
    "id": "TnqXe1z_MCsG"
   },
   "source": [
    "- 함수 밖에서 정의된 전역 변수 a에는 5를 할당\n",
    "- 함수 func1()과 func2() 안에서 정 의된 지역 변수 a에는 각각 1과 2를 할당하고 출력\n",
    "- 함수 func3()에서는 지역 변수 a를 정의하지 않고 a를 출력\n",
    "- 전역 변수 a를 가져와서 출력\n",
    "- 전역 변수는 코드 내 어디서나 사용할 수 있으므로 함수안과 함수 밖에서 모두 이용할 수 있음\n",
    "- 함수 func4() 에서도 지역 변수 a를 정의하지 않고 a를 이용\n",
    "- 함수 func4()에서는 전역 변수 a의 값을 변경\n",
    "- 함수 안에서 전역 변수의 내용을 변경할 때는 'global 전역 변수명'을 먼저 선언해야 전역 변수의 내용을 변경할 수 있음"
   ]
  },
  {
   "cell_type": "markdown",
   "metadata": {
    "id": "0U6dDO16MCsG"
   },
   "source": [
    "- 정의한 각각 함수를 호출해 각 함수에서 어떤 a가 사용"
   ]
  },
  {
   "cell_type": "code",
   "execution_count": 57,
   "metadata": {
    "colab": {
     "base_uri": "https://localhost:8080/"
    },
    "executionInfo": {
     "elapsed": 15,
     "status": "ok",
     "timestamp": 1659568982796,
     "user": {
      "displayName": "junhwa lee",
      "userId": "11332889748979012167"
     },
     "user_tz": -540
    },
    "id": "P_pWn1BpMCsG",
    "outputId": "bd721fd4-f23f-422a-89ba-e3c86c8ac2d3"
   },
   "outputs": [
    {
     "name": "stdout",
     "output_type": "stream",
     "text": [
      "[func1] 지역 변수 a = 1\n",
      "[func2] 지역 변수 a = 2\n",
      "전역 변수 a = 5\n"
     ]
    }
   ],
   "source": [
    "func1() #함수 func1() 호출\n",
    "func2() #함수 func2() 호출\n",
    "print(\"전역 변수 a =\", a) # 전역 변수 출력 "
   ]
  },
  {
   "cell_type": "markdown",
   "metadata": {
    "id": "P5q4CvklMCsH"
   },
   "source": [
    "- 함수 안에서 정의된 지역 변수는 같은 이름의 전역 변수보다 먼저 참조되고 함수가 끝나면 그 효력이 즉시 사라지는 것을 알 수 있음\n",
    "- 함수를 호출하지 않고 변수를 이용하면 전 역 변수를 참조하는 것을 확인할 수 있음"
   ]
  },
  {
   "cell_type": "markdown",
   "metadata": {
    "id": "v-Kna-1CMCsH"
   },
   "source": [
    "- 함수 안에서 전역 변수 이용하는 함수 func3()과 func4()를 호출"
   ]
  },
  {
   "cell_type": "code",
   "execution_count": 60,
   "metadata": {
    "colab": {
     "base_uri": "https://localhost:8080/"
    },
    "executionInfo": {
     "elapsed": 14,
     "status": "ok",
     "timestamp": 1659568982797,
     "user": {
      "displayName": "junhwa lee",
      "userId": "11332889748979012167"
     },
     "user_tz": -540
    },
    "id": "8xh4VaOEMCsH",
    "outputId": "c2542231-92d2-4238-e78a-673aad6053e8"
   },
   "outputs": [
    {
     "name": "stdout",
     "output_type": "stream",
     "text": [
      "[func3] 전역 변수 a = 5\n",
      "[func4] 전역 변수 a = 4\n",
      "[func3] 전역 변수 a = 4\n"
     ]
    }
   ],
   "source": [
    "func3() #함수 func3() 호출\n",
    "func4() #함수 func4() 호출\n",
    "func3() #함수 func3() 호출"
   ]
  },
  {
   "cell_type": "markdown",
   "metadata": {
    "id": "62ZipPs6MCsH"
   },
   "source": [
    "- 함수 호출 결과를 비교해 보면 함수 func4() 호출로 전역 변수 a의 값이 변경됐음을 알 수 있음"
   ]
  },
  {
   "cell_type": "markdown",
   "metadata": {
    "id": "B2unxs4fMCsI"
   },
   "source": [
    "## 7.3 람다(lambda) 함수"
   ]
  },
  {
   "cell_type": "markdown",
   "metadata": {
    "id": "VtSGA9RoMCsI"
   },
   "source": [
    "- 파이썬에는 한 줄로 함수를 표현하는 람다(lambda) 함수가 있음\n",
    "- 람다 함수는 구성이 단순해 간단한 연산을 하는 데 종종 사용됨"
   ]
  },
  {
   "cell_type": "markdown",
   "metadata": {
    "id": "lGSaCr0-MCsI"
   },
   "source": [
    "- 람다 함수의 기본 구조\n",
    "- lambda〈인자〉: <인자 활용 수행 코드>\n",
    "- 람다 함수는 <인자>를 전달하면 <인자 활용 수행 코드>를 수행한 후 결과를 바로 반환\n",
    "- <인자>는 콤마(,)로 구분해 여러 개를 사용할 수 있음"
   ]
  },
  {
   "cell_type": "markdown",
   "metadata": {
    "id": "lOULVoagMCsI"
   },
   "source": [
    "- 람다를 사용할 때는  람다 함수 전체를 소괄호로 감싸고 그 다음에 별도의 소괄호에 인자를 씀\n",
    "- (lambda〈인자〉：〈인자 활용 수행 코드〉) (<인자>)"
   ]
  },
  {
   "cell_type": "markdown",
   "metadata": {
    "id": "V7nfuv9MMCsI"
   },
   "source": [
    "- 람다 함수를 다른 변수에 할당하고 이 변수를 함수명처럼 이용해 람다 함수를 호출\n",
    "- 이때 정의한〈인자〉도 함께 입력\n",
    "- 람다 함수를 변수에 할당할 때는 람다 함수 전체를 소괄호로 감싸지 않아도 됨\n",
    "- lambda_function = lambda <인자>：〈인자 활용 수행 코드〉 lambda_function (<인자〉)"
   ]
  },
  {
   "cell_type": "markdown",
   "metadata": {
    "id": "INrZRKFkMCsJ"
   },
   "source": [
    "- 람다 함수를 이용해 입력된 수의 제곱을 반환하는 코드\n",
    "- 입력 인자와 연산 코드로 구성된 람다 함수를 정의하고 인자로 3을 입력"
   ]
  },
  {
   "cell_type": "code",
   "execution_count": 68,
   "metadata": {
    "colab": {
     "base_uri": "https://localhost:8080/"
    },
    "executionInfo": {
     "elapsed": 868,
     "status": "ok",
     "timestamp": 1659568983653,
     "user": {
      "displayName": "junhwa lee",
      "userId": "11332889748979012167"
     },
     "user_tz": -540
    },
    "id": "FqJNZDN2MCsJ",
    "outputId": "aa8352fa-ecf3-4664-b6c7-1bd1039ccdd9"
   },
   "outputs": [
    {
     "data": {
      "text/plain": [
       "9"
      ]
     },
     "execution_count": 68,
     "metadata": {},
     "output_type": "execute_result"
    }
   ],
   "source": [
    "(lambda x : x**2) (3)"
   ]
  },
  {
   "cell_type": "markdown",
   "metadata": {
    "id": "GbgGpSTHMCsJ"
   },
   "source": [
    "- 제곱을 구하는 람다 함수에 숫자 3을 입력해 원하는 결과를 얻었지만 \n",
    "- 제곱을 계속 수행해야 한다면 람다 함수를 반복해서 써야 해서 번거로움"
   ]
  },
  {
   "cell_type": "markdown",
   "metadata": {
    "id": "wL2lvWQ8MCsJ"
   },
   "source": [
    "- 람다 함수를 변수에 할당한 후에 인자를 입력해서 호출"
   ]
  },
  {
   "cell_type": "code",
   "execution_count": 71,
   "metadata": {
    "colab": {
     "base_uri": "https://localhost:8080/"
    },
    "executionInfo": {
     "elapsed": 101,
     "status": "ok",
     "timestamp": 1659568983654,
     "user": {
      "displayName": "junhwa lee",
      "userId": "11332889748979012167"
     },
     "user_tz": -540
    },
    "id": "fKR0cHFTMCsK",
    "outputId": "f4f44cc3-ad80-48b2-8281-9a58715b1dbc"
   },
   "outputs": [
    {
     "data": {
      "text/plain": [
       "4"
      ]
     },
     "execution_count": 71,
     "metadata": {},
     "output_type": "execute_result"
    }
   ],
   "source": [
    "mySquare = lambda x : x**2\n",
    "mySquare(2)"
   ]
  },
  {
   "cell_type": "markdown",
   "metadata": {
    "id": "TNIljUbEMCsK"
   },
   "source": [
    "- 람다 함수를 변수로 할당했으므로 이제 다른 인자의 제곱 값을 얻고 싶다면  인자만 바꿔서 람다 함수를 호출"
   ]
  },
  {
   "cell_type": "code",
   "execution_count": 73,
   "metadata": {
    "colab": {
     "base_uri": "https://localhost:8080/"
    },
    "executionInfo": {
     "elapsed": 98,
     "status": "ok",
     "timestamp": 1659568983654,
     "user": {
      "displayName": "junhwa lee",
      "userId": "11332889748979012167"
     },
     "user_tz": -540
    },
    "id": "IRrGDVUPMCsK",
    "outputId": "9a0f66a4-d148-4fa5-92ba-bd5c7db94d96"
   },
   "outputs": [
    {
     "data": {
      "text/plain": [
       "25"
      ]
     },
     "execution_count": 73,
     "metadata": {},
     "output_type": "execute_result"
    }
   ],
   "source": [
    "mySquare(5)"
   ]
  },
  {
   "cell_type": "markdown",
   "metadata": {
    "id": "PMlQ3LiFMCsL"
   },
   "source": [
    "- 여러 개의 인자를 입력받아 연산 결과를 반환하는 람다 함수"
   ]
  },
  {
   "cell_type": "markdown",
   "metadata": {
    "id": "6MB9w0CvMCsL"
   },
   "source": [
    "- x, y, z라는 세 개의 인자를 입력받아 '2*x + 3*y + z' 연산의 결과를 반환\n",
    "- 정의한 람다 함수를 변수에 할당하고 세 개의 인자를 입력해서 람다 함수를 호출"
   ]
  },
  {
   "cell_type": "code",
   "execution_count": 76,
   "metadata": {
    "colab": {
     "base_uri": "https://localhost:8080/"
    },
    "executionInfo": {
     "elapsed": 96,
     "status": "ok",
     "timestamp": 1659568983654,
     "user": {
      "displayName": "junhwa lee",
      "userId": "11332889748979012167"
     },
     "user_tz": -540
    },
    "id": "dP_i6TP-MCsL",
    "outputId": "830bffb2-5e58-4cd1-f9af-40c7825c20ae"
   },
   "outputs": [
    {
     "data": {
      "text/plain": [
       "11"
      ]
     },
     "execution_count": 76,
     "metadata": {},
     "output_type": "execute_result"
    }
   ],
   "source": [
    "mySimpleFunc = lambda x,y,z : 2*x + 3*y + z\n",
    "mySimpleFunc(1,2,3)"
   ]
  },
  {
   "cell_type": "markdown",
   "metadata": {
    "id": "uC5M1zwqMCsM"
   },
   "source": [
    "## 7.4 유용한 내장 함수"
   ]
  },
  {
   "cell_type": "markdown",
   "metadata": {
    "id": "Jd_VhlCtMCsM"
   },
   "source": [
    "- 파이썬의 다양한 내장 함수를 활용하면 함수를 새로 만들지 않고 원하는 기능을 수행할 수 있음"
   ]
  },
  {
   "cell_type": "markdown",
   "metadata": {
    "id": "Z9isQUDzMCsM"
   },
   "source": [
    "### 형 변환 함수"
   ]
  },
  {
   "cell_type": "markdown",
   "metadata": {
    "id": "03IbdvhXMCsM"
   },
   "source": [
    "- 코드를 작성하다 보면 데이터의 형태(타입)를 변환해야 하는 경우가 발생\n",
    "- 파이씬의 내장 함수를 이용해 데이터의 형태를 변환하는 방법"
   ]
  },
  {
   "cell_type": "markdown",
   "metadata": {
    "id": "hwoiS-mNMCsM"
   },
   "source": [
    "#### 정수형으로 변환"
   ]
  },
  {
   "cell_type": "markdown",
   "metadata": {
    "id": "zLgLyPRpMCsM"
   },
   "source": [
    "- 내장 함수 int()는 실수나 문자열(정수 표시) 데이터를 정수로 변환\n",
    "- 실수 데이터를 정수로 변환\n",
    "- 실수의 경우 소수점 이하는 버리는 방식으로 정수로 변환"
   ]
  },
  {
   "cell_type": "code",
   "execution_count": 83,
   "metadata": {
    "colab": {
     "base_uri": "https://localhost:8080/"
    },
    "executionInfo": {
     "elapsed": 95,
     "status": "ok",
     "timestamp": 1659568983655,
     "user": {
      "displayName": "junhwa lee",
      "userId": "11332889748979012167"
     },
     "user_tz": -540
    },
    "id": "V6HY4BChMCsM",
    "outputId": "c69be37c-2596-402d-97cf-26bc0e9229e5"
   },
   "outputs": [
    {
     "data": {
      "text/plain": [
       "[0, 3, -1]"
      ]
     },
     "execution_count": 83,
     "metadata": {},
     "output_type": "execute_result"
    }
   ],
   "source": [
    "[int(0.123), int(3.5123456), int(-1.312367)]"
   ]
  },
  {
   "cell_type": "markdown",
   "metadata": {
    "id": "icQzUDrqMCsN"
   },
   "source": [
    "- 문자열의 경우는 문자열이 정수를 표시할 때만 정수로 변환\n",
    "- 문자열이 실수를 표시하거나 숫자 외의 문자가 포함돼 있는 경우 int()로 변환을 시도하면 오류가 발생"
   ]
  },
  {
   "cell_type": "code",
   "execution_count": 85,
   "metadata": {
    "colab": {
     "base_uri": "https://localhost:8080/"
    },
    "executionInfo": {
     "elapsed": 93,
     "status": "ok",
     "timestamp": 1659568983655,
     "user": {
      "displayName": "junhwa lee",
      "userId": "11332889748979012167"
     },
     "user_tz": -540
    },
    "id": "KYDo8UmoMCsN",
    "outputId": "a4e7c7c1-0efc-41d8-8b3e-a7f49317298d"
   },
   "outputs": [
    {
     "data": {
      "text/plain": [
       "[1234, 5678, -9012]"
      ]
     },
     "execution_count": 85,
     "metadata": {},
     "output_type": "execute_result"
    }
   ],
   "source": [
    "[int('1234'), int('5678'), int('-9012')]"
   ]
  },
  {
   "cell_type": "markdown",
   "metadata": {
    "id": "2FkQIfJVMCsN"
   },
   "source": [
    "#### 실수형으로 변환"
   ]
  },
  {
   "cell_type": "markdown",
   "metadata": {
    "id": "QhiBvfYZMCsN"
   },
   "source": [
    "- 내장 함수 float()는 정수나 문자열(정수 및 실수 표시) 데이터를 실수로 변환\n",
    "- 정수 데이터를 실수로 변환"
   ]
  },
  {
   "cell_type": "code",
   "execution_count": 88,
   "metadata": {
    "colab": {
     "base_uri": "https://localhost:8080/"
    },
    "executionInfo": {
     "elapsed": 90,
     "status": "ok",
     "timestamp": 1659568983655,
     "user": {
      "displayName": "junhwa lee",
      "userId": "11332889748979012167"
     },
     "user_tz": -540
    },
    "id": "0tcq7j27MCsN",
    "outputId": "2b3ba1cc-a3e6-4f64-fb33-b1ce2a4f075a"
   },
   "outputs": [
    {
     "data": {
      "text/plain": [
       "[0.0, 123.0, -567.0]"
      ]
     },
     "execution_count": 88,
     "metadata": {},
     "output_type": "execute_result"
    }
   ],
   "source": [
    "[float(0), float(123), float(-567)]"
   ]
  },
  {
   "cell_type": "markdown",
   "metadata": {
    "id": "e9FsZ-OSMCsN"
   },
   "source": [
    "- 실수를 표시한 문자열을 실수로 변환\n",
    "- 문자열에 정수나 실수를 표시하는 문자 외 의 다른 문자가 있으면 float()로 변환할 때 오류가 발생"
   ]
  },
  {
   "cell_type": "code",
   "execution_count": 90,
   "metadata": {
    "colab": {
     "base_uri": "https://localhost:8080/"
    },
    "executionInfo": {
     "elapsed": 87,
     "status": "ok",
     "timestamp": 1659568983655,
     "user": {
      "displayName": "junhwa lee",
      "userId": "11332889748979012167"
     },
     "user_tz": -540
    },
    "id": "jYrNQwSTMCsO",
    "outputId": "dd9e134b-a906-4c68-d69a-3f3d904f9b5e"
   },
   "outputs": [
    {
     "data": {
      "text/plain": [
       "[10.0, 0.123, -567.89]"
      ]
     },
     "execution_count": 90,
     "metadata": {},
     "output_type": "execute_result"
    }
   ],
   "source": [
    "[float('10'), float('0.123'), float('-567.89')]"
   ]
  },
  {
   "cell_type": "markdown",
   "metadata": {
    "id": "tT-b86l4MCsO"
   },
   "source": [
    "#### 문자형으로 변환"
   ]
  },
  {
   "cell_type": "markdown",
   "metadata": {
    "id": "NUnRmgUzMCsO"
   },
   "source": [
    "- 내장 함수 str()은 정수나 실수 데이터를 문자열로 변환\n",
    "- 정수 데이터를 문자열 데이터로 변환"
   ]
  },
  {
   "cell_type": "code",
   "execution_count": 93,
   "metadata": {
    "colab": {
     "base_uri": "https://localhost:8080/"
    },
    "executionInfo": {
     "elapsed": 86,
     "status": "ok",
     "timestamp": 1659568983656,
     "user": {
      "displayName": "junhwa lee",
      "userId": "11332889748979012167"
     },
     "user_tz": -540
    },
    "id": "sfg03jdvMCsO",
    "outputId": "e252c7bc-601b-4f84-bfff-01bbe1c6a79b"
   },
   "outputs": [
    {
     "data": {
      "text/plain": [
       "['123', '459678', '-987']"
      ]
     },
     "execution_count": 93,
     "metadata": {},
     "output_type": "execute_result"
    }
   ],
   "source": [
    "[str(123), str(459678), str(-987)]"
   ]
  },
  {
   "cell_type": "markdown",
   "metadata": {
    "id": "2o5wm_S6MCsO"
   },
   "source": [
    "- 실수 데이터를 문자열 데이터로 변환"
   ]
  },
  {
   "cell_type": "code",
   "execution_count": 95,
   "metadata": {
    "colab": {
     "base_uri": "https://localhost:8080/"
    },
    "executionInfo": {
     "elapsed": 84,
     "status": "ok",
     "timestamp": 1659568983656,
     "user": {
      "displayName": "junhwa lee",
      "userId": "11332889748979012167"
     },
     "user_tz": -540
    },
    "id": "ErdDBiC_MCsO",
    "outputId": "a3695995-2941-4e8a-8ee0-34e4e5258ff2"
   },
   "outputs": [
    {
     "data": {
      "text/plain": [
       "['0.123', '345.678', '-5.987']"
      ]
     },
     "execution_count": 95,
     "metadata": {},
     "output_type": "execute_result"
    }
   ],
   "source": [
    "[str(0.123), str(345.678), str(-5.987)]"
   ]
  },
  {
   "cell_type": "markdown",
   "metadata": {
    "id": "mD8gTknnMCsO"
   },
   "source": [
    "#### 리스트, 튜플, 세트형으로 변환"
   ]
  },
  {
   "cell_type": "markdown",
   "metadata": {
    "id": "T8I6o6YyMCsP"
   },
   "source": [
    "- 리스트, 튜플, 세트 데이터는특성이 비슷해서 list(), tuple(), set() 함수처럼 서로 변환할수 있음"
   ]
  },
  {
   "cell_type": "markdown",
   "metadata": {
    "id": "c-r0xhIaMCsP"
   },
   "source": [
    "- 리스트, 튜플, 세트 데이터끼리 변환\n",
    "- 리스트, 튜플, 세트 데이터를 만듬"
   ]
  },
  {
   "cell_type": "code",
   "execution_count": 99,
   "metadata": {
    "executionInfo": {
     "elapsed": 82,
     "status": "ok",
     "timestamp": 1659568983656,
     "user": {
      "displayName": "junhwa lee",
      "userId": "11332889748979012167"
     },
     "user_tz": -540
    },
    "id": "KeQMh7coMCsP"
   },
   "outputs": [],
   "source": [
    "list_data = ['abc', 1, 2, 'def']\n",
    "tuple_data = ('abc', 1, 2, 'def')\n",
    "set_data = {'abc', 1, 2, 'def'}"
   ]
  },
  {
   "cell_type": "markdown",
   "metadata": {
    "id": "Sgj9c4TjMCsP"
   },
   "source": [
    "- 각 데이터 타입은 type() 함수로 확인"
   ]
  },
  {
   "cell_type": "code",
   "execution_count": 101,
   "metadata": {
    "colab": {
     "base_uri": "https://localhost:8080/"
    },
    "executionInfo": {
     "elapsed": 81,
     "status": "ok",
     "timestamp": 1659568983656,
     "user": {
      "displayName": "junhwa lee",
      "userId": "11332889748979012167"
     },
     "user_tz": -540
    },
    "id": "VHLdYk-AMCsP",
    "outputId": "0e97caff-60de-4ca6-f023-6087248c083d"
   },
   "outputs": [
    {
     "data": {
      "text/plain": [
       "[list, tuple, set]"
      ]
     },
     "execution_count": 101,
     "metadata": {},
     "output_type": "execute_result"
    }
   ],
   "source": [
    "[type(list_data), type(tuple_data), type(set_data)]"
   ]
  },
  {
   "cell_type": "markdown",
   "metadata": {
    "id": "dLiAEV7ZMCsP"
   },
   "source": [
    "- list() 함수를 이용해 튜플 데이터와 세트 데이터를 리스트로 변환"
   ]
  },
  {
   "cell_type": "code",
   "execution_count": 103,
   "metadata": {
    "colab": {
     "base_uri": "https://localhost:8080/"
    },
    "executionInfo": {
     "elapsed": 80,
     "status": "ok",
     "timestamp": 1659568983657,
     "user": {
      "displayName": "junhwa lee",
      "userId": "11332889748979012167"
     },
     "user_tz": -540
    },
    "id": "1oHiX4HoMCsQ",
    "outputId": "b53059a1-c0e1-4d34-83bd-0ab470662fa5"
   },
   "outputs": [
    {
     "name": "stdout",
     "output_type": "stream",
     "text": [
      "리스트로 변환:  ['abc', 1, 2, 'def'] [1, 2, 'def', 'abc']\n"
     ]
    }
   ],
   "source": [
    "print(\"리스트로 변환: \", list(tuple_data), list(set_data))"
   ]
  },
  {
   "cell_type": "markdown",
   "metadata": {
    "id": "uPLq1DQAMCsQ"
   },
   "source": [
    "- tuple() 함수로 리스트 데이터와 세트 데이터를 튜플로 변환"
   ]
  },
  {
   "cell_type": "code",
   "execution_count": 105,
   "metadata": {
    "colab": {
     "base_uri": "https://localhost:8080/"
    },
    "executionInfo": {
     "elapsed": 77,
     "status": "ok",
     "timestamp": 1659568983657,
     "user": {
      "displayName": "junhwa lee",
      "userId": "11332889748979012167"
     },
     "user_tz": -540
    },
    "id": "EBZhJa2rMCsQ",
    "outputId": "9fc39fda-f381-4db4-d050-d312a98e1372",
    "scrolled": true
   },
   "outputs": [
    {
     "name": "stdout",
     "output_type": "stream",
     "text": [
      "튜플로 변환: ('abc', 1, 2, 'def') (1, 2, 'def', 'abc')\n"
     ]
    }
   ],
   "source": [
    "print(\"튜플로 변환:\", tuple(list_data), tuple(set_data))"
   ]
  },
  {
   "cell_type": "markdown",
   "metadata": {
    "id": "dmSfl5yqMCsQ"
   },
   "source": [
    "- set() 함수를 이용해 리스트 데이터와 튜플 데이터를 세트로 변환"
   ]
  },
  {
   "cell_type": "code",
   "execution_count": 107,
   "metadata": {
    "colab": {
     "base_uri": "https://localhost:8080/"
    },
    "executionInfo": {
     "elapsed": 74,
     "status": "ok",
     "timestamp": 1659568983657,
     "user": {
      "displayName": "junhwa lee",
      "userId": "11332889748979012167"
     },
     "user_tz": -540
    },
    "id": "rcTqVc4PMCsR",
    "outputId": "81622180-203f-495e-fee8-fa4d93bb4c67"
   },
   "outputs": [
    {
     "name": "stdout",
     "output_type": "stream",
     "text": [
      "세트로 변환: {1, 2, 'def', 'abc'} {1, 2, 'def', 'abc'}\n"
     ]
    }
   ],
   "source": [
    "print(\"세트로 변환:\", set(list_data), set(tuple_data))"
   ]
  },
  {
   "cell_type": "markdown",
   "metadata": {
    "id": "QYXaibS2MCsR"
   },
   "source": [
    "### bool 함수"
   ]
  },
  {
   "cell_type": "markdown",
   "metadata": {
    "id": "VeSD0wsAMCsR"
   },
   "source": [
    "내장 함수 bool()은 True 혹은 False의 결과를 반환"
   ]
  },
  {
   "cell_type": "markdown",
   "metadata": {
    "id": "dGyFF35-MCsR"
   },
   "source": [
    "#### 숫자를 인자로 bool 함수 호출"
   ]
  },
  {
   "cell_type": "markdown",
   "metadata": {
    "id": "ju7nA1fwMCsR"
   },
   "source": [
    "- bool 함수의 인자가 숫자인 경우\n",
    "- 숫자 0이면 False, 0 이외의 숫자 <양의 정수，음의 정수, 양의 실수, 음의 실수> 이면 True를 반환"
   ]
  },
  {
   "cell_type": "markdown",
   "metadata": {
    "id": "5M6KaquwMCsR"
   },
   "source": [
    "- 숫자 0을 인자로 삼아 bool() 함수를 호출하면  False를 반환"
   ]
  },
  {
   "cell_type": "code",
   "execution_count": 113,
   "metadata": {
    "colab": {
     "base_uri": "https://localhost:8080/"
    },
    "executionInfo": {
     "elapsed": 72,
     "status": "ok",
     "timestamp": 1659568983658,
     "user": {
      "displayName": "junhwa lee",
      "userId": "11332889748979012167"
     },
     "user_tz": -540
    },
    "id": "G5yl5wgEMCsR",
    "outputId": "c786a5b0-0efe-4c98-a067-e3eb7730169f"
   },
   "outputs": [
    {
     "data": {
      "text/plain": [
       "False"
      ]
     },
     "execution_count": 113,
     "metadata": {},
     "output_type": "execute_result"
    }
   ],
   "source": [
    "bool(0) # 인자: 숫자 0"
   ]
  },
  {
   "cell_type": "markdown",
   "metadata": {
    "id": "iUdU5ZT_MCsS"
   },
   "source": [
    "0 이외의 숫자를 인자로 삼아 bool()함수를 호출하면  모두 True를 반환"
   ]
  },
  {
   "cell_type": "code",
   "execution_count": 115,
   "metadata": {
    "colab": {
     "base_uri": "https://localhost:8080/"
    },
    "executionInfo": {
     "elapsed": 70,
     "status": "ok",
     "timestamp": 1659568983658,
     "user": {
      "displayName": "junhwa lee",
      "userId": "11332889748979012167"
     },
     "user_tz": -540
    },
    "id": "67DgvyqCMCsS",
    "outputId": "14c58c04-b0e3-4f79-c4be-699cddab26c4"
   },
   "outputs": [
    {
     "data": {
      "text/plain": [
       "True"
      ]
     },
     "execution_count": 115,
     "metadata": {},
     "output_type": "execute_result"
    }
   ],
   "source": [
    "bool(1) # 인자: 양의 정수"
   ]
  },
  {
   "cell_type": "code",
   "execution_count": 116,
   "metadata": {
    "colab": {
     "base_uri": "https://localhost:8080/"
    },
    "executionInfo": {
     "elapsed": 68,
     "status": "ok",
     "timestamp": 1659568983658,
     "user": {
      "displayName": "junhwa lee",
      "userId": "11332889748979012167"
     },
     "user_tz": -540
    },
    "id": "YpdRwpLlMCsS",
    "outputId": "ed973528-eb93-4509-ec15-c2dc5883c735"
   },
   "outputs": [
    {
     "data": {
      "text/plain": [
       "True"
      ]
     },
     "execution_count": 116,
     "metadata": {},
     "output_type": "execute_result"
    }
   ],
   "source": [
    "bool(-10) # 인자: 음의 정수"
   ]
  },
  {
   "cell_type": "code",
   "execution_count": 117,
   "metadata": {
    "colab": {
     "base_uri": "https://localhost:8080/"
    },
    "executionInfo": {
     "elapsed": 65,
     "status": "ok",
     "timestamp": 1659568983658,
     "user": {
      "displayName": "junhwa lee",
      "userId": "11332889748979012167"
     },
     "user_tz": -540
    },
    "id": "lx9BCuhGMCsS",
    "outputId": "44b2a1b6-4ccb-42e5-fffd-f44f8649e90e"
   },
   "outputs": [
    {
     "data": {
      "text/plain": [
       "True"
      ]
     },
     "execution_count": 117,
     "metadata": {},
     "output_type": "execute_result"
    }
   ],
   "source": [
    "bool(5.12) # 인자: 양의 실수"
   ]
  },
  {
   "cell_type": "code",
   "execution_count": 118,
   "metadata": {
    "colab": {
     "base_uri": "https://localhost:8080/"
    },
    "executionInfo": {
     "elapsed": 65,
     "status": "ok",
     "timestamp": 1659568983659,
     "user": {
      "displayName": "junhwa lee",
      "userId": "11332889748979012167"
     },
     "user_tz": -540
    },
    "id": "dwRf8M7xMCsS",
    "outputId": "d4bb2866-0ca4-4353-e7c7-5a5a917f7695"
   },
   "outputs": [
    {
     "data": {
      "text/plain": [
       "True"
      ]
     },
     "execution_count": 118,
     "metadata": {},
     "output_type": "execute_result"
    }
   ],
   "source": [
    "bool(-3.26) # 인자: 음의 실수"
   ]
  },
  {
   "cell_type": "markdown",
   "metadata": {
    "id": "lHhsI_oxMCsS"
   },
   "source": [
    "#### 문자열을 인자로 bool 함수 호출"
   ]
  },
  {
   "cell_type": "markdown",
   "metadata": {
    "id": "p3AL4V_BMCsT"
   },
   "source": [
    "- bool() 함수의 인자가 문자열인 경우 문자열이 있으면 True를 반환하고 없으면 False를 반환\n",
    "- bool()함수를 어떤 문자열이 빈 문자열인지 아닌지를 검사하는 데 이용할 수 있음\n",
    "- 문자열에서 공백은 공백 문자열이 있는 것이고 빈 문자열('')은 문자열이 없는 것\n",
    "- 파이썬에서 None 은 아무것도 없는 것으로 간주"
   ]
  },
  {
   "cell_type": "markdown",
   "metadata": {
    "id": "qoUeG1_XMCsT"
   },
   "source": [
    "- 함수 bool () 의 인자로 문자열을 사용"
   ]
  },
  {
   "cell_type": "code",
   "execution_count": 122,
   "metadata": {
    "colab": {
     "base_uri": "https://localhost:8080/"
    },
    "executionInfo": {
     "elapsed": 63,
     "status": "ok",
     "timestamp": 1659568983659,
     "user": {
      "displayName": "junhwa lee",
      "userId": "11332889748979012167"
     },
     "user_tz": -540
    },
    "id": "IKEbwW_IMCsT",
    "outputId": "d287a89d-5162-4a06-e1c4-bd50c3df530b"
   },
   "outputs": [
    {
     "data": {
      "text/plain": [
       "True"
      ]
     },
     "execution_count": 122,
     "metadata": {},
     "output_type": "execute_result"
    }
   ],
   "source": [
    "bool('a') # 인자: 문자열 'a'"
   ]
  },
  {
   "cell_type": "code",
   "execution_count": 123,
   "metadata": {
    "colab": {
     "base_uri": "https://localhost:8080/"
    },
    "executionInfo": {
     "elapsed": 62,
     "status": "ok",
     "timestamp": 1659568983660,
     "user": {
      "displayName": "junhwa lee",
      "userId": "11332889748979012167"
     },
     "user_tz": -540
    },
    "id": "AO7qtMDAMCsT",
    "outputId": "0ba7c26c-0aa4-422a-c882-bddd279e8fde"
   },
   "outputs": [
    {
     "data": {
      "text/plain": [
       "True"
      ]
     },
     "execution_count": 123,
     "metadata": {},
     "output_type": "execute_result"
    }
   ],
   "source": [
    "bool(' ') # 인자: 빈 문자열(공백)"
   ]
  },
  {
   "cell_type": "code",
   "execution_count": 124,
   "metadata": {
    "colab": {
     "base_uri": "https://localhost:8080/"
    },
    "executionInfo": {
     "elapsed": 60,
     "status": "ok",
     "timestamp": 1659568983660,
     "user": {
      "displayName": "junhwa lee",
      "userId": "11332889748979012167"
     },
     "user_tz": -540
    },
    "id": "DeKF2RSLMCsT",
    "outputId": "623c66fc-941c-4d70-9e6c-43896939fb05"
   },
   "outputs": [
    {
     "data": {
      "text/plain": [
       "False"
      ]
     },
     "execution_count": 124,
     "metadata": {},
     "output_type": "execute_result"
    }
   ],
   "source": [
    "bool('') # 인자: 문자열 없음"
   ]
  },
  {
   "cell_type": "code",
   "execution_count": 125,
   "metadata": {
    "colab": {
     "base_uri": "https://localhost:8080/"
    },
    "executionInfo": {
     "elapsed": 58,
     "status": "ok",
     "timestamp": 1659568983660,
     "user": {
      "displayName": "junhwa lee",
      "userId": "11332889748979012167"
     },
     "user_tz": -540
    },
    "id": "KZ1R8xDAMCsT",
    "outputId": "e14cfcf6-34f5-474c-c02b-c6a2e2137248"
   },
   "outputs": [
    {
     "data": {
      "text/plain": [
       "False"
      ]
     },
     "execution_count": 125,
     "metadata": {},
     "output_type": "execute_result"
    }
   ],
   "source": [
    "bool(None) #인자: None"
   ]
  },
  {
   "cell_type": "markdown",
   "metadata": {
    "id": "XEVE3inwMCsT"
   },
   "source": [
    "#### 리스트, 튜플, 세트를 인자로 bool 함수 호출"
   ]
  },
  {
   "cell_type": "markdown",
   "metadata": {
    "id": "HBTsnti7MCsU"
   },
   "source": [
    "- bool()함수는 리스트, 튜플, 세트를 인자로 호출할 수도 있음\n",
    "- 문자열과 마찬가지로 항목이 있으면 True, 없으면 False를 반환\n",
    "- bool() 함수는 리스트，튜플, 세트 데이터에서 항목이 있는지 없는지 검사할 때 유용하게 이용할수 있음"
   ]
  },
  {
   "cell_type": "markdown",
   "metadata": {
    "id": "2_RfFNAgMCsU"
   },
   "source": [
    "- 데이터 타입이 리스트이지만 리스트에 항목은 아무것도 없는 빈 리스트를 인자로 bool() 함수를 호출"
   ]
  },
  {
   "cell_type": "code",
   "execution_count": 129,
   "metadata": {
    "colab": {
     "base_uri": "https://localhost:8080/"
    },
    "executionInfo": {
     "elapsed": 58,
     "status": "ok",
     "timestamp": 1659568983661,
     "user": {
      "displayName": "junhwa lee",
      "userId": "11332889748979012167"
     },
     "user_tz": -540
    },
    "id": "B6ZnVxySMCsU",
    "outputId": "385ada19-12ab-43f8-936b-aeb2e2d1871a"
   },
   "outputs": [
    {
     "data": {
      "text/plain": [
       "False"
      ]
     },
     "execution_count": 129,
     "metadata": {},
     "output_type": "execute_result"
    }
   ],
   "source": [
    "myFriends = []\n",
    "bool(myFriends) # 인자: 항목이 없는 빈 리스트 "
   ]
  },
  {
   "cell_type": "markdown",
   "metadata": {
    "id": "dro8P2u-MCsU"
   },
   "source": [
    "- 항목이 있는 리스트를 인자로 bool() 함수를 호출하면 True를 반환"
   ]
  },
  {
   "cell_type": "code",
   "execution_count": 131,
   "metadata": {
    "colab": {
     "base_uri": "https://localhost:8080/"
    },
    "executionInfo": {
     "elapsed": 56,
     "status": "ok",
     "timestamp": 1659568983661,
     "user": {
      "displayName": "junhwa lee",
      "userId": "11332889748979012167"
     },
     "user_tz": -540
    },
    "id": "pPZ2k2QGMCsV",
    "outputId": "44c3b85b-e912-4b6f-94d6-7a17c25b15a4"
   },
   "outputs": [
    {
     "data": {
      "text/plain": [
       "True"
      ]
     },
     "execution_count": 131,
     "metadata": {},
     "output_type": "execute_result"
    }
   ],
   "source": [
    "myFriends = ['James', 'Robert', 'Lisa', 'Mary']\n",
    "bool(myFriends) # 인자: 항목이 있는 리스트 "
   ]
  },
  {
   "cell_type": "markdown",
   "metadata": {
    "id": "vUMbIE_SMCsV"
   },
   "source": [
    "- 튜플에 대해서도 항목이 없는 튜플과 있는 튜플을 인자로 bool()함수를 호출하면\n",
    "-  각각 False 와 True 를 반환"
   ]
  },
  {
   "cell_type": "code",
   "execution_count": 133,
   "metadata": {
    "colab": {
     "base_uri": "https://localhost:8080/"
    },
    "executionInfo": {
     "elapsed": 55,
     "status": "ok",
     "timestamp": 1659568983661,
     "user": {
      "displayName": "junhwa lee",
      "userId": "11332889748979012167"
     },
     "user_tz": -540
    },
    "id": "mB_PAyStMCsV",
    "outputId": "bf1e6975-8fec-4442-a157-1e4dfb100db6"
   },
   "outputs": [
    {
     "data": {
      "text/plain": [
       "False"
      ]
     },
     "execution_count": 133,
     "metadata": {},
     "output_type": "execute_result"
    }
   ],
   "source": [
    "myNum = ()\n",
    "bool(myNum) # 인자: 항목이 없는 빈 튜플 "
   ]
  },
  {
   "cell_type": "code",
   "execution_count": 134,
   "metadata": {
    "colab": {
     "base_uri": "https://localhost:8080/"
    },
    "executionInfo": {
     "elapsed": 54,
     "status": "ok",
     "timestamp": 1659568983662,
     "user": {
      "displayName": "junhwa lee",
      "userId": "11332889748979012167"
     },
     "user_tz": -540
    },
    "id": "-6ZAw6iaMCsV",
    "outputId": "ca304a24-8406-453c-9f38-3f661a17c941"
   },
   "outputs": [
    {
     "data": {
      "text/plain": [
       "True"
      ]
     },
     "execution_count": 134,
     "metadata": {},
     "output_type": "execute_result"
    }
   ],
   "source": [
    "myNum = (1,2,3)\n",
    "bool(myNum) # 인자: 항목이 있는 튜플 "
   ]
  },
  {
   "cell_type": "markdown",
   "metadata": {
    "id": "LZNXDBDVMCsV"
   },
   "source": [
    "- 세트에 대해서도 마찬가지로 항목 유무에 따라  각각 False와 True를 반환"
   ]
  },
  {
   "cell_type": "code",
   "execution_count": 136,
   "metadata": {
    "colab": {
     "base_uri": "https://localhost:8080/"
    },
    "executionInfo": {
     "elapsed": 53,
     "status": "ok",
     "timestamp": 1659568983662,
     "user": {
      "displayName": "junhwa lee",
      "userId": "11332889748979012167"
     },
     "user_tz": -540
    },
    "id": "_oSY0ZHlMCsV",
    "outputId": "d9c1ef22-95e7-449f-975e-2fe4ddd60c2f"
   },
   "outputs": [
    {
     "data": {
      "text/plain": [
       "False"
      ]
     },
     "execution_count": 136,
     "metadata": {},
     "output_type": "execute_result"
    }
   ],
   "source": [
    "mySetA = {}\n",
    "bool(mySetA) # 인자: 항목이 없는 빈 세트 "
   ]
  },
  {
   "cell_type": "code",
   "execution_count": 137,
   "metadata": {
    "colab": {
     "base_uri": "https://localhost:8080/"
    },
    "executionInfo": {
     "elapsed": 51,
     "status": "ok",
     "timestamp": 1659568983662,
     "user": {
      "displayName": "junhwa lee",
      "userId": "11332889748979012167"
     },
     "user_tz": -540
    },
    "id": "hwLI-x4dMCsW",
    "outputId": "1b4bd5de-66cc-4223-ff08-c430f9a933c4"
   },
   "outputs": [
    {
     "data": {
      "text/plain": [
       "True"
      ]
     },
     "execution_count": 137,
     "metadata": {},
     "output_type": "execute_result"
    }
   ],
   "source": [
    "mySetA = {10,20,30}\n",
    "bool(mySetA) # 인자: 항목이 있는 세트 "
   ]
  },
  {
   "cell_type": "markdown",
   "metadata": {
    "id": "PTXFZiGFMCsW"
   },
   "source": [
    "#### bool 함수의 활용"
   ]
  },
  {
   "cell_type": "markdown",
   "metadata": {
    "id": "D3leChjmMCsW"
   },
   "source": [
    "- print_name() 함수 는 name 인자에 문자열이 있으면 이름을 출력하고, 없으면 입력된 문자열이 없다고 출력"
   ]
  },
  {
   "cell_type": "code",
   "execution_count": 140,
   "metadata": {
    "executionInfo": {
     "elapsed": 50,
     "status": "ok",
     "timestamp": 1659568983663,
     "user": {
      "displayName": "junhwa lee",
      "userId": "11332889748979012167"
     },
     "user_tz": -540
    },
    "id": "Y0lmPIKnMCsW"
   },
   "outputs": [],
   "source": [
    "def print_name(name):\n",
    "    if bool(name):\n",
    "        print(\"입력된 이름:\", name)\n",
    "    else:\n",
    "        print(\"입력된 이름이 없습니다.\")    "
   ]
  },
  {
   "cell_type": "markdown",
   "metadata": {
    "id": "eZV7522aMCsW"
   },
   "source": [
    "- print_name() 함수를 호출할 때 인자로 문자열이 있는 경우와 없는 경우에 각각 출력 결과"
   ]
  },
  {
   "cell_type": "code",
   "execution_count": 142,
   "metadata": {
    "colab": {
     "base_uri": "https://localhost:8080/"
    },
    "executionInfo": {
     "elapsed": 49,
     "status": "ok",
     "timestamp": 1659568983663,
     "user": {
      "displayName": "junhwa lee",
      "userId": "11332889748979012167"
     },
     "user_tz": -540
    },
    "id": "4XhyEpooMCsX",
    "outputId": "375c5c43-a4c9-4e06-d13d-947ed39f49d2"
   },
   "outputs": [
    {
     "name": "stdout",
     "output_type": "stream",
     "text": [
      "입력된 이름: James\n"
     ]
    }
   ],
   "source": [
    "print_name(\"James\")"
   ]
  },
  {
   "cell_type": "code",
   "execution_count": 143,
   "metadata": {
    "colab": {
     "base_uri": "https://localhost:8080/"
    },
    "executionInfo": {
     "elapsed": 47,
     "status": "ok",
     "timestamp": 1659568983663,
     "user": {
      "displayName": "junhwa lee",
      "userId": "11332889748979012167"
     },
     "user_tz": -540
    },
    "id": "vasF-XB5MCsX",
    "outputId": "f4caa60e-19d7-4508-a9b0-345069972644"
   },
   "outputs": [
    {
     "name": "stdout",
     "output_type": "stream",
     "text": [
      "입력된 이름이 없습니다.\n"
     ]
    }
   ],
   "source": [
    "print_name(\"\")"
   ]
  },
  {
   "cell_type": "markdown",
   "metadata": {
    "id": "cihth19OMCsX"
   },
   "source": [
    "### 최소값과 최대값을 구하는 함수"
   ]
  },
  {
   "cell_type": "markdown",
   "metadata": {
    "id": "hV5-jwBoMCsX"
   },
   "source": [
    "- 데이터에서 최소값 혹은 최대값을 구할 때 내장 함수 min()과 max()를 이용\n",
    "- 내장 함수 min()과 max()는 리스트, 튜플, 세트의 항목이나 문자열 중에서 각각 최소값과 최대값을 반환"
   ]
  },
  {
   "cell_type": "markdown",
   "metadata": {
    "id": "OOppj_B_MCsX"
   },
   "source": [
    "- 숫자를 포함한 리스트에서 최소값과 최대값을 구하기"
   ]
  },
  {
   "cell_type": "code",
   "execution_count": 147,
   "metadata": {
    "colab": {
     "base_uri": "https://localhost:8080/"
    },
    "executionInfo": {
     "elapsed": 46,
     "status": "ok",
     "timestamp": 1659568983664,
     "user": {
      "displayName": "junhwa lee",
      "userId": "11332889748979012167"
     },
     "user_tz": -540
    },
    "id": "HkjytUb7MCsX",
    "outputId": "6e50b335-e45a-4976-8701-8d4258be48e2"
   },
   "outputs": [
    {
     "data": {
      "text/plain": [
       "[0, 99.5]"
      ]
     },
     "execution_count": 147,
     "metadata": {},
     "output_type": "execute_result"
    }
   ],
   "source": [
    "myNum = [10, 5, 12, 0, 3.5, 99.5, 42]\n",
    "[min(myNum), max(myNum)]"
   ]
  },
  {
   "cell_type": "markdown",
   "metadata": {
    "id": "PL0UON7QMCsY"
   },
   "source": [
    "- 숫자뿐만 아니라 문자열에 대해서도 최소값과 최대값을 구할 수 있음\n",
    "- 문자열을 입력해 문자열에서 최소값과 최대값을 구하기"
   ]
  },
  {
   "cell_type": "code",
   "execution_count": 149,
   "metadata": {
    "colab": {
     "base_uri": "https://localhost:8080/"
    },
    "executionInfo": {
     "elapsed": 45,
     "status": "ok",
     "timestamp": 1659568983664,
     "user": {
      "displayName": "junhwa lee",
      "userId": "11332889748979012167"
     },
     "user_tz": -540
    },
    "id": "BOg-bUpxMCsY",
    "outputId": "3ab2b26e-327f-44b5-d604-3a34998a5060"
   },
   "outputs": [
    {
     "data": {
      "text/plain": [
       "['a', 'z']"
      ]
     },
     "execution_count": 149,
     "metadata": {},
     "output_type": "execute_result"
    }
   ],
   "source": [
    "myStr = 'zxyabc'\n",
    "[min(myStr), max(myStr)]"
   ]
  },
  {
   "cell_type": "markdown",
   "metadata": {
    "id": "SOYOxEFQMCsY"
   },
   "source": [
    "- 각각 튜플과 세트에서 최소값과 최대값을 구하기"
   ]
  },
  {
   "cell_type": "code",
   "execution_count": 151,
   "metadata": {
    "colab": {
     "base_uri": "https://localhost:8080/"
    },
    "executionInfo": {
     "elapsed": 43,
     "status": "ok",
     "timestamp": 1659568983664,
     "user": {
      "displayName": "junhwa lee",
      "userId": "11332889748979012167"
     },
     "user_tz": -540
    },
    "id": "rIJUx35xMCsY",
    "outputId": "e79ab660-214f-4caa-f9f7-f3711073b4de"
   },
   "outputs": [
    {
     "data": {
      "text/plain": [
       "[0, 99.5]"
      ]
     },
     "execution_count": 151,
     "metadata": {},
     "output_type": "execute_result"
    }
   ],
   "source": [
    "myNum = (10, 5, 12, 0, 3.5, 99.5, 42)\n",
    "[min(myNum), max(myNum)]"
   ]
  },
  {
   "cell_type": "code",
   "execution_count": 152,
   "metadata": {
    "colab": {
     "base_uri": "https://localhost:8080/"
    },
    "executionInfo": {
     "elapsed": 42,
     "status": "ok",
     "timestamp": 1659568983665,
     "user": {
      "displayName": "junhwa lee",
      "userId": "11332889748979012167"
     },
     "user_tz": -540
    },
    "id": "ov-Aa10WMCsY",
    "outputId": "3117b43d-f77d-44f7-a777-c7f0e93ea5a1"
   },
   "outputs": [
    {
     "data": {
      "text/plain": [
       "['Abc', 'efg']"
      ]
     },
     "execution_count": 152,
     "metadata": {},
     "output_type": "execute_result"
    }
   ],
   "source": [
    "myNum = {\"Abc\", \"abc\", \"bcd\", \"efg\"}\n",
    "[min(myNum), max(myNum)]"
   ]
  },
  {
   "cell_type": "markdown",
   "metadata": {
    "id": "ZGyblmodMCsY"
   },
   "source": [
    " - 크기를 비교하고자 하는 항목이 문자열일 경우에는 첫 문자 먼저 비교하고\n",
    " - 첫 문자가 같다면 두 번째 문자를 비교하는 식으로 전체를 비교함\n",
    " - 로마자 알파벳의 경우 A ~ Z, a ~ z 순서대로 크기가 큼\n",
    " - 문자열로 된 숫자와 로마자 알파벳을 비교했을 때 숫자가 더 작음"
   ]
  },
  {
   "cell_type": "markdown",
   "metadata": {
    "id": "HEgX1MmPMCsY"
   },
   "source": [
    "### 절대값과 전체 합을 구하는 함수"
   ]
  },
  {
   "cell_type": "markdown",
   "metadata": {
    "id": "ZM2RlZ1wMCsZ"
   },
   "source": [
    "- 절대값은 숫자의 부호와 상관없이 숫자의 크기만을 나타냄\n",
    "- 내장 함수 abs()로 숫자의 절대값을 구 할 수 있음"
   ]
  },
  {
   "cell_type": "markdown",
   "metadata": {
    "id": "tQ8ingUoMCsZ"
   },
   "source": [
    "- abs()를 이용해 숫자의 절대값을 구하기"
   ]
  },
  {
   "cell_type": "code",
   "execution_count": 157,
   "metadata": {
    "colab": {
     "base_uri": "https://localhost:8080/"
    },
    "executionInfo": {
     "elapsed": 41,
     "status": "ok",
     "timestamp": 1659568983665,
     "user": {
      "displayName": "junhwa lee",
      "userId": "11332889748979012167"
     },
     "user_tz": -540
    },
    "id": "UfapH6FhMCsZ",
    "outputId": "8c499d67-4278-4fe2-f2e0-49a5d97efe92"
   },
   "outputs": [
    {
     "data": {
      "text/plain": [
       "[10, 10]"
      ]
     },
     "execution_count": 157,
     "metadata": {},
     "output_type": "execute_result"
    }
   ],
   "source": [
    "[abs(10), abs(-10)]"
   ]
  },
  {
   "cell_type": "code",
   "execution_count": 158,
   "metadata": {
    "colab": {
     "base_uri": "https://localhost:8080/"
    },
    "executionInfo": {
     "elapsed": 39,
     "status": "ok",
     "timestamp": 1659568983665,
     "user": {
      "displayName": "junhwa lee",
      "userId": "11332889748979012167"
     },
     "user_tz": -540
    },
    "id": "jOgd_0lEMCsZ",
    "outputId": "d71126e6-0bdd-42b0-9275-534a4edeb643"
   },
   "outputs": [
    {
     "data": {
      "text/plain": [
       "[2.45, 2.45]"
      ]
     },
     "execution_count": 158,
     "metadata": {},
     "output_type": "execute_result"
    }
   ],
   "source": [
    "[abs(2.45), abs(-2.45)]"
   ]
  },
  {
   "cell_type": "markdown",
   "metadata": {
    "id": "w1rVxydJMCsZ"
   },
   "source": [
    "- 내장 함수 sum()은 리스트, 튜플, 세트 데이터의 모든 항목을 더해 전체 합을 결과값으로 반환"
   ]
  },
  {
   "cell_type": "markdown",
   "metadata": {
    "id": "2BPQjksFMCsa"
   },
   "source": [
    "- sum()을 이용해 리스트 데이터의 모든 항목을 더하기\n",
    "- 튜플과 세트 데이터에 대해서도 sum() 함수를 적용해 모든 항목의 합을 구할 수 있음"
   ]
  },
  {
   "cell_type": "code",
   "execution_count": 161,
   "metadata": {
    "colab": {
     "base_uri": "https://localhost:8080/"
    },
    "executionInfo": {
     "elapsed": 38,
     "status": "ok",
     "timestamp": 1659568983666,
     "user": {
      "displayName": "junhwa lee",
      "userId": "11332889748979012167"
     },
     "user_tz": -540
    },
    "id": "qMHSgk4MMCsa",
    "outputId": "008ffe3a-6bd2-47c8-ff73-0819bbc91a8c"
   },
   "outputs": [
    {
     "data": {
      "text/plain": [
       "55"
      ]
     },
     "execution_count": 161,
     "metadata": {},
     "output_type": "execute_result"
    }
   ],
   "source": [
    "sumList = [1, 2, 3, 4, 5, 6, 7, 8, 9, 10]\n",
    "sum(sumList)"
   ]
  },
  {
   "cell_type": "markdown",
   "metadata": {
    "id": "PeA7v3plMCsa"
   },
   "source": [
    "### 항목의 개수를 구하는 함수"
   ]
  },
  {
   "cell_type": "markdown",
   "metadata": {
    "id": "fIg6kQF2MCsa"
   },
   "source": [
    "- 문자열, 리스트, 튜플, 딕셔너리 안에 있는 항목의 개수를 알아야 할 때\n",
    "- 내장 함수 len()은 항목의 개수(데이터의 길이)를 반환"
   ]
  },
  {
   "cell_type": "markdown",
   "metadata": {
    "id": "ICT3f2WQMCsa"
   },
   "source": [
    "- 내장 함수 len()으로 문자열, 리스트, 튜플, 딕셔너리 데이터의 길이를 구하기"
   ]
  },
  {
   "cell_type": "code",
   "execution_count": 165,
   "metadata": {
    "colab": {
     "base_uri": "https://localhost:8080/"
    },
    "executionInfo": {
     "elapsed": 36,
     "status": "ok",
     "timestamp": 1659568983666,
     "user": {
      "displayName": "junhwa lee",
      "userId": "11332889748979012167"
     },
     "user_tz": -540
    },
    "id": "Eo8lW5_FMCsb",
    "outputId": "e8aea69a-e5bb-41e0-b45f-0d4055d6f7c1"
   },
   "outputs": [
    {
     "data": {
      "text/plain": [
       "5"
      ]
     },
     "execution_count": 165,
     "metadata": {},
     "output_type": "execute_result"
    }
   ],
   "source": [
    "len(\"ab cd\") # 문자열"
   ]
  },
  {
   "cell_type": "code",
   "execution_count": 166,
   "metadata": {
    "colab": {
     "base_uri": "https://localhost:8080/"
    },
    "executionInfo": {
     "elapsed": 34,
     "status": "ok",
     "timestamp": 1659568983666,
     "user": {
      "displayName": "junhwa lee",
      "userId": "11332889748979012167"
     },
     "user_tz": -540
    },
    "id": "z7IldBzDMCsb",
    "outputId": "a5b98964-2d0c-4b72-9498-1d0c1c79f704"
   },
   "outputs": [
    {
     "data": {
      "text/plain": [
       "8"
      ]
     },
     "execution_count": 166,
     "metadata": {},
     "output_type": "execute_result"
    }
   ],
   "source": [
    "len([1, 2, 3, 4, 5, 6, 7, 8]) # 리스트"
   ]
  },
  {
   "cell_type": "code",
   "execution_count": 167,
   "metadata": {
    "colab": {
     "base_uri": "https://localhost:8080/"
    },
    "executionInfo": {
     "elapsed": 33,
     "status": "ok",
     "timestamp": 1659568983667,
     "user": {
      "displayName": "junhwa lee",
      "userId": "11332889748979012167"
     },
     "user_tz": -540
    },
    "id": "7KNGTLtjMCsb",
    "outputId": "b69ec959-5524-4358-9c86-562d65a06f55"
   },
   "outputs": [
    {
     "data": {
      "text/plain": [
       "5"
      ]
     },
     "execution_count": 167,
     "metadata": {},
     "output_type": "execute_result"
    }
   ],
   "source": [
    "len((1, 2, 3, 4, 5)) # 튜플"
   ]
  },
  {
   "cell_type": "code",
   "execution_count": 168,
   "metadata": {
    "colab": {
     "base_uri": "https://localhost:8080/"
    },
    "executionInfo": {
     "elapsed": 32,
     "status": "ok",
     "timestamp": 1659568983667,
     "user": {
      "displayName": "junhwa lee",
      "userId": "11332889748979012167"
     },
     "user_tz": -540
    },
    "id": "RC0Z8AfDMCsb",
    "outputId": "0c75d701-a88b-40db-8baa-4d696356eba8"
   },
   "outputs": [
    {
     "data": {
      "text/plain": [
       "4"
      ]
     },
     "execution_count": 168,
     "metadata": {},
     "output_type": "execute_result"
    }
   ],
   "source": [
    "len({'a', 'b', 'c', 'd'}) # 세트"
   ]
  },
  {
   "cell_type": "code",
   "execution_count": 169,
   "metadata": {
    "colab": {
     "base_uri": "https://localhost:8080/"
    },
    "executionInfo": {
     "elapsed": 30,
     "status": "ok",
     "timestamp": 1659568983667,
     "user": {
      "displayName": "junhwa lee",
      "userId": "11332889748979012167"
     },
     "user_tz": -540
    },
    "id": "IaGP3QAaMCsb",
    "outputId": "e5a1229f-c0a5-48d7-dc2e-7fa8e33d03e1"
   },
   "outputs": [
    {
     "data": {
      "text/plain": [
       "3"
      ]
     },
     "execution_count": 169,
     "metadata": {},
     "output_type": "execute_result"
    }
   ],
   "source": [
    "len({1:\"Thomas\", 2:\"Edward\", 3:\"Henry\"}) # 딕셔너리"
   ]
  },
  {
   "cell_type": "markdown",
   "metadata": {
    "id": "dXaexPu9MCsb"
   },
   "source": [
    "- len() 함수를 이용하면 문자열은 공백을 포함한 문자 길이(개수)를 구할 수 있고 리스트,  튜플, 딕셔너리는 항목의 길이(개수)를 구할 수 있음"
   ]
  },
  {
   "cell_type": "markdown",
   "metadata": {
    "id": "jdBJSSZxMCsc"
   },
   "source": [
    "### 내장 함수의 활용"
   ]
  },
  {
   "cell_type": "markdown",
   "metadata": {
    "id": "DIYIVAkEMCsc"
   },
   "source": [
    "- 시험 점수가 입력된 리스트가 있다고 할 때 sum()과 len()을 이용해 데이터 항목의 총합과 길이를 쉽게 구할 수 있음\n",
    "- 이를 이용하면 평균값도 쉽게 구할 수 있음\n",
    "- sum()과 len()을 이용하지 않고 총점과 평균값을 구하기"
   ]
  },
  {
   "cell_type": "code",
   "execution_count": 173,
   "metadata": {
    "colab": {
     "base_uri": "https://localhost:8080/"
    },
    "executionInfo": {
     "elapsed": 30,
     "status": "ok",
     "timestamp": 1659568983668,
     "user": {
      "displayName": "junhwa lee",
      "userId": "11332889748979012167"
     },
     "user_tz": -540
    },
    "id": "nsQ5Zh_mMCsc",
    "outputId": "745fe8e8-6112-467a-e5ab-a881359d34eb"
   },
   "outputs": [
    {
     "name": "stdout",
     "output_type": "stream",
     "text": [
      "총점:350, 평균:87.5\n"
     ]
    }
   ],
   "source": [
    "scores = [90, 80, 95, 85] # 과목별 시험 점수\n",
    "\n",
    "score_sum = 0                     # 총점 계산을 위한 초깃값 설정\n",
    "subject_num = 0                   # 과목수 계산을 위한 초깃값 설정\n",
    "for score in scores:\n",
    "    score_sum = score_sum + score # 과목별 점수 모두 더하기\n",
    "    subject_num = subject_num + 1 # 과목수 계산\n",
    "    \n",
    "average = score_sum / subject_num # 평균(총점 / 과목수) 구하기\n",
    "\n",
    "print(\"총점:{0}, 평균:{1}\".format(score_sum,average))"
   ]
  },
  {
   "cell_type": "markdown",
   "metadata": {
    "id": "wMTQ3czqMCsc"
   },
   "source": [
    "- 총점과 과목 수를 구하려고 for 문을 이용했고 평균을 구하려고 총점을 과목 수로 나웠음"
   ]
  },
  {
   "cell_type": "markdown",
   "metadata": {
    "id": "DRe4JHC3MCsc"
   },
   "source": [
    "- 같은 작업을 sum()과 len()을 이용해 수행"
   ]
  },
  {
   "cell_type": "code",
   "execution_count": 176,
   "metadata": {
    "colab": {
     "base_uri": "https://localhost:8080/"
    },
    "executionInfo": {
     "elapsed": 28,
     "status": "ok",
     "timestamp": 1659568983668,
     "user": {
      "displayName": "junhwa lee",
      "userId": "11332889748979012167"
     },
     "user_tz": -540
    },
    "id": "4pjFvdZyMCsc",
    "outputId": "3e479a4c-d671-4536-dc38-cba08f1e48fe"
   },
   "outputs": [
    {
     "name": "stdout",
     "output_type": "stream",
     "text": [
      "총점:350, 평균:87.5\n"
     ]
    }
   ],
   "source": [
    "scores = [90, 80, 95, 85] # 과목별 시험 점수\n",
    "\n",
    "print(\"총점:{0}, 평균:{1}\".format(sum(scores), sum(scores)/len(scores)))"
   ]
  },
  {
   "cell_type": "markdown",
   "metadata": {
    "id": "rQZillTIMCsd"
   },
   "source": [
    "- sum()과 len()을 이용하면 for 문을 사용해 총점과 과목 수를 구하지 않아도 되고 \n",
    "- 총점과 과목 수 계산을 위한 변수도 필요 없어서 편리하게 총점과 평균값을 구할 수 있음"
   ]
  },
  {
   "cell_type": "markdown",
   "metadata": {
    "id": "rPO6uU9TMCsd"
   },
   "source": [
    "- 내장 함수 min()과 max()를 이용하함 시험 점수 중 최고점과 최하점도 손쉽게 구함"
   ]
  },
  {
   "cell_type": "code",
   "execution_count": 179,
   "metadata": {
    "colab": {
     "base_uri": "https://localhost:8080/"
    },
    "executionInfo": {
     "elapsed": 26,
     "status": "ok",
     "timestamp": 1659568983668,
     "user": {
      "displayName": "junhwa lee",
      "userId": "11332889748979012167"
     },
     "user_tz": -540
    },
    "id": "LjTz3u2HMCsd",
    "outputId": "6cce3287-604c-416a-952f-4a98a9710cda"
   },
   "outputs": [
    {
     "name": "stdout",
     "output_type": "stream",
     "text": [
      "최하 점수:80, 최고 점수:95\n"
     ]
    }
   ],
   "source": [
    "print(\"최하 점수:{0}, 최고 점수:{1}\".format(min(scores), max(scores)))"
   ]
  },
  {
   "cell_type": "markdown",
   "metadata": {
    "id": "HIabDuTQMCsd"
   },
   "source": [
    "# 7.5 정리"
   ]
  },
  {
   "cell_type": "markdown",
   "metadata": {
    "id": "JHA4wShLMCsd"
   },
   "source": [
    "- 함수를 정의하고 호출하는 방법\n",
    "- 인자나 반환 값의 유무에 따라 함수를 작성하는 방법과 호출하는 방법\n",
    "- 지역 변수와 전역 변수의 유효 범위에 대한 개념과 한 줄짜리 함수인 람다 함수\n",
    "- 유용한 내장 함 수에 대해 알아보고 활용"
   ]
  },
  {
   "cell_type": "code",
   "execution_count": 269,
   "metadata": {},
   "outputs": [
    {
     "name": "stdin",
     "output_type": "stream",
     "text": [
      " 34\n"
     ]
    },
    {
     "name": "stdout",
     "output_type": "stream",
     "text": [
      "1\n",
      "2\n",
      "X\n",
      "4\n",
      "5\n",
      "X\n",
      "7\n",
      "8\n",
      "X\n",
      "10\n",
      "11\n",
      "12\n",
      "X\n",
      "14\n",
      "15\n",
      "X\n",
      "17\n",
      "18\n",
      "X\n",
      "20\n",
      "21\n",
      "22\n",
      "X\n",
      "24\n",
      "25\n",
      "X\n",
      "27\n",
      "28\n",
      "X\n",
      "X\n",
      "X\n",
      "X\n",
      "XX\n",
      "X\n"
     ]
    }
   ],
   "source": [
    "a = input()\n",
    "numbers = [3, 6, 9]\n",
    "cnt = 0\n",
    "int_num = int(a)\n",
    "\n",
    "for i in range(1, int_num + 1):\n",
    "    cnt = 0\n",
    "    for j in str(i):\n",
    "        if int(j) in numbers:\n",
    "            cnt += 1\n",
    "    if cnt > 0:\n",
    "        print(\"X\" * cnt)\n",
    "    else:\n",
    "        print(i)\n"
   ]
  },
  {
   "cell_type": "code",
   "execution_count": null,
   "metadata": {},
   "outputs": [],
   "source": []
  }
 ],
 "metadata": {
  "colab": {
   "collapsed_sections": [],
   "name": "007_Function.ipynb",
   "provenance": []
  },
  "kernelspec": {
   "display_name": "Python [conda env:base] *",
   "language": "python",
   "name": "conda-base-py"
  },
  "language_info": {
   "codemirror_mode": {
    "name": "ipython",
    "version": 3
   },
   "file_extension": ".py",
   "mimetype": "text/x-python",
   "name": "python",
   "nbconvert_exporter": "python",
   "pygments_lexer": "ipython3",
   "version": "3.12.7"
  },
  "latex_envs": {
   "LaTeX_envs_menu_present": true,
   "autoclose": false,
   "autocomplete": true,
   "bibliofile": "biblio.bib",
   "cite_by": "apalike",
   "current_citInitial": 1,
   "eqLabelWithNumbers": true,
   "eqNumInitial": 1,
   "hotkeys": {
    "equation": "Ctrl-E",
    "itemize": "Ctrl-I"
   },
   "labels_anchors": false,
   "latex_user_defs": false,
   "report_style_numbering": false,
   "user_envs_cfg": false
  },
  "toc": {
   "nav_menu": {},
   "number_sections": false,
   "sideBar": true,
   "skip_h1_title": false,
   "toc_cell": false,
   "toc_position": {
    "height": "582px",
    "left": "0px",
    "right": "1154px",
    "top": "111px",
    "width": "212px"
   },
   "toc_section_display": "block",
   "toc_window_display": false
  }
 },
 "nbformat": 4,
 "nbformat_minor": 4
}
