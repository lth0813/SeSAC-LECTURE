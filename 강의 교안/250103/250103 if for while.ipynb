{
 "cells": [
  {
   "cell_type": "markdown",
   "metadata": {
    "id": "QN4qDGl5Jc_G"
   },
   "source": [
    "# 5장 제어문"
   ]
  },
  {
   "cell_type": "markdown",
   "metadata": {
    "id": "gtii9GezJc_L"
   },
   "source": [
    "- 앞에서부터 순차적으로 수행됐는데 조건에 따라 코드의 특정 부분만 수행하거나 반복할 수 있음\n",
    "- 이처럼 코드의 진행 순서를 바꾸는 구문을 제어문\n",
    "- 제어문에는 조건을 검사해 분기하는 구문인 조건문과 어떤 구간이나 조건을 만족하는 동안 코드의 일부분을 반복하는 구문인 반복문"
   ]
  },
  {
   "cell_type": "markdown",
   "metadata": {
    "id": "u4eovdoPJc_M"
   },
   "source": [
    "## 5.1 조건에 따라 분기하는 if 문"
   ]
  },
  {
   "cell_type": "markdown",
   "metadata": {
    "id": "bPsGP7A7Jc_M"
   },
   "source": [
    "- 조건에 따라 코드를 다르게 실행하려면 if 문을 이용\n",
    "- if 문에서는 지정한 조건에 따라 다르게 분기해 명령을 수행\n",
    "- if 문에서는 조건의 만족 여부에 따라서 코드 수행 결과가 달라짐"
   ]
  },
  {
   "cell_type": "markdown",
   "metadata": {
    "id": "-RQ0oCh-Jc_M"
   },
   "source": [
    "### 단일 조건에 따른 분기(if)"
   ]
  },
  {
   "cell_type": "markdown",
   "metadata": {
    "id": "1FBx4ot3Jc_N"
   },
   "source": [
    "- if 문에는 몇 가지 구조가 있는데 단일 조건에 따라서 분기하는 가장 기본적인 if 문의 구조\n",
    "- if <조건문>: 〈코드 블록〉\n",
    "- if 문에서〈조건문>을 만족하면(즉, 참이면) 그 아래의〈코드 블록>을 수행하고, 만족하지 않으면 (즉, 거짓이면) 수행하지 않음\n",
    "- 〈조건문> 다음에는 콜론(:)을 입력\n",
    "- 다음 줄에서〈코드 블록>을 입력할 때 키보드의 탭(Tab)이나 공백을 이용해 들여쓰기\n",
    "- 〈코드 블록>의 코드는 한 줄일 수도 있고 여러 줄일 수도 있음"
   ]
  },
  {
   "cell_type": "markdown",
   "metadata": {
    "id": "k6YENj1AJc_N"
   },
   "source": [
    "- if 문의〈조건문〉에는 조건을 판단하기 위해 비교 연산 및 논리 연산을 이용\n",
    "- 비교 연산과 논리 연산 여러 개를 조합해 사용"
   ]
  },
  {
   "cell_type": "markdown",
   "metadata": {
    "id": "xCztrAQoJc_N"
   },
   "source": [
    "- if 문을 이용해 변수 때 값이 90보다 크거나 같으면 'Pass’를 출력하는 코드"
   ]
  },
  {
   "cell_type": "code",
   "execution_count": 1,
   "metadata": {
    "code_folding": [],
    "colab": {
     "base_uri": "https://localhost:8080/"
    },
    "executionInfo": {
     "elapsed": 8,
     "status": "ok",
     "timestamp": 1658991384097,
     "user": {
      "displayName": "junhwa lee",
      "userId": "11332889748979012167"
     },
     "user_tz": -540
    },
    "id": "6DHJnYSgJc_O",
    "outputId": "0c1c9235-c467-4799-f761-b70a236860c1",
    "scrolled": true
   },
   "outputs": [
    {
     "name": "stdout",
     "output_type": "stream",
     "text": [
      "Pass\n"
     ]
    }
   ],
   "source": [
    "x = 95\n",
    "if x >= 90:\n",
    "    print(\"Pass\")"
   ]
  },
  {
   "cell_type": "markdown",
   "metadata": {
    "id": "a7zz6T1jJc_P"
   },
   "source": [
    "### 단일 조건 및 그 외 조건에 따른 분기(if ~ else)"
   ]
  },
  {
   "cell_type": "markdown",
   "metadata": {
    "id": "w8I1jcEDJc_P"
   },
   "source": [
    "- if 문 구조에서는〈조건문>을 만족하면 <코드 블록>을 수행하지만 만족하지 않는 경우는 아무것도 수행하지 않았음\n",
    "- if 문에서〈조건문〉의 만족 여부에 따라 코드를 다르게 수행하려면 'if ~ else' 구조의 조건문을 이용"
   ]
  },
  {
   "cell_type": "markdown",
   "metadata": {
    "id": "Z8PG1cr0Jc_Q"
   },
   "source": [
    "if〈조건문〉: <코드 블록 1> else：<코드 블록 2>\n",
    "- if ~ else' 구조의 조건문에서 <조건문>을 만족하면 <코드 블록 1>을 수행하고, 만족하지 않으면 〈코드 블록 2>를 수행\n",
    "- <조건문〉다음에 콜론(:)을 입력했듯이 else 다음에도 콜론(:)을 입력\n",
    "- ‘else:' 다음의〈코드 블록 2〉도 들여쓰기를 함\n",
    "- else는 단독으로 쓸수 없고 반드시 if와 함께 써야 함"
   ]
  },
  {
   "cell_type": "markdown",
   "metadata": {
    "id": "cVqqcgWnJc_Q"
   },
   "source": [
    "- 변수 x의 데이터가 90보다 크거나 같으면 'Pass’를 출력하고 90보다 작으면 'Fail’을 출력"
   ]
  },
  {
   "cell_type": "code",
   "execution_count": 2,
   "metadata": {
    "colab": {
     "base_uri": "https://localhost:8080/"
    },
    "executionInfo": {
     "elapsed": 5,
     "status": "ok",
     "timestamp": 1658991387501,
     "user": {
      "displayName": "junhwa lee",
      "userId": "11332889748979012167"
     },
     "user_tz": -540
    },
    "id": "KMIChenxJc_R",
    "outputId": "716e046f-bfd2-4ff9-bd73-acb8cd24d22b"
   },
   "outputs": [
    {
     "name": "stdout",
     "output_type": "stream",
     "text": [
      "Fail\n"
     ]
    }
   ],
   "source": [
    "x = 75\n",
    "if x >= 90:\n",
    "    print(\"Pass\")\n",
    "else:\n",
    "    print(\"Fail\")"
   ]
  },
  {
   "cell_type": "markdown",
   "metadata": {
    "id": "E5Lr9iUpJc_R"
   },
   "source": [
    "- 변수 X의 값이 75로 90보다 작으므로 'Fail’을 출력"
   ]
  },
  {
   "cell_type": "markdown",
   "metadata": {
    "id": "t1E-wfpQJc_R"
   },
   "source": [
    "### 여러 조건에 따른 분기(if ~ elif ~ else)"
   ]
  },
  {
   "cell_type": "markdown",
   "metadata": {
    "id": "lyR_5LXlJc_R"
   },
   "source": [
    "- 여러 조건에 따라 코드를 각각 다르게 수행하려면，if ~ elif ~ else‘ 조건문을 이용\n",
    "- elif는 필요에 따라 여러 개를 사용할 수도 있음"
   ]
  },
  {
   "cell_type": "markdown",
   "metadata": {
    "id": "HRYixN1aJc_R"
   },
   "source": [
    "- if <조건문 1>：\n",
    "<코드 블록 1〉 elif〈조건문 2>： 〈코드 블록 2〉 ...\n",
    "elif <조건문 n>: <코드 블록 n> else：\n",
    " <코드 블록 m〉\n",
    "- 'if ~ elif - else' 구조의 조건문에서 우선<조건문1>이 만족하는지 검사하고 만족하면 <코드 블록 1>을 수행\n",
    "- 만약 <조건문 1>을 만족하지 않는다면 그다음 조건문인 <조건문 2>를 검사하고 만족하 면 <코드 블록 2>를 수행\n",
    "- 만약 <조건문 2>도 만족하지 않는다면 그다음 조건문을 검사함\n",
    "- 마지막 조건문인〈조건문 n>을 검사하고 만족하면 <코드 블록 n>을 수행\n",
    "- 마지막 조건문까지 만족하지 않으면 ’else:’ 아래의 <코드 블록 m>을 실행\n",
    "- 여기서 'else:' 이후는 생략하고 'if ~ elif’만 이용 할수도 있음"
   ]
  },
  {
   "cell_type": "markdown",
   "metadata": {
    "id": "BIum5nGJJc_S"
   },
   "source": [
    "- 변수 x 값이 90보다 크거 나 같으면 'Very good’을 출력하고 80보다 크거나 같고 90보다 작으면 ‘Good’을 출력하고 \n",
    "- 80보다 작으면 'Bad’를 출력"
   ]
  },
  {
   "cell_type": "code",
   "execution_count": 3,
   "metadata": {
    "colab": {
     "base_uri": "https://localhost:8080/"
    },
    "executionInfo": {
     "elapsed": 323,
     "status": "ok",
     "timestamp": 1658991392345,
     "user": {
      "displayName": "junhwa lee",
      "userId": "11332889748979012167"
     },
     "user_tz": -540
    },
    "id": "wnjJ9eHJJc_S",
    "outputId": "736498b0-cdec-4c0e-d9ff-a4114e7c099c"
   },
   "outputs": [
    {
     "name": "stdout",
     "output_type": "stream",
     "text": [
      "Good\n"
     ]
    }
   ],
   "source": [
    "x = 85\n",
    "if x >= 90:\n",
    "    print(\"Very good\")\n",
    "elif  (x >= 80) and (x < 90):\n",
    "    print(\"Good\")\n",
    "else:\n",
    "    print(\"Bad\")"
   ]
  },
  {
   "cell_type": "markdown",
   "metadata": {
    "id": "Ezq56pgdJc_S"
   },
   "source": [
    "- 비교 연산과 논리 연산을 조합해서 만든 조건，(x >= 80) and (x < 90)’은 '(80 <= x) and (x < 90)'과 같음\n",
    "- 파이썬에서는  '(80 <= x < 90)'처럼 더 직관적으로 표현"
   ]
  },
  {
   "cell_type": "code",
   "execution_count": 4,
   "metadata": {
    "colab": {
     "base_uri": "https://localhost:8080/"
    },
    "executionInfo": {
     "elapsed": 309,
     "status": "ok",
     "timestamp": 1658991395164,
     "user": {
      "displayName": "junhwa lee",
      "userId": "11332889748979012167"
     },
     "user_tz": -540
    },
    "id": "WdKDbK42Jc_S",
    "outputId": "e0684705-eebc-4855-cf93-044807b47d4e"
   },
   "outputs": [
    {
     "name": "stdout",
     "output_type": "stream",
     "text": [
      "Good\n"
     ]
    }
   ],
   "source": [
    "x = 85\n",
    "if x >= 90:\n",
    "    print(\"Very Good\")\n",
    "elif  80 <= x < 90:\n",
    "    print(\"Good\")\n",
    "else:\n",
    "    print(\"Bad\")"
   ]
  },
  {
   "cell_type": "markdown",
   "metadata": {
    "id": "tzxvLs9OJc_T"
   },
   "source": [
    "### 중첩 조건에 따른 분기"
   ]
  },
  {
   "cell_type": "markdown",
   "metadata": {
    "id": "qMRElsESJc_T"
   },
   "source": [
    "- 조건문 안에 또 다른 조건문을 사용한 구조를 중첩 조건문\n",
    "- 중첩 조건문을 이용하면 다양한 논리로 이뤄진 조건문을 만들 수 있음"
   ]
  },
  {
   "cell_type": "markdown",
   "metadata": {
    "id": "oqlMl1BHJc_T"
   },
   "source": [
    "- if <조건문 1>： if<조건문 1-1>: <코드 블록 1-1> else：\n",
    " <코드 블록 1-2> elif〈조건문 2>:\n",
    " <코드 블록 2> else：\n",
    " <코드 블록 3>\n",
    "- 중첩 조건문에서 <조건문 1>을 만족하면 다시 <조건문 1-1>을 만족하는지 검사한 후에 만족한다면 <코드 불록 1-1>을 수행하고, 만족하지 않으면 <코드 블록 1-2>를 수행\n",
    "- 만약 <조건문 1>을 만족하지 않는다면 <조건문 2>를 만족하는지 검사한 후 만족한다면 <코드 블록 2>를 수행하고, 만족하지 않으면 마 지막으로 <코드 블록 3>을 수행\n",
    "- 조건문 if 안에 다시 ’if ~ else' 조건문 들여 쓰기를 함\n",
    "- if 문 안에 또 다른 if 문을 사용해 두 개의 중첩 조건문을 만들었지만 더 많은 중첩 조건문을 만들 수도 있음"
   ]
  },
  {
   "cell_type": "markdown",
   "metadata": {
    "id": "ffTmcqg6Jc_T"
   },
   "source": [
    "- 변수 x가 'x >= 90’을 만족하는 가운데 x가 100이면 'Perfect'를 출력하고, 그렇지 않으면 'Very good'을 출력하는 조건문을 추가"
   ]
  },
  {
   "cell_type": "code",
   "execution_count": 5,
   "metadata": {
    "colab": {
     "base_uri": "https://localhost:8080/"
    },
    "executionInfo": {
     "elapsed": 310,
     "status": "ok",
     "timestamp": 1658991398714,
     "user": {
      "displayName": "junhwa lee",
      "userId": "11332889748979012167"
     },
     "user_tz": -540
    },
    "id": "89InRiPJJc_T",
    "outputId": "f1fdac9f-6511-4d97-f9cb-4909d1d3182f"
   },
   "outputs": [
    {
     "name": "stdout",
     "output_type": "stream",
     "text": [
      "Perfect\n"
     ]
    }
   ],
   "source": [
    "x = 100\n",
    "if x >= 90:\n",
    "    if x==100 :\n",
    "        print(\"Perfect\")\n",
    "    else:\n",
    "        print(\"Very Good\")\n",
    "elif (x >= 80) and (x < 90):\n",
    "    print(\"Good\")\n",
    "else:\n",
    "    print(\"Bad\")"
   ]
  },
  {
   "cell_type": "markdown",
   "metadata": {
    "id": "OS2C3yP0Jc_U"
   },
   "source": [
    "- 변수 x에는 100이 할당돼 첫 번째 조건(X >= 90)을 만족하고 다시 그 안의 조건문에서 'x==100'을 만족해 'Perfect'가 출력"
   ]
  },
  {
   "cell_type": "markdown",
   "metadata": {
    "id": "OQ4lyl9tJc_U"
   },
   "source": [
    "- 아무 동작도 안하는 pass 이용하기\n",
    "- if문에서 <조건문>을 쓰고 <코드 블록>에 아무것도 쓰지 않으면 오류가 발생\n",
    "- 이때 <코드 블록〉에 pass를 지정해 if 문의 전체적인 구조를 먼저 잡을 수 있음"
   ]
  },
  {
   "cell_type": "code",
   "execution_count": 6,
   "metadata": {
    "executionInfo": {
     "elapsed": 288,
     "status": "ok",
     "timestamp": 1658991408134,
     "user": {
      "displayName": "junhwa lee",
      "userId": "11332889748979012167"
     },
     "user_tz": -540
    },
    "id": "tzbSS76ZgHrB"
   },
   "outputs": [],
   "source": [
    "x =75\n",
    "if x >= 80 :\n",
    "    pass\n",
    "else:\n",
    "    pass"
   ]
  },
  {
   "cell_type": "markdown",
   "metadata": {
    "id": "tvhQYVNmJc_U"
   },
   "source": [
    "## 5.2 지정된 범위만큼 반복하는 for 문"
   ]
  },
  {
   "cell_type": "markdown",
   "metadata": {
    "id": "aiHbBPIeJc_U"
   },
   "source": [
    "- 코드를 작성할 때 지정된 횟수만큼 작업을 반복하거나 지정된 조건을 만족하면 작업을 반복해야 할 때\n",
    "- 작업을 반복적으로 수행하는 구문을 반복문\n",
    "- 파이썬에서는 반복문을 for문과 while문을 이용해 구현"
   ]
  },
  {
   "cell_type": "markdown",
   "metadata": {
    "id": "COnJqBQAJc_U"
   },
   "source": [
    "### 반복문의 필요성"
   ]
  },
  {
   "cell_type": "markdown",
   "metadata": {
    "id": "c9BzRjfJJc_U"
   },
   "source": [
    "- 입력한 순서대로 코드가 실행되는 구조로 0부터 5까지 순차적으로 출력하는 코드를 작성"
   ]
  },
  {
   "cell_type": "code",
   "execution_count": 7,
   "metadata": {
    "colab": {
     "base_uri": "https://localhost:8080/"
    },
    "executionInfo": {
     "elapsed": 384,
     "status": "ok",
     "timestamp": 1658991413639,
     "user": {
      "displayName": "junhwa lee",
      "userId": "11332889748979012167"
     },
     "user_tz": -540
    },
    "id": "vnz7s39BJc_V",
    "outputId": "65739c50-6b90-4eed-be97-7b7228d0411b"
   },
   "outputs": [
    {
     "name": "stdout",
     "output_type": "stream",
     "text": [
      "0\n",
      "1\n",
      "2\n",
      "3\n",
      "4\n",
      "5\n"
     ]
    }
   ],
   "source": [
    "a = 0 # 변수 a를 0으로 초기화\n",
    "print(a) # 변수 a 출력\n",
    "\n",
    "a = a + 1 # 변수 a에 1을 더한 후, 다시 a에 대입\n",
    "print(a)  # 변수 a 출력\n",
    "\n",
    "a = a + 1 # 같은 코드 반복\n",
    "print(a)\n",
    "\n",
    "a = a + 1 # 같은 코드 반복\n",
    "print(a)\n",
    "\n",
    "a = a + 1 # 같은 코드 반복\n",
    "print(a)\n",
    "\n",
    "a = a + 1 # 같은 코드 반복\n",
    "print(a)"
   ]
  },
  {
   "cell_type": "markdown",
   "metadata": {
    "id": "I-YIJSj6Jc_V"
   },
   "source": [
    "- 변수 a에 초기값 0을 넣고 출력한 후 a에 1을 더한 결과를 다시 a에 대입한 후 결과를 출력하는 코드를 5회 반복\n",
    "- 0부터 100까지 출력하는 경우를 생각한다면 똑같은 코드를 반복하는 것은 비효율적\n",
    "- 반복문을 이용하면 같은 코드를 반복해서 입력하지 않고 효율적으로 코드를 작성할 수 있음"
   ]
  },
  {
   "cell_type": "markdown",
   "metadata": {
    "id": "JwzVOS98Jc_V"
   },
   "source": [
    "### for 문의 구조\n",
    "\n"
   ]
  },
  {
   "cell_type": "markdown",
   "metadata": {
    "id": "csdV1-lyJc_V"
   },
   "source": [
    "- 구조적인 특징으로 인해 'for ~ in' 문이라고도 함"
   ]
  },
  {
   "cell_type": "markdown",
   "metadata": {
    "id": "I5FXXTsLJc_V"
   },
   "source": [
    "- for <반복 변수〉 in 〈반복 범위>: <코드 블록>\n",
    "- for 문에서 <반복 변수>는<반복 범위>에 따라 변하면서 <코드 블록>을 실행\n",
    "- 즉, for 문을 시작하면 <반복 범위>의 첫 번째 데이터가〈반복 변수〉에 들어가고〈코드 블록>을 실행\n",
    "- 다음은〈반복 범위〉의 두 번째 데이터가〈반복 변수〉에 들어가고 <코드 블록>을 또 실행\n",
    "- 이런 과정을 <반복 범위>의 마지막까지 반복\n",
    "- <코드 블록>에서는 <반복 변수>를 이용할 수 있음\n",
    "- for 문에서도<반복 범위〉 다음에 콜론(:)을 입력하고 그 다음 줄의 <코드 블록>을 입력할 때는 들여쓰기"
   ]
  },
  {
   "cell_type": "markdown",
   "metadata": {
    "id": "zz1Ny-5WJc_V"
   },
   "source": [
    "### 반복 범위 지정"
   ]
  },
  {
   "cell_type": "markdown",
   "metadata": {
    "id": "XhTbBuLKJc_W"
   },
   "source": [
    "- for 문에서 <반복 범위>는 리스트와 range() 함수를 이용해 지정"
   ]
  },
  {
   "cell_type": "markdown",
   "metadata": {
    "id": "ABxV_HN9Jc_W"
   },
   "source": [
    "#### 리스트 이용"
   ]
  },
  {
   "cell_type": "markdown",
   "metadata": {
    "id": "hRN8_mH1Jc_W"
   },
   "source": [
    "- 리스트는 for 문에서〈반복 범위〉에 이용할 수 있음\n",
    "- for 문에서〈반복 범위>는 출력될 숫자 리스트([0, 1, 2, 3, 4, 5])로 지정\n",
    "- <반복 변수>는 a로 지정하고 <코드 블록>에서는 print() 함수로 a를 출력"
   ]
  },
  {
   "cell_type": "code",
   "execution_count": 8,
   "metadata": {
    "colab": {
     "base_uri": "https://localhost:8080/"
    },
    "executionInfo": {
     "elapsed": 293,
     "status": "ok",
     "timestamp": 1658991422020,
     "user": {
      "displayName": "junhwa lee",
      "userId": "11332889748979012167"
     },
     "user_tz": -540
    },
    "id": "P0T4S8rNJc_X",
    "outputId": "7c4ba18e-d43b-4622-9172-2703dc268263"
   },
   "outputs": [
    {
     "name": "stdout",
     "output_type": "stream",
     "text": [
      "0\n",
      "1\n",
      "2\n",
      "3\n",
      "4\n",
      "5\n"
     ]
    }
   ],
   "source": [
    "for a in [0, 1, 2, 3, 4, 5]:\n",
    "    print(a)"
   ]
  },
  {
   "cell_type": "markdown",
   "metadata": {
    "id": "0w2MVLf2Jc_Y"
   },
   "source": [
    "- for 문이 처음 실행될 때 a에는 리스트의 첫 번째 항목인 0이 대입되고 print(a)가 실행\n",
    "- 두 번째로 for 문이 실행될 때 a에 리스트의 두 번째 항목인 1이 대입되고 print(a)가 실행\n",
    "- 계속 반복해 실행되다가 a에 리스트의 마지막 항목인 5가 대입되고 print(a)가 실행된 후 반복문은 끝남\n",
    "- for 문을 이용하면 코드를 반복하지 않고 짧고 간단하게 작성"
   ]
  },
  {
   "cell_type": "markdown",
   "metadata": {
    "id": "EtJJUYoNJc_Y"
   },
   "source": [
    "- 문자열을 이용해 리스트를 만들고 이를 for문의 <반복 범위>로 지정\n",
    "- for 문의〈반복 범위〉로 이용하 고 변수 myFriend를 <반복 변수〉로 지정한 후 <코드 블록〉에서는 print() 함수로 변수 myFriend를 출력"
   ]
  },
  {
   "cell_type": "code",
   "execution_count": 9,
   "metadata": {
    "colab": {
     "base_uri": "https://localhost:8080/"
    },
    "executionInfo": {
     "elapsed": 387,
     "status": "ok",
     "timestamp": 1658991426755,
     "user": {
      "displayName": "junhwa lee",
      "userId": "11332889748979012167"
     },
     "user_tz": -540
    },
    "id": "DKl8GyEnJc_Z",
    "outputId": "37463668-b2bd-4062-80c8-e067f02ae4cf"
   },
   "outputs": [
    {
     "name": "stdout",
     "output_type": "stream",
     "text": [
      "James\n",
      "Robert\n",
      "Lisa\n",
      "Mary\n"
     ]
    }
   ],
   "source": [
    "myFriends = ['James', 'Robert', 'Lisa', 'Mary']  # 리스트를 변수에 할당\n",
    "for myFriend in myFriends:\n",
    "    print(myFriend)"
   ]
  },
  {
   "cell_type": "markdown",
   "metadata": {
    "id": "uAmPV-qmJc_Z"
   },
   "source": [
    "- for 문이 처음 실행될 때 myFriend에는 리스트 myFriends의 첫 번째 항목('James')이 대입 되고 print(myFriend)가 실행\n",
    "- 리스트 myFriends의 마지막 항목{'Mary')까지 순차적으로 반복하고 반복문은 끝남"
   ]
  },
  {
   "cell_type": "markdown",
   "metadata": {
    "id": "hRC6P-LkJc_Z"
   },
   "source": [
    "#### range() 함수 이용"
   ]
  },
  {
   "cell_type": "markdown",
   "metadata": {
    "id": "K81nkcDXJc_a"
   },
   "source": [
    "- for 문의 <반복 범위>를 지정하는 또 다른 방법은 범위를 반환하는 range() 함수를 이용하는 것\n",
    "- 파이씬 내장 함수 range()는 for 문에서 숫자로 <반복 범위>를 지정할 때 많이 이용\n",
    "- range(start, stop, step)\n",
    "- start는 범위의 시작 지점, stop은 범위의 끝 지점, step은 증감의 크기\n",
    "- 즉，start부터 시작해서 stop 전까지(즉, stop은 포함되지 않음) step만큼 계속 더해 <반복 범위>를 만듬\n",
    "- start와 stop은 양의 정수, 음의 정수, 0 모두 사용할 수 있으며 step은 양의 정수와 음의 정수만 사용"
   ]
  },
  {
   "cell_type": "code",
   "execution_count": 10,
   "metadata": {
    "colab": {
     "base_uri": "https://localhost:8080/"
    },
    "executionInfo": {
     "elapsed": 295,
     "status": "ok",
     "timestamp": 1658991432560,
     "user": {
      "displayName": "junhwa lee",
      "userId": "11332889748979012167"
     },
     "user_tz": -540
    },
    "id": "X4U3bX5XJc_a",
    "outputId": "e22ac305-445a-4ff7-9bff-e655463a2855"
   },
   "outputs": [
    {
     "name": "stdout",
     "output_type": "stream",
     "text": [
      "range(0, 10)\n"
     ]
    }
   ],
   "source": [
    "print(range(0, 10, 1))"
   ]
  },
  {
   "cell_type": "markdown",
   "metadata": {
    "id": "y2r2V-mjJc_a"
   },
   "source": [
    "- print() 함수를 이용해 range() 함수의 결과를 출력하려고 했으나 실제로 출력이 되지 않음"
   ]
  },
  {
   "cell_type": "markdown",
   "metadata": {
    "id": "jUd1a820Jc_a"
   },
   "source": [
    "- range()함수로 만들어진 숫자의 리스트를 출력하려면  list() 함수를 이용해 리스트 타입으로 변환한 후 출력"
   ]
  },
  {
   "cell_type": "code",
   "execution_count": 11,
   "metadata": {
    "colab": {
     "base_uri": "https://localhost:8080/"
    },
    "executionInfo": {
     "elapsed": 3,
     "status": "ok",
     "timestamp": 1658991434574,
     "user": {
      "displayName": "junhwa lee",
      "userId": "11332889748979012167"
     },
     "user_tz": -540
    },
    "id": "YfPukjuHJc_b",
    "outputId": "2678f8bd-5e4f-4251-9df4-4e1afd09396a"
   },
   "outputs": [
    {
     "name": "stdout",
     "output_type": "stream",
     "text": [
      "[0, 1, 2, 3, 4, 5, 6, 7, 8, 9]\n"
     ]
    }
   ],
   "source": [
    "print(list(range(0, 10, 1)))"
   ]
  },
  {
   "cell_type": "markdown",
   "metadata": {
    "id": "e-JB3m8qJc_b"
   },
   "source": [
    "- 출력 결과에서 range() 함수로 생성된 범위는 start부터 stop 전까지\n",
    "- stop을 포함하지 않음"
   ]
  },
  {
   "cell_type": "markdown",
   "metadata": {
    "id": "dthmgmB2Jc_b"
   },
   "source": [
    "- range() 함수를 이용해 for 문에서 <반복 범위>를 지정"
   ]
  },
  {
   "cell_type": "code",
   "execution_count": 12,
   "metadata": {
    "colab": {
     "base_uri": "https://localhost:8080/"
    },
    "executionInfo": {
     "elapsed": 289,
     "status": "ok",
     "timestamp": 1658991441340,
     "user": {
      "displayName": "junhwa lee",
      "userId": "11332889748979012167"
     },
     "user_tz": -540
    },
    "id": "YXvDpYXeJc_b",
    "outputId": "a1eb1338-090e-49a5-d211-065c6c13191a"
   },
   "outputs": [
    {
     "name": "stdout",
     "output_type": "stream",
     "text": [
      "0\n",
      "1\n",
      "2\n",
      "3\n",
      "4\n",
      "5\n"
     ]
    }
   ],
   "source": [
    "for a in range(0, 6, 1):\n",
    "    print(a)"
   ]
  },
  {
   "cell_type": "markdown",
   "metadata": {
    "id": "hpeGC2SvJc_c"
   },
   "source": [
    "- range(0, 6, 1)로 생성하는 범위는 0부터 6 전까지for  1씩 증가하는 값으로 {0, 1, 2, 3, 4, 5}\n",
    "- for 문의 실행 결과를 보면 0부터 5까지 1씩 증가해서 출력"
   ]
  },
  {
   "cell_type": "markdown",
   "metadata": {
    "id": "5IfVHDzhJc_c"
   },
   "source": [
    "- step을 1이 아니라 2로 조정해서 <반복 범위>를 바꾸고 싶다면"
   ]
  },
  {
   "cell_type": "code",
   "execution_count": 13,
   "metadata": {
    "colab": {
     "base_uri": "https://localhost:8080/"
    },
    "executionInfo": {
     "elapsed": 324,
     "status": "ok",
     "timestamp": 1658991444032,
     "user": {
      "displayName": "junhwa lee",
      "userId": "11332889748979012167"
     },
     "user_tz": -540
    },
    "id": "uI3UNBtIJc_c",
    "outputId": "fcb5bbfc-c5fc-453f-ca43-d7357bf90ea3"
   },
   "outputs": [
    {
     "name": "stdout",
     "output_type": "stream",
     "text": [
      "0\n",
      "2\n",
      "4\n"
     ]
    }
   ],
   "source": [
    "for a in range(0, 6, 2):\n",
    "    print(a)"
   ]
  },
  {
   "cell_type": "markdown",
   "metadata": {
    "id": "rJSqaJxvJc_c"
   },
   "source": [
    "- range(0, 6, 2)는 0부터 6전까지 2씩 증가하는 범위로 {0, 2, 4}가 됨"
   ]
  },
  {
   "cell_type": "markdown",
   "metadata": {
    "id": "sgD51VAqJc_c"
   },
   "source": [
    "- range() 함수를 이용할 때 start, start, step을 모두 지정\n",
    "- step이 1 인 경우에는 step을 생략해 사용할 수 있음\n",
    "- range(start, stop)\n",
    "- step이 1 이고 start가 0인 경우는 start 역시 생략하고 stop만 지정할 수도 있음\n",
    "- range(stop)"
   ]
  },
  {
   "cell_type": "markdown",
   "metadata": {
    "id": "wMArAKT8Jc_c"
   },
   "source": [
    "- range(0, 10, 1)에서 step이 1이므로 생략할 수 있어서 range(0, 10)으로 지정했고,\n",
    "- 다시 start가 0이므로 생략할 수 있어서 stop만 지정해서 range(10)으로 입력"
   ]
  },
  {
   "cell_type": "code",
   "execution_count": 14,
   "metadata": {
    "colab": {
     "base_uri": "https://localhost:8080/"
    },
    "executionInfo": {
     "elapsed": 286,
     "status": "ok",
     "timestamp": 1658991450074,
     "user": {
      "displayName": "junhwa lee",
      "userId": "11332889748979012167"
     },
     "user_tz": -540
    },
    "id": "7i4ycR3ZJc_d",
    "outputId": "6a6b8bb3-9d7e-42ac-df34-acc3103c7b2b"
   },
   "outputs": [
    {
     "name": "stdout",
     "output_type": "stream",
     "text": [
      "[0, 1, 2, 3, 4, 5, 6, 7, 8, 9]\n",
      "[0, 1, 2, 3, 4, 5, 6, 7, 8, 9]\n",
      "[0, 1, 2, 3, 4, 5, 6, 7, 8, 9]\n"
     ]
    }
   ],
   "source": [
    "print(list(range(0, 10, 1)))\n",
    "print(list(range(0, 10)))\n",
    "print(list(range(10)))"
   ]
  },
  {
   "cell_type": "markdown",
   "metadata": {
    "id": "uCU-xUa-Jc_d"
   },
   "source": [
    " - range(0, 10, 1), range(0, 10), range(10)이 모두 같은 것"
   ]
  },
  {
   "cell_type": "markdown",
   "metadata": {
    "id": "ymrYNdWuJc_d"
   },
   "source": [
    "- 첫 번째(Line 1)는 0부터 5씩 증가해 20보다 작은 숫자까지를 출력\n",
    "- 두 번째(Line 2)는 -10에서 2씩 더해 0보다 작은 숫자까지 출력\n",
    "- 세 번째(Line 3)는 3부터 -3 씩 증가해서 (혹은 3씩 감소해서) -10보다 큰 숫자까지 출력\n",
    "- 네 번째(Line 4)는 0부터 1 씩 증가해서 -5보다 작은 숫자까지 출력한 예지만, 이런 조건을 만족하는 숫자는 없음(빈 리스트를 반환)"
   ]
  },
  {
   "cell_type": "code",
   "execution_count": 15,
   "metadata": {
    "colab": {
     "base_uri": "https://localhost:8080/"
    },
    "executionInfo": {
     "elapsed": 295,
     "status": "ok",
     "timestamp": 1658991452619,
     "user": {
      "displayName": "junhwa lee",
      "userId": "11332889748979012167"
     },
     "user_tz": -540
    },
    "id": "gF-3GZV4Jc_d",
    "outputId": "2ce0ac76-a923-4622-a507-20057aba38c5"
   },
   "outputs": [
    {
     "name": "stdout",
     "output_type": "stream",
     "text": [
      "[0, 5, 10, 15]\n",
      "[-10, -8, -6, -4, -2]\n",
      "[3, 0, -3, -6, -9]\n",
      "[]\n"
     ]
    }
   ],
   "source": [
    "print(list(range(0, 20, 5)))    # Line 1\n",
    "print(list(range(-10, 0, 2)))   # Line 2\n",
    "print(list(range(3, -10, -3)))  # Line 3\n",
    "print(list(range(0, -5, 1)))    # Line 4"
   ]
  },
  {
   "cell_type": "markdown",
   "metadata": {
    "id": "doYxrsLYJc_d"
   },
   "source": [
    "### 중첩 for 문"
   ]
  },
  {
   "cell_type": "markdown",
   "metadata": {
    "id": "oUD-3DSaJc_e"
   },
   "source": [
    "- for 문도 중첩 for 문 구조를 이용해 중첩 반복문을 만들 수 있음\n",
    "- for <반복 변수 1>  in 〈반복 범위 1>: for <반복 변수 2〉 in 〈반복 범위 2〉: 〈코드 블록〉\n",
    "- 중첩 for 문에서〈반복 변수1〉의 첫 번째 데이터가 실행될 때 그 안에 있는 for 문을 만나게 되어 내부 for 문을 실행하고 다시〈반복 변수1〉의 두 번째 데이터가 실행될 때 내부 for 문을 수행\n",
    "- 이런 과정을 모두 거쳐서 중첩 for 문을 모두 마치면 코드가 끝남\n",
    "- 중첩 for 문에서 내부 for 문과 <코드 블록>을 입력할 때도 각각 들여쓰기\n",
    "- for 문 두 개가 중첩된 구조를 만들었지만 더 많은 for 문을 중첩할 수도 있음"
   ]
  },
  {
   "cell_type": "markdown",
   "metadata": {
    "id": "89akrTctJc_e"
   },
   "source": [
    "- 리스트변수 x와 y에 각각 ['x1', 'x2']와 ['y1','y2']를 할당하고\n",
    "- for 문 두개를 이용해각 요소 로 이뤄진 (x, y)의 쌍을 출력"
   ]
  },
  {
   "cell_type": "code",
   "execution_count": 16,
   "metadata": {
    "colab": {
     "base_uri": "https://localhost:8080/"
    },
    "executionInfo": {
     "elapsed": 283,
     "status": "ok",
     "timestamp": 1658991455517,
     "user": {
      "displayName": "junhwa lee",
      "userId": "11332889748979012167"
     },
     "user_tz": -540
    },
    "id": "5jBaqu7rJc_e",
    "outputId": "26c6a29c-d4cc-47c6-e67a-c2d6b65d3549"
   },
   "outputs": [
    {
     "name": "stdout",
     "output_type": "stream",
     "text": [
      "x y\n",
      "x1 y1\n",
      "x1 y2\n",
      "x2 y1\n",
      "x2 y2\n"
     ]
    }
   ],
   "source": [
    "x_list = ['x1', 'x2']\n",
    "y_list = ['y1', 'y2']\n",
    "\n",
    "print(\"x y\")\n",
    "for x in x_list:\n",
    "    for y in y_list:\n",
    "        print(x,y)"
   ]
  },
  {
   "cell_type": "markdown",
   "metadata": {
    "id": "QgNakNYGJc_e"
   },
   "source": [
    "- 중첩 for 문을 이용해〈반복 변수 1> x의 첫 번째 요소(x1)에 대해 <반복 변수 2> y의 첫 번째 요소 (y1)와 두 번째 요소(y2)를 출력\n",
    "- x의 두 번째 요소(x2)에 대해〈반복 변수 2〉y의 첫 번째 요소(y1)와 두 번째 요소(y2)룰 출력\n",
    "- print() 함수의 괄호에 출력하고자 하는 것을 콤마(,)로 구분해서 모두 쓰면 각각을 공백으로 구분해서 전체를 한 줄에 출력"
   ]
  },
  {
   "cell_type": "markdown",
   "metadata": {
    "id": "ZEgZv4vbJc_f"
   },
   "source": [
    "### 여러 개의 리스트 다루기"
   ]
  },
  {
   "cell_type": "markdown",
   "metadata": {
    "id": "jVd7bgDOJc_f"
   },
   "source": [
    "- 여러 개의 리스트가 있을 때 for 문을 이용해 리스트의 데이터를 다루는 방법"
   ]
  },
  {
   "cell_type": "code",
   "execution_count": 17,
   "metadata": {
    "executionInfo": {
     "elapsed": 277,
     "status": "ok",
     "timestamp": 1658991459041,
     "user": {
      "displayName": "junhwa lee",
      "userId": "11332889748979012167"
     },
     "user_tz": -540
    },
    "id": "Lk_mp3d8Jc_f"
   },
   "outputs": [],
   "source": [
    "names = ['James', 'Robert', 'Lisa', 'Mary'] \n",
    "scores = [95, 96, 97, 94]"
   ]
  },
  {
   "cell_type": "markdown",
   "metadata": {
    "id": "9Hu61kq3Jc_f"
   },
   "source": [
    "- 리스트가 하나라면<반복 범위>를 리스트로 지정해 for 문을 이용할 수 있지만 리스트가 두 개이므로 리스트를<반복 범위>에 이용할 수 없음\n",
    "- 리스트, 튜플，세트, 딕셔너리의 항목 개수(데이터의 ‘길이’라고도 함)를 반환하는 len()함수와 범위를 반환하는 range() 함수를 이용\n",
    "- for 문의 <반복 범위>를 지정하고 <반복 변수>를 이용해 리스트의 요소를 하나씩 부르면 됨"
   ]
  },
  {
   "cell_type": "code",
   "execution_count": 18,
   "metadata": {
    "colab": {
     "base_uri": "https://localhost:8080/"
    },
    "executionInfo": {
     "elapsed": 286,
     "status": "ok",
     "timestamp": 1658991464944,
     "user": {
      "displayName": "junhwa lee",
      "userId": "11332889748979012167"
     },
     "user_tz": -540
    },
    "id": "t0-orcfBJc_g",
    "outputId": "6f1efe4d-54b8-41f3-c1d5-6a08acd58a11"
   },
   "outputs": [
    {
     "name": "stdout",
     "output_type": "stream",
     "text": [
      "James 95\n",
      "Robert 96\n",
      "Lisa 97\n",
      "Mary 94\n"
     ]
    }
   ],
   "source": [
    "for k in range(len(names)):\n",
    "    print(names[k], scores[k])"
   ]
  },
  {
   "cell_type": "markdown",
   "metadata": {
    "id": "LaxL38PWJc_g"
   },
   "source": [
    "- for 문에서〈반복 범위>를 알기 위해 len() 함수로 리스트의 길이(항목 개수)\n",
    "- len(names)의 항목 개수는 4이고  range() 함수의 인자로 넣어서 <반복 범위>를 설정\n",
    "- k는 0부터 3까지 1씩 증가하면서 두 리스트(names와 scores)의 항목을 출력"
   ]
  },
  {
   "cell_type": "markdown",
   "metadata": {
    "id": "6c_UFljTJc_g"
   },
   "source": [
    "**zip()함수 이용**"
   ]
  },
  {
   "cell_type": "markdown",
   "metadata": {
    "id": "ugkIRSFnJc_g"
   },
   "source": [
    "- 길이가 같은 리스트가 여러 개 있는 경우 for 문을 이용해도 되지만 \n",
    "- 같은 길이의 데이터를 하나로 묶어주는 zip() 함수를 이용해\n",
    "- <반복 범위>를 지정하고 데이터별로 <반복 변수>를 지정해 이용할 있음\n",
    "- for var1, var2 in zip(list1, list2)： <코드 블록>\n",
    "- zip() 함수를 이용해 for 문을 구성하면\n",
    "-〈반복 범위〉인 zip() 안에 있는 listl과 lis2 의 항목이 각각 순서대로 동시에 <반복 변수>인 var1, var2에 대입되고 \n",
    "- <코드 블록>을 수행"
   ]
  },
  {
   "cell_type": "markdown",
   "metadata": {
    "id": "5tGBqO-OJc_g"
   },
   "source": [
    "- for 문에서 zip() 함수를 사용"
   ]
  },
  {
   "cell_type": "code",
   "execution_count": 19,
   "metadata": {
    "colab": {
     "base_uri": "https://localhost:8080/"
    },
    "executionInfo": {
     "elapsed": 284,
     "status": "ok",
     "timestamp": 1658991470608,
     "user": {
      "displayName": "junhwa lee",
      "userId": "11332889748979012167"
     },
     "user_tz": -540
    },
    "id": "Xcq-tamtJc_h",
    "outputId": "a4721308-3649-46d2-8872-ccb11a4ad28e"
   },
   "outputs": [
    {
     "name": "stdout",
     "output_type": "stream",
     "text": [
      "James 95\n",
      "Robert 96\n",
      "Lisa 97\n",
      "Mary 94\n"
     ]
    }
   ],
   "source": [
    "for name, score in zip(names, scores):\n",
    "    print(name, score)"
   ]
  },
  {
   "cell_type": "markdown",
   "metadata": {
    "id": "c_NQ5fRdJc_h"
   },
   "source": [
    "- for 문에서 길이가 같은 여러 개의 리스트를 처리해야 할 때 zip() 함수를 이용하면 좀 더 알아 보기 쉽게 코드를 작성"
   ]
  },
  {
   "cell_type": "markdown",
   "metadata": {
    "id": "lp3VS3oIJc_h"
   },
   "source": [
    "## 5.3 조건에 따라 반복하는 while 문"
   ]
  },
  {
   "cell_type": "markdown",
   "metadata": {
    "id": "XvfldSOlJc_h"
   },
   "source": [
    "- 반복 수행을 할 수 있는 또 다른 방법은 while 문을 이용하는 것\n",
    "- while 문은 조건에 따라 반복 여부를 결정\n",
    "- 반복 범위가 정해진 반복을 수행할 경우에는 for 문을 주로 이용\n",
    "- 반복 범위 없이 조건에 따라서 반복 수행 여부를 결정하는 경우에는 while 문을 주로 이용"
   ]
  },
  {
   "cell_type": "markdown",
   "metadata": {
    "id": "la6UvgmWJc_h"
   },
   "source": [
    "### while 문의 구조"
   ]
  },
  {
   "cell_type": "markdown",
   "metadata": {
    "id": "D2qqsMUMJc_h"
   },
   "source": [
    " - while〈조건문>: <코드 블록>\n",
    " - while 문에서 <조건문>을 만족하면<코드 블록>을 계속 수행하고 \n",
    " - <조건문>을 만족하지 않으면 <코드 블록>을 실행하지 않고 while 문을 빠져나오게 됨\n",
    " - <조건문> 다음에 는 콜론(:)을 쓰고 <코드 블록>은 들여쓰기"
   ]
  },
  {
   "cell_type": "markdown",
   "metadata": {
    "id": "sLcyaolBJc_i"
   },
   "source": [
    "- 변수 i와 sum을 0으로 초기화\n",
    "- 그 후에 while 문에서 sun이 20보다 작을 경우만 <코드 블록>을 반복해서 수행\n",
    "- <코드 블록 >에서는 변수 i를 증가하고 이전의 sum과 현재의 i를 더하고 변수 i와 sum을 출력\n",
    "- sum이 20 이상이 되면 while 문을 빠져나오게 됨"
   ]
  },
  {
   "cell_type": "code",
   "execution_count": 20,
   "metadata": {
    "colab": {
     "base_uri": "https://localhost:8080/"
    },
    "executionInfo": {
     "elapsed": 280,
     "status": "ok",
     "timestamp": 1658991474886,
     "user": {
      "displayName": "junhwa lee",
      "userId": "11332889748979012167"
     },
     "user_tz": -540
    },
    "id": "stb5HWTuJc_i",
    "outputId": "d03d5c58-54a9-4a5c-f257-17e4ec785732"
   },
   "outputs": [
    {
     "name": "stdout",
     "output_type": "stream",
     "text": [
      "i sum\n",
      "1 1\n",
      "2 3\n",
      "3 6\n",
      "4 10\n",
      "5 15\n",
      "6 21\n"
     ]
    }
   ],
   "source": [
    "i = 0     # 초기화\n",
    "sum = 0   # 초기화\n",
    "\n",
    "print(\"i sum\")\n",
    "while (sum < 20):  # 조건 검사\n",
    "    i = i + 1      # i를 1씩 증가\n",
    "    sum = sum + i  # 이전의 sum과 현재 i를 더해서 sum을 갱신\n",
    "    print(i, sum)  # i와 sum을 출력"
   ]
  },
  {
   "cell_type": "markdown",
   "metadata": {
    "id": "E3G6M6gPJc_i"
   },
   "source": [
    "sum이 21로 20 이상이 되자 while 문의 <코드 블록>을 실행하지 않고 while 문을 빠져나왔음"
   ]
  },
  {
   "cell_type": "markdown",
   "metadata": {
    "id": "QFs3lnErJc_i"
   },
   "source": [
    "### 무한 반복 while 문"
   ]
  },
  {
   "cell_type": "markdown",
   "metadata": {
    "id": "3k6Jb4-fJc_j"
   },
   "source": [
    "- while 문을 조건이 만족하는 경우에만 수행\n",
    "- 어떤 경우에는 코드 블록을 무조건 계속 반복하라고 명령을 내려야 할 때가 있음\n",
    "- 'while True：'라고 작성"
   ]
  },
  {
   "cell_type": "markdown",
   "metadata": {
    "id": "kwqX0U5pJc_j"
   },
   "source": [
    "- while 문에서〈조건문〉이 항상 참이므로 코드 블록을 무조건 수행\n",
    "- while True：\n",
    "print(\"while test\")\n",
    "- while 문에서 <조건문> 이 항상 참일 경우 <코드 블록>에 있는 코드가 무한 반복하므로 주의가 필요"
   ]
  },
  {
   "cell_type": "markdown",
   "metadata": {
    "id": "U0He7P3DJc_j"
   },
   "source": [
    "## 5.4 반복문을 제어하는 break와 continue"
   ]
  },
  {
   "cell_type": "markdown",
   "metadata": {
    "id": "vQyCzcQIJc_j"
   },
   "source": [
    "- for 문에서는 <반복 범위> 동안, while 문에서는<조건문>을 만족할 때까지 계속해서 <코드 블록>의 코드를 실행\n",
    "- 반복문이 수행되고 있는 동안 에 특정 조건을 만족하는 경우 반복을 멈추고 <코드 블록>을 빠져나오거나 다음 반복을 수행하게 하려면?\n",
    "- 이를 위해서는 break와 continue를 이용"
   ]
  },
  {
   "cell_type": "markdown",
   "metadata": {
    "id": "MUwWfwlrJc_j"
   },
   "source": [
    "### 반복문을 빠져나오는 break"
   ]
  },
  {
   "cell_type": "markdown",
   "metadata": {
    "id": "rWkMShKUJc_k"
   },
   "source": [
    "- 반복문(for 문 혹은 while 문) 안에서 break를 만나게 되면 반복문을  빠져나옴\n",
    "- <코드 블록>의 구조에 따라 <코드 블록 1>이나 <코드 블록 2>는 없을 수도 있음"
   ]
  },
  {
   "cell_type": "markdown",
   "metadata": {
    "id": "hhhAk4BTJc_k"
   },
   "source": [
    "- break를 이용해 while 문을 빠져나옴"
   ]
  },
  {
   "cell_type": "code",
   "execution_count": 21,
   "metadata": {
    "colab": {
     "base_uri": "https://localhost:8080/"
    },
    "executionInfo": {
     "elapsed": 288,
     "status": "ok",
     "timestamp": 1658991480402,
     "user": {
      "displayName": "junhwa lee",
      "userId": "11332889748979012167"
     },
     "user_tz": -540
    },
    "id": "tTUXQtOYJc_k",
    "outputId": "23751267-c999-4311-8f15-32d0feb4955b"
   },
   "outputs": [
    {
     "name": "stdout",
     "output_type": "stream",
     "text": [
      "1\n",
      "2\n",
      "3\n"
     ]
    }
   ],
   "source": [
    "k=0\n",
    "while True: \n",
    "    k = k + 1  # k는 1씩 증가\n",
    "    \n",
    "    if(k > 3): # k가 3보다 크면 \n",
    "        break  # break로 while 문을 빠져나옴\n",
    "        \n",
    "    print(k)   # k 출력"
   ]
  },
  {
   "cell_type": "markdown",
   "metadata": {
    "id": "X0qaIvF8Jc_k"
   },
   "source": [
    "- while 다음에 True 조건이 있으므로 <코드 블록>을 계속 반복\n",
    "- <코드 블록>에서는 k가 4가 되면 지정한 조건('if(k > 3)')을 만족해서 break 명령을 수행해 while 문을 빠져나옴\n",
    "- 출력 결과에 3까지만 출력되고 그 이후는 출력되지 않음"
   ]
  },
  {
   "cell_type": "markdown",
   "metadata": {
    "id": "enAqmNvvJc_k"
   },
   "source": [
    "- for 문에서 break를 이용한 코드"
   ]
  },
  {
   "cell_type": "code",
   "execution_count": 22,
   "metadata": {
    "id": "TlTEp9VzJc_k"
   },
   "outputs": [
    {
     "name": "stdout",
     "output_type": "stream",
     "text": [
      "0\n",
      "1\n",
      "2\n"
     ]
    }
   ],
   "source": [
    "for k in range(10):  \n",
    "    if(k > 2):   # k 가 2보다 크면 \n",
    "        break    # break로 for 문을 빠져나옴 \n",
    "        \n",
    "    print(k)     # k 출력        "
   ]
  },
  {
   "cell_type": "markdown",
   "metadata": {
    "id": "DtGFIDoPJc_l"
   },
   "source": [
    "- k가 3이 되면 지정한 조건('if(k > 2) ’)을 만족해서 break 명령을 수행해 반복문을 빠져나옴\n",
    "- break 명령어를 이용하면 특정 조건을 만족할 때 반복문을 멈추게 할 수 있음"
   ]
  },
  {
   "cell_type": "markdown",
   "metadata": {
    "id": "9sG9URHRJc_l"
   },
   "source": [
    "### 다음 반복을 실행하는 continue"
   ]
  },
  {
   "cell_type": "markdown",
   "metadata": {
    "id": "a4BjXLptJc_l"
   },
   "source": [
    "- 반복문 안에서 continue를 만나면 반복문의 처음으로 돌아가서 다음 반복을 진행"
   ]
  },
  {
   "cell_type": "markdown",
   "metadata": {
    "id": "CqCY8AqkJc_l"
   },
   "source": [
    "- for 문에서 continue를 이용"
   ]
  },
  {
   "cell_type": "code",
   "execution_count": 23,
   "metadata": {
    "colab": {
     "base_uri": "https://localhost:8080/"
    },
    "executionInfo": {
     "elapsed": 299,
     "status": "ok",
     "timestamp": 1658991486834,
     "user": {
      "displayName": "junhwa lee",
      "userId": "11332889748979012167"
     },
     "user_tz": -540
    },
    "id": "3nPjPg9JJc_l",
    "outputId": "1579bfa1-3bb6-4fbf-f447-c6334ebb7ed6",
    "scrolled": true
   },
   "outputs": [
    {
     "name": "stdout",
     "output_type": "stream",
     "text": [
      "0\n",
      "1\n",
      "3\n",
      "4\n"
     ]
    }
   ],
   "source": [
    "for k in range(5):\n",
    "    if(k == 2):\n",
    "        continue\n",
    "        \n",
    "    print(k)"
   ]
  },
  {
   "cell_type": "markdown",
   "metadata": {
    "id": "AoNmJ-ygJc_l"
   },
   "source": [
    "- for 문을 이용해 <반복 범위>({0,1,2,3,4}) 만큼 <코드 블록>을 실행\n",
    "- 그러다 k가 2일 때는 지정 조건('if(k==2)')을 만족해 continue가 실행돼 반복문의 처음으로 돌아가서 다음 반복을 진행\n",
    "- continue 다음에 있는 print (k)를 실행하지 않아 출력 결과에 2는 빠짐"
   ]
  },
  {
   "cell_type": "markdown",
   "metadata": {
    "id": "wb22RW0VJc_m"
   },
   "source": [
    "- while 문에서 break와 continue를 모두 사용"
   ]
  },
  {
   "cell_type": "code",
   "execution_count": 24,
   "metadata": {
    "id": "q6CiMzbJJc_m"
   },
   "outputs": [
    {
     "name": "stdout",
     "output_type": "stream",
     "text": [
      "1\n",
      "continue next\n",
      "3\n",
      "4\n"
     ]
    }
   ],
   "source": [
    "k = 0\n",
    "while True:\n",
    "    k = k + 1\n",
    "    \n",
    "    if(k == 2):\n",
    "        print(\"continue next\")\n",
    "        continue\n",
    "    if(k > 4):\n",
    "        break\n",
    "        \n",
    "    print(k)"
   ]
  },
  {
   "cell_type": "markdown",
   "metadata": {
    "id": "TV2RlwlAJc_m"
   },
   "source": [
    "- 변수 k가 2일 경우에 continue를 실행\n",
    "- 반복문에서 continue를 만나면 그 이후의 코드는 실행하지 않고 반복문의 처음으로 가서 바로 다음 반복을 수행\n",
    "- continue 문 다음에 있는 print(k)가 수행되지 않아서 2가 출력되지 않음\n",
    "- k가 3과 4인 경우에는 print(k)가 수행돼 출력됐고 \n",
    "- k가 5가 되면 지정 조건('if((k > 4)')을 만족해 break가 수행돼 while 문을 빠져나옴\n",
    "- 5 이상은 출력되지 않음"
   ]
  },
  {
   "cell_type": "markdown",
   "metadata": {
    "id": "A3snh-FrJc_m"
   },
   "source": [
    "## 5.5 간단하게 반복하는 한 줄 for 문"
   ]
  },
  {
   "cell_type": "markdown",
   "metadata": {
    "id": "RE2-a882Jc_n"
   },
   "source": [
    "- 파이썬에서는 리스트，세트, 딕셔너에서 실행할 수 있는 한 줄 for 문도 지원\n",
    "- 각각 ‘리스트 컴프리헨션(List comprehension)’, ‘세트 컴프리헨션(Set comprehension)’, ‘딕셔너리 컴프리 헨션(Dictionary comprehension)’이라고 함\n",
    "- 컴프리헨션(Comprehension)은 우리말로 내포 (혹은 내장)라는 뜻으로서 리스트，세트, 딕셔너리 컴프리헨션은 각각 리스트，세트，딕셔너리 내에 코드가 내포돼 실행되는 것을 의미\n",
    "- 컴프리헨션을 잘 이용하면 리스트, 세트, 딕셔너리 데이터를 반복해서 처리해야 할 때 코드를 한 줄로 작성할 수 있어서 편리"
   ]
  },
  {
   "cell_type": "markdown",
   "metadata": {
    "id": "hBSA0x3ZJc_n"
   },
   "source": [
    "### 리스트 컴프리헨션의 기본 구조"
   ]
  },
  {
   "cell_type": "markdown",
   "metadata": {
    "id": "iVR3TyjSJc_o"
   },
   "source": [
    "- 리스트 컴프리헨션의 기본적인 구조\n",
    "- [〈반복 실행문〉for〈반복 변수> in〈반복 범위〉]\n",
    "- for 문에서는〈반복 실행문〉이 ’for〈반복 변수〉in <반복 범위>:' 다음 줄에 왔는데 한 줄 for 문에서는 <반복 실행문>이 먼저 나옴\n",
    "- 콜론(:)도 이용하지 않음"
   ]
  },
  {
   "cell_type": "markdown",
   "metadata": {
    "id": "h3N0zbEsJc_o"
   },
   "source": [
    "- 1~5까지 숫자가 들어있는 리스트에서 각 항목의 숫자를 제곱하려면?"
   ]
  },
  {
   "cell_type": "code",
   "execution_count": 25,
   "metadata": {
    "id": "FgaXVuDZJc_o"
   },
   "outputs": [
    {
     "name": "stdout",
     "output_type": "stream",
     "text": [
      "[1, 4, 9, 16, 25]\n"
     ]
    }
   ],
   "source": [
    "numbers = [1,2,3,4,5]\n",
    "square = []\n",
    "\n",
    "for i in numbers:\n",
    "    square.append(i**2)\n",
    "    \n",
    "print(square)"
   ]
  },
  {
   "cell_type": "markdown",
   "metadata": {
    "id": "hmkQ83nYJc_p"
   },
   "source": [
    "- 리스트 컴프리헨션 방법을 이용하면 위의 코드보다 좀 더 간단하게 코드를 작성할 수 있음"
   ]
  },
  {
   "cell_type": "code",
   "execution_count": 26,
   "metadata": {
    "id": "utL8I5piJc_p"
   },
   "outputs": [
    {
     "name": "stdout",
     "output_type": "stream",
     "text": [
      "[1, 4, 9, 16, 25]\n"
     ]
    }
   ],
   "source": [
    "numbers = [1,2,3,4,5]\n",
    "square = [i**2 for i in numbers]\n",
    "print(square)"
   ]
  },
  {
   "cell_type": "markdown",
   "metadata": {
    "id": "wx-hYqtXJc_p"
   },
   "source": [
    "### 조건문을 포함한 리스트 컴프리헨션"
   ]
  },
  {
   "cell_type": "markdown",
   "metadata": {
    "id": "7FOT8RXfJc_p"
   },
   "source": [
    "- 리스트 컴프리헨션은 for 문 다음에 if <조건문>을 추가할 수 있음\n",
    "- [〈반복 실행문〉for <반복 변수〉in <반복 범위〉if <조건문>】\n",
    "- 반복문을 수행하다가 if <조건문>을 만족하는 경우에만  <반복 실행문>을 실행"
   ]
  },
  {
   "cell_type": "markdown",
   "metadata": {
    "id": "QQ75T51zJc_q"
   },
   "source": [
    "- 리스트 컴프리헨션을 이용하지 않고 리스트의 각 항목에서 3 이상의 숫자만 제곱하도록 하려면  if 문을 포함한 for문을 작성"
   ]
  },
  {
   "cell_type": "code",
   "execution_count": 27,
   "metadata": {
    "id": "xytC9anHJc_q"
   },
   "outputs": [
    {
     "name": "stdout",
     "output_type": "stream",
     "text": [
      "[9, 16, 25]\n"
     ]
    }
   ],
   "source": [
    "numbers = [1,2,3,4,5]\n",
    "square = []\n",
    "\n",
    "for i in numbers:\n",
    "    if i >= 3:\n",
    "        square.append(i**2)\n",
    "    \n",
    "print(square)"
   ]
  },
  {
   "cell_type": "markdown",
   "metadata": {
    "id": "6Qt3FK6jJc_q"
   },
   "source": [
    "- 조건문을 포함한 리스트 컴프리헨션을 이용해 다시 작성"
   ]
  },
  {
   "cell_type": "code",
   "execution_count": 28,
   "metadata": {
    "id": "q5-x_ZrxJc_r"
   },
   "outputs": [
    {
     "name": "stdout",
     "output_type": "stream",
     "text": [
      "[9, 16, 25]\n"
     ]
    }
   ],
   "source": [
    "numbers = [1,2,3,4,5]\n",
    "square = [i**2 for i in numbers if i>=3]\n",
    "\n",
    "print(square)"
   ]
  },
  {
   "cell_type": "markdown",
   "metadata": {
    "id": "HvolDkkMJc_r"
   },
   "source": [
    "- 조건문을 포함한 리스트 컴프리헨션 방법을 이용해 한 줄로 조건에 맞는 리스트의 항목만 제곱하는 코드를 작성"
   ]
  },
  {
   "cell_type": "markdown",
   "metadata": {
    "id": "YHKsMOESJc_r"
   },
   "source": [
    "# 5.6 정리"
   ]
  },
  {
   "cell_type": "markdown",
   "metadata": {
    "id": "Z26cSpWZJc_r"
   },
   "source": [
    "- 조건문인 if 문\n",
    "- 지정된 범위만큼 반복하는 for 문 \n",
    "- 조건이 맞을 때만 반복하는 while 문 \n",
    "- 반복문을 빠져나오는 break와 반복문의 처음으로 돌아가서 다음 반복을 수행하는 continue\n",
    "- 리스트, 세트, 딕셔너리에서 이용할 수 있는 한 줄 for 문"
   ]
  }
 ],
 "metadata": {
  "anaconda-cloud": {},
  "colab": {
   "collapsed_sections": [
    "ABxV_HN9Jc_W"
   ],
   "name": "005_if_for_while.ipynb",
   "provenance": []
  },
  "kernelspec": {
   "display_name": "Python 3",
   "language": "python",
   "name": "python3"
  },
  "language_info": {
   "codemirror_mode": {
    "name": "ipython",
    "version": 3
   },
   "file_extension": ".py",
   "mimetype": "text/x-python",
   "name": "python",
   "nbconvert_exporter": "python",
   "pygments_lexer": "ipython3",
   "version": "3.13.1"
  },
  "latex_envs": {
   "bibliofile": "biblio.bib",
   "cite_by": "apalike",
   "current_citInitial": 1,
   "eqLabelWithNumbers": true,
   "eqNumInitial": 0
  },
  "nav_menu": {},
  "toc": {
   "nav_menu": {
    "height": "159px",
    "width": "252px"
   },
   "number_sections": false,
   "sideBar": true,
   "skip_h1_title": false,
   "toc_cell": false,
   "toc_position": {
    "height": "582px",
    "left": "0px",
    "right": "1052px",
    "top": "111px",
    "width": "314px"
   },
   "toc_section_display": "block",
   "toc_window_display": false
  },
  "toc_position": {
   "left": "1045px",
   "right": "20px",
   "top": "119px",
   "width": "300px"
  }
 },
 "nbformat": 4,
 "nbformat_minor": 0
}
