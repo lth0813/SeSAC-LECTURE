{
 "cells": [
  {
   "cell_type": "markdown",
   "metadata": {
    "id": "x5eBMrIBuqys"
   },
   "source": [
    "# 9장 문자열과 텍스트 파일 데이터 다루기"
   ]
  },
  {
   "cell_type": "markdown",
   "metadata": {
    "id": "9nrncbF6uqyv"
   },
   "source": [
    "- 데이터가 포함된 텍스트 파일에서 문자 열을 읽어올수 있어야 하며, 사용목적에 맞게 문자열을 처리할 수 있어야 함\n",
    "- 파이썬에서는 문자열 처리를 위한 다양한 내장 문자열 메서드가 제공되므로 문자열을 처리하기 쉬움\n",
    "- 파이썬에서 문자열을 처리하는 방법과 텍스트 파일의 내용을 읽어서 처리하는 방법"
   ]
  },
  {
   "cell_type": "markdown",
   "metadata": {
    "id": "0sIevdwQuqyv"
   },
   "source": [
    "## 9.1 문자열 다루기"
   ]
  },
  {
   "cell_type": "markdown",
   "metadata": {
    "id": "f3rW7uryuqyw"
   },
   "source": [
    "- 파이씬에서는 큰따옴표(\")나 작은따옴표(') 안에 들어 있는 문자의 집합을 문자열\n",
    "- 한 텍스트 파일의 내용을 읽어 오면 그것도 문자열임\n",
    "- 텍스트 파일을 읽어서 가져온 문자열은 대부분 문자열 처리를 통해 원하는 형태의 데이터로 변환해서 이용\n",
    "- 문자열을 처리하기 위해서 는 문자열 분리, 불필요한 문자열 제거，문자열 연결 등을 할 수 있어야 함"
   ]
  },
  {
   "cell_type": "markdown",
   "metadata": {
    "id": "tLS6YHWDuqyw"
   },
   "source": [
    "### 문자열 분리하기"
   ]
  },
  {
   "cell_type": "markdown",
   "metadata": {
    "id": "_UaAk9Uxuqyx"
   },
   "source": [
    "- 문자열을 부분 문자열로 나누고 싶을 때는 split() 메서드를 이용"
   ]
  },
  {
   "cell_type": "markdown",
   "metadata": {
    "id": "DR-Ek8VCuqyx"
   },
   "source": [
    "- split() 메서드의 사용법\n",
    "- str.split([sep])\n",
    "- split() 메서드는 문자열(str)에서 구분자(separator)인 sep을 기준으로 문자열을 분리해 리스트로 반환"
   ]
  },
  {
   "cell_type": "markdown",
   "metadata": {
    "id": "OhVDhjWhuqyy"
   },
   "source": [
    "- split()을 이용해 문자열을 분리\n",
    "- 콤마(,)로 구분된 단어가 여러 개 적힌 문자열이 있을 때 구분자를 콤마(,)로 입력해 split() 메서드를 적용하면 콤마를 기준으로 단어를 분리"
   ]
  },
  {
   "cell_type": "code",
   "execution_count": 9,
   "metadata": {
    "colab": {
     "base_uri": "https://localhost:8080/"
    },
    "executionInfo": {
     "elapsed": 1370,
     "status": "ok",
     "timestamp": 1660080419987,
     "user": {
      "displayName": "junhwa lee",
      "userId": "11332889748979012167"
     },
     "user_tz": -540
    },
    "id": "F1NQ6oy3uqyy",
    "outputId": "e353d8a5-ba23-4dc8-a948-9bb0e4165238"
   },
   "outputs": [
    {
     "data": {
      "text/plain": [
       "['에스프레소', '아메리카노', '카페라테', '카푸치노']"
      ]
     },
     "execution_count": 9,
     "metadata": {},
     "output_type": "execute_result"
    }
   ],
   "source": [
    "coffee_menu_str = \"에스프레소,아메리카노,카페라테,카푸치노\"\n",
    "coffee_menu_str.split(',')"
   ]
  },
  {
   "cell_type": "markdown",
   "metadata": {
    "id": "_BdxYiHguqyz"
   },
   "source": [
    "- 문자열을 변수에 할당하지 않고 문자열에 직접 split() 메서드를 사용"
   ]
  },
  {
   "cell_type": "code",
   "execution_count": 11,
   "metadata": {
    "colab": {
     "base_uri": "https://localhost:8080/"
    },
    "executionInfo": {
     "elapsed": 263,
     "status": "ok",
     "timestamp": 1660080419989,
     "user": {
      "displayName": "junhwa lee",
      "userId": "11332889748979012167"
     },
     "user_tz": -540
    },
    "id": "rkn0M4AJuqyz",
    "outputId": "c29def29-f73b-4b60-d412-dc3239ecddcf"
   },
   "outputs": [
    {
     "data": {
      "text/plain": [
       "['에스프레소', '아메리카노', '카페라테', '카푸치노']"
      ]
     },
     "execution_count": 11,
     "metadata": {},
     "output_type": "execute_result"
    }
   ],
   "source": [
    "\"에스프레소,아메리카노,카페라테,카푸치노\".split(',')"
   ]
  },
  {
   "cell_type": "markdown",
   "metadata": {
    "id": "iPy56MTSuqy0"
   },
   "source": [
    "- 하나의 공백으로 구분된 단어가 여러 개 적힌 문자열은 공백 구분자를 인자로 갖는 split()메서드로 분리"
   ]
  },
  {
   "cell_type": "code",
   "execution_count": 13,
   "metadata": {
    "colab": {
     "base_uri": "https://localhost:8080/"
    },
    "executionInfo": {
     "elapsed": 256,
     "status": "ok",
     "timestamp": 1660080419990,
     "user": {
      "displayName": "junhwa lee",
      "userId": "11332889748979012167"
     },
     "user_tz": -540
    },
    "id": "h7h8A6Kduqy0",
    "outputId": "f0ee0d7a-c12f-4d74-bd49-4af075aad040"
   },
   "outputs": [
    {
     "data": {
      "text/plain": [
       "['에스프레소', '아메리카노', '카페라테', '카푸치노']"
      ]
     },
     "execution_count": 13,
     "metadata": {},
     "output_type": "execute_result"
    }
   ],
   "source": [
    "\"에스프레소 아메리카노 카페라테 카푸치노\".split(' ')"
   ]
  },
  {
   "cell_type": "markdown",
   "metadata": {
    "id": "9YICtLeuuqy0"
   },
   "source": [
    "- 공백 구분자를 인자로 갖는 split() 메서드를 사용할 경우 인자 없이 split()를 적용할 수 있음"
   ]
  },
  {
   "cell_type": "code",
   "execution_count": 15,
   "metadata": {
    "colab": {
     "base_uri": "https://localhost:8080/"
    },
    "executionInfo": {
     "elapsed": 253,
     "status": "ok",
     "timestamp": 1660080419992,
     "user": {
      "displayName": "junhwa lee",
      "userId": "11332889748979012167"
     },
     "user_tz": -540
    },
    "id": "iHkRJgu1uqy1",
    "outputId": "87509b9d-cce4-4651-cbf0-3a633d9874c5"
   },
   "outputs": [
    {
     "data": {
      "text/plain": [
       "['에스프레소', '아메리카노', '카페라테', '카푸치노']"
      ]
     },
     "execution_count": 15,
     "metadata": {},
     "output_type": "execute_result"
    }
   ],
   "source": [
    "\"에스프레소 아메리카노 카페라테 카푸치노\".split()"
   ]
  },
  {
   "cell_type": "markdown",
   "metadata": {
    "id": "58X04fnDuqy1"
   },
   "source": [
    " - 문자열에 인자 없이 split()를 사용하면 문자열 사이의 모든 공백과 개행문자(\\n)를 없애고 분리된 문자열을 반환"
   ]
  },
  {
   "cell_type": "markdown",
   "metadata": {
    "id": "703xB9aAuqy1"
   },
   "source": [
    "- 단어 사이에 공백과 개행문자가 아무리 많더라도 split() 이용하면 공백과 개행문자를 모두 없애고 문자열을 분리"
   ]
  },
  {
   "cell_type": "code",
   "execution_count": 18,
   "metadata": {
    "colab": {
     "base_uri": "https://localhost:8080/"
    },
    "executionInfo": {
     "elapsed": 248,
     "status": "ok",
     "timestamp": 1660080419993,
     "user": {
      "displayName": "junhwa lee",
      "userId": "11332889748979012167"
     },
     "user_tz": -540
    },
    "id": "bHJbBm0quqy2",
    "outputId": "8d5b0442-72bb-4b42-d829-27db7b965e19"
   },
   "outputs": [
    {
     "data": {
      "text/plain": [
       "['에스프레소', '아메리카노', '카페라테', '카푸치노']"
      ]
     },
     "execution_count": 18,
     "metadata": {},
     "output_type": "execute_result"
    }
   ],
   "source": [
    "\"   에스프레소  \\n\\n  아메리카노  \\n  카페라테   카푸치노 \\n\\n\".split()"
   ]
  },
  {
   "cell_type": "markdown",
   "metadata": {
    "id": "_iTQ_pEQuqy2"
   },
   "source": [
    "- 문자열을 분리할 때 인자 maxsplit을 추가하면 앞에서부터 원하는 횟수만큼만 문자열을 분리 할 수 있음\n",
    "- str.split([sep ,] maxsplit=숫자)\n",
    "- 문자열(str)을 구분자 sep(생략 가능)을 기준으로 maxsplit만큼 분리해 리스트로 반환"
   ]
  },
  {
   "cell_type": "markdown",
   "metadata": {
    "id": "9vFmGIGbuqy2"
   },
   "source": [
    "- maxsplit을 지정해 문자열을 분리"
   ]
  },
  {
   "cell_type": "code",
   "execution_count": 21,
   "metadata": {
    "colab": {
     "base_uri": "https://localhost:8080/"
    },
    "executionInfo": {
     "elapsed": 243,
     "status": "ok",
     "timestamp": 1660080419994,
     "user": {
      "displayName": "junhwa lee",
      "userId": "11332889748979012167"
     },
     "user_tz": -540
    },
    "id": "Afi7TniTuqy2",
    "outputId": "3a75236e-5c17-41af-e9aa-8fe2ada6c774"
   },
   "outputs": [
    {
     "data": {
      "text/plain": [
       "['에스프레소', '아메리카노', '카페라테 카푸치노']"
      ]
     },
     "execution_count": 21,
     "metadata": {},
     "output_type": "execute_result"
    }
   ],
   "source": [
    "\"에스프레소 아메리카노 카페라테 카푸치노\".split(maxsplit=2)"
   ]
  },
  {
   "cell_type": "markdown",
   "metadata": {
    "id": "3RL1kbrLuqy2"
   },
   "source": [
    "- 인자로 지정한 maxSplit=2로 인해 앞에서부터 2개의 공백(sep)까지만 문자열을 나눠 결과적으로 3개의 항목이 담긴 리스트를 반환"
   ]
  },
  {
   "cell_type": "markdown",
   "metadata": {
    "id": "QChlnJpXuqy3"
   },
   "source": [
    "- split()에서 구분자(sep)와 분할 횟수(maxsplit=숫자)를 모두 지정해 국가 번호까지 있는 전화번호에서 국가번호를 뺀 나머지 번호를 구하기"
   ]
  },
  {
   "cell_type": "code",
   "execution_count": 24,
   "metadata": {
    "colab": {
     "base_uri": "https://localhost:8080/"
    },
    "executionInfo": {
     "elapsed": 238,
     "status": "ok",
     "timestamp": 1660080419995,
     "user": {
      "displayName": "junhwa lee",
      "userId": "11332889748979012167"
     },
     "user_tz": -540
    },
    "id": "J6KMTO29uqy3",
    "outputId": "beb222b3-4db8-43a6-b30f-c685d172496f"
   },
   "outputs": [
    {
     "name": "stdout",
     "output_type": "stream",
     "text": [
      "['+82', '01-2345-6789']\n",
      "국내전화번호: 01-2345-6789\n"
     ]
    }
   ],
   "source": [
    "phone_number = \"+82-01-2345-6789\" # 국가 번호가 포함된 전화번호\n",
    "split_num = phone_number.split(\"-\", 1) # 국가 번호와 나머지 번호 분리\n",
    "\n",
    "print(split_num)\n",
    "print(\"국내전화번호: {0}\".format(split_num[1]))"
   ]
  },
  {
   "cell_type": "markdown",
   "metadata": {
    "id": "FwBdw_BHuqy3"
   },
   "source": [
    "### 필요없는 문자열 삭제하기"
   ]
  },
  {
   "cell_type": "markdown",
   "metadata": {
    "id": "xBdjDH5huqy3"
   },
   "source": [
    "- 문자열에서는 앞뒤 공백 혹은 개행문자와 같이 불필요한 부분을 지워야 할 때\n",
    "- 사용할 수 있는 것이 strip() 메서드"
   ]
  },
  {
   "cell_type": "markdown",
   "metadata": {
    "id": "bG4UdS7Auqy4"
   },
   "source": [
    "- strip() 메서드의 사용법\n",
    "- strip()메서드는 문자열(str)의 앞과 뒤에서 시작해서 지정한 문자(chars) 외의 다른 문자를 만날 때까지 지정한 문자(chars)를 모두 삭제한 문자열을 반환\n",
    "- 지정한 문자(chars)와 일치하는 것이 없으면 문자열(str)을 그대로 반환\n",
    "- 지정한 문자(chars)가 여러 개일 경우 순서는 상관이 없음\n",
    "- 지정한 문자(chars) 없이 str.strip()를 수행하면 문자열 앞과 뒤의 모든 공백과 개행문자(\\n)를 삭제한 후에 문자열을 반환"
   ]
  },
  {
   "cell_type": "markdown",
   "metadata": {
    "id": "GUplr1Cquqy4"
   },
   "source": [
    "- strip()을 이용해 문자열에서 앞과 뒤의 모든 공백을 지우기"
   ]
  },
  {
   "cell_type": "markdown",
   "metadata": {
    "id": "slPGc5T3uqy4"
   },
   "source": [
    "- 문자열 \"aaaaPythonaa\"에서 앞뒤의 모든 'a'를 제거하고 싶다면\n",
    "- 없애고자 하는 문자 (chars)를 ’a’로 지정해서 strip() 메서드를 실행"
   ]
  },
  {
   "cell_type": "code",
   "execution_count": 30,
   "metadata": {
    "colab": {
     "base_uri": "https://localhost:8080/",
     "height": 35
    },
    "executionInfo": {
     "elapsed": 233,
     "status": "ok",
     "timestamp": 1660080419996,
     "user": {
      "displayName": "junhwa lee",
      "userId": "11332889748979012167"
     },
     "user_tz": -540
    },
    "id": "qJmJZFzFuqy4",
    "outputId": "3217c509-ee26-44c0-e31e-55b57d3fd2ee"
   },
   "outputs": [
    {
     "data": {
      "text/plain": [
       "'Python'"
      ]
     },
     "execution_count": 30,
     "metadata": {},
     "output_type": "execute_result"
    }
   ],
   "source": [
    "\"aaaaPythonaaa\".strip('a')"
   ]
  },
  {
   "cell_type": "markdown",
   "metadata": {
    "id": "lrsmCltXuqy5"
   },
   "source": [
    "- 문자열에서 지우고자 하는 문자가 하나가 아니라 둘이면 strip() 메서드를 두 번 사용하면 됨"
   ]
  },
  {
   "cell_type": "markdown",
   "metadata": {
    "id": "zrSeJ_Dpuqy5"
   },
   "source": [
    "- 첫 번째로 지우려고 하는 문자를 지정해서 strip()메서드를 실행"
   ]
  },
  {
   "cell_type": "code",
   "execution_count": 33,
   "metadata": {
    "colab": {
     "base_uri": "https://localhost:8080/",
     "height": 35
    },
    "executionInfo": {
     "elapsed": 229,
     "status": "ok",
     "timestamp": 1660080419997,
     "user": {
      "displayName": "junhwa lee",
      "userId": "11332889748979012167"
     },
     "user_tz": -540
    },
    "id": "QEDOyq0tuqy5",
    "outputId": "b85a3828-41cd-45a4-ba70-371b08332585"
   },
   "outputs": [
    {
     "data": {
      "text/plain": [
       "'bbPythonbbb'"
      ]
     },
     "execution_count": 33,
     "metadata": {},
     "output_type": "execute_result"
    }
   ],
   "source": [
    "test_str = \"aaabbPythonbbbaa\"\n",
    "temp1 = test_str.strip('a') # 문자열 앞뒤의 'a' 제거\n",
    "temp1"
   ]
  },
  {
   "cell_type": "markdown",
   "metadata": {
    "id": "U9Bq4bZMuqy6"
   },
   "source": [
    "- 변수 test_str에 할당한 문자열의 앞과 뒤에서 'a'가 제거 됨"
   ]
  },
  {
   "cell_type": "markdown",
   "metadata": {
    "id": "w5u6F4_zuqy6"
   },
   "source": [
    "- 두 번째로 지우고자 하는 문자(여기서는 b)룰 지정해서 strip() 메서드를 실행"
   ]
  },
  {
   "cell_type": "code",
   "execution_count": 36,
   "metadata": {
    "colab": {
     "base_uri": "https://localhost:8080/",
     "height": 35
    },
    "executionInfo": {
     "elapsed": 227,
     "status": "ok",
     "timestamp": 1660080419999,
     "user": {
      "displayName": "junhwa lee",
      "userId": "11332889748979012167"
     },
     "user_tz": -540
    },
    "id": "0ArmkGB8uqy6",
    "outputId": "4abd202a-8cad-410b-b5af-8af29fe5a979"
   },
   "outputs": [
    {
     "data": {
      "text/plain": [
       "'Python'"
      ]
     },
     "execution_count": 36,
     "metadata": {},
     "output_type": "execute_result"
    }
   ],
   "source": [
    "temp1.strip('b') # 문자열 앞뒤의 'b' 제거"
   ]
  },
  {
   "cell_type": "markdown",
   "metadata": {
    "id": "mNNHrjliuqy6"
   },
   "source": [
    "- 출력 결과를 보면 test_str 변수에 할당한 문자열에서 앞과 뒤의 'a'와 'b'가 모두 제거됐음을 볼 수 있음"
   ]
  },
  {
   "cell_type": "markdown",
   "metadata": {
    "id": "5FBdp_NDuqy7"
   },
   "source": [
    "- strip()메서드의 경우에는 제거하고자 하는 문자를 하나만 지정해서 여러 번 수행 할 수도 있지만 \n",
    "- 지우고자 하는 문자를 모두 지정해서 한 번에 제거할 수도 있음"
   ]
  },
  {
   "cell_type": "code",
   "execution_count": 39,
   "metadata": {
    "colab": {
     "base_uri": "https://localhost:8080/",
     "height": 35
    },
    "executionInfo": {
     "elapsed": 225,
     "status": "ok",
     "timestamp": 1660080420000,
     "user": {
      "displayName": "junhwa lee",
      "userId": "11332889748979012167"
     },
     "user_tz": -540
    },
    "id": "7oq4OQrCuqy7",
    "outputId": "0c924ccd-59b1-4d73-ee3e-216751bf4d0e"
   },
   "outputs": [
    {
     "data": {
      "text/plain": [
       "'Python'"
      ]
     },
     "execution_count": 39,
     "metadata": {},
     "output_type": "execute_result"
    }
   ],
   "source": [
    "test_str.strip('ab') # 문자열 앞뒤의 'a'와 'b' 제거"
   ]
  },
  {
   "cell_type": "markdown",
   "metadata": {
    "id": "J2Hiyy62uqy7"
   },
   "source": [
    "- 지우고자 하는 문자를 여러 개 지정할 때 순서는 상관이 없음\n",
    "- 지우고자 하는 문자의 순서를 바꿔서 지정해도 됨"
   ]
  },
  {
   "cell_type": "code",
   "execution_count": 41,
   "metadata": {
    "colab": {
     "base_uri": "https://localhost:8080/",
     "height": 35
    },
    "executionInfo": {
     "elapsed": 225,
     "status": "ok",
     "timestamp": 1660080420002,
     "user": {
      "displayName": "junhwa lee",
      "userId": "11332889748979012167"
     },
     "user_tz": -540
    },
    "id": "ZSNvpm-juqy7",
    "outputId": "c87b37a3-3fd6-4e7b-d0d1-168a366c9bcb"
   },
   "outputs": [
    {
     "data": {
      "text/plain": [
       "'Python'"
      ]
     },
     "execution_count": 41,
     "metadata": {},
     "output_type": "execute_result"
    }
   ],
   "source": [
    "test_str.strip('ba')"
   ]
  },
  {
   "cell_type": "markdown",
   "metadata": {
    "id": "RvWKAx4Euqy7"
   },
   "source": [
    "- 문자열의 앞과 뒤에서 좀 더 많은 문자를 삭제"
   ]
  },
  {
   "cell_type": "code",
   "execution_count": 43,
   "metadata": {
    "colab": {
     "base_uri": "https://localhost:8080/",
     "height": 35
    },
    "executionInfo": {
     "elapsed": 223,
     "status": "ok",
     "timestamp": 1660080420003,
     "user": {
      "displayName": "junhwa lee",
      "userId": "11332889748979012167"
     },
     "user_tz": -540
    },
    "id": "2-1EInESuqy7",
    "outputId": "873123b9-a7a6-4243-c75b-ed7d4db176a4"
   },
   "outputs": [
    {
     "data": {
      "text/plain": [
       "'Python is powerful'"
      ]
     },
     "execution_count": 43,
     "metadata": {},
     "output_type": "execute_result"
    }
   ],
   "source": [
    "test_str_multi = \"##***!!!##....  Python is powerful.!...  %%!#..   \"\n",
    "test_str_multi.strip('*.#! %')"
   ]
  },
  {
   "cell_type": "markdown",
   "metadata": {
    "id": "x6fGA-RXuqy8"
   },
   "source": [
    " - strip()메서드에 •*.#! %'를 인자로 지정해서 문자열의 앞과 뒤의 다양한 문자('*.#! %')를 모두 삭제"
   ]
  },
  {
   "cell_type": "markdown",
   "metadata": {
    "id": "9fMreKy0uqy8"
   },
   "source": [
    "- 인자로 지정한 문자의 순서는 상관없기 때문에 인자를 지정해도 결과는 같음"
   ]
  },
  {
   "cell_type": "code",
   "execution_count": 46,
   "metadata": {
    "colab": {
     "base_uri": "https://localhost:8080/",
     "height": 35
    },
    "executionInfo": {
     "elapsed": 222,
     "status": "ok",
     "timestamp": 1660080420004,
     "user": {
      "displayName": "junhwa lee",
      "userId": "11332889748979012167"
     },
     "user_tz": -540
    },
    "id": "PrkwWUl8uqy8",
    "outputId": "7b491209-87af-4eb5-8b50-86ef7077aa37"
   },
   "outputs": [
    {
     "data": {
      "text/plain": [
       "'Python is powerful'"
      ]
     },
     "execution_count": 46,
     "metadata": {},
     "output_type": "execute_result"
    }
   ],
   "source": [
    "test_str_multi.strip('%* !#.')"
   ]
  },
  {
   "cell_type": "markdown",
   "metadata": {
    "id": "-6AjF6CGuqy8"
   },
   "source": [
    "- strip()메서드를 이용해 문자열 앞뒤의 공백을 제거"
   ]
  },
  {
   "cell_type": "code",
   "execution_count": 48,
   "metadata": {
    "colab": {
     "base_uri": "https://localhost:8080/",
     "height": 35
    },
    "executionInfo": {
     "elapsed": 219,
     "status": "ok",
     "timestamp": 1660080420005,
     "user": {
      "displayName": "junhwa lee",
      "userId": "11332889748979012167"
     },
     "user_tz": -540
    },
    "id": "Ez_BG_yeuqy8",
    "outputId": "d6972838-ade3-4f1f-84be-e98c7165ce4e"
   },
   "outputs": [
    {
     "data": {
      "text/plain": [
       "'Python'"
      ]
     },
     "execution_count": 48,
     "metadata": {},
     "output_type": "execute_result"
    }
   ],
   "source": [
    "\"  Python   \".strip(' ')"
   ]
  },
  {
   "cell_type": "markdown",
   "metadata": {
    "id": "Bew-TQ8suqy9"
   },
   "source": [
    "- 문자열 앞뒤의 공백과 개행문자(\\n)를 지우고 싶을 때는 지우고자 하는 문자를 '\\n' 혹은 '\\n'로 지정해서 strip() 메서드를 실행"
   ]
  },
  {
   "cell_type": "code",
   "execution_count": 50,
   "metadata": {
    "colab": {
     "base_uri": "https://localhost:8080/",
     "height": 35
    },
    "executionInfo": {
     "elapsed": 216,
     "status": "ok",
     "timestamp": 1660080420006,
     "user": {
      "displayName": "junhwa lee",
      "userId": "11332889748979012167"
     },
     "user_tz": -540
    },
    "id": "11JbGnZ3uqy9",
    "outputId": "b787e0a1-3208-43b5-f9b1-d40db17d701c"
   },
   "outputs": [
    {
     "data": {
      "text/plain": [
       "'Python'"
      ]
     },
     "execution_count": 50,
     "metadata": {},
     "output_type": "execute_result"
    }
   ],
   "source": [
    "\"\\n  Python  \\n\\n\".strip(' \\n')"
   ]
  },
  {
   "cell_type": "markdown",
   "metadata": {
    "id": "6gVjjRPKuqy9"
   },
   "source": [
    "어떤 문자열에서 지우고자 하는 문자가 공백과 개행문자라면 인자를 지정하지 않고 strip()을 실행해도 됨"
   ]
  },
  {
   "cell_type": "code",
   "execution_count": 52,
   "metadata": {
    "colab": {
     "base_uri": "https://localhost:8080/",
     "height": 35
    },
    "executionInfo": {
     "elapsed": 215,
     "status": "ok",
     "timestamp": 1660080420008,
     "user": {
      "displayName": "junhwa lee",
      "userId": "11332889748979012167"
     },
     "user_tz": -540
    },
    "id": "XjqaNlgouqy9",
    "outputId": "aa000cd1-819c-45ba-86db-e52940be6e44"
   },
   "outputs": [
    {
     "data": {
      "text/plain": [
       "'Python'"
      ]
     },
     "execution_count": 52,
     "metadata": {},
     "output_type": "execute_result"
    }
   ],
   "source": [
    "\"\\n  Python  \\n\\n\".strip()"
   ]
  },
  {
   "cell_type": "markdown",
   "metadata": {
    "id": "iwhIqkKGuqy9"
   },
   "source": [
    "- strip()메서드는 문자열(str)의 앞뒤에서 지정한 문자(chars) 외 다른 문자를 만날 때까지만 지정한 문자(chars)를 모두 삭제"
   ]
  },
  {
   "cell_type": "markdown",
   "metadata": {
    "id": "dPjmsHZDuqy9"
   },
   "source": [
    "-  \"aaaBallaaa\" 문자열에 strip('a')수행하면 'Ball’의 'a'는지워지지 않음"
   ]
  },
  {
   "cell_type": "code",
   "execution_count": 55,
   "metadata": {
    "colab": {
     "base_uri": "https://localhost:8080/",
     "height": 35
    },
    "executionInfo": {
     "elapsed": 216,
     "status": "ok",
     "timestamp": 1660080420011,
     "user": {
      "displayName": "junhwa lee",
      "userId": "11332889748979012167"
     },
     "user_tz": -540
    },
    "id": "tuUglDbvuqy-",
    "outputId": "d6cd17f4-0f99-4a96-efbe-c5d11eab49e5"
   },
   "outputs": [
    {
     "data": {
      "text/plain": [
       "'Ball'"
      ]
     },
     "execution_count": 55,
     "metadata": {},
     "output_type": "execute_result"
    }
   ],
   "source": [
    "\"aaaBallaaa\".strip('a')"
   ]
  },
  {
   "cell_type": "markdown",
   "metadata": {
    "id": "_zZJHXIWuqy-"
   },
   "source": [
    "- 같은 이유로 공백과 개행문자가 다른 문자들 사이에 있는 문자열에 인자 없이 strip() 메서드를 적용하면\n",
    "- 문자열의 앞뒤 공백과 개행문자는 모두 삭제되지만 문자열 사이에 있는 공백과 개행문자는 삭제되지 않음"
   ]
  },
  {
   "cell_type": "code",
   "execution_count": 57,
   "metadata": {
    "colab": {
     "base_uri": "https://localhost:8080/",
     "height": 35
    },
    "executionInfo": {
     "elapsed": 215,
     "status": "ok",
     "timestamp": 1660080420012,
     "user": {
      "displayName": "junhwa lee",
      "userId": "11332889748979012167"
     },
     "user_tz": -540
    },
    "id": "5WN6bi5Vuqy-",
    "outputId": "bdda509c-7487-4aa6-870c-aec92249647a"
   },
   "outputs": [
    {
     "data": {
      "text/plain": [
       "'This is very \\n fast.'"
      ]
     },
     "execution_count": 57,
     "metadata": {},
     "output_type": "execute_result"
    }
   ],
   "source": [
    "\"\\n This is very \\n fast. \\n\\n\".strip()"
   ]
  },
  {
   "cell_type": "markdown",
   "metadata": {
    "id": "PxIuB46Nuqy-"
   },
   "source": [
    "- strip() 메서드는 문자열의 앞과 뒤 양쪽을 검색해 지정한 문자를 삭제하는 역할\n",
    "- 앞이나 뒤중에서 한쪽만 삭제하고 싶으면 lstrip()나 rstrip() 메서드를 사용\n",
    "- 문자열 왼쪽(즉, 앞쪽) 부분만 삭제하려면 Istrip()메서드\n",
    "- 문자열 오른쪽 (즉，뒤쪽) 부분만 삭제하려면 rstrip()메서드를 이용"
   ]
  },
  {
   "cell_type": "code",
   "execution_count": 59,
   "metadata": {
    "colab": {
     "base_uri": "https://localhost:8080/"
    },
    "executionInfo": {
     "elapsed": 219,
     "status": "ok",
     "timestamp": 1660080420017,
     "user": {
      "displayName": "junhwa lee",
      "userId": "11332889748979012167"
     },
     "user_tz": -540
    },
    "id": "P2iZqxwduqy-",
    "outputId": "be2586c8-c985-4980-96ba-cfba15515e64"
   },
   "outputs": [
    {
     "name": "stdout",
     "output_type": "stream",
     "text": [
      "Python is easy to learn.\n",
      "Python is easy to learn.000\n",
      "000Python is easy to learn.\n"
     ]
    }
   ],
   "source": [
    "str_lr = \"000Python is easy to learn.000\"\n",
    "print(str_lr.strip('0'))\n",
    "print(str_lr.lstrip('0'))\n",
    "print(str_lr.rstrip('0'))"
   ]
  },
  {
   "cell_type": "markdown",
   "metadata": {
    "id": "RGcgEUuSuqy_"
   },
   "source": [
    "- 문자열을 할당한 변수 str_lr에 strip(), lstrip() , rstrip() 메서드를 각각 적용\n",
    "- strip()를 적용한 결과로 문자열에서 양쪽 모두 0이 삭제되고 \n",
    "- Istrip()이나 rstrip()을 적용한 결과로 문자열의 왼쪽과 오른쪽에서 각각 0이 삭제"
   ]
  },
  {
   "cell_type": "markdown",
   "metadata": {
    "id": "cCvhlFlwuqy_"
   },
   "source": [
    "- 콤마와 공백을 포함한 문자열에서 콤마를 기준으로 문자열을 분리하고 공백을 모두 제거"
   ]
  },
  {
   "cell_type": "markdown",
   "metadata": {
    "id": "8pYPFnayuqy_"
   },
   "source": [
    "- coffee_menu 변수에는 콤마와 공백을 포함한 여러 커피 종류가 있음\n",
    "- split(',')을 이용해 콤마를 구분자로 삼아 문자열을 리스트로 분리"
   ]
  },
  {
   "cell_type": "code",
   "execution_count": 63,
   "metadata": {
    "colab": {
     "base_uri": "https://localhost:8080/"
    },
    "executionInfo": {
     "elapsed": 208,
     "status": "ok",
     "timestamp": 1660080420019,
     "user": {
      "displayName": "junhwa lee",
      "userId": "11332889748979012167"
     },
     "user_tz": -540
    },
    "id": "eZu-duGVuqy_",
    "outputId": "422c8248-6d23-447f-fee4-192cfe5244fe"
   },
   "outputs": [
    {
     "data": {
      "text/plain": [
       "['  에스프레소', ' 아메리카노', '    카페라테   ', ' 카푸치노  ']"
      ]
     },
     "execution_count": 63,
     "metadata": {},
     "output_type": "execute_result"
    }
   ],
   "source": [
    "coffee_menu = \"  에스프레소, 아메리카노,    카페라테   , 카푸치노  \"\n",
    "coffee_menu_list = coffee_menu.split(',')\n",
    "coffee_menu_list"
   ]
  },
  {
   "cell_type": "markdown",
   "metadata": {
    "id": "n7kPjfNyuqy_"
   },
   "source": [
    "- coffee_menu_list에는 공백을 포함한 문자열을 항목으로 갖는 리스트가 반환\n",
    "- 리스트 변수 coffee_menu_list의 모든 항목에 공백을 제거하기 위해 항목마다 strip() 메서드를 적용"
   ]
  },
  {
   "cell_type": "markdown",
   "metadata": {
    "id": "ZZQrQ6AwuqzA"
   },
   "source": [
    "- 공백이 제거된 문자열은 append()를 이용해 리스트 변수 coffee_list에 하나씩 추가하면 최종적으로 원하는 결과를 얻을 수 있음"
   ]
  },
  {
   "cell_type": "code",
   "execution_count": 66,
   "metadata": {
    "colab": {
     "base_uri": "https://localhost:8080/"
    },
    "executionInfo": {
     "elapsed": 206,
     "status": "ok",
     "timestamp": 1660080420021,
     "user": {
      "displayName": "junhwa lee",
      "userId": "11332889748979012167"
     },
     "user_tz": -540
    },
    "id": "HJELVwEVuqzA",
    "outputId": "b0193f64-b6fd-448d-cc09-e9d41be2ff69"
   },
   "outputs": [
    {
     "name": "stdout",
     "output_type": "stream",
     "text": [
      "['에스프레소', '아메리카노', '카페라테', '카푸치노']\n"
     ]
    }
   ],
   "source": [
    "coffee_list = [] # 빈 리스트 생성\n",
    "for coffee in coffee_menu_list:\n",
    "    temp = coffee.strip() # 문자열의 공백 제거\n",
    "    coffee_list.append(temp) # 리스트 변수에 공백이 제거된 문자열 추가\n",
    "    \n",
    "print(coffee_list) #최종 문자열 리스트 출력"
   ]
  },
  {
   "cell_type": "markdown",
   "metadata": {
    "id": "x8jJsUGzuqzA"
   },
   "source": [
    "### 문자열 연결하기"
   ]
  },
  {
   "cell_type": "markdown",
   "metadata": {
    "id": "EQTUypLduqzA"
   },
   "source": [
    "- 더하기 연산자(+)로 두 문자열을 연결하는 방법"
   ]
  },
  {
   "cell_type": "code",
   "execution_count": 69,
   "metadata": {
    "colab": {
     "base_uri": "https://localhost:8080/"
    },
    "executionInfo": {
     "elapsed": 203,
     "status": "ok",
     "timestamp": 1660080420022,
     "user": {
      "displayName": "junhwa lee",
      "userId": "11332889748979012167"
     },
     "user_tz": -540
    },
    "id": "jdHIiH2VuqzA",
    "outputId": "7a9f6b83-785c-4e9a-a20d-67518c53ce7f"
   },
   "outputs": [
    {
     "name": "stdout",
     "output_type": "stream",
     "text": [
      "철수님, 주소와 전화 번호를 입력해 주세요.\n",
      "영미님, 주소와 전화 번호를 입력해 주세요.\n"
     ]
    }
   ],
   "source": [
    "name1 = \"철수\"\n",
    "name2 = \"영미\"\n",
    "\n",
    "hello = \"님, 주소와 전화 번호를 입력해 주세요.\"\n",
    "print(name1 + hello)\n",
    "print(name2 + hello)"
   ]
  },
  {
   "cell_type": "markdown",
   "metadata": {
    "id": "79dtr27huqzA"
   },
   "source": [
    "- 더하기 연산자를 이용하면 문자열과 문자열을 연결\n",
    "- 리스트의 모든 항목을 하나의 문자열 Join() 메서드를 사용"
   ]
  },
  {
   "cell_type": "markdown",
   "metadata": {
    "id": "HafvZgFJuqzB"
   },
   "source": [
    "- join() 메서드를 사용하는 방법\n",
    "- str.join (seq )\n",
    "- join() 메서드는 문자열을 항목으로 갖는 시퀀스(seq)의 항목 사이에 구분자 문자열(str)을 모두 넣은 후에 문자열로 반환\n",
    "- 시퀀스는 리스트나 튜플과 같이 여러 데이터를 순서대로 담고 있는 나열형 데이터"
   ]
  },
  {
   "cell_type": "markdown",
   "metadata": {
    "id": "XPqPMRcquqzB"
   },
   "source": [
    "- 문자열을 항목으로 갖는 문자열 리스트를 join() 메서드를 이용해 문자열로 변환하는 과정\n",
    "- 문자열 리스트의 항목 사이에는 구분자 문자열(한 칸 공백)이 들어감"
   ]
  },
  {
   "cell_type": "markdown",
   "metadata": {
    "id": "n-C29MB-uqzB"
   },
   "source": [
    "- join() 메서드를 이용해 문자열 리스트를 문자열로 변환\n",
    "-문자열을 항 목으로 갖는 리스트를 생성"
   ]
  },
  {
   "cell_type": "code",
   "execution_count": 74,
   "metadata": {
    "colab": {
     "base_uri": "https://localhost:8080/"
    },
    "executionInfo": {
     "elapsed": 201,
     "status": "ok",
     "timestamp": 1660080420024,
     "user": {
      "displayName": "junhwa lee",
      "userId": "11332889748979012167"
     },
     "user_tz": -540
    },
    "id": "RQeuf3KZuqzB",
    "outputId": "d450161e-bc5e-496b-fad3-3a9478e7bb79"
   },
   "outputs": [
    {
     "data": {
      "text/plain": [
       "['서울시', '서초구', '반포대로', '201(반포동)']"
      ]
     },
     "execution_count": 74,
     "metadata": {},
     "output_type": "execute_result"
    }
   ],
   "source": [
    "address_list = [\"서울시\",\"서초구\",\"반포대로\",\"201(반포동)\"]\n",
    "address_list"
   ]
  },
  {
   "cell_type": "markdown",
   "metadata": {
    "id": "KhdvqScMuqzB"
   },
   "source": [
    "- 문자열 리스트(address_list)를 공백으로 연결해서 문자열을 생성\n",
    "- 구분자 문자열은 한 칸의 공백이 됨"
   ]
  },
  {
   "cell_type": "code",
   "execution_count": 76,
   "metadata": {
    "colab": {
     "base_uri": "https://localhost:8080/",
     "height": 35
    },
    "executionInfo": {
     "elapsed": 197,
     "status": "ok",
     "timestamp": 1660080420025,
     "user": {
      "displayName": "junhwa lee",
      "userId": "11332889748979012167"
     },
     "user_tz": -540
    },
    "id": "DSeO1pKOuqzB",
    "outputId": "c90fbe62-faee-4a42-93f0-7ccbe5cd1303"
   },
   "outputs": [
    {
     "data": {
      "text/plain": [
       "'서울시 서초구 반포대로 201(반포동)'"
      ]
     },
     "execution_count": 76,
     "metadata": {},
     "output_type": "execute_result"
    }
   ],
   "source": [
    "a = \" \"\n",
    "a.join(address_list)"
   ]
  },
  {
   "cell_type": "markdown",
   "metadata": {
    "id": "r3-3WEf9uqzC"
   },
   "source": [
    "- 구분자 문자열을 변수에 할당하지 않고 직접 지정할 수도 있음"
   ]
  },
  {
   "cell_type": "code",
   "execution_count": 78,
   "metadata": {
    "colab": {
     "base_uri": "https://localhost:8080/",
     "height": 35
    },
    "executionInfo": {
     "elapsed": 197,
     "status": "ok",
     "timestamp": 1660080420027,
     "user": {
      "displayName": "junhwa lee",
      "userId": "11332889748979012167"
     },
     "user_tz": -540
    },
    "id": "QchABLEquqzC",
    "outputId": "b1eb9d45-3562-4421-a5ce-5b38e7fbbda9"
   },
   "outputs": [
    {
     "data": {
      "text/plain": [
       "'서울시 서초구 반포대로 201(반포동)'"
      ]
     },
     "execution_count": 78,
     "metadata": {},
     "output_type": "execute_result"
    }
   ],
   "source": [
    "\" \".join(address_list)"
   ]
  },
  {
   "cell_type": "markdown",
   "metadata": {
    "id": "usuXZMvmuqzC"
   },
   "source": [
    "- 문자열 리스트를 여러 문자로 이뤄진 구분자 문자열(\"\\*^-^\\*\")로 연결해서 문자열로 변환"
   ]
  },
  {
   "cell_type": "code",
   "execution_count": 80,
   "metadata": {
    "colab": {
     "base_uri": "https://localhost:8080/",
     "height": 35
    },
    "executionInfo": {
     "elapsed": 197,
     "status": "ok",
     "timestamp": 1660080420028,
     "user": {
      "displayName": "junhwa lee",
      "userId": "11332889748979012167"
     },
     "user_tz": -540
    },
    "id": "b-6KAw6luqzC",
    "outputId": "52819ab8-225f-4092-dcdc-0ba3b7c1a64a"
   },
   "outputs": [
    {
     "data": {
      "text/plain": [
       "'서울시*^-^*서초구*^-^*반포대로*^-^*201(반포동)'"
      ]
     },
     "execution_count": 80,
     "metadata": {},
     "output_type": "execute_result"
    }
   ],
   "source": [
    "\"*^-^*\".join(address_list)"
   ]
  },
  {
   "cell_type": "markdown",
   "metadata": {
    "id": "Qiv0LyJguqzC"
   },
   "source": [
    "### 문자열 찾기"
   ]
  },
  {
   "cell_type": "markdown",
   "metadata": {
    "id": "jV5pFc1huqzC"
   },
   "source": [
    "- 문자열에서 원하는 단어를 찾을 때 사용할 수 있는 find() 메서드\n",
    "- str.find(search_str)\n",
    "- find() 메서드는 문자열(str)에서 찾으려는 검색 문자열(search_str)과 첫번째로 일치하는 문자열(str)의 위치를 반환\n",
    "- 문자열의 위치는 0부터 시작\n",
    "- 문자열에서 검색 문자열을 찾을 수 없으면 -1을 반환"
   ]
  },
  {
   "cell_type": "markdown",
   "metadata": {
    "id": "t7g-iZ7AuqzC"
   },
   "source": [
    "- find()를 이용해 문자열에서 특정 문자열의 위치를 찾음\n",
    "- 특정 문자열을 찾이서 맨 처음 발견된 위치를 반환하고 찾으려는 문자열이 없으면 -1을 반환"
   ]
  },
  {
   "cell_type": "code",
   "execution_count": 84,
   "metadata": {
    "colab": {
     "base_uri": "https://localhost:8080/"
    },
    "executionInfo": {
     "elapsed": 196,
     "status": "ok",
     "timestamp": 1660080420029,
     "user": {
      "displayName": "junhwa lee",
      "userId": "11332889748979012167"
     },
     "user_tz": -540
    },
    "id": "1DW-u5WhuqzD",
    "outputId": "34038ec9-8dd2-481c-ba96-a8b42f240705"
   },
   "outputs": [
    {
     "name": "stdout",
     "output_type": "stream",
     "text": [
      "찾는 문자열의 위치: 0\n",
      "찾는 문자열의 위치: 7\n",
      "찾는 문자열의 위치: 5\n",
      "찾는 문자열의 위치: -1\n"
     ]
    }
   ],
   "source": [
    "str_f = \"Python code.\"\n",
    "\n",
    "print(\"찾는 문자열의 위치:\", str_f.find(\"Python\"))\n",
    "print(\"찾는 문자열의 위치:\", str_f.find(\"code\"))\n",
    "print(\"찾는 문자열의 위치:\", str_f.find(\"n\"))\n",
    "print(\"찾는 문자열의 위치:\", str_f.find(\"easy\"))"
   ]
  },
  {
   "cell_type": "markdown",
   "metadata": {
    "id": "LmCBQq8KuqzD"
   },
   "source": [
    " - str.find(search_str)에 시작 위치(start)와 끝 위치(end)를 추가로 지정해서 검색 범위를 설정할 수도 있음\n",
    " - str.find(search_str, start, end)\n",
    " - start ~ end-1 범위에서 검색 문자열(search_str)을 검색해 일치하는 문자열(str)의 위치를 반환\n",
    " - 지정된 범위에서 찾지 못하면 -1 을 반환"
   ]
  },
  {
   "cell_type": "markdown",
   "metadata": {
    "id": "APBtqjCcuqzE"
   },
   "source": [
    "- 시작 위치만 지정해서 검색 범위를 설정할 수도 있음\n",
    "- str.find(search_str, start)\n",
    "- 검색 범위는 start부터 문자열(str)의 끝이 됨"
   ]
  },
  {
   "cell_type": "markdown",
   "metadata": {
    "id": "sxptAqZYuqzE"
   },
   "source": [
    "- 시작 위치와 끝 위치를 지정해 문자열"
   ]
  },
  {
   "cell_type": "code",
   "execution_count": 88,
   "metadata": {
    "colab": {
     "base_uri": "https://localhost:8080/"
    },
    "executionInfo": {
     "elapsed": 190,
     "status": "ok",
     "timestamp": 1660080420030,
     "user": {
      "displayName": "junhwa lee",
      "userId": "11332889748979012167"
     },
     "user_tz": -540
    },
    "id": "Tbs5miLuuqzE",
    "outputId": "85039b25-8c44-4016-ec76-c9e4e49aab46"
   },
   "outputs": [
    {
     "name": "stdout",
     "output_type": "stream",
     "text": [
      "20\n",
      "-1\n"
     ]
    }
   ],
   "source": [
    "str_f_se = \"Python is powerful. Python is easy to learn.\"\n",
    "\n",
    "print(str_f_se.find(\"Python\", 10, 30)) # 시작 위치(start)와 끝 위치(end) 지정\n",
    "print(str_f_se.find(\"Python\", 35)) # 찾기 위한 시작 위치(start) 지정"
   ]
  },
  {
   "cell_type": "markdown",
   "metadata": {
    "id": "sjzimp-4uqzE"
   },
   "source": [
    "- find() 메서드는 찾으려는 문자열과 일치하는 첫 번째 위치를 반환\n",
    "- 해당 문자열이 몇 번 나오는지 알고 싶다면 count() 메서드를 이용"
   ]
  },
  {
   "cell_type": "markdown",
   "metadata": {
    "id": "Of1sz2bPuqzF"
   },
   "source": [
    "- str.count(search_str)\n",
    "- str.count(search_str, start)\n",
    "- str.count(search_str, start, end)"
   ]
  },
  {
   "cell_type": "markdown",
   "metadata": {
    "id": "KRheGY1duqzF"
   },
   "source": [
    " - count()메서드는 문자열(str) 에서 찾고자 하는 문자열(search_str)과 일치하는 횟수를 반환하고，없으면 0을 반환\n",
    " - find()와 마찬가지로 start와 end로 검색 범위를 지정할 수도 있음"
   ]
  },
  {
   "cell_type": "markdown",
   "metadata": {
    "id": "wzKv7IDzuqzF"
   },
   "source": [
    "- count() 메서드를 사용하여 찾는 문자열 횟수 반환"
   ]
  },
  {
   "cell_type": "code",
   "execution_count": 93,
   "metadata": {
    "colab": {
     "base_uri": "https://localhost:8080/"
    },
    "executionInfo": {
     "elapsed": 186,
     "status": "ok",
     "timestamp": 1660080420032,
     "user": {
      "displayName": "junhwa lee",
      "userId": "11332889748979012167"
     },
     "user_tz": -540
    },
    "id": "Aj70L981uqzG",
    "outputId": "a4bfa18f-573f-4e24-b067-66a0d2d2b931"
   },
   "outputs": [
    {
     "name": "stdout",
     "output_type": "stream",
     "text": [
      "Python의 개수는?: 3\n",
      "powerful의 개수는?: 1\n",
      "IPython의 개수는?: 0\n"
     ]
    }
   ],
   "source": [
    "str_c = \"Python is powerful. Python is easy to learn. Python is open.\"\n",
    "\n",
    "print(\"Python의 개수는?:\", str_c.count(\"Python\"))\n",
    "print(\"powerful의 개수는?:\", str_c.count(\"powerful\"))\n",
    "print(\"IPython의 개수는?:\", str_c.count(\"IPython\"))"
   ]
  },
  {
   "cell_type": "markdown",
   "metadata": {
    "id": "uZyEzPmAuqzG"
   },
   "source": [
    "- 다른 찾기 메서드로 startwith() 메서드와 entwith() 메서드\n",
    "- 각각 문자열이 지정된 문자 열로 시작하는지 끝나는지를 검사할 때 사용"
   ]
  },
  {
   "cell_type": "markdown",
   "metadata": {
    "id": "J7b1IouiuqzG"
   },
   "source": [
    " - 사용법\n",
    " - str.startswith(prefix) \n",
    " - str.startswith(prefix, start) \n",
    " - str.startswith(prefix, start, end)"
   ]
  },
  {
   "cell_type": "markdown",
   "metadata": {
    "id": "JXnxLG11uqzG"
   },
   "source": [
    "- startswith() 메서드는 문자열(str)이 지정된 문자열(prefix)로 시작되면 True를 그렇지 않으면 False 를 반환\n",
    "- find()와 마찬가지로 start와 end로 범위를 지정할 수도 있음."
   ]
  },
  {
   "cell_type": "markdown",
   "metadata": {
    "id": "C7OIyDaxuqzG"
   },
   "source": [
    "- str.endswith(suffix) \n",
    "- str.endswith(suffix, start) \n",
    "- str.endswith(suffix, start, end)"
   ]
  },
  {
   "cell_type": "markdown",
   "metadata": {
    "id": "3qJ7rifuuqzG"
   },
   "source": [
    "- endswith()메서드는 문자열(str)이 지정된 문자열(suffix)로 끝나면 True, 그렇지 않으면 False를 반환\n",
    "- start와 end로 범위를 지정할 수도 있음"
   ]
  },
  {
   "cell_type": "markdown",
   "metadata": {
    "id": "WxVRCACLuqzH"
   },
   "source": [
    "- startwith() 메서드와 endwith() 메서드를 사용"
   ]
  },
  {
   "cell_type": "code",
   "execution_count": 100,
   "metadata": {
    "colab": {
     "base_uri": "https://localhost:8080/"
    },
    "executionInfo": {
     "elapsed": 183,
     "status": "ok",
     "timestamp": 1660080420033,
     "user": {
      "displayName": "junhwa lee",
      "userId": "11332889748979012167"
     },
     "user_tz": -540
    },
    "id": "TkRTDq78uqzH",
    "outputId": "2907eda4-8843-42e7-87d0-e1cfbe9c78c2",
    "scrolled": true
   },
   "outputs": [
    {
     "name": "stdout",
     "output_type": "stream",
     "text": [
      "Python으로 시작?: True\n",
      "is로 시작?: False\n",
      ".로 끝?: True\n",
      "learn으로 끝?: False\n"
     ]
    }
   ],
   "source": [
    "str_se = \"Python is powerful. Python is easy to learn.\"\n",
    "\n",
    "print(\"Python으로 시작?:\", str_se.startswith(\"Python\"))\n",
    "print(\"is로 시작?:\", str_se.startswith(\"is\"))\n",
    "print(\".로 끝?:\", str_se.endswith(\".\"))\n",
    "print(\"learn으로 끝?:\", str_se.endswith(\"learn\"))"
   ]
  },
  {
   "cell_type": "markdown",
   "metadata": {
    "id": "NWhAKtiAuqzH"
   },
   "source": [
    "### 문자열 바꾸기"
   ]
  },
  {
   "cell_type": "markdown",
   "metadata": {
    "id": "5kIcGmaGuqzH"
   },
   "source": [
    "- 문자열에서 지정한 문자열을 찾아서 바꾸는 메서드로 replace()"
   ]
  },
  {
   "cell_type": "markdown",
   "metadata": {
    "id": "Y-F61geCuqzH"
   },
   "source": [
    "- str.replace(old, new[, count])\n",
    "- replace() 메서드는 문자열(str)에서 지정한 문자열(old)을 찾아서 새로운 문자열(new)로 바꿈\n",
    "- count는 문자열(str)에서 지정된 문자열을 찾아서 바꾸는 횟수\n",
    "- 횟수를 지정하지 않으면 문자열 전체에서 찾아서 바꿈"
   ]
  },
  {
   "cell_type": "code",
   "execution_count": 104,
   "metadata": {
    "colab": {
     "base_uri": "https://localhost:8080/"
    },
    "executionInfo": {
     "elapsed": 179,
     "status": "ok",
     "timestamp": 1660080420034,
     "user": {
      "displayName": "junhwa lee",
      "userId": "11332889748979012167"
     },
     "user_tz": -540
    },
    "id": "Ib6X_EUsuqzI",
    "outputId": "1c540052-8f4f-45bf-dc6d-0b57024a91d4"
   },
   "outputs": [
    {
     "name": "stdout",
     "output_type": "stream",
     "text": [
      "IPython is fast. IPython is friendly. IPython is open.\n",
      "IPython is fast. IPython is friendly. Python is open.\n"
     ]
    }
   ],
   "source": [
    "str_a = 'Python is fast. Python is friendly. Python is open.'\n",
    "print(str_a.replace('Python', 'IPython'))\n",
    "print(str_a.replace('Python', 'IPython', 2))"
   ]
  },
  {
   "cell_type": "markdown",
   "metadata": {
    "id": "bdAnWxdfuqzI"
   },
   "source": [
    "- 문자열에서 지정한 문자열을 찾아서 새로운 문자열로 바꿈\n",
    "- 특정 문자열을 삭제할 때도 replace() 메서드를 이용할 수 있음"
   ]
  },
  {
   "cell_type": "markdown",
   "metadata": {
    "id": "tPglBsvPuqzI"
   },
   "source": [
    "- 문자열에서 ‘['와 ']’를 제거\n",
    "- replace() 메서드에는 문자열을 하나씩만 지정할수 있으므로 \n",
    "- ‘[’와 ’]’를 모두 제거하려면 replace() 메서드를 두 번 사용"
   ]
  },
  {
   "cell_type": "code",
   "execution_count": 107,
   "metadata": {
    "colab": {
     "base_uri": "https://localhost:8080/"
    },
    "executionInfo": {
     "elapsed": 176,
     "status": "ok",
     "timestamp": 1660080420035,
     "user": {
      "displayName": "junhwa lee",
      "userId": "11332889748979012167"
     },
     "user_tz": -540
    },
    "id": "spcIXfP6uqzJ",
    "outputId": "33ad3eeb-192f-481d-da2b-61e6ec4128cd"
   },
   "outputs": [
    {
     "name": "stdout",
     "output_type": "stream",
     "text": [
      "[Python] [is] [fast]\n",
      "Python] is] fast]\n",
      "Python is fast\n"
     ]
    }
   ],
   "source": [
    "str_b = '[Python] [is] [fast]'\n",
    "str_b1 = str_b.replace('[', '') # 문자열에서 '['를 제거\n",
    "str_b2 = str_b1.replace(']', '') # 결과 문자열에서 다시 ']'를 제거\n",
    "\n",
    "print(str_b)\n",
    "print(str_b1)\n",
    "print(str_b2)"
   ]
  },
  {
   "cell_type": "markdown",
   "metadata": {
    "id": "8pmPslJruqzJ"
   },
   "source": [
    "### 문자열의 구성 확인하기"
   ]
  },
  {
   "cell_type": "markdown",
   "metadata": {
    "id": "RP3-IiFYuqzJ"
   },
   "source": [
    "- 문자열이 숫자만으로 이뤄졌는지，\n",
    "- 문자로만 이뤄졌는지 아니면 숫자와 문자가 모두 포함돼 있는지, \n",
    "- 로마자 알파벳 대문자로만 이뤄졌는지, \n",
    "- 소문자로만 이뤄졌는지 등 문자열의 구성을 알아야 할 때가 있음"
   ]
  },
  {
   "cell_type": "markdown",
   "metadata": {
    "id": "EsRXectUuqzK"
   },
   "source": [
    "- 문자열의 구성을 확인하기 위한 메서드"
   ]
  },
  {
   "cell_type": "markdown",
   "metadata": {
    "id": "X5TEGVWmuqzK"
   },
   "source": [
    "- 문자열이 숫자, 특수 문자, 공백이 아닌 문자로 구성돼 있는지 검사하는 isalpha()메서드의 사용"
   ]
  },
  {
   "cell_type": "code",
   "execution_count": 112,
   "metadata": {
    "colab": {
     "base_uri": "https://localhost:8080/"
    },
    "executionInfo": {
     "elapsed": 168,
     "status": "ok",
     "timestamp": 1660080420036,
     "user": {
      "displayName": "junhwa lee",
      "userId": "11332889748979012167"
     },
     "user_tz": -540
    },
    "id": "fNkRiLzMuqzK",
    "outputId": "fd2cb427-1eb4-4066-9669-d0cc5aef2f7f"
   },
   "outputs": [
    {
     "name": "stdout",
     "output_type": "stream",
     "text": [
      "True\n",
      "False\n"
     ]
    }
   ],
   "source": [
    "print('Python'.isalpha()) # 문자열에 공백, 특수 문자, 숫자가 없음\n",
    "print('Ver. 3.x'.isalpha()) # 공백, 특수 문자, 숫자 중 하나가 있음"
   ]
  },
  {
   "cell_type": "markdown",
   "metadata": {
    "id": "HgWo52kruqzK"
   },
   "source": [
    "- 모든 문자가 숫자로 이뤄져 있는지를 검사하는 isdigit() 메서드의 사용"
   ]
  },
  {
   "cell_type": "code",
   "execution_count": 114,
   "metadata": {
    "colab": {
     "base_uri": "https://localhost:8080/"
    },
    "executionInfo": {
     "elapsed": 164,
     "status": "ok",
     "timestamp": 1660080420037,
     "user": {
      "displayName": "junhwa lee",
      "userId": "11332889748979012167"
     },
     "user_tz": -540
    },
    "id": "wysmIe4CuqzK",
    "outputId": "2e07efd7-271f-4def-f0ee-08b11c87a337"
   },
   "outputs": [
    {
     "name": "stdout",
     "output_type": "stream",
     "text": [
      "True\n",
      "False\n"
     ]
    }
   ],
   "source": [
    "print('12345'.isdigit()) # 문자열이 모두 숫자로 구성됨\n",
    "print('12345abc'.isdigit())# 문자열이 숫자로만 구성되지 않음"
   ]
  },
  {
   "cell_type": "markdown",
   "metadata": {
    "id": "lOBX_ZYnuqzK"
   },
   "source": [
    "- 문자열이 특수 문자나 공백이 아닌 문자와 숫자로 구성돼 있는지 검사하는 isalnum() 메서드"
   ]
  },
  {
   "cell_type": "code",
   "execution_count": 116,
   "metadata": {
    "colab": {
     "base_uri": "https://localhost:8080/"
    },
    "executionInfo": {
     "elapsed": 161,
     "status": "ok",
     "timestamp": 1660080420038,
     "user": {
      "displayName": "junhwa lee",
      "userId": "11332889748979012167"
     },
     "user_tz": -540
    },
    "id": "dFJa62t3uqzL",
    "outputId": "26f125cb-36ad-4ace-8c26-fa54db82083a"
   },
   "outputs": [
    {
     "name": "stdout",
     "output_type": "stream",
     "text": [
      "True\n",
      "False\n"
     ]
    }
   ],
   "source": [
    "print('abc1234'.isalnum()) # 특수 문자나 공백이 아닌 문자와 숫자로 구성됨\n",
    "print('   abc1234'.isalnum()) # 문자열에 공백이 있음"
   ]
  },
  {
   "cell_type": "markdown",
   "metadata": {
    "id": "iy-9qhwouqzL"
   },
   "source": [
    "- 문자열이 공백 문자로만 구성돼 있는지를 검사하는 isspace() 메서드"
   ]
  },
  {
   "cell_type": "code",
   "execution_count": 118,
   "metadata": {
    "colab": {
     "base_uri": "https://localhost:8080/"
    },
    "executionInfo": {
     "elapsed": 159,
     "status": "ok",
     "timestamp": 1660080420039,
     "user": {
      "displayName": "junhwa lee",
      "userId": "11332889748979012167"
     },
     "user_tz": -540
    },
    "id": "zYhoxXD5uqzL",
    "outputId": "86cd5ce2-a6ee-4a37-904f-367910ba1b2e"
   },
   "outputs": [
    {
     "name": "stdout",
     "output_type": "stream",
     "text": [
      "True\n",
      "False\n"
     ]
    }
   ],
   "source": [
    "print('   '.isspace()) # 문자열이 공백으로만 구성됨\n",
    "print(' 1 '.isspace()) # 문자열에 공백 외에 다른 문자가 있음"
   ]
  },
  {
   "cell_type": "markdown",
   "metadata": {
    "id": "vY2Sf5FRuqzL"
   },
   "source": [
    "- 문자열이 모두 로마자 알파벳 대문자로 구성돼 있는지, 소문자로 구성돼 있는지를 \n",
    "- 각각 알아보는 isupper()와 islower() 메서드의 사용"
   ]
  },
  {
   "cell_type": "code",
   "execution_count": 120,
   "metadata": {
    "colab": {
     "base_uri": "https://localhost:8080/"
    },
    "executionInfo": {
     "elapsed": 155,
     "status": "ok",
     "timestamp": 1660080420040,
     "user": {
      "displayName": "junhwa lee",
      "userId": "11332889748979012167"
     },
     "user_tz": -540
    },
    "id": "qSogbBi5uqzL",
    "outputId": "7dbd964a-9960-4211-c3e7-ecbf3ad508d6"
   },
   "outputs": [
    {
     "name": "stdout",
     "output_type": "stream",
     "text": [
      "True\n",
      "False\n",
      "True\n",
      "False\n"
     ]
    }
   ],
   "source": [
    "print('PYTHON'.isupper()) # 문자열이 모두 대문자로 구성됨\n",
    "print('Python'.isupper()) # 문자열에 대문자와 소문자가 있음\n",
    "print('python'.islower()) # 문자열이 모두 소문자로 구성됨\n",
    "print('Python'.islower()) # 문자열에 대문자와 소문자가 있음"
   ]
  },
  {
   "cell_type": "markdown",
   "metadata": {
    "id": "F3RVcD-luqzL"
   },
   "source": [
    "### 대소문자로 변경하기"
   ]
  },
  {
   "cell_type": "markdown",
   "metadata": {
    "id": "r8Rev-hPuqzM"
   },
   "source": [
    "- 문자열에서 로마자 알파벳을 모두 대문자나 소문자로 변경하는 lower()와 upper() 메서드\n",
    "- lower() 메서드는 문자열(str)에서 로마자 알파벳의 모든 문자를 소문자로 바꾸고 upper() 메서드는 대문자로 바꿈"
   ]
  },
  {
   "cell_type": "code",
   "execution_count": 123,
   "metadata": {
    "colab": {
     "base_uri": "https://localhost:8080/"
    },
    "executionInfo": {
     "elapsed": 150,
     "status": "ok",
     "timestamp": 1660080420041,
     "user": {
      "displayName": "junhwa lee",
      "userId": "11332889748979012167"
     },
     "user_tz": -540
    },
    "id": "2TZ9IUkluqzM",
    "outputId": "e5e1f783-4dbb-41ce-eae8-f6497c847023"
   },
   "outputs": [
    {
     "name": "stdout",
     "output_type": "stream",
     "text": [
      "python is powerful. python is easy to learn.\n",
      "PYTHON IS POWERFUL. PYTHON IS EASY TO LEARN.\n"
     ]
    }
   ],
   "source": [
    "string1 =  'Python is powerful. PYTHON IS EASY TO LEARN.'\n",
    "print(string1.lower())\n",
    "print(string1.upper())"
   ]
  },
  {
   "cell_type": "markdown",
   "metadata": {
    "id": "sugelxhTuqzM"
   },
   "source": [
    "- 파이썬에서는 로마자 알파벳 대문자와 소문자를 구분하므로 같은 의미의 문자열을 비교하더라도\n",
    "- 대소문자까지 같지 않으면 다른 문자열"
   ]
  },
  {
   "cell_type": "code",
   "execution_count": 125,
   "metadata": {
    "colab": {
     "base_uri": "https://localhost:8080/"
    },
    "executionInfo": {
     "elapsed": 148,
     "status": "ok",
     "timestamp": 1660080420043,
     "user": {
      "displayName": "junhwa lee",
      "userId": "11332889748979012167"
     },
     "user_tz": -540
    },
    "id": "d77eB8_xuqzM",
    "outputId": "5c1972a0-f47d-43ff-84ec-feacb321e321"
   },
   "outputs": [
    {
     "data": {
      "text/plain": [
       "False"
      ]
     },
     "execution_count": 125,
     "metadata": {},
     "output_type": "execute_result"
    }
   ],
   "source": [
    "'Python' == 'python'"
   ]
  },
  {
   "cell_type": "markdown",
   "metadata": {
    "id": "m1aKtbBfuqzM"
   },
   "source": [
    "- 'Python’과 ‘python’은 의미가 같은 문자열이지만 대소문자의 차이 때문에 다른 문자열로 인식\n",
    "- 문자열을 모두 대문자나 소문자로 바꾼 후에 비교하면 같은 문자열이라고 인식"
   ]
  },
  {
   "cell_type": "markdown",
   "metadata": {
    "id": "mIkdumVxuqzM"
   },
   "source": [
    "- lowed()와 upper() 메서드를 이용해 문자열 비교"
   ]
  },
  {
   "cell_type": "code",
   "execution_count": 128,
   "metadata": {
    "colab": {
     "base_uri": "https://localhost:8080/"
    },
    "executionInfo": {
     "elapsed": 146,
     "status": "ok",
     "timestamp": 1660080420045,
     "user": {
      "displayName": "junhwa lee",
      "userId": "11332889748979012167"
     },
     "user_tz": -540
    },
    "id": "Nio2xTTRuqzM",
    "outputId": "4ef67250-c5bb-4b80-b1ad-2faa9b25dfc8"
   },
   "outputs": [
    {
     "name": "stdout",
     "output_type": "stream",
     "text": [
      "True\n",
      "True\n"
     ]
    }
   ],
   "source": [
    "print('Python'.lower() == 'python'.lower())\n",
    "print('Python'.upper() == 'python'.upper())"
   ]
  },
  {
   "cell_type": "markdown",
   "metadata": {
    "id": "iXhJP0WAuqzN"
   },
   "source": [
    "## 9.2 텍스트 파일의 데이터를 읽고 처리하기"
   ]
  },
  {
   "cell_type": "markdown",
   "metadata": {
    "id": "2ix00siDuqzN"
   },
   "source": [
    "### 데이터 파일 준비 및 읽기"
   ]
  },
  {
   "cell_type": "markdown",
   "metadata": {
    "id": "iwDUJpHCuqzN"
   },
   "source": [
    "- 데이터가 저장된 텍스트 파일을 읽고 처리하기 위해 먼저 처리할 데이터와 원하는 작업"
   ]
  },
  {
   "cell_type": "markdown",
   "metadata": {
    "id": "PVo3JiNZuqzN"
   },
   "source": [
    "- 데이터: 어느 커피 전문점에서 나흘 동안 기록한 메뉴별 커피 판매량 \n",
    "- 원하는 직업: 4일 동안 메뉴당 전체 판매량과 하루 평균 판매량 구하기"
   ]
  },
  {
   "cell_type": "code",
   "execution_count": 133,
   "metadata": {
    "colab": {
     "base_uri": "https://localhost:8080/"
    },
    "executionInfo": {
     "elapsed": 143,
     "status": "ok",
     "timestamp": 1660080420046,
     "user": {
      "displayName": "junhwa lee",
      "userId": "11332889748979012167"
     },
     "user_tz": -540
    },
    "id": "-TbBfTQtuqzN",
    "outputId": "10cc1586-97fe-435c-c8bc-cf1e7f20d6ea",
    "scrolled": true
   },
   "outputs": [
    {
     "name": "stderr",
     "output_type": "stream",
     "text": [
      "'cat' is not recognized as an internal or external command,\n",
      "operable program or batch file.\n"
     ]
    }
   ],
   "source": [
    "!cat coffeeShopSales.txt"
   ]
  },
  {
   "cell_type": "markdown",
   "metadata": {
    "id": "fQz8fZFZuqzO"
   },
   "source": [
    "- 텍스트 파일('coffeeShopSales.txt’)의 첫 번째 줄에는 각 항목의 이름이 있고 \n",
    "- 두 번째 줄 이후로는 각 항목의 값"
   ]
  },
  {
   "cell_type": "code",
   "execution_count": 135,
   "metadata": {
    "colab": {
     "base_uri": "https://localhost:8080/"
    },
    "executionInfo": {
     "elapsed": 138,
     "status": "ok",
     "timestamp": 1660080420048,
     "user": {
      "displayName": "junhwa lee",
      "userId": "11332889748979012167"
     },
     "user_tz": -540
    },
    "id": "_yDoj-4OuqzO",
    "outputId": "060b31a1-dc8b-48ed-9a66-b2315d80d3cf"
   },
   "outputs": [
    {
     "name": "stdout",
     "output_type": "stream",
     "text": [
      "날짜    에스프레소  아메리카노  카페라테  카푸치노\n",
      "10.15       10  \t50         45       20   \n",
      "10.16       12\t\t45         41       18\n",
      "10.17       11\t\t53         32       25\n",
      "10.18       15\t\t49         38       22"
     ]
    }
   ],
   "source": [
    "# file_name = 'c:\\myPyCode\\data\\coffeeShopSales.txt' \n",
    "# file_name = 'c:/myPyCode/data/coffeeShopSales.txt'\n",
    " \n",
    "file_name = 'coffeeShopSales.txt' \n",
    "\n",
    "f = open(file_name, encoding='utf-8')      # 파일 열기\n",
    "for line in f:           # 한 줄씩 읽기\n",
    "    print(line, end='')  # 한 줄씩 출력\n",
    "f.close()                # 파일 닫기"
   ]
  },
  {
   "cell_type": "markdown",
   "metadata": {
    "id": "sN4X6TWiuqzO"
   },
   "source": [
    "- 파일명을 경로와 함께 지정해 file_name 변수에 할당한 후\n",
    "- 파일 열기로 해당 파일을 열고 한 줄씩 읽어서 line 변수에 할당하고 출력\n",
    "- line 변수에는 문자열 한 줄 전체가 들어가 있음"
   ]
  },
  {
   "cell_type": "markdown",
   "metadata": {
    "id": "9fhJWrE0uqzO"
   },
   "source": [
    "### 파일에서 읽은 문자열 데이터 처리"
   ]
  },
  {
   "cell_type": "markdown",
   "metadata": {
    "id": "sZfcDub3uqzO"
   },
   "source": [
    "- 첫 번째 줄에 있는 항목 이름을 가져와 빈칸을 기준으로 나누고\n",
    "- 두 번째 줄 이후의 항목 값을 처리"
   ]
  },
  {
   "cell_type": "markdown",
   "metadata": {
    "id": "fpuVgMw5uqzO"
   },
   "source": [
    "- 첫 번째 줄의 항목 이름을 가져오는 코드"
   ]
  },
  {
   "cell_type": "code",
   "execution_count": 140,
   "metadata": {
    "colab": {
     "base_uri": "https://localhost:8080/",
     "height": 35
    },
    "executionInfo": {
     "elapsed": 135,
     "status": "ok",
     "timestamp": 1660080420049,
     "user": {
      "displayName": "junhwa lee",
      "userId": "11332889748979012167"
     },
     "user_tz": -540
    },
    "id": "GXfKVz8MuqzO",
    "outputId": "98a4aff3-ed03-46ea-8dc9-8f209768caf2"
   },
   "outputs": [
    {
     "data": {
      "text/plain": [
       "'날짜    에스프레소  아메리카노  카페라테  카푸치노\\n'"
      ]
     },
     "execution_count": 140,
     "metadata": {},
     "output_type": "execute_result"
    }
   ],
   "source": [
    "f = open(file_name, encoding='utf-8')   # 파일 열기\n",
    "header = f.readline() # 데이터의 첫 번째 줄을 읽음\n",
    "f.close()             # 파일 닫기\n",
    "\n",
    "header"
   ]
  },
  {
   "cell_type": "markdown",
   "metadata": {
    "id": "3rjFapF9uqzP"
   },
   "source": [
    "- 줄의 문자열을 분리해 리스트로 변환하려고 하는데 단어 사이에 공백과 개행문자"
   ]
  },
  {
   "cell_type": "markdown",
   "metadata": {
    "id": "5e8n2d7quqzP"
   },
   "source": [
    "- 인자 없이 split() 메서드를 호출해 첫 줄의 문자열 에서 항목 이름을 분리해 리스트\n",
    "- 첫번째 줄에 있는 항목 이름을 리스트 변수인 header_list에 할당"
   ]
  },
  {
   "cell_type": "code",
   "execution_count": 143,
   "metadata": {
    "colab": {
     "base_uri": "https://localhost:8080/"
    },
    "executionInfo": {
     "elapsed": 134,
     "status": "ok",
     "timestamp": 1660080420050,
     "user": {
      "displayName": "junhwa lee",
      "userId": "11332889748979012167"
     },
     "user_tz": -540
    },
    "id": "sjrq2toquqzP",
    "outputId": "89954232-6010-4856-9610-788e618c9001"
   },
   "outputs": [
    {
     "data": {
      "text/plain": [
       "['날짜', '에스프레소', '아메리카노', '카페라테', '카푸치노']"
      ]
     },
     "execution_count": 143,
     "metadata": {},
     "output_type": "execute_result"
    }
   ],
   "source": [
    "header_list = header.split() # 첫 줄의 문자열을 분리후 리스트로 변환\n",
    "header_list"
   ]
  },
  {
   "cell_type": "markdown",
   "metadata": {
    "id": "SREK8x2huqzP"
   },
   "source": [
    "- 첫 번째 줄에 있는 항목 이름을 리스트 변수인 headerjist에 할당"
   ]
  },
  {
   "cell_type": "markdown",
   "metadata": {
    "id": "sLdMdbRsuqzP"
   },
   "source": [
    "- for 문을 이용해 두 번째 줄부터 끝줄까지의 데이터를 문자열에서 공백과 개행문자를 제거하고\n",
    "- 각 항목을 data_list에 넣는 코드를 추가"
   ]
  },
  {
   "cell_type": "code",
   "execution_count": 146,
   "metadata": {
    "colab": {
     "base_uri": "https://localhost:8080/"
    },
    "executionInfo": {
     "elapsed": 131,
     "status": "ok",
     "timestamp": 1660080420051,
     "user": {
      "displayName": "junhwa lee",
      "userId": "11332889748979012167"
     },
     "user_tz": -540
    },
    "id": "TQXzJgcmuqzP",
    "outputId": "0d9b586e-c415-4328-b676-4cda67740ffb",
    "scrolled": true
   },
   "outputs": [
    {
     "name": "stdout",
     "output_type": "stream",
     "text": [
      "['10.15', '10', '50', '45', '20']\n",
      "['10.16', '12', '45', '41', '18']\n",
      "['10.17', '11', '53', '32', '25']\n",
      "['10.18', '15', '49', '38', '22']\n"
     ]
    }
   ],
   "source": [
    "f = open(file_name,encoding='utf-8')          # 파일 열기\n",
    "header = f.readline()        # 데이터의 첫 번째 줄을 읽음\n",
    "header_list = header.split() # 첫 줄의 문자열을 분리한 후 리스트로 변환\n",
    "\n",
    "for line in f:               # 두 번째 줄부터 데이터를 읽어서 반복적으로 처리\n",
    "    data_list = line.split() # 문자열을 분리해서 리스트로 변환\n",
    "    print(data_list)         # 결과 확인을 위해 리스트 출력\n",
    "    \n",
    "f.close()                    # 파일 닫기"
   ]
  },
  {
   "cell_type": "markdown",
   "metadata": {
    "id": "ndTRQZt3uqzQ"
   },
   "source": [
    "- 출력 결과를 보면 리스트 변수 data_list의 각 항목이 문자열로 되어 있음\n",
    "- 전체 판매량과 평균 을 계산하려면 일일 판매량 데이터 문자열은 숫자로 바꿔야 함\n",
    "- int()나 float()을 이용하면 문자열 타입의 데이터를 정수나 실수 타입으로 변환"
   ]
  },
  {
   "cell_type": "markdown",
   "metadata": {
    "collapsed": true,
    "id": "6MZ2EG2quqzQ",
    "jupyter": {
     "outputs_hidden": true
    }
   },
   "source": [
    "- 정수인 것을 int()를 이용해 판매량 데이터를 숫자로 변환\n",
    "- 커피 종류별로 생성한 빈 리스트에 항목을 추가하는 append()를 이용해 커피 종류별로 판매량 데이터를 분류"
   ]
  },
  {
   "cell_type": "code",
   "execution_count": 149,
   "metadata": {
    "colab": {
     "base_uri": "https://localhost:8080/"
    },
    "executionInfo": {
     "elapsed": 129,
     "status": "ok",
     "timestamp": 1660080420052,
     "user": {
      "displayName": "junhwa lee",
      "userId": "11332889748979012167"
     },
     "user_tz": -540
    },
    "id": "VHgyjFY6uqzQ",
    "outputId": "5ae17fa4-0a07-4e00-e437-4d6db25a17b6"
   },
   "outputs": [
    {
     "name": "stdout",
     "output_type": "stream",
     "text": [
      "에스프레소: [10, 12, 11, 15]\n",
      "아메리카노: [50, 45, 53, 49]\n",
      "카페라테: [45, 41, 32, 38]\n",
      "카푸치노: [20, 18, 25, 22]\n"
     ]
    }
   ],
   "source": [
    "f = open(file_name, encoding='utf-8')         # 파일 열기\n",
    "header = f.readline()       # 데이터의 첫 번째 줄을 읽음\n",
    "headerList = header.split() # 첫 줄의 문자열을 분리한 후 리스트로 변환\n",
    "\n",
    "espresso = []               # 커피 종류별로 빈 리스트 생성\n",
    "americano = []\n",
    "cafelatte = []\n",
    "cappucino = []\n",
    "\n",
    "for line in f:              # 두 번째 줄부터 데이터를 읽어서 반복적으로 처리\n",
    "    dataList = line.split() # 문자열에서 공백을 제거해서 문자열 리스트로 변환\n",
    "    \n",
    "    # 커피 종류별로 정수로 변환한 후, 리스트의 항목으로 추가\n",
    "    espresso.append(int(dataList[1]))\n",
    "    americano.append(int(dataList[2]))\n",
    "    cafelatte.append(int(dataList[3]))\n",
    "    cappucino.append(int(dataList[4]))\n",
    "    \n",
    "f.close() # 파일 닫기\n",
    "\n",
    "print(\"{0}: {1}\".format(headerList[1], espresso)) # 변수에 할당된 값을 출력\n",
    "print(\"{0}: {1}\".format(headerList[2], americano))\n",
    "print(\"{0}: {1}\".format(headerList[3], cafelatte))  \n",
    "print(\"{0}: {1}\".format(headerList[4], cappucino))"
   ]
  },
  {
   "cell_type": "markdown",
   "metadata": {
    "id": "gyCzxaiouqzQ"
   },
   "source": [
    "- 리스트를 이용해 4일간 메뉴별 전체 판매량과 하루 평균 판매량을 구함\n",
    "- 리스트, 튜플, 세트 데이터에서 항목의 합을 구하는 내장 함수 sum()과 항목의 개수(길이)를 구하는 내장 함수 len()을 이용"
   ]
  },
  {
   "cell_type": "code",
   "execution_count": 151,
   "metadata": {
    "colab": {
     "base_uri": "https://localhost:8080/"
    },
    "executionInfo": {
     "elapsed": 126,
     "status": "ok",
     "timestamp": 1660080420054,
     "user": {
      "displayName": "junhwa lee",
      "userId": "11332889748979012167"
     },
     "user_tz": -540
    },
    "id": "6YAyrogfuqzR",
    "outputId": "0260a614-b741-4356-d284-14d4a66a7746"
   },
   "outputs": [
    {
     "name": "stdout",
     "output_type": "stream",
     "text": [
      "[에스프레소] 판매량\n",
      "- 4일 전체: 48, 하루 평균: 12.0\n",
      "[아메리카노] 판매량\n",
      "- 4일 전체: 197, 하루 평균: 49.25\n",
      "[카페라테] 판매량\n",
      "- 4일 전체: 156, 하루 평균: 39.0\n",
      "[카푸치노] 판매량\n",
      "- 4일 전체: 85, 하루 평균: 21.25\n"
     ]
    }
   ],
   "source": [
    "total_sum = [sum(espresso), sum(americano), sum(cafelatte), sum(cappucino)]\n",
    "total_mean = [sum(espresso)/len(espresso), sum(americano)/len(americano),\n",
    "              sum(cafelatte)/len(cafelatte), sum(cappucino)/len(cappucino) ]\n",
    "\n",
    "for k in range(len(total_sum)):\n",
    "    print('[{0}] 판매량'.format(headerList[k+1]))\n",
    "    print('- 4일 전체: {0}, 하루 평균: {1}'.format(total_sum[k], total_mean[k]))"
   ]
  },
  {
   "cell_type": "markdown",
   "metadata": {
    "id": "x6SEXuLwuqzR"
   },
   "source": [
    "- 날짜별로 커피 판매량 데이터가 저장된 텍스트 파일에서 메뉴별로 판매량 데이터를 읽어와서\n",
    "- 숫자로 변환한 후 리스트의 합과 길이를 구하는 내장 함수를 이용해\n",
    "- 메뉴별 전체 판매량과 평균 판매량을 구함"
   ]
  },
  {
   "cell_type": "markdown",
   "metadata": {
    "id": "3I9Ml6yAuqzR"
   },
   "source": [
    "# 9.3 정리"
   ]
  },
  {
   "cell_type": "markdown",
   "metadata": {
    "id": "Pn311PnzuqzR"
   },
   "source": [
    "- 문자열의 다양한 처리 방법\n",
    "- 문자열 분리, 삭제，연결, 찾기 및 바꾸기를 위한 메서드와 사용법\n",
    "- 문자열의 구성 요소를 확인하는 방법과 대소문자로 바꾸는 방법\n",
    "- 문자열 데이터를 읽어서 원하는 정보로 가공하는 방법"
   ]
  },
  {
   "cell_type": "code",
   "execution_count": null,
   "metadata": {},
   "outputs": [],
   "source": []
  }
 ],
 "metadata": {
  "anaconda-cloud": {},
  "colab": {
   "collapsed_sections": [],
   "name": "009_String_Text_File_Processing.ipynb",
   "provenance": []
  },
  "kernelspec": {
   "display_name": "Python [conda env:base] *",
   "language": "python",
   "name": "conda-base-py"
  },
  "language_info": {
   "codemirror_mode": {
    "name": "ipython",
    "version": 3
   },
   "file_extension": ".py",
   "mimetype": "text/x-python",
   "name": "python",
   "nbconvert_exporter": "python",
   "pygments_lexer": "ipython3",
   "version": "3.12.7"
  },
  "latex_envs": {
   "LaTeX_envs_menu_present": true,
   "autoclose": false,
   "autocomplete": true,
   "bibliofile": "biblio.bib",
   "cite_by": "apalike",
   "current_citInitial": 1,
   "eqLabelWithNumbers": true,
   "eqNumInitial": 1,
   "hotkeys": {
    "equation": "Ctrl-E",
    "itemize": "Ctrl-I"
   },
   "labels_anchors": false,
   "latex_user_defs": false,
   "report_style_numbering": false,
   "user_envs_cfg": false
  },
  "nav_menu": {},
  "toc": {
   "nav_menu": {
    "height": "216px",
    "width": "252px"
   },
   "number_sections": false,
   "sideBar": true,
   "skip_h1_title": false,
   "toc_cell": false,
   "toc_position": {
    "height": "624px",
    "left": "0px",
    "right": "1343.37px",
    "top": "111px",
    "width": "182px"
   },
   "toc_section_display": "block",
   "toc_window_display": false
  },
  "toc_position": {
   "height": "544px",
   "left": "0px",
   "right": "1082px",
   "top": "107px",
   "width": "244px"
  }
 },
 "nbformat": 4,
 "nbformat_minor": 4
}
