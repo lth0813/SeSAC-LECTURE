{
 "cells": [
  {
   "cell_type": "code",
   "execution_count": null,
   "metadata": {
    "vscode": {
     "languageId": "plaintext"
    }
   },
   "outputs": [],
   "source": [
    "[2024-12-30]\n",
    "[Big Data 6V]\n",
    "데이터를 수치화함으로써 문장(메시지), 음성, 사진, 동영상 등 어떤 형태의 데이터도 분석할 수 있게 됨.\n",
    "기존 3V 모델(Volume, Variety, Velocity)에서 Veracity(신뢰성), Value(가치), Visualization(시각화)이 추가되어 6V 모델로 확장.\n",
    "데이터 분석 결과를 직관적으로 확인하기 위해서 시각화(Visualization)가 필요함.\n",
    "[Data Type & Source]\n",
    "데이터 형태(정형/비정형)와 출처(내부/외부)에 따라 데이터 추출 및 분석 방법이 다름.\n",
    "데이터 분석 전 전처리 과정은 필수.\n",
    "[Big Data 단계]\n",
    "기획 > 수집 > 저장 > 처리 > 분석 > 시각화 > 활용\n",
    "기획 단계에서 꼭 고려해야 하는 사항 3가지: What?(무엇을 수집/분석 할지), How?(어떻게 수집/저장/처리/분석/시각화 할지), Insight?(분석 결과를 어디에 쓸지)\n",
    "웹 크롤링: 크롤링>스크래핑>추출>저장 과정의 자동화.\n",
    "Database(DB): 데이터를 저장하고 (저장된 데이터를)검색할 용도로 사용되며, RDBMS(관계형DB)와 NoSQL로 나뉨.\n",
    "[Python]\n",
    "명령어 방식과 GUI(Application, URL(웹방식)) 또는 모바일 앱 환경을 사용하며 여러 도구가 존재함. 또한 API 프로그램으로도 사용함.\n",
    "아나콘다와 같은 파이썬 프로그램 설치/실행시 관리자 권한으로 설치/실행하는 게 좋음.(모든 파일과 디렉토리로의 접근을 원활히 하기 위함.)\n",
    "Anaconda Prompt에서 dir은 디렉토리 목록을 확인할 때, cd는 디렉토리를 변경할 때 사용.\n",
    "Anaconda Prompt에서 python 환경을 사용하려고 할 때 'python'을 입력한 후 사용.(python 환경에서 나올 땐 'exit()'을 입력)\n",
    "Jupyter Notebook은 Chrome 브라우저와 호환이 잘 되므로, 기본 브라우저를 Chrome으로 설정하고 나서 사용하는 게 좋음.\n",
    "Jupyter Notebook 코드 실행 단축키: Shift+Enter(실행 후 다음 셀로 넘어감), Ctrl+Enter(실행만 하고 셀은 그대로 유지)\n",
    "파이썬 문서 및 자습서 링크: docs.python.org(한국어도 지원함)\n",
    "[Python 기본 개념]\n",
    "변수: 값을 담는 그릇과 같은 개념.\n",
    "자료형: 자료의 유형.(종류: 정수(int), 실수(float), 문자(char), 문자열(string), 리스트(list), 튜플(tuple), 세트(set), 딕셔너리(dictionary) 등)\n",
    "제어문: 조건문(if, if-else)과 반복문(for, while)이 있음.\n",
    "함수: 반복적으로 사용할 계산식이나 명령문을 하나의 블록으로 만든 것.\n",
    "모듈: 함수나 변수 또는 클래스를 모아 놓은 파이썬 파일.\n",
    "파일: 파이썬 명령문이 저장된 *.py 파일.\n",
    "예외: 오류가 났을 때 어떻게 처리할지 설정.\n",
    "클래스: 함수의 상위 개념으로, 함수와 변수의 집약체 개념."
   ]
  }
 ],
 "metadata": {
  "language_info": {
   "name": "python"
  }
 },
 "nbformat": 4,
 "nbformat_minor": 2
}
