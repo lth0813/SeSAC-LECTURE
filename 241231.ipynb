{
 "cells": [
  {
   "cell_type": "markdown",
   "metadata": {
    "vscode": {
     "languageId": "plaintext"
    }
   },
   "source": [
    "[2024-12-31]\n",
    "파이썬 프로그램\n",
    "1. 계산(연산)\n",
    " - 논리 연산\n",
    " - 비교 연산\n",
    "2. 변수\n",
    "3. 자료형 - 생성, 삭제, 검색, 추가, 대치\n",
    " - 정수, 실수, 문자, 문자열\n",
    " - 리스트 [0, 1, 2, -3]\n",
    " - 튜플 (0, 1, 2, -3)\n",
    " - 세트 {0, 1, 2, -3}\n",
    " - 딕셔너리 {key : value}\n",
    "4. 제어문\n",
    " - 제어문 - if, if else\n",
    " - 반복문 - for, while\n",
    " - continue, break 등등\n",
    "5. 함수\n",
    " - input이 들어가면 output이 나오는 형식\n",
    " - 생성 방법(인자 값 개수, 타입), 호출 방법\n",
    "6. 모듈\n",
    " - 파이썬 코드가 담긴 파일(.py)\n",
    " - import 명령어를 사용하여 호출\n",
    "7. 파일 입출력\n",
    " - open(), read() 함수를 사용하여 파일을 읽어옴\n",
    " - close(), write() 함수를 사용하여 파일을 저장함\n",
    "8. 문자열 다루기\n",
    " - print() 함수를 사용해서 출력하기\n",
    "9. 예외 처리(Exception)\n",
    "10. 클래스\n",
    " - 생성, 호출"
   ]
  },
  {
   "cell_type": "markdown",
   "metadata": {},
   "source": [
    "일반 프로그램\n",
    " - 변수 타입 등을 미리 선언해야함\n",
    "\n",
    "파이썬 프로그램\n",
    " - 변수 타입 등을 미리 선언하지 않아도 됨\n",
    " - 들여쓰기가 필요한 구간은 들여쓰기를 해야함\n",
    "\n",
    "미리 알아두면 좋은 주의사항\n",
    "1. 대입연산자 관련 \n",
    " - A = B, A == B는 다르다 (!=, <=, >=)\n",
    "2. 파이썬의 인덱스는 0번 부터 시작한다.\n",
    "3. 파이썬은 대소문자를 구분한다."
   ]
  },
  {
   "cell_type": "markdown",
   "metadata": {},
   "source": [
    "파이썬을 계산기처럼 이용하기"
   ]
  },
  {
   "cell_type": "markdown",
   "metadata": {},
   "source": [
    "프로그램 설계\n",
    "1. input\n",
    " - 화면 설계\n",
    " - 데이터\n",
    "2. process\n",
    "3. output\n",
    " - 화면 출력\n",
    " - 파일 저장\n",
    " - DB 저장\n",
    "\n",
    "# 금요일 숙제 (월요일까지)\n",
    "바리스타 로봇을 프로그래밍 한다고 생각하고 순서도를 짜봅시다."
   ]
  },
  {
   "cell_type": "markdown",
   "metadata": {},
   "source": []
  }
 ],
 "metadata": {
  "language_info": {
   "name": "python"
  }
 },
 "nbformat": 4,
 "nbformat_minor": 2
}
