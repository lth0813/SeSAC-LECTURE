{
 "cells": [
  {
   "cell_type": "code",
   "execution_count": 4,
   "id": "46ba8871-7940-45e2-9405-57e2a4444448",
   "metadata": {},
   "outputs": [
    {
     "data": {
      "text/html": [
       "<div>\n",
       "<style scoped>\n",
       "    .dataframe tbody tr th:only-of-type {\n",
       "        vertical-align: middle;\n",
       "    }\n",
       "\n",
       "    .dataframe tbody tr th {\n",
       "        vertical-align: top;\n",
       "    }\n",
       "\n",
       "    .dataframe thead th {\n",
       "        text-align: right;\n",
       "    }\n",
       "</style>\n",
       "<table border=\"1\" class=\"dataframe\">\n",
       "  <thead>\n",
       "    <tr style=\"text-align: right;\">\n",
       "      <th></th>\n",
       "      <th>PassengerId</th>\n",
       "      <th>Survived</th>\n",
       "      <th>Pclass</th>\n",
       "      <th>Name</th>\n",
       "      <th>Sex</th>\n",
       "      <th>Age</th>\n",
       "      <th>SibSp</th>\n",
       "      <th>Parch</th>\n",
       "      <th>Ticket</th>\n",
       "      <th>Fare</th>\n",
       "      <th>Cabin</th>\n",
       "      <th>Embarked</th>\n",
       "    </tr>\n",
       "  </thead>\n",
       "  <tbody>\n",
       "    <tr>\n",
       "      <th>0</th>\n",
       "      <td>1</td>\n",
       "      <td>0</td>\n",
       "      <td>3</td>\n",
       "      <td>Braund, Mr. Owen Harris</td>\n",
       "      <td>male</td>\n",
       "      <td>22.0</td>\n",
       "      <td>1</td>\n",
       "      <td>0</td>\n",
       "      <td>A/5 21171</td>\n",
       "      <td>7.2500</td>\n",
       "      <td>NaN</td>\n",
       "      <td>S</td>\n",
       "    </tr>\n",
       "    <tr>\n",
       "      <th>1</th>\n",
       "      <td>2</td>\n",
       "      <td>1</td>\n",
       "      <td>1</td>\n",
       "      <td>Cumings, Mrs. John Bradley (Florence Briggs Th...</td>\n",
       "      <td>female</td>\n",
       "      <td>38.0</td>\n",
       "      <td>1</td>\n",
       "      <td>0</td>\n",
       "      <td>PC 17599</td>\n",
       "      <td>71.2833</td>\n",
       "      <td>C85</td>\n",
       "      <td>C</td>\n",
       "    </tr>\n",
       "    <tr>\n",
       "      <th>2</th>\n",
       "      <td>3</td>\n",
       "      <td>1</td>\n",
       "      <td>3</td>\n",
       "      <td>Heikkinen, Miss. Laina</td>\n",
       "      <td>female</td>\n",
       "      <td>26.0</td>\n",
       "      <td>0</td>\n",
       "      <td>0</td>\n",
       "      <td>STON/O2. 3101282</td>\n",
       "      <td>7.9250</td>\n",
       "      <td>NaN</td>\n",
       "      <td>S</td>\n",
       "    </tr>\n",
       "  </tbody>\n",
       "</table>\n",
       "</div>"
      ],
      "text/plain": [
       "   PassengerId  Survived  Pclass  \\\n",
       "0            1         0       3   \n",
       "1            2         1       1   \n",
       "2            3         1       3   \n",
       "\n",
       "                                                Name     Sex   Age  SibSp  \\\n",
       "0                            Braund, Mr. Owen Harris    male  22.0      1   \n",
       "1  Cumings, Mrs. John Bradley (Florence Briggs Th...  female  38.0      1   \n",
       "2                             Heikkinen, Miss. Laina  female  26.0      0   \n",
       "\n",
       "   Parch            Ticket     Fare Cabin Embarked  \n",
       "0      0         A/5 21171   7.2500   NaN        S  \n",
       "1      0          PC 17599  71.2833   C85        C  \n",
       "2      0  STON/O2. 3101282   7.9250   NaN        S  "
      ]
     },
     "execution_count": 4,
     "metadata": {},
     "output_type": "execute_result"
    }
   ],
   "source": [
    "import numpy as np\n",
    "import pandas as pd\n",
    "import matplotlib.pyplot as plt\n",
    "import seaborn as sns\n",
    "%matplotlib inline\n",
    "\n",
    "df = pd.read_csv('./titanic_train.csv')\n",
    "df.head(3)"
   ]
  },
  {
   "cell_type": "code",
   "execution_count": 26,
   "id": "e11fee44-f9ba-4aaf-a836-25b30cd099b6",
   "metadata": {},
   "outputs": [
    {
     "name": "stderr",
     "output_type": "stream",
     "text": [
      "C:\\Users\\user\\AppData\\Local\\Temp\\ipykernel_14564\\3210781544.py:9: SettingWithCopyWarning: \n",
      "A value is trying to be set on a copy of a slice from a DataFrame.\n",
      "Try using .loc[row_indexer,col_indexer] = value instead\n",
      "\n",
      "See the caveats in the documentation: https://pandas.pydata.org/pandas-docs/stable/user_guide/indexing.html#returning-a-view-versus-a-copy\n",
      "  train_data['Sex'] = encoder_sex.fit_transform(train_data['Sex'])\n",
      "C:\\Users\\user\\AppData\\Local\\Temp\\ipykernel_14564\\3210781544.py:12: SettingWithCopyWarning: \n",
      "A value is trying to be set on a copy of a slice from a DataFrame.\n",
      "Try using .loc[row_indexer,col_indexer] = value instead\n",
      "\n",
      "See the caveats in the documentation: https://pandas.pydata.org/pandas-docs/stable/user_guide/indexing.html#returning-a-view-versus-a-copy\n",
      "  train_data['Embarked'] = encoder_embarked.fit_transform(train_data['Embarked'])\n",
      "C:\\Users\\user\\AppData\\Local\\Temp\\ipykernel_14564\\3210781544.py:15: SettingWithCopyWarning: \n",
      "A value is trying to be set on a copy of a slice from a DataFrame.\n",
      "Try using .loc[row_indexer,col_indexer] = value instead\n",
      "\n",
      "See the caveats in the documentation: https://pandas.pydata.org/pandas-docs/stable/user_guide/indexing.html#returning-a-view-versus-a-copy\n",
      "  train_data['Cabin'] = train_data['Cabin'].apply(lambda x: str(x)[0] if pd.notnull(x) else 'Unknown')\n",
      "C:\\Users\\user\\AppData\\Local\\Temp\\ipykernel_14564\\3210781544.py:27: SettingWithCopyWarning: \n",
      "A value is trying to be set on a copy of a slice from a DataFrame.\n",
      "Try using .loc[row_indexer,col_indexer] = value instead\n",
      "\n",
      "See the caveats in the documentation: https://pandas.pydata.org/pandas-docs/stable/user_guide/indexing.html#returning-a-view-versus-a-copy\n",
      "  missing_data['Sex'] = encoder_sex.transform(missing_data['Sex'])\n",
      "C:\\Users\\user\\AppData\\Local\\Temp\\ipykernel_14564\\3210781544.py:28: SettingWithCopyWarning: \n",
      "A value is trying to be set on a copy of a slice from a DataFrame.\n",
      "Try using .loc[row_indexer,col_indexer] = value instead\n",
      "\n",
      "See the caveats in the documentation: https://pandas.pydata.org/pandas-docs/stable/user_guide/indexing.html#returning-a-view-versus-a-copy\n",
      "  missing_data['Embarked'] = encoder_embarked.transform(missing_data['Embarked'])\n",
      "C:\\Users\\user\\AppData\\Local\\Temp\\ipykernel_14564\\3210781544.py:29: SettingWithCopyWarning: \n",
      "A value is trying to be set on a copy of a slice from a DataFrame.\n",
      "Try using .loc[row_indexer,col_indexer] = value instead\n",
      "\n",
      "See the caveats in the documentation: https://pandas.pydata.org/pandas-docs/stable/user_guide/indexing.html#returning-a-view-versus-a-copy\n",
      "  missing_data['Cabin'] = model.predict(missing_data.drop(columns=['Cabin', 'Name', 'Ticket']))\n"
     ]
    }
   ],
   "source": [
    "from sklearn.ensemble import RandomForestClassifier\n",
    "from sklearn.preprocessing import LabelEncoder\n",
    "\n",
    "# 결측치가 없는 행만 사용하여 훈련\n",
    "train_data = df.dropna(subset=['Cabin'])\n",
    "\n",
    "# 'Sex'와 'Embarked'를 LabelEncoder로 변환\n",
    "encoder_sex = LabelEncoder()\n",
    "train_data['Sex'] = encoder_sex.fit_transform(train_data['Sex'])\n",
    "\n",
    "encoder_embarked = LabelEncoder()\n",
    "train_data['Embarked'] = encoder_embarked.fit_transform(train_data['Embarked'])\n",
    "\n",
    "# 'Cabin'에서 첫 번째 문자만 사용 (선실 구역 정보)\n",
    "train_data['Cabin'] = train_data['Cabin'].apply(lambda x: str(x)[0] if pd.notnull(x) else 'Unknown')\n",
    "\n",
    "# 특성 선택: 'Name'과 'Ticket'은 모델에 필요 없으므로 제거\n",
    "X_train = train_data.drop(columns=['Cabin', 'Name', 'Ticket'])\n",
    "y_train = train_data['Cabin']\n",
    "\n",
    "# RandomForest 모델 학습\n",
    "model = RandomForestClassifier()\n",
    "model.fit(X_train, y_train)\n",
    "\n",
    "# 결측치가 있는 행에 대해 예측\n",
    "missing_data = df[df['Cabin'].isnull()]\n",
    "missing_data['Sex'] = encoder_sex.transform(missing_data['Sex'])\n",
    "missing_data['Embarked'] = encoder_embarked.transform(missing_data['Embarked'])\n",
    "missing_data['Cabin'] = model.predict(missing_data.drop(columns=['Cabin', 'Name', 'Ticket']))\n",
    "\n",
    "# 결측치 채운 결과를 원본 DataFrame에 반영\n",
    "df.loc[df['Cabin'].isnull(), 'Cabin'] = missing_data['Cabin']\n"
   ]
  },
  {
   "cell_type": "code",
   "execution_count": 34,
   "id": "1d7ca7b0-0cb9-4a21-ae19-446b2e1b2cdc",
   "metadata": {},
   "outputs": [
    {
     "data": {
      "text/plain": [
       "array(['F', 'C85', 'C123', 'E46', 'G', 'G6', 'C103', 'D', 'D56', 'A6',\n",
       "       'C23 C25 C27', 'C', 'B78', 'D33', 'B30', 'C52', 'B28', 'C83',\n",
       "       'F33', 'F G73', 'E', 'A', 'E31', 'A5', 'D10 D12', 'D26', 'C110',\n",
       "       'B58 B60', 'E101', 'F E69', 'D47', 'B86', 'F2', 'C2', 'B', 'E33',\n",
       "       'B19', 'A7', 'C49', 'F4', 'A32', 'B4', 'B80', 'A31', 'D36', 'D15',\n",
       "       'C93', 'C78', 'D35', 'C87', 'B77', 'E67', 'B94', 'C125', 'C99',\n",
       "       'C118', 'D7', 'A19', 'B49', 'C22 C26', 'C106', 'C65', 'E36', 'C54',\n",
       "       'B57 B59 B63 B66', 'C7', 'E34', 'C32', 'B18', 'C124', 'C91', 'E40',\n",
       "       'T', 'C128', 'D37', 'B35', 'E50', 'C82', 'B96 B98', 'E10', 'E44',\n",
       "       'A34', 'C104', 'C111', 'C92', 'E38', 'D21', 'E12', 'E63', 'A14',\n",
       "       'B37', 'C30', 'D20', 'B79', 'E25', 'D46', 'B73', 'C95', 'B38',\n",
       "       'B39', 'B22', 'C86', 'C70', 'A16', 'C101', 'C68', 'A10', 'E68',\n",
       "       'B41', 'A20', 'D19', 'D50', 'D9', 'A23', 'B50', 'A26', 'D48',\n",
       "       'E58', 'C126', 'B71', 'B51 B53 B55', 'D49', 'B5', 'B20', 'F G63',\n",
       "       'C62 C64', 'E24', 'C90', 'C45', 'E8', 'B101', 'D45', 'C46', 'D30',\n",
       "       'E121', 'D11', 'E77', 'F38', 'B3', 'D6', 'B82 B84', 'D17', 'A36',\n",
       "       'B102', 'B69', 'E49', 'C47', 'D28', 'E17', 'A24', 'C50', 'B42',\n",
       "       'C148'], dtype=object)"
      ]
     },
     "execution_count": 34,
     "metadata": {},
     "output_type": "execute_result"
    }
   ],
   "source": [
    "df['Cabin'].unique()"
   ]
  },
  {
   "cell_type": "code",
   "execution_count": 46,
   "id": "76308d78-ff0a-4b23-95bd-2245bc258da4",
   "metadata": {},
   "outputs": [
    {
     "name": "stdout",
     "output_type": "stream",
     "text": [
      "0    Unknown\n",
      "1          C\n",
      "2    Unknown\n",
      "3          C\n",
      "4    Unknown\n",
      "Name: Cabin, dtype: object\n"
     ]
    }
   ],
   "source": [
    "from sklearn.experimental import enable_iterative_imputer\n",
    "from sklearn.impute import IterativeImputer\n",
    "from sklearn.preprocessing import LabelEncoder\n",
    "import pandas as pd\n",
    "\n",
    "# 데이터 불러오기\n",
    "df = pd.read_csv('titanic_train.csv')\n",
    "\n",
    "# 'Cabin'에서 첫 번째 문자를 추출하여 수치형 코드로 변환\n",
    "df['Cabin'] = df['Cabin'].apply(lambda x: str(x)[0] if pd.notnull(x) else 'Unknown')\n",
    "\n",
    "# 'Cabin'을 수치형 코드로 변환 (LabelEncoder 사용)\n",
    "encoder = LabelEncoder()\n",
    "df['Cabin'] = encoder.fit_transform(df['Cabin'])\n",
    "\n",
    "# IterativeImputer 사용 (회귀 기반 예측)\n",
    "imputer = IterativeImputer(max_iter=10, random_state=42)\n",
    "df['Cabin'] = imputer.fit_transform(df[['Cabin']])\n",
    "\n",
    "# 예측된 값이 실수형일 수 있기 때문에, 소수점 처리와 범주 확인 후 변환\n",
    "df['Cabin'] = df['Cabin'].round().astype(int)  # 반올림 후 정수형으로 변환\n",
    "\n",
    "# 다시 문자형으로 변환\n",
    "df['Cabin'] = encoder.inverse_transform(df['Cabin'])\n",
    "\n",
    "# 결과 확인\n",
    "print(df['Cabin'].head())\n"
   ]
  },
  {
   "cell_type": "code",
   "execution_count": 40,
   "id": "b946e00f-9f1e-4e6b-992b-95efbd0a97c2",
   "metadata": {},
   "outputs": [
    {
     "data": {
      "text/plain": [
       "0"
      ]
     },
     "execution_count": 40,
     "metadata": {},
     "output_type": "execute_result"
    }
   ],
   "source": [
    "df['Cabin'].isna().sum()"
   ]
  },
  {
   "cell_type": "code",
   "execution_count": null,
   "id": "e4f3fc03-57be-4967-aa84-9904c9b48514",
   "metadata": {},
   "outputs": [],
   "source": []
  }
 ],
 "metadata": {
  "kernelspec": {
   "display_name": "Python [conda env:base] *",
   "language": "python",
   "name": "conda-base-py"
  },
  "language_info": {
   "codemirror_mode": {
    "name": "ipython",
    "version": 3
   },
   "file_extension": ".py",
   "mimetype": "text/x-python",
   "name": "python",
   "nbconvert_exporter": "python",
   "pygments_lexer": "ipython3",
   "version": "3.12.7"
  }
 },
 "nbformat": 4,
 "nbformat_minor": 5
}
