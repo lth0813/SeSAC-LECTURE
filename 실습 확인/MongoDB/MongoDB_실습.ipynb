{
 "cells": [
  {
   "cell_type": "code",
   "execution_count": 1,
   "id": "fd0239d9-a2ea-4246-bd98-57c04ecce288",
   "metadata": {},
   "outputs": [
    {
     "name": "stdout",
     "output_type": "stream",
     "text": [
      "Defaulting to user installation because normal site-packages is not writeable\n",
      "Requirement already satisfied: pymongo in c:\\users\\user\\appdata\\roaming\\python\\python312\\site-packages (4.11.1)\n",
      "Requirement already satisfied: dnspython<3.0.0,>=1.16.0 in c:\\users\\user\\appdata\\roaming\\python\\python312\\site-packages (from pymongo) (2.7.0)\n"
     ]
    }
   ],
   "source": [
    "!pip install pymongo"
   ]
  },
  {
   "cell_type": "code",
   "execution_count": 2,
   "id": "3301faf1-d94d-4756-9d2c-b5847b5b9223",
   "metadata": {},
   "outputs": [],
   "source": [
    "from pymongo import MongoClient"
   ]
  },
  {
   "cell_type": "code",
   "execution_count": 3,
   "id": "3e862e10-8db6-4240-996f-c2cf8690c34a",
   "metadata": {},
   "outputs": [],
   "source": [
    "client = MongoClient(\"mongodb://localhost:27017/\")"
   ]
  },
  {
   "cell_type": "code",
   "execution_count": 4,
   "id": "7d8247d5-acae-4757-8721-187a2d87d09b",
   "metadata": {},
   "outputs": [],
   "source": [
    "db = client['test-db']"
   ]
  },
  {
   "cell_type": "code",
   "execution_count": 5,
   "id": "2e319ac4-f524-466e-aa00-29bce087b07b",
   "metadata": {},
   "outputs": [
    {
     "name": "stdout",
     "output_type": "stream",
     "text": [
      "['admin', 'config', 'local']\n"
     ]
    }
   ],
   "source": [
    "print(client.list_database_names())"
   ]
  },
  {
   "cell_type": "markdown",
   "id": "70378c16-bcb9-4d1a-8e96-d88fee5517fa",
   "metadata": {},
   "source": [
    "- 'SALES' DB가 있어야함"
   ]
  },
  {
   "cell_type": "code",
   "execution_count": 7,
   "id": "c1f26c10-a596-439c-b3b5-d79cd3822815",
   "metadata": {},
   "outputs": [
    {
     "name": "stderr",
     "output_type": "stream",
     "text": [
      "C:\\Users\\user\\AppData\\Local\\Temp\\ipykernel_4284\\3772966949.py:5: DeprecationWarning: datetime.datetime.utcnow() is deprecated and scheduled for removal in a future version. Use timezone-aware objects to represent datetimes in UTC: datetime.datetime.now(datetime.UTC).\n",
      "  \"date\" : datetime.datetime.utcnow() }\n"
     ]
    },
    {
     "data": {
      "text/plain": [
       "{'author': 'Mike',\n",
       " 'text': 'My first blog post!',\n",
       " 'tags': ['mongodb', 'python', 'pymongo'],\n",
       " 'date': datetime.datetime(2025, 2, 11, 5, 39, 39, 756020)}"
      ]
     },
     "execution_count": 7,
     "metadata": {},
     "output_type": "execute_result"
    }
   ],
   "source": [
    "import datetime\n",
    "post = {\"author\" : \"Mike\",\n",
    "        \"text\" : \"My first blog post!\",\n",
    "        \"tags\" : [\"mongodb\", \"python\", \"pymongo\"],\n",
    "        \"date\" : datetime.datetime.utcnow() }\n",
    "post"
   ]
  },
  {
   "cell_type": "markdown",
   "id": "344f4b48-064e-4b4d-b0f3-11eb811573b6",
   "metadata": {},
   "source": [
    " - utcnow는 곧 삭제 예정"
   ]
  },
  {
   "cell_type": "code",
   "execution_count": 9,
   "id": "39d455a9-5bee-4c60-850f-ffadfb37628c",
   "metadata": {},
   "outputs": [],
   "source": [
    "posts = db.posts"
   ]
  },
  {
   "cell_type": "code",
   "execution_count": 10,
   "id": "7c7aaf27-db31-43c8-807b-b0b20b7e61da",
   "metadata": {},
   "outputs": [
    {
     "name": "stdout",
     "output_type": "stream",
     "text": [
      "InsertOneResult(ObjectId('67aae29b6790d2001b5a7953'), acknowledged=True)\n"
     ]
    }
   ],
   "source": [
    "post_id = posts.insert_one(post)\n",
    "print(post_id)"
   ]
  },
  {
   "cell_type": "code",
   "execution_count": 11,
   "id": "45dbe20b-2f84-4d95-8798-611d689efb40",
   "metadata": {},
   "outputs": [],
   "source": [
    "new_posts = [{\"author\" : \"Mike\",\n",
    "        \"text\" : \"Another post!\",\n",
    "        \"tags\" : [\"bulk\", \"insert\"],\n",
    "        \"date\" : datetime.datetime(2009, 11, 12, 11, 14) },\n",
    "{ \"author\" : \"Eliot\", \"title\" : \"MongoDB is fun\", \"text\" : \"and pretty easy too!\", \"date\" : datetime.datetime(2009, 11, 10, 10, 45) }]\n"
   ]
  },
  {
   "cell_type": "code",
   "execution_count": 12,
   "id": "397cbd79-e56e-405a-8a5a-6bd4e02bab52",
   "metadata": {},
   "outputs": [],
   "source": [
    "result = posts.insert_many(new_posts)"
   ]
  },
  {
   "cell_type": "code",
   "execution_count": 13,
   "id": "bdf64f4d-d4f7-48d3-a4cf-7071bcb841cc",
   "metadata": {},
   "outputs": [
    {
     "name": "stdout",
     "output_type": "stream",
     "text": [
      "Mike My first blog post!\n",
      "Mike Another post!\n",
      "Eliot and pretty easy too!\n"
     ]
    }
   ],
   "source": [
    "for d in db['posts'].find():\n",
    "    print(d[\"author\"], d[\"text\"])"
   ]
  },
  {
   "cell_type": "code",
   "execution_count": 14,
   "id": "1ccaa5f0-1359-4e48-9a26-752e3de7d5e2",
   "metadata": {},
   "outputs": [
    {
     "name": "stdout",
     "output_type": "stream",
     "text": [
      "My first blog post!\n"
     ]
    }
   ],
   "source": [
    "print(db.posts.find_one({\"author\":\"Mike\"})[\"text\"])"
   ]
  },
  {
   "cell_type": "code",
   "execution_count": 15,
   "id": "9d7e2b63-8730-4cc9-805c-43065111a025",
   "metadata": {},
   "outputs": [
    {
     "name": "stdout",
     "output_type": "stream",
     "text": [
      "{'_id': ObjectId('67aae29b6790d2001b5a7953'), 'author': 'Mike', 'tags': ['mongodb', 'python', 'pymongo'], 'date': datetime.datetime(2025, 2, 11, 5, 39, 39, 756000)}\n",
      "{'_id': ObjectId('67aae29b6790d2001b5a7954'), 'author': 'Mike', 'tags': ['bulk', 'insert'], 'date': datetime.datetime(2009, 11, 12, 11, 14)}\n",
      "{'_id': ObjectId('67aae29b6790d2001b5a7955'), 'author': 'Eliot', 'title': 'MongoDB is fun', 'date': datetime.datetime(2009, 11, 10, 10, 45)}\n"
     ]
    }
   ],
   "source": [
    "for d in db[\"posts\"].find({}, {\"text\" : 0}):\n",
    "    print(d)"
   ]
  },
  {
   "cell_type": "code",
   "execution_count": 16,
   "id": "0fea9410-69a3-4574-bc71-a6b185850ca0",
   "metadata": {},
   "outputs": [
    {
     "name": "stdout",
     "output_type": "stream",
     "text": [
      "{'_id': ObjectId('67aae29b6790d2001b5a7953'),\n",
      " 'author': 'Mike',\n",
      " 'date': datetime.datetime(2025, 2, 11, 5, 39, 39, 756000),\n",
      " 'tags': ['mongodb', 'python', 'pymongo'],\n",
      " 'text': 'My first blog post!'}\n"
     ]
    }
   ],
   "source": [
    "import pprint\n",
    "pprint.pprint(posts.find_one())"
   ]
  },
  {
   "cell_type": "code",
   "execution_count": 17,
   "id": "1b63dc66-66a2-4c1f-92a9-c64564deeec4",
   "metadata": {},
   "outputs": [
    {
     "name": "stdout",
     "output_type": "stream",
     "text": [
      "{'_id': ObjectId('67aae29b6790d2001b5a7953'),\n",
      " 'author': 'Mike',\n",
      " 'date': datetime.datetime(2025, 2, 11, 5, 39, 39, 756000),\n",
      " 'tags': ['mongodb', 'python', 'pymongo'],\n",
      " 'text': 'My first blog post!'}\n"
     ]
    }
   ],
   "source": [
    "pprint.pprint(posts.find_one({\"author\":\"Mike\"}))"
   ]
  },
  {
   "cell_type": "code",
   "execution_count": 18,
   "id": "4bfdd628-9790-4755-a697-59fc435e931c",
   "metadata": {},
   "outputs": [
    {
     "name": "stdout",
     "output_type": "stream",
     "text": [
      "{'_id': ObjectId('67aae29b6790d2001b5a7953'),\n",
      " 'author': 'Mike',\n",
      " 'date': datetime.datetime(2025, 2, 11, 5, 39, 39, 756000),\n",
      " 'tags': ['mongodb', 'python', 'pymongo'],\n",
      " 'text': 'My first blog post!'}\n",
      "{'_id': ObjectId('67aae29b6790d2001b5a7954'),\n",
      " 'author': 'Mike',\n",
      " 'date': datetime.datetime(2009, 11, 12, 11, 14),\n",
      " 'tags': ['bulk', 'insert'],\n",
      " 'text': 'Another post!'}\n"
     ]
    }
   ],
   "source": [
    "for post in posts.find({\"author\":\"Mike\"}):\n",
    "    pprint.pprint(post)"
   ]
  },
  {
   "cell_type": "code",
   "execution_count": null,
   "id": "71e6e41e-d002-469b-9100-50de6205c843",
   "metadata": {},
   "outputs": [],
   "source": []
  }
 ],
 "metadata": {
  "kernelspec": {
   "display_name": "Python [conda env:base] *",
   "language": "python",
   "name": "conda-base-py"
  },
  "language_info": {
   "codemirror_mode": {
    "name": "ipython",
    "version": 3
   },
   "file_extension": ".py",
   "mimetype": "text/x-python",
   "name": "python",
   "nbconvert_exporter": "python",
   "pygments_lexer": "ipython3",
   "version": "3.12.7"
  }
 },
 "nbformat": 4,
 "nbformat_minor": 5
}
