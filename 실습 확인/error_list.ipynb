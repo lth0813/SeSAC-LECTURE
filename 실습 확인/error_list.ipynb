{
 "cells": [
  {
   "cell_type": "markdown",
   "metadata": {},
   "source": [
    "# 1-1-1 판다스연습(데이터프레임)\n",
    "train_data = pd.read_csv('./data/train.csv')\n",
    "하위 폴더 및 파일 없음\n",
    " - 상위에 있는 URL로 들어가 데이터 다운 후 폴더 생성해서 집어 넣기"
   ]
  },
  {
   "cell_type": "markdown",
   "metadata": {
    "vscode": {
     "languageId": "plaintext"
    }
   },
   "source": [
    "# 1-3 판다스연습(데이터프레임 데이터조작, 개수, 정렬 등)\n",
    "1. 타이타닉 승객 데이터\n",
    " - 주석문을 해제하고 바로 밑에 있는 코드를 위로 복사/붙여넣기 해서 test.csv 먼저 만들어야함\n",
    "2. drop() 메서드\n",
    " - argument가 그냥 0, 1이 아닌 axis= 를 붙여야함"
   ]
  },
  {
   "cell_type": "markdown",
   "metadata": {},
   "source": [
    "# 1-5 판다스연습(피봇테이블)\n",
    "1. apply 예제 2 구간 오류\n",
    " - 마지막 apply 시킬 때 끝에 .reset_index(drop=True)를 붙여서 그룹화된 인덱스를 원래 인덱스와 맞춰야함"
   ]
  },
  {
   "cell_type": "markdown",
   "metadata": {},
   "source": [
    "# 1-7 seaborn.folium 패키지\n",
    "1. seaborn - lmplot 인자 size는 삭제되었음\n",
    " - 대신 height로 변경해야함\n",
    "2. tips.corr() 시도 시 비수치형 데이터 때문에 에러가 남\n",
    " - tips_corr = tips.select_dtypes(include='number') 등과 같이 변수 새로 지정\n",
    " - 히트맵이 출력 안되는 곳에 plt.show() 추가\n",
    "3. 히트맵 그래프 위에 실제 데이터 출력하는 구간\n",
    " - fmt = 'd'로 되어있는 부분에서 float이 포함되어 있기 때문에 '.1f' 로 변경\n",
    "4. tiles = 'Stamen Toner' 와 'Stamen Terrain'이 작동 안함\n",
    " - 일시적인 문제인지 확인 후 OpenStreetMap등으로 교체\n",
    " - 더 이상 무료로 제공되지 않는다고 함\n",
    "5. csv/json 파일 없음\n",
    " - https://github.com/PinkWink/DataScience/tree/master/data 에서 다운로드 할 것\n",
    " - map.choropleth 메서드가 클래스로 변경되면서 folium.Choropleth를 사용해야하고 마지막에 .add_to(map)을 해줘야 함"
   ]
  },
  {
   "cell_type": "code",
   "execution_count": null,
   "metadata": {},
   "outputs": [],
   "source": []
  }
 ],
 "metadata": {
  "kernelspec": {
   "display_name": "base",
   "language": "python",
   "name": "python3"
  },
  "language_info": {
   "codemirror_mode": {
    "name": "ipython",
    "version": 3
   },
   "file_extension": ".py",
   "mimetype": "text/x-python",
   "name": "python",
   "nbconvert_exporter": "python",
   "pygments_lexer": "ipython3",
   "version": "3.12.7"
  }
 },
 "nbformat": 4,
 "nbformat_minor": 2
}
