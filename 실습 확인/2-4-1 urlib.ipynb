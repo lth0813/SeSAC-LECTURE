{
 "cells": [
  {
   "cell_type": "markdown",
   "metadata": {
    "id": "Lk_sxRnN574B"
   },
   "source": [
    "# urllib 사용법 및 기본 스크랩핑"
   ]
  },
  {
   "cell_type": "code",
   "execution_count": 2,
   "metadata": {
    "id": "ox6m1No_574E"
   },
   "outputs": [],
   "source": [
    "import urllib.request as req"
   ]
  },
  {
   "cell_type": "code",
   "execution_count": 3,
   "metadata": {
    "id": "o9N9OQHm574F"
   },
   "outputs": [],
   "source": [
    "# 파일 URL\n",
    "img_url = \"https://img1.daumcdn.net/thumb/R1280x0/?scode=mtistory2&fname=https%3A%2F%2Ft1.daumcdn.net%2Fcfile%2Ftistory%2F993A193B5E9EA3AF14\"\n",
    "html_url = \"http://google.com\""
   ]
  },
  {
   "cell_type": "code",
   "execution_count": 4,
   "metadata": {
    "id": "VS8Fx7Xk574F"
   },
   "outputs": [],
   "source": [
    "# 다운받을 경로\n",
    "save_path1 = \"C:/Myexam/test1.jpg\"\n",
    "save_path2 = \"C:/Myexam/index.html\""
   ]
  },
  {
   "cell_type": "code",
   "execution_count": 5,
   "metadata": {
    "id": "FcFx3kYY574G",
    "outputId": "b6511b2f-75f2-47d8-b0e0-9eccca967163"
   },
   "outputs": [
    {
     "name": "stdout",
     "output_type": "stream",
     "text": [
      "Server: openresty\n",
      "Content-Type: image/jpeg\n",
      "Content-Length: 116553\n",
      "Last-Modified: Mon, 18 Nov 2024 03:35:31 GMT\n",
      "Accept-Ranges: bytes\n",
      "X-WCSS: dC1pbWcwMS1id2NhY2hlNTI6aGl0OjE3\n",
      "Cache-Control: max-age=4316\n",
      "Expires: Wed, 22 Jan 2025 08:44:34 GMT\n",
      "Date: Wed, 22 Jan 2025 07:32:38 GMT\n",
      "Connection: close\n",
      "Access-Control-Allow-Origin: *\n",
      "\n",
      "\n",
      "Date: Wed, 22 Jan 2025 07:32:39 GMT\n",
      "Expires: -1\n",
      "Cache-Control: private, max-age=0\n",
      "Content-Type: text/html; charset=ISO-8859-1\n",
      "Content-Security-Policy-Report-Only: object-src 'none';base-uri 'self';script-src 'nonce-AQfT4MtzvLd9Alh5pRXCPA' 'strict-dynamic' 'report-sample' 'unsafe-eval' 'unsafe-inline' https: http:;report-uri https://csp.withgoogle.com/csp/gws/other-hp\n",
      "P3P: CP=\"This is not a P3P policy! See g.co/p3phelp for more info.\"\n",
      "Server: gws\n",
      "X-XSS-Protection: 0\n",
      "X-Frame-Options: SAMEORIGIN\n",
      "Set-Cookie: AEC=AZ6Zc-W4MaRe6ZAT83TtwTH2ofPA1FA1-O-EobzLWq2iQRJAkUkEINbKUCg; expires=Mon, 21-Jul-2025 07:32:39 GMT; path=/; domain=.google.com; Secure; HttpOnly; SameSite=lax\n",
      "Set-Cookie: NID=520=p_5hiMockx90TOh-eCv5V6OeyE09ABTT30iXcWEjH8pM3m3pjA-BVWiJY95BNybA66JEc-Mn1FO2x1D-bhJMvWfysehysPdzcvlvDLV7M7qim0fZ4d2BmYOhZw9PdcCEmrsDJG0coZPpmrldVvKpiAdIFEnv_CQuuyEzTOQXkP7HPiEdqnfUNJ-0P2d-QjqgSwV_FuMDSTO3; expires=Thu, 24-Jul-2025 07:32:39 GMT; path=/; domain=.google.com; HttpOnly\n",
      "Accept-Ranges: none\n",
      "Vary: Accept-Encoding\n",
      "Connection: close\n",
      "Transfer-Encoding: chunked\n",
      "\n",
      "\n"
     ]
    }
   ],
   "source": [
    "# 예외 처리\n",
    "try:\n",
    "    file1, header1 = req.urlretrieve(img_url, save_path1)\n",
    "    file2, header2 = req.urlretrieve(html_url, save_path2)\n",
    "except Exception as e:\n",
    "    print(\"Download failed.\")\n",
    "    print(e)\n",
    "else:\n",
    "    # Header 정보 출력\n",
    "     print(header1)\n",
    "     print(header2)"
   ]
  },
  {
   "cell_type": "code",
   "execution_count": 6,
   "metadata": {
    "id": "iB78W0wv574G",
    "outputId": "7e877a83-c3e7-4c20-fe57-53c1417f487e"
   },
   "outputs": [
    {
     "name": "stdout",
     "output_type": "stream",
     "text": [
      "Filename1 C:/Myexam/test1.jpg\n",
      "Filename2 C:/Myexam/index.html\n",
      "\n"
     ]
    }
   ],
   "source": [
    "    # 다운로드 파일 정보\n",
    "    print(\"Filename1 {}\".format(file1))\n",
    "    print(\"Filename2 {}\".format(file2))\n",
    "    print()"
   ]
  },
  {
   "cell_type": "code",
   "execution_count": 7,
   "metadata": {
    "id": "5MFNPGEZ574H",
    "outputId": "e8cf4e28-b02e-4f3d-ea00-f2d6b0f018ee"
   },
   "outputs": [
    {
     "name": "stdout",
     "output_type": "stream",
     "text": [
      "Download Succeed.\n"
     ]
    }
   ],
   "source": [
    "    # 성공\n",
    "    print(\"Download Succeed.\")"
   ]
  },
  {
   "cell_type": "code",
   "execution_count": null,
   "metadata": {
    "id": "C7hseDDs574H"
   },
   "outputs": [],
   "source": []
  },
  {
   "cell_type": "code",
   "execution_count": null,
   "metadata": {
    "id": "xAEw5GQ7574H"
   },
   "outputs": [],
   "source": []
  }
 ],
 "metadata": {
  "colab": {
   "provenance": []
  },
  "kernelspec": {
   "display_name": "Python [conda env:base] *",
   "language": "python",
   "name": "conda-base-py"
  },
  "language_info": {
   "codemirror_mode": {
    "name": "ipython",
    "version": 3
   },
   "file_extension": ".py",
   "mimetype": "text/x-python",
   "name": "python",
   "nbconvert_exporter": "python",
   "pygments_lexer": "ipython3",
   "version": "3.12.7"
  }
 },
 "nbformat": 4,
 "nbformat_minor": 4
}
