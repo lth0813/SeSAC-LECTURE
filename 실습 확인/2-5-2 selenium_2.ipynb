{
 "cells": [
  {
   "cell_type": "markdown",
   "metadata": {},
   "source": [
    "### 네이버 기사 크롤링\n",
    "- http://news.naver.com/main/main.nhn?mode=LSD&mid=shm&sid1=105\n",
    "- thread 사용"
   ]
  },
  {
   "cell_type": "code",
   "execution_count": 46,
   "metadata": {},
   "outputs": [],
   "source": [
    "from selenium import webdriver"
   ]
  },
  {
   "cell_type": "code",
   "execution_count": 47,
   "metadata": {},
   "outputs": [],
   "source": [
    "from selenium.webdriver.chrome.service import Service as ChromeService\n",
    "from webdriver_manager.chrome import ChromeDriverManager"
   ]
  },
  {
   "cell_type": "code",
   "execution_count": 48,
   "metadata": {},
   "outputs": [],
   "source": [
    "from selenium.webdriver.common.by import By"
   ]
  },
  {
   "cell_type": "code",
   "execution_count": 49,
   "metadata": {},
   "outputs": [],
   "source": [
    "article_list = []\n",
    "\n",
    "def get_article(page):\n",
    "    ## driver = webdriver.Chrome(\"C:/Myexam/chromedriver/chromedriver.exe\")\n",
    "    \n",
    "    driver = webdriver.Chrome(service=ChromeService(ChromeDriverManager().install()))\n",
    "    \n",
    "    driver.get(\"https://news.naver.com/section/10\" + str(page))\n",
    "    articles = driver.find_elements(By.CSS_SELECTOR,'#newsct li')\n",
    "    \n",
    "\n",
    "    for article in articles:\n",
    "        try:\n",
    "            tmp_elements = article.find_elements(By.CSS_SELECTOR, '.sa_text strong')\n",
    "            if tmp_elements:\n",
    "                title = tmp_elements[0].text\n",
    "            else:\n",
    "                tmp_elements2 = article.find_elements(By.CSS_SELECTOR, '.ss_text a')\n",
    "                if tmp_elements2:\n",
    "                    title = tmp_elements2[0].text\n",
    "                else:\n",
    "                    title = \"해당 정보 없음\"\n",
    "        \n",
    "            article_list.append(title)\n",
    "        except:\n",
    "            print(\"에러 발생!\")\n",
    "\n",
    "    print(\"end :\", page)\n",
    "\n",
    "    driver.quit()"
   ]
  },
  {
   "cell_type": "code",
   "execution_count": 50,
   "metadata": {},
   "outputs": [
    {
     "name": "stdout",
     "output_type": "stream",
     "text": [
      "end : 1\n",
      "end : 2\n",
      "end : 3\n",
      "end : 4\n",
      "CPU times: total: 406 ms\n",
      "Wall time: 34.9 s\n"
     ]
    }
   ],
   "source": [
    "%%time\n",
    "for page in range(1, 5):\n",
    "    get_article(page)"
   ]
  },
  {
   "cell_type": "code",
   "execution_count": 51,
   "metadata": {},
   "outputs": [
    {
     "data": {
      "text/plain": [
       "(201,\n",
       " ['현대차, 수소전기 통근버스 도입 확대…\"원더모빌리티에 2000대 공급\"',\n",
       "  '\"공기청정기 필터 아무거나 쓰지마세요\" 8개제품 사용금지 물질 검출',\n",
       "  'LGD, 작년 영업손 5606억…전년비 적자 폭 2조 줄여',\n",
       "  \"LGD는 'OLED', LG이노텍은 'FC-BGA' 겨냥…성장 발판 마련\",\n",
       "  'HMM, 기업가치 제고 계획 내놨다…“주주환원 2.5조원 이상”',\n",
       "  '與 만난 이창용 “정치 생각 전혀 없다”…정경 분리 강조 [이런정치]',\n",
       "  '\"응애~\" 아기 울음소리 커졌다…9년 만의 반등 \\'눈앞\\'',\n",
       "  '현대건설, 지난해 1.2조 영업손실…23년 만에 적자 기록',\n",
       "  '사전청약 취소 피해자 713명 구제',\n",
       "  '업비트 임직원 사칭 주의보…“가상자산 사업 상담해 드려요”',\n",
       "  '美 역사상 주식 가장 비쌀 때 취임한 트럼프…관세가 핵심 변수',\n",
       "  '양자컴퓨팅, M&A 타깃 될 듯…빅테크 물밑 경쟁 시작됐나',\n",
       "  '오늘 밤 CPI 발표…올해 내내 시장 최대 변수는 인플레?',\n",
       "  '올해 美 증시, 20% 급락 vs 16% 상승…극과 극 전망 왜?',\n",
       "  '해당 정보 없음',\n",
       "  '해당 정보 없음',\n",
       "  '뉴욕증시, 트럼프 랠리 가속화·AI 낙관론·기업 호실적…상승 출발',\n",
       "  '\"시작은 큰 규모,세부사항은 나중에\"…손정의 트럼프 다루는 법 화제',\n",
       "  '방 셋에 화장실 둘… ‘21평’ 아파트입니다',\n",
       "  '“한국, 20년간 10대 수출품목 그대로… 끓는 냄비 속 개구리”',\n",
       "  '뉴욕증시, AI 인프라 투자·빅테크 실적 기대에 상승…넷플릭스 12% ↑',\n",
       "  '고려아연, 영풍 측 의결권 무력화 시도 …주총 열릴까?',\n",
       "  'AI 낙관론 +기업실적 예상밖 호조에 美증시 상승',\n",
       "  '에이피알, 뷰티기기 잘 나갈수록 리스크도 부각…왜?',\n",
       "  \"한미약품, 집안싸움 장기화에 실적 부진한데…임종훈 결단 '하세월'\",\n",
       "  '현대차증권, 유증 안고 밸류업 공시…소액주주 마음 잡을까',\n",
       "  '‘신용 인플레이션’에 돈 빌리기 어려워졌다',\n",
       "  '여당 “추경 왜 말하나, 정치할건가” 이창용 “정치 관심없다”',\n",
       "  '“올레드에 힘 실었더니 돈이 벌리네”…흑자전환 성공한 LG디스플레이',\n",
       "  \"'계엄 터지니 마비' 업비트·빗썸, 역대 최대 금액 배상…얼마길래\"])"
      ]
     },
     "execution_count": 51,
     "metadata": {},
     "output_type": "execute_result"
    }
   ],
   "source": [
    "len(article_list), article_list[:30]"
   ]
  },
  {
   "cell_type": "markdown",
   "metadata": {},
   "source": [
    "##### pandas사용"
   ]
  },
  {
   "cell_type": "code",
   "execution_count": 52,
   "metadata": {},
   "outputs": [],
   "source": [
    "import threading\n",
    "import pandas as pd\n",
    "\n",
    "df = pd.DataFrame(columns=[\"category\",\"title\"])"
   ]
  },
  {
   "cell_type": "code",
   "execution_count": 53,
   "metadata": {},
   "outputs": [],
   "source": [
    "def get_article(page):\n",
    "    #driver = webdriver.Chrome(\"C:/Myexam/chromedriver/chromedriver.exe\")\n",
    "    \n",
    "    driver = webdriver.Chrome(service=ChromeService(ChromeDriverManager().install()))\n",
    "    \n",
    "    driver.get(\n",
    "        \"https://news.naver.com/section/10\" + str(page))\n",
    "    category = driver.find_element(By.CSS_SELECTOR, '.ct_snb_h2_a').get_attribute(\"innerText\")\n",
    "    articles = driver.find_elements(By.CSS_SELECTOR,'#newsct li')\n",
    "\n",
    "    for article in articles:\n",
    "        try:\n",
    "            tmp_elements = article.find_elements(By.CSS_SELECTOR, '.sa_text strong')\n",
    "            if tmp_elements:\n",
    "                title = tmp_elements[0].text\n",
    "            else:\n",
    "                tmp_elements2 = article.find_elements(By.CSS_SELECTOR, '.ss_text a')\n",
    "                if tmp_elements2:\n",
    "                    title = tmp_elements2[0].text\n",
    "                else:\n",
    "                    title = \"해당 정보 없음\"\n",
    "        except:\n",
    "            print(\"에러 발생!\")\n",
    "        \n",
    "    \n",
    "        df.loc[len(df)] = {\n",
    "            \"category\": category,\n",
    "            \"title\": title,\n",
    "        }\n",
    "    print(\"end :\", page+1)\n",
    "\n",
    "    driver.quit()"
   ]
  },
  {
   "cell_type": "code",
   "execution_count": 54,
   "metadata": {},
   "outputs": [
    {
     "name": "stdout",
     "output_type": "stream",
     "text": [
      "end : 1\n",
      "end : 2\n",
      "end : 3\n",
      "end : 4\n",
      "end : 5\n",
      "end : 6\n",
      "CPU times: total: 859 ms\n",
      "Wall time: 53.2 s\n"
     ]
    }
   ],
   "source": [
    "%%time\n",
    "for page in range(0, 6):\n",
    "    get_article(page)"
   ]
  },
  {
   "cell_type": "code",
   "execution_count": 55,
   "metadata": {},
   "outputs": [
    {
     "data": {
      "text/html": [
       "<div>\n",
       "<style scoped>\n",
       "    .dataframe tbody tr th:only-of-type {\n",
       "        vertical-align: middle;\n",
       "    }\n",
       "\n",
       "    .dataframe tbody tr th {\n",
       "        vertical-align: top;\n",
       "    }\n",
       "\n",
       "    .dataframe thead th {\n",
       "        text-align: right;\n",
       "    }\n",
       "</style>\n",
       "<table border=\"1\" class=\"dataframe\">\n",
       "  <thead>\n",
       "    <tr style=\"text-align: right;\">\n",
       "      <th></th>\n",
       "      <th>category</th>\n",
       "      <th>title</th>\n",
       "    </tr>\n",
       "  </thead>\n",
       "  <tbody>\n",
       "    <tr>\n",
       "      <th>0</th>\n",
       "      <td>정치</td>\n",
       "      <td>'김해 빨갱이' 발언 국힘 김해시의원 결국 사과 \"용서 구해\"</td>\n",
       "    </tr>\n",
       "    <tr>\n",
       "      <th>1</th>\n",
       "      <td>정치</td>\n",
       "      <td>트럼프 '北 핵보유국' 표현에 \"핵 잠재력 향상 논의해야\"[오세훈 신년회견]</td>\n",
       "    </tr>\n",
       "    <tr>\n",
       "      <th>2</th>\n",
       "      <td>정치</td>\n",
       "      <td>김성훈 경호차장 “대통령 생일잔치는 당연…영장집행 무력사용 지시 없었어”</td>\n",
       "    </tr>\n",
       "    <tr>\n",
       "      <th>3</th>\n",
       "      <td>정치</td>\n",
       "      <td>野지지율 하락하자 잠룡들 깨어났다…\"개헌\" 이재명 압박</td>\n",
       "    </tr>\n",
       "    <tr>\n",
       "      <th>4</th>\n",
       "      <td>정치</td>\n",
       "      <td>[단독] ‘지지율 역전’ 민주당…여론조사 업체 관리 강화법 발의</td>\n",
       "    </tr>\n",
       "    <tr>\n",
       "      <th>...</th>\n",
       "      <td>...</td>\n",
       "      <td>...</td>\n",
       "    </tr>\n",
       "    <tr>\n",
       "      <th>298</th>\n",
       "      <td>IT/과학</td>\n",
       "      <td>최소 10년·1조 필요 신약개발 … 구글, AI 치료제로 한계 돌파</td>\n",
       "    </tr>\n",
       "    <tr>\n",
       "      <th>299</th>\n",
       "      <td>IT/과학</td>\n",
       "      <td>AI, 이용자 연령·취향 맞춰 '핫플' 알려준다</td>\n",
       "    </tr>\n",
       "    <tr>\n",
       "      <th>300</th>\n",
       "      <td>IT/과학</td>\n",
       "      <td>설연휴 귀성길·귀경길, 이때는 꼭 피하세요</td>\n",
       "    </tr>\n",
       "    <tr>\n",
       "      <th>301</th>\n",
       "      <td>IT/과학</td>\n",
       "      <td>SKT 유영상, 美 AI 프로젝트 소식에 \"우리도 생겨야 할텐데\"</td>\n",
       "    </tr>\n",
       "    <tr>\n",
       "      <th>302</th>\n",
       "      <td>IT/과학</td>\n",
       "      <td>\"트럼프, 웹3 산업 재편 기회 노릴 것\"…'갈라파고스' 게임 정책 바뀔까</td>\n",
       "    </tr>\n",
       "  </tbody>\n",
       "</table>\n",
       "<p>303 rows × 2 columns</p>\n",
       "</div>"
      ],
      "text/plain": [
       "    category                                       title\n",
       "0         정치          '김해 빨갱이' 발언 국힘 김해시의원 결국 사과 \"용서 구해\"\n",
       "1         정치  트럼프 '北 핵보유국' 표현에 \"핵 잠재력 향상 논의해야\"[오세훈 신년회견]\n",
       "2         정치    김성훈 경호차장 “대통령 생일잔치는 당연…영장집행 무력사용 지시 없었어”\n",
       "3         정치              野지지율 하락하자 잠룡들 깨어났다…\"개헌\" 이재명 압박\n",
       "4         정치         [단독] ‘지지율 역전’ 민주당…여론조사 업체 관리 강화법 발의\n",
       "..       ...                                         ...\n",
       "298    IT/과학       최소 10년·1조 필요 신약개발 … 구글, AI 치료제로 한계 돌파\n",
       "299    IT/과학                  AI, 이용자 연령·취향 맞춰 '핫플' 알려준다\n",
       "300    IT/과학                     설연휴 귀성길·귀경길, 이때는 꼭 피하세요\n",
       "301    IT/과학        SKT 유영상, 美 AI 프로젝트 소식에 \"우리도 생겨야 할텐데\"\n",
       "302    IT/과학   \"트럼프, 웹3 산업 재편 기회 노릴 것\"…'갈라파고스' 게임 정책 바뀔까\n",
       "\n",
       "[303 rows x 2 columns]"
      ]
     },
     "execution_count": 55,
     "metadata": {},
     "output_type": "execute_result"
    }
   ],
   "source": [
    "df"
   ]
  }
 ],
 "metadata": {
  "kernelspec": {
   "display_name": "base",
   "language": "python",
   "name": "python3"
  },
  "language_info": {
   "codemirror_mode": {
    "name": "ipython",
    "version": 3
   },
   "file_extension": ".py",
   "mimetype": "text/x-python",
   "name": "python",
   "nbconvert_exporter": "python",
   "pygments_lexer": "ipython3",
   "version": "3.12.7"
  }
 },
 "nbformat": 4,
 "nbformat_minor": 4
}
