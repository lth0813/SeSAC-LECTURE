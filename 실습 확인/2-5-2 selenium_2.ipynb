{
 "cells": [
  {
   "cell_type": "markdown",
   "metadata": {},
   "source": [
    "### 네이버 기사 크롤링\n",
    "- http://news.naver.com/main/main.nhn?mode=LSD&mid=shm&sid1=105\n",
    "- thread 사용"
   ]
  },
  {
   "cell_type": "code",
   "execution_count": 2,
   "metadata": {},
   "outputs": [],
   "source": [
    "from selenium import webdriver"
   ]
  },
  {
   "cell_type": "code",
   "execution_count": 3,
   "metadata": {},
   "outputs": [],
   "source": [
    "from selenium.webdriver.chrome.service import Service as ChromeService\n",
    "from webdriver_manager.chrome import ChromeDriverManager"
   ]
  },
  {
   "cell_type": "code",
   "execution_count": 4,
   "metadata": {},
   "outputs": [],
   "source": [
    "from selenium.webdriver.common.by import By"
   ]
  },
  {
   "cell_type": "code",
   "execution_count": 5,
   "metadata": {},
   "outputs": [],
   "source": [
    "article_list = []\n",
    "\n",
    "def get_article(page):\n",
    "    ## driver = webdriver.Chrome(\"C:/Myexam/chromedriver/chromedriver.exe\")\n",
    "    \n",
    "    driver = webdriver.Chrome(service=ChromeService(ChromeDriverManager().install()))\n",
    "    \n",
    "    driver.get(\"https://news.naver.com/section/10\" + str(page))\n",
    "    articles = driver.find_elements(By.CSS_SELECTOR,'#newsct li')\n",
    "    \n",
    "\n",
    "    for article in articles:\n",
    "        try:\n",
    "            tmp_elements = article.find_elements(By.CSS_SELECTOR, '.sa_text strong')\n",
    "            if tmp_elements:\n",
    "                title = tmp_elements[0].text\n",
    "            else:\n",
    "                tmp_elements2 = article.find_elements(By.CSS_SELECTOR, '.ss_text a')\n",
    "                if tmp_elements2:\n",
    "                    title = tmp_elements2[0].text\n",
    "                else:\n",
    "                    title = \"해당 정보 없음\"\n",
    "        \n",
    "            article_list.append(title)\n",
    "        except:\n",
    "            print(\"에러 발생!\")\n",
    "\n",
    "    print(\"end :\", page)\n",
    "\n",
    "    driver.quit()"
   ]
  },
  {
   "cell_type": "code",
   "execution_count": 6,
   "metadata": {},
   "outputs": [
    {
     "name": "stdout",
     "output_type": "stream",
     "text": [
      "end : 1\n",
      "end : 2\n",
      "end : 3\n",
      "end : 4\n",
      "CPU times: total: 500 ms\n",
      "Wall time: 34 s\n"
     ]
    }
   ],
   "source": [
    "%%time\n",
    "for page in range(1, 5):\n",
    "    get_article(page)"
   ]
  },
  {
   "cell_type": "code",
   "execution_count": 28,
   "metadata": {},
   "outputs": [
    {
     "data": {
      "text/plain": [
       "(202,\n",
       " ['김병환 “올 가계부채 증가 3.8%이내…전세대출도 소득자료 징구”',\n",
       "  '[속보] 배민, 내달 26일부터 수수료 내린다',\n",
       "  '신한 청년금융지원 패키지·KB 아이사랑적금 등 상생·협력 신상품 우수사례 선정',\n",
       "  '오세훈 \"다세대·다가구주택 매입해 \\'미리내집\\' 공급 확대 검토\"',\n",
       "  '대명소노, 티웨이항공 경영권 인수 본격 추진',\n",
       "  '김동관 한화 부회장, 트럼프 취임식·VIP 무도회 참석',\n",
       "  '현대모비스, 뒷좌석 탑승객 안전 부주의 감지 시스템 개발…아이들 카시트 착용 여부도 확인한다',\n",
       "  '법원 “고려아연 임시주총 집중투표제 도입 안돼” MBK 손들어줘',\n",
       "  '설 연휴 얇아진 지갑, 가성비·실속형 소비 확산…`지출 줄이겠다` 32%',\n",
       "  '공기청정기 비정품 필터 제품 8개에서 ‘살생물제’ 검출',\n",
       "  '관광객도 쓰레기도 넘쳐난다…‘천국의 섬’ 발리의 현실',\n",
       "  '트럼프, 北 부동산 개발 눈독?… “난 정은 좋아해” 취임 직후 또 언급',\n",
       "  '“사망자 무섭게 늘고 있다”…어떤 항생제도 안 듣는 ‘슈퍼 세균’ 확산',\n",
       "  '화염으로 뒤덮였던 LA, ‘핑크’ 뒤집어썼다… 무슨 일?',\n",
       "  '해당 정보 없음',\n",
       "  '해당 정보 없음',\n",
       "  '“22층 반년 만에 구조대 도착”…SK하닉, 트럼프 AI 투자 발표에 ‘활짝’ [투자360]',\n",
       "  '“오를 듯 안 오르네”… 힘없는 게임주, 반등은 언제',\n",
       "  \"'민간외교관' 김동관, 트럼프 2기 핵심 인사들 만나…조선·방산 협력 모색\",\n",
       "  \"'세계 1등' 유튜버 미스터비스트, 틱톡 인수전 공식 합류\",\n",
       "  '코스피, 두 달 반 만에 2540선 마감…SK하이닉스 3%↑',\n",
       "  '환율, 트럼프 경계심에 하락폭 축소…1.9원 내린 1,437.6원',\n",
       "  '트럼프 신고식 겪을 자동차·배터리주…수혜주vs피해주 향방은?',\n",
       "  '현대제철, 올해 1801t 판매 계획…‘고로+전기로’ 친환경철 내년부터 양산 [비즈360]',\n",
       "  '티웨이항공 경영권 분쟁 고조…티웨이홀딩스 이틀째 급등(종합)',\n",
       "  \"국내 증시 회복에 외국인만 '활짝'...웃지 못하는 개인\",\n",
       "  '서울시-현대차 GBC 협상, 이르면 2월 재개…55층 유지하나',\n",
       "  \"코스피 美관세 우려 덜자 '훨훨' 두달 반만에 2,540대 회복(종합)\",\n",
       "  '트럼프 첫 행정명령에 울고 웃은 한국 기업들',\n",
       "  '욕조서 발견된 日여배우, 이 병에 사망?…겨울도 방심하면 안되는 이유'])"
      ]
     },
     "execution_count": 28,
     "metadata": {},
     "output_type": "execute_result"
    }
   ],
   "source": [
    "len(article_list), article_list[:30]"
   ]
  },
  {
   "cell_type": "markdown",
   "metadata": {},
   "source": [
    "##### pandas사용"
   ]
  },
  {
   "cell_type": "code",
   "execution_count": 9,
   "metadata": {},
   "outputs": [],
   "source": [
    "import threading\n",
    "import pandas as pd\n",
    "\n",
    "df = pd.DataFrame(columns=[\"title\"])"
   ]
  },
  {
   "cell_type": "code",
   "execution_count": 10,
   "metadata": {},
   "outputs": [],
   "source": [
    "def get_article(page):\n",
    "    #driver = webdriver.Chrome(\"C:/Myexam/chromedriver/chromedriver.exe\")\n",
    "    \n",
    "    driver = webdriver.Chrome(service=ChromeService(ChromeDriverManager().install()))\n",
    "    \n",
    "    driver.get(\n",
    "        \"https://news.naver.com/section/10\" + str(page))\n",
    "    articles = driver.find_elements(By.CSS_SELECTOR,'#newsct li')\n",
    "\n",
    "    for article in articles:\n",
    "        try:\n",
    "            tmp_elements = article.find_elements(By.CSS_SELECTOR, '.sa_text strong')\n",
    "            if tmp_elements:\n",
    "                title = tmp_elements[0].text\n",
    "            else:\n",
    "                tmp_elements2 = article.find_elements(By.CSS_SELECTOR, '.ss_text a')\n",
    "                if tmp_elements2:\n",
    "                    title = tmp_elements2[0].text\n",
    "                else:\n",
    "                    title = \"해당 정보 없음\"\n",
    "        except:\n",
    "            print(\"에러 발생!\")\n",
    "        \n",
    "    \n",
    "        df.loc[len(df)] = {\n",
    "            \"title\": title,\n",
    "        }\n",
    "\n",
    "    driver.quit()"
   ]
  },
  {
   "cell_type": "code",
   "execution_count": 11,
   "metadata": {},
   "outputs": [
    {
     "name": "stdout",
     "output_type": "stream",
     "text": [
      "CPU times: total: 438 ms\n",
      "Wall time: 32.8 s\n"
     ]
    }
   ],
   "source": [
    "%%time\n",
    "for page in range(1, 5):\n",
    "    get_article(page)"
   ]
  },
  {
   "cell_type": "code",
   "execution_count": 12,
   "metadata": {},
   "outputs": [
    {
     "data": {
      "text/html": [
       "<div>\n",
       "<style scoped>\n",
       "    .dataframe tbody tr th:only-of-type {\n",
       "        vertical-align: middle;\n",
       "    }\n",
       "\n",
       "    .dataframe tbody tr th {\n",
       "        vertical-align: top;\n",
       "    }\n",
       "\n",
       "    .dataframe thead th {\n",
       "        text-align: right;\n",
       "    }\n",
       "</style>\n",
       "<table border=\"1\" class=\"dataframe\">\n",
       "  <thead>\n",
       "    <tr style=\"text-align: right;\">\n",
       "      <th></th>\n",
       "      <th>title</th>\n",
       "    </tr>\n",
       "  </thead>\n",
       "  <tbody>\n",
       "    <tr>\n",
       "      <th>0</th>\n",
       "      <td>中 공급과잉·고환율·파업리스크…현대제철 ‘삼중고’(종합)</td>\n",
       "    </tr>\n",
       "    <tr>\n",
       "      <th>1</th>\n",
       "      <td>주총시즌 앞두고 또 다시 행동주의·경영권분쟁 테마주 기승</td>\n",
       "    </tr>\n",
       "    <tr>\n",
       "      <th>2</th>\n",
       "      <td>환경부, 원더모빌리티·삼성물산 등과 수소 통근버스 도입 MOU</td>\n",
       "    </tr>\n",
       "    <tr>\n",
       "      <th>3</th>\n",
       "      <td>임직원 사칭해 SNS서 사기…업비트 \"사칭 주의 당부\"</td>\n",
       "    </tr>\n",
       "    <tr>\n",
       "      <th>4</th>\n",
       "      <td>GB 내 파크골프장 설치 허용… 주택용 태양광 설치도 허가제→신고제 전환</td>\n",
       "    </tr>\n",
       "    <tr>\n",
       "      <th>...</th>\n",
       "      <td>...</td>\n",
       "    </tr>\n",
       "    <tr>\n",
       "      <th>198</th>\n",
       "      <td>중국 과학자, ‘인공태양’ 1억도씨에서 1066초 유지 성공</td>\n",
       "    </tr>\n",
       "    <tr>\n",
       "      <th>199</th>\n",
       "      <td>트럼프 “대중국 10% 관세 2월1일 부과 고려…EU도 관세 대상”</td>\n",
       "    </tr>\n",
       "    <tr>\n",
       "      <th>200</th>\n",
       "      <td>머스크에 힘 실어주는 트럼프…틱톡 인수 허용에 우주위 폐지도 검토</td>\n",
       "    </tr>\n",
       "    <tr>\n",
       "      <th>201</th>\n",
       "      <td>“나라 사랑해서” 경찰 폭행?…트럼프가 곧장 사면한 ‘폭도들’ 정체</td>\n",
       "    </tr>\n",
       "    <tr>\n",
       "      <th>202</th>\n",
       "      <td>머스크 '정부효율부' 윤곽…백악관 직속, 부처 기밀 접근 권한</td>\n",
       "    </tr>\n",
       "  </tbody>\n",
       "</table>\n",
       "<p>203 rows × 1 columns</p>\n",
       "</div>"
      ],
      "text/plain": [
       "                                        title\n",
       "0             中 공급과잉·고환율·파업리스크…현대제철 ‘삼중고’(종합)\n",
       "1             주총시즌 앞두고 또 다시 행동주의·경영권분쟁 테마주 기승\n",
       "2          환경부, 원더모빌리티·삼성물산 등과 수소 통근버스 도입 MOU\n",
       "3              임직원 사칭해 SNS서 사기…업비트 \"사칭 주의 당부\"\n",
       "4    GB 내 파크골프장 설치 허용… 주택용 태양광 설치도 허가제→신고제 전환\n",
       "..                                        ...\n",
       "198         중국 과학자, ‘인공태양’ 1억도씨에서 1066초 유지 성공\n",
       "199     트럼프 “대중국 10% 관세 2월1일 부과 고려…EU도 관세 대상”\n",
       "200      머스크에 힘 실어주는 트럼프…틱톡 인수 허용에 우주위 폐지도 검토\n",
       "201     “나라 사랑해서” 경찰 폭행?…트럼프가 곧장 사면한 ‘폭도들’ 정체\n",
       "202        머스크 '정부효율부' 윤곽…백악관 직속, 부처 기밀 접근 권한\n",
       "\n",
       "[203 rows x 1 columns]"
      ]
     },
     "execution_count": 12,
     "metadata": {},
     "output_type": "execute_result"
    }
   ],
   "source": [
    "df"
   ]
  },
  {
   "cell_type": "code",
   "execution_count": 13,
   "metadata": {},
   "outputs": [
    {
     "data": {
      "text/plain": [
       "(203, 1)"
      ]
     },
     "execution_count": 13,
     "metadata": {},
     "output_type": "execute_result"
    }
   ],
   "source": [
    "df.shape"
   ]
  },
  {
   "cell_type": "code",
   "execution_count": null,
   "metadata": {},
   "outputs": [],
   "source": []
  }
 ],
 "metadata": {
  "kernelspec": {
   "display_name": "Python [conda env:base] *",
   "language": "python",
   "name": "conda-base-py"
  },
  "language_info": {
   "codemirror_mode": {
    "name": "ipython",
    "version": 3
   },
   "file_extension": ".py",
   "mimetype": "text/x-python",
   "name": "python",
   "nbconvert_exporter": "python",
   "pygments_lexer": "ipython3",
   "version": "3.12.7"
  }
 },
 "nbformat": 4,
 "nbformat_minor": 4
}
