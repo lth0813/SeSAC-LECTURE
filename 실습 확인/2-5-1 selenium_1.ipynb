{
 "cells": [
  {
   "cell_type": "markdown",
   "metadata": {},
   "source": [
    "## Selenium 1\n",
    "\n",
    "1. Install Selenim and Chrome Driver\n",
    "\n",
    "2. Selenium의 기본 사용법"
   ]
  },
  {
   "cell_type": "markdown",
   "metadata": {},
   "source": [
    "## 1. Install Selenim and Chrome Driver"
   ]
  },
  {
   "cell_type": "markdown",
   "metadata": {},
   "source": [
    "\n",
    "- 크롬 드라이버 다운로드\n",
    "    - 크롬 브라우져를 사용하기 위해 크롬 드라이버를 다운로드 해야 합니다.\n",
    "    - https://chromedriver.chromium.org/downloads\n",
    "    - https://sites.google.com/a/chromium.org/chromedriver/downloads\n",
    "    - https://chromedriver.storage.googleapis.com/index.html?path=2.42/\n",
    "\n",
    "\n",
    "- (참고) 환경변수 추가\n",
    "    - 내컴퓨터 오른쪽 클릭 -> 속성 -> 고급시스템설정 -> 환경변수 -> 시스템변수의 Path 더블클릭 -> chromedriver path를\n",
    "추가\n",
    "    - 예: C:₩Users₩(사용자계정이름)₩chromdriver 으로 추가\n",
    "    - 환경변수 추가 후에도 드라이버가 실행되지 않는 경우에는 아래의 두가지 방법의 사용이 가능\n",
    "        - 크롬 드라이버 파일을 동일한 디렉토리에 위치해서 실행\n",
    "        - 크롬 드라이버를 호출하는 함수에 아규먼트로 크롬 드라이버의 파일경로를 추가`"
   ]
  },
  {
   "cell_type": "markdown",
   "metadata": {},
   "source": [
    "패키지 호출"
   ]
  },
  {
   "cell_type": "code",
   "execution_count": 5,
   "metadata": {},
   "outputs": [],
   "source": [
    "# !pip install selenium"
   ]
  },
  {
   "cell_type": "code",
   "execution_count": 6,
   "metadata": {},
   "outputs": [],
   "source": [
    "# !pip install webdriver_manager"
   ]
  },
  {
   "cell_type": "code",
   "execution_count": 7,
   "metadata": {},
   "outputs": [],
   "source": [
    "from selenium import webdriver"
   ]
  },
  {
   "cell_type": "code",
   "execution_count": 8,
   "metadata": {},
   "outputs": [],
   "source": [
    "from selenium.webdriver.chrome.service import Service as ChromeService\n",
    "from webdriver_manager.chrome import ChromeDriverManager"
   ]
  },
  {
   "cell_type": "markdown",
   "metadata": {},
   "source": [
    "- 브라우져 열기 - "
   ]
  },
  {
   "cell_type": "code",
   "execution_count": 10,
   "metadata": {},
   "outputs": [],
   "source": [
    "driver = webdriver.Chrome(service=ChromeService(ChromeDriverManager().install()))"
   ]
  },
  {
   "cell_type": "markdown",
   "metadata": {},
   "source": [
    "## 2. Selenium의 기본 사용법\n",
    "1. 셀레니움이란?\n",
    "1. 웹 드라이버 객체 만들기 및 페이지 이동\n",
    "1. 윈도우 사이즈 조절\n",
    "1. 브라우져 스크롤 이동\n",
    "1. Alert 다루기\n",
    "1. 입력창에 문자열 입력하기\n",
    "1. 버튼 클릭하기\n",
    "1. 텍스트 데이터 가져오기\n",
    "1. 속성 데이터 가져오기\n",
    "1. 윈도우 및 브라우져 종료하기"
   ]
  },
  {
   "cell_type": "markdown",
   "metadata": {},
   "source": [
    "### 2.1 셀레니움이란?\n",
    "- 셀레니움은 http://www.seleniumhq.org/ 웹페이지에서 자세한 내용과 사용법을 확인하실수 있습니다. \n",
    "- 셀레니움은 브라우져를 자동화하는 툴으로 테스팅을 목적으로 웹 어플리케이션을 자동화하는 목적으로 만들어졌지만 테스팅에 국한되서 사용 되지는 않습니다.\n",
    "- 웹 기반의 작업들을 자동화하여 업무 효율성을 높일수 있으며 다양한 언어와 다양한 브라우져를 지원합니다.\n",
    "- http://www.seleniumhq.org/about/platforms.jsp 웹 페이지에서 지원하는 브라우져와 지원하는 OS와 지원하는 언어를 확인하실수 있습니다. \n",
    "- 셀레니움은 Firefox, Internet Explorer, Safari, Opera Chrome 브라우져를 지원합니다. \n",
    "- 지원하는 OS로는 Microsoft Windows, Apple OS X, Linux를 지원하며, 지원하는 언어는 C#, Haskell, Java, Javascript, Object-C, Perl, PHP, Python, R, Ruby를 지원합니다."
   ]
  },
  {
   "cell_type": "markdown",
   "metadata": {},
   "source": [
    "### 2.2 웹 드라이버 객체 만들기 및 페이지 이동\n",
    "- driver의 get 함수를 이용하여 크롬 브라우져에서 페이지를 이동할수 있습니다.\n",
    "- 아래의 코드는 naver웹 페이지로 이동합니다.\n",
    "- url은 http를 꼭 포함해야 합니다"
   ]
  },
  {
   "cell_type": "code",
   "execution_count": 14,
   "metadata": {},
   "outputs": [],
   "source": [
    "driver.get(\"https://www.naver.com/\")"
   ]
  },
  {
   "cell_type": "markdown",
   "metadata": {},
   "source": [
    "### 2.3 윈도우 사이즈 조절\n",
    "- driver의 set_window_size 함수를 이용하여 윈도우 사이즈를 조절할수 있습니다.\n",
    "- 함수내의 첫번째 파라미터는 가로 사이즈를 나타내며 두번째 파라미터는 세로 사이즈를 나타냅니다.\n",
    "- 사이즈의 단위 는 픽셀입니다."
   ]
  },
  {
   "cell_type": "code",
   "execution_count": 16,
   "metadata": {},
   "outputs": [],
   "source": [
    "# (가로, 세로) - 1024 * 768 픽셀의 사이즈로 윈도우 브라우져를 열어줍니다.\n",
    "driver.set_window_size(1024, 768)"
   ]
  },
  {
   "cell_type": "markdown",
   "metadata": {},
   "source": [
    "### 2.4 브라우져의 스크롤 위치 이동\n",
    "- 브라우져의 스크롤 위치 이동은 selenium의 webdriver에 따로 기능이 없기 때문에 javascript 코드를 실행 하여 브라우져 스크롤 위치를 이동시킬수 있습니다. \n",
    "- javascirpt의 window.scrollTo 함수의 첫번째 파라미터는 가로축 위치를 나타내며 아 래 코드와 같이 200으로 설정을 하면 왼쪽에서 200픽셀만큼의 브라우져 스크롤 위치를 이동함을 의미합니다. \n",
    "- 두번째 파라미 터는 세로축의 위치를 나타내며 아래의 코드와 같이 300으로 지정을 하면 위에서 아래로 300픽셀 만큼 스크롤이 내려감을 의미합니다."
   ]
  },
  {
   "cell_type": "code",
   "execution_count": 18,
   "metadata": {},
   "outputs": [],
   "source": [
    "driver.execute_script(\"window.scrollTo(200, 300);\")"
   ]
  },
  {
   "cell_type": "markdown",
   "metadata": {},
   "source": [
    "### 2.5 Alert 다루기\n",
    "- 크롤링이나 자동화를 하는 중간에 alert 메시지가 나오는 경우가 있습니다.\n",
    "- 이럴때 크롤링이나 자동화를 계속 하게 하기 위해 alert 메시지를 다룰줄 알아야 합니"
   ]
  },
  {
   "cell_type": "code",
   "execution_count": 20,
   "metadata": {},
   "outputs": [
    {
     "name": "stdout",
     "output_type": "stream",
     "text": [
      "alert 없음\n"
     ]
    }
   ],
   "source": [
    "# alert 체크\n",
    "try:\n",
    "    alert = driver.switch_to.alert\n",
    "    print(alert.text)\n",
    "except:\n",
    "    print('alert 없음')"
   ]
  },
  {
   "cell_type": "code",
   "execution_count": 21,
   "metadata": {},
   "outputs": [],
   "source": [
    "driver.execute_script(\"alert('selenium test');\")"
   ]
  },
  {
   "cell_type": "code",
   "execution_count": 22,
   "metadata": {},
   "outputs": [
    {
     "name": "stdout",
     "output_type": "stream",
     "text": [
      "selenium test\n"
     ]
    }
   ],
   "source": [
    "# alert 체크\n",
    "try:\n",
    "    alert = driver.switch_to.alert\n",
    "    print(alert.text)\n",
    "except:\n",
    "    print('alert 없음')"
   ]
  },
  {
   "cell_type": "code",
   "execution_count": 23,
   "metadata": {},
   "outputs": [],
   "source": [
    "# alert 확인 버튼 누르기\n",
    "alert.accept()"
   ]
  },
  {
   "cell_type": "markdown",
   "metadata": {},
   "source": [
    "### 2.7 버튼 클릭하기\n",
    "- selenium driver의 css selector와 click 함수를 이용하여 웹페이지의 input 태그에 문자열을 입력할수 있습니다."
   ]
  },
  {
   "cell_type": "code",
   "execution_count": 25,
   "metadata": {},
   "outputs": [],
   "source": [
    "from selenium.webdriver.common.by import By"
   ]
  },
  {
   "cell_type": "code",
   "execution_count": 26,
   "metadata": {},
   "outputs": [],
   "source": [
    "driver.find_element(By.CSS_SELECTOR,\".MyView-module__link_login___HpHMW\").click()"
   ]
  },
  {
   "cell_type": "markdown",
   "metadata": {},
   "source": [
    "### 2.8 윈도우 및 브라우져 종료하기\n",
    "- selenium dirver의 quit 함수를 이용하여 윈도우 창을 닫을수 있습니다"
   ]
  },
  {
   "cell_type": "code",
   "execution_count": 28,
   "metadata": {},
   "outputs": [],
   "source": [
    "# 브라우져 닫기\n",
    "driver.quit()"
   ]
  },
  {
   "cell_type": "code",
   "execution_count": null,
   "metadata": {},
   "outputs": [],
   "source": []
  },
  {
   "cell_type": "code",
   "execution_count": null,
   "metadata": {},
   "outputs": [],
   "source": []
  }
 ],
 "metadata": {
  "kernelspec": {
   "display_name": "Python [conda env:base] *",
   "language": "python",
   "name": "conda-base-py"
  },
  "language_info": {
   "codemirror_mode": {
    "name": "ipython",
    "version": 3
   },
   "file_extension": ".py",
   "mimetype": "text/x-python",
   "name": "python",
   "nbconvert_exporter": "python",
   "pygments_lexer": "ipython3",
   "version": "3.12.7"
  }
 },
 "nbformat": 4,
 "nbformat_minor": 4
}
