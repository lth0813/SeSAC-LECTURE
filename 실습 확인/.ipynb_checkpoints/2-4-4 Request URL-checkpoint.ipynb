{
 "cells": [
  {
   "cell_type": "markdown",
   "metadata": {},
   "source": [
    "# 다음 주식 정보 가져오기"
   ]
  },
  {
   "cell_type": "code",
   "execution_count": 1,
   "metadata": {},
   "outputs": [
    {
     "name": "stdout",
     "output_type": "stream",
     "text": [
      "Requirement already satisfied: fake-useragent in c:\\users\\bbobb\\appdata\\roaming\\python\\python312\\site-packages (2.0.3)\n"
     ]
    }
   ],
   "source": [
    "!pip install fake-useragent"
   ]
  },
  {
   "cell_type": "code",
   "execution_count": 11,
   "metadata": {},
   "outputs": [],
   "source": [
    "import json\n",
    "import urllib.request as req\n",
    "from fake_useragent import UserAgent"
   ]
  },
  {
   "cell_type": "code",
   "execution_count": 12,
   "metadata": {},
   "outputs": [],
   "source": [
    "# Fake Header 정보(가상으로 User-Agent 생성)\n",
    "ua = UserAgent()"
   ]
  },
  {
   "cell_type": "code",
   "execution_count": 13,
   "metadata": {},
   "outputs": [
    {
     "name": "stderr",
     "output_type": "stream",
     "text": [
      "Error occurred during getting browser(s): ie, but was suppressed with fallback.\n"
     ]
    }
   ],
   "source": [
    "# 헤더 선언\n",
    "headers = {\n",
    "    'User-Agent': ua.ie,\n",
    "    'referer': 'https://finance.daum.net/'\n",
    "}"
   ]
  },
  {
   "cell_type": "code",
   "execution_count": 14,
   "metadata": {},
   "outputs": [],
   "source": [
    "# 다음 주식 요청 URL\n",
    "url = \"https://finance.daum.net/api/search/ranks?limit=10\""
   ]
  },
  {
   "cell_type": "code",
   "execution_count": 15,
   "metadata": {},
   "outputs": [],
   "source": [
    "# 요청\n",
    "res = req.urlopen(req.Request(url, headers=headers)).read().decode('utf-8')\n"
   ]
  },
  {
   "cell_type": "code",
   "execution_count": 16,
   "metadata": {},
   "outputs": [],
   "source": [
    "# 응답 데이터 확인(Json Data)\n",
    "# print('res', res)"
   ]
  },
  {
   "cell_type": "code",
   "execution_count": 17,
   "metadata": {},
   "outputs": [],
   "source": [
    "# 응답 데이터 str -> json 변환 및 data 값 저장\n",
    "rank_json = json.loads(res)['data']"
   ]
  },
  {
   "cell_type": "code",
   "execution_count": 18,
   "metadata": {},
   "outputs": [
    {
     "name": "stdout",
     "output_type": "stream",
     "text": [
      "중간 확인 :  [{'rank': 1, 'rankChange': 0, 'symbolCode': 'A005930', 'shortCode': 'A005930', 'code': 'KR7005930003', 'name': '삼성전자', 'isNew': False, 'tradePrice': 54300, 'change': 'RISE', 'changePrice': 800, 'changeRate': 0.014953271, 'signedChangeRate': 0.014953271, 'accTradeVolume': 18152315, 'accTradePrice': 974086391400, 'chartSlideImage': None, 'boardUrl': 'https://finance.daum.net/quotes/A005930#talks'}, {'rank': 2, 'rankChange': 0, 'symbolCode': 'A034020', 'shortCode': 'A034020', 'code': 'KR7034020008', 'name': '두산에너빌리티', 'isNew': False, 'tradePrice': 23950, 'change': 'RISE', 'changePrice': 1900, 'changeRate': 0.0861678005, 'signedChangeRate': 0.0861678005, 'accTradeVolume': 30976391, 'accTradePrice': 738054924150, 'chartSlideImage': None, 'boardUrl': 'https://finance.daum.net/quotes/A034020#talks'}, {'rank': 3, 'rankChange': 2, 'symbolCode': 'A042660', 'shortCode': 'A042660', 'code': 'KR7042660001', 'name': '한화오션', 'isNew': False, 'tradePrice': 52900, 'change': 'FALL', 'changePrice': -1800, 'changeRate': -0.0329067642, 'signedChangeRate': -0.0329067642, 'accTradeVolume': 8684983, 'accTradePrice': 475628053100, 'chartSlideImage': None, 'boardUrl': 'https://finance.daum.net/quotes/A042660#talks'}, {'rank': 4, 'rankChange': 0, 'symbolCode': 'A000660', 'shortCode': 'A000660', 'code': 'KR7000660001', 'name': 'SK하이닉스', 'isNew': False, 'tradePrice': 225500, 'change': 'RISE', 'changePrice': 7500, 'changeRate': 0.0344036697, 'signedChangeRate': 0.0344036697, 'accTradeVolume': 5621306, 'accTradePrice': 1254918658500, 'chartSlideImage': None, 'boardUrl': 'https://finance.daum.net/quotes/A000660#talks'}, {'rank': 5, 'rankChange': -2, 'symbolCode': 'A042700', 'shortCode': 'A042700', 'code': 'KR7042700005', 'name': '한미반도체', 'isNew': False, 'tradePrice': 126100, 'change': 'RISE', 'changePrice': 12500, 'changeRate': 0.1100352113, 'signedChangeRate': 0.1100352113, 'accTradeVolume': 3357447, 'accTradePrice': 410615019200, 'chartSlideImage': None, 'boardUrl': 'https://finance.daum.net/quotes/A042700#talks'}, {'rank': 6, 'rankChange': 2, 'symbolCode': 'A010140', 'shortCode': 'A010140', 'code': 'KR7010140002', 'name': '삼성중공업', 'isNew': False, 'tradePrice': 13300, 'change': 'FALL', 'changePrice': -370, 'changeRate': -0.0270665691, 'signedChangeRate': -0.0270665691, 'accTradeVolume': 10716316, 'accTradePrice': 144973995660, 'chartSlideImage': None, 'boardUrl': 'https://finance.daum.net/quotes/A010140#talks'}, {'rank': 7, 'rankChange': 0, 'symbolCode': 'A196170', 'shortCode': 'A196170', 'code': 'KR7196170005', 'name': '알테오젠', 'isNew': True, 'tradePrice': 342000, 'change': 'RISE', 'changePrice': 17000, 'changeRate': 0.0523076923, 'signedChangeRate': 0.0523076923, 'accTradeVolume': 753066, 'accTradePrice': 256572712000, 'chartSlideImage': None, 'boardUrl': 'https://finance.daum.net/quotes/A196170#talks'}, {'rank': 8, 'rankChange': 0, 'symbolCode': 'A004870', 'shortCode': 'A004870', 'code': 'KR7004870002', 'name': '티웨이홀딩스', 'isNew': True, 'tradePrice': 1204, 'change': 'RISE', 'changePrice': 187, 'changeRate': 0.1838741396, 'signedChangeRate': 0.1838741396, 'accTradeVolume': 103681094, 'accTradePrice': 124928667270, 'chartSlideImage': None, 'boardUrl': 'https://finance.daum.net/quotes/A004870#talks'}, {'rank': 9, 'rankChange': -2, 'symbolCode': 'A000720', 'shortCode': 'A000720', 'code': 'KR7000720003', 'name': '현대건설', 'isNew': False, 'tradePrice': 28450, 'change': 'RISE', 'changePrice': 2350, 'changeRate': 0.0900383142, 'signedChangeRate': 0.0900383142, 'accTradeVolume': 3219366, 'accTradePrice': 89071265100, 'chartSlideImage': None, 'boardUrl': 'https://finance.daum.net/quotes/A000720#talks'}, {'rank': 10, 'rankChange': 0, 'symbolCode': 'A011200', 'shortCode': 'A011200', 'code': 'KR7011200003', 'name': 'HMM', 'isNew': True, 'tradePrice': 19170, 'change': 'RISE', 'changePrice': 1120, 'changeRate': 0.0620498615, 'signedChangeRate': 0.0620498615, 'accTradeVolume': 5335541, 'accTradePrice': 101377092900, 'chartSlideImage': None, 'boardUrl': 'https://finance.daum.net/quotes/A011200#talks'}] \n",
      "\n"
     ]
    }
   ],
   "source": [
    "# 중간 확인\n",
    "print('중간 확인 : ', rank_json, '\\n')"
   ]
  },
  {
   "cell_type": "code",
   "execution_count": 19,
   "metadata": {},
   "outputs": [
    {
     "name": "stdout",
     "output_type": "stream",
     "text": [
      "순위 : 1, 금액 : 54300, 회사명 : 삼성전자\n",
      "순위 : 2, 금액 : 23950, 회사명 : 두산에너빌리티\n",
      "순위 : 3, 금액 : 52900, 회사명 : 한화오션\n",
      "순위 : 4, 금액 : 225500, 회사명 : SK하이닉스\n",
      "순위 : 5, 금액 : 126100, 회사명 : 한미반도체\n",
      "순위 : 6, 금액 : 13300, 회사명 : 삼성중공업\n",
      "순위 : 7, 금액 : 342000, 회사명 : 알테오젠\n",
      "순위 : 8, 금액 : 1204, 회사명 : 티웨이홀딩스\n",
      "순위 : 9, 금액 : 28450, 회사명 : 현대건설\n",
      "순위 : 10, 금액 : 19170, 회사명 : HMM\n"
     ]
    }
   ],
   "source": [
    "for elm in rank_json:\n",
    "    # print(type(elm)) #Type 확인\n",
    "    print('순위 : {}, 금액 : {}, 회사명 : {}'.format(elm['rank'], elm['tradePrice'], elm['name']), )"
   ]
  },
  {
   "cell_type": "code",
   "execution_count": null,
   "metadata": {},
   "outputs": [],
   "source": []
  },
  {
   "cell_type": "code",
   "execution_count": null,
   "metadata": {},
   "outputs": [],
   "source": []
  }
 ],
 "metadata": {
  "kernelspec": {
   "display_name": "Python 3 (ipykernel)",
   "language": "python",
   "name": "python3"
  },
  "language_info": {
   "codemirror_mode": {
    "name": "ipython",
    "version": 3
   },
   "file_extension": ".py",
   "mimetype": "text/x-python",
   "name": "python",
   "nbconvert_exporter": "python",
   "pygments_lexer": "ipython3",
   "version": "3.12.4"
  }
 },
 "nbformat": 4,
 "nbformat_minor": 4
}
