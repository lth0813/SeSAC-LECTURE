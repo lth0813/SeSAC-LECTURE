{
 "cells": [
  {
   "cell_type": "markdown",
   "metadata": {},
   "source": [
    "# urlopen 함수 기초 사용법"
   ]
  },
  {
   "cell_type": "code",
   "execution_count": 1,
   "metadata": {},
   "outputs": [],
   "source": [
    "import urllib.request as req\n",
    "from urllib.error import URLError, HTTPError"
   ]
  },
  {
   "cell_type": "code",
   "execution_count": 2,
   "metadata": {},
   "outputs": [],
   "source": [
    "# 다운로드 경로 및 파일명\n",
    "path_list = [\"c:\\\\MyExam\\\\test1.jpg\", \"c:\\\\MyExam\\\\index.html\"]"
   ]
  },
  {
   "cell_type": "code",
   "execution_count": 5,
   "metadata": {},
   "outputs": [],
   "source": [
    "# 다운로드 리소스 URL \"http://post.phinf.naver.net/20160621_169/1466482468068lmSHj_JPEG/If7GeIbOPZuYwI-GI3xU7ENRrlfI.jpg\"\n",
    "target_url = [\"https://img1.daumcdn.net/thumb/R1280x0/?scode=mtistory2&fname=https%3A%2F%2Ft1.daumcdn.net%2Fcfile%2Ftistory%2F993A193B5E9EA3AF14\", \n",
    "              \"https://google.com\"]"
   ]
  },
  {
   "cell_type": "code",
   "execution_count": 6,
   "metadata": {
    "scrolled": true
   },
   "outputs": [
    {
     "name": "stdout",
     "output_type": "stream",
     "text": [
      "---------------------------------------------------\n",
      "Header Info-0 : Server: openresty\n",
      "Content-Type: image/jpeg\n",
      "Content-Length: 116553\n",
      "Last-Modified: Mon, 18 Nov 2024 03:35:31 GMT\n",
      "Accept-Ranges: bytes\n",
      "X-WCSS: dC1pbWcwMS1id2NhY2hlNTI6aGl0OjE3\n",
      "Cache-Control: max-age=6996\n",
      "Expires: Wed, 22 Jan 2025 08:43:10 GMT\n",
      "Date: Wed, 22 Jan 2025 06:46:34 GMT\n",
      "Connection: close\n",
      "Access-Control-Allow-Origin: *\n",
      "\n",
      "\n",
      "HTTP Status Code : 200\n",
      "\n",
      "---------------------------------------------------\n",
      "\n",
      "Download Succeed.\n",
      "---------------------------------------------------\n",
      "Header Info-1 : Date: Wed, 22 Jan 2025 06:46:35 GMT\n",
      "Expires: -1\n",
      "Cache-Control: private, max-age=0\n",
      "Content-Type: text/html; charset=ISO-8859-1\n",
      "Content-Security-Policy-Report-Only: object-src 'none';base-uri 'self';script-src 'nonce-LGXZvBGrOGmQn4t39B3YtA' 'strict-dynamic' 'report-sample' 'unsafe-eval' 'unsafe-inline' https: http:;report-uri https://csp.withgoogle.com/csp/gws/other-hp\n",
      "Accept-CH: Sec-CH-Prefers-Color-Scheme\n",
      "P3P: CP=\"This is not a P3P policy! See g.co/p3phelp for more info.\"\n",
      "Server: gws\n",
      "X-XSS-Protection: 0\n",
      "X-Frame-Options: SAMEORIGIN\n",
      "Set-Cookie: AEC=AZ6Zc-UAff1vtDTXz1RZktJ-Dv73XdxCHxY45CugPJqCtzhjr7QjZYcK0F4; expires=Mon, 21-Jul-2025 06:46:35 GMT; path=/; domain=.google.com; Secure; HttpOnly; SameSite=lax\n",
      "Set-Cookie: NID=520=ZA0URK3MZs0Nw5eKoeT4OQom7uFnDPLvXm107sEo6oUaxuBtNwMKW0tONl0L6zSlTI_UpztdgE5iMMTVyoI55Z82FABvHO11RZvW_-Y_ruhq2X0C1XLuQoWqJqXqc0jBxpYMB3oGRvX8tp3NEYLfi_b4PVqDFrHVSOufFnr5_hnkZJi3bY-fbO2oey6XQV0Y1c90GwCKDB-m; expires=Thu, 24-Jul-2025 06:46:35 GMT; path=/; domain=.google.com; HttpOnly\n",
      "Alt-Svc: h3=\":443\"; ma=2592000,h3-29=\":443\"; ma=2592000\n",
      "Accept-Ranges: none\n",
      "Vary: Accept-Encoding\n",
      "Connection: close\n",
      "Transfer-Encoding: chunked\n",
      "\n",
      "\n",
      "HTTP Status Code : 200\n",
      "\n",
      "---------------------------------------------------\n",
      "\n",
      "Download Succeed.\n"
     ]
    }
   ],
   "source": [
    "for i, url in enumerate(target_url):\n",
    "    # 예외 처리\n",
    "    try:\n",
    "        # 웹 수신 정보 읽기\n",
    "        response = req.urlopen(url)\n",
    "        \n",
    "        # 수신 내용\n",
    "        contents = response.read()\n",
    "\n",
    "        print('---------------------------------------------------')\n",
    "\n",
    "        # 상태 정보 중간 출력\n",
    "        print('Header Info-{} : {}'.format(i, response.info()))\n",
    "        print('HTTP Status Code : {}'.format(response.getcode()))\n",
    "        print()\n",
    "        print('---------------------------------------------------')\n",
    "\n",
    "        # 파일 쓰기\n",
    "        with open(path_list[i], 'wb') as c:\n",
    "            c.write(contents)\n",
    "\n",
    "        # HTTP 에러 발생 시\n",
    "    except HTTPError as e:\n",
    "        print(\"Download failed.\")\n",
    "        print('HTTPError Code : ', e.code)\n",
    "\n",
    "        # URL 에러 발생 시\n",
    "    except URLError as e:\n",
    "        print(\"Download failed.\")\n",
    "        print('URL Error Reason : ', e.reason)\n",
    "\n",
    "        # 성공\n",
    "    else:\n",
    "        print()\n",
    "        print(\"Download Succeed.\")\n"
   ]
  },
  {
   "cell_type": "code",
   "execution_count": null,
   "metadata": {},
   "outputs": [],
   "source": []
  },
  {
   "cell_type": "code",
   "execution_count": null,
   "metadata": {},
   "outputs": [],
   "source": []
  }
 ],
 "metadata": {
  "kernelspec": {
   "display_name": "Python 3 (ipykernel)",
   "language": "python",
   "name": "python3"
  },
  "language_info": {
   "codemirror_mode": {
    "name": "ipython",
    "version": 3
   },
   "file_extension": ".py",
   "mimetype": "text/x-python",
   "name": "python",
   "nbconvert_exporter": "python",
   "pygments_lexer": "ipython3",
   "version": "3.12.4"
  }
 },
 "nbformat": 4,
 "nbformat_minor": 4
}
