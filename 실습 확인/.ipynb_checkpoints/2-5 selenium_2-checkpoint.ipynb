{
 "cells": [
  {
   "cell_type": "markdown",
   "metadata": {},
   "source": [
    "### 네이버 기사 크롤링\n",
    "- http://news.naver.com/main/main.nhn?mode=LSD&mid=shm&sid1=105\n",
    "- thread 사용"
   ]
  },
  {
   "cell_type": "code",
   "execution_count": 2,
   "metadata": {},
   "outputs": [],
   "source": [
    "from selenium import webdriver"
   ]
  },
  {
   "cell_type": "code",
   "execution_count": 3,
   "metadata": {},
   "outputs": [],
   "source": [
    "from selenium.webdriver.chrome.service import Service as ChromeService\n",
    "from webdriver_manager.chrome import ChromeDriverManager"
   ]
  },
  {
   "cell_type": "code",
   "execution_count": 4,
   "metadata": {},
   "outputs": [],
   "source": [
    "from selenium.webdriver.common.by import By"
   ]
  },
  {
   "cell_type": "code",
   "execution_count": 5,
   "metadata": {},
   "outputs": [],
   "source": [
    "article_list = []\n",
    "\n",
    "def get_article(page):\n",
    "    ## driver = webdriver.Chrome(\"C:/Myexam/chromedriver/chromedriver.exe\")\n",
    "    \n",
    "    driver = webdriver.Chrome(service=ChromeService(ChromeDriverManager().install()))\n",
    "    \n",
    "    driver.get(\"https://news.naver.com/section/10\" + str(page))\n",
    "    articles = driver.find_elements(By.CSS_SELECTOR,'#newsct li')\n",
    "    \n",
    "\n",
    "    for article in articles:\n",
    "        try:\n",
    "            tmp_elements = article.find_elements(By.CSS_SELECTOR, '.sa_text strong')\n",
    "            if tmp_elements:\n",
    "                title = tmp_elements[0].text\n",
    "            else:\n",
    "                tmp_elements2 = article.find_elements(By.CSS_SELECTOR, '.ss_text a')\n",
    "                if tmp_elements2:\n",
    "                    title = tmp_elements2[0].text\n",
    "                else:\n",
    "                    title = \"해당 정보 없음\"\n",
    "        \n",
    "            article_list.append(title)\n",
    "        except:\n",
    "            print(\"에러 발생!\")\n",
    "\n",
    "    print(\"end :\", page)\n",
    "\n",
    "    driver.quit()"
   ]
  },
  {
   "cell_type": "code",
   "execution_count": 6,
   "metadata": {},
   "outputs": [
    {
     "name": "stdout",
     "output_type": "stream",
     "text": [
      "end : 1\n",
      "end : 2\n",
      "end : 3\n",
      "end : 4\n",
      "CPU times: total: 531 ms\n",
      "Wall time: 37 s\n"
     ]
    }
   ],
   "source": [
    "%%time\n",
    "for page in range(1, 5):\n",
    "    get_article(page)"
   ]
  },
  {
   "cell_type": "code",
   "execution_count": 28,
   "metadata": {},
   "outputs": [
    {
     "data": {
      "text/plain": [
       "(405,\n",
       " ['“올해도 韓美 경제 성장 격차… 국내 투자 유출 대책 필요”',\n",
       "  '현대제철 노조 부분 파업 돌입⋯일부 생산라인 중단',\n",
       "  '디딤펀드, 출시 100일간 600억 유입…평균수익률 3.29%',\n",
       "  '배민 2월 말부터 상생요금제 시행… 최저 수수료 2.0%',\n",
       "  \"LG디스플레이, 작년 4분기 영업익 831억원 '흑자전환'\",\n",
       "  'HMM, 기업가치 제고 나선다… 1년 내 주주환원 2.5조원',\n",
       "  '고려아연 기관투자자 19곳 중 16곳, MBK·영풍 측 이사 후보만 지지',\n",
       "  '벤츠, 올해 최상위 2종 출시 등 고성능·럭셔리시장 공략 박차',\n",
       "  '포항시-한국에너지기술평가원, 수소융복합 혁신산업 선도 ‘맞손’',\n",
       "  '과학기자재 제조·판매업체 7년간 89건 입찰 담합… 과징금 1.5억',\n",
       "  '자녀 대화상대 부모가 알 수 있다…인스타그램, ‘10대 계정’ 국내 도입',\n",
       "  '정부 최대2조원 들여 국가AI컴퓨팅센터 구축',\n",
       "  '[단독] 배민 바짝 추격하는 쿠팡이츠, 일본 음식 배달 도전장 던졌다',\n",
       "  '정사각형 포기, 릴스도 3분...인스타그램의 틱톡 따라잡기',\n",
       "  '해당 정보 없음',\n",
       "  '해당 정보 없음',\n",
       "  '“22층 반년 만에 구조대 도착”…SK하닉, 트럼프 AI 투자 발표에 ‘활짝’ [투자360]',\n",
       "  '“오를 듯 안 오르네”… 힘없는 게임주, 반등은 언제',\n",
       "  \"'민간외교관' 김동관, 트럼프 2기 핵심 인사들 만나…조선·방산 협력 모색\",\n",
       "  \"'세계 1등' 유튜버 미스터비스트, 틱톡 인수전 공식 합류\",\n",
       "  '코스피, 두 달 반 만에 2540선 마감…SK하이닉스 3%↑',\n",
       "  '환율, 트럼프 경계심에 하락폭 축소…1.9원 내린 1,437.6원',\n",
       "  '트럼프 신고식 겪을 자동차·배터리주…수혜주vs피해주 향방은?',\n",
       "  '현대제철, 올해 1801t 판매 계획…‘고로+전기로’ 친환경철 내년부터 양산 [비즈360]',\n",
       "  '티웨이항공 경영권 분쟁 고조…티웨이홀딩스 이틀째 급등(종합)',\n",
       "  \"국내 증시 회복에 외국인만 '활짝'...웃지 못하는 개인\",\n",
       "  '서울시-현대차 GBC 협상, 이르면 2월 재개…55층 유지하나',\n",
       "  \"코스피 美관세 우려 덜자 '훨훨' 두달 반만에 2,540대 회복(종합)\",\n",
       "  '트럼프 첫 행정명령에 울고 웃은 한국 기업들',\n",
       "  '욕조서 발견된 日여배우, 이 병에 사망?…겨울도 방심하면 안되는 이유'])"
      ]
     },
     "execution_count": 28,
     "metadata": {},
     "output_type": "execute_result"
    }
   ],
   "source": [
    "len(article_list), article_list[:30]"
   ]
  },
  {
   "cell_type": "markdown",
   "metadata": {},
   "source": [
    "##### pandas사용"
   ]
  },
  {
   "cell_type": "code",
   "execution_count": 9,
   "metadata": {},
   "outputs": [],
   "source": [
    "import threading\n",
    "import pandas as pd\n",
    "\n",
    "df = pd.DataFrame(columns=[\"title\"])"
   ]
  },
  {
   "cell_type": "code",
   "execution_count": 10,
   "metadata": {},
   "outputs": [],
   "source": [
    "def get_article(page):\n",
    "    #driver = webdriver.Chrome(\"C:/Myexam/chromedriver/chromedriver.exe\")\n",
    "    \n",
    "    driver = webdriver.Chrome(service=ChromeService(ChromeDriverManager().install()))\n",
    "    \n",
    "    driver.get(\n",
    "        \"https://news.naver.com/section/10\" + str(page))\n",
    "    articles = driver.find_elements(By.CSS_SELECTOR,'#newsct li')\n",
    "\n",
    "    for article in articles:\n",
    "        try:\n",
    "            tmp_elements = article.find_elements(By.CSS_SELECTOR, '.sa_text strong')\n",
    "            if tmp_elements:\n",
    "                title = tmp_elements[0].text\n",
    "            else:\n",
    "                tmp_elements2 = article.find_elements(By.CSS_SELECTOR, '.ss_text a')\n",
    "                if tmp_elements2:\n",
    "                    title = tmp_elements2[0].text\n",
    "                else:\n",
    "                    title = \"해당 정보 없음\"\n",
    "        except:\n",
    "            print(\"에러 발생!\")\n",
    "        \n",
    "    \n",
    "        df.loc[len(df)] = {\n",
    "            \"title\": title,\n",
    "        }\n",
    "\n",
    "    driver.quit()"
   ]
  },
  {
   "cell_type": "code",
   "execution_count": 11,
   "metadata": {},
   "outputs": [
    {
     "name": "stdout",
     "output_type": "stream",
     "text": [
      "CPU times: total: 516 ms\n",
      "Wall time: 32.7 s\n"
     ]
    }
   ],
   "source": [
    "%%time\n",
    "for page in range(1, 5):\n",
    "    get_article(page)"
   ]
  },
  {
   "cell_type": "code",
   "execution_count": 12,
   "metadata": {},
   "outputs": [
    {
     "data": {
      "text/html": [
       "<div>\n",
       "<style scoped>\n",
       "    .dataframe tbody tr th:only-of-type {\n",
       "        vertical-align: middle;\n",
       "    }\n",
       "\n",
       "    .dataframe tbody tr th {\n",
       "        vertical-align: top;\n",
       "    }\n",
       "\n",
       "    .dataframe thead th {\n",
       "        text-align: right;\n",
       "    }\n",
       "</style>\n",
       "<table border=\"1\" class=\"dataframe\">\n",
       "  <thead>\n",
       "    <tr style=\"text-align: right;\">\n",
       "      <th></th>\n",
       "      <th>title</th>\n",
       "    </tr>\n",
       "  </thead>\n",
       "  <tbody>\n",
       "    <tr>\n",
       "      <th>0</th>\n",
       "      <td>김상현 롯데쇼핑 부회장 \"4C 실천으로 위기를 기회로\"…전 임직원에 메시지 전달</td>\n",
       "    </tr>\n",
       "    <tr>\n",
       "      <th>1</th>\n",
       "      <td>현대건설, 지난해 영업손실 1조2209억원…“수익 정상화에 박차”</td>\n",
       "    </tr>\n",
       "    <tr>\n",
       "      <th>2</th>\n",
       "      <td>대한상의·교육부, '위-밋 프로젝트' 31개 우수사례 시상</td>\n",
       "    </tr>\n",
       "    <tr>\n",
       "      <th>3</th>\n",
       "      <td>배민, 다음 달부터 중개 이용료 2.0∼7.8%로 인하</td>\n",
       "    </tr>\n",
       "    <tr>\n",
       "      <th>4</th>\n",
       "      <td>민간 사전청약 취소 피해자 구제...후속 단지 ‘우선공급’ 한다</td>\n",
       "    </tr>\n",
       "    <tr>\n",
       "      <th>...</th>\n",
       "      <td>...</td>\n",
       "    </tr>\n",
       "    <tr>\n",
       "      <th>197</th>\n",
       "      <td>중국 과학자, ‘인공태양’ 1억도씨에서 1066초 유지 성공</td>\n",
       "    </tr>\n",
       "    <tr>\n",
       "      <th>198</th>\n",
       "      <td>트럼프 “대중국 10% 관세 2월1일 부과 고려…EU도 관세 대상”</td>\n",
       "    </tr>\n",
       "    <tr>\n",
       "      <th>199</th>\n",
       "      <td>머스크에 힘 실어주는 트럼프…틱톡 인수 허용에 우주위 폐지도 검토</td>\n",
       "    </tr>\n",
       "    <tr>\n",
       "      <th>200</th>\n",
       "      <td>“나라 사랑해서” 경찰 폭행?…트럼프가 곧장 사면한 ‘폭도들’ 정체</td>\n",
       "    </tr>\n",
       "    <tr>\n",
       "      <th>201</th>\n",
       "      <td>머스크 '정부효율부' 윤곽…백악관 직속, 부처 기밀 접근 권한</td>\n",
       "    </tr>\n",
       "  </tbody>\n",
       "</table>\n",
       "<p>202 rows × 1 columns</p>\n",
       "</div>"
      ],
      "text/plain": [
       "                                            title\n",
       "0    김상현 롯데쇼핑 부회장 \"4C 실천으로 위기를 기회로\"…전 임직원에 메시지 전달\n",
       "1            현대건설, 지난해 영업손실 1조2209억원…“수익 정상화에 박차”\n",
       "2                대한상의·교육부, '위-밋 프로젝트' 31개 우수사례 시상\n",
       "3                  배민, 다음 달부터 중개 이용료 2.0∼7.8%로 인하\n",
       "4             민간 사전청약 취소 피해자 구제...후속 단지 ‘우선공급’ 한다\n",
       "..                                            ...\n",
       "197             중국 과학자, ‘인공태양’ 1억도씨에서 1066초 유지 성공\n",
       "198         트럼프 “대중국 10% 관세 2월1일 부과 고려…EU도 관세 대상”\n",
       "199          머스크에 힘 실어주는 트럼프…틱톡 인수 허용에 우주위 폐지도 검토\n",
       "200         “나라 사랑해서” 경찰 폭행?…트럼프가 곧장 사면한 ‘폭도들’ 정체\n",
       "201            머스크 '정부효율부' 윤곽…백악관 직속, 부처 기밀 접근 권한\n",
       "\n",
       "[202 rows x 1 columns]"
      ]
     },
     "execution_count": 12,
     "metadata": {},
     "output_type": "execute_result"
    }
   ],
   "source": [
    "df"
   ]
  },
  {
   "cell_type": "code",
   "execution_count": 13,
   "metadata": {},
   "outputs": [
    {
     "data": {
      "text/plain": [
       "(202, 1)"
      ]
     },
     "execution_count": 13,
     "metadata": {},
     "output_type": "execute_result"
    }
   ],
   "source": [
    "df.shape"
   ]
  },
  {
   "cell_type": "code",
   "execution_count": null,
   "metadata": {},
   "outputs": [],
   "source": []
  }
 ],
 "metadata": {
  "kernelspec": {
   "display_name": "Python [conda env:base] *",
   "language": "python",
   "name": "conda-base-py"
  },
  "language_info": {
   "codemirror_mode": {
    "name": "ipython",
    "version": 3
   },
   "file_extension": ".py",
   "mimetype": "text/x-python",
   "name": "python",
   "nbconvert_exporter": "python",
   "pygments_lexer": "ipython3",
   "version": "3.12.7"
  }
 },
 "nbformat": 4,
 "nbformat_minor": 4
}
